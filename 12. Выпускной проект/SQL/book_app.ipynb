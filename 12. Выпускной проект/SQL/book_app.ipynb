{
 "cells": [
  {
   "cell_type": "markdown",
   "metadata": {},
   "source": [
    "# Описание проекта"
   ]
  },
  {
   "cell_type": "markdown",
   "metadata": {},
   "source": [
    "Коронавирус застал мир врасплох, изменив привычный порядок вещей. В свободное время жители городов больше не выходят на улицу, не посещают кафе и торговые центры. Зато стало больше времени для книг. Это заметили стартаперы — и бросились создавать приложения для тех, кто любит читать.\n",
    "\n",
    "Ваша компания решила быть на волне и купила крупный сервис для чтения книг по подписке. Ваша первая задача как аналитика — проанализировать базу данных.\n",
    "В ней — информация о книгах, издательствах, авторах, а также пользовательские обзоры книг. Эти данные помогут сформулировать ценностное предложение для нового продукта."
   ]
  },
  {
   "cell_type": "markdown",
   "metadata": {},
   "source": [
    "# Описание данных"
   ]
  },
  {
   "cell_type": "markdown",
   "metadata": {},
   "source": [
    "**Таблица `books`**\n",
    "\n",
    "Содержит данные о книгах:\n",
    "\n",
    "- `book_id` — идентификатор книги;\n",
    "- `author_id` — идентификатор автора;\n",
    "- `title` — название книги;\n",
    "- `num_pages` — количество страниц;\n",
    "- `publication_date` — дата публикации книги;\n",
    "- `publisher_id` — идентификатор издателя.\n",
    "\n",
    "**Таблица `authors`**\n",
    "\n",
    "Содержит данные об авторах:\n",
    "\n",
    "- `author_id` — идентификатор автора;\n",
    "- `author` — имя автора.\n",
    "\n",
    "**Таблица `publishers`**\n",
    "\n",
    "Содержит данные об издательствах:\n",
    "\n",
    "- `publisher_id` — идентификатор издательства;\n",
    "- `publisher` — название издательства;\n",
    "\n",
    "**Таблица `ratings`**\n",
    "\n",
    "Содержит данные о пользовательских оценках книг:\n",
    "\n",
    "- `rating_id` — идентификатор оценки;\n",
    "- `book_id` — идентификатор книги;\n",
    "- `username` — имя пользователя, оставившего оценку;\n",
    "- `rating` — оценка книги.\n",
    "\n",
    "**Таблица `reviews`**\n",
    "\n",
    "Содержит данные о пользовательских обзорах на книги:\n",
    "\n",
    "- `review_id` — идентификатор обзора;\n",
    "- `book_id` — идентификатор книги;\n",
    "- `username` — имя пользователя, написавшего обзор;\n",
    "- `text` — текст обзора."
   ]
  },
  {
   "cell_type": "markdown",
   "metadata": {},
   "source": [
    "![avatar](https://pictures.s3.yandex.net/resources/scheme_1589269096.png)"
   ]
  },
  {
   "cell_type": "markdown",
   "metadata": {},
   "source": [
    "# Цели проекта"
   ]
  },
  {
   "cell_type": "markdown",
   "metadata": {},
   "source": [
    "Для формулирования ценностного предложения для нового продукта мы должны исследовать предоставленные данные, а именно:\n",
    "* Посчитать, сколько книг вышло после 1 января 2000 года;\n",
    "* Для каждой книги посчитать количество обзоров и среднюю оценку;\n",
    "* Определить издательство, которое выпустило наибольшее число книг толще 50 страниц (исключаем из анализа брошюры);\n",
    "* Определить автора с самой высокой средней оценкой книг — учитывать только книги с 50 и более оценками;\n",
    "* Посчитать среднее количество обзоров от пользователей, которые поставили больше 50 оценок."
   ]
  },
  {
   "cell_type": "markdown",
   "metadata": {},
   "source": [
    "## Загрузка и обзор данных"
   ]
  },
  {
   "cell_type": "markdown",
   "metadata": {},
   "source": [
    "Импортируем необходимые библиотеки."
   ]
  },
  {
   "cell_type": "code",
   "execution_count": 1,
   "metadata": {},
   "outputs": [],
   "source": [
    "import pandas as pd\n",
    "from sqlalchemy import create_engine"
   ]
  },
  {
   "cell_type": "markdown",
   "metadata": {},
   "source": [
    "Подключаемся к базе."
   ]
  },
  {
   "cell_type": "code",
   "execution_count": 2,
   "metadata": {},
   "outputs": [],
   "source": [
    "# устанавливаем параметры\n",
    "db_config = {'user': 'praktikum_student', # имя пользователя\n",
    "             'pwd': 'Sdf4$2;d-d30pp', # пароль\n",
    "             'host': 'rc1b-wcoijxj3yxfsf3fs.mdb.yandexcloud.net',\n",
    "             'port': 6432, # порт подключения\n",
    "             'db': 'data-analyst-final-project-db'} # название базы данных\n",
    "\n",
    "connection_string = 'postgresql://{}:{}@{}:{}/{}'.format(db_config['user'],\n",
    " db_config['pwd'],\n",
    " db_config['host'],\n",
    " db_config['port'],\n",
    " db_config['db'])\n",
    "\n",
    "# сохраняем коннектор\n",
    "engine = create_engine(connection_string, connect_args={'sslmode':'require'}) "
   ]
  },
  {
   "cell_type": "markdown",
   "metadata": {},
   "source": [
    "Загрузим предоставленные датасеты."
   ]
  },
  {
   "cell_type": "code",
   "execution_count": 3,
   "metadata": {},
   "outputs": [],
   "source": [
    "q_books = ''' SELECT * FROM books; ''' \n",
    "books = pd.io.sql.read_sql(q_books, con = engine)\n",
    "\n",
    "q_authors = ''' SELECT * FROM authors; ''' \n",
    "authors = pd.io.sql.read_sql(q_authors, con = engine)\n",
    "\n",
    "q_ratings = ''' SELECT * FROM ratings; ''' \n",
    "ratings = pd.io.sql.read_sql(q_ratings, con = engine)\n",
    "\n",
    "q_reviews = ''' SELECT * FROM reviews; ''' \n",
    "reviews = pd.io.sql.read_sql(q_reviews, con = engine)\n",
    "\n",
    "q_publishers = ''' SELECT * FROM publishers; ''' \n",
    "publishers = pd.io.sql.read_sql(q_publishers, con = engine)"
   ]
  },
  {
   "cell_type": "markdown",
   "metadata": {},
   "source": [
    "Напишем функцию `inf` для вывода определенной информации о датасете."
   ]
  },
  {
   "cell_type": "code",
   "execution_count": 4,
   "metadata": {},
   "outputs": [],
   "source": [
    "def inf(data: 'DataFrame'):\n",
    "    print()\n",
    "    print ('\\033[1m' + 'Описание данных в таблице' + '\\033[0m')    \n",
    "    print(data.info())\n",
    "    print('')\n",
    "    print ('\\033[1m' + 'Процент пропусков в таблице' + '\\033[0m')    \n",
    "    print(data.isna().mean())\n",
    "    print('')\n",
    "    print ('\\033[1m' + 'Проверка на дубликаты' + '\\033[0m')    \n",
    "    display(data.duplicated().sum())\n",
    "    print('')\n",
    "    print('\\033[1m' + 'Основные статистические данные' + '\\033[0m')\n",
    "    display(data.describe())    \n",
    "    print('')\n",
    "    print ('\\033[1m' + 'Визуальный осмотр данных таблицы' + '\\033[0m')          \n",
    "    display(data.head())"
   ]
  },
  {
   "cell_type": "markdown",
   "metadata": {},
   "source": [
    "### Датасет `books`"
   ]
  },
  {
   "cell_type": "code",
   "execution_count": 5,
   "metadata": {},
   "outputs": [
    {
     "name": "stdout",
     "output_type": "stream",
     "text": [
      "\n",
      "\u001b[1mОписание данных в таблице\u001b[0m\n",
      "<class 'pandas.core.frame.DataFrame'>\n",
      "RangeIndex: 1000 entries, 0 to 999\n",
      "Data columns (total 6 columns):\n",
      "book_id             1000 non-null int64\n",
      "author_id           1000 non-null int64\n",
      "title               1000 non-null object\n",
      "num_pages           1000 non-null int64\n",
      "publication_date    1000 non-null object\n",
      "publisher_id        1000 non-null int64\n",
      "dtypes: int64(4), object(2)\n",
      "memory usage: 47.0+ KB\n",
      "None\n",
      "\n",
      "\u001b[1mПроцент пропусков в таблице\u001b[0m\n",
      "book_id             0.0\n",
      "author_id           0.0\n",
      "title               0.0\n",
      "num_pages           0.0\n",
      "publication_date    0.0\n",
      "publisher_id        0.0\n",
      "dtype: float64\n",
      "\n",
      "\u001b[1mПроверка на дубликаты\u001b[0m\n"
     ]
    },
    {
     "data": {
      "text/plain": [
       "0"
      ]
     },
     "metadata": {},
     "output_type": "display_data"
    },
    {
     "name": "stdout",
     "output_type": "stream",
     "text": [
      "\n",
      "\u001b[1mОсновные статистические данные\u001b[0m\n"
     ]
    },
    {
     "data": {
      "text/html": [
       "<div>\n",
       "<style scoped>\n",
       "    .dataframe tbody tr th:only-of-type {\n",
       "        vertical-align: middle;\n",
       "    }\n",
       "\n",
       "    .dataframe tbody tr th {\n",
       "        vertical-align: top;\n",
       "    }\n",
       "\n",
       "    .dataframe thead th {\n",
       "        text-align: right;\n",
       "    }\n",
       "</style>\n",
       "<table border=\"1\" class=\"dataframe\">\n",
       "  <thead>\n",
       "    <tr style=\"text-align: right;\">\n",
       "      <th></th>\n",
       "      <th>book_id</th>\n",
       "      <th>author_id</th>\n",
       "      <th>num_pages</th>\n",
       "      <th>publisher_id</th>\n",
       "    </tr>\n",
       "  </thead>\n",
       "  <tbody>\n",
       "    <tr>\n",
       "      <td>count</td>\n",
       "      <td>1000.000000</td>\n",
       "      <td>1000.000000</td>\n",
       "      <td>1000.00000</td>\n",
       "      <td>1000.000000</td>\n",
       "    </tr>\n",
       "    <tr>\n",
       "      <td>mean</td>\n",
       "      <td>500.500000</td>\n",
       "      <td>320.417000</td>\n",
       "      <td>389.11100</td>\n",
       "      <td>171.270000</td>\n",
       "    </tr>\n",
       "    <tr>\n",
       "      <td>std</td>\n",
       "      <td>288.819436</td>\n",
       "      <td>181.620172</td>\n",
       "      <td>229.39014</td>\n",
       "      <td>99.082685</td>\n",
       "    </tr>\n",
       "    <tr>\n",
       "      <td>min</td>\n",
       "      <td>1.000000</td>\n",
       "      <td>1.000000</td>\n",
       "      <td>14.00000</td>\n",
       "      <td>1.000000</td>\n",
       "    </tr>\n",
       "    <tr>\n",
       "      <td>25%</td>\n",
       "      <td>250.750000</td>\n",
       "      <td>162.750000</td>\n",
       "      <td>249.00000</td>\n",
       "      <td>83.000000</td>\n",
       "    </tr>\n",
       "    <tr>\n",
       "      <td>50%</td>\n",
       "      <td>500.500000</td>\n",
       "      <td>316.500000</td>\n",
       "      <td>352.00000</td>\n",
       "      <td>177.500000</td>\n",
       "    </tr>\n",
       "    <tr>\n",
       "      <td>75%</td>\n",
       "      <td>750.250000</td>\n",
       "      <td>481.000000</td>\n",
       "      <td>453.00000</td>\n",
       "      <td>258.000000</td>\n",
       "    </tr>\n",
       "    <tr>\n",
       "      <td>max</td>\n",
       "      <td>1000.000000</td>\n",
       "      <td>636.000000</td>\n",
       "      <td>2690.00000</td>\n",
       "      <td>340.000000</td>\n",
       "    </tr>\n",
       "  </tbody>\n",
       "</table>\n",
       "</div>"
      ],
      "text/plain": [
       "           book_id    author_id   num_pages  publisher_id\n",
       "count  1000.000000  1000.000000  1000.00000   1000.000000\n",
       "mean    500.500000   320.417000   389.11100    171.270000\n",
       "std     288.819436   181.620172   229.39014     99.082685\n",
       "min       1.000000     1.000000    14.00000      1.000000\n",
       "25%     250.750000   162.750000   249.00000     83.000000\n",
       "50%     500.500000   316.500000   352.00000    177.500000\n",
       "75%     750.250000   481.000000   453.00000    258.000000\n",
       "max    1000.000000   636.000000  2690.00000    340.000000"
      ]
     },
     "metadata": {},
     "output_type": "display_data"
    },
    {
     "name": "stdout",
     "output_type": "stream",
     "text": [
      "\n",
      "\u001b[1mВизуальный осмотр данных таблицы\u001b[0m\n"
     ]
    },
    {
     "data": {
      "text/html": [
       "<div>\n",
       "<style scoped>\n",
       "    .dataframe tbody tr th:only-of-type {\n",
       "        vertical-align: middle;\n",
       "    }\n",
       "\n",
       "    .dataframe tbody tr th {\n",
       "        vertical-align: top;\n",
       "    }\n",
       "\n",
       "    .dataframe thead th {\n",
       "        text-align: right;\n",
       "    }\n",
       "</style>\n",
       "<table border=\"1\" class=\"dataframe\">\n",
       "  <thead>\n",
       "    <tr style=\"text-align: right;\">\n",
       "      <th></th>\n",
       "      <th>book_id</th>\n",
       "      <th>author_id</th>\n",
       "      <th>title</th>\n",
       "      <th>num_pages</th>\n",
       "      <th>publication_date</th>\n",
       "      <th>publisher_id</th>\n",
       "    </tr>\n",
       "  </thead>\n",
       "  <tbody>\n",
       "    <tr>\n",
       "      <td>0</td>\n",
       "      <td>1</td>\n",
       "      <td>546</td>\n",
       "      <td>'Salem's Lot</td>\n",
       "      <td>594</td>\n",
       "      <td>2005-11-01</td>\n",
       "      <td>93</td>\n",
       "    </tr>\n",
       "    <tr>\n",
       "      <td>1</td>\n",
       "      <td>2</td>\n",
       "      <td>465</td>\n",
       "      <td>1 000 Places to See Before You Die</td>\n",
       "      <td>992</td>\n",
       "      <td>2003-05-22</td>\n",
       "      <td>336</td>\n",
       "    </tr>\n",
       "    <tr>\n",
       "      <td>2</td>\n",
       "      <td>3</td>\n",
       "      <td>407</td>\n",
       "      <td>13 Little Blue Envelopes (Little Blue Envelope...</td>\n",
       "      <td>322</td>\n",
       "      <td>2010-12-21</td>\n",
       "      <td>135</td>\n",
       "    </tr>\n",
       "    <tr>\n",
       "      <td>3</td>\n",
       "      <td>4</td>\n",
       "      <td>82</td>\n",
       "      <td>1491: New Revelations of the Americas Before C...</td>\n",
       "      <td>541</td>\n",
       "      <td>2006-10-10</td>\n",
       "      <td>309</td>\n",
       "    </tr>\n",
       "    <tr>\n",
       "      <td>4</td>\n",
       "      <td>5</td>\n",
       "      <td>125</td>\n",
       "      <td>1776</td>\n",
       "      <td>386</td>\n",
       "      <td>2006-07-04</td>\n",
       "      <td>268</td>\n",
       "    </tr>\n",
       "  </tbody>\n",
       "</table>\n",
       "</div>"
      ],
      "text/plain": [
       "   book_id  author_id                                              title  \\\n",
       "0        1        546                                       'Salem's Lot   \n",
       "1        2        465                 1 000 Places to See Before You Die   \n",
       "2        3        407  13 Little Blue Envelopes (Little Blue Envelope...   \n",
       "3        4         82  1491: New Revelations of the Americas Before C...   \n",
       "4        5        125                                               1776   \n",
       "\n",
       "   num_pages publication_date  publisher_id  \n",
       "0        594       2005-11-01            93  \n",
       "1        992       2003-05-22           336  \n",
       "2        322       2010-12-21           135  \n",
       "3        541       2006-10-10           309  \n",
       "4        386       2006-07-04           268  "
      ]
     },
     "metadata": {},
     "output_type": "display_data"
    }
   ],
   "source": [
    "inf(books)"
   ]
  },
  {
   "cell_type": "markdown",
   "metadata": {},
   "source": [
    "Данные чистые. При необходимости поменяем тип переменной `publication_date` на `datetime` в запросах."
   ]
  },
  {
   "cell_type": "markdown",
   "metadata": {},
   "source": [
    "### Датасет `authors`"
   ]
  },
  {
   "cell_type": "code",
   "execution_count": 6,
   "metadata": {},
   "outputs": [
    {
     "name": "stdout",
     "output_type": "stream",
     "text": [
      "\n",
      "\u001b[1mОписание данных в таблице\u001b[0m\n",
      "<class 'pandas.core.frame.DataFrame'>\n",
      "RangeIndex: 636 entries, 0 to 635\n",
      "Data columns (total 2 columns):\n",
      "author_id    636 non-null int64\n",
      "author       636 non-null object\n",
      "dtypes: int64(1), object(1)\n",
      "memory usage: 10.1+ KB\n",
      "None\n",
      "\n",
      "\u001b[1mПроцент пропусков в таблице\u001b[0m\n",
      "author_id    0.0\n",
      "author       0.0\n",
      "dtype: float64\n",
      "\n",
      "\u001b[1mПроверка на дубликаты\u001b[0m\n"
     ]
    },
    {
     "data": {
      "text/plain": [
       "0"
      ]
     },
     "metadata": {},
     "output_type": "display_data"
    },
    {
     "name": "stdout",
     "output_type": "stream",
     "text": [
      "\n",
      "\u001b[1mОсновные статистические данные\u001b[0m\n"
     ]
    },
    {
     "data": {
      "text/html": [
       "<div>\n",
       "<style scoped>\n",
       "    .dataframe tbody tr th:only-of-type {\n",
       "        vertical-align: middle;\n",
       "    }\n",
       "\n",
       "    .dataframe tbody tr th {\n",
       "        vertical-align: top;\n",
       "    }\n",
       "\n",
       "    .dataframe thead th {\n",
       "        text-align: right;\n",
       "    }\n",
       "</style>\n",
       "<table border=\"1\" class=\"dataframe\">\n",
       "  <thead>\n",
       "    <tr style=\"text-align: right;\">\n",
       "      <th></th>\n",
       "      <th>author_id</th>\n",
       "    </tr>\n",
       "  </thead>\n",
       "  <tbody>\n",
       "    <tr>\n",
       "      <td>count</td>\n",
       "      <td>636.000000</td>\n",
       "    </tr>\n",
       "    <tr>\n",
       "      <td>mean</td>\n",
       "      <td>318.500000</td>\n",
       "    </tr>\n",
       "    <tr>\n",
       "      <td>std</td>\n",
       "      <td>183.741666</td>\n",
       "    </tr>\n",
       "    <tr>\n",
       "      <td>min</td>\n",
       "      <td>1.000000</td>\n",
       "    </tr>\n",
       "    <tr>\n",
       "      <td>25%</td>\n",
       "      <td>159.750000</td>\n",
       "    </tr>\n",
       "    <tr>\n",
       "      <td>50%</td>\n",
       "      <td>318.500000</td>\n",
       "    </tr>\n",
       "    <tr>\n",
       "      <td>75%</td>\n",
       "      <td>477.250000</td>\n",
       "    </tr>\n",
       "    <tr>\n",
       "      <td>max</td>\n",
       "      <td>636.000000</td>\n",
       "    </tr>\n",
       "  </tbody>\n",
       "</table>\n",
       "</div>"
      ],
      "text/plain": [
       "        author_id\n",
       "count  636.000000\n",
       "mean   318.500000\n",
       "std    183.741666\n",
       "min      1.000000\n",
       "25%    159.750000\n",
       "50%    318.500000\n",
       "75%    477.250000\n",
       "max    636.000000"
      ]
     },
     "metadata": {},
     "output_type": "display_data"
    },
    {
     "name": "stdout",
     "output_type": "stream",
     "text": [
      "\n",
      "\u001b[1mВизуальный осмотр данных таблицы\u001b[0m\n"
     ]
    },
    {
     "data": {
      "text/html": [
       "<div>\n",
       "<style scoped>\n",
       "    .dataframe tbody tr th:only-of-type {\n",
       "        vertical-align: middle;\n",
       "    }\n",
       "\n",
       "    .dataframe tbody tr th {\n",
       "        vertical-align: top;\n",
       "    }\n",
       "\n",
       "    .dataframe thead th {\n",
       "        text-align: right;\n",
       "    }\n",
       "</style>\n",
       "<table border=\"1\" class=\"dataframe\">\n",
       "  <thead>\n",
       "    <tr style=\"text-align: right;\">\n",
       "      <th></th>\n",
       "      <th>author_id</th>\n",
       "      <th>author</th>\n",
       "    </tr>\n",
       "  </thead>\n",
       "  <tbody>\n",
       "    <tr>\n",
       "      <td>0</td>\n",
       "      <td>1</td>\n",
       "      <td>A.S. Byatt</td>\n",
       "    </tr>\n",
       "    <tr>\n",
       "      <td>1</td>\n",
       "      <td>2</td>\n",
       "      <td>Aesop/Laura Harris/Laura Gibbs</td>\n",
       "    </tr>\n",
       "    <tr>\n",
       "      <td>2</td>\n",
       "      <td>3</td>\n",
       "      <td>Agatha Christie</td>\n",
       "    </tr>\n",
       "    <tr>\n",
       "      <td>3</td>\n",
       "      <td>4</td>\n",
       "      <td>Alan Brennert</td>\n",
       "    </tr>\n",
       "    <tr>\n",
       "      <td>4</td>\n",
       "      <td>5</td>\n",
       "      <td>Alan Moore/David   Lloyd</td>\n",
       "    </tr>\n",
       "  </tbody>\n",
       "</table>\n",
       "</div>"
      ],
      "text/plain": [
       "   author_id                          author\n",
       "0          1                      A.S. Byatt\n",
       "1          2  Aesop/Laura Harris/Laura Gibbs\n",
       "2          3                 Agatha Christie\n",
       "3          4                   Alan Brennert\n",
       "4          5        Alan Moore/David   Lloyd"
      ]
     },
     "metadata": {},
     "output_type": "display_data"
    }
   ],
   "source": [
    "inf(authors)"
   ]
  },
  {
   "cell_type": "markdown",
   "metadata": {},
   "source": [
    "Данные чистые."
   ]
  },
  {
   "cell_type": "markdown",
   "metadata": {},
   "source": [
    "### Датасет `ratings`"
   ]
  },
  {
   "cell_type": "code",
   "execution_count": 7,
   "metadata": {},
   "outputs": [
    {
     "name": "stdout",
     "output_type": "stream",
     "text": [
      "\n",
      "\u001b[1mОписание данных в таблице\u001b[0m\n",
      "<class 'pandas.core.frame.DataFrame'>\n",
      "RangeIndex: 6456 entries, 0 to 6455\n",
      "Data columns (total 4 columns):\n",
      "rating_id    6456 non-null int64\n",
      "book_id      6456 non-null int64\n",
      "username     6456 non-null object\n",
      "rating       6456 non-null int64\n",
      "dtypes: int64(3), object(1)\n",
      "memory usage: 201.9+ KB\n",
      "None\n",
      "\n",
      "\u001b[1mПроцент пропусков в таблице\u001b[0m\n",
      "rating_id    0.0\n",
      "book_id      0.0\n",
      "username     0.0\n",
      "rating       0.0\n",
      "dtype: float64\n",
      "\n",
      "\u001b[1mПроверка на дубликаты\u001b[0m\n"
     ]
    },
    {
     "data": {
      "text/plain": [
       "0"
      ]
     },
     "metadata": {},
     "output_type": "display_data"
    },
    {
     "name": "stdout",
     "output_type": "stream",
     "text": [
      "\n",
      "\u001b[1mОсновные статистические данные\u001b[0m\n"
     ]
    },
    {
     "data": {
      "text/html": [
       "<div>\n",
       "<style scoped>\n",
       "    .dataframe tbody tr th:only-of-type {\n",
       "        vertical-align: middle;\n",
       "    }\n",
       "\n",
       "    .dataframe tbody tr th {\n",
       "        vertical-align: top;\n",
       "    }\n",
       "\n",
       "    .dataframe thead th {\n",
       "        text-align: right;\n",
       "    }\n",
       "</style>\n",
       "<table border=\"1\" class=\"dataframe\">\n",
       "  <thead>\n",
       "    <tr style=\"text-align: right;\">\n",
       "      <th></th>\n",
       "      <th>rating_id</th>\n",
       "      <th>book_id</th>\n",
       "      <th>rating</th>\n",
       "    </tr>\n",
       "  </thead>\n",
       "  <tbody>\n",
       "    <tr>\n",
       "      <td>count</td>\n",
       "      <td>6456.000000</td>\n",
       "      <td>6456.000000</td>\n",
       "      <td>6456.000000</td>\n",
       "    </tr>\n",
       "    <tr>\n",
       "      <td>mean</td>\n",
       "      <td>3228.500000</td>\n",
       "      <td>510.574195</td>\n",
       "      <td>3.928284</td>\n",
       "    </tr>\n",
       "    <tr>\n",
       "      <td>std</td>\n",
       "      <td>1863.831001</td>\n",
       "      <td>284.141636</td>\n",
       "      <td>0.943303</td>\n",
       "    </tr>\n",
       "    <tr>\n",
       "      <td>min</td>\n",
       "      <td>1.000000</td>\n",
       "      <td>1.000000</td>\n",
       "      <td>1.000000</td>\n",
       "    </tr>\n",
       "    <tr>\n",
       "      <td>25%</td>\n",
       "      <td>1614.750000</td>\n",
       "      <td>291.000000</td>\n",
       "      <td>3.000000</td>\n",
       "    </tr>\n",
       "    <tr>\n",
       "      <td>50%</td>\n",
       "      <td>3228.500000</td>\n",
       "      <td>506.000000</td>\n",
       "      <td>4.000000</td>\n",
       "    </tr>\n",
       "    <tr>\n",
       "      <td>75%</td>\n",
       "      <td>4842.250000</td>\n",
       "      <td>750.000000</td>\n",
       "      <td>5.000000</td>\n",
       "    </tr>\n",
       "    <tr>\n",
       "      <td>max</td>\n",
       "      <td>6456.000000</td>\n",
       "      <td>1000.000000</td>\n",
       "      <td>5.000000</td>\n",
       "    </tr>\n",
       "  </tbody>\n",
       "</table>\n",
       "</div>"
      ],
      "text/plain": [
       "         rating_id      book_id       rating\n",
       "count  6456.000000  6456.000000  6456.000000\n",
       "mean   3228.500000   510.574195     3.928284\n",
       "std    1863.831001   284.141636     0.943303\n",
       "min       1.000000     1.000000     1.000000\n",
       "25%    1614.750000   291.000000     3.000000\n",
       "50%    3228.500000   506.000000     4.000000\n",
       "75%    4842.250000   750.000000     5.000000\n",
       "max    6456.000000  1000.000000     5.000000"
      ]
     },
     "metadata": {},
     "output_type": "display_data"
    },
    {
     "name": "stdout",
     "output_type": "stream",
     "text": [
      "\n",
      "\u001b[1mВизуальный осмотр данных таблицы\u001b[0m\n"
     ]
    },
    {
     "data": {
      "text/html": [
       "<div>\n",
       "<style scoped>\n",
       "    .dataframe tbody tr th:only-of-type {\n",
       "        vertical-align: middle;\n",
       "    }\n",
       "\n",
       "    .dataframe tbody tr th {\n",
       "        vertical-align: top;\n",
       "    }\n",
       "\n",
       "    .dataframe thead th {\n",
       "        text-align: right;\n",
       "    }\n",
       "</style>\n",
       "<table border=\"1\" class=\"dataframe\">\n",
       "  <thead>\n",
       "    <tr style=\"text-align: right;\">\n",
       "      <th></th>\n",
       "      <th>rating_id</th>\n",
       "      <th>book_id</th>\n",
       "      <th>username</th>\n",
       "      <th>rating</th>\n",
       "    </tr>\n",
       "  </thead>\n",
       "  <tbody>\n",
       "    <tr>\n",
       "      <td>0</td>\n",
       "      <td>1</td>\n",
       "      <td>1</td>\n",
       "      <td>ryanfranco</td>\n",
       "      <td>4</td>\n",
       "    </tr>\n",
       "    <tr>\n",
       "      <td>1</td>\n",
       "      <td>2</td>\n",
       "      <td>1</td>\n",
       "      <td>grantpatricia</td>\n",
       "      <td>2</td>\n",
       "    </tr>\n",
       "    <tr>\n",
       "      <td>2</td>\n",
       "      <td>3</td>\n",
       "      <td>1</td>\n",
       "      <td>brandtandrea</td>\n",
       "      <td>5</td>\n",
       "    </tr>\n",
       "    <tr>\n",
       "      <td>3</td>\n",
       "      <td>4</td>\n",
       "      <td>2</td>\n",
       "      <td>lorichen</td>\n",
       "      <td>3</td>\n",
       "    </tr>\n",
       "    <tr>\n",
       "      <td>4</td>\n",
       "      <td>5</td>\n",
       "      <td>2</td>\n",
       "      <td>mariokeller</td>\n",
       "      <td>2</td>\n",
       "    </tr>\n",
       "  </tbody>\n",
       "</table>\n",
       "</div>"
      ],
      "text/plain": [
       "   rating_id  book_id       username  rating\n",
       "0          1        1     ryanfranco       4\n",
       "1          2        1  grantpatricia       2\n",
       "2          3        1   brandtandrea       5\n",
       "3          4        2       lorichen       3\n",
       "4          5        2    mariokeller       2"
      ]
     },
     "metadata": {},
     "output_type": "display_data"
    }
   ],
   "source": [
    "inf(ratings)"
   ]
  },
  {
   "cell_type": "markdown",
   "metadata": {},
   "source": [
    "Данные чистые."
   ]
  },
  {
   "cell_type": "markdown",
   "metadata": {},
   "source": [
    "### Датасет `reviews`"
   ]
  },
  {
   "cell_type": "code",
   "execution_count": 8,
   "metadata": {},
   "outputs": [
    {
     "name": "stdout",
     "output_type": "stream",
     "text": [
      "\n",
      "\u001b[1mОписание данных в таблице\u001b[0m\n",
      "<class 'pandas.core.frame.DataFrame'>\n",
      "RangeIndex: 2793 entries, 0 to 2792\n",
      "Data columns (total 4 columns):\n",
      "review_id    2793 non-null int64\n",
      "book_id      2793 non-null int64\n",
      "username     2793 non-null object\n",
      "text         2793 non-null object\n",
      "dtypes: int64(2), object(2)\n",
      "memory usage: 87.4+ KB\n",
      "None\n",
      "\n",
      "\u001b[1mПроцент пропусков в таблице\u001b[0m\n",
      "review_id    0.0\n",
      "book_id      0.0\n",
      "username     0.0\n",
      "text         0.0\n",
      "dtype: float64\n",
      "\n",
      "\u001b[1mПроверка на дубликаты\u001b[0m\n"
     ]
    },
    {
     "data": {
      "text/plain": [
       "0"
      ]
     },
     "metadata": {},
     "output_type": "display_data"
    },
    {
     "name": "stdout",
     "output_type": "stream",
     "text": [
      "\n",
      "\u001b[1mОсновные статистические данные\u001b[0m\n"
     ]
    },
    {
     "data": {
      "text/html": [
       "<div>\n",
       "<style scoped>\n",
       "    .dataframe tbody tr th:only-of-type {\n",
       "        vertical-align: middle;\n",
       "    }\n",
       "\n",
       "    .dataframe tbody tr th {\n",
       "        vertical-align: top;\n",
       "    }\n",
       "\n",
       "    .dataframe thead th {\n",
       "        text-align: right;\n",
       "    }\n",
       "</style>\n",
       "<table border=\"1\" class=\"dataframe\">\n",
       "  <thead>\n",
       "    <tr style=\"text-align: right;\">\n",
       "      <th></th>\n",
       "      <th>review_id</th>\n",
       "      <th>book_id</th>\n",
       "    </tr>\n",
       "  </thead>\n",
       "  <tbody>\n",
       "    <tr>\n",
       "      <td>count</td>\n",
       "      <td>2793.000000</td>\n",
       "      <td>2793.000000</td>\n",
       "    </tr>\n",
       "    <tr>\n",
       "      <td>mean</td>\n",
       "      <td>1397.000000</td>\n",
       "      <td>504.693161</td>\n",
       "    </tr>\n",
       "    <tr>\n",
       "      <td>std</td>\n",
       "      <td>806.413976</td>\n",
       "      <td>288.472931</td>\n",
       "    </tr>\n",
       "    <tr>\n",
       "      <td>min</td>\n",
       "      <td>1.000000</td>\n",
       "      <td>1.000000</td>\n",
       "    </tr>\n",
       "    <tr>\n",
       "      <td>25%</td>\n",
       "      <td>699.000000</td>\n",
       "      <td>259.000000</td>\n",
       "    </tr>\n",
       "    <tr>\n",
       "      <td>50%</td>\n",
       "      <td>1397.000000</td>\n",
       "      <td>505.000000</td>\n",
       "    </tr>\n",
       "    <tr>\n",
       "      <td>75%</td>\n",
       "      <td>2095.000000</td>\n",
       "      <td>753.000000</td>\n",
       "    </tr>\n",
       "    <tr>\n",
       "      <td>max</td>\n",
       "      <td>2793.000000</td>\n",
       "      <td>1000.000000</td>\n",
       "    </tr>\n",
       "  </tbody>\n",
       "</table>\n",
       "</div>"
      ],
      "text/plain": [
       "         review_id      book_id\n",
       "count  2793.000000  2793.000000\n",
       "mean   1397.000000   504.693161\n",
       "std     806.413976   288.472931\n",
       "min       1.000000     1.000000\n",
       "25%     699.000000   259.000000\n",
       "50%    1397.000000   505.000000\n",
       "75%    2095.000000   753.000000\n",
       "max    2793.000000  1000.000000"
      ]
     },
     "metadata": {},
     "output_type": "display_data"
    },
    {
     "name": "stdout",
     "output_type": "stream",
     "text": [
      "\n",
      "\u001b[1mВизуальный осмотр данных таблицы\u001b[0m\n"
     ]
    },
    {
     "data": {
      "text/html": [
       "<div>\n",
       "<style scoped>\n",
       "    .dataframe tbody tr th:only-of-type {\n",
       "        vertical-align: middle;\n",
       "    }\n",
       "\n",
       "    .dataframe tbody tr th {\n",
       "        vertical-align: top;\n",
       "    }\n",
       "\n",
       "    .dataframe thead th {\n",
       "        text-align: right;\n",
       "    }\n",
       "</style>\n",
       "<table border=\"1\" class=\"dataframe\">\n",
       "  <thead>\n",
       "    <tr style=\"text-align: right;\">\n",
       "      <th></th>\n",
       "      <th>review_id</th>\n",
       "      <th>book_id</th>\n",
       "      <th>username</th>\n",
       "      <th>text</th>\n",
       "    </tr>\n",
       "  </thead>\n",
       "  <tbody>\n",
       "    <tr>\n",
       "      <td>0</td>\n",
       "      <td>1</td>\n",
       "      <td>1</td>\n",
       "      <td>brandtandrea</td>\n",
       "      <td>Mention society tell send professor analysis. ...</td>\n",
       "    </tr>\n",
       "    <tr>\n",
       "      <td>1</td>\n",
       "      <td>2</td>\n",
       "      <td>1</td>\n",
       "      <td>ryanfranco</td>\n",
       "      <td>Foot glass pretty audience hit themselves. Amo...</td>\n",
       "    </tr>\n",
       "    <tr>\n",
       "      <td>2</td>\n",
       "      <td>3</td>\n",
       "      <td>2</td>\n",
       "      <td>lorichen</td>\n",
       "      <td>Listen treat keep worry. Miss husband tax but ...</td>\n",
       "    </tr>\n",
       "    <tr>\n",
       "      <td>3</td>\n",
       "      <td>4</td>\n",
       "      <td>3</td>\n",
       "      <td>johnsonamanda</td>\n",
       "      <td>Finally month interesting blue could nature cu...</td>\n",
       "    </tr>\n",
       "    <tr>\n",
       "      <td>4</td>\n",
       "      <td>5</td>\n",
       "      <td>3</td>\n",
       "      <td>scotttamara</td>\n",
       "      <td>Nation purpose heavy give wait song will. List...</td>\n",
       "    </tr>\n",
       "  </tbody>\n",
       "</table>\n",
       "</div>"
      ],
      "text/plain": [
       "   review_id  book_id       username  \\\n",
       "0          1        1   brandtandrea   \n",
       "1          2        1     ryanfranco   \n",
       "2          3        2       lorichen   \n",
       "3          4        3  johnsonamanda   \n",
       "4          5        3    scotttamara   \n",
       "\n",
       "                                                text  \n",
       "0  Mention society tell send professor analysis. ...  \n",
       "1  Foot glass pretty audience hit themselves. Amo...  \n",
       "2  Listen treat keep worry. Miss husband tax but ...  \n",
       "3  Finally month interesting blue could nature cu...  \n",
       "4  Nation purpose heavy give wait song will. List...  "
      ]
     },
     "metadata": {},
     "output_type": "display_data"
    }
   ],
   "source": [
    "inf(reviews)"
   ]
  },
  {
   "cell_type": "markdown",
   "metadata": {},
   "source": [
    "### Датасет `publishers`"
   ]
  },
  {
   "cell_type": "code",
   "execution_count": 9,
   "metadata": {},
   "outputs": [
    {
     "name": "stdout",
     "output_type": "stream",
     "text": [
      "\n",
      "\u001b[1mОписание данных в таблице\u001b[0m\n",
      "<class 'pandas.core.frame.DataFrame'>\n",
      "RangeIndex: 340 entries, 0 to 339\n",
      "Data columns (total 2 columns):\n",
      "publisher_id    340 non-null int64\n",
      "publisher       340 non-null object\n",
      "dtypes: int64(1), object(1)\n",
      "memory usage: 5.4+ KB\n",
      "None\n",
      "\n",
      "\u001b[1mПроцент пропусков в таблице\u001b[0m\n",
      "publisher_id    0.0\n",
      "publisher       0.0\n",
      "dtype: float64\n",
      "\n",
      "\u001b[1mПроверка на дубликаты\u001b[0m\n"
     ]
    },
    {
     "data": {
      "text/plain": [
       "0"
      ]
     },
     "metadata": {},
     "output_type": "display_data"
    },
    {
     "name": "stdout",
     "output_type": "stream",
     "text": [
      "\n",
      "\u001b[1mОсновные статистические данные\u001b[0m\n"
     ]
    },
    {
     "data": {
      "text/html": [
       "<div>\n",
       "<style scoped>\n",
       "    .dataframe tbody tr th:only-of-type {\n",
       "        vertical-align: middle;\n",
       "    }\n",
       "\n",
       "    .dataframe tbody tr th {\n",
       "        vertical-align: top;\n",
       "    }\n",
       "\n",
       "    .dataframe thead th {\n",
       "        text-align: right;\n",
       "    }\n",
       "</style>\n",
       "<table border=\"1\" class=\"dataframe\">\n",
       "  <thead>\n",
       "    <tr style=\"text-align: right;\">\n",
       "      <th></th>\n",
       "      <th>publisher_id</th>\n",
       "    </tr>\n",
       "  </thead>\n",
       "  <tbody>\n",
       "    <tr>\n",
       "      <td>count</td>\n",
       "      <td>340.000000</td>\n",
       "    </tr>\n",
       "    <tr>\n",
       "      <td>mean</td>\n",
       "      <td>170.500000</td>\n",
       "    </tr>\n",
       "    <tr>\n",
       "      <td>std</td>\n",
       "      <td>98.293777</td>\n",
       "    </tr>\n",
       "    <tr>\n",
       "      <td>min</td>\n",
       "      <td>1.000000</td>\n",
       "    </tr>\n",
       "    <tr>\n",
       "      <td>25%</td>\n",
       "      <td>85.750000</td>\n",
       "    </tr>\n",
       "    <tr>\n",
       "      <td>50%</td>\n",
       "      <td>170.500000</td>\n",
       "    </tr>\n",
       "    <tr>\n",
       "      <td>75%</td>\n",
       "      <td>255.250000</td>\n",
       "    </tr>\n",
       "    <tr>\n",
       "      <td>max</td>\n",
       "      <td>340.000000</td>\n",
       "    </tr>\n",
       "  </tbody>\n",
       "</table>\n",
       "</div>"
      ],
      "text/plain": [
       "       publisher_id\n",
       "count    340.000000\n",
       "mean     170.500000\n",
       "std       98.293777\n",
       "min        1.000000\n",
       "25%       85.750000\n",
       "50%      170.500000\n",
       "75%      255.250000\n",
       "max      340.000000"
      ]
     },
     "metadata": {},
     "output_type": "display_data"
    },
    {
     "name": "stdout",
     "output_type": "stream",
     "text": [
      "\n",
      "\u001b[1mВизуальный осмотр данных таблицы\u001b[0m\n"
     ]
    },
    {
     "data": {
      "text/html": [
       "<div>\n",
       "<style scoped>\n",
       "    .dataframe tbody tr th:only-of-type {\n",
       "        vertical-align: middle;\n",
       "    }\n",
       "\n",
       "    .dataframe tbody tr th {\n",
       "        vertical-align: top;\n",
       "    }\n",
       "\n",
       "    .dataframe thead th {\n",
       "        text-align: right;\n",
       "    }\n",
       "</style>\n",
       "<table border=\"1\" class=\"dataframe\">\n",
       "  <thead>\n",
       "    <tr style=\"text-align: right;\">\n",
       "      <th></th>\n",
       "      <th>publisher_id</th>\n",
       "      <th>publisher</th>\n",
       "    </tr>\n",
       "  </thead>\n",
       "  <tbody>\n",
       "    <tr>\n",
       "      <td>0</td>\n",
       "      <td>1</td>\n",
       "      <td>Ace</td>\n",
       "    </tr>\n",
       "    <tr>\n",
       "      <td>1</td>\n",
       "      <td>2</td>\n",
       "      <td>Ace Book</td>\n",
       "    </tr>\n",
       "    <tr>\n",
       "      <td>2</td>\n",
       "      <td>3</td>\n",
       "      <td>Ace Books</td>\n",
       "    </tr>\n",
       "    <tr>\n",
       "      <td>3</td>\n",
       "      <td>4</td>\n",
       "      <td>Ace Hardcover</td>\n",
       "    </tr>\n",
       "    <tr>\n",
       "      <td>4</td>\n",
       "      <td>5</td>\n",
       "      <td>Addison Wesley Publishing Company</td>\n",
       "    </tr>\n",
       "  </tbody>\n",
       "</table>\n",
       "</div>"
      ],
      "text/plain": [
       "   publisher_id                          publisher\n",
       "0             1                                Ace\n",
       "1             2                           Ace Book\n",
       "2             3                          Ace Books\n",
       "3             4                      Ace Hardcover\n",
       "4             5  Addison Wesley Publishing Company"
      ]
     },
     "metadata": {},
     "output_type": "display_data"
    }
   ],
   "source": [
    "inf(publishers)"
   ]
  },
  {
   "cell_type": "markdown",
   "metadata": {},
   "source": [
    "Данные чистые."
   ]
  },
  {
   "cell_type": "markdown",
   "metadata": {},
   "source": [
    "### Вывод"
   ]
  },
  {
   "cell_type": "markdown",
   "metadata": {},
   "source": [
    "На этом этапе проекта мы получили следующие результаты:\n",
    "* подключились к базе;\n",
    "* загрузили предоставленные датасеты;\n",
    "* произвели обзор данных, в ходе которого:\n",
    "    * посмотрели на первые строки каждого из датасетов;\n",
    "    * убедились, что данные чистые;\n",
    "    * в датасете `books` присутствует переменная `publication_date`, тип которой можно поменять на `datetime` в запросах, при необходимости."
   ]
  },
  {
   "cell_type": "markdown",
   "metadata": {},
   "source": [
    "## Запросы"
   ]
  },
  {
   "cell_type": "markdown",
   "metadata": {},
   "source": [
    "### Посчитать, сколько книг вышло после 1 января 2000 года"
   ]
  },
  {
   "cell_type": "code",
   "execution_count": 10,
   "metadata": {},
   "outputs": [
    {
     "data": {
      "text/html": [
       "<div>\n",
       "<style scoped>\n",
       "    .dataframe tbody tr th:only-of-type {\n",
       "        vertical-align: middle;\n",
       "    }\n",
       "\n",
       "    .dataframe tbody tr th {\n",
       "        vertical-align: top;\n",
       "    }\n",
       "\n",
       "    .dataframe thead th {\n",
       "        text-align: right;\n",
       "    }\n",
       "</style>\n",
       "<table border=\"1\" class=\"dataframe\">\n",
       "  <thead>\n",
       "    <tr style=\"text-align: right;\">\n",
       "      <th></th>\n",
       "      <th>nbooks</th>\n",
       "    </tr>\n",
       "  </thead>\n",
       "  <tbody>\n",
       "    <tr>\n",
       "      <td>0</td>\n",
       "      <td>819</td>\n",
       "    </tr>\n",
       "  </tbody>\n",
       "</table>\n",
       "</div>"
      ],
      "text/plain": [
       "   nbooks\n",
       "0     819"
      ]
     },
     "execution_count": 10,
     "metadata": {},
     "output_type": "execute_result"
    }
   ],
   "source": [
    "request_1 = '''\n",
    "SELECT \n",
    "    COUNT(book_id) AS nbooks\n",
    "FROM\n",
    "    books\n",
    "WHERE\n",
    "    publication_date > '2000-01-01'\n",
    "'''\n",
    "\n",
    "r_1 = pd.io.sql.read_sql(request_1, con = engine)\n",
    "r_1"
   ]
  },
  {
   "cell_type": "markdown",
   "metadata": {},
   "source": [
    "После 1 января 2000 года вышло 819 книг."
   ]
  },
  {
   "cell_type": "markdown",
   "metadata": {},
   "source": [
    "### Для каждой книги посчитать количество обзоров и среднюю оценку"
   ]
  },
  {
   "cell_type": "code",
   "execution_count": 11,
   "metadata": {},
   "outputs": [
    {
     "data": {
      "text/html": [
       "<div>\n",
       "<style scoped>\n",
       "    .dataframe tbody tr th:only-of-type {\n",
       "        vertical-align: middle;\n",
       "    }\n",
       "\n",
       "    .dataframe tbody tr th {\n",
       "        vertical-align: top;\n",
       "    }\n",
       "\n",
       "    .dataframe thead th {\n",
       "        text-align: right;\n",
       "    }\n",
       "</style>\n",
       "<table border=\"1\" class=\"dataframe\">\n",
       "  <thead>\n",
       "    <tr style=\"text-align: right;\">\n",
       "      <th></th>\n",
       "      <th>title</th>\n",
       "      <th>rating_avg</th>\n",
       "      <th>review_cnt</th>\n",
       "    </tr>\n",
       "  </thead>\n",
       "  <tbody>\n",
       "    <tr>\n",
       "      <td>0</td>\n",
       "      <td>The Body in the Library (Miss Marple  #3)</td>\n",
       "      <td>4.500000</td>\n",
       "      <td>2.0</td>\n",
       "    </tr>\n",
       "    <tr>\n",
       "      <td>1</td>\n",
       "      <td>Galápagos</td>\n",
       "      <td>4.500000</td>\n",
       "      <td>2.0</td>\n",
       "    </tr>\n",
       "    <tr>\n",
       "      <td>2</td>\n",
       "      <td>A Tree Grows in Brooklyn</td>\n",
       "      <td>4.250000</td>\n",
       "      <td>5.0</td>\n",
       "    </tr>\n",
       "    <tr>\n",
       "      <td>3</td>\n",
       "      <td>Undaunted Courage: The Pioneering First Missio...</td>\n",
       "      <td>4.000000</td>\n",
       "      <td>2.0</td>\n",
       "    </tr>\n",
       "    <tr>\n",
       "      <td>4</td>\n",
       "      <td>The Prophet</td>\n",
       "      <td>4.285714</td>\n",
       "      <td>4.0</td>\n",
       "    </tr>\n",
       "    <tr>\n",
       "      <td>...</td>\n",
       "      <td>...</td>\n",
       "      <td>...</td>\n",
       "      <td>...</td>\n",
       "    </tr>\n",
       "    <tr>\n",
       "      <td>995</td>\n",
       "      <td>Alice in Wonderland</td>\n",
       "      <td>4.230769</td>\n",
       "      <td>4.0</td>\n",
       "    </tr>\n",
       "    <tr>\n",
       "      <td>996</td>\n",
       "      <td>A Woman of Substance (Emma Harte Saga #1)</td>\n",
       "      <td>5.000000</td>\n",
       "      <td>2.0</td>\n",
       "    </tr>\n",
       "    <tr>\n",
       "      <td>997</td>\n",
       "      <td>Christine</td>\n",
       "      <td>3.428571</td>\n",
       "      <td>3.0</td>\n",
       "    </tr>\n",
       "    <tr>\n",
       "      <td>998</td>\n",
       "      <td>The Magicians' Guild (Black Magician Trilogy  #1)</td>\n",
       "      <td>3.500000</td>\n",
       "      <td>2.0</td>\n",
       "    </tr>\n",
       "    <tr>\n",
       "      <td>999</td>\n",
       "      <td>The Plot Against America</td>\n",
       "      <td>3.000000</td>\n",
       "      <td>2.0</td>\n",
       "    </tr>\n",
       "  </tbody>\n",
       "</table>\n",
       "<p>1000 rows × 3 columns</p>\n",
       "</div>"
      ],
      "text/plain": [
       "                                                 title  rating_avg  review_cnt\n",
       "0            The Body in the Library (Miss Marple  #3)    4.500000         2.0\n",
       "1                                            Galápagos    4.500000         2.0\n",
       "2                             A Tree Grows in Brooklyn    4.250000         5.0\n",
       "3    Undaunted Courage: The Pioneering First Missio...    4.000000         2.0\n",
       "4                                          The Prophet    4.285714         4.0\n",
       "..                                                 ...         ...         ...\n",
       "995                                Alice in Wonderland    4.230769         4.0\n",
       "996          A Woman of Substance (Emma Harte Saga #1)    5.000000         2.0\n",
       "997                                          Christine    3.428571         3.0\n",
       "998  The Magicians' Guild (Black Magician Trilogy  #1)    3.500000         2.0\n",
       "999                           The Plot Against America    3.000000         2.0\n",
       "\n",
       "[1000 rows x 3 columns]"
      ]
     },
     "execution_count": 11,
     "metadata": {},
     "output_type": "execute_result"
    }
   ],
   "source": [
    "request_2 = '''\n",
    "SELECT\n",
    "    title,\n",
    "    rating_avg,\n",
    "    review_cnt\n",
    "FROM\n",
    "    books \n",
    "    LEFT JOIN \n",
    "            (SELECT\n",
    "                book_id,\n",
    "                AVG(rating) AS rating_avg\n",
    "            FROM\n",
    "                ratings\n",
    "            GROUP BY\n",
    "                book_id) AS s_ratings ON books.book_id = s_ratings.book_id \n",
    "    LEFT JOIN \n",
    "            (SELECT\n",
    "                book_id,\n",
    "                COUNT(review_id) AS review_cnt\n",
    "            FROM\n",
    "                reviews\n",
    "            GROUP BY\n",
    "                book_id) AS s_reviews ON books.book_id = s_reviews.book_id\n",
    "'''\n",
    "\n",
    "r_2 = pd.io.sql.read_sql(request_2, con = engine)\n",
    "r_2"
   ]
  },
  {
   "cell_type": "markdown",
   "metadata": {},
   "source": [
    "### Определить издательство, которое выпустило наибольшее число книг толще 50 страниц (исключаем из анализа брошюры)"
   ]
  },
  {
   "cell_type": "code",
   "execution_count": 12,
   "metadata": {},
   "outputs": [
    {
     "data": {
      "text/html": [
       "<div>\n",
       "<style scoped>\n",
       "    .dataframe tbody tr th:only-of-type {\n",
       "        vertical-align: middle;\n",
       "    }\n",
       "\n",
       "    .dataframe tbody tr th {\n",
       "        vertical-align: top;\n",
       "    }\n",
       "\n",
       "    .dataframe thead th {\n",
       "        text-align: right;\n",
       "    }\n",
       "</style>\n",
       "<table border=\"1\" class=\"dataframe\">\n",
       "  <thead>\n",
       "    <tr style=\"text-align: right;\">\n",
       "      <th></th>\n",
       "      <th>publisher</th>\n",
       "      <th>book_cnt</th>\n",
       "    </tr>\n",
       "  </thead>\n",
       "  <tbody>\n",
       "    <tr>\n",
       "      <td>0</td>\n",
       "      <td>Penguin Books</td>\n",
       "      <td>42</td>\n",
       "    </tr>\n",
       "  </tbody>\n",
       "</table>\n",
       "</div>"
      ],
      "text/plain": [
       "       publisher  book_cnt\n",
       "0  Penguin Books        42"
      ]
     },
     "execution_count": 12,
     "metadata": {},
     "output_type": "execute_result"
    }
   ],
   "source": [
    "request_3 = '''\n",
    "SELECT\n",
    "    publisher,\n",
    "    COUNT(book_id) as book_cnt\n",
    "FROM\n",
    "    books \n",
    "    LEFT JOIN \n",
    "            (SELECT\n",
    "                publisher_id,\n",
    "                publisher\n",
    "            FROM\n",
    "                publishers) AS s_publishers ON books.publisher_id = s_publishers.publisher_id\n",
    "\n",
    "WHERE\n",
    "    num_pages > 50\n",
    "GROUP BY\n",
    "    publisher\n",
    "ORDER BY\n",
    "    book_cnt DESC\n",
    "LIMIT 1\n",
    "'''\n",
    "\n",
    "r_3 = pd.io.sql.read_sql(request_3, con = engine)\n",
    "r_3"
   ]
  },
  {
   "cell_type": "markdown",
   "metadata": {},
   "source": [
    "Издательство, которое выпустило наибольшее число книг - **Penguin Books** (42 книги)."
   ]
  },
  {
   "cell_type": "markdown",
   "metadata": {},
   "source": [
    "### Определить автора с самой высокой средней оценкой книг — учитывать только книги с 50 и более оценками\n"
   ]
  },
  {
   "cell_type": "code",
   "execution_count": 13,
   "metadata": {},
   "outputs": [
    {
     "data": {
      "text/html": [
       "<div>\n",
       "<style scoped>\n",
       "    .dataframe tbody tr th:only-of-type {\n",
       "        vertical-align: middle;\n",
       "    }\n",
       "\n",
       "    .dataframe tbody tr th {\n",
       "        vertical-align: top;\n",
       "    }\n",
       "\n",
       "    .dataframe thead th {\n",
       "        text-align: right;\n",
       "    }\n",
       "</style>\n",
       "<table border=\"1\" class=\"dataframe\">\n",
       "  <thead>\n",
       "    <tr style=\"text-align: right;\">\n",
       "      <th></th>\n",
       "      <th>author</th>\n",
       "      <th>rating_author</th>\n",
       "    </tr>\n",
       "  </thead>\n",
       "  <tbody>\n",
       "    <tr>\n",
       "      <td>0</td>\n",
       "      <td>J.K. Rowling/Mary GrandPré</td>\n",
       "      <td>4.283844</td>\n",
       "    </tr>\n",
       "  </tbody>\n",
       "</table>\n",
       "</div>"
      ],
      "text/plain": [
       "                       author  rating_author\n",
       "0  J.K. Rowling/Mary GrandPré       4.283844"
      ]
     },
     "execution_count": 13,
     "metadata": {},
     "output_type": "execute_result"
    }
   ],
   "source": [
    "request_4 = '''\n",
    "SELECT\n",
    "    author,\n",
    "    CASE\n",
    "        WHEN AVG(rating_avg) IS NULL THEN 0\n",
    "        ELSE AVG(rating_avg)\n",
    "    END AS rating_author\n",
    "FROM\n",
    "    books \n",
    "    LEFT JOIN \n",
    "            (SELECT\n",
    "                author_id,\n",
    "                author\n",
    "            FROM\n",
    "                authors) AS s_author ON books.author_id = s_author.author_id\n",
    "    INNER JOIN \n",
    "            (SELECT\n",
    "                book_id,\n",
    "                AVG(rating) as rating_avg,\n",
    "                COUNT(rating) AS rating_cnt\n",
    "            FROM\n",
    "                ratings\n",
    "            GROUP BY\n",
    "                book_id\n",
    "            HAVING\n",
    "                COUNT(rating) >= 50) AS s_ratings ON books.book_id = s_ratings.book_id\n",
    "GROUP BY\n",
    "    author\n",
    "ORDER BY\n",
    "    rating_author DESC\n",
    "LIMIT 1\n",
    "'''\n",
    "\n",
    "r_4 = pd.io.sql.read_sql(request_4, con = engine)\n",
    "r_4"
   ]
  },
  {
   "cell_type": "markdown",
   "metadata": {},
   "source": [
    "Автором с самой высокой средней оценкой книг является **J.K. Rowling/Mary GrandPré**(4.28)."
   ]
  },
  {
   "cell_type": "markdown",
   "metadata": {},
   "source": [
    "### Посчитать среднее количество обзоров от пользователей, которые поставили больше 50 оценок."
   ]
  },
  {
   "cell_type": "code",
   "execution_count": 14,
   "metadata": {},
   "outputs": [
    {
     "data": {
      "text/html": [
       "<div>\n",
       "<style scoped>\n",
       "    .dataframe tbody tr th:only-of-type {\n",
       "        vertical-align: middle;\n",
       "    }\n",
       "\n",
       "    .dataframe tbody tr th {\n",
       "        vertical-align: top;\n",
       "    }\n",
       "\n",
       "    .dataframe thead th {\n",
       "        text-align: right;\n",
       "    }\n",
       "</style>\n",
       "<table border=\"1\" class=\"dataframe\">\n",
       "  <thead>\n",
       "    <tr style=\"text-align: right;\">\n",
       "      <th></th>\n",
       "      <th>avg</th>\n",
       "    </tr>\n",
       "  </thead>\n",
       "  <tbody>\n",
       "    <tr>\n",
       "      <td>0</td>\n",
       "      <td>24.333333</td>\n",
       "    </tr>\n",
       "  </tbody>\n",
       "</table>\n",
       "</div>"
      ],
      "text/plain": [
       "         avg\n",
       "0  24.333333"
      ]
     },
     "execution_count": 14,
     "metadata": {},
     "output_type": "execute_result"
    }
   ],
   "source": [
    "request_5 = '''\n",
    "SELECT\n",
    "    AVG(review_cnt)\n",
    "FROM\n",
    "    (SELECT\n",
    "        reviews.username,\n",
    "        COUNT(review_id) AS review_cnt\n",
    "     FROM\n",
    "        reviews\n",
    "     INNER JOIN\n",
    "         (SELECT\n",
    "             username\n",
    "          FROM\n",
    "              ratings\n",
    "          GROUP BY\n",
    "              username\n",
    "          HAVING\n",
    "              COUNT(rating_id) > 50) AS s_ratings ON reviews.username = s_ratings.username\n",
    "          GROUP BY\n",
    "              reviews.username) AS t\n",
    "'''\n",
    "\n",
    "r_5 = pd.io.sql.read_sql(request_5, con = engine)\n",
    "r_5"
   ]
  },
  {
   "cell_type": "markdown",
   "metadata": {},
   "source": [
    "Cреднее количество обзоров от пользователей, которые поставили больше 50 оценок, равно 24.33."
   ]
  },
  {
   "cell_type": "markdown",
   "metadata": {},
   "source": [
    "## Общий вывод"
   ]
  },
  {
   "cell_type": "markdown",
   "metadata": {},
   "source": [
    "После подключения к базе и загрузки датасетов было совершено 5 запросов, из которых были получены следующие результаты:\n",
    "* После 1 января 2000 года вышло 819 книг;\n",
    "* Для каждой книги было посчитано количество обзоров и средняя оценка;\n",
    "* Издательство, которое выпустило наибольшее число книг - **Penguin Books** (42 книги);\n",
    "* Автором с самой высокой средней оценкой книг является **J.K. Rowling/Mary GrandPré**(4.28);\n",
    "* Cреднее количество обзоров от пользователей, которые поставили больше 50 оценок, равно 24.33."
   ]
  },
  {
   "cell_type": "code",
   "execution_count": null,
   "metadata": {},
   "outputs": [],
   "source": []
  }
 ],
 "metadata": {
  "ExecuteTimeLog": [
   {
    "duration": 581,
    "start_time": "2022-02-21T09:52:41.984Z"
   },
   {
    "duration": 29,
    "start_time": "2022-02-21T09:56:50.589Z"
   },
   {
    "duration": 32,
    "start_time": "2022-02-21T10:07:56.954Z"
   },
   {
    "duration": 18,
    "start_time": "2022-02-21T10:08:04.259Z"
   },
   {
    "duration": 99,
    "start_time": "2022-02-21T10:11:53.255Z"
   },
   {
    "duration": 12,
    "start_time": "2022-02-21T10:11:56.185Z"
   },
   {
    "duration": 636,
    "start_time": "2022-02-21T10:12:04.198Z"
   },
   {
    "duration": 43,
    "start_time": "2022-02-21T10:15:12.796Z"
   },
   {
    "duration": 12,
    "start_time": "2022-02-21T10:15:17.336Z"
   },
   {
    "duration": 7,
    "start_time": "2022-02-21T10:15:22.959Z"
   },
   {
    "duration": 10,
    "start_time": "2022-02-21T10:15:29.094Z"
   },
   {
    "duration": 8,
    "start_time": "2022-02-21T10:16:00.195Z"
   },
   {
    "duration": 766,
    "start_time": "2022-02-21T10:16:47.751Z"
   },
   {
    "duration": 29,
    "start_time": "2022-02-21T10:16:48.519Z"
   },
   {
    "duration": 58,
    "start_time": "2022-02-21T10:16:48.550Z"
   },
   {
    "duration": 14,
    "start_time": "2022-02-21T10:16:48.609Z"
   },
   {
    "duration": 4,
    "start_time": "2022-02-21T10:19:21.573Z"
   },
   {
    "duration": 32,
    "start_time": "2022-02-21T10:20:13.820Z"
   },
   {
    "duration": 25,
    "start_time": "2022-02-21T10:23:00.364Z"
   },
   {
    "duration": 27,
    "start_time": "2022-02-21T10:24:25.536Z"
   },
   {
    "duration": 26,
    "start_time": "2022-02-21T10:25:05.477Z"
   },
   {
    "duration": 22,
    "start_time": "2022-02-21T10:26:20.508Z"
   },
   {
    "duration": 634,
    "start_time": "2022-02-21T10:33:41.312Z"
   },
   {
    "duration": 24,
    "start_time": "2022-02-21T10:33:41.947Z"
   },
   {
    "duration": 61,
    "start_time": "2022-02-21T10:33:41.973Z"
   },
   {
    "duration": 4,
    "start_time": "2022-02-21T10:33:42.036Z"
   },
   {
    "duration": 38,
    "start_time": "2022-02-21T10:33:42.041Z"
   },
   {
    "duration": 19,
    "start_time": "2022-02-21T10:33:42.080Z"
   },
   {
    "duration": 46,
    "start_time": "2022-02-21T10:33:42.101Z"
   },
   {
    "duration": 26,
    "start_time": "2022-02-21T10:33:42.149Z"
   },
   {
    "duration": 19,
    "start_time": "2022-02-21T10:33:42.177Z"
   },
   {
    "duration": 10,
    "start_time": "2022-02-21T10:41:06.992Z"
   },
   {
    "duration": 10,
    "start_time": "2022-02-21T10:41:37.748Z"
   },
   {
    "duration": 10,
    "start_time": "2022-02-21T10:45:16.504Z"
   },
   {
    "duration": 371,
    "start_time": "2022-02-21T11:07:21.981Z"
   },
   {
    "duration": 346,
    "start_time": "2022-02-21T11:07:46.255Z"
   },
   {
    "duration": 364,
    "start_time": "2022-02-21T11:09:06.972Z"
   },
   {
    "duration": 440,
    "start_time": "2022-02-21T11:11:03.530Z"
   },
   {
    "duration": 20,
    "start_time": "2022-02-21T11:12:11.974Z"
   },
   {
    "duration": 14,
    "start_time": "2022-02-21T11:12:29.981Z"
   },
   {
    "duration": 17,
    "start_time": "2022-02-21T11:13:01.113Z"
   },
   {
    "duration": 301,
    "start_time": "2022-02-21T11:14:18.236Z"
   },
   {
    "duration": 314,
    "start_time": "2022-02-21T11:14:45.749Z"
   },
   {
    "duration": 286,
    "start_time": "2022-02-21T11:15:05.261Z"
   },
   {
    "duration": 300,
    "start_time": "2022-02-21T11:16:53.892Z"
   },
   {
    "duration": 302,
    "start_time": "2022-02-21T11:17:28.479Z"
   },
   {
    "duration": 376,
    "start_time": "2022-02-21T11:17:44.358Z"
   },
   {
    "duration": 296,
    "start_time": "2022-02-21T11:18:56.763Z"
   },
   {
    "duration": 300,
    "start_time": "2022-02-21T11:19:21.331Z"
   },
   {
    "duration": 3630,
    "start_time": "2022-02-21T11:20:05.369Z"
   },
   {
    "duration": 19,
    "start_time": "2022-02-21T11:20:14.698Z"
   },
   {
    "duration": 975,
    "start_time": "2022-02-21T11:20:25.847Z"
   },
   {
    "duration": 19,
    "start_time": "2022-02-21T11:20:32.120Z"
   },
   {
    "duration": 21,
    "start_time": "2022-02-21T11:21:01.350Z"
   },
   {
    "duration": 20,
    "start_time": "2022-02-21T11:22:16.719Z"
   },
   {
    "duration": 19,
    "start_time": "2022-02-21T11:22:45.958Z"
   },
   {
    "duration": 19,
    "start_time": "2022-02-21T11:24:17.431Z"
   },
   {
    "duration": 19,
    "start_time": "2022-02-21T11:24:35.704Z"
   },
   {
    "duration": 605,
    "start_time": "2022-02-21T11:24:54.165Z"
   },
   {
    "duration": 24,
    "start_time": "2022-02-21T11:24:54.772Z"
   },
   {
    "duration": 62,
    "start_time": "2022-02-21T11:24:54.798Z"
   },
   {
    "duration": 4,
    "start_time": "2022-02-21T11:24:54.861Z"
   },
   {
    "duration": 39,
    "start_time": "2022-02-21T11:24:54.866Z"
   },
   {
    "duration": 18,
    "start_time": "2022-02-21T11:24:54.906Z"
   },
   {
    "duration": 44,
    "start_time": "2022-02-21T11:24:54.925Z"
   },
   {
    "duration": 25,
    "start_time": "2022-02-21T11:24:54.970Z"
   },
   {
    "duration": 52,
    "start_time": "2022-02-21T11:24:54.996Z"
   },
   {
    "duration": 9,
    "start_time": "2022-02-21T11:24:55.049Z"
   },
   {
    "duration": 18,
    "start_time": "2022-02-21T11:24:55.060Z"
   },
   {
    "duration": 19,
    "start_time": "2022-02-21T11:25:38.683Z"
   },
   {
    "duration": 19,
    "start_time": "2022-02-21T11:26:08.730Z"
   },
   {
    "duration": 19,
    "start_time": "2022-02-21T11:26:19.394Z"
   },
   {
    "duration": 20,
    "start_time": "2022-02-21T11:27:03.549Z"
   },
   {
    "duration": 20,
    "start_time": "2022-02-21T11:27:14.810Z"
   },
   {
    "duration": 352,
    "start_time": "2022-02-21T11:27:42.426Z"
   },
   {
    "duration": 19,
    "start_time": "2022-02-21T11:27:51.822Z"
   },
   {
    "duration": 20,
    "start_time": "2022-02-21T11:28:19.467Z"
   },
   {
    "duration": 19,
    "start_time": "2022-02-21T11:28:27.361Z"
   },
   {
    "duration": 19,
    "start_time": "2022-02-21T11:28:33.598Z"
   },
   {
    "duration": 608,
    "start_time": "2022-02-21T11:29:14.549Z"
   },
   {
    "duration": 23,
    "start_time": "2022-02-21T11:29:15.159Z"
   },
   {
    "duration": 57,
    "start_time": "2022-02-21T11:29:15.183Z"
   },
   {
    "duration": 4,
    "start_time": "2022-02-21T11:29:15.242Z"
   },
   {
    "duration": 37,
    "start_time": "2022-02-21T11:29:15.248Z"
   },
   {
    "duration": 19,
    "start_time": "2022-02-21T11:29:15.287Z"
   },
   {
    "duration": 56,
    "start_time": "2022-02-21T11:29:15.308Z"
   },
   {
    "duration": 26,
    "start_time": "2022-02-21T11:29:15.366Z"
   },
   {
    "duration": 52,
    "start_time": "2022-02-21T11:29:15.394Z"
   },
   {
    "duration": 9,
    "start_time": "2022-02-21T11:29:15.448Z"
   },
   {
    "duration": 33,
    "start_time": "2022-02-21T11:29:15.458Z"
   },
   {
    "duration": 18,
    "start_time": "2022-02-21T11:29:44.368Z"
   },
   {
    "duration": 21,
    "start_time": "2022-02-21T11:31:13.467Z"
   },
   {
    "duration": 453,
    "start_time": "2022-02-21T11:31:49.221Z"
   },
   {
    "duration": 20,
    "start_time": "2022-02-21T11:32:08.103Z"
   },
   {
    "duration": 20,
    "start_time": "2022-02-21T11:32:22.477Z"
   },
   {
    "duration": 19,
    "start_time": "2022-02-21T11:38:14.087Z"
   },
   {
    "duration": 14,
    "start_time": "2022-02-21T11:38:23.057Z"
   },
   {
    "duration": 307,
    "start_time": "2022-02-21T11:41:59.628Z"
   },
   {
    "duration": 287,
    "start_time": "2022-02-21T11:42:12.891Z"
   },
   {
    "duration": 318,
    "start_time": "2022-02-21T11:42:31.693Z"
   },
   {
    "duration": 15,
    "start_time": "2022-02-21T11:42:36.507Z"
   },
   {
    "duration": 12,
    "start_time": "2022-02-21T11:43:04.131Z"
   },
   {
    "duration": 322,
    "start_time": "2022-02-21T11:44:36.352Z"
   },
   {
    "duration": 11,
    "start_time": "2022-02-21T11:44:42.980Z"
   },
   {
    "duration": 11,
    "start_time": "2022-02-21T11:45:57.895Z"
   },
   {
    "duration": 304,
    "start_time": "2022-02-21T12:10:34.066Z"
   },
   {
    "duration": 304,
    "start_time": "2022-02-21T12:13:33.550Z"
   },
   {
    "duration": 13,
    "start_time": "2022-02-21T12:14:37.035Z"
   },
   {
    "duration": 12,
    "start_time": "2022-02-21T12:15:32.939Z"
   },
   {
    "duration": 14,
    "start_time": "2022-02-21T12:15:53.334Z"
   },
   {
    "duration": 285,
    "start_time": "2022-02-21T12:18:54.689Z"
   },
   {
    "duration": 15,
    "start_time": "2022-02-21T12:19:02.381Z"
   },
   {
    "duration": 14,
    "start_time": "2022-02-21T12:19:17.866Z"
   },
   {
    "duration": 15,
    "start_time": "2022-02-21T12:19:40.011Z"
   },
   {
    "duration": 16,
    "start_time": "2022-02-21T12:19:52.953Z"
   },
   {
    "duration": 15,
    "start_time": "2022-02-21T12:19:57.952Z"
   },
   {
    "duration": 14,
    "start_time": "2022-02-21T12:21:46.435Z"
   },
   {
    "duration": 13,
    "start_time": "2022-02-21T12:22:19.095Z"
   },
   {
    "duration": 298,
    "start_time": "2022-02-21T12:37:55.875Z"
   },
   {
    "duration": 351,
    "start_time": "2022-02-21T12:39:46.998Z"
   },
   {
    "duration": 305,
    "start_time": "2022-02-21T12:39:59.668Z"
   },
   {
    "duration": 12,
    "start_time": "2022-02-21T12:41:22.756Z"
   },
   {
    "duration": 12,
    "start_time": "2022-02-21T12:41:47.476Z"
   },
   {
    "duration": 12,
    "start_time": "2022-02-21T12:43:02.879Z"
   },
   {
    "duration": 12,
    "start_time": "2022-02-21T12:43:21.145Z"
   },
   {
    "duration": 295,
    "start_time": "2022-02-21T12:47:41.237Z"
   },
   {
    "duration": 485,
    "start_time": "2022-02-21T12:47:55.005Z"
   },
   {
    "duration": 334,
    "start_time": "2022-02-21T12:48:26.023Z"
   },
   {
    "duration": 299,
    "start_time": "2022-02-21T12:49:32.958Z"
   },
   {
    "duration": 15,
    "start_time": "2022-02-21T12:51:12.138Z"
   },
   {
    "duration": 305,
    "start_time": "2022-02-21T12:51:40.288Z"
   },
   {
    "duration": 340,
    "start_time": "2022-02-21T12:52:28.609Z"
   },
   {
    "duration": 321,
    "start_time": "2022-02-21T12:52:42.724Z"
   },
   {
    "duration": 459,
    "start_time": "2022-02-21T12:52:50.569Z"
   },
   {
    "duration": 14,
    "start_time": "2022-02-21T12:54:42.817Z"
   },
   {
    "duration": 298,
    "start_time": "2022-02-21T12:55:23.961Z"
   },
   {
    "duration": 316,
    "start_time": "2022-02-21T12:55:45.285Z"
   },
   {
    "duration": 583,
    "start_time": "2022-02-21T12:56:42.897Z"
   },
   {
    "duration": 24,
    "start_time": "2022-02-21T12:56:43.482Z"
   },
   {
    "duration": 61,
    "start_time": "2022-02-21T12:56:43.508Z"
   },
   {
    "duration": 4,
    "start_time": "2022-02-21T12:56:43.572Z"
   },
   {
    "duration": 56,
    "start_time": "2022-02-21T12:56:43.578Z"
   },
   {
    "duration": 28,
    "start_time": "2022-02-21T12:56:43.646Z"
   },
   {
    "duration": 27,
    "start_time": "2022-02-21T12:56:43.676Z"
   },
   {
    "duration": 55,
    "start_time": "2022-02-21T12:56:43.706Z"
   },
   {
    "duration": 24,
    "start_time": "2022-02-21T12:56:43.763Z"
   },
   {
    "duration": 9,
    "start_time": "2022-02-21T12:56:43.789Z"
   },
   {
    "duration": 20,
    "start_time": "2022-02-21T12:56:43.800Z"
   },
   {
    "duration": 379,
    "start_time": "2022-02-21T12:56:43.821Z"
   },
   {
    "duration": 983,
    "start_time": "2022-02-21T12:56:43.219Z"
   },
   {
    "duration": 983,
    "start_time": "2022-02-21T12:56:43.220Z"
   },
   {
    "duration": 976,
    "start_time": "2022-02-21T12:56:43.228Z"
   },
   {
    "duration": 15,
    "start_time": "2022-02-21T12:57:04.132Z"
   },
   {
    "duration": 12,
    "start_time": "2022-02-21T12:58:20.114Z"
   },
   {
    "duration": 645,
    "start_time": "2022-02-21T12:58:32.830Z"
   },
   {
    "duration": 26,
    "start_time": "2022-02-21T12:58:33.477Z"
   },
   {
    "duration": 60,
    "start_time": "2022-02-21T12:58:33.505Z"
   },
   {
    "duration": 4,
    "start_time": "2022-02-21T12:58:33.567Z"
   },
   {
    "duration": 44,
    "start_time": "2022-02-21T12:58:33.572Z"
   },
   {
    "duration": 38,
    "start_time": "2022-02-21T12:58:33.618Z"
   },
   {
    "duration": 25,
    "start_time": "2022-02-21T12:58:33.657Z"
   },
   {
    "duration": 25,
    "start_time": "2022-02-21T12:58:33.684Z"
   },
   {
    "duration": 52,
    "start_time": "2022-02-21T12:58:33.710Z"
   },
   {
    "duration": 10,
    "start_time": "2022-02-21T12:58:33.763Z"
   },
   {
    "duration": 18,
    "start_time": "2022-02-21T12:58:33.774Z"
   },
   {
    "duration": 10,
    "start_time": "2022-02-21T12:58:33.794Z"
   },
   {
    "duration": 13,
    "start_time": "2022-02-21T12:58:33.806Z"
   },
   {
    "duration": 422,
    "start_time": "2022-02-21T12:58:33.820Z"
   },
   {
    "duration": 926,
    "start_time": "2022-02-21T12:58:33.318Z"
   },
   {
    "duration": 14,
    "start_time": "2022-02-21T12:59:12.381Z"
   },
   {
    "duration": 14,
    "start_time": "2022-02-21T13:00:05.551Z"
   },
   {
    "duration": 287,
    "start_time": "2022-02-21T13:10:11.843Z"
   },
   {
    "duration": 387,
    "start_time": "2022-02-21T13:11:24.023Z"
   },
   {
    "duration": 364,
    "start_time": "2022-02-21T13:13:19.985Z"
   },
   {
    "duration": 539,
    "start_time": "2022-02-21T13:15:03.373Z"
   },
   {
    "duration": 338,
    "start_time": "2022-02-21T13:16:51.675Z"
   },
   {
    "duration": 524,
    "start_time": "2022-02-21T13:17:27.648Z"
   },
   {
    "duration": 695,
    "start_time": "2022-02-21T13:18:02.954Z"
   },
   {
    "duration": 585,
    "start_time": "2022-02-21T13:18:44.030Z"
   },
   {
    "duration": 568,
    "start_time": "2022-02-21T13:19:05.369Z"
   },
   {
    "duration": 586,
    "start_time": "2022-02-21T13:19:31.642Z"
   },
   {
    "duration": 17,
    "start_time": "2022-02-21T13:19:50.343Z"
   },
   {
    "duration": 540,
    "start_time": "2022-02-21T13:21:03.508Z"
   },
   {
    "duration": 13,
    "start_time": "2022-02-21T13:21:13.148Z"
   },
   {
    "duration": 645,
    "start_time": "2022-02-21T13:22:49.286Z"
   },
   {
    "duration": 28,
    "start_time": "2022-02-21T13:22:49.932Z"
   },
   {
    "duration": 60,
    "start_time": "2022-02-21T13:22:49.962Z"
   },
   {
    "duration": 4,
    "start_time": "2022-02-21T13:22:50.024Z"
   },
   {
    "duration": 53,
    "start_time": "2022-02-21T13:22:50.030Z"
   },
   {
    "duration": 21,
    "start_time": "2022-02-21T13:22:50.085Z"
   },
   {
    "duration": 51,
    "start_time": "2022-02-21T13:22:50.108Z"
   },
   {
    "duration": 25,
    "start_time": "2022-02-21T13:22:50.162Z"
   },
   {
    "duration": 20,
    "start_time": "2022-02-21T13:22:50.189Z"
   },
   {
    "duration": 42,
    "start_time": "2022-02-21T13:22:50.210Z"
   },
   {
    "duration": 18,
    "start_time": "2022-02-21T13:22:50.254Z"
   },
   {
    "duration": 10,
    "start_time": "2022-02-21T13:22:50.273Z"
   },
   {
    "duration": 11,
    "start_time": "2022-02-21T13:22:50.285Z"
   },
   {
    "duration": 11,
    "start_time": "2022-02-21T13:22:50.298Z"
   },
   {
    "duration": 677,
    "start_time": "2022-02-21T13:28:12.122Z"
   },
   {
    "duration": 25,
    "start_time": "2022-02-21T13:28:12.800Z"
   },
   {
    "duration": 57,
    "start_time": "2022-02-21T13:28:12.827Z"
   },
   {
    "duration": 3,
    "start_time": "2022-02-21T13:28:12.887Z"
   },
   {
    "duration": 36,
    "start_time": "2022-02-21T13:28:12.892Z"
   },
   {
    "duration": 23,
    "start_time": "2022-02-21T13:28:12.930Z"
   },
   {
    "duration": 26,
    "start_time": "2022-02-21T13:28:12.954Z"
   },
   {
    "duration": 64,
    "start_time": "2022-02-21T13:28:12.982Z"
   },
   {
    "duration": 18,
    "start_time": "2022-02-21T13:28:13.047Z"
   },
   {
    "duration": 9,
    "start_time": "2022-02-21T13:28:13.067Z"
   },
   {
    "duration": 23,
    "start_time": "2022-02-21T13:28:13.077Z"
   },
   {
    "duration": 10,
    "start_time": "2022-02-21T13:28:13.101Z"
   },
   {
    "duration": 12,
    "start_time": "2022-02-21T13:28:13.112Z"
   },
   {
    "duration": 24,
    "start_time": "2022-02-21T13:28:13.125Z"
   },
   {
    "duration": 682,
    "start_time": "2022-02-21T19:25:31.285Z"
   },
   {
    "duration": 23,
    "start_time": "2022-02-21T19:25:31.969Z"
   },
   {
    "duration": 62,
    "start_time": "2022-02-21T19:25:31.994Z"
   },
   {
    "duration": 4,
    "start_time": "2022-02-21T19:25:32.057Z"
   },
   {
    "duration": 43,
    "start_time": "2022-02-21T19:25:32.062Z"
   },
   {
    "duration": 20,
    "start_time": "2022-02-21T19:25:32.107Z"
   },
   {
    "duration": 28,
    "start_time": "2022-02-21T19:25:32.146Z"
   },
   {
    "duration": 26,
    "start_time": "2022-02-21T19:25:32.176Z"
   },
   {
    "duration": 54,
    "start_time": "2022-02-21T19:25:32.204Z"
   },
   {
    "duration": 10,
    "start_time": "2022-02-21T19:25:32.260Z"
   },
   {
    "duration": 17,
    "start_time": "2022-02-21T19:25:32.272Z"
   },
   {
    "duration": 11,
    "start_time": "2022-02-21T19:25:32.291Z"
   },
   {
    "duration": 13,
    "start_time": "2022-02-21T19:25:32.304Z"
   },
   {
    "duration": 35,
    "start_time": "2022-02-21T19:25:32.318Z"
   },
   {
    "duration": 10,
    "start_time": "2022-02-21T19:27:11.264Z"
   },
   {
    "duration": 9,
    "start_time": "2022-02-21T19:27:35.154Z"
   },
   {
    "duration": 21,
    "start_time": "2022-02-21T19:28:28.694Z"
   },
   {
    "duration": 15,
    "start_time": "2022-02-21T19:29:24.535Z"
   },
   {
    "duration": 907,
    "start_time": "2022-03-15T20:02:26.492Z"
   },
   {
    "duration": 170,
    "start_time": "2022-03-15T20:02:27.401Z"
   },
   {
    "duration": 682,
    "start_time": "2022-03-15T20:02:27.574Z"
   },
   {
    "duration": 6,
    "start_time": "2022-03-15T20:02:28.259Z"
   },
   {
    "duration": 73,
    "start_time": "2022-03-15T20:02:28.268Z"
   },
   {
    "duration": 59,
    "start_time": "2022-03-15T20:02:28.343Z"
   },
   {
    "duration": 81,
    "start_time": "2022-03-15T20:02:28.405Z"
   },
   {
    "duration": 45,
    "start_time": "2022-03-15T20:02:28.490Z"
   },
   {
    "duration": 68,
    "start_time": "2022-03-15T20:02:28.538Z"
   },
   {
    "duration": 78,
    "start_time": "2022-03-15T20:02:28.608Z"
   },
   {
    "duration": 92,
    "start_time": "2022-03-15T20:02:28.688Z"
   },
   {
    "duration": 80,
    "start_time": "2022-03-15T20:02:28.782Z"
   },
   {
    "duration": 82,
    "start_time": "2022-03-15T20:02:28.864Z"
   },
   {
    "duration": 81,
    "start_time": "2022-03-15T20:02:28.948Z"
   }
  ],
  "kernelspec": {
   "display_name": "Python 3",
   "language": "python",
   "name": "python3"
  },
  "language_info": {
   "codemirror_mode": {
    "name": "ipython",
    "version": 3
   },
   "file_extension": ".py",
   "mimetype": "text/x-python",
   "name": "python",
   "nbconvert_exporter": "python",
   "pygments_lexer": "ipython3",
   "version": "3.7.10"
  },
  "toc": {
   "base_numbering": 1,
   "nav_menu": {},
   "number_sections": false,
   "sideBar": true,
   "skip_h1_title": false,
   "title_cell": "Table of Contents",
   "title_sidebar": "Contents",
   "toc_cell": false,
   "toc_position": {
    "height": "calc(100% - 180px)",
    "left": "10px",
    "top": "150px",
    "width": "366.391px"
   },
   "toc_section_display": true,
   "toc_window_display": true
  }
 },
 "nbformat": 4,
 "nbformat_minor": 2
}
