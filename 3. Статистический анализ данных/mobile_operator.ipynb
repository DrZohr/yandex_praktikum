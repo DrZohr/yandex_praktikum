{
 "cells": [
  {
   "cell_type": "markdown",
   "metadata": {},
   "source": [
    "# Описание проекта\n",
    "\n",
    "Коммерческий департамент компании «Мегалайн» хочет понять, какой тариф приносит больше денег. Это нужно для того, чтобы скорректировать рекламный бюджет.\n",
    "\n",
    "# Описание тарифов\n",
    "\n",
    "* Тариф «Смарт»:\n",
    "    * Ежемесячная плата: 550 рублей\n",
    "    * Включено 500 минут разговора, 50 сообщений и 15 Гб интернет-трафика\n",
    "    * Стоимость услуг сверх тарифного пакета: 1. минута разговора: 3 рубля («Мегалайн» всегда округляет вверх значения минут и мегабайтов. Если пользователь проговорил всего 1 секунду, в тарифе засчитывается целая минута); 2. сообщение: 3 рубля; 3. 1 Гб интернет-трафика: 200 рублей.\n",
    "* Тариф «Ультра»:\n",
    "    * Ежемесячная плата: 1950 рублей\n",
    "    * Включено 3000 минут разговора, 1000 сообщений и 30 Гб интернет-трафика\n",
    "    * Стоимость услуг сверх тарифного пакета: 1. минута разговора: 1 рубль; 2. сообщение: 1 рубль; 3. 1 Гб интернет-трафика: 150 рублей.\n",
    "    \n",
    "    \n",
    "**Примечание:**\n",
    "        «Мегалайн» всегда округляет секунды до минут, а мегабайты — до гигабайт. Каждый звонок округляется отдельно: даже если он длился всего 1 секунду, будет засчитан как 1 минута.\n",
    "Для веб-трафика отдельные сессии не считаются. Вместо этого общая сумма за месяц округляется в бо́льшую сторону. Если абонент использует 1025 мегабайт в этом месяце, с него возьмут плату за 2 гигабайта.\n",
    "    \n",
    "    \n",
    "# Описание данных\n",
    "\n",
    "* Таблица users (информация о пользователях):\n",
    "    * user_id — уникальный идентификатор пользователя\n",
    "    * first_name — имя пользователя\n",
    "    * last_name — фамилия пользователя\n",
    "    * age — возраст пользователя (годы)\n",
    "    * reg_date — дата подключения тарифа (день, месяц, год)\n",
    "    * churn_date — дата прекращения пользования тарифом (если значение пропущено, то тариф ещё действовал на момент выгрузки данных)\n",
    "    * city — город проживания пользователя\n",
    "    * tarif — название тарифного плана\n",
    "* Таблица calls (информация о звонках):\n",
    "    * id — уникальный номер звонка\n",
    "    * call_date — дата звонка\n",
    "    * duration — длительность звонка в минутах\n",
    "    * user_id — идентификатор пользователя, сделавшего звонок\n",
    "* Таблица messages (информация о сообщениях):\n",
    "    * id — уникальный номер сообщения\n",
    "    * message_date — дата сообщения\n",
    "    * user_id — идентификатор пользователя, отправившего сообщение\n",
    "* Таблица internet (информация об интернет-сессиях):\n",
    "    * id — уникальный номер сессии\n",
    "    * mb_used — объём потраченного за сессию интернет-трафика (в мегабайтах)\n",
    "    * session_date — дата интернет-сессии\n",
    "    * user_id — идентификатор пользователя\n",
    "* Таблица tariffs (информация о тарифах):\n",
    "    * tariff_name — название тарифа\n",
    "    * rub_monthly_fee — ежемесячная абонентская плата в рублях\n",
    "    * minutes_included — количество минут разговора в месяц, включённых в абонентскую плату\n",
    "    * messages_included — количество сообщений в месяц, включённых в абонентскую плату\n",
    "    * mb_per_month_included — объём интернет-трафика, включённого в абонентскую плату (в мегабайтах)\n",
    "    * rub_per_minute — стоимость минуты разговора сверх тарифного пакета (например, если в тарифе 100 минут разговора в месяц, то со 101 минуты будет взиматься плата)\n",
    "    * rub_per_message — стоимость отправки сообщения сверх тарифного пакета\n",
    "    * rub_per_gb — стоимость дополнительного гигабайта интернет-трафика сверх тарифного пакета (1 гигабайт = 1024 мегабайта)"
   ]
  },
  {
   "cell_type": "markdown",
   "metadata": {},
   "source": [
    "## Изучение общей информации"
   ]
  },
  {
   "cell_type": "markdown",
   "metadata": {},
   "source": [
    "Импортируем необходимые библиотеки для выполнения проекта."
   ]
  },
  {
   "cell_type": "code",
   "execution_count": 1,
   "metadata": {},
   "outputs": [],
   "source": [
    "import pandas as pd\n",
    "import numpy as np\n",
    "import matplotlib.pyplot as plt\n",
    "import seaborn as sns\n",
    "from scipy import stats as st"
   ]
  },
  {
   "cell_type": "markdown",
   "metadata": {},
   "source": [
    "Прочитаем данные файлы и назовем их:\n",
    "* df_users - информация о пользователях; \n",
    "* df_calls - информация о звонках;\n",
    "* df_mess - информация о сообщениях;\n",
    "* df_net - информация об интернет-сессиях;\n",
    "* df_tariff - информация о тарифах."
   ]
  },
  {
   "cell_type": "code",
   "execution_count": 2,
   "metadata": {},
   "outputs": [],
   "source": [
    "df_users = pd.read_csv('/datasets/users.csv')\n",
    "df_users.name = 'Информация о пользователях'"
   ]
  },
  {
   "cell_type": "code",
   "execution_count": 3,
   "metadata": {},
   "outputs": [],
   "source": [
    "df_calls = pd.read_csv('/datasets/calls.csv')\n",
    "df_calls.name = 'Информация о звонках'"
   ]
  },
  {
   "cell_type": "code",
   "execution_count": 4,
   "metadata": {},
   "outputs": [],
   "source": [
    "df_mess = pd.read_csv('/datasets/messages.csv')\n",
    "df_mess.name = 'Информация о сообщениях'"
   ]
  },
  {
   "cell_type": "code",
   "execution_count": 5,
   "metadata": {},
   "outputs": [],
   "source": [
    "df_net = pd.read_csv('/datasets/internet.csv')\n",
    "df_net.name = 'Информация об интернет-сессиях'"
   ]
  },
  {
   "cell_type": "code",
   "execution_count": 6,
   "metadata": {},
   "outputs": [],
   "source": [
    "df_tariff = pd.read_csv('/datasets/tariffs.csv')\n",
    "df_tariff.name = 'Информация о тарифах'"
   ]
  },
  {
   "cell_type": "markdown",
   "metadata": {},
   "source": [
    "Напишем фукнцию def для быстрого вывода определенной информации для каждой таблицы."
   ]
  },
  {
   "cell_type": "code",
   "execution_count": 7,
   "metadata": {},
   "outputs": [],
   "source": [
    "def inf(data: 'DataFrame'):\n",
    "    print(data.name)\n",
    "    print()\n",
    "    print('Описание данных таблицы')\n",
    "    print(data.info())\n",
    "    print('================================================')\n",
    "    print('Процент пропусков в таблице')\n",
    "    print(data.isna().mean())\n",
    "    print('================================================')\n",
    "    print('Визуальный осмотр данных таблицы')\n",
    "    display(data.sample(5))"
   ]
  },
  {
   "cell_type": "code",
   "execution_count": 8,
   "metadata": {},
   "outputs": [
    {
     "name": "stdout",
     "output_type": "stream",
     "text": [
      "Информация о пользователях\n",
      "\n",
      "Описание данных таблицы\n",
      "<class 'pandas.core.frame.DataFrame'>\n",
      "RangeIndex: 500 entries, 0 to 499\n",
      "Data columns (total 8 columns):\n",
      "user_id       500 non-null int64\n",
      "age           500 non-null int64\n",
      "churn_date    38 non-null object\n",
      "city          500 non-null object\n",
      "first_name    500 non-null object\n",
      "last_name     500 non-null object\n",
      "reg_date      500 non-null object\n",
      "tariff        500 non-null object\n",
      "dtypes: int64(2), object(6)\n",
      "memory usage: 31.4+ KB\n",
      "None\n",
      "================================================\n",
      "Процент пропусков в таблице\n",
      "user_id       0.000\n",
      "age           0.000\n",
      "churn_date    0.924\n",
      "city          0.000\n",
      "first_name    0.000\n",
      "last_name     0.000\n",
      "reg_date      0.000\n",
      "tariff        0.000\n",
      "dtype: float64\n",
      "================================================\n",
      "Визуальный осмотр данных таблицы\n"
     ]
    },
    {
     "data": {
      "text/html": [
       "<div>\n",
       "<style scoped>\n",
       "    .dataframe tbody tr th:only-of-type {\n",
       "        vertical-align: middle;\n",
       "    }\n",
       "\n",
       "    .dataframe tbody tr th {\n",
       "        vertical-align: top;\n",
       "    }\n",
       "\n",
       "    .dataframe thead th {\n",
       "        text-align: right;\n",
       "    }\n",
       "</style>\n",
       "<table border=\"1\" class=\"dataframe\">\n",
       "  <thead>\n",
       "    <tr style=\"text-align: right;\">\n",
       "      <th></th>\n",
       "      <th>user_id</th>\n",
       "      <th>age</th>\n",
       "      <th>churn_date</th>\n",
       "      <th>city</th>\n",
       "      <th>first_name</th>\n",
       "      <th>last_name</th>\n",
       "      <th>reg_date</th>\n",
       "      <th>tariff</th>\n",
       "    </tr>\n",
       "  </thead>\n",
       "  <tbody>\n",
       "    <tr>\n",
       "      <td>432</td>\n",
       "      <td>1432</td>\n",
       "      <td>48</td>\n",
       "      <td>NaN</td>\n",
       "      <td>Улан-Удэ</td>\n",
       "      <td>Анвар</td>\n",
       "      <td>Кочетков</td>\n",
       "      <td>2018-08-04</td>\n",
       "      <td>smart</td>\n",
       "    </tr>\n",
       "    <tr>\n",
       "      <td>449</td>\n",
       "      <td>1449</td>\n",
       "      <td>55</td>\n",
       "      <td>NaN</td>\n",
       "      <td>Москва</td>\n",
       "      <td>Дана</td>\n",
       "      <td>Новикова</td>\n",
       "      <td>2018-07-16</td>\n",
       "      <td>smart</td>\n",
       "    </tr>\n",
       "    <tr>\n",
       "      <td>227</td>\n",
       "      <td>1227</td>\n",
       "      <td>66</td>\n",
       "      <td>NaN</td>\n",
       "      <td>Санкт-Петербург</td>\n",
       "      <td>Раиса</td>\n",
       "      <td>Калинина</td>\n",
       "      <td>2018-01-09</td>\n",
       "      <td>smart</td>\n",
       "    </tr>\n",
       "    <tr>\n",
       "      <td>388</td>\n",
       "      <td>1388</td>\n",
       "      <td>24</td>\n",
       "      <td>NaN</td>\n",
       "      <td>Вологда</td>\n",
       "      <td>Рустам</td>\n",
       "      <td>Левин</td>\n",
       "      <td>2018-08-27</td>\n",
       "      <td>smart</td>\n",
       "    </tr>\n",
       "    <tr>\n",
       "      <td>448</td>\n",
       "      <td>1448</td>\n",
       "      <td>42</td>\n",
       "      <td>NaN</td>\n",
       "      <td>Кострома</td>\n",
       "      <td>Ростислав</td>\n",
       "      <td>Дроздов</td>\n",
       "      <td>2018-09-16</td>\n",
       "      <td>smart</td>\n",
       "    </tr>\n",
       "  </tbody>\n",
       "</table>\n",
       "</div>"
      ],
      "text/plain": [
       "     user_id  age churn_date             city first_name last_name  \\\n",
       "432     1432   48        NaN         Улан-Удэ      Анвар  Кочетков   \n",
       "449     1449   55        NaN           Москва       Дана  Новикова   \n",
       "227     1227   66        NaN  Санкт-Петербург      Раиса  Калинина   \n",
       "388     1388   24        NaN          Вологда     Рустам     Левин   \n",
       "448     1448   42        NaN         Кострома  Ростислав   Дроздов   \n",
       "\n",
       "       reg_date tariff  \n",
       "432  2018-08-04  smart  \n",
       "449  2018-07-16  smart  \n",
       "227  2018-01-09  smart  \n",
       "388  2018-08-27  smart  \n",
       "448  2018-09-16  smart  "
      ]
     },
     "metadata": {},
     "output_type": "display_data"
    }
   ],
   "source": [
    "inf(df_users)"
   ]
  },
  {
   "cell_type": "markdown",
   "metadata": {},
   "source": [
    "В таблице df_users в столбце churn_date присутствует 92% пропусков, но так как этот столбец характеризует дату прекращения пользования тарифом, то пропущенные данные обозначают, что клиент на момент выгрузки информации все еще пользовался услугами компании, поэтому не будем удалять и заполнять эти пропуски.\n",
    "Значения в столбцах churn_date и reg_date имеют некорректный тип данных object, поэтому надо изменить его на тип datetime64."
   ]
  },
  {
   "cell_type": "code",
   "execution_count": 9,
   "metadata": {},
   "outputs": [
    {
     "name": "stdout",
     "output_type": "stream",
     "text": [
      "Информация о звонках\n",
      "\n",
      "Описание данных таблицы\n",
      "<class 'pandas.core.frame.DataFrame'>\n",
      "RangeIndex: 202607 entries, 0 to 202606\n",
      "Data columns (total 4 columns):\n",
      "id           202607 non-null object\n",
      "call_date    202607 non-null object\n",
      "duration     202607 non-null float64\n",
      "user_id      202607 non-null int64\n",
      "dtypes: float64(1), int64(1), object(2)\n",
      "memory usage: 6.2+ MB\n",
      "None\n",
      "================================================\n",
      "Процент пропусков в таблице\n",
      "id           0.0\n",
      "call_date    0.0\n",
      "duration     0.0\n",
      "user_id      0.0\n",
      "dtype: float64\n",
      "================================================\n",
      "Визуальный осмотр данных таблицы\n"
     ]
    },
    {
     "data": {
      "text/html": [
       "<div>\n",
       "<style scoped>\n",
       "    .dataframe tbody tr th:only-of-type {\n",
       "        vertical-align: middle;\n",
       "    }\n",
       "\n",
       "    .dataframe tbody tr th {\n",
       "        vertical-align: top;\n",
       "    }\n",
       "\n",
       "    .dataframe thead th {\n",
       "        text-align: right;\n",
       "    }\n",
       "</style>\n",
       "<table border=\"1\" class=\"dataframe\">\n",
       "  <thead>\n",
       "    <tr style=\"text-align: right;\">\n",
       "      <th></th>\n",
       "      <th>id</th>\n",
       "      <th>call_date</th>\n",
       "      <th>duration</th>\n",
       "      <th>user_id</th>\n",
       "    </tr>\n",
       "  </thead>\n",
       "  <tbody>\n",
       "    <tr>\n",
       "      <td>75810</td>\n",
       "      <td>1189_478</td>\n",
       "      <td>2018-05-30</td>\n",
       "      <td>12.17</td>\n",
       "      <td>1189</td>\n",
       "    </tr>\n",
       "    <tr>\n",
       "      <td>162136</td>\n",
       "      <td>1398_48</td>\n",
       "      <td>2018-12-27</td>\n",
       "      <td>0.00</td>\n",
       "      <td>1398</td>\n",
       "    </tr>\n",
       "    <tr>\n",
       "      <td>38201</td>\n",
       "      <td>1095_29</td>\n",
       "      <td>2018-12-23</td>\n",
       "      <td>8.98</td>\n",
       "      <td>1095</td>\n",
       "    </tr>\n",
       "    <tr>\n",
       "      <td>73078</td>\n",
       "      <td>1184_52</td>\n",
       "      <td>2018-12-20</td>\n",
       "      <td>0.00</td>\n",
       "      <td>1184</td>\n",
       "    </tr>\n",
       "    <tr>\n",
       "      <td>97261</td>\n",
       "      <td>1248_104</td>\n",
       "      <td>2018-08-19</td>\n",
       "      <td>16.59</td>\n",
       "      <td>1248</td>\n",
       "    </tr>\n",
       "  </tbody>\n",
       "</table>\n",
       "</div>"
      ],
      "text/plain": [
       "              id   call_date  duration  user_id\n",
       "75810   1189_478  2018-05-30     12.17     1189\n",
       "162136   1398_48  2018-12-27      0.00     1398\n",
       "38201    1095_29  2018-12-23      8.98     1095\n",
       "73078    1184_52  2018-12-20      0.00     1184\n",
       "97261   1248_104  2018-08-19     16.59     1248"
      ]
     },
     "metadata": {},
     "output_type": "display_data"
    }
   ],
   "source": [
    "inf(df_calls)"
   ]
  },
  {
   "cell_type": "markdown",
   "metadata": {},
   "source": [
    "В таблице df_calls в столбце call_date надо также произвести замену типа данных с object на datetime64."
   ]
  },
  {
   "cell_type": "code",
   "execution_count": 10,
   "metadata": {},
   "outputs": [
    {
     "name": "stdout",
     "output_type": "stream",
     "text": [
      "Информация о сообщениях\n",
      "\n",
      "Описание данных таблицы\n",
      "<class 'pandas.core.frame.DataFrame'>\n",
      "RangeIndex: 123036 entries, 0 to 123035\n",
      "Data columns (total 3 columns):\n",
      "id              123036 non-null object\n",
      "message_date    123036 non-null object\n",
      "user_id         123036 non-null int64\n",
      "dtypes: int64(1), object(2)\n",
      "memory usage: 2.8+ MB\n",
      "None\n",
      "================================================\n",
      "Процент пропусков в таблице\n",
      "id              0.0\n",
      "message_date    0.0\n",
      "user_id         0.0\n",
      "dtype: float64\n",
      "================================================\n",
      "Визуальный осмотр данных таблицы\n"
     ]
    },
    {
     "data": {
      "text/html": [
       "<div>\n",
       "<style scoped>\n",
       "    .dataframe tbody tr th:only-of-type {\n",
       "        vertical-align: middle;\n",
       "    }\n",
       "\n",
       "    .dataframe tbody tr th {\n",
       "        vertical-align: top;\n",
       "    }\n",
       "\n",
       "    .dataframe thead th {\n",
       "        text-align: right;\n",
       "    }\n",
       "</style>\n",
       "<table border=\"1\" class=\"dataframe\">\n",
       "  <thead>\n",
       "    <tr style=\"text-align: right;\">\n",
       "      <th></th>\n",
       "      <th>id</th>\n",
       "      <th>message_date</th>\n",
       "      <th>user_id</th>\n",
       "    </tr>\n",
       "  </thead>\n",
       "  <tbody>\n",
       "    <tr>\n",
       "      <td>102109</td>\n",
       "      <td>1416_426</td>\n",
       "      <td>2018-09-02</td>\n",
       "      <td>1416</td>\n",
       "    </tr>\n",
       "    <tr>\n",
       "      <td>33195</td>\n",
       "      <td>1145_848</td>\n",
       "      <td>2018-10-13</td>\n",
       "      <td>1145</td>\n",
       "    </tr>\n",
       "    <tr>\n",
       "      <td>78584</td>\n",
       "      <td>1330_610</td>\n",
       "      <td>2018-09-05</td>\n",
       "      <td>1330</td>\n",
       "    </tr>\n",
       "    <tr>\n",
       "      <td>66619</td>\n",
       "      <td>1284_207</td>\n",
       "      <td>2018-11-05</td>\n",
       "      <td>1284</td>\n",
       "    </tr>\n",
       "    <tr>\n",
       "      <td>84982</td>\n",
       "      <td>1355_79</td>\n",
       "      <td>2018-11-09</td>\n",
       "      <td>1355</td>\n",
       "    </tr>\n",
       "  </tbody>\n",
       "</table>\n",
       "</div>"
      ],
      "text/plain": [
       "              id message_date  user_id\n",
       "102109  1416_426   2018-09-02     1416\n",
       "33195   1145_848   2018-10-13     1145\n",
       "78584   1330_610   2018-09-05     1330\n",
       "66619   1284_207   2018-11-05     1284\n",
       "84982    1355_79   2018-11-09     1355"
      ]
     },
     "metadata": {},
     "output_type": "display_data"
    }
   ],
   "source": [
    "inf(df_mess)"
   ]
  },
  {
   "cell_type": "markdown",
   "metadata": {},
   "source": [
    "Также требуется изменить тип данных в столбце message_date с object на datetime64."
   ]
  },
  {
   "cell_type": "code",
   "execution_count": 11,
   "metadata": {},
   "outputs": [
    {
     "name": "stdout",
     "output_type": "stream",
     "text": [
      "Информация об интернет-сессиях\n",
      "\n",
      "Описание данных таблицы\n",
      "<class 'pandas.core.frame.DataFrame'>\n",
      "RangeIndex: 149396 entries, 0 to 149395\n",
      "Data columns (total 5 columns):\n",
      "Unnamed: 0      149396 non-null int64\n",
      "id              149396 non-null object\n",
      "mb_used         149396 non-null float64\n",
      "session_date    149396 non-null object\n",
      "user_id         149396 non-null int64\n",
      "dtypes: float64(1), int64(2), object(2)\n",
      "memory usage: 5.7+ MB\n",
      "None\n",
      "================================================\n",
      "Процент пропусков в таблице\n",
      "Unnamed: 0      0.0\n",
      "id              0.0\n",
      "mb_used         0.0\n",
      "session_date    0.0\n",
      "user_id         0.0\n",
      "dtype: float64\n",
      "================================================\n",
      "Визуальный осмотр данных таблицы\n"
     ]
    },
    {
     "data": {
      "text/html": [
       "<div>\n",
       "<style scoped>\n",
       "    .dataframe tbody tr th:only-of-type {\n",
       "        vertical-align: middle;\n",
       "    }\n",
       "\n",
       "    .dataframe tbody tr th {\n",
       "        vertical-align: top;\n",
       "    }\n",
       "\n",
       "    .dataframe thead th {\n",
       "        text-align: right;\n",
       "    }\n",
       "</style>\n",
       "<table border=\"1\" class=\"dataframe\">\n",
       "  <thead>\n",
       "    <tr style=\"text-align: right;\">\n",
       "      <th></th>\n",
       "      <th>Unnamed: 0</th>\n",
       "      <th>id</th>\n",
       "      <th>mb_used</th>\n",
       "      <th>session_date</th>\n",
       "      <th>user_id</th>\n",
       "    </tr>\n",
       "  </thead>\n",
       "  <tbody>\n",
       "    <tr>\n",
       "      <td>142429</td>\n",
       "      <td>142429</td>\n",
       "      <td>1477_326</td>\n",
       "      <td>670.70</td>\n",
       "      <td>2018-09-20</td>\n",
       "      <td>1477</td>\n",
       "    </tr>\n",
       "    <tr>\n",
       "      <td>127460</td>\n",
       "      <td>127460</td>\n",
       "      <td>1427_279</td>\n",
       "      <td>0.00</td>\n",
       "      <td>2018-05-22</td>\n",
       "      <td>1427</td>\n",
       "    </tr>\n",
       "    <tr>\n",
       "      <td>59833</td>\n",
       "      <td>59833</td>\n",
       "      <td>1203_81</td>\n",
       "      <td>345.88</td>\n",
       "      <td>2018-05-04</td>\n",
       "      <td>1203</td>\n",
       "    </tr>\n",
       "    <tr>\n",
       "      <td>24443</td>\n",
       "      <td>24443</td>\n",
       "      <td>1083_323</td>\n",
       "      <td>21.55</td>\n",
       "      <td>2018-07-13</td>\n",
       "      <td>1083</td>\n",
       "    </tr>\n",
       "    <tr>\n",
       "      <td>18170</td>\n",
       "      <td>18170</td>\n",
       "      <td>1063_191</td>\n",
       "      <td>498.21</td>\n",
       "      <td>2018-07-31</td>\n",
       "      <td>1063</td>\n",
       "    </tr>\n",
       "  </tbody>\n",
       "</table>\n",
       "</div>"
      ],
      "text/plain": [
       "        Unnamed: 0        id  mb_used session_date  user_id\n",
       "142429      142429  1477_326   670.70   2018-09-20     1477\n",
       "127460      127460  1427_279     0.00   2018-05-22     1427\n",
       "59833        59833   1203_81   345.88   2018-05-04     1203\n",
       "24443        24443  1083_323    21.55   2018-07-13     1083\n",
       "18170        18170  1063_191   498.21   2018-07-31     1063"
      ]
     },
     "metadata": {},
     "output_type": "display_data"
    }
   ],
   "source": [
    "inf(df_net)"
   ]
  },
  {
   "cell_type": "markdown",
   "metadata": {},
   "source": [
    "При выгрузке данных в таблицу df_net дублировался столбец c индексами строк *Unnamed: 0* и , следовательно, его нужно удалить. \n",
    "Опять же в столбце session_date требуется изменить тип данных на datetime64."
   ]
  },
  {
   "cell_type": "code",
   "execution_count": 12,
   "metadata": {},
   "outputs": [
    {
     "name": "stdout",
     "output_type": "stream",
     "text": [
      "<class 'pandas.core.frame.DataFrame'>\n",
      "RangeIndex: 2 entries, 0 to 1\n",
      "Data columns (total 8 columns):\n",
      "messages_included        2 non-null int64\n",
      "mb_per_month_included    2 non-null int64\n",
      "minutes_included         2 non-null int64\n",
      "rub_monthly_fee          2 non-null int64\n",
      "rub_per_gb               2 non-null int64\n",
      "rub_per_message          2 non-null int64\n",
      "rub_per_minute           2 non-null int64\n",
      "tariff_name              2 non-null object\n",
      "dtypes: int64(7), object(1)\n",
      "memory usage: 256.0+ bytes\n"
     ]
    },
    {
     "data": {
      "text/html": [
       "<div>\n",
       "<style scoped>\n",
       "    .dataframe tbody tr th:only-of-type {\n",
       "        vertical-align: middle;\n",
       "    }\n",
       "\n",
       "    .dataframe tbody tr th {\n",
       "        vertical-align: top;\n",
       "    }\n",
       "\n",
       "    .dataframe thead th {\n",
       "        text-align: right;\n",
       "    }\n",
       "</style>\n",
       "<table border=\"1\" class=\"dataframe\">\n",
       "  <thead>\n",
       "    <tr style=\"text-align: right;\">\n",
       "      <th></th>\n",
       "      <th>messages_included</th>\n",
       "      <th>mb_per_month_included</th>\n",
       "      <th>minutes_included</th>\n",
       "      <th>rub_monthly_fee</th>\n",
       "      <th>rub_per_gb</th>\n",
       "      <th>rub_per_message</th>\n",
       "      <th>rub_per_minute</th>\n",
       "      <th>tariff_name</th>\n",
       "    </tr>\n",
       "  </thead>\n",
       "  <tbody>\n",
       "    <tr>\n",
       "      <td>0</td>\n",
       "      <td>50</td>\n",
       "      <td>15360</td>\n",
       "      <td>500</td>\n",
       "      <td>550</td>\n",
       "      <td>200</td>\n",
       "      <td>3</td>\n",
       "      <td>3</td>\n",
       "      <td>smart</td>\n",
       "    </tr>\n",
       "    <tr>\n",
       "      <td>1</td>\n",
       "      <td>1000</td>\n",
       "      <td>30720</td>\n",
       "      <td>3000</td>\n",
       "      <td>1950</td>\n",
       "      <td>150</td>\n",
       "      <td>1</td>\n",
       "      <td>1</td>\n",
       "      <td>ultra</td>\n",
       "    </tr>\n",
       "  </tbody>\n",
       "</table>\n",
       "</div>"
      ],
      "text/plain": [
       "   messages_included  mb_per_month_included  minutes_included  \\\n",
       "0                 50                  15360               500   \n",
       "1               1000                  30720              3000   \n",
       "\n",
       "   rub_monthly_fee  rub_per_gb  rub_per_message  rub_per_minute tariff_name  \n",
       "0              550         200                3               3       smart  \n",
       "1             1950         150                1               1       ultra  "
      ]
     },
     "execution_count": 12,
     "metadata": {},
     "output_type": "execute_result"
    }
   ],
   "source": [
    "df_tariff.info()\n",
    "df_tariff"
   ]
  },
  {
   "cell_type": "markdown",
   "metadata": {},
   "source": [
    "В таблице df_tariff все в порядке."
   ]
  },
  {
   "cell_type": "markdown",
   "metadata": {},
   "source": [
    "### Вывод"
   ]
  },
  {
   "cell_type": "markdown",
   "metadata": {},
   "source": [
    "Предоставленные данные находятся в практически идеальном состоянии, кроме того, что надо изменить все данные с датами на соответсвующий тип, также необходимо удалить столбец *Unnamed: 0* в таблице df_net, который дублирует индексы в таблице и попал в таблицу по ошибке."
   ]
  },
  {
   "cell_type": "markdown",
   "metadata": {},
   "source": [
    "## Предобработка данных"
   ]
  },
  {
   "cell_type": "markdown",
   "metadata": {},
   "source": [
    "Первым делом поменяем типы данных в столбцах с датами на datetime64."
   ]
  },
  {
   "cell_type": "code",
   "execution_count": 13,
   "metadata": {},
   "outputs": [],
   "source": [
    "df_users['churn_date'] = pd.to_datetime((df_users['churn_date']), format = '%Y-%m-%d')"
   ]
  },
  {
   "cell_type": "code",
   "execution_count": 14,
   "metadata": {},
   "outputs": [],
   "source": [
    "df_users['reg_date'] = pd.to_datetime((df_users['reg_date']), format = '%Y-%m-%d')"
   ]
  },
  {
   "cell_type": "code",
   "execution_count": 15,
   "metadata": {},
   "outputs": [],
   "source": [
    "df_calls['call_date'] = pd.to_datetime((df_calls['call_date']), format = '%Y-%m-%d')"
   ]
  },
  {
   "cell_type": "code",
   "execution_count": 16,
   "metadata": {},
   "outputs": [],
   "source": [
    "df_mess['message_date'] = pd.to_datetime((df_mess['message_date']), format = '%Y-%m-%d')"
   ]
  },
  {
   "cell_type": "code",
   "execution_count": 17,
   "metadata": {},
   "outputs": [],
   "source": [
    "df_net['session_date'] = pd.to_datetime((df_net['session_date']), format = '%Y-%m-%d')"
   ]
  },
  {
   "cell_type": "markdown",
   "metadata": {},
   "source": [
    "Удалим ненужный столбец *Unnamed: 0* в таблице df_net."
   ]
  },
  {
   "cell_type": "code",
   "execution_count": 18,
   "metadata": {},
   "outputs": [],
   "source": [
    "df_net = df_net.drop('Unnamed: 0', axis = 1)"
   ]
  },
  {
   "cell_type": "markdown",
   "metadata": {},
   "source": [
    "Проверим все таблицы на наличие дубликатов."
   ]
  },
  {
   "cell_type": "code",
   "execution_count": 19,
   "metadata": {},
   "outputs": [
    {
     "name": "stdout",
     "output_type": "stream",
     "text": [
      "Количество дубликатов в таблице df_users: 0\n",
      "Количество дубликатов в таблице df_mess: 0\n",
      "Количество дубликатов в таблице df_calls: 0\n",
      "Количество дубликатов в таблице df_net: 0\n"
     ]
    }
   ],
   "source": [
    "print('Количество дубликатов в таблице df_users: {:}'.format(df_users.duplicated().sum()))\n",
    "print('Количество дубликатов в таблице df_mess: {:}'.format(df_mess.duplicated().sum()))\n",
    "print('Количество дубликатов в таблице df_calls: {:}'.format(df_calls.duplicated().sum()))\n",
    "print('Количество дубликатов в таблице df_net: {:}'.format(df_net.duplicated().sum()))"
   ]
  },
  {
   "cell_type": "markdown",
   "metadata": {},
   "source": [
    "Дубликаты не обнаружены."
   ]
  },
  {
   "cell_type": "markdown",
   "metadata": {},
   "source": [
    "Так как каждый звонок округляется отдельно(даже если он длился всего 1 секунду, будет засчитан как 1 минута), то округлим значение каждого звонка до ближайшего целого числа."
   ]
  },
  {
   "cell_type": "code",
   "execution_count": 20,
   "metadata": {},
   "outputs": [],
   "source": [
    "df_calls['duration'] = df_calls['duration'].apply(np.ceil)"
   ]
  },
  {
   "cell_type": "markdown",
   "metadata": {},
   "source": [
    "### Вывод"
   ]
  },
  {
   "cell_type": "markdown",
   "metadata": {},
   "source": [
    "В этом пункте мы проделали следующие шаги:\n",
    "* замена типа данных в столбцах churn_date, reg_date, call_date, message_date, session_date с object на datetime64;\n",
    "* удаление столбца *Unnamed: 0* из таблицы df_net;\n",
    "* проверка на отстутствие дубликатов;\n",
    "* округление значения длительности звонка в большую сторону для правильного подсчета выручки с каждого клиента."
   ]
  },
  {
   "cell_type": "markdown",
   "metadata": {},
   "source": [
    "## Подготовка данных к анализу"
   ]
  },
  {
   "cell_type": "markdown",
   "metadata": {},
   "source": [
    "Для удобства анализа сгруппируем данные по месяцам и по пользователям в таблицах df_calls, df_mess, df_net, суммируя значения длительности звонка, количества сообщений и объема трафика, соответственно. Для этого нужно сначала добавить столбец со значением месяца в каждую из таблиц."
   ]
  },
  {
   "cell_type": "markdown",
   "metadata": {},
   "source": [
    "Добавим столбец month в таблицу df_calls."
   ]
  },
  {
   "cell_type": "code",
   "execution_count": 21,
   "metadata": {},
   "outputs": [],
   "source": [
    "df_calls['month'] = df_calls['call_date'].dt.month"
   ]
  },
  {
   "cell_type": "markdown",
   "metadata": {},
   "source": [
    "Сгруппируем данные в таблице df_calls по месяцам и по пользователям, суммируя значения длительности звонка, составив сводную таблицу."
   ]
  },
  {
   "cell_type": "code",
   "execution_count": 22,
   "metadata": {},
   "outputs": [],
   "source": [
    "df_calls_pivot = df_calls.pivot_table(index = ['month', 'user_id'], values = 'duration', aggfunc = ['sum', 'count'])"
   ]
  },
  {
   "cell_type": "markdown",
   "metadata": {},
   "source": [
    "Переименуем названия столбцов на более подходящее."
   ]
  },
  {
   "cell_type": "code",
   "execution_count": 23,
   "metadata": {},
   "outputs": [
    {
     "data": {
      "text/html": [
       "<div>\n",
       "<style scoped>\n",
       "    .dataframe tbody tr th:only-of-type {\n",
       "        vertical-align: middle;\n",
       "    }\n",
       "\n",
       "    .dataframe tbody tr th {\n",
       "        vertical-align: top;\n",
       "    }\n",
       "\n",
       "    .dataframe thead th {\n",
       "        text-align: right;\n",
       "    }\n",
       "</style>\n",
       "<table border=\"1\" class=\"dataframe\">\n",
       "  <thead>\n",
       "    <tr style=\"text-align: right;\">\n",
       "      <th></th>\n",
       "      <th></th>\n",
       "      <th>calls_duration</th>\n",
       "      <th>calls_count</th>\n",
       "    </tr>\n",
       "    <tr>\n",
       "      <th>month</th>\n",
       "      <th>user_id</th>\n",
       "      <th></th>\n",
       "      <th></th>\n",
       "    </tr>\n",
       "  </thead>\n",
       "  <tbody>\n",
       "    <tr>\n",
       "      <td rowspan=\"5\" valign=\"top\">1</td>\n",
       "      <td>1005</td>\n",
       "      <td>95.0</td>\n",
       "      <td>15</td>\n",
       "    </tr>\n",
       "    <tr>\n",
       "      <td>1032</td>\n",
       "      <td>380.0</td>\n",
       "      <td>61</td>\n",
       "    </tr>\n",
       "    <tr>\n",
       "      <td>1045</td>\n",
       "      <td>9.0</td>\n",
       "      <td>1</td>\n",
       "    </tr>\n",
       "    <tr>\n",
       "      <td>1055</td>\n",
       "      <td>551.0</td>\n",
       "      <td>64</td>\n",
       "    </tr>\n",
       "    <tr>\n",
       "      <td>1071</td>\n",
       "      <td>194.0</td>\n",
       "      <td>24</td>\n",
       "    </tr>\n",
       "    <tr>\n",
       "      <td>...</td>\n",
       "      <td>...</td>\n",
       "      <td>...</td>\n",
       "      <td>...</td>\n",
       "    </tr>\n",
       "    <tr>\n",
       "      <td rowspan=\"5\" valign=\"top\">12</td>\n",
       "      <td>1494</td>\n",
       "      <td>418.0</td>\n",
       "      <td>62</td>\n",
       "    </tr>\n",
       "    <tr>\n",
       "      <td>1495</td>\n",
       "      <td>1031.0</td>\n",
       "      <td>155</td>\n",
       "    </tr>\n",
       "    <tr>\n",
       "      <td>1496</td>\n",
       "      <td>518.0</td>\n",
       "      <td>80</td>\n",
       "    </tr>\n",
       "    <tr>\n",
       "      <td>1497</td>\n",
       "      <td>545.0</td>\n",
       "      <td>71</td>\n",
       "    </tr>\n",
       "    <tr>\n",
       "      <td>1499</td>\n",
       "      <td>492.0</td>\n",
       "      <td>69</td>\n",
       "    </tr>\n",
       "  </tbody>\n",
       "</table>\n",
       "<p>3174 rows × 2 columns</p>\n",
       "</div>"
      ],
      "text/plain": [
       "               calls_duration  calls_count\n",
       "month user_id                             \n",
       "1     1005               95.0           15\n",
       "      1032              380.0           61\n",
       "      1045                9.0            1\n",
       "      1055              551.0           64\n",
       "      1071              194.0           24\n",
       "...                       ...          ...\n",
       "12    1494              418.0           62\n",
       "      1495             1031.0          155\n",
       "      1496              518.0           80\n",
       "      1497              545.0           71\n",
       "      1499              492.0           69\n",
       "\n",
       "[3174 rows x 2 columns]"
      ]
     },
     "execution_count": 23,
     "metadata": {},
     "output_type": "execute_result"
    }
   ],
   "source": [
    "df_calls_pivot.columns = ['calls_duration','calls_count']\n",
    "df_calls_pivot"
   ]
  },
  {
   "cell_type": "markdown",
   "metadata": {},
   "source": [
    "Добавим столбец month в таблицу df_mess."
   ]
  },
  {
   "cell_type": "code",
   "execution_count": 24,
   "metadata": {},
   "outputs": [],
   "source": [
    "df_mess['month'] = df_mess['message_date'].dt.month"
   ]
  },
  {
   "cell_type": "markdown",
   "metadata": {},
   "source": [
    "Сгруппируем данные в таблице df_mess по месяцам и по пользователям, считая количество сообщений, составив сводную таблицу."
   ]
  },
  {
   "cell_type": "code",
   "execution_count": 25,
   "metadata": {},
   "outputs": [],
   "source": [
    "df_mess_pivot = df_mess.pivot_table(index = ['month', 'user_id'], values = 'id', aggfunc = 'count')"
   ]
  },
  {
   "cell_type": "markdown",
   "metadata": {},
   "source": [
    "Переименуем названия столбца id на более подходящее."
   ]
  },
  {
   "cell_type": "code",
   "execution_count": 26,
   "metadata": {},
   "outputs": [
    {
     "data": {
      "text/html": [
       "<div>\n",
       "<style scoped>\n",
       "    .dataframe tbody tr th:only-of-type {\n",
       "        vertical-align: middle;\n",
       "    }\n",
       "\n",
       "    .dataframe tbody tr th {\n",
       "        vertical-align: top;\n",
       "    }\n",
       "\n",
       "    .dataframe thead th {\n",
       "        text-align: right;\n",
       "    }\n",
       "</style>\n",
       "<table border=\"1\" class=\"dataframe\">\n",
       "  <thead>\n",
       "    <tr style=\"text-align: right;\">\n",
       "      <th></th>\n",
       "      <th></th>\n",
       "      <th>messages_count</th>\n",
       "    </tr>\n",
       "    <tr>\n",
       "      <th>month</th>\n",
       "      <th>user_id</th>\n",
       "      <th></th>\n",
       "    </tr>\n",
       "  </thead>\n",
       "  <tbody>\n",
       "    <tr>\n",
       "      <td rowspan=\"5\" valign=\"top\">1</td>\n",
       "      <td>1005</td>\n",
       "      <td>7</td>\n",
       "    </tr>\n",
       "    <tr>\n",
       "      <td>1032</td>\n",
       "      <td>38</td>\n",
       "    </tr>\n",
       "    <tr>\n",
       "      <td>1045</td>\n",
       "      <td>5</td>\n",
       "    </tr>\n",
       "    <tr>\n",
       "      <td>1055</td>\n",
       "      <td>30</td>\n",
       "    </tr>\n",
       "    <tr>\n",
       "      <td>1071</td>\n",
       "      <td>16</td>\n",
       "    </tr>\n",
       "    <tr>\n",
       "      <td>...</td>\n",
       "      <td>...</td>\n",
       "      <td>...</td>\n",
       "    </tr>\n",
       "    <tr>\n",
       "      <td rowspan=\"5\" valign=\"top\">12</td>\n",
       "      <td>1493</td>\n",
       "      <td>78</td>\n",
       "    </tr>\n",
       "    <tr>\n",
       "      <td>1495</td>\n",
       "      <td>84</td>\n",
       "    </tr>\n",
       "    <tr>\n",
       "      <td>1496</td>\n",
       "      <td>51</td>\n",
       "    </tr>\n",
       "    <tr>\n",
       "      <td>1497</td>\n",
       "      <td>17</td>\n",
       "    </tr>\n",
       "    <tr>\n",
       "      <td>1499</td>\n",
       "      <td>66</td>\n",
       "    </tr>\n",
       "  </tbody>\n",
       "</table>\n",
       "<p>2717 rows × 1 columns</p>\n",
       "</div>"
      ],
      "text/plain": [
       "               messages_count\n",
       "month user_id                \n",
       "1     1005                  7\n",
       "      1032                 38\n",
       "      1045                  5\n",
       "      1055                 30\n",
       "      1071                 16\n",
       "...                       ...\n",
       "12    1493                 78\n",
       "      1495                 84\n",
       "      1496                 51\n",
       "      1497                 17\n",
       "      1499                 66\n",
       "\n",
       "[2717 rows x 1 columns]"
      ]
     },
     "execution_count": 26,
     "metadata": {},
     "output_type": "execute_result"
    }
   ],
   "source": [
    "df_mess_pivot.columns = ['messages_count']\n",
    "df_mess_pivot"
   ]
  },
  {
   "cell_type": "markdown",
   "metadata": {},
   "source": [
    "Добавим столбец month в таблицу df_net."
   ]
  },
  {
   "cell_type": "code",
   "execution_count": 27,
   "metadata": {},
   "outputs": [],
   "source": [
    "df_net['month'] = df_net['session_date'].dt.month"
   ]
  },
  {
   "cell_type": "markdown",
   "metadata": {},
   "source": [
    "Сгруппируем данные в таблице df_net по месяцам и по пользователям, суммируя объем трафика, составив сводную таблицу."
   ]
  },
  {
   "cell_type": "code",
   "execution_count": 28,
   "metadata": {},
   "outputs": [
    {
     "data": {
      "text/html": [
       "<div>\n",
       "<style scoped>\n",
       "    .dataframe tbody tr th:only-of-type {\n",
       "        vertical-align: middle;\n",
       "    }\n",
       "\n",
       "    .dataframe tbody tr th {\n",
       "        vertical-align: top;\n",
       "    }\n",
       "\n",
       "    .dataframe thead th {\n",
       "        text-align: right;\n",
       "    }\n",
       "</style>\n",
       "<table border=\"1\" class=\"dataframe\">\n",
       "  <thead>\n",
       "    <tr style=\"text-align: right;\">\n",
       "      <th></th>\n",
       "      <th></th>\n",
       "      <th>mb_used</th>\n",
       "    </tr>\n",
       "    <tr>\n",
       "      <th>month</th>\n",
       "      <th>user_id</th>\n",
       "      <th></th>\n",
       "    </tr>\n",
       "  </thead>\n",
       "  <tbody>\n",
       "    <tr>\n",
       "      <td rowspan=\"5\" valign=\"top\">1</td>\n",
       "      <td>1005</td>\n",
       "      <td>2727.97</td>\n",
       "    </tr>\n",
       "    <tr>\n",
       "      <td>1032</td>\n",
       "      <td>24127.69</td>\n",
       "    </tr>\n",
       "    <tr>\n",
       "      <td>1045</td>\n",
       "      <td>2346.71</td>\n",
       "    </tr>\n",
       "    <tr>\n",
       "      <td>1055</td>\n",
       "      <td>17090.88</td>\n",
       "    </tr>\n",
       "    <tr>\n",
       "      <td>1071</td>\n",
       "      <td>15604.34</td>\n",
       "    </tr>\n",
       "    <tr>\n",
       "      <td>...</td>\n",
       "      <td>...</td>\n",
       "      <td>...</td>\n",
       "    </tr>\n",
       "    <tr>\n",
       "      <td rowspan=\"5\" valign=\"top\">12</td>\n",
       "      <td>1494</td>\n",
       "      <td>17621.21</td>\n",
       "    </tr>\n",
       "    <tr>\n",
       "      <td>1495</td>\n",
       "      <td>23426.76</td>\n",
       "    </tr>\n",
       "    <tr>\n",
       "      <td>1496</td>\n",
       "      <td>20736.15</td>\n",
       "    </tr>\n",
       "    <tr>\n",
       "      <td>1497</td>\n",
       "      <td>19918.60</td>\n",
       "    </tr>\n",
       "    <tr>\n",
       "      <td>1499</td>\n",
       "      <td>13055.58</td>\n",
       "    </tr>\n",
       "  </tbody>\n",
       "</table>\n",
       "<p>3203 rows × 1 columns</p>\n",
       "</div>"
      ],
      "text/plain": [
       "                mb_used\n",
       "month user_id          \n",
       "1     1005      2727.97\n",
       "      1032     24127.69\n",
       "      1045      2346.71\n",
       "      1055     17090.88\n",
       "      1071     15604.34\n",
       "...                 ...\n",
       "12    1494     17621.21\n",
       "      1495     23426.76\n",
       "      1496     20736.15\n",
       "      1497     19918.60\n",
       "      1499     13055.58\n",
       "\n",
       "[3203 rows x 1 columns]"
      ]
     },
     "execution_count": 28,
     "metadata": {},
     "output_type": "execute_result"
    }
   ],
   "source": [
    "df_net_pivot = df_net.pivot_table(index = ['month', 'user_id'], values = 'mb_used', aggfunc = 'sum')\n",
    "df_net_pivot"
   ]
  },
  {
   "cell_type": "markdown",
   "metadata": {},
   "source": [
    "Посчитаем суммарное количество гигабайт трафика за месяц на каждого клиента, разделив столбец mb_used на 1024. Теперь будем работать со значением объема трафика в гигабайтах. \n",
    "Удалим столбец mb_used за ненадобностью."
   ]
  },
  {
   "cell_type": "code",
   "execution_count": 29,
   "metadata": {},
   "outputs": [
    {
     "data": {
      "text/html": [
       "<div>\n",
       "<style scoped>\n",
       "    .dataframe tbody tr th:only-of-type {\n",
       "        vertical-align: middle;\n",
       "    }\n",
       "\n",
       "    .dataframe tbody tr th {\n",
       "        vertical-align: top;\n",
       "    }\n",
       "\n",
       "    .dataframe thead th {\n",
       "        text-align: right;\n",
       "    }\n",
       "</style>\n",
       "<table border=\"1\" class=\"dataframe\">\n",
       "  <thead>\n",
       "    <tr style=\"text-align: right;\">\n",
       "      <th></th>\n",
       "      <th></th>\n",
       "      <th>gb_used</th>\n",
       "    </tr>\n",
       "    <tr>\n",
       "      <th>month</th>\n",
       "      <th>user_id</th>\n",
       "      <th></th>\n",
       "    </tr>\n",
       "  </thead>\n",
       "  <tbody>\n",
       "    <tr>\n",
       "      <td rowspan=\"5\" valign=\"top\">1</td>\n",
       "      <td>1005</td>\n",
       "      <td>2.664033</td>\n",
       "    </tr>\n",
       "    <tr>\n",
       "      <td>1032</td>\n",
       "      <td>23.562197</td>\n",
       "    </tr>\n",
       "    <tr>\n",
       "      <td>1045</td>\n",
       "      <td>2.291709</td>\n",
       "    </tr>\n",
       "    <tr>\n",
       "      <td>1055</td>\n",
       "      <td>16.690313</td>\n",
       "    </tr>\n",
       "    <tr>\n",
       "      <td>1071</td>\n",
       "      <td>15.238613</td>\n",
       "    </tr>\n",
       "    <tr>\n",
       "      <td>...</td>\n",
       "      <td>...</td>\n",
       "      <td>...</td>\n",
       "    </tr>\n",
       "    <tr>\n",
       "      <td rowspan=\"5\" valign=\"top\">12</td>\n",
       "      <td>1494</td>\n",
       "      <td>17.208213</td>\n",
       "    </tr>\n",
       "    <tr>\n",
       "      <td>1495</td>\n",
       "      <td>22.877695</td>\n",
       "    </tr>\n",
       "    <tr>\n",
       "      <td>1496</td>\n",
       "      <td>20.250146</td>\n",
       "    </tr>\n",
       "    <tr>\n",
       "      <td>1497</td>\n",
       "      <td>19.451758</td>\n",
       "    </tr>\n",
       "    <tr>\n",
       "      <td>1499</td>\n",
       "      <td>12.749590</td>\n",
       "    </tr>\n",
       "  </tbody>\n",
       "</table>\n",
       "<p>3203 rows × 1 columns</p>\n",
       "</div>"
      ],
      "text/plain": [
       "                 gb_used\n",
       "month user_id           \n",
       "1     1005      2.664033\n",
       "      1032     23.562197\n",
       "      1045      2.291709\n",
       "      1055     16.690313\n",
       "      1071     15.238613\n",
       "...                  ...\n",
       "12    1494     17.208213\n",
       "      1495     22.877695\n",
       "      1496     20.250146\n",
       "      1497     19.451758\n",
       "      1499     12.749590\n",
       "\n",
       "[3203 rows x 1 columns]"
      ]
     },
     "execution_count": 29,
     "metadata": {},
     "output_type": "execute_result"
    }
   ],
   "source": [
    "mb_in_gb = 1024\n",
    "df_net_pivot['gb_used'] = df_net_pivot['mb_used'] / mb_in_gb\n",
    "df_net_pivot = df_net_pivot.drop('mb_used', axis = 1)\n",
    "df_net_pivot"
   ]
  },
  {
   "cell_type": "markdown",
   "metadata": {},
   "source": [
    "Постепенно объеденим эти сводные таблицы в одну с помощью функции merge, обнулив индексы."
   ]
  },
  {
   "cell_type": "code",
   "execution_count": 30,
   "metadata": {},
   "outputs": [
    {
     "data": {
      "text/html": [
       "<div>\n",
       "<style scoped>\n",
       "    .dataframe tbody tr th:only-of-type {\n",
       "        vertical-align: middle;\n",
       "    }\n",
       "\n",
       "    .dataframe tbody tr th {\n",
       "        vertical-align: top;\n",
       "    }\n",
       "\n",
       "    .dataframe thead th {\n",
       "        text-align: right;\n",
       "    }\n",
       "</style>\n",
       "<table border=\"1\" class=\"dataframe\">\n",
       "  <thead>\n",
       "    <tr style=\"text-align: right;\">\n",
       "      <th></th>\n",
       "      <th>user_id</th>\n",
       "      <th>month</th>\n",
       "      <th>calls_duration</th>\n",
       "      <th>calls_count</th>\n",
       "      <th>messages_count</th>\n",
       "      <th>gb_used</th>\n",
       "    </tr>\n",
       "  </thead>\n",
       "  <tbody>\n",
       "    <tr>\n",
       "      <td>0</td>\n",
       "      <td>1005</td>\n",
       "      <td>1</td>\n",
       "      <td>95.0</td>\n",
       "      <td>15.0</td>\n",
       "      <td>7.0</td>\n",
       "      <td>2.664033</td>\n",
       "    </tr>\n",
       "    <tr>\n",
       "      <td>1</td>\n",
       "      <td>1032</td>\n",
       "      <td>1</td>\n",
       "      <td>380.0</td>\n",
       "      <td>61.0</td>\n",
       "      <td>38.0</td>\n",
       "      <td>23.562197</td>\n",
       "    </tr>\n",
       "    <tr>\n",
       "      <td>2</td>\n",
       "      <td>1045</td>\n",
       "      <td>1</td>\n",
       "      <td>9.0</td>\n",
       "      <td>1.0</td>\n",
       "      <td>5.0</td>\n",
       "      <td>2.291709</td>\n",
       "    </tr>\n",
       "    <tr>\n",
       "      <td>3</td>\n",
       "      <td>1055</td>\n",
       "      <td>1</td>\n",
       "      <td>551.0</td>\n",
       "      <td>64.0</td>\n",
       "      <td>30.0</td>\n",
       "      <td>16.690313</td>\n",
       "    </tr>\n",
       "    <tr>\n",
       "      <td>4</td>\n",
       "      <td>1071</td>\n",
       "      <td>1</td>\n",
       "      <td>194.0</td>\n",
       "      <td>24.0</td>\n",
       "      <td>16.0</td>\n",
       "      <td>15.238613</td>\n",
       "    </tr>\n",
       "    <tr>\n",
       "      <td>...</td>\n",
       "      <td>...</td>\n",
       "      <td>...</td>\n",
       "      <td>...</td>\n",
       "      <td>...</td>\n",
       "      <td>...</td>\n",
       "      <td>...</td>\n",
       "    </tr>\n",
       "    <tr>\n",
       "      <td>3209</td>\n",
       "      <td>1231</td>\n",
       "      <td>12</td>\n",
       "      <td>NaN</td>\n",
       "      <td>NaN</td>\n",
       "      <td>191.0</td>\n",
       "      <td>31.687500</td>\n",
       "    </tr>\n",
       "    <tr>\n",
       "      <td>3210</td>\n",
       "      <td>1328</td>\n",
       "      <td>12</td>\n",
       "      <td>NaN</td>\n",
       "      <td>NaN</td>\n",
       "      <td>7.0</td>\n",
       "      <td>38.495830</td>\n",
       "    </tr>\n",
       "    <tr>\n",
       "      <td>3211</td>\n",
       "      <td>1473</td>\n",
       "      <td>12</td>\n",
       "      <td>NaN</td>\n",
       "      <td>NaN</td>\n",
       "      <td>20.0</td>\n",
       "      <td>17.986582</td>\n",
       "    </tr>\n",
       "    <tr>\n",
       "      <td>3212</td>\n",
       "      <td>1489</td>\n",
       "      <td>12</td>\n",
       "      <td>NaN</td>\n",
       "      <td>NaN</td>\n",
       "      <td>35.0</td>\n",
       "      <td>16.916514</td>\n",
       "    </tr>\n",
       "    <tr>\n",
       "      <td>3213</td>\n",
       "      <td>1476</td>\n",
       "      <td>4</td>\n",
       "      <td>NaN</td>\n",
       "      <td>NaN</td>\n",
       "      <td>NaN</td>\n",
       "      <td>0.518340</td>\n",
       "    </tr>\n",
       "  </tbody>\n",
       "</table>\n",
       "<p>3214 rows × 6 columns</p>\n",
       "</div>"
      ],
      "text/plain": [
       "      user_id  month  calls_duration  calls_count  messages_count    gb_used\n",
       "0        1005      1            95.0         15.0             7.0   2.664033\n",
       "1        1032      1           380.0         61.0            38.0  23.562197\n",
       "2        1045      1             9.0          1.0             5.0   2.291709\n",
       "3        1055      1           551.0         64.0            30.0  16.690313\n",
       "4        1071      1           194.0         24.0            16.0  15.238613\n",
       "...       ...    ...             ...          ...             ...        ...\n",
       "3209     1231     12             NaN          NaN           191.0  31.687500\n",
       "3210     1328     12             NaN          NaN             7.0  38.495830\n",
       "3211     1473     12             NaN          NaN            20.0  17.986582\n",
       "3212     1489     12             NaN          NaN            35.0  16.916514\n",
       "3213     1476      4             NaN          NaN             NaN   0.518340\n",
       "\n",
       "[3214 rows x 6 columns]"
      ]
     },
     "execution_count": 30,
     "metadata": {},
     "output_type": "execute_result"
    }
   ],
   "source": [
    "df_call_mess = df_calls_pivot.merge(df_mess_pivot,on=['user_id','month'],how='outer')\n",
    "df_call_mess_net = df_call_mess.merge(df_net_pivot,on=['user_id','month'],how='outer').reset_index()\n",
    "df_call_mess_net"
   ]
  },
  {
   "cell_type": "markdown",
   "metadata": {},
   "source": [
    "Для проведения анализа в таблице не хватает только информации по тарифам и по месту проживания.\n",
    "Объеденим полученную таблицу с таблицей df_users, так как только там находятся необходимые данные."
   ]
  },
  {
   "cell_type": "code",
   "execution_count": 31,
   "metadata": {},
   "outputs": [
    {
     "data": {
      "text/html": [
       "<div>\n",
       "<style scoped>\n",
       "    .dataframe tbody tr th:only-of-type {\n",
       "        vertical-align: middle;\n",
       "    }\n",
       "\n",
       "    .dataframe tbody tr th {\n",
       "        vertical-align: top;\n",
       "    }\n",
       "\n",
       "    .dataframe thead th {\n",
       "        text-align: right;\n",
       "    }\n",
       "</style>\n",
       "<table border=\"1\" class=\"dataframe\">\n",
       "  <thead>\n",
       "    <tr style=\"text-align: right;\">\n",
       "      <th></th>\n",
       "      <th>user_id</th>\n",
       "      <th>month</th>\n",
       "      <th>calls_duration</th>\n",
       "      <th>calls_count</th>\n",
       "      <th>messages_count</th>\n",
       "      <th>gb_used</th>\n",
       "      <th>age</th>\n",
       "      <th>churn_date</th>\n",
       "      <th>city</th>\n",
       "      <th>first_name</th>\n",
       "      <th>last_name</th>\n",
       "      <th>reg_date</th>\n",
       "      <th>tariff</th>\n",
       "    </tr>\n",
       "  </thead>\n",
       "  <tbody>\n",
       "    <tr>\n",
       "      <td>0</td>\n",
       "      <td>1005</td>\n",
       "      <td>1</td>\n",
       "      <td>95.0</td>\n",
       "      <td>15.0</td>\n",
       "      <td>7.0</td>\n",
       "      <td>2.664033</td>\n",
       "      <td>67</td>\n",
       "      <td>NaT</td>\n",
       "      <td>Набережные Челны</td>\n",
       "      <td>Афанасий</td>\n",
       "      <td>Горлов</td>\n",
       "      <td>2018-01-25</td>\n",
       "      <td>smart</td>\n",
       "    </tr>\n",
       "    <tr>\n",
       "      <td>1</td>\n",
       "      <td>1005</td>\n",
       "      <td>2</td>\n",
       "      <td>456.0</td>\n",
       "      <td>69.0</td>\n",
       "      <td>38.0</td>\n",
       "      <td>7.210869</td>\n",
       "      <td>67</td>\n",
       "      <td>NaT</td>\n",
       "      <td>Набережные Челны</td>\n",
       "      <td>Афанасий</td>\n",
       "      <td>Горлов</td>\n",
       "      <td>2018-01-25</td>\n",
       "      <td>smart</td>\n",
       "    </tr>\n",
       "    <tr>\n",
       "      <td>2</td>\n",
       "      <td>1005</td>\n",
       "      <td>3</td>\n",
       "      <td>606.0</td>\n",
       "      <td>77.0</td>\n",
       "      <td>56.0</td>\n",
       "      <td>10.843994</td>\n",
       "      <td>67</td>\n",
       "      <td>NaT</td>\n",
       "      <td>Набережные Челны</td>\n",
       "      <td>Афанасий</td>\n",
       "      <td>Горлов</td>\n",
       "      <td>2018-01-25</td>\n",
       "      <td>smart</td>\n",
       "    </tr>\n",
       "    <tr>\n",
       "      <td>3</td>\n",
       "      <td>1005</td>\n",
       "      <td>4</td>\n",
       "      <td>712.0</td>\n",
       "      <td>101.0</td>\n",
       "      <td>41.0</td>\n",
       "      <td>9.132539</td>\n",
       "      <td>67</td>\n",
       "      <td>NaT</td>\n",
       "      <td>Набережные Челны</td>\n",
       "      <td>Афанасий</td>\n",
       "      <td>Горлов</td>\n",
       "      <td>2018-01-25</td>\n",
       "      <td>smart</td>\n",
       "    </tr>\n",
       "    <tr>\n",
       "      <td>4</td>\n",
       "      <td>1005</td>\n",
       "      <td>5</td>\n",
       "      <td>595.0</td>\n",
       "      <td>73.0</td>\n",
       "      <td>42.0</td>\n",
       "      <td>7.681182</td>\n",
       "      <td>67</td>\n",
       "      <td>NaT</td>\n",
       "      <td>Набережные Челны</td>\n",
       "      <td>Афанасий</td>\n",
       "      <td>Горлов</td>\n",
       "      <td>2018-01-25</td>\n",
       "      <td>smart</td>\n",
       "    </tr>\n",
       "    <tr>\n",
       "      <td>...</td>\n",
       "      <td>...</td>\n",
       "      <td>...</td>\n",
       "      <td>...</td>\n",
       "      <td>...</td>\n",
       "      <td>...</td>\n",
       "      <td>...</td>\n",
       "      <td>...</td>\n",
       "      <td>...</td>\n",
       "      <td>...</td>\n",
       "      <td>...</td>\n",
       "      <td>...</td>\n",
       "      <td>...</td>\n",
       "      <td>...</td>\n",
       "    </tr>\n",
       "    <tr>\n",
       "      <td>3209</td>\n",
       "      <td>1489</td>\n",
       "      <td>11</td>\n",
       "      <td>NaN</td>\n",
       "      <td>NaN</td>\n",
       "      <td>20.0</td>\n",
       "      <td>17.081602</td>\n",
       "      <td>35</td>\n",
       "      <td>NaT</td>\n",
       "      <td>Санкт-Петербург</td>\n",
       "      <td>Павел</td>\n",
       "      <td>Гончаров</td>\n",
       "      <td>2018-08-15</td>\n",
       "      <td>smart</td>\n",
       "    </tr>\n",
       "    <tr>\n",
       "      <td>3210</td>\n",
       "      <td>1489</td>\n",
       "      <td>12</td>\n",
       "      <td>NaN</td>\n",
       "      <td>NaN</td>\n",
       "      <td>35.0</td>\n",
       "      <td>16.916514</td>\n",
       "      <td>35</td>\n",
       "      <td>NaT</td>\n",
       "      <td>Санкт-Петербург</td>\n",
       "      <td>Павел</td>\n",
       "      <td>Гончаров</td>\n",
       "      <td>2018-08-15</td>\n",
       "      <td>smart</td>\n",
       "    </tr>\n",
       "    <tr>\n",
       "      <td>3211</td>\n",
       "      <td>1328</td>\n",
       "      <td>10</td>\n",
       "      <td>NaN</td>\n",
       "      <td>NaN</td>\n",
       "      <td>6.0</td>\n",
       "      <td>21.902324</td>\n",
       "      <td>44</td>\n",
       "      <td>NaT</td>\n",
       "      <td>Мурманск</td>\n",
       "      <td>Рауль</td>\n",
       "      <td>Аркадьев</td>\n",
       "      <td>2018-10-16</td>\n",
       "      <td>ultra</td>\n",
       "    </tr>\n",
       "    <tr>\n",
       "      <td>3212</td>\n",
       "      <td>1328</td>\n",
       "      <td>11</td>\n",
       "      <td>NaN</td>\n",
       "      <td>NaN</td>\n",
       "      <td>8.0</td>\n",
       "      <td>34.692949</td>\n",
       "      <td>44</td>\n",
       "      <td>NaT</td>\n",
       "      <td>Мурманск</td>\n",
       "      <td>Рауль</td>\n",
       "      <td>Аркадьев</td>\n",
       "      <td>2018-10-16</td>\n",
       "      <td>ultra</td>\n",
       "    </tr>\n",
       "    <tr>\n",
       "      <td>3213</td>\n",
       "      <td>1328</td>\n",
       "      <td>12</td>\n",
       "      <td>NaN</td>\n",
       "      <td>NaN</td>\n",
       "      <td>7.0</td>\n",
       "      <td>38.495830</td>\n",
       "      <td>44</td>\n",
       "      <td>NaT</td>\n",
       "      <td>Мурманск</td>\n",
       "      <td>Рауль</td>\n",
       "      <td>Аркадьев</td>\n",
       "      <td>2018-10-16</td>\n",
       "      <td>ultra</td>\n",
       "    </tr>\n",
       "  </tbody>\n",
       "</table>\n",
       "<p>3214 rows × 13 columns</p>\n",
       "</div>"
      ],
      "text/plain": [
       "      user_id  month  calls_duration  calls_count  messages_count    gb_used  \\\n",
       "0        1005      1            95.0         15.0             7.0   2.664033   \n",
       "1        1005      2           456.0         69.0            38.0   7.210869   \n",
       "2        1005      3           606.0         77.0            56.0  10.843994   \n",
       "3        1005      4           712.0        101.0            41.0   9.132539   \n",
       "4        1005      5           595.0         73.0            42.0   7.681182   \n",
       "...       ...    ...             ...          ...             ...        ...   \n",
       "3209     1489     11             NaN          NaN            20.0  17.081602   \n",
       "3210     1489     12             NaN          NaN            35.0  16.916514   \n",
       "3211     1328     10             NaN          NaN             6.0  21.902324   \n",
       "3212     1328     11             NaN          NaN             8.0  34.692949   \n",
       "3213     1328     12             NaN          NaN             7.0  38.495830   \n",
       "\n",
       "      age churn_date              city first_name last_name   reg_date tariff  \n",
       "0      67        NaT  Набережные Челны   Афанасий    Горлов 2018-01-25  smart  \n",
       "1      67        NaT  Набережные Челны   Афанасий    Горлов 2018-01-25  smart  \n",
       "2      67        NaT  Набережные Челны   Афанасий    Горлов 2018-01-25  smart  \n",
       "3      67        NaT  Набережные Челны   Афанасий    Горлов 2018-01-25  smart  \n",
       "4      67        NaT  Набережные Челны   Афанасий    Горлов 2018-01-25  smart  \n",
       "...   ...        ...               ...        ...       ...        ...    ...  \n",
       "3209   35        NaT   Санкт-Петербург      Павел  Гончаров 2018-08-15  smart  \n",
       "3210   35        NaT   Санкт-Петербург      Павел  Гончаров 2018-08-15  smart  \n",
       "3211   44        NaT          Мурманск      Рауль  Аркадьев 2018-10-16  ultra  \n",
       "3212   44        NaT          Мурманск      Рауль  Аркадьев 2018-10-16  ultra  \n",
       "3213   44        NaT          Мурманск      Рауль  Аркадьев 2018-10-16  ultra  \n",
       "\n",
       "[3214 rows x 13 columns]"
      ]
     },
     "execution_count": 31,
     "metadata": {},
     "output_type": "execute_result"
    }
   ],
   "source": [
    "df_final = df_call_mess_net.merge(df_users,on=['user_id'], how = 'inner')\n",
    "df_final"
   ]
  },
  {
   "cell_type": "markdown",
   "metadata": {},
   "source": [
    "Удалим ненужные столбцы из полученной таблицы и заменим пустые значения на ноль, так как возможно, что клиент просто не пользовался какой-либо из предоставленных услуг, например, отправкой сообщений."
   ]
  },
  {
   "cell_type": "code",
   "execution_count": 32,
   "metadata": {},
   "outputs": [
    {
     "data": {
      "text/html": [
       "<div>\n",
       "<style scoped>\n",
       "    .dataframe tbody tr th:only-of-type {\n",
       "        vertical-align: middle;\n",
       "    }\n",
       "\n",
       "    .dataframe tbody tr th {\n",
       "        vertical-align: top;\n",
       "    }\n",
       "\n",
       "    .dataframe thead th {\n",
       "        text-align: right;\n",
       "    }\n",
       "</style>\n",
       "<table border=\"1\" class=\"dataframe\">\n",
       "  <thead>\n",
       "    <tr style=\"text-align: right;\">\n",
       "      <th></th>\n",
       "      <th>user_id</th>\n",
       "      <th>month</th>\n",
       "      <th>calls_duration</th>\n",
       "      <th>calls_count</th>\n",
       "      <th>messages_count</th>\n",
       "      <th>gb_used</th>\n",
       "      <th>city</th>\n",
       "      <th>tariff</th>\n",
       "    </tr>\n",
       "  </thead>\n",
       "  <tbody>\n",
       "    <tr>\n",
       "      <td>0</td>\n",
       "      <td>1005</td>\n",
       "      <td>1</td>\n",
       "      <td>95.0</td>\n",
       "      <td>15.0</td>\n",
       "      <td>7.0</td>\n",
       "      <td>2.664033</td>\n",
       "      <td>Набережные Челны</td>\n",
       "      <td>smart</td>\n",
       "    </tr>\n",
       "    <tr>\n",
       "      <td>1</td>\n",
       "      <td>1005</td>\n",
       "      <td>2</td>\n",
       "      <td>456.0</td>\n",
       "      <td>69.0</td>\n",
       "      <td>38.0</td>\n",
       "      <td>7.210869</td>\n",
       "      <td>Набережные Челны</td>\n",
       "      <td>smart</td>\n",
       "    </tr>\n",
       "    <tr>\n",
       "      <td>2</td>\n",
       "      <td>1005</td>\n",
       "      <td>3</td>\n",
       "      <td>606.0</td>\n",
       "      <td>77.0</td>\n",
       "      <td>56.0</td>\n",
       "      <td>10.843994</td>\n",
       "      <td>Набережные Челны</td>\n",
       "      <td>smart</td>\n",
       "    </tr>\n",
       "    <tr>\n",
       "      <td>3</td>\n",
       "      <td>1005</td>\n",
       "      <td>4</td>\n",
       "      <td>712.0</td>\n",
       "      <td>101.0</td>\n",
       "      <td>41.0</td>\n",
       "      <td>9.132539</td>\n",
       "      <td>Набережные Челны</td>\n",
       "      <td>smart</td>\n",
       "    </tr>\n",
       "    <tr>\n",
       "      <td>4</td>\n",
       "      <td>1005</td>\n",
       "      <td>5</td>\n",
       "      <td>595.0</td>\n",
       "      <td>73.0</td>\n",
       "      <td>42.0</td>\n",
       "      <td>7.681182</td>\n",
       "      <td>Набережные Челны</td>\n",
       "      <td>smart</td>\n",
       "    </tr>\n",
       "    <tr>\n",
       "      <td>...</td>\n",
       "      <td>...</td>\n",
       "      <td>...</td>\n",
       "      <td>...</td>\n",
       "      <td>...</td>\n",
       "      <td>...</td>\n",
       "      <td>...</td>\n",
       "      <td>...</td>\n",
       "      <td>...</td>\n",
       "    </tr>\n",
       "    <tr>\n",
       "      <td>3209</td>\n",
       "      <td>1489</td>\n",
       "      <td>11</td>\n",
       "      <td>0.0</td>\n",
       "      <td>0.0</td>\n",
       "      <td>20.0</td>\n",
       "      <td>17.081602</td>\n",
       "      <td>Санкт-Петербург</td>\n",
       "      <td>smart</td>\n",
       "    </tr>\n",
       "    <tr>\n",
       "      <td>3210</td>\n",
       "      <td>1489</td>\n",
       "      <td>12</td>\n",
       "      <td>0.0</td>\n",
       "      <td>0.0</td>\n",
       "      <td>35.0</td>\n",
       "      <td>16.916514</td>\n",
       "      <td>Санкт-Петербург</td>\n",
       "      <td>smart</td>\n",
       "    </tr>\n",
       "    <tr>\n",
       "      <td>3211</td>\n",
       "      <td>1328</td>\n",
       "      <td>10</td>\n",
       "      <td>0.0</td>\n",
       "      <td>0.0</td>\n",
       "      <td>6.0</td>\n",
       "      <td>21.902324</td>\n",
       "      <td>Мурманск</td>\n",
       "      <td>ultra</td>\n",
       "    </tr>\n",
       "    <tr>\n",
       "      <td>3212</td>\n",
       "      <td>1328</td>\n",
       "      <td>11</td>\n",
       "      <td>0.0</td>\n",
       "      <td>0.0</td>\n",
       "      <td>8.0</td>\n",
       "      <td>34.692949</td>\n",
       "      <td>Мурманск</td>\n",
       "      <td>ultra</td>\n",
       "    </tr>\n",
       "    <tr>\n",
       "      <td>3213</td>\n",
       "      <td>1328</td>\n",
       "      <td>12</td>\n",
       "      <td>0.0</td>\n",
       "      <td>0.0</td>\n",
       "      <td>7.0</td>\n",
       "      <td>38.495830</td>\n",
       "      <td>Мурманск</td>\n",
       "      <td>ultra</td>\n",
       "    </tr>\n",
       "  </tbody>\n",
       "</table>\n",
       "<p>3214 rows × 8 columns</p>\n",
       "</div>"
      ],
      "text/plain": [
       "      user_id  month  calls_duration  calls_count  messages_count    gb_used  \\\n",
       "0        1005      1            95.0         15.0             7.0   2.664033   \n",
       "1        1005      2           456.0         69.0            38.0   7.210869   \n",
       "2        1005      3           606.0         77.0            56.0  10.843994   \n",
       "3        1005      4           712.0        101.0            41.0   9.132539   \n",
       "4        1005      5           595.0         73.0            42.0   7.681182   \n",
       "...       ...    ...             ...          ...             ...        ...   \n",
       "3209     1489     11             0.0          0.0            20.0  17.081602   \n",
       "3210     1489     12             0.0          0.0            35.0  16.916514   \n",
       "3211     1328     10             0.0          0.0             6.0  21.902324   \n",
       "3212     1328     11             0.0          0.0             8.0  34.692949   \n",
       "3213     1328     12             0.0          0.0             7.0  38.495830   \n",
       "\n",
       "                  city tariff  \n",
       "0     Набережные Челны  smart  \n",
       "1     Набережные Челны  smart  \n",
       "2     Набережные Челны  smart  \n",
       "3     Набережные Челны  smart  \n",
       "4     Набережные Челны  smart  \n",
       "...                ...    ...  \n",
       "3209   Санкт-Петербург  smart  \n",
       "3210   Санкт-Петербург  smart  \n",
       "3211          Мурманск  ultra  \n",
       "3212          Мурманск  ultra  \n",
       "3213          Мурманск  ultra  \n",
       "\n",
       "[3214 rows x 8 columns]"
      ]
     },
     "execution_count": 32,
     "metadata": {},
     "output_type": "execute_result"
    }
   ],
   "source": [
    "df_final = df_final.drop('age', axis = 1)\n",
    "df_final = df_final.drop('churn_date', axis = 1)\n",
    "df_final = df_final.drop('first_name', axis = 1)\n",
    "df_final = df_final.drop('last_name', axis = 1)\n",
    "df_final = df_final.drop('reg_date', axis = 1)\n",
    "\n",
    "df_final = df_final.fillna(0)\n",
    "\n",
    "df_final"
   ]
  },
  {
   "cell_type": "markdown",
   "metadata": {},
   "source": [
    "Получили таблицу со всеми необходимыми данными, которые нам потребуются для анализа. Осталось только округлить значение объема израсходованного трафика до ближайшего большего целого, что бы правильно посчитать выручку с каждого клиента согласно примечанию к тарифам."
   ]
  },
  {
   "cell_type": "code",
   "execution_count": 33,
   "metadata": {},
   "outputs": [
    {
     "data": {
      "text/html": [
       "<div>\n",
       "<style scoped>\n",
       "    .dataframe tbody tr th:only-of-type {\n",
       "        vertical-align: middle;\n",
       "    }\n",
       "\n",
       "    .dataframe tbody tr th {\n",
       "        vertical-align: top;\n",
       "    }\n",
       "\n",
       "    .dataframe thead th {\n",
       "        text-align: right;\n",
       "    }\n",
       "</style>\n",
       "<table border=\"1\" class=\"dataframe\">\n",
       "  <thead>\n",
       "    <tr style=\"text-align: right;\">\n",
       "      <th></th>\n",
       "      <th>user_id</th>\n",
       "      <th>month</th>\n",
       "      <th>calls_duration</th>\n",
       "      <th>calls_count</th>\n",
       "      <th>messages_count</th>\n",
       "      <th>gb_used</th>\n",
       "      <th>city</th>\n",
       "      <th>tariff</th>\n",
       "    </tr>\n",
       "  </thead>\n",
       "  <tbody>\n",
       "    <tr>\n",
       "      <td>0</td>\n",
       "      <td>1005</td>\n",
       "      <td>1</td>\n",
       "      <td>95.0</td>\n",
       "      <td>15.0</td>\n",
       "      <td>7.0</td>\n",
       "      <td>3.0</td>\n",
       "      <td>Набережные Челны</td>\n",
       "      <td>smart</td>\n",
       "    </tr>\n",
       "    <tr>\n",
       "      <td>1</td>\n",
       "      <td>1005</td>\n",
       "      <td>2</td>\n",
       "      <td>456.0</td>\n",
       "      <td>69.0</td>\n",
       "      <td>38.0</td>\n",
       "      <td>8.0</td>\n",
       "      <td>Набережные Челны</td>\n",
       "      <td>smart</td>\n",
       "    </tr>\n",
       "    <tr>\n",
       "      <td>2</td>\n",
       "      <td>1005</td>\n",
       "      <td>3</td>\n",
       "      <td>606.0</td>\n",
       "      <td>77.0</td>\n",
       "      <td>56.0</td>\n",
       "      <td>11.0</td>\n",
       "      <td>Набережные Челны</td>\n",
       "      <td>smart</td>\n",
       "    </tr>\n",
       "    <tr>\n",
       "      <td>3</td>\n",
       "      <td>1005</td>\n",
       "      <td>4</td>\n",
       "      <td>712.0</td>\n",
       "      <td>101.0</td>\n",
       "      <td>41.0</td>\n",
       "      <td>10.0</td>\n",
       "      <td>Набережные Челны</td>\n",
       "      <td>smart</td>\n",
       "    </tr>\n",
       "    <tr>\n",
       "      <td>4</td>\n",
       "      <td>1005</td>\n",
       "      <td>5</td>\n",
       "      <td>595.0</td>\n",
       "      <td>73.0</td>\n",
       "      <td>42.0</td>\n",
       "      <td>8.0</td>\n",
       "      <td>Набережные Челны</td>\n",
       "      <td>smart</td>\n",
       "    </tr>\n",
       "    <tr>\n",
       "      <td>...</td>\n",
       "      <td>...</td>\n",
       "      <td>...</td>\n",
       "      <td>...</td>\n",
       "      <td>...</td>\n",
       "      <td>...</td>\n",
       "      <td>...</td>\n",
       "      <td>...</td>\n",
       "      <td>...</td>\n",
       "    </tr>\n",
       "    <tr>\n",
       "      <td>3209</td>\n",
       "      <td>1489</td>\n",
       "      <td>11</td>\n",
       "      <td>0.0</td>\n",
       "      <td>0.0</td>\n",
       "      <td>20.0</td>\n",
       "      <td>18.0</td>\n",
       "      <td>Санкт-Петербург</td>\n",
       "      <td>smart</td>\n",
       "    </tr>\n",
       "    <tr>\n",
       "      <td>3210</td>\n",
       "      <td>1489</td>\n",
       "      <td>12</td>\n",
       "      <td>0.0</td>\n",
       "      <td>0.0</td>\n",
       "      <td>35.0</td>\n",
       "      <td>17.0</td>\n",
       "      <td>Санкт-Петербург</td>\n",
       "      <td>smart</td>\n",
       "    </tr>\n",
       "    <tr>\n",
       "      <td>3211</td>\n",
       "      <td>1328</td>\n",
       "      <td>10</td>\n",
       "      <td>0.0</td>\n",
       "      <td>0.0</td>\n",
       "      <td>6.0</td>\n",
       "      <td>22.0</td>\n",
       "      <td>Мурманск</td>\n",
       "      <td>ultra</td>\n",
       "    </tr>\n",
       "    <tr>\n",
       "      <td>3212</td>\n",
       "      <td>1328</td>\n",
       "      <td>11</td>\n",
       "      <td>0.0</td>\n",
       "      <td>0.0</td>\n",
       "      <td>8.0</td>\n",
       "      <td>35.0</td>\n",
       "      <td>Мурманск</td>\n",
       "      <td>ultra</td>\n",
       "    </tr>\n",
       "    <tr>\n",
       "      <td>3213</td>\n",
       "      <td>1328</td>\n",
       "      <td>12</td>\n",
       "      <td>0.0</td>\n",
       "      <td>0.0</td>\n",
       "      <td>7.0</td>\n",
       "      <td>39.0</td>\n",
       "      <td>Мурманск</td>\n",
       "      <td>ultra</td>\n",
       "    </tr>\n",
       "  </tbody>\n",
       "</table>\n",
       "<p>3214 rows × 8 columns</p>\n",
       "</div>"
      ],
      "text/plain": [
       "      user_id  month  calls_duration  calls_count  messages_count  gb_used  \\\n",
       "0        1005      1            95.0         15.0             7.0      3.0   \n",
       "1        1005      2           456.0         69.0            38.0      8.0   \n",
       "2        1005      3           606.0         77.0            56.0     11.0   \n",
       "3        1005      4           712.0        101.0            41.0     10.0   \n",
       "4        1005      5           595.0         73.0            42.0      8.0   \n",
       "...       ...    ...             ...          ...             ...      ...   \n",
       "3209     1489     11             0.0          0.0            20.0     18.0   \n",
       "3210     1489     12             0.0          0.0            35.0     17.0   \n",
       "3211     1328     10             0.0          0.0             6.0     22.0   \n",
       "3212     1328     11             0.0          0.0             8.0     35.0   \n",
       "3213     1328     12             0.0          0.0             7.0     39.0   \n",
       "\n",
       "                  city tariff  \n",
       "0     Набережные Челны  smart  \n",
       "1     Набережные Челны  smart  \n",
       "2     Набережные Челны  smart  \n",
       "3     Набережные Челны  smart  \n",
       "4     Набережные Челны  smart  \n",
       "...                ...    ...  \n",
       "3209   Санкт-Петербург  smart  \n",
       "3210   Санкт-Петербург  smart  \n",
       "3211          Мурманск  ultra  \n",
       "3212          Мурманск  ultra  \n",
       "3213          Мурманск  ultra  \n",
       "\n",
       "[3214 rows x 8 columns]"
      ]
     },
     "execution_count": 33,
     "metadata": {},
     "output_type": "execute_result"
    }
   ],
   "source": [
    "df_final['gb_used'] = df_final['gb_used'].apply(np.ceil)\n",
    "df_final"
   ]
  },
  {
   "cell_type": "markdown",
   "metadata": {},
   "source": [
    "Теперь уже можно посчитать прибыль с каждого клиента в определенный месяц. Для этого вычтем бесплатный лимит из суммарного количества длительности звонков, сообщений и интернет-трафика, затем остаток умножим на значение из тарифного плана и прибавим абонентскую плату, соответствующую тарифному плану. Сначала извлечем данные по каждому из показателей из таблицы с тарифами."
   ]
  },
  {
   "cell_type": "code",
   "execution_count": 34,
   "metadata": {},
   "outputs": [
    {
     "name": "stdout",
     "output_type": "stream",
     "text": [
      "Объём интернет-трафика, включённого в абонентскую плату в гигабайтах тарифа \"Смарт\": 15.0\n",
      "Объём интернет-трафика, включённого в абонентскую плату в гигабайтах тарифа \"Ультра\": 30.0\n",
      "Стоимость дополнительного гигабайта интернет-трафика сверх тарифного пакета \"Смарт\": 200\n",
      "Стоимость дополнительного гигабайта интернет-трафика сверх тарифного пакета \"Ультра\": 150\n",
      "Количество сообщений в месяц, включённых в абонентскую плату тарифа \"Смарт\": 50\n",
      "Количество сообщений в месяц, включённых в абонентскую плату тарифа \"Ультра\": 1000\n",
      "Cтоимость отправки сообщения сверх тарифного пакета \"Смарт\": 3\n",
      "Cтоимость отправки сообщения сверх тарифного пакета \"Ультра\": 1\n",
      "Количество минут разговора в месяц, включённых в абонентскую плату тарифа \"Смарт\": 500\n",
      "Количество минут разговора в месяц, включённых в абонентскую плату тарифа \"Ультра\": 3000\n",
      "Cтоимость минуты разговора сверх тарифного пакета \"Смарт\": 3\n",
      "Cтоимость минуты разговора сверх тарифного пакета \"Ультра\": 1\n",
      "Ежемесячная абонентская плата в рублях пакета \"Смарт\": 550\n",
      "Ежемесячная абонентская плата в рублях пакета \"Ультра\": 1950\n"
     ]
    }
   ],
   "source": [
    "gb_included_smart = (df_tariff['mb_per_month_included'] / mb_in_gb)[0]\n",
    "gb_included_ultra = (df_tariff['mb_per_month_included'] / mb_in_gb)[1]\n",
    "    \n",
    "rub_per_gb_smart = (df_tariff['rub_per_gb'])[0]\n",
    "rub_per_gb_ultra = (df_tariff['rub_per_gb'])[1]\n",
    "    \n",
    "messages_included_smart = (df_tariff['messages_included'])[0]\n",
    "messages_included_ultra = (df_tariff['messages_included'])[1]\n",
    "    \n",
    "rub_per_message_smart = (df_tariff['rub_per_message'])[0]\n",
    "rub_per_message_ultra = (df_tariff['rub_per_message'])[1]\n",
    "    \n",
    "minutes_included_smart = (df_tariff['minutes_included'])[0]\n",
    "minutes_included_ultra = (df_tariff['minutes_included'])[1]\n",
    "    \n",
    "rub_per_minute_smart = (df_tariff['rub_per_minute'])[0]\n",
    "rub_per_minute_ultra = (df_tariff['rub_per_minute'])[1]\n",
    "\n",
    "rub_monthly_fee_smart = df_tariff['rub_monthly_fee'][0]\n",
    "rub_monthly_fee_ultra = df_tariff['rub_monthly_fee'][1]\n",
    "\n",
    "print('Объём интернет-трафика, включённого в абонентскую плату в гигабайтах тарифа \"Смарт\": {:}'.format(gb_included_smart))\n",
    "print('Объём интернет-трафика, включённого в абонентскую плату в гигабайтах тарифа \"Ультра\": {:}'.format(gb_included_ultra))\n",
    "\n",
    "print('Стоимость дополнительного гигабайта интернет-трафика сверх тарифного пакета \"Смарт\": {:}'.format(rub_per_gb_smart))\n",
    "print('Стоимость дополнительного гигабайта интернет-трафика сверх тарифного пакета \"Ультра\": {:}'.format(rub_per_gb_ultra))\n",
    "\n",
    "print('Количество сообщений в месяц, включённых в абонентскую плату тарифа \"Смарт\": {:}'.format(messages_included_smart))\n",
    "print('Количество сообщений в месяц, включённых в абонентскую плату тарифа \"Ультра\": {:}'.format(messages_included_ultra))\n",
    "\n",
    "print('Cтоимость отправки сообщения сверх тарифного пакета \"Смарт\": {:}'.format(rub_per_message_smart))\n",
    "print('Cтоимость отправки сообщения сверх тарифного пакета \"Ультра\": {:}'.format(rub_per_message_ultra))\n",
    "\n",
    "print('Количество минут разговора в месяц, включённых в абонентскую плату тарифа \"Смарт\": {:}'.format(minutes_included_smart))\n",
    "print('Количество минут разговора в месяц, включённых в абонентскую плату тарифа \"Ультра\": {:}'.format(minutes_included_ultra))\n",
    "\n",
    "print('Cтоимость минуты разговора сверх тарифного пакета \"Смарт\": {:}'.format(rub_per_minute_smart))\n",
    "print('Cтоимость минуты разговора сверх тарифного пакета \"Ультра\": {:}'.format(rub_per_minute_ultra))\n",
    "\n",
    "print('Ежемесячная абонентская плата в рублях пакета \"Смарт\": {:}'.format(rub_monthly_fee_smart))\n",
    "print('Ежемесячная абонентская плата в рублях пакета \"Ультра\": {:}'.format(rub_monthly_fee_ultra))"
   ]
  },
  {
   "cell_type": "markdown",
   "metadata": {},
   "source": [
    "Напишем функцию profit_from_user для подсчета выручки с каждого клиента за определенный месяц."
   ]
  },
  {
   "cell_type": "code",
   "execution_count": 35,
   "metadata": {},
   "outputs": [],
   "source": [
    "def profit_from_user(row):\n",
    "\n",
    "    internet_profit = 0\n",
    "    messages_profit = 0 \n",
    "    calls_profit = 0\n",
    "    \n",
    "    if row['tariff'] == 'smart':\n",
    "        \n",
    "        if row['gb_used'] > gb_included_smart:\n",
    "            internet_profit = (row['gb_used'] - gb_included_smart) * rub_per_gb_smart\n",
    "            \n",
    "        if row['calls_duration'] > minutes_included_smart:\n",
    "            calls_profit = (row['calls_duration'] - minutes_included_smart) * rub_per_minute_smart\n",
    "            \n",
    "        if row['messages_count'] > messages_included_smart:\n",
    "            messages_profit = (row['messages_count'] - messages_included_smart) * rub_per_message_smart\n",
    "        \n",
    "        return internet_profit + calls_profit + messages_profit + rub_monthly_fee_smart\n",
    "    \n",
    "    if row['tariff'] == 'ultra':\n",
    "        \n",
    "        if row['gb_used'] > gb_included_ultra:\n",
    "            internet_profit = (row['gb_used'] - gb_included_ultra) * rub_per_gb_ultra\n",
    "            \n",
    "        if row['calls_duration'] > minutes_included_ultra:\n",
    "            calls_profit = (row['calls_duration'] - minutes_included_ultra) * rub_per_minute_ultra\n",
    "            \n",
    "        if row['messages_count'] > messages_included_ultra:\n",
    "            messages_profit = (row['messages_count'] - messages_included_ultra) * rub_per_message_ultra\n",
    "            \n",
    "        return internet_profit + calls_profit + messages_profit + rub_monthly_fee_ultra"
   ]
  },
  {
   "cell_type": "markdown",
   "metadata": {},
   "source": [
    "Применим эту функцию и выведем полученный результат."
   ]
  },
  {
   "cell_type": "code",
   "execution_count": 36,
   "metadata": {},
   "outputs": [
    {
     "data": {
      "text/html": [
       "<div>\n",
       "<style scoped>\n",
       "    .dataframe tbody tr th:only-of-type {\n",
       "        vertical-align: middle;\n",
       "    }\n",
       "\n",
       "    .dataframe tbody tr th {\n",
       "        vertical-align: top;\n",
       "    }\n",
       "\n",
       "    .dataframe thead th {\n",
       "        text-align: right;\n",
       "    }\n",
       "</style>\n",
       "<table border=\"1\" class=\"dataframe\">\n",
       "  <thead>\n",
       "    <tr style=\"text-align: right;\">\n",
       "      <th></th>\n",
       "      <th>user_id</th>\n",
       "      <th>month</th>\n",
       "      <th>calls_duration</th>\n",
       "      <th>calls_count</th>\n",
       "      <th>messages_count</th>\n",
       "      <th>gb_used</th>\n",
       "      <th>city</th>\n",
       "      <th>tariff</th>\n",
       "      <th>profit</th>\n",
       "    </tr>\n",
       "  </thead>\n",
       "  <tbody>\n",
       "    <tr>\n",
       "      <td>0</td>\n",
       "      <td>1005</td>\n",
       "      <td>1</td>\n",
       "      <td>95.0</td>\n",
       "      <td>15.0</td>\n",
       "      <td>7.0</td>\n",
       "      <td>3.0</td>\n",
       "      <td>Набережные Челны</td>\n",
       "      <td>smart</td>\n",
       "      <td>550.0</td>\n",
       "    </tr>\n",
       "    <tr>\n",
       "      <td>1</td>\n",
       "      <td>1005</td>\n",
       "      <td>2</td>\n",
       "      <td>456.0</td>\n",
       "      <td>69.0</td>\n",
       "      <td>38.0</td>\n",
       "      <td>8.0</td>\n",
       "      <td>Набережные Челны</td>\n",
       "      <td>smart</td>\n",
       "      <td>550.0</td>\n",
       "    </tr>\n",
       "    <tr>\n",
       "      <td>2</td>\n",
       "      <td>1005</td>\n",
       "      <td>3</td>\n",
       "      <td>606.0</td>\n",
       "      <td>77.0</td>\n",
       "      <td>56.0</td>\n",
       "      <td>11.0</td>\n",
       "      <td>Набережные Челны</td>\n",
       "      <td>smart</td>\n",
       "      <td>886.0</td>\n",
       "    </tr>\n",
       "    <tr>\n",
       "      <td>3</td>\n",
       "      <td>1005</td>\n",
       "      <td>4</td>\n",
       "      <td>712.0</td>\n",
       "      <td>101.0</td>\n",
       "      <td>41.0</td>\n",
       "      <td>10.0</td>\n",
       "      <td>Набережные Челны</td>\n",
       "      <td>smart</td>\n",
       "      <td>1186.0</td>\n",
       "    </tr>\n",
       "    <tr>\n",
       "      <td>4</td>\n",
       "      <td>1005</td>\n",
       "      <td>5</td>\n",
       "      <td>595.0</td>\n",
       "      <td>73.0</td>\n",
       "      <td>42.0</td>\n",
       "      <td>8.0</td>\n",
       "      <td>Набережные Челны</td>\n",
       "      <td>smart</td>\n",
       "      <td>835.0</td>\n",
       "    </tr>\n",
       "    <tr>\n",
       "      <td>...</td>\n",
       "      <td>...</td>\n",
       "      <td>...</td>\n",
       "      <td>...</td>\n",
       "      <td>...</td>\n",
       "      <td>...</td>\n",
       "      <td>...</td>\n",
       "      <td>...</td>\n",
       "      <td>...</td>\n",
       "      <td>...</td>\n",
       "    </tr>\n",
       "    <tr>\n",
       "      <td>3209</td>\n",
       "      <td>1489</td>\n",
       "      <td>11</td>\n",
       "      <td>0.0</td>\n",
       "      <td>0.0</td>\n",
       "      <td>20.0</td>\n",
       "      <td>18.0</td>\n",
       "      <td>Санкт-Петербург</td>\n",
       "      <td>smart</td>\n",
       "      <td>1150.0</td>\n",
       "    </tr>\n",
       "    <tr>\n",
       "      <td>3210</td>\n",
       "      <td>1489</td>\n",
       "      <td>12</td>\n",
       "      <td>0.0</td>\n",
       "      <td>0.0</td>\n",
       "      <td>35.0</td>\n",
       "      <td>17.0</td>\n",
       "      <td>Санкт-Петербург</td>\n",
       "      <td>smart</td>\n",
       "      <td>950.0</td>\n",
       "    </tr>\n",
       "    <tr>\n",
       "      <td>3211</td>\n",
       "      <td>1328</td>\n",
       "      <td>10</td>\n",
       "      <td>0.0</td>\n",
       "      <td>0.0</td>\n",
       "      <td>6.0</td>\n",
       "      <td>22.0</td>\n",
       "      <td>Мурманск</td>\n",
       "      <td>ultra</td>\n",
       "      <td>1950.0</td>\n",
       "    </tr>\n",
       "    <tr>\n",
       "      <td>3212</td>\n",
       "      <td>1328</td>\n",
       "      <td>11</td>\n",
       "      <td>0.0</td>\n",
       "      <td>0.0</td>\n",
       "      <td>8.0</td>\n",
       "      <td>35.0</td>\n",
       "      <td>Мурманск</td>\n",
       "      <td>ultra</td>\n",
       "      <td>2700.0</td>\n",
       "    </tr>\n",
       "    <tr>\n",
       "      <td>3213</td>\n",
       "      <td>1328</td>\n",
       "      <td>12</td>\n",
       "      <td>0.0</td>\n",
       "      <td>0.0</td>\n",
       "      <td>7.0</td>\n",
       "      <td>39.0</td>\n",
       "      <td>Мурманск</td>\n",
       "      <td>ultra</td>\n",
       "      <td>3300.0</td>\n",
       "    </tr>\n",
       "  </tbody>\n",
       "</table>\n",
       "<p>3214 rows × 9 columns</p>\n",
       "</div>"
      ],
      "text/plain": [
       "      user_id  month  calls_duration  calls_count  messages_count  gb_used  \\\n",
       "0        1005      1            95.0         15.0             7.0      3.0   \n",
       "1        1005      2           456.0         69.0            38.0      8.0   \n",
       "2        1005      3           606.0         77.0            56.0     11.0   \n",
       "3        1005      4           712.0        101.0            41.0     10.0   \n",
       "4        1005      5           595.0         73.0            42.0      8.0   \n",
       "...       ...    ...             ...          ...             ...      ...   \n",
       "3209     1489     11             0.0          0.0            20.0     18.0   \n",
       "3210     1489     12             0.0          0.0            35.0     17.0   \n",
       "3211     1328     10             0.0          0.0             6.0     22.0   \n",
       "3212     1328     11             0.0          0.0             8.0     35.0   \n",
       "3213     1328     12             0.0          0.0             7.0     39.0   \n",
       "\n",
       "                  city tariff  profit  \n",
       "0     Набережные Челны  smart   550.0  \n",
       "1     Набережные Челны  smart   550.0  \n",
       "2     Набережные Челны  smart   886.0  \n",
       "3     Набережные Челны  smart  1186.0  \n",
       "4     Набережные Челны  smart   835.0  \n",
       "...                ...    ...     ...  \n",
       "3209   Санкт-Петербург  smart  1150.0  \n",
       "3210   Санкт-Петербург  smart   950.0  \n",
       "3211          Мурманск  ultra  1950.0  \n",
       "3212          Мурманск  ultra  2700.0  \n",
       "3213          Мурманск  ultra  3300.0  \n",
       "\n",
       "[3214 rows x 9 columns]"
      ]
     },
     "execution_count": 36,
     "metadata": {},
     "output_type": "execute_result"
    }
   ],
   "source": [
    "df_final['profit'] = df_final.apply(profit_from_user, axis = 1)\n",
    "df_final"
   ]
  },
  {
   "cell_type": "markdown",
   "metadata": {},
   "source": [
    "Получили таблицу с которой можно работать."
   ]
  },
  {
   "cell_type": "markdown",
   "metadata": {},
   "source": [
    "### Вывод"
   ]
  },
  {
   "cell_type": "markdown",
   "metadata": {},
   "source": [
    "В ходе выполнения этого пункта были проделаны следующие действия:\n",
    " * создание столбца month в каждой из таблиц;\n",
    " * создание сводных таблиц по месяцу и пользователю с подсчетом продолжительности звонков и их количества, количества сообщений, объема трафика в гигабйтах;\n",
    " * объединение этих таблиц для получения общей таблицы с данными, по каждой из услуг;\n",
    " * добавление информации с выручкой с каждого из клиентов по определенному месяцу."
   ]
  },
  {
   "cell_type": "markdown",
   "metadata": {},
   "source": [
    "## Анализ данных"
   ]
  },
  {
   "cell_type": "markdown",
   "metadata": {},
   "source": [
    "Разобъем полученную таблицу на две для каждого тарифа."
   ]
  },
  {
   "cell_type": "code",
   "execution_count": 37,
   "metadata": {},
   "outputs": [
    {
     "name": "stdout",
     "output_type": "stream",
     "text": [
      "Таблица поведения клиентов тарифа \"Смарт\"\n"
     ]
    },
    {
     "data": {
      "text/html": [
       "<div>\n",
       "<style scoped>\n",
       "    .dataframe tbody tr th:only-of-type {\n",
       "        vertical-align: middle;\n",
       "    }\n",
       "\n",
       "    .dataframe tbody tr th {\n",
       "        vertical-align: top;\n",
       "    }\n",
       "\n",
       "    .dataframe thead th {\n",
       "        text-align: right;\n",
       "    }\n",
       "</style>\n",
       "<table border=\"1\" class=\"dataframe\">\n",
       "  <thead>\n",
       "    <tr style=\"text-align: right;\">\n",
       "      <th></th>\n",
       "      <th>user_id</th>\n",
       "      <th>month</th>\n",
       "      <th>calls_duration</th>\n",
       "      <th>calls_count</th>\n",
       "      <th>messages_count</th>\n",
       "      <th>gb_used</th>\n",
       "      <th>city</th>\n",
       "      <th>tariff</th>\n",
       "      <th>profit</th>\n",
       "    </tr>\n",
       "  </thead>\n",
       "  <tbody>\n",
       "    <tr>\n",
       "      <td>1874</td>\n",
       "      <td>1248</td>\n",
       "      <td>5</td>\n",
       "      <td>105.0</td>\n",
       "      <td>16.0</td>\n",
       "      <td>0.0</td>\n",
       "      <td>3.0</td>\n",
       "      <td>Москва</td>\n",
       "      <td>smart</td>\n",
       "      <td>550.0</td>\n",
       "    </tr>\n",
       "    <tr>\n",
       "      <td>149</td>\n",
       "      <td>1176</td>\n",
       "      <td>10</td>\n",
       "      <td>288.0</td>\n",
       "      <td>43.0</td>\n",
       "      <td>38.0</td>\n",
       "      <td>18.0</td>\n",
       "      <td>Волгоград</td>\n",
       "      <td>smart</td>\n",
       "      <td>1150.0</td>\n",
       "    </tr>\n",
       "    <tr>\n",
       "      <td>516</td>\n",
       "      <td>1006</td>\n",
       "      <td>10</td>\n",
       "      <td>267.0</td>\n",
       "      <td>44.0</td>\n",
       "      <td>0.0</td>\n",
       "      <td>20.0</td>\n",
       "      <td>Ульяновск</td>\n",
       "      <td>smart</td>\n",
       "      <td>1550.0</td>\n",
       "    </tr>\n",
       "    <tr>\n",
       "      <td>290</td>\n",
       "      <td>1337</td>\n",
       "      <td>11</td>\n",
       "      <td>188.0</td>\n",
       "      <td>27.0</td>\n",
       "      <td>16.0</td>\n",
       "      <td>19.0</td>\n",
       "      <td>Вологда</td>\n",
       "      <td>smart</td>\n",
       "      <td>1350.0</td>\n",
       "    </tr>\n",
       "    <tr>\n",
       "      <td>2834</td>\n",
       "      <td>1202</td>\n",
       "      <td>10</td>\n",
       "      <td>363.0</td>\n",
       "      <td>55.0</td>\n",
       "      <td>27.0</td>\n",
       "      <td>29.0</td>\n",
       "      <td>Владивосток</td>\n",
       "      <td>smart</td>\n",
       "      <td>3350.0</td>\n",
       "    </tr>\n",
       "  </tbody>\n",
       "</table>\n",
       "</div>"
      ],
      "text/plain": [
       "      user_id  month  calls_duration  calls_count  messages_count  gb_used  \\\n",
       "1874     1248      5           105.0         16.0             0.0      3.0   \n",
       "149      1176     10           288.0         43.0            38.0     18.0   \n",
       "516      1006     10           267.0         44.0             0.0     20.0   \n",
       "290      1337     11           188.0         27.0            16.0     19.0   \n",
       "2834     1202     10           363.0         55.0            27.0     29.0   \n",
       "\n",
       "             city tariff  profit  \n",
       "1874       Москва  smart   550.0  \n",
       "149     Волгоград  smart  1150.0  \n",
       "516     Ульяновск  smart  1550.0  \n",
       "290       Вологда  smart  1350.0  \n",
       "2834  Владивосток  smart  3350.0  "
      ]
     },
     "metadata": {},
     "output_type": "display_data"
    },
    {
     "name": "stdout",
     "output_type": "stream",
     "text": [
      "Таблица поведения клиентов тарифа \"Ультра\"\n"
     ]
    },
    {
     "data": {
      "text/html": [
       "<div>\n",
       "<style scoped>\n",
       "    .dataframe tbody tr th:only-of-type {\n",
       "        vertical-align: middle;\n",
       "    }\n",
       "\n",
       "    .dataframe tbody tr th {\n",
       "        vertical-align: top;\n",
       "    }\n",
       "\n",
       "    .dataframe thead th {\n",
       "        text-align: right;\n",
       "    }\n",
       "</style>\n",
       "<table border=\"1\" class=\"dataframe\">\n",
       "  <thead>\n",
       "    <tr style=\"text-align: right;\">\n",
       "      <th></th>\n",
       "      <th>user_id</th>\n",
       "      <th>month</th>\n",
       "      <th>calls_duration</th>\n",
       "      <th>calls_count</th>\n",
       "      <th>messages_count</th>\n",
       "      <th>gb_used</th>\n",
       "      <th>city</th>\n",
       "      <th>tariff</th>\n",
       "      <th>profit</th>\n",
       "    </tr>\n",
       "  </thead>\n",
       "  <tbody>\n",
       "    <tr>\n",
       "      <td>567</td>\n",
       "      <td>1152</td>\n",
       "      <td>6</td>\n",
       "      <td>291.0</td>\n",
       "      <td>37.0</td>\n",
       "      <td>0.0</td>\n",
       "      <td>27.0</td>\n",
       "      <td>Мурманск</td>\n",
       "      <td>ultra</td>\n",
       "      <td>1950.0</td>\n",
       "    </tr>\n",
       "    <tr>\n",
       "      <td>3199</td>\n",
       "      <td>1231</td>\n",
       "      <td>11</td>\n",
       "      <td>0.0</td>\n",
       "      <td>0.0</td>\n",
       "      <td>173.0</td>\n",
       "      <td>27.0</td>\n",
       "      <td>Чебоксары</td>\n",
       "      <td>ultra</td>\n",
       "      <td>1950.0</td>\n",
       "    </tr>\n",
       "    <tr>\n",
       "      <td>2941</td>\n",
       "      <td>1028</td>\n",
       "      <td>12</td>\n",
       "      <td>1189.0</td>\n",
       "      <td>143.0</td>\n",
       "      <td>171.0</td>\n",
       "      <td>16.0</td>\n",
       "      <td>Тверь</td>\n",
       "      <td>ultra</td>\n",
       "      <td>1950.0</td>\n",
       "    </tr>\n",
       "    <tr>\n",
       "      <td>1736</td>\n",
       "      <td>1019</td>\n",
       "      <td>7</td>\n",
       "      <td>453.0</td>\n",
       "      <td>60.0</td>\n",
       "      <td>16.0</td>\n",
       "      <td>18.0</td>\n",
       "      <td>Томск</td>\n",
       "      <td>ultra</td>\n",
       "      <td>1950.0</td>\n",
       "    </tr>\n",
       "    <tr>\n",
       "      <td>1159</td>\n",
       "      <td>1360</td>\n",
       "      <td>6</td>\n",
       "      <td>791.0</td>\n",
       "      <td>100.0</td>\n",
       "      <td>0.0</td>\n",
       "      <td>8.0</td>\n",
       "      <td>Санкт-Петербург</td>\n",
       "      <td>ultra</td>\n",
       "      <td>1950.0</td>\n",
       "    </tr>\n",
       "  </tbody>\n",
       "</table>\n",
       "</div>"
      ],
      "text/plain": [
       "      user_id  month  calls_duration  calls_count  messages_count  gb_used  \\\n",
       "567      1152      6           291.0         37.0             0.0     27.0   \n",
       "3199     1231     11             0.0          0.0           173.0     27.0   \n",
       "2941     1028     12          1189.0        143.0           171.0     16.0   \n",
       "1736     1019      7           453.0         60.0            16.0     18.0   \n",
       "1159     1360      6           791.0        100.0             0.0      8.0   \n",
       "\n",
       "                 city tariff  profit  \n",
       "567          Мурманск  ultra  1950.0  \n",
       "3199        Чебоксары  ultra  1950.0  \n",
       "2941            Тверь  ultra  1950.0  \n",
       "1736            Томск  ultra  1950.0  \n",
       "1159  Санкт-Петербург  ultra  1950.0  "
      ]
     },
     "metadata": {},
     "output_type": "display_data"
    }
   ],
   "source": [
    "df_smart = df_final[df_final['tariff'] == 'smart']\n",
    "\n",
    "df_ultra = df_final[df_final['tariff'] == 'ultra']\n",
    "\n",
    "print('Таблица поведения клиентов тарифа \"Смарт\"')\n",
    "display(df_smart.sample(5))\n",
    "print('Таблица поведения клиентов тарифа \"Ультра\"')\n",
    "display(df_ultra.sample(5))"
   ]
  },
  {
   "cell_type": "markdown",
   "metadata": {},
   "source": [
    "### Длительность звонков"
   ]
  },
  {
   "cell_type": "markdown",
   "metadata": {},
   "source": [
    "Опишем поведение клиентов по длительности звонков по каждому из месяцев для каждого из тарифов.\n",
    "Посчитаем среднее, медиану, дисперсию и среднее отклонение для этого показателя для каждого из тарифов."
   ]
  },
  {
   "cell_type": "code",
   "execution_count": 38,
   "metadata": {},
   "outputs": [
    {
     "name": "stdout",
     "output_type": "stream",
     "text": [
      "Сатистические показатели длительности звонка в минутах для тарифа \"Смарт\"\n",
      "Среднее арифметическое: 418\n",
      "Медиана: 422\n",
      "Дисперсия: 36203\n",
      "Среднее отклонение: 190 \n",
      "\n",
      "Сатистические показатели длительности звонка в минутах для тарифа \"Ультра\"\n",
      "Среднее арифметическое: 527\n",
      "Медиана: 518\n",
      "Дисперсия: 100771\n",
      "Среднее отклонение: 317 \n",
      "\n"
     ]
    }
   ],
   "source": [
    "print('Сатистические показатели длительности звонка в минутах для тарифа \"Смарт\"')\n",
    "\n",
    "print('Среднее арифметическое: {:.0f}'.format(df_smart['calls_duration'].mean()))\n",
    "print('Медиана: {:.0f}'.format(df_smart['calls_duration'].median()))\n",
    "print('Дисперсия: {:.0f}'.format(np.var(df_smart['calls_duration'])))\n",
    "print('Среднее отклонение: {:.0f} \\n'.format(np.std(df_smart['calls_duration'])))\n",
    "    \n",
    "print('Сатистические показатели длительности звонка в минутах для тарифа \"Ультра\"')\n",
    "\n",
    "\n",
    "print('Среднее арифметическое: {:.0f}'.format(df_ultra['calls_duration'].mean()))\n",
    "print('Медиана: {:.0f}'.format(df_ultra['calls_duration'].median()))\n",
    "print('Дисперсия: {:.0f}'.format(np.var(df_ultra['calls_duration'])))\n",
    "print('Среднее отклонение: {:.0f} \\n'.format(np.std(df_ultra['calls_duration'])))"
   ]
  },
  {
   "cell_type": "code",
   "execution_count": 40,
   "metadata": {},
   "outputs": [
    {
     "name": "stdout",
     "output_type": "stream",
     "text": [
      "Дисперсия c ddof = 0 (по умолчанию): 36203.06665209469065302983\n",
      "Дисперсия с ddof = 1: 36219.31578434428229229525\n"
     ]
    }
   ],
   "source": [
    "print('Дисперсия c ddof = 0 (по умолчанию): {:.20f}'.format(np.var(df_smart['calls_duration'], ddof = 0)))\n",
    "print('Дисперсия с ddof = 1: {:.20f}'.format(np.var(df_smart['calls_duration'], ddof = 1)))"
   ]
  },
  {
   "cell_type": "markdown",
   "metadata": {},
   "source": [
    "Построим гистограмму для этого показателя."
   ]
  },
  {
   "cell_type": "code",
   "execution_count": 41,
   "metadata": {},
   "outputs": [
    {
     "data": {
      "image/png": "[encoded data removed]",
      "text/plain": [
       "<Figure size 1152x648 with 1 Axes>"
      ]
     },
     "metadata": {},
     "output_type": "display_data"
    }
   ],
   "source": [
    "sns.set_style('whitegrid')\n",
    "plt.figure(figsize=(16,9))\n",
    "\n",
    "plt.title('Распределение суммарной длительности звонков в месяц', fontsize=15)\n",
    "\n",
    "sns.distplot(df_smart['calls_duration'], label='Smart', kde=False, color = 'blue', bins = 80)\n",
    "sns.distplot(df_ultra['calls_duration'], label='Ultra', kde=False, color = 'red', bins = 80)\n",
    "\n",
    "plt.axvline(np.median(df_smart['calls_duration']),color='b', linestyle='--', label='Медиана Smart')\n",
    "plt.axvline(np.median(df_ultra['calls_duration']),color='r', linestyle='-', label='Медиана Ultra')\n",
    "\n",
    "plt.xlabel('Суммарная длительность звонков в месяц, мин.')\n",
    "plt.ylabel('Частота значений')\n",
    "\n",
    "plt.legend()\n",
    "plt.show()"
   ]
  },
  {
   "cell_type": "markdown",
   "metadata": {},
   "source": [
    "Построим диаграмму размаха."
   ]
  },
  {
   "cell_type": "code",
   "execution_count": 42,
   "metadata": {},
   "outputs": [
    {
     "data": {
      "text/plain": [
       "<matplotlib.axes._subplots.AxesSubplot at 0x7f6c26015e10>"
      ]
     },
     "execution_count": 42,
     "metadata": {},
     "output_type": "execute_result"
    },
    {
     "data": {
      "image/png": "[encoded data removed]",
      "text/plain": [
       "<Figure size 1152x648 with 1 Axes>"
      ]
     },
     "metadata": {},
     "output_type": "display_data"
    }
   ],
   "source": [
    "plt.figure(figsize = (16,9))\n",
    "plt.title('Диаграмма размаха длительности звонков в минутах', fontsize = 15)\n",
    "sns.boxplot(data = df_final, x = 'calls_duration', y = 'tariff')"
   ]
  },
  {
   "cell_type": "markdown",
   "metadata": {},
   "source": [
    "#### Вывод"
   ]
  },
  {
   "cell_type": "markdown",
   "metadata": {},
   "source": [
    "Судя по полученным данным пользователи обоих тарифов укладываются в границы по минутам, не переплачивая сверх абонетских данных. \n",
    "Если смотреть на гистограмму с диаграммой размаха, то видно, что пользователи тарифа \"Ультра\" более уверенно пользуются предоставленными возможностями тарифа из-за большего количества доступных минут. На это также указывает большее значение среднего отклонения. Большинство пользователей тарифа \"Смарт\" показывают свою практически идеальную точность в использовании минут, чтобы не выходить за рамки абоненсткой платы.\n",
    "На гистограмме видно очевидное превосходство по количеству пользователей тарифа \"Смарт\"."
   ]
  },
  {
   "cell_type": "markdown",
   "metadata": {},
   "source": [
    "### Количество сообщений"
   ]
  },
  {
   "cell_type": "markdown",
   "metadata": {},
   "source": [
    "Опишем поведение клиентов по количеству сообщений по каждому из месяцев для каждого из тарифов.\n",
    "Посчитаем среднее, медиану, дисперсию и среднее отклонение для этого показателя для каждого из тарифов."
   ]
  },
  {
   "cell_type": "code",
   "execution_count": 44,
   "metadata": {},
   "outputs": [
    {
     "data": {
      "text/html": [
       "<style  type=\"text/css\" >\n",
       "</style><table id=\"T_f60f2ef0_375b_11ec_a713_02420a39fe13\" ><thead>    <tr>        <th class=\"blank\" ></th>        <th class=\"index_name level0\" >tariff</th>        <th class=\"col_heading level0 col0\" >smart</th>        <th class=\"col_heading level0 col1\" >ultra</th>    </tr></thead><tbody>\n",
       "                <tr>\n",
       "                        <th id=\"T_f60f2ef0_375b_11ec_a713_02420a39fe13level0_row0\" class=\"row_heading level0 row0\" rowspan=3>mean</th>\n",
       "                        <th id=\"T_f60f2ef0_375b_11ec_a713_02420a39fe13level1_row0\" class=\"row_heading level1 row0\" >calls_duration</th>\n",
       "                        <td id=\"T_f60f2ef0_375b_11ec_a713_02420a39fe13row0_col0\" class=\"data row0 col0\" >417.93</td>\n",
       "                        <td id=\"T_f60f2ef0_375b_11ec_a713_02420a39fe13row0_col1\" class=\"data row0 col1\" >526.62</td>\n",
       "            </tr>\n",
       "            <tr>\n",
       "                                <th id=\"T_f60f2ef0_375b_11ec_a713_02420a39fe13level1_row1\" class=\"row_heading level1 row1\" >gb_used</th>\n",
       "                        <td id=\"T_f60f2ef0_375b_11ec_a713_02420a39fe13row1_col0\" class=\"data row1 col0\" >16.33</td>\n",
       "                        <td id=\"T_f60f2ef0_375b_11ec_a713_02420a39fe13row1_col1\" class=\"data row1 col1\" >19.49</td>\n",
       "            </tr>\n",
       "            <tr>\n",
       "                                <th id=\"T_f60f2ef0_375b_11ec_a713_02420a39fe13level1_row2\" class=\"row_heading level1 row2\" >messages_count</th>\n",
       "                        <td id=\"T_f60f2ef0_375b_11ec_a713_02420a39fe13row2_col0\" class=\"data row2 col0\" >33.38</td>\n",
       "                        <td id=\"T_f60f2ef0_375b_11ec_a713_02420a39fe13row2_col1\" class=\"data row2 col1\" >49.36</td>\n",
       "            </tr>\n",
       "            <tr>\n",
       "                        <th id=\"T_f60f2ef0_375b_11ec_a713_02420a39fe13level0_row3\" class=\"row_heading level0 row3\" rowspan=3>std</th>\n",
       "                        <th id=\"T_f60f2ef0_375b_11ec_a713_02420a39fe13level1_row3\" class=\"row_heading level1 row3\" >calls_duration</th>\n",
       "                        <td id=\"T_f60f2ef0_375b_11ec_a713_02420a39fe13row3_col0\" class=\"data row3 col0\" >190.31</td>\n",
       "                        <td id=\"T_f60f2ef0_375b_11ec_a713_02420a39fe13row3_col1\" class=\"data row3 col1\" >317.61</td>\n",
       "            </tr>\n",
       "            <tr>\n",
       "                                <th id=\"T_f60f2ef0_375b_11ec_a713_02420a39fe13level1_row4\" class=\"row_heading level1 row4\" >gb_used</th>\n",
       "                        <td id=\"T_f60f2ef0_375b_11ec_a713_02420a39fe13row4_col0\" class=\"data row4 col0\" >5.75</td>\n",
       "                        <td id=\"T_f60f2ef0_375b_11ec_a713_02420a39fe13row4_col1\" class=\"data row4 col1\" >9.85</td>\n",
       "            </tr>\n",
       "            <tr>\n",
       "                                <th id=\"T_f60f2ef0_375b_11ec_a713_02420a39fe13level1_row5\" class=\"row_heading level1 row5\" >messages_count</th>\n",
       "                        <td id=\"T_f60f2ef0_375b_11ec_a713_02420a39fe13row5_col0\" class=\"data row5 col0\" >28.23</td>\n",
       "                        <td id=\"T_f60f2ef0_375b_11ec_a713_02420a39fe13row5_col1\" class=\"data row5 col1\" >47.80</td>\n",
       "            </tr>\n",
       "            <tr>\n",
       "                        <th id=\"T_f60f2ef0_375b_11ec_a713_02420a39fe13level0_row6\" class=\"row_heading level0 row6\" rowspan=3>var</th>\n",
       "                        <th id=\"T_f60f2ef0_375b_11ec_a713_02420a39fe13level1_row6\" class=\"row_heading level1 row6\" >calls_duration</th>\n",
       "                        <td id=\"T_f60f2ef0_375b_11ec_a713_02420a39fe13row6_col0\" class=\"data row6 col0\" >36219.32</td>\n",
       "                        <td id=\"T_f60f2ef0_375b_11ec_a713_02420a39fe13row6_col1\" class=\"data row6 col1\" >100873.63</td>\n",
       "            </tr>\n",
       "            <tr>\n",
       "                                <th id=\"T_f60f2ef0_375b_11ec_a713_02420a39fe13level1_row7\" class=\"row_heading level1 row7\" >gb_used</th>\n",
       "                        <td id=\"T_f60f2ef0_375b_11ec_a713_02420a39fe13row7_col0\" class=\"data row7 col0\" >33.03</td>\n",
       "                        <td id=\"T_f60f2ef0_375b_11ec_a713_02420a39fe13row7_col1\" class=\"data row7 col1\" >97.09</td>\n",
       "            </tr>\n",
       "            <tr>\n",
       "                                <th id=\"T_f60f2ef0_375b_11ec_a713_02420a39fe13level1_row8\" class=\"row_heading level1 row8\" >messages_count</th>\n",
       "                        <td id=\"T_f60f2ef0_375b_11ec_a713_02420a39fe13row8_col0\" class=\"data row8 col0\" >796.81</td>\n",
       "                        <td id=\"T_f60f2ef0_375b_11ec_a713_02420a39fe13row8_col1\" class=\"data row8 col1\" >2285.27</td>\n",
       "            </tr>\n",
       "    </tbody></table>"
      ],
      "text/plain": [
       "<pandas.io.formats.style.Styler at 0x7f6c282bfd50>"
      ]
     },
     "execution_count": 44,
     "metadata": {},
     "output_type": "execute_result"
    }
   ],
   "source": [
    "df_final.pivot_table(index='tariff',  \n",
    "                 values=['calls_duration', 'gb_used', 'messages_count'], \n",
    "                 aggfunc=['mean', 'std', 'var']).T.style.format('{:.2f}')"
   ]
  },
  {
   "cell_type": "markdown",
   "metadata": {},
   "source": [
    "Построим гистограмму для этого показателя."
   ]
  },
  {
   "cell_type": "code",
   "execution_count": 45,
   "metadata": {},
   "outputs": [
    {
     "data": {
      "text/plain": [
       "<matplotlib.legend.Legend at 0x7f6c279f2390>"
      ]
     },
     "execution_count": 45,
     "metadata": {},
     "output_type": "execute_result"
    },
    {
     "data": {
      "image/png": "[encoded data removed]",
      "text/plain": [
       "<Figure size 1152x648 with 1 Axes>"
      ]
     },
     "metadata": {},
     "output_type": "display_data"
    }
   ],
   "source": [
    "sns.set_style('whitegrid')\n",
    "plt.figure(figsize=(16,9))\n",
    "\n",
    "plt.title('Распределение суммарного количества сообщений в месяц', fontsize=15)\n",
    "\n",
    "sns.distplot(df_smart['messages_count'], label='Smart', kde=False, color = 'blue', bins = 80)\n",
    "sns.distplot(df_ultra['messages_count'], label='Ultra', kde=False, color = 'red', bins = 80)\n",
    "\n",
    "plt.axvline(np.median(df_smart['messages_count']),color='b', linestyle='--', label='Медиана Smart')\n",
    "plt.axvline(np.median(df_ultra['messages_count']),color='r', linestyle='-', label='Медиана Ultra')\n",
    "\n",
    "plt.xlabel('Суммарное количество сообщений в месяц, шт.')\n",
    "plt.ylabel('Частота значений')\n",
    "\n",
    "plt.legend()"
   ]
  },
  {
   "cell_type": "markdown",
   "metadata": {},
   "source": [
    "Построим диаграмму размаха."
   ]
  },
  {
   "cell_type": "code",
   "execution_count": 46,
   "metadata": {},
   "outputs": [
    {
     "data": {
      "text/plain": [
       "<matplotlib.axes._subplots.AxesSubplot at 0x7f6c2825ab90>"
      ]
     },
     "execution_count": 46,
     "metadata": {},
     "output_type": "execute_result"
    },
    {
     "data": {
      "image/png": "[encoded data removed]",
      "text/plain": [
       "<Figure size 1152x648 with 1 Axes>"
      ]
     },
     "metadata": {},
     "output_type": "display_data"
    }
   ],
   "source": [
    "plt.figure(figsize = (16,9))\n",
    "plt.title('Диаграмма размаха количества сообщений', fontsize = 15)\n",
    "sns.boxplot(data = df_final, x = 'messages_count', y = 'tariff')"
   ]
  },
  {
   "cell_type": "markdown",
   "metadata": {},
   "source": [
    "#### Вывод"
   ]
  },
  {
   "cell_type": "markdown",
   "metadata": {},
   "source": [
    "Здесь наблдается аналогичная картина, как и с длительностью звонков. Только можно заметить, что ни один из пользователей тарифа \"Ультра\" не использовал весь пакет доступных сообщений. Только единицы наотправляли около 240 сообщений при размере пакета в 1000. Это говорит о тои, что SMS-сообщения сейчас далеко не самый популярный способ общения, так как все пользуются в основном мессенджерами. Скорее всего компания специально пользуется таким неоправдано большим пакетом сообщений для повышения цены тарифа."
   ]
  },
  {
   "cell_type": "markdown",
   "metadata": {},
   "source": [
    "### Объем интернет-трафика"
   ]
  },
  {
   "cell_type": "markdown",
   "metadata": {},
   "source": [
    "Опишем поведение клиентов по трате интернет-трафика по каждому из месяцев для каждого из тарифов.\n",
    "Посчитаем среднее, медиану, дисперсию и среднее отклонение для этого показателя для каждого из тарифов."
   ]
  },
  {
   "cell_type": "code",
   "execution_count": 47,
   "metadata": {},
   "outputs": [
    {
     "name": "stdout",
     "output_type": "stream",
     "text": [
      "Сатистические показатели суммарной траты интернет-трафика для тарифа \"Смарт\"\n",
      "Среднее арифметическое: 16\n",
      "Медиана: 17\n",
      "Дисперсия: 33\n",
      "Среднее отклонение: 6 \n",
      "\n",
      "Сатистические показатели суммарной траты интернет-трафика для тарифа \"Ультра\"\n",
      "Среднее арифметическое: 19\n",
      "Медиана: 19\n",
      "Дисперсия: 97\n",
      "Среднее отклонение: 10 \n",
      "\n"
     ]
    }
   ],
   "source": [
    "print('Сатистические показатели суммарной траты интернет-трафика для тарифа \"Смарт\"')\n",
    "\n",
    "print('Среднее арифметическое: {:.0f}'.format(df_smart['gb_used'].mean()))\n",
    "print('Медиана: {:.0f}'.format(df_smart['gb_used'].median()))\n",
    "print('Дисперсия: {:.0f}'.format(np.var(df_smart['gb_used'])))\n",
    "print('Среднее отклонение: {:.0f} \\n'.format(np.std(df_smart['gb_used'])))\n",
    "    \n",
    "print('Сатистические показатели суммарной траты интернет-трафика для тарифа \"Ультра\"')\n",
    "\n",
    "\n",
    "print('Среднее арифметическое: {:.0f}'.format(df_ultra['gb_used'].mean()))\n",
    "print('Медиана: {:.0f}'.format(df_ultra['gb_used'].median()))\n",
    "print('Дисперсия: {:.0f}'.format(np.var(df_ultra['gb_used'])))\n",
    "print('Среднее отклонение: {:.0f} \\n'.format(np.std(df_ultra['gb_used'])))"
   ]
  },
  {
   "cell_type": "markdown",
   "metadata": {},
   "source": [
    "Построим гистограмму для этого показателя."
   ]
  },
  {
   "cell_type": "code",
   "execution_count": 48,
   "metadata": {},
   "outputs": [
    {
     "data": {
      "text/plain": [
       "<matplotlib.legend.Legend at 0x7f6c908b0f10>"
      ]
     },
     "execution_count": 48,
     "metadata": {},
     "output_type": "execute_result"
    },
    {
     "data": {
      "image/png": "[encoded data removed]",
      "text/plain": [
       "<Figure size 1152x648 with 1 Axes>"
      ]
     },
     "metadata": {},
     "output_type": "display_data"
    }
   ],
   "source": [
    "sns.set_style('whitegrid')\n",
    "plt.figure(figsize=(16,9))\n",
    "\n",
    "plt.title('Распределение суммарной траты интернет-трафика в месяц', fontsize=15)\n",
    "\n",
    "sns.distplot(df_smart['gb_used'], label='Smart', kde=False, color = 'blue', bins = 60)\n",
    "sns.distplot(df_ultra['gb_used'], label='Ultra', kde=False, color = 'red', bins = 60)\n",
    "\n",
    "plt.axvline(np.median(df_smart['gb_used']),color='b', linestyle='--', label='Медиана Smart')\n",
    "plt.axvline(np.median(df_ultra['gb_used']),color='r', linestyle='-', label='Медиана Ultra')\n",
    "\n",
    "plt.xlabel('Суммарная трата интернет-трафика в месяц, Гб')\n",
    "plt.ylabel('Частота значений')\n",
    "\n",
    "plt.legend()"
   ]
  },
  {
   "cell_type": "markdown",
   "metadata": {},
   "source": [
    "Построим диаграмму размаха."
   ]
  },
  {
   "cell_type": "code",
   "execution_count": 49,
   "metadata": {},
   "outputs": [
    {
     "data": {
      "text/plain": [
       "<matplotlib.axes._subplots.AxesSubplot at 0x7f6c90872c90>"
      ]
     },
     "execution_count": 49,
     "metadata": {},
     "output_type": "execute_result"
    },
    {
     "data": {
      "image/png": "[encoded data removed]",
      "text/plain": [
       "<Figure size 1152x648 with 1 Axes>"
      ]
     },
     "metadata": {},
     "output_type": "display_data"
    }
   ],
   "source": [
    "plt.figure(figsize = (16,9))\n",
    "plt.title('Диаграмма размаха траты интернет-трафика', fontsize = 15)\n",
    "sns.boxplot(data = df_final, x = 'gb_used', y = 'tariff')"
   ]
  },
  {
   "cell_type": "markdown",
   "metadata": {},
   "source": [
    "#### Вывод"
   ]
  },
  {
   "cell_type": "markdown",
   "metadata": {},
   "source": [
    "Статистические показатели этой переменной рисуют похожую картину, как и с другими переменными. \n",
    "Тут только можно посоветовать клинтам \"Смарт\", которые тратят больше 20 Гб трафика, перейти на тариф \"Ультра\" во избежания больших переплат."
   ]
  },
  {
   "cell_type": "markdown",
   "metadata": {},
   "source": [
    "### Вывод"
   ]
  },
  {
   "cell_type": "markdown",
   "metadata": {},
   "source": [
    "Все статистические показатели значений тарифа \"Ультра\" больше, чем у тарифа \"Смарт\".\n",
    "* Сатистические показатели длительности звонка в минутах для тарифа \"Смарт\"/\"Ультра\":\n",
    "    * среднее арифметическое - 418/527;\n",
    "    * медиана - 422/518;\n",
    "    * дисперсия - 36203/100771;\n",
    "    * среднее отклонение - 190/317.\n",
    "* Сатистические показатели количества сообщений для тарифа \"Смарт\"/\"Ультра\":\n",
    "    * среднее арифметическое - 33/49;\n",
    "    * медиана - 28/38;\n",
    "    * дисперсия - 796/2283;\n",
    "    * среднее отклонение - 28/48.\n",
    "* Сатистические показатели суммарной траты интернет-трафика для тарифа \"Смарт\"/\"Ультра\":\n",
    "    * среднее арифметическое - 16/19;\n",
    "    * медиана - 17/19;\n",
    "    * дисперсия - 33/97;\n",
    "    * среднее отклонение - 6/10.\n",
    "    \n",
    "По этим данным, гистограммам и диаграммам размаха можно сделать вывод, что пользователи тарифа \"Ультра\" более активны в использовании предоставленных пакетов услуг, так как объем этих пакетов существенно больше, чем у тарифа \"Смарт\". \n",
    "Также можно точно посоветовать клиентам тарифа \"Смарт\", которые на диаграммах размаха характеризуются выбросами, перейти на тариф \"Ультра\", чтобы избежать переплат."
   ]
  },
  {
   "cell_type": "markdown",
   "metadata": {},
   "source": [
    "## Проверка гипотез"
   ]
  },
  {
   "cell_type": "markdown",
   "metadata": {},
   "source": [
    "### \"Cредняя выручка пользователей тарифов «Ультра» и «Смарт» различаются\""
   ]
  },
  {
   "cell_type": "markdown",
   "metadata": {},
   "source": [
    "Посчитаем среднее, медиану, дисперсию и среднее отклонение для этого показателя для каждого из тарифов."
   ]
  },
  {
   "cell_type": "code",
   "execution_count": 50,
   "metadata": {},
   "outputs": [
    {
     "name": "stdout",
     "output_type": "stream",
     "text": [
      "Сатистические показатели выручки пользователей для тарифа \"Смарт\"\n",
      "Среднее арифметическое: 1290\n",
      "Медиана: 1023\n",
      "Дисперсия: 669485\n",
      "Среднее отклонение: 818 \n",
      "\n",
      "Сатистические показатели выручки пользователей для тарифа \"Ультра\"\n",
      "Среднее арифметическое: 2070\n",
      "Медиана: 1950\n",
      "Дисперсия: 141373\n",
      "Среднее отклонение: 376 \n",
      "\n"
     ]
    }
   ],
   "source": [
    "print('Сатистические показатели выручки пользователей для тарифа \"Смарт\"')\n",
    "\n",
    "print('Среднее арифметическое: {:.0f}'.format(df_smart['profit'].mean()))\n",
    "print('Медиана: {:.0f}'.format(df_smart['profit'].median()))\n",
    "print('Дисперсия: {:.0f}'.format(np.var(df_smart['profit'])))\n",
    "print('Среднее отклонение: {:.0f} \\n'.format(np.std(df_smart['profit'])))\n",
    "    \n",
    "print('Сатистические показатели выручки пользователей для тарифа \"Ультра\"')\n",
    "\n",
    "\n",
    "print('Среднее арифметическое: {:.0f}'.format(df_ultra['profit'].mean()))\n",
    "print('Медиана: {:.0f}'.format(df_ultra['profit'].median()))\n",
    "print('Дисперсия: {:.0f}'.format(np.var(df_ultra['profit'])))\n",
    "print('Среднее отклонение: {:.0f} \\n'.format(np.std(df_ultra['profit'])))"
   ]
  },
  {
   "cell_type": "markdown",
   "metadata": {},
   "source": [
    "Построим гистограмму занчений по выручке каждого из тарифов."
   ]
  },
  {
   "cell_type": "code",
   "execution_count": 51,
   "metadata": {},
   "outputs": [
    {
     "data": {
      "text/plain": [
       "<matplotlib.legend.Legend at 0x7f6c90604f90>"
      ]
     },
     "execution_count": 51,
     "metadata": {},
     "output_type": "execute_result"
    },
    {
     "data": {
      "image/png": "[encoded data removed]",
      "text/plain": [
       "<Figure size 1152x648 with 1 Axes>"
      ]
     },
     "metadata": {},
     "output_type": "display_data"
    }
   ],
   "source": [
    "sns.set_style('whitegrid')\n",
    "plt.figure(figsize=(16,9))\n",
    "\n",
    "plt.title('Распределение выручки пользователей тарифов', fontsize=15)\n",
    "\n",
    "sns.distplot(df_smart['profit'], label='Smart', kde=False, color = 'blue', bins = 80)\n",
    "sns.distplot(df_ultra['profit'], label='Ultra', kde=False, color = 'red', bins = 80)\n",
    "\n",
    "plt.axvline(np.median(df_smart['profit']),color='b', linestyle='--', label='Медиана Smart')\n",
    "plt.axvline(np.median(df_ultra['profit']),color='r', linestyle='-', label='Медиана Ultra')\n",
    "\n",
    "plt.xlabel('Выручка пользователей тарифов, руб.')\n",
    "plt.ylabel('Частота значений')\n",
    "\n",
    "plt.legend()"
   ]
  },
  {
   "cell_type": "markdown",
   "metadata": {},
   "source": [
    "По этому распределению видно, что пользователи тарифа \"Смарт\" больше переплачивают сверх абонентской платы в отличии от пользователей тарифа \"Смарт\". Причем судя по статистическим показателям пользователи тарифа \"Смарт\" в среднем платят 1290 рублей, что сильно отличается от абонентской платы, в отличие от пользователей тарифа \"Ультра\"."
   ]
  },
  {
   "cell_type": "markdown",
   "metadata": {},
   "source": [
    "Выведем количество пользователей каждого тарифа и годовую выручку пользователей каждого тарифа."
   ]
  },
  {
   "cell_type": "code",
   "execution_count": 52,
   "metadata": {},
   "outputs": [
    {
     "name": "stdout",
     "output_type": "stream",
     "text": [
      "Количество пользователей с тарифом \"Смарт\": 351 человек\n",
      "Количество пользователей с тарифом \"Ультра\": 149 человек\n",
      "Общая выручка пользоватлей с тарифом \"Cмарт\": 2875351.0 руб.\n",
      "Общая выручка пользоватлей с тарифом \"Ультра\": 2039100.0 руб.\n"
     ]
    }
   ],
   "source": [
    "print('Количество пользователей с тарифом \"Смарт\": {} человек'.format(len(df_users[df_users['tariff'] == 'smart'])))\n",
    "print('Количество пользователей с тарифом \"Ультра\": {} человек'.format(len(df_users[df_users['tariff'] == 'ultra'])))\n",
    "\n",
    "print('Общая выручка пользоватлей с тарифом \"Cмарт\": {} руб.'.format(df_smart['profit'].sum()))\n",
    "print('Общая выручка пользоватлей с тарифом \"Ультра\": {} руб.'.format(df_ultra['profit'].sum()))"
   ]
  },
  {
   "cell_type": "markdown",
   "metadata": {},
   "source": [
    "Сформулируем нулевую гипотезу $H_{0}$:\n",
    " * средняя выручка пользователей тарифа «Ультра» равна средней выручке пользователей тарифа «Смарт».\n",
    "\n",
    "Значит альтернативная гипотеза $H_{1}$:\n",
    " * средняя выручка пользователей тарифа «Ультра» не равна средней выручке пользователей тарифа «Смарт».\n",
    " \n",
    "Уровень статистической значимости примем как 5%."
   ]
  },
  {
   "cell_type": "code",
   "execution_count": 53,
   "metadata": {},
   "outputs": [
    {
     "name": "stdout",
     "output_type": "stream",
     "text": [
      "p-значение: 4.2606313931076085e-250\n",
      "Отвергаем нулевую гипотезу\n"
     ]
    }
   ],
   "source": [
    "alpha = .05\n",
    "\n",
    "results = st.ttest_ind(\n",
    "    df_final[df_final['tariff'] == 'smart']['profit'], \n",
    "    df_final[df_final['tariff'] == 'ultra']['profit'], \n",
    "    equal_var=False)\n",
    "\n",
    "print('p-значение:', results.pvalue)\n",
    "\n",
    "if (results.pvalue < alpha):\n",
    "    print(\"Отвергаем нулевую гипотезу\")\n",
    "else:\n",
    "    print(\"Не получилось отвергнуть нулевую гипотезу\")"
   ]
  },
  {
   "cell_type": "markdown",
   "metadata": {},
   "source": [
    "На имеющихся данных, на уровне значимости 5% есть основания отвергнуть нулевую гипотезу в пользу альтернативы. Cредняя выручка пользователей тарифа «Ультра» не равна средней выручке пользователей тарифа «Смарт».\n",
    "\n",
    "Выведем эти средние значения, чтобы проверить наши вычисления."
   ]
  },
  {
   "cell_type": "code",
   "execution_count": 54,
   "metadata": {},
   "outputs": [
    {
     "name": "stdout",
     "output_type": "stream",
     "text": [
      "Средняя выручка пользователей тарифа \"Смарт\": 1289.9735307312696 руб.\n",
      "Средняя выручка пользователей тарифа \"Ультра\": 2070.1522842639592 руб.\n"
     ]
    }
   ],
   "source": [
    "print('Средняя выручка пользователей тарифа \"Смарт\": {} руб.'.format(df_final[df_final['tariff'] == 'smart']['profit'].mean()))\n",
    "print('Средняя выручка пользователей тарифа \"Ультра\": {} руб.'.format(df_final[df_final['tariff'] == 'ultra']['profit'].mean()))"
   ]
  },
  {
   "cell_type": "markdown",
   "metadata": {},
   "source": [
    "Действительно, эти значения сильно различаются."
   ]
  },
  {
   "cell_type": "markdown",
   "metadata": {},
   "source": [
    "### \"Cредняя выручка пользователей из Москвы отличается от выручки пользователей из других регионов\""
   ]
  },
  {
   "cell_type": "markdown",
   "metadata": {},
   "source": [
    "Сформулируем нулевую гипотезу $H_{0}$:\n",
    " * средняя выручка пользователей из Москвы равна от выручки пользователей из других регионов.\n",
    "\n",
    "Значит альтернативная гипотеза $H_{1}$:\n",
    " * средняя выручка пользователей из Москвы не равна от выручки пользователей из других регионов.\n",
    " \n",
    "Уровень статистической значимости примем как 5%."
   ]
  },
  {
   "cell_type": "code",
   "execution_count": 55,
   "metadata": {},
   "outputs": [
    {
     "name": "stdout",
     "output_type": "stream",
     "text": [
      "p-значение: 0.5257376663729298\n",
      "Не получилось отвергнуть нулевую гипотезу\n"
     ]
    }
   ],
   "source": [
    "alpha = .05\n",
    "\n",
    "results = st.ttest_ind(\n",
    "    df_final[df_final['city'] == 'Москва']['profit'], \n",
    "    df_final[df_final['city'] != 'Москва']['profit'], \n",
    "    equal_var=False)\n",
    "\n",
    "print('p-значение:', results.pvalue)\n",
    "\n",
    "if (results.pvalue < alpha):\n",
    "    print(\"Отвергаем нулевую гипотезу\")\n",
    "else:\n",
    "    print(\"Не получилось отвергнуть нулевую гипотезу\")"
   ]
  },
  {
   "cell_type": "markdown",
   "metadata": {},
   "source": [
    "На имеющихся данных, на уровне значимости 5% нет основания отвергнуть нулевую гипотезу в пользу альтернативы. Средняя выручка пользователей из Москвы равна от выручки пользователей из других регионов.\n",
    "\n",
    "Выведем эти средние значения, чтобы проверить наши вычисления."
   ]
  },
  {
   "cell_type": "code",
   "execution_count": 56,
   "metadata": {},
   "outputs": [
    {
     "name": "stdout",
     "output_type": "stream",
     "text": [
      "Cредняя выручка пользователей из Москвы: 1750.0 руб.\n",
      "Cредняя выручка пользователей из регионов: 1583.0 руб.\n"
     ]
    }
   ],
   "source": [
    "print('Cредняя выручка пользователей из Москвы: {} руб.'.format(df_final[df_final['city'] == 'Москва']['profit'].median()))\n",
    "print('Cредняя выручка пользователей из регионов: {} руб.'.format(df_final[df_final['city'] != 'Москва']['profit'].median()))"
   ]
  },
  {
   "cell_type": "markdown",
   "metadata": {},
   "source": [
    "Действительно показатели по своим значениям довольно близки."
   ]
  },
  {
   "cell_type": "markdown",
   "metadata": {},
   "source": [
    "## Вывод"
   ]
  },
  {
   "cell_type": "markdown",
   "metadata": {},
   "source": [
    "В этом проекте мы произвели предобработку данных из разных источников для их объединения в общую таблицу, где была следующая информация:\n",
    " * id клиента;\n",
    " * длительность звонков за месяц в минутах;\n",
    " * количество отправленных сообщений за месяц;\n",
    " * объем израсходованного графика за месяц;\n",
    " * выручка пользователей за месяц;\n",
    " * число месяца;\n",
    " * город в котором проживает клиент.\n",
    " \n",
    "В ходе анализа данных сделали вывод, что пользователи тарифа \"Смарт\" более активны в использовании пакетов услуг, так как они имеют большие объеиы этих пакетов; клиенты мало пользуются отправкой сообщений и, что, скорее всего, пакет сообщений в тарифе \"Ультра\" компания сделала специально большим для повышения цены тарифа, хотя никто из предоставленных клиентов не использовал хотя бы его четверть; клиенты тарифа \"Смарт\" больше подвержены переплатам сверх абонентской платы; пользователей тарифа \"Смарт\" значительно больше, что обуславливает получения с них большей выручки в год, хотя средняя выручка пользователей в месяц больше у тарифа \"Ультра\".\n",
    "\n",
    "По моему мнению, упор нужно сделать на тариф \"Смарт\", так как в сравнении с \"Ультра\" он стоит ощутимо меньше, но как бы люди не старались держаться в рамках абонентской платы они все равно в среднем переплачивают больше, чем в два раза, когда пользователи \"Ультра\" в среднем придерживаются рамок пакетов услуг. Из-за такой разницы в цене тарифов люди предпочитают более дешевый \"Смарт\", значит больше клиентов \"Смарта\" и, следовательно, больше переплат и больше выручки.\n",
    "Тариф \"Смарт\" можно сделать чуть привлекательней, например, добавив в его пакет на сотню больше сообщений без изменения цены тарифа, так как ими все-равно мало кто пользуется, а на буклете эта цифра будет выглядеть весомой.\n",
    "\n",
    "В ходе проверки гипотез отвергли нулевую гипотезу, что средняя выручка пользователей тарифов «Ультра» и «Смарт» равны и не смогли отвергнуть гипотезу, что средняя выручка пользователей из Москвы равна от выручки пользователей из других регионов."
   ]
  }
 ],
 "metadata": {
  "ExecuteTimeLog": [
   {
    "duration": 1321,
    "start_time": "2021-08-30T18:58:13.159Z"
   },
   {
    "duration": 748,
    "start_time": "2021-08-30T18:58:24.821Z"
   },
   {
    "duration": 436,
    "start_time": "2021-08-30T19:00:42.571Z"
   },
   {
    "duration": 46,
    "start_time": "2021-08-30T19:01:13.448Z"
   },
   {
    "duration": 63,
    "start_time": "2021-08-30T19:01:28.648Z"
   },
   {
    "duration": 36,
    "start_time": "2021-08-30T19:03:29.196Z"
   },
   {
    "duration": 219,
    "start_time": "2021-08-30T19:04:56.129Z"
   },
   {
    "duration": 158,
    "start_time": "2021-08-30T19:06:09.269Z"
   },
   {
    "duration": 160,
    "start_time": "2021-08-30T19:06:36.210Z"
   },
   {
    "duration": 18,
    "start_time": "2021-08-30T19:08:43.709Z"
   },
   {
    "duration": 5,
    "start_time": "2021-08-30T19:12:12.489Z"
   },
   {
    "duration": 43,
    "start_time": "2021-08-30T19:12:33.135Z"
   },
   {
    "duration": 40,
    "start_time": "2021-08-30T19:14:55.650Z"
   },
   {
    "duration": 95,
    "start_time": "2021-08-30T19:15:20.277Z"
   },
   {
    "duration": 12,
    "start_time": "2021-08-30T19:16:31.958Z"
   },
   {
    "duration": 10,
    "start_time": "2021-08-30T19:16:57.248Z"
   },
   {
    "duration": 7,
    "start_time": "2021-08-30T19:17:09.457Z"
   },
   {
    "duration": 9,
    "start_time": "2021-08-30T19:17:47.668Z"
   },
   {
    "duration": 59,
    "start_time": "2021-08-30T19:18:47.728Z"
   },
   {
    "duration": 317,
    "start_time": "2021-08-30T19:19:39.571Z"
   },
   {
    "duration": 12,
    "start_time": "2021-08-30T19:19:50.189Z"
   },
   {
    "duration": 13,
    "start_time": "2021-08-30T19:20:11.818Z"
   },
   {
    "duration": 135,
    "start_time": "2021-08-30T19:20:52.399Z"
   },
   {
    "duration": 368,
    "start_time": "2021-08-30T19:20:59.047Z"
   },
   {
    "duration": 12,
    "start_time": "2021-08-30T19:21:12.373Z"
   },
   {
    "duration": 18,
    "start_time": "2021-08-30T19:21:19.872Z"
   },
   {
    "duration": 13,
    "start_time": "2021-08-30T19:21:55.104Z"
   },
   {
    "duration": 336,
    "start_time": "2021-08-30T19:22:32.685Z"
   },
   {
    "duration": 364,
    "start_time": "2021-08-30T19:22:55.771Z"
   },
   {
    "duration": 1535,
    "start_time": "2021-08-30T19:23:56.948Z"
   },
   {
    "duration": 37,
    "start_time": "2021-08-30T19:23:58.485Z"
   },
   {
    "duration": 218,
    "start_time": "2021-08-30T19:23:58.525Z"
   },
   {
    "duration": 115,
    "start_time": "2021-08-30T19:23:58.746Z"
   },
   {
    "duration": 186,
    "start_time": "2021-08-30T19:23:58.864Z"
   },
   {
    "duration": 18,
    "start_time": "2021-08-30T19:23:59.053Z"
   },
   {
    "duration": 8,
    "start_time": "2021-08-30T19:23:59.074Z"
   },
   {
    "duration": 47,
    "start_time": "2021-08-30T19:23:59.087Z"
   },
   {
    "duration": 104,
    "start_time": "2021-08-30T19:23:59.168Z"
   },
   {
    "duration": 60,
    "start_time": "2021-08-30T19:23:59.275Z"
   },
   {
    "duration": 137,
    "start_time": "2021-08-30T19:23:59.337Z"
   },
   {
    "duration": 30,
    "start_time": "2021-08-30T19:25:42.903Z"
   },
   {
    "duration": 31,
    "start_time": "2021-08-30T19:26:10.063Z"
   },
   {
    "duration": 499,
    "start_time": "2021-08-30T19:26:54.465Z"
   },
   {
    "duration": 383,
    "start_time": "2021-08-30T19:27:09.644Z"
   },
   {
    "duration": 27,
    "start_time": "2021-08-30T19:28:49.144Z"
   },
   {
    "duration": 1780,
    "start_time": "2021-08-30T19:29:38.852Z"
   },
   {
    "duration": 37,
    "start_time": "2021-08-30T19:29:40.635Z"
   },
   {
    "duration": 210,
    "start_time": "2021-08-30T19:29:40.675Z"
   },
   {
    "duration": 116,
    "start_time": "2021-08-30T19:29:40.888Z"
   },
   {
    "duration": 183,
    "start_time": "2021-08-30T19:29:41.007Z"
   },
   {
    "duration": 18,
    "start_time": "2021-08-30T19:29:41.192Z"
   },
   {
    "duration": 13,
    "start_time": "2021-08-30T19:29:41.213Z"
   },
   {
    "duration": 61,
    "start_time": "2021-08-30T19:29:41.228Z"
   },
   {
    "duration": 112,
    "start_time": "2021-08-30T19:29:41.292Z"
   },
   {
    "duration": 74,
    "start_time": "2021-08-30T19:29:41.407Z"
   },
   {
    "duration": 105,
    "start_time": "2021-08-30T19:29:41.483Z"
   },
   {
    "duration": 30,
    "start_time": "2021-08-30T19:29:41.590Z"
   },
   {
    "duration": 1927,
    "start_time": "2021-08-30T19:29:41.622Z"
   },
   {
    "duration": 12,
    "start_time": "2021-08-30T19:30:50.309Z"
   },
   {
    "duration": 1593,
    "start_time": "2021-08-30T19:33:01.061Z"
   },
   {
    "duration": 37,
    "start_time": "2021-08-30T19:33:02.656Z"
   },
   {
    "duration": 213,
    "start_time": "2021-08-30T19:33:02.696Z"
   },
   {
    "duration": 117,
    "start_time": "2021-08-30T19:33:02.912Z"
   },
   {
    "duration": 188,
    "start_time": "2021-08-30T19:33:03.031Z"
   },
   {
    "duration": 19,
    "start_time": "2021-08-30T19:33:03.221Z"
   },
   {
    "duration": 11,
    "start_time": "2021-08-30T19:33:03.243Z"
   },
   {
    "duration": 56,
    "start_time": "2021-08-30T19:33:03.257Z"
   },
   {
    "duration": 110,
    "start_time": "2021-08-30T19:33:03.317Z"
   },
   {
    "duration": 73,
    "start_time": "2021-08-30T19:33:03.429Z"
   },
   {
    "duration": 114,
    "start_time": "2021-08-30T19:33:03.504Z"
   },
   {
    "duration": 55,
    "start_time": "2021-08-30T19:33:03.621Z"
   },
   {
    "duration": 15,
    "start_time": "2021-08-30T19:33:03.678Z"
   },
   {
    "duration": 10,
    "start_time": "2021-08-30T19:33:30.144Z"
   },
   {
    "duration": 17,
    "start_time": "2021-08-30T19:33:36.545Z"
   },
   {
    "duration": 19,
    "start_time": "2021-08-30T19:38:07.002Z"
   },
   {
    "duration": 32,
    "start_time": "2021-08-30T19:38:24.088Z"
   },
   {
    "duration": 397,
    "start_time": "2021-08-30T19:40:08.939Z"
   },
   {
    "duration": 458,
    "start_time": "2021-08-30T19:40:36.559Z"
   },
   {
    "duration": 2525,
    "start_time": "2021-08-30T19:40:48.478Z"
   },
   {
    "duration": 916,
    "start_time": "2021-08-30T19:46:15.871Z"
   },
   {
    "duration": 111,
    "start_time": "2021-08-30T19:46:44.270Z"
   },
   {
    "duration": 31,
    "start_time": "2021-08-30T19:46:57.790Z"
   },
   {
    "duration": 33,
    "start_time": "2021-08-30T19:47:54.870Z"
   },
   {
    "duration": 7,
    "start_time": "2021-08-30T19:50:26.990Z"
   },
   {
    "duration": 10,
    "start_time": "2021-08-30T19:50:41.641Z"
   },
   {
    "duration": 11,
    "start_time": "2021-08-30T19:51:11.191Z"
   },
   {
    "duration": 6,
    "start_time": "2021-08-30T19:51:28.911Z"
   },
   {
    "duration": 6,
    "start_time": "2021-08-30T19:52:55.690Z"
   },
   {
    "duration": 7,
    "start_time": "2021-08-30T19:53:00.530Z"
   },
   {
    "duration": 47,
    "start_time": "2021-08-30T20:10:47.804Z"
   },
   {
    "duration": 27,
    "start_time": "2021-08-30T20:11:01.501Z"
   },
   {
    "duration": 36,
    "start_time": "2021-08-30T20:12:50.280Z"
   },
   {
    "duration": 610,
    "start_time": "2021-08-30T20:14:29.034Z"
   },
   {
    "duration": 1639,
    "start_time": "2021-08-30T20:14:41.836Z"
   },
   {
    "duration": 39,
    "start_time": "2021-08-30T20:14:43.478Z"
   },
   {
    "duration": 208,
    "start_time": "2021-08-30T20:14:43.521Z"
   },
   {
    "duration": 120,
    "start_time": "2021-08-30T20:14:43.732Z"
   },
   {
    "duration": 191,
    "start_time": "2021-08-30T20:14:43.855Z"
   },
   {
    "duration": 20,
    "start_time": "2021-08-30T20:14:44.048Z"
   },
   {
    "duration": 8,
    "start_time": "2021-08-30T20:14:44.071Z"
   },
   {
    "duration": 45,
    "start_time": "2021-08-30T20:14:44.082Z"
   },
   {
    "duration": 123,
    "start_time": "2021-08-30T20:14:44.131Z"
   },
   {
    "duration": 60,
    "start_time": "2021-08-30T20:14:44.268Z"
   },
   {
    "duration": 154,
    "start_time": "2021-08-30T20:14:44.331Z"
   },
   {
    "duration": 19,
    "start_time": "2021-08-30T20:14:44.489Z"
   },
   {
    "duration": 11,
    "start_time": "2021-08-30T20:14:44.511Z"
   },
   {
    "duration": 10,
    "start_time": "2021-08-30T20:14:44.524Z"
   },
   {
    "duration": 76,
    "start_time": "2021-08-30T20:14:44.536Z"
   },
   {
    "duration": 28,
    "start_time": "2021-08-30T20:14:44.614Z"
   },
   {
    "duration": 49,
    "start_time": "2021-08-30T20:14:44.645Z"
   },
   {
    "duration": 28,
    "start_time": "2021-08-30T20:14:44.697Z"
   },
   {
    "duration": 1341,
    "start_time": "2021-09-02T18:33:52.823Z"
   },
   {
    "duration": 28,
    "start_time": "2021-09-02T18:33:54.166Z"
   },
   {
    "duration": 168,
    "start_time": "2021-09-02T18:33:54.197Z"
   },
   {
    "duration": 98,
    "start_time": "2021-09-02T18:33:54.367Z"
   },
   {
    "duration": 143,
    "start_time": "2021-09-02T18:33:54.467Z"
   },
   {
    "duration": 17,
    "start_time": "2021-09-02T18:33:54.612Z"
   },
   {
    "duration": 9,
    "start_time": "2021-09-02T18:33:54.632Z"
   },
   {
    "duration": 22,
    "start_time": "2021-09-02T18:33:54.645Z"
   },
   {
    "duration": 49,
    "start_time": "2021-09-02T18:33:54.668Z"
   },
   {
    "duration": 55,
    "start_time": "2021-09-02T18:33:54.719Z"
   },
   {
    "duration": 41,
    "start_time": "2021-09-02T18:33:54.776Z"
   },
   {
    "duration": 32,
    "start_time": "2021-09-02T18:33:54.819Z"
   },
   {
    "duration": 18,
    "start_time": "2021-09-02T18:33:54.853Z"
   },
   {
    "duration": 10,
    "start_time": "2021-09-02T18:33:54.873Z"
   },
   {
    "duration": 42,
    "start_time": "2021-09-02T18:33:54.885Z"
   },
   {
    "duration": 24,
    "start_time": "2021-09-02T18:33:54.929Z"
   },
   {
    "duration": 28,
    "start_time": "2021-09-02T18:33:54.955Z"
   },
   {
    "duration": 23,
    "start_time": "2021-09-02T18:33:54.985Z"
   },
   {
    "duration": 1454,
    "start_time": "2021-09-02T18:44:18.623Z"
   },
   {
    "duration": 29,
    "start_time": "2021-09-02T18:44:20.079Z"
   },
   {
    "duration": 183,
    "start_time": "2021-09-02T18:44:20.111Z"
   },
   {
    "duration": 141,
    "start_time": "2021-09-02T18:44:20.296Z"
   },
   {
    "duration": 221,
    "start_time": "2021-09-02T18:44:20.440Z"
   },
   {
    "duration": 19,
    "start_time": "2021-09-02T18:44:20.663Z"
   },
   {
    "duration": 7,
    "start_time": "2021-09-02T18:44:20.685Z"
   },
   {
    "duration": 34,
    "start_time": "2021-09-02T18:44:20.695Z"
   },
   {
    "duration": 85,
    "start_time": "2021-09-02T18:44:20.742Z"
   },
   {
    "duration": 60,
    "start_time": "2021-09-02T18:44:20.842Z"
   },
   {
    "duration": 65,
    "start_time": "2021-09-02T18:44:20.904Z"
   },
   {
    "duration": 13,
    "start_time": "2021-09-02T18:44:20.971Z"
   },
   {
    "duration": 10,
    "start_time": "2021-09-02T18:44:20.986Z"
   },
   {
    "duration": 16,
    "start_time": "2021-09-02T18:44:20.997Z"
   },
   {
    "duration": 60,
    "start_time": "2021-09-02T18:44:21.015Z"
   },
   {
    "duration": 21,
    "start_time": "2021-09-02T18:44:21.076Z"
   },
   {
    "duration": 45,
    "start_time": "2021-09-02T18:44:21.099Z"
   },
   {
    "duration": 11,
    "start_time": "2021-09-02T18:44:21.146Z"
   },
   {
    "duration": 11,
    "start_time": "2021-09-02T19:04:50.542Z"
   },
   {
    "duration": 527,
    "start_time": "2021-09-02T19:07:30.937Z"
   },
   {
    "duration": 1256,
    "start_time": "2021-09-02T19:09:32.965Z"
   },
   {
    "duration": 33,
    "start_time": "2021-09-02T19:09:34.223Z"
   },
   {
    "duration": 171,
    "start_time": "2021-09-02T19:09:34.258Z"
   },
   {
    "duration": 101,
    "start_time": "2021-09-02T19:09:34.431Z"
   },
   {
    "duration": 163,
    "start_time": "2021-09-02T19:09:34.534Z"
   },
   {
    "duration": 17,
    "start_time": "2021-09-02T19:09:34.700Z"
   },
   {
    "duration": 5,
    "start_time": "2021-09-02T19:09:34.719Z"
   },
   {
    "duration": 34,
    "start_time": "2021-09-02T19:09:34.727Z"
   },
   {
    "duration": 50,
    "start_time": "2021-09-02T19:09:34.763Z"
   },
   {
    "duration": 62,
    "start_time": "2021-09-02T19:09:34.815Z"
   },
   {
    "duration": 75,
    "start_time": "2021-09-02T19:09:34.879Z"
   },
   {
    "duration": 14,
    "start_time": "2021-09-02T19:09:34.956Z"
   },
   {
    "duration": 7,
    "start_time": "2021-09-02T19:09:34.972Z"
   },
   {
    "duration": 7,
    "start_time": "2021-09-02T19:09:34.981Z"
   },
   {
    "duration": 72,
    "start_time": "2021-09-02T19:09:34.990Z"
   },
   {
    "duration": 23,
    "start_time": "2021-09-02T19:09:35.064Z"
   },
   {
    "duration": 26,
    "start_time": "2021-09-02T19:09:35.089Z"
   },
   {
    "duration": 28,
    "start_time": "2021-09-02T19:09:35.117Z"
   },
   {
    "duration": 19,
    "start_time": "2021-09-02T19:09:35.147Z"
   },
   {
    "duration": 112,
    "start_time": "2021-09-02T19:09:35.168Z"
   },
   {
    "duration": 64,
    "start_time": "2021-09-02T19:09:51.725Z"
   },
   {
    "duration": 85,
    "start_time": "2021-09-02T19:10:08.113Z"
   },
   {
    "duration": 8,
    "start_time": "2021-09-02T19:25:49.406Z"
   },
   {
    "duration": 414,
    "start_time": "2021-09-02T19:29:17.606Z"
   },
   {
    "duration": 304,
    "start_time": "2021-09-02T19:29:21.980Z"
   },
   {
    "duration": 35,
    "start_time": "2021-09-02T19:29:33.609Z"
   },
   {
    "duration": 67,
    "start_time": "2021-09-02T19:31:05.668Z"
   },
   {
    "duration": 16,
    "start_time": "2021-09-02T19:31:12.573Z"
   },
   {
    "duration": 19,
    "start_time": "2021-09-02T19:31:30.608Z"
   },
   {
    "duration": 17,
    "start_time": "2021-09-02T19:31:32.725Z"
   },
   {
    "duration": 1235,
    "start_time": "2021-09-02T19:43:07.532Z"
   },
   {
    "duration": 29,
    "start_time": "2021-09-02T19:43:08.770Z"
   },
   {
    "duration": 177,
    "start_time": "2021-09-02T19:43:08.801Z"
   },
   {
    "duration": 99,
    "start_time": "2021-09-02T19:43:08.980Z"
   },
   {
    "duration": 148,
    "start_time": "2021-09-02T19:43:09.081Z"
   },
   {
    "duration": 26,
    "start_time": "2021-09-02T19:43:09.231Z"
   },
   {
    "duration": 8,
    "start_time": "2021-09-02T19:43:09.259Z"
   },
   {
    "duration": 32,
    "start_time": "2021-09-02T19:43:09.269Z"
   },
   {
    "duration": 52,
    "start_time": "2021-09-02T19:43:09.304Z"
   },
   {
    "duration": 38,
    "start_time": "2021-09-02T19:43:09.358Z"
   },
   {
    "duration": 70,
    "start_time": "2021-09-02T19:43:09.398Z"
   },
   {
    "duration": 11,
    "start_time": "2021-09-02T19:43:09.470Z"
   },
   {
    "duration": 11,
    "start_time": "2021-09-02T19:43:09.483Z"
   },
   {
    "duration": 11,
    "start_time": "2021-09-02T19:43:09.496Z"
   },
   {
    "duration": 57,
    "start_time": "2021-09-02T19:43:09.509Z"
   },
   {
    "duration": 21,
    "start_time": "2021-09-02T19:43:09.568Z"
   },
   {
    "duration": 28,
    "start_time": "2021-09-02T19:43:09.591Z"
   },
   {
    "duration": 10,
    "start_time": "2021-09-02T19:43:09.620Z"
   },
   {
    "duration": 80,
    "start_time": "2021-09-02T19:43:09.641Z"
   },
   {
    "duration": 39,
    "start_time": "2021-09-02T19:43:09.723Z"
   },
   {
    "duration": 44,
    "start_time": "2021-09-02T19:43:09.764Z"
   },
   {
    "duration": 11,
    "start_time": "2021-09-02T19:43:09.810Z"
   },
   {
    "duration": 52,
    "start_time": "2021-09-02T19:43:09.823Z"
   },
   {
    "duration": 54,
    "start_time": "2021-09-02T19:43:25.444Z"
   },
   {
    "duration": 36,
    "start_time": "2021-09-02T19:43:50.154Z"
   },
   {
    "duration": 50,
    "start_time": "2021-09-02T19:44:20.424Z"
   },
   {
    "duration": 387,
    "start_time": "2021-09-02T19:49:53.274Z"
   },
   {
    "duration": 38,
    "start_time": "2021-09-02T19:50:07.404Z"
   },
   {
    "duration": 1583,
    "start_time": "2021-09-02T19:54:18.824Z"
   },
   {
    "duration": 64,
    "start_time": "2021-09-02T19:54:40.308Z"
   },
   {
    "duration": 294,
    "start_time": "2021-09-02T19:55:39.037Z"
   },
   {
    "duration": 5,
    "start_time": "2021-09-02T19:55:42.389Z"
   },
   {
    "duration": 17,
    "start_time": "2021-09-02T19:57:15.936Z"
   },
   {
    "duration": 15,
    "start_time": "2021-09-02T19:58:22.444Z"
   },
   {
    "duration": 1369,
    "start_time": "2021-09-02T20:00:46.016Z"
   },
   {
    "duration": 29,
    "start_time": "2021-09-02T20:00:47.387Z"
   },
   {
    "duration": 210,
    "start_time": "2021-09-02T20:00:47.418Z"
   },
   {
    "duration": 111,
    "start_time": "2021-09-02T20:00:47.630Z"
   },
   {
    "duration": 214,
    "start_time": "2021-09-02T20:00:47.743Z"
   },
   {
    "duration": 18,
    "start_time": "2021-09-02T20:00:47.959Z"
   },
   {
    "duration": 13,
    "start_time": "2021-09-02T20:00:47.979Z"
   },
   {
    "duration": 29,
    "start_time": "2021-09-02T20:00:47.995Z"
   },
   {
    "duration": 93,
    "start_time": "2021-09-02T20:00:48.027Z"
   },
   {
    "duration": 62,
    "start_time": "2021-09-02T20:00:48.122Z"
   },
   {
    "duration": 91,
    "start_time": "2021-09-02T20:00:48.186Z"
   },
   {
    "duration": 12,
    "start_time": "2021-09-02T20:00:48.279Z"
   },
   {
    "duration": 10,
    "start_time": "2021-09-02T20:00:48.293Z"
   },
   {
    "duration": 15,
    "start_time": "2021-09-02T20:00:48.305Z"
   },
   {
    "duration": 53,
    "start_time": "2021-09-02T20:00:48.322Z"
   },
   {
    "duration": 22,
    "start_time": "2021-09-02T20:00:48.377Z"
   },
   {
    "duration": 43,
    "start_time": "2021-09-02T20:00:48.401Z"
   },
   {
    "duration": 13,
    "start_time": "2021-09-02T20:00:48.446Z"
   },
   {
    "duration": 84,
    "start_time": "2021-09-02T20:00:48.461Z"
   },
   {
    "duration": 27,
    "start_time": "2021-09-02T20:00:48.547Z"
   },
   {
    "duration": 85,
    "start_time": "2021-09-02T20:00:48.576Z"
   },
   {
    "duration": 13,
    "start_time": "2021-09-02T20:00:48.663Z"
   },
   {
    "duration": 102,
    "start_time": "2021-09-02T20:00:48.680Z"
   },
   {
    "duration": 481,
    "start_time": "2021-09-02T20:00:48.303Z"
   },
   {
    "duration": 474,
    "start_time": "2021-09-02T20:00:48.311Z"
   },
   {
    "duration": 473,
    "start_time": "2021-09-02T20:00:48.313Z"
   },
   {
    "duration": 473,
    "start_time": "2021-09-02T20:00:48.315Z"
   },
   {
    "duration": 471,
    "start_time": "2021-09-02T20:00:48.318Z"
   },
   {
    "duration": 471,
    "start_time": "2021-09-02T20:00:48.319Z"
   },
   {
    "duration": 469,
    "start_time": "2021-09-02T20:00:48.322Z"
   },
   {
    "duration": 1297,
    "start_time": "2021-09-02T20:01:20.783Z"
   },
   {
    "duration": 30,
    "start_time": "2021-09-02T20:01:22.083Z"
   },
   {
    "duration": 232,
    "start_time": "2021-09-02T20:01:22.116Z"
   },
   {
    "duration": 97,
    "start_time": "2021-09-02T20:01:22.352Z"
   },
   {
    "duration": 194,
    "start_time": "2021-09-02T20:01:22.456Z"
   },
   {
    "duration": 18,
    "start_time": "2021-09-02T20:01:22.655Z"
   },
   {
    "duration": 6,
    "start_time": "2021-09-02T20:01:22.675Z"
   },
   {
    "duration": 23,
    "start_time": "2021-09-02T20:01:22.684Z"
   },
   {
    "duration": 71,
    "start_time": "2021-09-02T20:01:22.709Z"
   },
   {
    "duration": 37,
    "start_time": "2021-09-02T20:01:22.782Z"
   },
   {
    "duration": 61,
    "start_time": "2021-09-02T20:01:22.821Z"
   },
   {
    "duration": 13,
    "start_time": "2021-09-02T20:01:22.884Z"
   },
   {
    "duration": 6,
    "start_time": "2021-09-02T20:01:22.899Z"
   },
   {
    "duration": 39,
    "start_time": "2021-09-02T20:01:22.907Z"
   },
   {
    "duration": 54,
    "start_time": "2021-09-02T20:01:22.949Z"
   },
   {
    "duration": 42,
    "start_time": "2021-09-02T20:01:23.006Z"
   },
   {
    "duration": 24,
    "start_time": "2021-09-02T20:01:23.054Z"
   },
   {
    "duration": 11,
    "start_time": "2021-09-02T20:01:23.080Z"
   },
   {
    "duration": 101,
    "start_time": "2021-09-02T20:01:23.092Z"
   },
   {
    "duration": 25,
    "start_time": "2021-09-02T20:01:23.195Z"
   },
   {
    "duration": 85,
    "start_time": "2021-09-02T20:01:23.223Z"
   },
   {
    "duration": 15,
    "start_time": "2021-09-02T20:01:23.309Z"
   },
   {
    "duration": 19,
    "start_time": "2021-09-02T20:01:23.343Z"
   },
   {
    "duration": 36,
    "start_time": "2021-09-02T20:01:23.363Z"
   },
   {
    "duration": 13,
    "start_time": "2021-09-02T20:01:23.401Z"
   },
   {
    "duration": 21,
    "start_time": "2021-09-02T20:01:23.441Z"
   },
   {
    "duration": 32,
    "start_time": "2021-09-02T20:01:23.464Z"
   },
   {
    "duration": 23,
    "start_time": "2021-09-02T20:10:47.485Z"
   },
   {
    "duration": 33,
    "start_time": "2021-09-02T20:18:53.131Z"
   },
   {
    "duration": 22,
    "start_time": "2021-09-02T20:27:13.192Z"
   },
   {
    "duration": 30,
    "start_time": "2021-09-02T20:28:55.281Z"
   },
   {
    "duration": 407,
    "start_time": "2021-09-02T20:31:47.892Z"
   },
   {
    "duration": 39,
    "start_time": "2021-09-02T20:31:56.748Z"
   },
   {
    "duration": 28,
    "start_time": "2021-09-02T20:32:22.681Z"
   },
   {
    "duration": 305,
    "start_time": "2021-09-02T20:32:44.182Z"
   },
   {
    "duration": 316,
    "start_time": "2021-09-02T20:33:10.097Z"
   },
   {
    "duration": 344,
    "start_time": "2021-09-02T20:34:20.351Z"
   },
   {
    "duration": 1647,
    "start_time": "2021-09-02T20:34:28.263Z"
   },
   {
    "duration": 29,
    "start_time": "2021-09-02T20:35:45.700Z"
   },
   {
    "duration": 2524,
    "start_time": "2021-09-02T20:36:38.107Z"
   },
   {
    "duration": 35,
    "start_time": "2021-09-02T20:36:40.633Z"
   },
   {
    "duration": 182,
    "start_time": "2021-09-02T20:36:40.671Z"
   },
   {
    "duration": 103,
    "start_time": "2021-09-02T20:36:40.856Z"
   },
   {
    "duration": 150,
    "start_time": "2021-09-02T20:36:40.963Z"
   },
   {
    "duration": 17,
    "start_time": "2021-09-02T20:36:41.115Z"
   },
   {
    "duration": 15,
    "start_time": "2021-09-02T20:36:41.134Z"
   },
   {
    "duration": 29,
    "start_time": "2021-09-02T20:36:41.152Z"
   },
   {
    "duration": 48,
    "start_time": "2021-09-02T20:36:41.184Z"
   },
   {
    "duration": 50,
    "start_time": "2021-09-02T20:36:41.242Z"
   },
   {
    "duration": 67,
    "start_time": "2021-09-02T20:36:41.294Z"
   },
   {
    "duration": 20,
    "start_time": "2021-09-02T20:36:41.362Z"
   },
   {
    "duration": 5,
    "start_time": "2021-09-02T20:36:41.383Z"
   },
   {
    "duration": 12,
    "start_time": "2021-09-02T20:36:41.390Z"
   },
   {
    "duration": 60,
    "start_time": "2021-09-02T20:36:41.403Z"
   },
   {
    "duration": 20,
    "start_time": "2021-09-02T20:36:41.469Z"
   },
   {
    "duration": 24,
    "start_time": "2021-09-02T20:36:41.491Z"
   },
   {
    "duration": 27,
    "start_time": "2021-09-02T20:36:41.517Z"
   },
   {
    "duration": 86,
    "start_time": "2021-09-02T20:36:41.546Z"
   },
   {
    "duration": 30,
    "start_time": "2021-09-02T20:36:41.633Z"
   },
   {
    "duration": 58,
    "start_time": "2021-09-02T20:36:41.669Z"
   },
   {
    "duration": 30,
    "start_time": "2021-09-02T20:36:41.729Z"
   },
   {
    "duration": 17,
    "start_time": "2021-09-02T20:36:41.764Z"
   },
   {
    "duration": 27,
    "start_time": "2021-09-02T20:36:41.783Z"
   },
   {
    "duration": 48,
    "start_time": "2021-09-02T20:36:41.812Z"
   },
   {
    "duration": 20,
    "start_time": "2021-09-02T20:36:41.865Z"
   },
   {
    "duration": 31,
    "start_time": "2021-09-02T20:36:41.886Z"
   },
   {
    "duration": 35,
    "start_time": "2021-09-02T20:36:41.919Z"
   },
   {
    "duration": 35,
    "start_time": "2021-09-02T20:36:41.957Z"
   },
   {
    "duration": 29,
    "start_time": "2021-09-02T20:36:41.994Z"
   },
   {
    "duration": 28,
    "start_time": "2021-09-02T20:37:15.993Z"
   },
   {
    "duration": 62,
    "start_time": "2021-09-02T20:38:50.206Z"
   },
   {
    "duration": 87,
    "start_time": "2021-09-02T20:45:14.308Z"
   },
   {
    "duration": 1346,
    "start_time": "2021-09-02T20:46:55.577Z"
   },
   {
    "duration": 31,
    "start_time": "2021-09-02T20:46:56.925Z"
   },
   {
    "duration": 169,
    "start_time": "2021-09-02T20:46:56.962Z"
   },
   {
    "duration": 103,
    "start_time": "2021-09-02T20:46:57.133Z"
   },
   {
    "duration": 160,
    "start_time": "2021-09-02T20:46:57.238Z"
   },
   {
    "duration": 18,
    "start_time": "2021-09-02T20:46:57.399Z"
   },
   {
    "duration": 6,
    "start_time": "2021-09-02T20:46:57.419Z"
   },
   {
    "duration": 33,
    "start_time": "2021-09-02T20:46:57.428Z"
   },
   {
    "duration": 49,
    "start_time": "2021-09-02T20:46:57.463Z"
   },
   {
    "duration": 55,
    "start_time": "2021-09-02T20:46:57.513Z"
   },
   {
    "duration": 42,
    "start_time": "2021-09-02T20:46:57.570Z"
   },
   {
    "duration": 38,
    "start_time": "2021-09-02T20:46:57.614Z"
   },
   {
    "duration": 5,
    "start_time": "2021-09-02T20:46:57.655Z"
   },
   {
    "duration": 8,
    "start_time": "2021-09-02T20:46:57.662Z"
   },
   {
    "duration": 37,
    "start_time": "2021-09-02T20:46:57.672Z"
   },
   {
    "duration": 47,
    "start_time": "2021-09-02T20:46:57.711Z"
   },
   {
    "duration": 25,
    "start_time": "2021-09-02T20:46:57.760Z"
   },
   {
    "duration": 11,
    "start_time": "2021-09-02T20:46:57.787Z"
   },
   {
    "duration": 100,
    "start_time": "2021-09-02T20:46:57.800Z"
   },
   {
    "duration": 25,
    "start_time": "2021-09-02T20:46:57.902Z"
   },
   {
    "duration": 70,
    "start_time": "2021-09-02T20:46:57.929Z"
   },
   {
    "duration": 14,
    "start_time": "2021-09-02T20:46:58.001Z"
   },
   {
    "duration": 39,
    "start_time": "2021-09-02T20:46:58.019Z"
   },
   {
    "duration": 29,
    "start_time": "2021-09-02T20:46:58.061Z"
   },
   {
    "duration": 12,
    "start_time": "2021-09-02T20:46:58.092Z"
   },
   {
    "duration": 51,
    "start_time": "2021-09-02T20:46:58.105Z"
   },
   {
    "duration": 31,
    "start_time": "2021-09-02T20:46:58.158Z"
   },
   {
    "duration": 20,
    "start_time": "2021-09-02T20:46:58.191Z"
   },
   {
    "duration": 107,
    "start_time": "2021-09-02T20:46:58.213Z"
   },
   {
    "duration": 516,
    "start_time": "2021-09-02T20:46:57.806Z"
   },
   {
    "duration": 515,
    "start_time": "2021-09-02T20:46:57.808Z"
   },
   {
    "duration": 1176,
    "start_time": "2021-09-02T20:47:11.592Z"
   },
   {
    "duration": 29,
    "start_time": "2021-09-02T20:47:12.770Z"
   },
   {
    "duration": 178,
    "start_time": "2021-09-02T20:47:12.801Z"
   },
   {
    "duration": 98,
    "start_time": "2021-09-02T20:47:12.981Z"
   },
   {
    "duration": 148,
    "start_time": "2021-09-02T20:47:13.081Z"
   },
   {
    "duration": 20,
    "start_time": "2021-09-02T20:47:13.231Z"
   },
   {
    "duration": 4,
    "start_time": "2021-09-02T20:47:13.254Z"
   },
   {
    "duration": 30,
    "start_time": "2021-09-02T20:47:13.261Z"
   },
   {
    "duration": 72,
    "start_time": "2021-09-02T20:47:13.293Z"
   },
   {
    "duration": 35,
    "start_time": "2021-09-02T20:47:13.368Z"
   },
   {
    "duration": 68,
    "start_time": "2021-09-02T20:47:13.405Z"
   },
   {
    "duration": 10,
    "start_time": "2021-09-02T20:47:13.475Z"
   },
   {
    "duration": 7,
    "start_time": "2021-09-02T20:47:13.487Z"
   },
   {
    "duration": 7,
    "start_time": "2021-09-02T20:47:13.496Z"
   },
   {
    "duration": 60,
    "start_time": "2021-09-02T20:47:13.505Z"
   },
   {
    "duration": 25,
    "start_time": "2021-09-02T20:47:13.567Z"
   },
   {
    "duration": 24,
    "start_time": "2021-09-02T20:47:13.593Z"
   },
   {
    "duration": 30,
    "start_time": "2021-09-02T20:47:13.619Z"
   },
   {
    "duration": 95,
    "start_time": "2021-09-02T20:47:13.652Z"
   },
   {
    "duration": 32,
    "start_time": "2021-09-02T20:47:13.749Z"
   },
   {
    "duration": 72,
    "start_time": "2021-09-02T20:47:13.783Z"
   },
   {
    "duration": 18,
    "start_time": "2021-09-02T20:47:13.857Z"
   },
   {
    "duration": 20,
    "start_time": "2021-09-02T20:47:13.878Z"
   },
   {
    "duration": 61,
    "start_time": "2021-09-02T20:47:13.901Z"
   },
   {
    "duration": 16,
    "start_time": "2021-09-02T20:47:13.965Z"
   },
   {
    "duration": 32,
    "start_time": "2021-09-02T20:47:13.983Z"
   },
   {
    "duration": 54,
    "start_time": "2021-09-02T20:47:14.017Z"
   },
   {
    "duration": 19,
    "start_time": "2021-09-02T20:47:14.073Z"
   },
   {
    "duration": 31,
    "start_time": "2021-09-02T20:47:14.094Z"
   },
   {
    "duration": 45,
    "start_time": "2021-09-02T20:47:14.127Z"
   },
   {
    "duration": 379,
    "start_time": "2021-09-02T20:51:47.586Z"
   },
   {
    "duration": 292,
    "start_time": "2021-09-02T20:52:14.218Z"
   },
   {
    "duration": 27,
    "start_time": "2021-09-02T20:53:33.539Z"
   },
   {
    "duration": 312,
    "start_time": "2021-09-04T18:17:03.733Z"
   },
   {
    "duration": 1537,
    "start_time": "2021-09-04T18:17:11.552Z"
   },
   {
    "duration": 31,
    "start_time": "2021-09-04T18:17:13.091Z"
   },
   {
    "duration": 221,
    "start_time": "2021-09-04T18:17:13.125Z"
   },
   {
    "duration": 113,
    "start_time": "2021-09-04T18:17:13.349Z"
   },
   {
    "duration": 172,
    "start_time": "2021-09-04T18:17:13.465Z"
   },
   {
    "duration": 18,
    "start_time": "2021-09-04T18:17:13.640Z"
   },
   {
    "duration": 20,
    "start_time": "2021-09-04T18:17:13.660Z"
   },
   {
    "duration": 44,
    "start_time": "2021-09-04T18:17:13.684Z"
   },
   {
    "duration": 65,
    "start_time": "2021-09-04T18:17:13.731Z"
   },
   {
    "duration": 57,
    "start_time": "2021-09-04T18:17:13.799Z"
   },
   {
    "duration": 52,
    "start_time": "2021-09-04T18:17:13.858Z"
   },
   {
    "duration": 42,
    "start_time": "2021-09-04T18:17:13.912Z"
   },
   {
    "duration": 7,
    "start_time": "2021-09-04T18:17:13.956Z"
   },
   {
    "duration": 29,
    "start_time": "2021-09-04T18:17:13.966Z"
   },
   {
    "duration": 58,
    "start_time": "2021-09-04T18:17:13.997Z"
   },
   {
    "duration": 27,
    "start_time": "2021-09-04T18:17:14.057Z"
   },
   {
    "duration": 38,
    "start_time": "2021-09-04T18:17:14.087Z"
   },
   {
    "duration": 29,
    "start_time": "2021-09-04T18:17:14.128Z"
   },
   {
    "duration": 405,
    "start_time": "2021-09-04T18:17:14.160Z"
   },
   {
    "duration": 1030,
    "start_time": "2021-09-04T18:17:13.537Z"
   },
   {
    "duration": 1030,
    "start_time": "2021-09-04T18:17:13.539Z"
   },
   {
    "duration": 964,
    "start_time": "2021-09-04T18:17:13.606Z"
   },
   {
    "duration": 965,
    "start_time": "2021-09-04T18:17:13.607Z"
   },
   {
    "duration": 964,
    "start_time": "2021-09-04T18:17:13.609Z"
   },
   {
    "duration": 964,
    "start_time": "2021-09-04T18:17:13.610Z"
   },
   {
    "duration": 964,
    "start_time": "2021-09-04T18:17:13.612Z"
   },
   {
    "duration": 963,
    "start_time": "2021-09-04T18:17:13.614Z"
   },
   {
    "duration": 964,
    "start_time": "2021-09-04T18:17:13.615Z"
   },
   {
    "duration": 963,
    "start_time": "2021-09-04T18:17:13.617Z"
   },
   {
    "duration": 946,
    "start_time": "2021-09-04T18:17:13.636Z"
   },
   {
    "duration": 942,
    "start_time": "2021-09-04T18:17:13.642Z"
   },
   {
    "duration": 281,
    "start_time": "2021-09-04T18:17:26.387Z"
   },
   {
    "duration": 249,
    "start_time": "2021-09-04T18:17:33.525Z"
   },
   {
    "duration": 65,
    "start_time": "2021-09-04T18:17:43.067Z"
   },
   {
    "duration": 75,
    "start_time": "2021-09-04T18:17:54.182Z"
   },
   {
    "duration": 222,
    "start_time": "2021-09-04T18:18:45.873Z"
   },
   {
    "duration": 1458,
    "start_time": "2021-09-04T18:21:33.853Z"
   },
   {
    "duration": 31,
    "start_time": "2021-09-04T18:21:35.314Z"
   },
   {
    "duration": 194,
    "start_time": "2021-09-04T18:21:35.348Z"
   },
   {
    "duration": 110,
    "start_time": "2021-09-04T18:21:35.544Z"
   },
   {
    "duration": 171,
    "start_time": "2021-09-04T18:21:35.656Z"
   },
   {
    "duration": 20,
    "start_time": "2021-09-04T18:21:35.829Z"
   },
   {
    "duration": 24,
    "start_time": "2021-09-04T18:21:35.851Z"
   },
   {
    "duration": 45,
    "start_time": "2021-09-04T18:21:35.877Z"
   },
   {
    "duration": 69,
    "start_time": "2021-09-04T18:21:35.926Z"
   },
   {
    "duration": 56,
    "start_time": "2021-09-04T18:21:35.998Z"
   },
   {
    "duration": 51,
    "start_time": "2021-09-04T18:21:36.057Z"
   },
   {
    "duration": 44,
    "start_time": "2021-09-04T18:21:36.111Z"
   },
   {
    "duration": 7,
    "start_time": "2021-09-04T18:21:36.157Z"
   },
   {
    "duration": 23,
    "start_time": "2021-09-04T18:21:36.166Z"
   },
   {
    "duration": 71,
    "start_time": "2021-09-04T18:21:36.191Z"
   },
   {
    "duration": 27,
    "start_time": "2021-09-04T18:21:36.264Z"
   },
   {
    "duration": 31,
    "start_time": "2021-09-04T18:21:36.294Z"
   },
   {
    "duration": 31,
    "start_time": "2021-09-04T18:21:36.327Z"
   },
   {
    "duration": 243,
    "start_time": "2021-09-04T18:21:36.360Z"
   },
   {
    "duration": 30,
    "start_time": "2021-09-04T18:21:36.606Z"
   },
   {
    "duration": 63,
    "start_time": "2021-09-04T18:21:36.654Z"
   },
   {
    "duration": 34,
    "start_time": "2021-09-04T18:21:36.719Z"
   },
   {
    "duration": 23,
    "start_time": "2021-09-04T18:21:36.756Z"
   },
   {
    "duration": 32,
    "start_time": "2021-09-04T18:21:36.781Z"
   },
   {
    "duration": 43,
    "start_time": "2021-09-04T18:21:36.816Z"
   },
   {
    "duration": 41,
    "start_time": "2021-09-04T18:21:36.861Z"
   },
   {
    "duration": 48,
    "start_time": "2021-09-04T18:21:36.906Z"
   },
   {
    "duration": 25,
    "start_time": "2021-09-04T18:21:36.957Z"
   },
   {
    "duration": 39,
    "start_time": "2021-09-04T18:21:36.984Z"
   },
   {
    "duration": 65,
    "start_time": "2021-09-04T18:21:37.026Z"
   },
   {
    "duration": 28,
    "start_time": "2021-09-04T18:21:37.093Z"
   },
   {
    "duration": 6287,
    "start_time": "2021-09-04T18:23:43.084Z"
   },
   {
    "duration": 1337,
    "start_time": "2021-09-04T18:24:07.179Z"
   },
   {
    "duration": 38,
    "start_time": "2021-09-04T18:24:08.518Z"
   },
   {
    "duration": 197,
    "start_time": "2021-09-04T18:24:08.559Z"
   },
   {
    "duration": 113,
    "start_time": "2021-09-04T18:24:08.758Z"
   },
   {
    "duration": 176,
    "start_time": "2021-09-04T18:24:08.873Z"
   },
   {
    "duration": 24,
    "start_time": "2021-09-04T18:24:09.055Z"
   },
   {
    "duration": 6,
    "start_time": "2021-09-04T18:24:09.082Z"
   },
   {
    "duration": 32,
    "start_time": "2021-09-04T18:24:09.090Z"
   },
   {
    "duration": 88,
    "start_time": "2021-09-04T18:24:09.127Z"
   },
   {
    "duration": 61,
    "start_time": "2021-09-04T18:24:09.219Z"
   },
   {
    "duration": 72,
    "start_time": "2021-09-04T18:24:09.282Z"
   },
   {
    "duration": 17,
    "start_time": "2021-09-04T18:24:09.356Z"
   },
   {
    "duration": 7,
    "start_time": "2021-09-04T18:24:09.375Z"
   },
   {
    "duration": 17,
    "start_time": "2021-09-04T18:24:09.385Z"
   },
   {
    "duration": 70,
    "start_time": "2021-09-04T18:24:09.405Z"
   },
   {
    "duration": 28,
    "start_time": "2021-09-04T18:24:09.477Z"
   },
   {
    "duration": 53,
    "start_time": "2021-09-04T18:24:09.507Z"
   },
   {
    "duration": 13,
    "start_time": "2021-09-04T18:24:09.563Z"
   },
   {
    "duration": 248,
    "start_time": "2021-09-04T18:24:09.578Z"
   },
   {
    "duration": 42,
    "start_time": "2021-09-04T18:24:09.828Z"
   },
   {
    "duration": 67,
    "start_time": "2021-09-04T18:24:09.873Z"
   },
   {
    "duration": 30,
    "start_time": "2021-09-04T18:24:09.943Z"
   },
   {
    "duration": 27,
    "start_time": "2021-09-04T18:24:09.976Z"
   },
   {
    "duration": 56,
    "start_time": "2021-09-04T18:24:10.006Z"
   },
   {
    "duration": 18,
    "start_time": "2021-09-04T18:24:10.064Z"
   },
   {
    "duration": 29,
    "start_time": "2021-09-04T18:24:10.084Z"
   },
   {
    "duration": 66,
    "start_time": "2021-09-04T18:24:10.117Z"
   },
   {
    "duration": 24,
    "start_time": "2021-09-04T18:24:10.186Z"
   },
   {
    "duration": 56,
    "start_time": "2021-09-04T18:24:10.212Z"
   },
   {
    "duration": 47,
    "start_time": "2021-09-04T18:24:10.270Z"
   },
   {
    "duration": 51,
    "start_time": "2021-09-04T18:24:10.319Z"
   },
   {
    "duration": 8125,
    "start_time": "2021-09-04T18:24:29.381Z"
   },
   {
    "duration": 1410,
    "start_time": "2021-09-04T18:24:44.687Z"
   },
   {
    "duration": 30,
    "start_time": "2021-09-04T18:24:46.100Z"
   },
   {
    "duration": 198,
    "start_time": "2021-09-04T18:24:46.133Z"
   },
   {
    "duration": 110,
    "start_time": "2021-09-04T18:24:46.334Z"
   },
   {
    "duration": 171,
    "start_time": "2021-09-04T18:24:46.446Z"
   },
   {
    "duration": 19,
    "start_time": "2021-09-04T18:24:46.619Z"
   },
   {
    "duration": 22,
    "start_time": "2021-09-04T18:24:46.640Z"
   },
   {
    "duration": 42,
    "start_time": "2021-09-04T18:24:46.666Z"
   },
   {
    "duration": 63,
    "start_time": "2021-09-04T18:24:46.711Z"
   },
   {
    "duration": 43,
    "start_time": "2021-09-04T18:24:46.776Z"
   },
   {
    "duration": 74,
    "start_time": "2021-09-04T18:24:46.822Z"
   },
   {
    "duration": 16,
    "start_time": "2021-09-04T18:24:46.899Z"
   },
   {
    "duration": 16,
    "start_time": "2021-09-04T18:24:46.917Z"
   },
   {
    "duration": 7,
    "start_time": "2021-09-04T18:24:46.954Z"
   },
   {
    "duration": 58,
    "start_time": "2021-09-04T18:24:46.963Z"
   },
   {
    "duration": 40,
    "start_time": "2021-09-04T18:24:47.023Z"
   },
   {
    "duration": 32,
    "start_time": "2021-09-04T18:24:47.066Z"
   },
   {
    "duration": 14,
    "start_time": "2021-09-04T18:24:47.100Z"
   },
   {
    "duration": 257,
    "start_time": "2021-09-04T18:24:47.118Z"
   },
   {
    "duration": 32,
    "start_time": "2021-09-04T18:24:47.378Z"
   },
   {
    "duration": 98,
    "start_time": "2021-09-04T18:24:47.413Z"
   },
   {
    "duration": 21,
    "start_time": "2021-09-04T18:24:47.513Z"
   },
   {
    "duration": 23,
    "start_time": "2021-09-04T18:24:47.557Z"
   },
   {
    "duration": 34,
    "start_time": "2021-09-04T18:24:47.584Z"
   },
   {
    "duration": 42,
    "start_time": "2021-09-04T18:24:47.620Z"
   },
   {
    "duration": 38,
    "start_time": "2021-09-04T18:24:47.665Z"
   },
   {
    "duration": 72,
    "start_time": "2021-09-04T18:24:47.706Z"
   },
   {
    "duration": 26,
    "start_time": "2021-09-04T18:24:47.781Z"
   },
   {
    "duration": 57,
    "start_time": "2021-09-04T18:24:47.810Z"
   },
   {
    "duration": 38,
    "start_time": "2021-09-04T18:24:47.870Z"
   },
   {
    "duration": 53,
    "start_time": "2021-09-04T18:24:47.910Z"
   },
   {
    "duration": 1351,
    "start_time": "2021-09-04T18:25:21.064Z"
   },
   {
    "duration": 31,
    "start_time": "2021-09-04T18:25:22.418Z"
   },
   {
    "duration": 192,
    "start_time": "2021-09-04T18:25:22.452Z"
   },
   {
    "duration": 110,
    "start_time": "2021-09-04T18:25:22.647Z"
   },
   {
    "duration": 174,
    "start_time": "2021-09-04T18:25:22.759Z"
   },
   {
    "duration": 19,
    "start_time": "2021-09-04T18:25:22.935Z"
   },
   {
    "duration": 10,
    "start_time": "2021-09-04T18:25:22.956Z"
   },
   {
    "duration": 33,
    "start_time": "2021-09-04T18:25:22.969Z"
   },
   {
    "duration": 80,
    "start_time": "2021-09-04T18:25:23.005Z"
   },
   {
    "duration": 43,
    "start_time": "2021-09-04T18:25:23.087Z"
   },
   {
    "duration": 52,
    "start_time": "2021-09-04T18:25:23.155Z"
   },
   {
    "duration": 16,
    "start_time": "2021-09-04T18:25:23.209Z"
   },
   {
    "duration": 8,
    "start_time": "2021-09-04T18:25:23.254Z"
   },
   {
    "duration": 8,
    "start_time": "2021-09-04T18:25:23.264Z"
   },
   {
    "duration": 46,
    "start_time": "2021-09-04T18:25:23.274Z"
   },
   {
    "duration": 48,
    "start_time": "2021-09-04T18:25:23.322Z"
   },
   {
    "duration": 31,
    "start_time": "2021-09-04T18:25:23.373Z"
   },
   {
    "duration": 13,
    "start_time": "2021-09-04T18:25:23.406Z"
   },
   {
    "duration": 252,
    "start_time": "2021-09-04T18:25:23.421Z"
   },
   {
    "duration": 30,
    "start_time": "2021-09-04T18:25:23.676Z"
   },
   {
    "duration": 83,
    "start_time": "2021-09-04T18:25:23.708Z"
   },
   {
    "duration": 19,
    "start_time": "2021-09-04T18:25:23.794Z"
   },
   {
    "duration": 42,
    "start_time": "2021-09-04T18:25:23.818Z"
   },
   {
    "duration": 34,
    "start_time": "2021-09-04T18:25:23.862Z"
   },
   {
    "duration": 17,
    "start_time": "2021-09-04T18:25:23.898Z"
   },
   {
    "duration": 50,
    "start_time": "2021-09-04T18:25:23.917Z"
   },
   {
    "duration": 43,
    "start_time": "2021-09-04T18:25:23.969Z"
   },
   {
    "duration": 42,
    "start_time": "2021-09-04T18:25:24.014Z"
   },
   {
    "duration": 40,
    "start_time": "2021-09-04T18:25:24.058Z"
   },
   {
    "duration": 69,
    "start_time": "2021-09-04T18:25:24.100Z"
   },
   {
    "duration": 35,
    "start_time": "2021-09-04T18:25:24.172Z"
   },
   {
    "duration": 1533,
    "start_time": "2021-09-04T18:41:45.959Z"
   },
   {
    "duration": 31,
    "start_time": "2021-09-04T18:41:47.495Z"
   },
   {
    "duration": 195,
    "start_time": "2021-09-04T18:41:47.528Z"
   },
   {
    "duration": 112,
    "start_time": "2021-09-04T18:41:47.725Z"
   },
   {
    "duration": 179,
    "start_time": "2021-09-04T18:41:47.840Z"
   },
   {
    "duration": 19,
    "start_time": "2021-09-04T18:41:48.021Z"
   },
   {
    "duration": 6,
    "start_time": "2021-09-04T18:41:48.042Z"
   },
   {
    "duration": 29,
    "start_time": "2021-09-04T18:41:48.056Z"
   },
   {
    "duration": 85,
    "start_time": "2021-09-04T18:41:48.088Z"
   },
   {
    "duration": 42,
    "start_time": "2021-09-04T18:41:48.175Z"
   },
   {
    "duration": 75,
    "start_time": "2021-09-04T18:41:48.220Z"
   },
   {
    "duration": 17,
    "start_time": "2021-09-04T18:41:48.297Z"
   },
   {
    "duration": 42,
    "start_time": "2021-09-04T18:41:48.317Z"
   },
   {
    "duration": 15,
    "start_time": "2021-09-04T18:41:48.362Z"
   },
   {
    "duration": 49,
    "start_time": "2021-09-04T18:41:48.379Z"
   },
   {
    "duration": 40,
    "start_time": "2021-09-04T18:41:48.431Z"
   },
   {
    "duration": 30,
    "start_time": "2021-09-04T18:41:48.474Z"
   },
   {
    "duration": 12,
    "start_time": "2021-09-04T18:41:48.507Z"
   },
   {
    "duration": 252,
    "start_time": "2021-09-04T18:41:48.521Z"
   },
   {
    "duration": 31,
    "start_time": "2021-09-04T18:41:48.775Z"
   },
   {
    "duration": 85,
    "start_time": "2021-09-04T18:41:48.808Z"
   },
   {
    "duration": 19,
    "start_time": "2021-09-04T18:41:48.896Z"
   },
   {
    "duration": 40,
    "start_time": "2021-09-04T18:41:48.919Z"
   },
   {
    "duration": 32,
    "start_time": "2021-09-04T18:41:48.962Z"
   },
   {
    "duration": 17,
    "start_time": "2021-09-04T18:41:48.996Z"
   },
   {
    "duration": 51,
    "start_time": "2021-09-04T18:41:49.016Z"
   },
   {
    "duration": 43,
    "start_time": "2021-09-04T18:41:49.070Z"
   },
   {
    "duration": 45,
    "start_time": "2021-09-04T18:41:49.116Z"
   },
   {
    "duration": 39,
    "start_time": "2021-09-04T18:41:49.164Z"
   },
   {
    "duration": 59,
    "start_time": "2021-09-04T18:41:49.206Z"
   },
   {
    "duration": 30,
    "start_time": "2021-09-04T18:41:49.267Z"
   },
   {
    "duration": 6,
    "start_time": "2021-09-04T18:44:56.173Z"
   },
   {
    "duration": 22,
    "start_time": "2021-09-04T19:01:51.004Z"
   },
   {
    "duration": 26,
    "start_time": "2021-09-04T19:02:24.907Z"
   },
   {
    "duration": 7526,
    "start_time": "2021-09-04T19:09:15.605Z"
   },
   {
    "duration": 291,
    "start_time": "2021-09-04T19:09:32.606Z"
   },
   {
    "duration": 1431,
    "start_time": "2021-09-04T19:15:56.271Z"
   },
   {
    "duration": 33,
    "start_time": "2021-09-04T19:15:57.705Z"
   },
   {
    "duration": 210,
    "start_time": "2021-09-04T19:15:57.741Z"
   },
   {
    "duration": 124,
    "start_time": "2021-09-04T19:15:57.963Z"
   },
   {
    "duration": 178,
    "start_time": "2021-09-04T19:15:58.090Z"
   },
   {
    "duration": 20,
    "start_time": "2021-09-04T19:15:58.270Z"
   },
   {
    "duration": 20,
    "start_time": "2021-09-04T19:15:58.292Z"
   },
   {
    "duration": 39,
    "start_time": "2021-09-04T19:15:58.316Z"
   },
   {
    "duration": 65,
    "start_time": "2021-09-04T19:15:58.362Z"
   },
   {
    "duration": 60,
    "start_time": "2021-09-04T19:15:58.430Z"
   },
   {
    "duration": 77,
    "start_time": "2021-09-04T19:15:58.493Z"
   },
   {
    "duration": 16,
    "start_time": "2021-09-04T19:15:58.572Z"
   },
   {
    "duration": 25,
    "start_time": "2021-09-04T19:15:58.590Z"
   },
   {
    "duration": 23,
    "start_time": "2021-09-04T19:15:58.618Z"
   },
   {
    "duration": 75,
    "start_time": "2021-09-04T19:15:58.643Z"
   },
   {
    "duration": 27,
    "start_time": "2021-09-04T19:15:58.720Z"
   },
   {
    "duration": 44,
    "start_time": "2021-09-04T19:15:58.749Z"
   },
   {
    "duration": 13,
    "start_time": "2021-09-04T19:15:58.795Z"
   },
   {
    "duration": 254,
    "start_time": "2021-09-04T19:15:58.811Z"
   },
   {
    "duration": 6,
    "start_time": "2021-09-04T19:15:59.067Z"
   },
   {
    "duration": 35,
    "start_time": "2021-09-04T19:15:59.075Z"
   },
   {
    "duration": 92,
    "start_time": "2021-09-04T19:15:59.112Z"
   },
   {
    "duration": 21,
    "start_time": "2021-09-04T19:15:59.207Z"
   },
   {
    "duration": 41,
    "start_time": "2021-09-04T19:15:59.230Z"
   },
   {
    "duration": 37,
    "start_time": "2021-09-04T19:15:59.273Z"
   },
   {
    "duration": 48,
    "start_time": "2021-09-04T19:15:59.315Z"
   },
   {
    "duration": 24,
    "start_time": "2021-09-04T19:15:59.367Z"
   },
   {
    "duration": 63,
    "start_time": "2021-09-04T19:15:59.393Z"
   },
   {
    "duration": 30,
    "start_time": "2021-09-04T19:15:59.459Z"
   },
   {
    "duration": 43,
    "start_time": "2021-09-04T19:15:59.491Z"
   },
   {
    "duration": 42,
    "start_time": "2021-09-04T19:15:59.560Z"
   },
   {
    "duration": 53,
    "start_time": "2021-09-04T19:15:59.605Z"
   },
   {
    "duration": 34,
    "start_time": "2021-09-04T19:15:59.660Z"
   },
   {
    "duration": 406,
    "start_time": "2021-09-04T19:15:59.697Z"
   },
   {
    "duration": 221,
    "start_time": "2021-09-04T19:20:25.868Z"
   },
   {
    "duration": 85,
    "start_time": "2021-09-04T19:22:10.510Z"
   },
   {
    "duration": 114,
    "start_time": "2021-09-04T19:22:29.713Z"
   },
   {
    "duration": 208,
    "start_time": "2021-09-04T19:22:44.003Z"
   },
   {
    "duration": 215,
    "start_time": "2021-09-04T19:23:46.203Z"
   },
   {
    "duration": 261,
    "start_time": "2021-09-04T19:24:11.182Z"
   },
   {
    "duration": 212,
    "start_time": "2021-09-04T19:25:16.642Z"
   },
   {
    "duration": 211,
    "start_time": "2021-09-04T19:25:21.979Z"
   },
   {
    "duration": 217,
    "start_time": "2021-09-04T19:25:25.883Z"
   },
   {
    "duration": 7,
    "start_time": "2021-09-04T19:33:07.622Z"
   },
   {
    "duration": 10,
    "start_time": "2021-09-04T19:33:29.821Z"
   },
   {
    "duration": 7,
    "start_time": "2021-09-04T19:33:36.030Z"
   },
   {
    "duration": 5,
    "start_time": "2021-09-04T19:35:44.325Z"
   },
   {
    "duration": 877,
    "start_time": "2021-09-04T19:58:55.501Z"
   },
   {
    "duration": 243,
    "start_time": "2021-09-04T19:59:03.209Z"
   },
   {
    "duration": 5,
    "start_time": "2021-09-04T19:59:09.199Z"
   },
   {
    "duration": 7,
    "start_time": "2021-09-04T19:59:15.919Z"
   },
   {
    "duration": 269,
    "start_time": "2021-09-04T19:59:55.919Z"
   },
   {
    "duration": 88,
    "start_time": "2021-09-04T20:00:25.442Z"
   },
   {
    "duration": 288,
    "start_time": "2021-09-04T20:00:32.518Z"
   },
   {
    "duration": 264,
    "start_time": "2021-09-04T20:00:37.783Z"
   },
   {
    "duration": 8,
    "start_time": "2021-09-04T20:01:10.314Z"
   },
   {
    "duration": 284,
    "start_time": "2021-09-04T20:02:29.219Z"
   },
   {
    "duration": 256,
    "start_time": "2021-09-04T20:02:34.995Z"
   },
   {
    "duration": 10,
    "start_time": "2021-09-04T20:02:47.179Z"
   },
   {
    "duration": 259,
    "start_time": "2021-09-04T20:05:33.463Z"
   },
   {
    "duration": 9,
    "start_time": "2021-09-04T20:05:43.365Z"
   },
   {
    "duration": 9,
    "start_time": "2021-09-04T20:07:28.075Z"
   },
   {
    "duration": 25,
    "start_time": "2021-09-04T20:18:12.107Z"
   },
   {
    "duration": 272,
    "start_time": "2021-09-04T20:18:32.858Z"
   },
   {
    "duration": 25,
    "start_time": "2021-09-04T20:19:57.770Z"
   },
   {
    "duration": 25,
    "start_time": "2021-09-04T20:21:57.093Z"
   },
   {
    "duration": 25,
    "start_time": "2021-09-04T20:22:17.437Z"
   },
   {
    "duration": 26,
    "start_time": "2021-09-04T20:23:06.975Z"
   },
   {
    "duration": 4049,
    "start_time": "2021-09-04T20:34:10.931Z"
   },
   {
    "duration": 4235,
    "start_time": "2021-09-04T20:35:12.185Z"
   },
   {
    "duration": 4468,
    "start_time": "2021-09-04T20:35:41.764Z"
   },
   {
    "duration": 1534,
    "start_time": "2021-09-04T20:36:08.825Z"
   },
   {
    "duration": 32,
    "start_time": "2021-09-04T20:36:10.361Z"
   },
   {
    "duration": 207,
    "start_time": "2021-09-04T20:36:10.396Z"
   },
   {
    "duration": 115,
    "start_time": "2021-09-04T20:36:10.606Z"
   },
   {
    "duration": 181,
    "start_time": "2021-09-04T20:36:10.724Z"
   },
   {
    "duration": 18,
    "start_time": "2021-09-04T20:36:10.907Z"
   },
   {
    "duration": 13,
    "start_time": "2021-09-04T20:36:10.929Z"
   },
   {
    "duration": 54,
    "start_time": "2021-09-04T20:36:10.948Z"
   },
   {
    "duration": 117,
    "start_time": "2021-09-04T20:36:11.006Z"
   },
   {
    "duration": 81,
    "start_time": "2021-09-04T20:36:11.127Z"
   },
   {
    "duration": 111,
    "start_time": "2021-09-04T20:36:11.212Z"
   },
   {
    "duration": 41,
    "start_time": "2021-09-04T20:36:11.327Z"
   },
   {
    "duration": 20,
    "start_time": "2021-09-04T20:36:11.372Z"
   },
   {
    "duration": 23,
    "start_time": "2021-09-04T20:36:11.394Z"
   },
   {
    "duration": 58,
    "start_time": "2021-09-04T20:36:11.420Z"
   },
   {
    "duration": 27,
    "start_time": "2021-09-04T20:36:11.480Z"
   },
   {
    "duration": 46,
    "start_time": "2021-09-04T20:36:11.510Z"
   },
   {
    "duration": 16,
    "start_time": "2021-09-04T20:36:11.558Z"
   },
   {
    "duration": 260,
    "start_time": "2021-09-04T20:36:11.576Z"
   },
   {
    "duration": 18,
    "start_time": "2021-09-04T20:36:11.838Z"
   },
   {
    "duration": 46,
    "start_time": "2021-09-04T20:36:11.859Z"
   },
   {
    "duration": 113,
    "start_time": "2021-09-04T20:36:11.909Z"
   },
   {
    "duration": 35,
    "start_time": "2021-09-04T20:36:12.030Z"
   },
   {
    "duration": 39,
    "start_time": "2021-09-04T20:36:12.069Z"
   },
   {
    "duration": 64,
    "start_time": "2021-09-04T20:36:12.111Z"
   },
   {
    "duration": 28,
    "start_time": "2021-09-04T20:36:12.178Z"
   },
   {
    "duration": 50,
    "start_time": "2021-09-04T20:36:12.210Z"
   },
   {
    "duration": 43,
    "start_time": "2021-09-04T20:36:12.263Z"
   },
   {
    "duration": 24,
    "start_time": "2021-09-04T20:36:12.309Z"
   },
   {
    "duration": 40,
    "start_time": "2021-09-04T20:36:12.354Z"
   },
   {
    "duration": 64,
    "start_time": "2021-09-04T20:36:12.397Z"
   },
   {
    "duration": 31,
    "start_time": "2021-09-04T20:36:12.463Z"
   },
   {
    "duration": 21,
    "start_time": "2021-09-04T20:36:12.496Z"
   },
   {
    "duration": 4347,
    "start_time": "2021-09-04T20:36:12.520Z"
   },
   {
    "duration": 1062,
    "start_time": "2021-09-04T20:36:15.808Z"
   },
   {
    "duration": 1063,
    "start_time": "2021-09-04T20:36:15.809Z"
   },
   {
    "duration": 4118,
    "start_time": "2021-09-04T20:37:01.755Z"
   },
   {
    "duration": 7,
    "start_time": "2021-09-04T20:37:25.451Z"
   },
   {
    "duration": 4755,
    "start_time": "2021-09-04T20:37:32.246Z"
   },
   {
    "duration": 8,
    "start_time": "2021-09-04T20:38:15.125Z"
   },
   {
    "duration": 7,
    "start_time": "2021-09-04T20:38:36.092Z"
   },
   {
    "duration": 6,
    "start_time": "2021-09-04T20:38:42.322Z"
   },
   {
    "duration": 16,
    "start_time": "2021-09-04T20:41:04.463Z"
   },
   {
    "duration": 14,
    "start_time": "2021-09-04T20:42:05.001Z"
   },
   {
    "duration": 21,
    "start_time": "2021-09-04T20:51:53.738Z"
   },
   {
    "duration": 268,
    "start_time": "2021-09-04T20:55:47.325Z"
   },
   {
    "duration": 1442,
    "start_time": "2021-09-04T20:55:52.992Z"
   },
   {
    "duration": 35,
    "start_time": "2021-09-04T20:55:54.437Z"
   },
   {
    "duration": 207,
    "start_time": "2021-09-04T20:55:54.476Z"
   },
   {
    "duration": 119,
    "start_time": "2021-09-04T20:55:54.686Z"
   },
   {
    "duration": 188,
    "start_time": "2021-09-04T20:55:54.807Z"
   },
   {
    "duration": 19,
    "start_time": "2021-09-04T20:55:54.998Z"
   },
   {
    "duration": 9,
    "start_time": "2021-09-04T20:55:55.020Z"
   },
   {
    "duration": 40,
    "start_time": "2021-09-04T20:55:55.033Z"
   },
   {
    "duration": 78,
    "start_time": "2021-09-04T20:55:55.076Z"
   },
   {
    "duration": 44,
    "start_time": "2021-09-04T20:55:55.157Z"
   },
   {
    "duration": 77,
    "start_time": "2021-09-04T20:55:55.203Z"
   },
   {
    "duration": 16,
    "start_time": "2021-09-04T20:55:55.283Z"
   },
   {
    "duration": 15,
    "start_time": "2021-09-04T20:55:55.301Z"
   },
   {
    "duration": 39,
    "start_time": "2021-09-04T20:55:55.318Z"
   },
   {
    "duration": 51,
    "start_time": "2021-09-04T20:55:55.360Z"
   },
   {
    "duration": 41,
    "start_time": "2021-09-04T20:55:55.413Z"
   },
   {
    "duration": 33,
    "start_time": "2021-09-04T20:55:55.457Z"
   },
   {
    "duration": 13,
    "start_time": "2021-09-04T20:55:55.492Z"
   },
   {
    "duration": 365,
    "start_time": "2021-09-04T20:55:55.509Z"
   },
   {
    "duration": 7,
    "start_time": "2021-09-04T20:55:55.877Z"
   },
   {
    "duration": 44,
    "start_time": "2021-09-04T20:55:55.887Z"
   },
   {
    "duration": 126,
    "start_time": "2021-09-04T20:55:55.935Z"
   },
   {
    "duration": 33,
    "start_time": "2021-09-04T20:55:56.068Z"
   },
   {
    "duration": 52,
    "start_time": "2021-09-04T20:55:56.105Z"
   },
   {
    "duration": 54,
    "start_time": "2021-09-04T20:55:56.161Z"
   },
   {
    "duration": 45,
    "start_time": "2021-09-04T20:55:56.218Z"
   },
   {
    "duration": 36,
    "start_time": "2021-09-04T20:55:56.267Z"
   },
   {
    "duration": 86,
    "start_time": "2021-09-04T20:55:56.306Z"
   },
   {
    "duration": 39,
    "start_time": "2021-09-04T20:55:56.395Z"
   },
   {
    "duration": 63,
    "start_time": "2021-09-04T20:55:56.454Z"
   },
   {
    "duration": 79,
    "start_time": "2021-09-04T20:55:56.521Z"
   },
   {
    "duration": 65,
    "start_time": "2021-09-04T20:55:56.603Z"
   },
   {
    "duration": 32,
    "start_time": "2021-09-04T20:55:56.671Z"
   },
   {
    "duration": 47,
    "start_time": "2021-09-04T20:55:56.707Z"
   },
   {
    "duration": 11,
    "start_time": "2021-09-04T20:55:56.758Z"
   },
   {
    "duration": 7931,
    "start_time": "2021-09-04T20:55:56.772Z"
   },
   {
    "duration": 1471,
    "start_time": "2021-09-04T21:01:13.647Z"
   },
   {
    "duration": 32,
    "start_time": "2021-09-04T21:01:15.121Z"
   },
   {
    "duration": 202,
    "start_time": "2021-09-04T21:01:15.157Z"
   },
   {
    "duration": 112,
    "start_time": "2021-09-04T21:01:15.362Z"
   },
   {
    "duration": 173,
    "start_time": "2021-09-04T21:01:15.476Z"
   },
   {
    "duration": 19,
    "start_time": "2021-09-04T21:01:15.653Z"
   },
   {
    "duration": 12,
    "start_time": "2021-09-04T21:01:15.675Z"
   },
   {
    "duration": 37,
    "start_time": "2021-09-04T21:01:15.689Z"
   },
   {
    "duration": 71,
    "start_time": "2021-09-04T21:01:15.728Z"
   },
   {
    "duration": 57,
    "start_time": "2021-09-04T21:01:15.802Z"
   },
   {
    "duration": 51,
    "start_time": "2021-09-04T21:01:15.862Z"
   },
   {
    "duration": 42,
    "start_time": "2021-09-04T21:01:15.915Z"
   },
   {
    "duration": 8,
    "start_time": "2021-09-04T21:01:15.959Z"
   },
   {
    "duration": 27,
    "start_time": "2021-09-04T21:01:15.970Z"
   },
   {
    "duration": 60,
    "start_time": "2021-09-04T21:01:16.000Z"
   },
   {
    "duration": 27,
    "start_time": "2021-09-04T21:01:16.063Z"
   },
   {
    "duration": 32,
    "start_time": "2021-09-04T21:01:16.093Z"
   },
   {
    "duration": 28,
    "start_time": "2021-09-04T21:01:16.130Z"
   },
   {
    "duration": 229,
    "start_time": "2021-09-04T21:01:16.162Z"
   },
   {
    "duration": 5,
    "start_time": "2021-09-04T21:01:16.393Z"
   },
   {
    "duration": 53,
    "start_time": "2021-09-04T21:01:16.401Z"
   },
   {
    "duration": 67,
    "start_time": "2021-09-04T21:01:16.457Z"
   },
   {
    "duration": 34,
    "start_time": "2021-09-04T21:01:16.527Z"
   },
   {
    "duration": 26,
    "start_time": "2021-09-04T21:01:16.563Z"
   },
   {
    "duration": 33,
    "start_time": "2021-09-04T21:01:16.591Z"
   },
   {
    "duration": 44,
    "start_time": "2021-09-04T21:01:16.627Z"
   },
   {
    "duration": 32,
    "start_time": "2021-09-04T21:01:16.674Z"
   },
   {
    "duration": 59,
    "start_time": "2021-09-04T21:01:16.709Z"
   },
   {
    "duration": 27,
    "start_time": "2021-09-04T21:01:16.771Z"
   },
   {
    "duration": 66,
    "start_time": "2021-09-04T21:01:16.801Z"
   },
   {
    "duration": 39,
    "start_time": "2021-09-04T21:01:16.869Z"
   },
   {
    "duration": 55,
    "start_time": "2021-09-04T21:01:16.910Z"
   },
   {
    "duration": 25,
    "start_time": "2021-09-04T21:01:16.968Z"
   },
   {
    "duration": 19,
    "start_time": "2021-09-04T21:01:16.996Z"
   },
   {
    "duration": 41,
    "start_time": "2021-09-04T21:01:17.018Z"
   },
   {
    "duration": 861,
    "start_time": "2021-09-04T21:01:17.062Z"
   },
   {
    "duration": 1415,
    "start_time": "2021-09-04T21:02:03.800Z"
   },
   {
    "duration": 32,
    "start_time": "2021-09-04T21:02:05.217Z"
   },
   {
    "duration": 296,
    "start_time": "2021-09-04T21:02:05.253Z"
   },
   {
    "duration": 168,
    "start_time": "2021-09-04T21:02:05.552Z"
   },
   {
    "duration": 256,
    "start_time": "2021-09-04T21:02:05.723Z"
   },
   {
    "duration": 22,
    "start_time": "2021-09-04T21:02:05.982Z"
   },
   {
    "duration": 7,
    "start_time": "2021-09-04T21:02:06.007Z"
   },
   {
    "duration": 47,
    "start_time": "2021-09-04T21:02:06.018Z"
   },
   {
    "duration": 62,
    "start_time": "2021-09-04T21:02:06.068Z"
   },
   {
    "duration": 44,
    "start_time": "2021-09-04T21:02:06.155Z"
   },
   {
    "duration": 81,
    "start_time": "2021-09-04T21:02:06.201Z"
   },
   {
    "duration": 17,
    "start_time": "2021-09-04T21:02:06.284Z"
   },
   {
    "duration": 9,
    "start_time": "2021-09-04T21:02:06.303Z"
   },
   {
    "duration": 19,
    "start_time": "2021-09-04T21:02:06.314Z"
   },
   {
    "duration": 62,
    "start_time": "2021-09-04T21:02:06.335Z"
   },
   {
    "duration": 27,
    "start_time": "2021-09-04T21:02:06.399Z"
   },
   {
    "duration": 52,
    "start_time": "2021-09-04T21:02:06.428Z"
   },
   {
    "duration": 12,
    "start_time": "2021-09-04T21:02:06.482Z"
   },
   {
    "duration": 232,
    "start_time": "2021-09-04T21:02:06.496Z"
   },
   {
    "duration": 5,
    "start_time": "2021-09-04T21:02:06.731Z"
   },
   {
    "duration": 31,
    "start_time": "2021-09-04T21:02:06.754Z"
   },
   {
    "duration": 85,
    "start_time": "2021-09-04T21:02:06.787Z"
   },
   {
    "duration": 21,
    "start_time": "2021-09-04T21:02:06.876Z"
   },
   {
    "duration": 33,
    "start_time": "2021-09-04T21:02:06.899Z"
   },
   {
    "duration": 45,
    "start_time": "2021-09-04T21:02:06.934Z"
   },
   {
    "duration": 17,
    "start_time": "2021-09-04T21:02:06.982Z"
   },
   {
    "duration": 37,
    "start_time": "2021-09-04T21:02:07.001Z"
   },
   {
    "duration": 58,
    "start_time": "2021-09-04T21:02:07.040Z"
   },
   {
    "duration": 26,
    "start_time": "2021-09-04T21:02:07.101Z"
   },
   {
    "duration": 42,
    "start_time": "2021-09-04T21:02:07.154Z"
   },
   {
    "duration": 60,
    "start_time": "2021-09-04T21:02:07.199Z"
   },
   {
    "duration": 31,
    "start_time": "2021-09-04T21:02:07.262Z"
   },
   {
    "duration": 21,
    "start_time": "2021-09-04T21:02:07.295Z"
   },
   {
    "duration": 45,
    "start_time": "2021-09-04T21:02:07.319Z"
   },
   {
    "duration": 11,
    "start_time": "2021-09-04T21:02:07.368Z"
   },
   {
    "duration": 288,
    "start_time": "2021-09-04T21:02:07.382Z"
   },
   {
    "duration": 1537,
    "start_time": "2021-09-04T21:07:08.679Z"
   },
   {
    "duration": 31,
    "start_time": "2021-09-04T21:07:10.219Z"
   },
   {
    "duration": 196,
    "start_time": "2021-09-04T21:07:10.253Z"
   },
   {
    "duration": 113,
    "start_time": "2021-09-04T21:07:10.452Z"
   },
   {
    "duration": 173,
    "start_time": "2021-09-04T21:07:10.567Z"
   },
   {
    "duration": 19,
    "start_time": "2021-09-04T21:07:10.742Z"
   },
   {
    "duration": 21,
    "start_time": "2021-09-04T21:07:10.763Z"
   },
   {
    "duration": 50,
    "start_time": "2021-09-04T21:07:10.789Z"
   },
   {
    "duration": 63,
    "start_time": "2021-09-04T21:07:10.843Z"
   },
   {
    "duration": 60,
    "start_time": "2021-09-04T21:07:10.909Z"
   },
   {
    "duration": 52,
    "start_time": "2021-09-04T21:07:10.971Z"
   },
   {
    "duration": 41,
    "start_time": "2021-09-04T21:07:11.026Z"
   },
   {
    "duration": 7,
    "start_time": "2021-09-04T21:07:11.070Z"
   },
   {
    "duration": 15,
    "start_time": "2021-09-04T21:07:11.080Z"
   },
   {
    "duration": 72,
    "start_time": "2021-09-04T21:07:11.098Z"
   },
   {
    "duration": 27,
    "start_time": "2021-09-04T21:07:11.172Z"
   },
   {
    "duration": 32,
    "start_time": "2021-09-04T21:07:11.201Z"
   },
   {
    "duration": 30,
    "start_time": "2021-09-04T21:07:11.235Z"
   },
   {
    "duration": 242,
    "start_time": "2021-09-04T21:07:11.267Z"
   },
   {
    "duration": 5,
    "start_time": "2021-09-04T21:07:11.511Z"
   },
   {
    "duration": 55,
    "start_time": "2021-09-04T21:07:11.518Z"
   },
   {
    "duration": 64,
    "start_time": "2021-09-04T21:07:11.575Z"
   },
   {
    "duration": 20,
    "start_time": "2021-09-04T21:07:11.655Z"
   },
   {
    "duration": 22,
    "start_time": "2021-09-04T21:07:11.678Z"
   },
   {
    "duration": 56,
    "start_time": "2021-09-04T21:07:11.703Z"
   },
   {
    "duration": 19,
    "start_time": "2021-09-04T21:07:11.761Z"
   },
   {
    "duration": 31,
    "start_time": "2021-09-04T21:07:11.783Z"
   },
   {
    "duration": 66,
    "start_time": "2021-09-04T21:07:11.817Z"
   },
   {
    "duration": 29,
    "start_time": "2021-09-04T21:07:11.886Z"
   },
   {
    "duration": 59,
    "start_time": "2021-09-04T21:07:11.918Z"
   },
   {
    "duration": 38,
    "start_time": "2021-09-04T21:07:11.980Z"
   },
   {
    "duration": 51,
    "start_time": "2021-09-04T21:07:12.020Z"
   },
   {
    "duration": 20,
    "start_time": "2021-09-04T21:07:12.073Z"
   },
   {
    "duration": 15,
    "start_time": "2021-09-04T21:07:12.095Z"
   },
   {
    "duration": 8,
    "start_time": "2021-09-04T21:07:12.112Z"
   },
   {
    "duration": 268,
    "start_time": "2021-09-04T21:07:12.155Z"
   },
   {
    "duration": 25,
    "start_time": "2021-09-04T21:25:59.222Z"
   },
   {
    "duration": 558,
    "start_time": "2021-09-04T21:29:35.228Z"
   },
   {
    "duration": 27,
    "start_time": "2021-09-04T21:29:42.398Z"
   },
   {
    "duration": 276,
    "start_time": "2021-09-04T21:35:52.077Z"
   },
   {
    "duration": 46,
    "start_time": "2021-09-04T21:36:02.415Z"
   },
   {
    "duration": 53,
    "start_time": "2021-09-04T21:37:47.573Z"
   },
   {
    "duration": 267,
    "start_time": "2021-09-04T21:50:23.078Z"
   },
   {
    "duration": 25,
    "start_time": "2021-09-04T21:51:03.593Z"
   },
   {
    "duration": 16,
    "start_time": "2021-09-04T21:51:36.236Z"
   },
   {
    "duration": 271,
    "start_time": "2021-09-04T21:52:13.659Z"
   },
   {
    "duration": 15,
    "start_time": "2021-09-04T21:53:15.204Z"
   },
   {
    "duration": 14,
    "start_time": "2021-09-04T22:05:12.869Z"
   },
   {
    "duration": 70,
    "start_time": "2021-09-04T22:15:26.311Z"
   },
   {
    "duration": 46,
    "start_time": "2021-09-04T22:15:42.175Z"
   },
   {
    "duration": 16,
    "start_time": "2021-09-04T22:16:35.339Z"
   },
   {
    "duration": 15,
    "start_time": "2021-09-04T22:17:53.390Z"
   },
   {
    "duration": 260,
    "start_time": "2021-09-04T22:23:09.513Z"
   },
   {
    "duration": 247,
    "start_time": "2021-09-04T22:23:27.682Z"
   },
   {
    "duration": 879,
    "start_time": "2021-09-04T22:23:34.896Z"
   },
   {
    "duration": 819,
    "start_time": "2021-09-04T22:24:14.837Z"
   },
   {
    "duration": 1106,
    "start_time": "2021-09-04T22:25:08.260Z"
   },
   {
    "duration": 988,
    "start_time": "2021-09-04T22:25:42.496Z"
   },
   {
    "duration": 986,
    "start_time": "2021-09-04T22:25:51.952Z"
   },
   {
    "duration": 1006,
    "start_time": "2021-09-04T22:26:10.220Z"
   },
   {
    "duration": 1065,
    "start_time": "2021-09-04T22:26:53.740Z"
   },
   {
    "duration": 1040,
    "start_time": "2021-09-04T22:27:17.581Z"
   },
   {
    "duration": 1426,
    "start_time": "2021-09-04T22:27:29.539Z"
   },
   {
    "duration": 1007,
    "start_time": "2021-09-04T22:27:36.573Z"
   },
   {
    "duration": 995,
    "start_time": "2021-09-04T22:28:03.591Z"
   },
   {
    "duration": 995,
    "start_time": "2021-09-04T22:28:27.977Z"
   },
   {
    "duration": 1017,
    "start_time": "2021-09-04T22:28:41.367Z"
   },
   {
    "duration": 1235,
    "start_time": "2021-09-04T22:30:33.687Z"
   },
   {
    "duration": 89,
    "start_time": "2021-09-04T22:30:48.675Z"
   },
   {
    "duration": 971,
    "start_time": "2021-09-04T22:30:56.262Z"
   },
   {
    "duration": 1501,
    "start_time": "2021-09-04T22:31:30.553Z"
   },
   {
    "duration": 1244,
    "start_time": "2021-09-04T22:31:50.088Z"
   },
   {
    "duration": 1553,
    "start_time": "2021-09-04T22:31:58.814Z"
   },
   {
    "duration": 546,
    "start_time": "2021-09-04T22:34:09.367Z"
   },
   {
    "duration": 566,
    "start_time": "2021-09-04T22:34:19.147Z"
   },
   {
    "duration": 1446,
    "start_time": "2021-09-04T22:34:24.752Z"
   },
   {
    "duration": 1604,
    "start_time": "2021-09-04T22:34:37.369Z"
   },
   {
    "duration": 1397,
    "start_time": "2021-09-04T22:35:02.322Z"
   },
   {
    "duration": 1289,
    "start_time": "2021-09-04T22:35:20.620Z"
   },
   {
    "duration": 1296,
    "start_time": "2021-09-04T22:36:59.321Z"
   },
   {
    "duration": 1581,
    "start_time": "2021-09-04T22:37:35.284Z"
   },
   {
    "duration": 16,
    "start_time": "2021-09-04T22:43:50.388Z"
   },
   {
    "duration": 1375,
    "start_time": "2021-09-04T22:46:03.623Z"
   },
   {
    "duration": 15,
    "start_time": "2021-09-04T22:50:23.395Z"
   },
   {
    "duration": 1303,
    "start_time": "2021-09-04T22:51:29.703Z"
   },
   {
    "duration": 1134,
    "start_time": "2021-09-04T22:51:50.104Z"
   },
   {
    "duration": 1167,
    "start_time": "2021-09-04T22:55:48.315Z"
   },
   {
    "duration": 13,
    "start_time": "2021-09-04T23:00:35.873Z"
   },
   {
    "duration": 18,
    "start_time": "2021-09-04T23:04:24.134Z"
   },
   {
    "duration": 1289,
    "start_time": "2021-09-04T23:05:19.972Z"
   },
   {
    "duration": 1661,
    "start_time": "2021-09-04T23:05:31.928Z"
   },
   {
    "duration": 1128,
    "start_time": "2021-09-04T23:06:56.474Z"
   },
   {
    "duration": 1134,
    "start_time": "2021-09-06T18:19:49.365Z"
   },
   {
    "duration": 27,
    "start_time": "2021-09-06T18:19:50.501Z"
   },
   {
    "duration": 150,
    "start_time": "2021-09-06T18:19:50.530Z"
   },
   {
    "duration": 88,
    "start_time": "2021-09-06T18:19:50.685Z"
   },
   {
    "duration": 138,
    "start_time": "2021-09-06T18:19:50.774Z"
   },
   {
    "duration": 16,
    "start_time": "2021-09-06T18:19:50.913Z"
   },
   {
    "duration": 11,
    "start_time": "2021-09-06T18:19:50.931Z"
   },
   {
    "duration": 28,
    "start_time": "2021-09-06T18:19:50.943Z"
   },
   {
    "duration": 43,
    "start_time": "2021-09-06T18:19:50.974Z"
   },
   {
    "duration": 30,
    "start_time": "2021-09-06T18:19:51.019Z"
   },
   {
    "duration": 57,
    "start_time": "2021-09-06T18:19:51.051Z"
   },
   {
    "duration": 10,
    "start_time": "2021-09-06T18:19:51.109Z"
   },
   {
    "duration": 9,
    "start_time": "2021-09-06T18:19:51.121Z"
   },
   {
    "duration": 7,
    "start_time": "2021-09-06T18:19:51.131Z"
   },
   {
    "duration": 49,
    "start_time": "2021-09-06T18:19:51.140Z"
   },
   {
    "duration": 21,
    "start_time": "2021-09-06T18:19:51.191Z"
   },
   {
    "duration": 23,
    "start_time": "2021-09-06T18:19:51.213Z"
   },
   {
    "duration": 9,
    "start_time": "2021-09-06T18:19:51.238Z"
   },
   {
    "duration": 189,
    "start_time": "2021-09-06T18:19:51.248Z"
   },
   {
    "duration": 4,
    "start_time": "2021-09-06T18:19:51.439Z"
   },
   {
    "duration": 25,
    "start_time": "2021-09-06T18:19:51.444Z"
   },
   {
    "duration": 65,
    "start_time": "2021-09-06T18:19:51.470Z"
   },
   {
    "duration": 14,
    "start_time": "2021-09-06T18:19:51.536Z"
   },
   {
    "duration": 35,
    "start_time": "2021-09-06T18:19:51.551Z"
   },
   {
    "duration": 25,
    "start_time": "2021-09-06T18:19:51.588Z"
   },
   {
    "duration": 11,
    "start_time": "2021-09-06T18:19:51.614Z"
   },
   {
    "duration": 18,
    "start_time": "2021-09-06T18:19:51.628Z"
   },
   {
    "duration": 51,
    "start_time": "2021-09-06T18:19:51.647Z"
   },
   {
    "duration": 16,
    "start_time": "2021-09-06T18:19:51.699Z"
   },
   {
    "duration": 26,
    "start_time": "2021-09-06T18:19:51.717Z"
   },
   {
    "duration": 44,
    "start_time": "2021-09-06T18:19:51.745Z"
   },
   {
    "duration": 18,
    "start_time": "2021-09-06T18:19:51.791Z"
   },
   {
    "duration": 13,
    "start_time": "2021-09-06T18:19:51.811Z"
   },
   {
    "duration": 10,
    "start_time": "2021-09-06T18:19:51.825Z"
   },
   {
    "duration": 7,
    "start_time": "2021-09-06T18:19:51.836Z"
   },
   {
    "duration": 175,
    "start_time": "2021-09-06T18:19:51.844Z"
   },
   {
    "duration": 30,
    "start_time": "2021-09-06T18:19:52.020Z"
   },
   {
    "duration": 34,
    "start_time": "2021-09-06T18:19:52.052Z"
   },
   {
    "duration": 904,
    "start_time": "2021-09-06T18:19:52.088Z"
   },
   {
    "duration": 436,
    "start_time": "2021-09-06T18:19:52.993Z"
   },
   {
    "duration": 9,
    "start_time": "2021-09-06T18:19:53.431Z"
   },
   {
    "duration": 862,
    "start_time": "2021-09-06T18:19:53.441Z"
   },
   {
    "duration": 10,
    "start_time": "2021-09-06T18:19:54.305Z"
   },
   {
    "duration": 915,
    "start_time": "2021-09-06T18:19:54.317Z"
   },
   {
    "duration": 372,
    "start_time": "2021-09-06T18:21:31.469Z"
   },
   {
    "duration": 346,
    "start_time": "2021-09-06T18:37:58.833Z"
   },
   {
    "duration": 354,
    "start_time": "2021-09-06T18:53:00.483Z"
   },
   {
    "duration": 354,
    "start_time": "2021-09-06T18:53:31.778Z"
   },
   {
    "duration": 1094,
    "start_time": "2021-09-06T19:00:31.282Z"
   },
   {
    "duration": 28,
    "start_time": "2021-09-06T19:00:32.378Z"
   },
   {
    "duration": 146,
    "start_time": "2021-09-06T19:00:32.410Z"
   },
   {
    "duration": 84,
    "start_time": "2021-09-06T19:00:32.557Z"
   },
   {
    "duration": 132,
    "start_time": "2021-09-06T19:00:32.643Z"
   },
   {
    "duration": 17,
    "start_time": "2021-09-06T19:00:32.776Z"
   },
   {
    "duration": 9,
    "start_time": "2021-09-06T19:00:32.796Z"
   },
   {
    "duration": 24,
    "start_time": "2021-09-06T19:00:32.806Z"
   },
   {
    "duration": 43,
    "start_time": "2021-09-06T19:00:32.831Z"
   },
   {
    "duration": 35,
    "start_time": "2021-09-06T19:00:32.876Z"
   },
   {
    "duration": 35,
    "start_time": "2021-09-06T19:00:32.912Z"
   },
   {
    "duration": 9,
    "start_time": "2021-09-06T19:00:32.949Z"
   },
   {
    "duration": 29,
    "start_time": "2021-09-06T19:00:32.960Z"
   },
   {
    "duration": 7,
    "start_time": "2021-09-06T19:00:32.990Z"
   },
   {
    "duration": 34,
    "start_time": "2021-09-06T19:00:32.998Z"
   },
   {
    "duration": 19,
    "start_time": "2021-09-06T19:00:33.033Z"
   },
   {
    "duration": 37,
    "start_time": "2021-09-06T19:00:33.054Z"
   },
   {
    "duration": 9,
    "start_time": "2021-09-06T19:00:33.093Z"
   },
   {
    "duration": 175,
    "start_time": "2021-09-06T19:00:33.103Z"
   },
   {
    "duration": 5,
    "start_time": "2021-09-06T19:00:33.287Z"
   },
   {
    "duration": 25,
    "start_time": "2021-09-06T19:00:33.293Z"
   },
   {
    "duration": 65,
    "start_time": "2021-09-06T19:00:33.322Z"
   },
   {
    "duration": 14,
    "start_time": "2021-09-06T19:00:33.389Z"
   },
   {
    "duration": 20,
    "start_time": "2021-09-06T19:00:33.404Z"
   },
   {
    "duration": 25,
    "start_time": "2021-09-06T19:00:33.425Z"
   },
   {
    "duration": 11,
    "start_time": "2021-09-06T19:00:33.452Z"
   },
   {
    "duration": 16,
    "start_time": "2021-09-06T19:00:33.484Z"
   },
   {
    "duration": 31,
    "start_time": "2021-09-06T19:00:33.502Z"
   },
   {
    "duration": 14,
    "start_time": "2021-09-06T19:00:33.534Z"
   },
   {
    "duration": 50,
    "start_time": "2021-09-06T19:00:33.549Z"
   },
   {
    "duration": 23,
    "start_time": "2021-09-06T19:00:33.601Z"
   },
   {
    "duration": 19,
    "start_time": "2021-09-06T19:00:33.626Z"
   },
   {
    "duration": 12,
    "start_time": "2021-09-06T19:00:33.646Z"
   },
   {
    "duration": 29,
    "start_time": "2021-09-06T19:00:33.660Z"
   },
   {
    "duration": 7,
    "start_time": "2021-09-06T19:00:33.691Z"
   },
   {
    "duration": 159,
    "start_time": "2021-09-06T19:00:33.699Z"
   },
   {
    "duration": 33,
    "start_time": "2021-09-06T19:00:33.860Z"
   },
   {
    "duration": 8,
    "start_time": "2021-09-06T19:00:33.895Z"
   },
   {
    "duration": 896,
    "start_time": "2021-09-06T19:00:33.905Z"
   },
   {
    "duration": 376,
    "start_time": "2021-09-06T19:00:34.803Z"
   },
   {
    "duration": 10,
    "start_time": "2021-09-06T19:00:35.184Z"
   },
   {
    "duration": 871,
    "start_time": "2021-09-06T19:00:35.195Z"
   },
   {
    "duration": 435,
    "start_time": "2021-09-06T19:00:36.068Z"
   },
   {
    "duration": 10,
    "start_time": "2021-09-06T19:00:36.505Z"
   },
   {
    "duration": 789,
    "start_time": "2021-09-06T19:00:36.516Z"
   },
   {
    "duration": 380,
    "start_time": "2021-09-06T19:00:37.307Z"
   },
   {
    "duration": 975,
    "start_time": "2021-09-06T19:32:05.247Z"
   },
   {
    "duration": 26,
    "start_time": "2021-09-06T19:32:06.224Z"
   },
   {
    "duration": 150,
    "start_time": "2021-09-06T19:32:06.252Z"
   },
   {
    "duration": 86,
    "start_time": "2021-09-06T19:32:06.404Z"
   },
   {
    "duration": 130,
    "start_time": "2021-09-06T19:32:06.492Z"
   },
   {
    "duration": 16,
    "start_time": "2021-09-06T19:32:06.624Z"
   },
   {
    "duration": 5,
    "start_time": "2021-09-06T19:32:06.642Z"
   },
   {
    "duration": 21,
    "start_time": "2021-09-06T19:32:06.650Z"
   },
   {
    "duration": 46,
    "start_time": "2021-09-06T19:32:06.674Z"
   },
   {
    "duration": 31,
    "start_time": "2021-09-06T19:32:06.722Z"
   },
   {
    "duration": 64,
    "start_time": "2021-09-06T19:32:06.755Z"
   },
   {
    "duration": 9,
    "start_time": "2021-09-06T19:32:06.821Z"
   },
   {
    "duration": 9,
    "start_time": "2021-09-06T19:32:06.831Z"
   },
   {
    "duration": 5,
    "start_time": "2021-09-06T19:32:06.842Z"
   },
   {
    "duration": 53,
    "start_time": "2021-09-06T19:32:06.848Z"
   },
   {
    "duration": 18,
    "start_time": "2021-09-06T19:32:06.903Z"
   },
   {
    "duration": 21,
    "start_time": "2021-09-06T19:32:06.923Z"
   },
   {
    "duration": 10,
    "start_time": "2021-09-06T19:32:06.945Z"
   },
   {
    "duration": 196,
    "start_time": "2021-09-06T19:32:06.957Z"
   },
   {
    "duration": 4,
    "start_time": "2021-09-06T19:32:07.155Z"
   },
   {
    "duration": 34,
    "start_time": "2021-09-06T19:32:07.160Z"
   },
   {
    "duration": 47,
    "start_time": "2021-09-06T19:32:07.196Z"
   },
   {
    "duration": 13,
    "start_time": "2021-09-06T19:32:07.246Z"
   },
   {
    "duration": 31,
    "start_time": "2021-09-06T19:32:07.261Z"
   },
   {
    "duration": 25,
    "start_time": "2021-09-06T19:32:07.293Z"
   },
   {
    "duration": 11,
    "start_time": "2021-09-06T19:32:07.320Z"
   },
   {
    "duration": 19,
    "start_time": "2021-09-06T19:32:07.333Z"
   },
   {
    "duration": 53,
    "start_time": "2021-09-06T19:32:07.353Z"
   },
   {
    "duration": 15,
    "start_time": "2021-09-06T19:32:07.408Z"
   },
   {
    "duration": 26,
    "start_time": "2021-09-06T19:32:07.424Z"
   },
   {
    "duration": 53,
    "start_time": "2021-09-06T19:32:07.451Z"
   },
   {
    "duration": 21,
    "start_time": "2021-09-06T19:32:07.506Z"
   },
   {
    "duration": 14,
    "start_time": "2021-09-06T19:32:07.528Z"
   },
   {
    "duration": 10,
    "start_time": "2021-09-06T19:32:07.544Z"
   },
   {
    "duration": 33,
    "start_time": "2021-09-06T19:32:07.556Z"
   },
   {
    "duration": 154,
    "start_time": "2021-09-06T19:32:07.591Z"
   },
   {
    "duration": 43,
    "start_time": "2021-09-06T19:32:07.747Z"
   },
   {
    "duration": 10,
    "start_time": "2021-09-06T19:32:07.792Z"
   },
   {
    "duration": 884,
    "start_time": "2021-09-06T19:32:07.804Z"
   },
   {
    "duration": 369,
    "start_time": "2021-09-06T19:32:08.689Z"
   },
   {
    "duration": 8,
    "start_time": "2021-09-06T19:32:09.060Z"
   },
   {
    "duration": 857,
    "start_time": "2021-09-06T19:32:09.070Z"
   },
   {
    "duration": 429,
    "start_time": "2021-09-06T19:32:09.928Z"
   },
   {
    "duration": 10,
    "start_time": "2021-09-06T19:32:10.359Z"
   },
   {
    "duration": 757,
    "start_time": "2021-09-06T19:32:10.371Z"
   },
   {
    "duration": 359,
    "start_time": "2021-09-06T19:32:11.130Z"
   },
   {
    "duration": 862,
    "start_time": "2021-09-06T19:42:16.082Z"
   },
   {
    "duration": 9,
    "start_time": "2021-09-06T19:47:07.060Z"
   },
   {
    "duration": 289,
    "start_time": "2021-09-06T20:13:27.834Z"
   },
   {
    "duration": 1050,
    "start_time": "2021-09-06T20:14:11.573Z"
   },
   {
    "duration": 45,
    "start_time": "2021-09-06T20:14:12.624Z"
   },
   {
    "duration": 144,
    "start_time": "2021-09-06T20:14:12.671Z"
   },
   {
    "duration": 90,
    "start_time": "2021-09-06T20:14:12.817Z"
   },
   {
    "duration": 130,
    "start_time": "2021-09-06T20:14:12.909Z"
   },
   {
    "duration": 20,
    "start_time": "2021-09-06T20:14:13.040Z"
   },
   {
    "duration": 7,
    "start_time": "2021-09-06T20:14:13.062Z"
   },
   {
    "duration": 22,
    "start_time": "2021-09-06T20:14:13.070Z"
   },
   {
    "duration": 43,
    "start_time": "2021-09-06T20:14:13.094Z"
   },
   {
    "duration": 49,
    "start_time": "2021-09-06T20:14:13.139Z"
   },
   {
    "duration": 35,
    "start_time": "2021-09-06T20:14:13.190Z"
   },
   {
    "duration": 10,
    "start_time": "2021-09-06T20:14:13.226Z"
   },
   {
    "duration": 6,
    "start_time": "2021-09-06T20:14:13.238Z"
   },
   {
    "duration": 8,
    "start_time": "2021-09-06T20:14:13.245Z"
   },
   {
    "duration": 58,
    "start_time": "2021-09-06T20:14:13.254Z"
   },
   {
    "duration": 19,
    "start_time": "2021-09-06T20:14:13.313Z"
   },
   {
    "duration": 22,
    "start_time": "2021-09-06T20:14:13.334Z"
   },
   {
    "duration": 9,
    "start_time": "2021-09-06T20:14:13.357Z"
   },
   {
    "duration": 160,
    "start_time": "2021-09-06T20:14:13.385Z"
   },
   {
    "duration": 4,
    "start_time": "2021-09-06T20:14:13.546Z"
   },
   {
    "duration": 23,
    "start_time": "2021-09-06T20:14:13.551Z"
   },
   {
    "duration": 48,
    "start_time": "2021-09-06T20:14:13.585Z"
   },
   {
    "duration": 13,
    "start_time": "2021-09-06T20:14:13.634Z"
   },
   {
    "duration": 19,
    "start_time": "2021-09-06T20:14:13.648Z"
   },
   {
    "duration": 35,
    "start_time": "2021-09-06T20:14:13.668Z"
   },
   {
    "duration": 10,
    "start_time": "2021-09-06T20:14:13.705Z"
   },
   {
    "duration": 20,
    "start_time": "2021-09-06T20:14:13.718Z"
   },
   {
    "duration": 46,
    "start_time": "2021-09-06T20:14:13.740Z"
   },
   {
    "duration": 14,
    "start_time": "2021-09-06T20:14:13.787Z"
   },
   {
    "duration": 26,
    "start_time": "2021-09-06T20:14:13.802Z"
   },
   {
    "duration": 22,
    "start_time": "2021-09-06T20:14:13.829Z"
   },
   {
    "duration": 44,
    "start_time": "2021-09-06T20:14:13.853Z"
   },
   {
    "duration": 12,
    "start_time": "2021-09-06T20:14:13.898Z"
   },
   {
    "duration": 9,
    "start_time": "2021-09-06T20:14:13.911Z"
   },
   {
    "duration": 7,
    "start_time": "2021-09-06T20:14:13.922Z"
   },
   {
    "duration": 162,
    "start_time": "2021-09-06T20:14:13.931Z"
   },
   {
    "duration": 28,
    "start_time": "2021-09-06T20:14:14.095Z"
   },
   {
    "duration": 8,
    "start_time": "2021-09-06T20:14:14.125Z"
   },
   {
    "duration": 867,
    "start_time": "2021-09-06T20:14:14.135Z"
   },
   {
    "duration": 391,
    "start_time": "2021-09-06T20:14:15.004Z"
   },
   {
    "duration": 9,
    "start_time": "2021-09-06T20:14:15.397Z"
   },
   {
    "duration": 848,
    "start_time": "2021-09-06T20:14:15.408Z"
   },
   {
    "duration": 420,
    "start_time": "2021-09-06T20:14:16.258Z"
   },
   {
    "duration": 13,
    "start_time": "2021-09-06T20:14:16.679Z"
   },
   {
    "duration": 826,
    "start_time": "2021-09-06T20:14:16.694Z"
   },
   {
    "duration": 379,
    "start_time": "2021-09-06T20:14:17.522Z"
   },
   {
    "duration": 11,
    "start_time": "2021-09-06T20:14:17.903Z"
   },
   {
    "duration": 885,
    "start_time": "2021-09-06T20:14:17.916Z"
   },
   {
    "duration": 9,
    "start_time": "2021-09-06T20:14:18.803Z"
   },
   {
    "duration": 6,
    "start_time": "2021-09-06T20:15:12.010Z"
   },
   {
    "duration": 279,
    "start_time": "2021-09-06T20:15:39.145Z"
   },
   {
    "duration": 7,
    "start_time": "2021-09-06T20:15:45.145Z"
   },
   {
    "duration": 6,
    "start_time": "2021-09-06T20:17:35.029Z"
   },
   {
    "duration": 7,
    "start_time": "2021-09-06T20:17:45.760Z"
   },
   {
    "duration": 7,
    "start_time": "2021-09-06T20:18:11.900Z"
   },
   {
    "duration": 8,
    "start_time": "2021-09-06T20:18:21.008Z"
   },
   {
    "duration": 7,
    "start_time": "2021-09-06T20:28:00.671Z"
   },
   {
    "duration": 7,
    "start_time": "2021-09-06T20:28:07.952Z"
   },
   {
    "duration": 8,
    "start_time": "2021-09-06T20:28:14.475Z"
   },
   {
    "duration": 8,
    "start_time": "2021-09-06T20:30:12.466Z"
   },
   {
    "duration": 8,
    "start_time": "2021-09-06T20:30:53.546Z"
   },
   {
    "duration": 8,
    "start_time": "2021-09-06T20:40:07.562Z"
   },
   {
    "duration": 7,
    "start_time": "2021-09-06T20:42:27.560Z"
   },
   {
    "duration": 62,
    "start_time": "2021-09-06T20:44:22.351Z"
   },
   {
    "duration": 59,
    "start_time": "2021-09-06T20:45:01.641Z"
   },
   {
    "duration": 9,
    "start_time": "2021-09-06T20:45:16.076Z"
   },
   {
    "duration": 4,
    "start_time": "2021-09-06T20:51:40.074Z"
   },
   {
    "duration": 8,
    "start_time": "2021-09-06T20:53:53.354Z"
   },
   {
    "duration": 56,
    "start_time": "2021-09-06T20:54:12.385Z"
   },
   {
    "duration": 66,
    "start_time": "2021-09-06T20:54:30.224Z"
   },
   {
    "duration": 55,
    "start_time": "2021-09-06T20:54:42.224Z"
   },
   {
    "duration": 6,
    "start_time": "2021-09-06T20:54:45.284Z"
   },
   {
    "duration": 8,
    "start_time": "2021-09-06T20:55:14.164Z"
   },
   {
    "duration": 67,
    "start_time": "2021-09-06T20:57:12.567Z"
   },
   {
    "duration": 204,
    "start_time": "2021-09-06T20:57:15.345Z"
   },
   {
    "duration": 63,
    "start_time": "2021-09-06T20:57:18.106Z"
   },
   {
    "duration": 8,
    "start_time": "2021-09-06T20:57:30.351Z"
   },
   {
    "duration": 7,
    "start_time": "2021-09-06T20:58:12.503Z"
   },
   {
    "duration": 10,
    "start_time": "2021-09-06T20:59:09.244Z"
   },
   {
    "duration": 8,
    "start_time": "2021-09-06T21:01:52.656Z"
   },
   {
    "duration": 33,
    "start_time": "2021-09-06T21:08:29.330Z"
   },
   {
    "duration": 24,
    "start_time": "2021-09-06T21:09:19.307Z"
   },
   {
    "duration": 1087,
    "start_time": "2021-09-06T21:25:38.127Z"
   },
   {
    "duration": 73,
    "start_time": "2021-09-06T21:25:39.215Z"
   },
   {
    "duration": 148,
    "start_time": "2021-09-06T21:25:39.290Z"
   },
   {
    "duration": 89,
    "start_time": "2021-09-06T21:25:39.440Z"
   },
   {
    "duration": 130,
    "start_time": "2021-09-06T21:25:39.531Z"
   },
   {
    "duration": 16,
    "start_time": "2021-09-06T21:25:39.662Z"
   },
   {
    "duration": 9,
    "start_time": "2021-09-06T21:25:39.679Z"
   },
   {
    "duration": 22,
    "start_time": "2021-09-06T21:25:39.690Z"
   },
   {
    "duration": 45,
    "start_time": "2021-09-06T21:25:39.716Z"
   },
   {
    "duration": 50,
    "start_time": "2021-09-06T21:25:39.764Z"
   },
   {
    "duration": 38,
    "start_time": "2021-09-06T21:25:39.816Z"
   },
   {
    "duration": 40,
    "start_time": "2021-09-06T21:25:39.856Z"
   },
   {
    "duration": 5,
    "start_time": "2021-09-06T21:25:39.898Z"
   },
   {
    "duration": 8,
    "start_time": "2021-09-06T21:25:39.905Z"
   },
   {
    "duration": 35,
    "start_time": "2021-09-06T21:25:39.914Z"
   },
   {
    "duration": 37,
    "start_time": "2021-09-06T21:25:39.951Z"
   },
   {
    "duration": 23,
    "start_time": "2021-09-06T21:25:39.990Z"
   },
   {
    "duration": 10,
    "start_time": "2021-09-06T21:25:40.015Z"
   },
   {
    "duration": 182,
    "start_time": "2021-09-06T21:25:40.027Z"
   },
   {
    "duration": 4,
    "start_time": "2021-09-06T21:25:40.210Z"
   },
   {
    "duration": 25,
    "start_time": "2021-09-06T21:25:40.216Z"
   },
   {
    "duration": 65,
    "start_time": "2021-09-06T21:25:40.242Z"
   },
   {
    "duration": 12,
    "start_time": "2021-09-06T21:25:40.309Z"
   },
   {
    "duration": 16,
    "start_time": "2021-09-06T21:25:40.323Z"
   },
   {
    "duration": 23,
    "start_time": "2021-09-06T21:25:40.341Z"
   },
   {
    "duration": 27,
    "start_time": "2021-09-06T21:25:40.365Z"
   },
   {
    "duration": 17,
    "start_time": "2021-09-06T21:25:40.395Z"
   },
   {
    "duration": 29,
    "start_time": "2021-09-06T21:25:40.414Z"
   },
   {
    "duration": 13,
    "start_time": "2021-09-06T21:25:40.445Z"
   },
   {
    "duration": 49,
    "start_time": "2021-09-06T21:25:40.460Z"
   },
   {
    "duration": 24,
    "start_time": "2021-09-06T21:25:40.511Z"
   },
   {
    "duration": 20,
    "start_time": "2021-09-06T21:25:40.536Z"
   },
   {
    "duration": 39,
    "start_time": "2021-09-06T21:25:40.557Z"
   },
   {
    "duration": 10,
    "start_time": "2021-09-06T21:25:40.597Z"
   },
   {
    "duration": 7,
    "start_time": "2021-09-06T21:25:40.608Z"
   },
   {
    "duration": 166,
    "start_time": "2021-09-06T21:25:40.616Z"
   },
   {
    "duration": 23,
    "start_time": "2021-09-06T21:25:40.784Z"
   },
   {
    "duration": 9,
    "start_time": "2021-09-06T21:25:40.808Z"
   },
   {
    "duration": 873,
    "start_time": "2021-09-06T21:25:40.819Z"
   },
   {
    "duration": 395,
    "start_time": "2021-09-06T21:25:41.694Z"
   },
   {
    "duration": 11,
    "start_time": "2021-09-06T21:25:42.091Z"
   },
   {
    "duration": 853,
    "start_time": "2021-09-06T21:25:42.103Z"
   },
   {
    "duration": 430,
    "start_time": "2021-09-06T21:25:42.958Z"
   },
   {
    "duration": 10,
    "start_time": "2021-09-06T21:25:43.389Z"
   },
   {
    "duration": 798,
    "start_time": "2021-09-06T21:25:43.401Z"
   },
   {
    "duration": 378,
    "start_time": "2021-09-06T21:25:44.201Z"
   },
   {
    "duration": 10,
    "start_time": "2021-09-06T21:25:44.581Z"
   },
   {
    "duration": 877,
    "start_time": "2021-09-06T21:25:44.593Z"
   },
   {
    "duration": 13,
    "start_time": "2021-09-06T21:25:45.471Z"
   },
   {
    "duration": 7,
    "start_time": "2021-09-06T21:25:45.486Z"
   },
   {
    "duration": 6,
    "start_time": "2021-09-06T21:25:45.495Z"
   },
   {
    "duration": 7,
    "start_time": "2021-09-06T21:25:45.503Z"
   },
   {
    "duration": 6,
    "start_time": "2021-09-06T21:25:45.512Z"
   },
   {
    "duration": 1083,
    "start_time": "2021-09-06T22:45:32.512Z"
   },
   {
    "duration": 32,
    "start_time": "2021-09-06T22:45:33.596Z"
   },
   {
    "duration": 153,
    "start_time": "2021-09-06T22:45:33.630Z"
   },
   {
    "duration": 90,
    "start_time": "2021-09-06T22:45:33.785Z"
   },
   {
    "duration": 131,
    "start_time": "2021-09-06T22:45:33.876Z"
   },
   {
    "duration": 17,
    "start_time": "2021-09-06T22:45:34.009Z"
   },
   {
    "duration": 13,
    "start_time": "2021-09-06T22:45:34.027Z"
   },
   {
    "duration": 21,
    "start_time": "2021-09-06T22:45:34.042Z"
   },
   {
    "duration": 43,
    "start_time": "2021-09-06T22:45:34.064Z"
   },
   {
    "duration": 50,
    "start_time": "2021-09-06T22:45:34.109Z"
   },
   {
    "duration": 36,
    "start_time": "2021-09-06T22:45:34.161Z"
   },
   {
    "duration": 10,
    "start_time": "2021-09-06T22:45:34.199Z"
   },
   {
    "duration": 30,
    "start_time": "2021-09-06T22:45:34.211Z"
   },
   {
    "duration": 6,
    "start_time": "2021-09-06T22:45:34.243Z"
   },
   {
    "duration": 37,
    "start_time": "2021-09-06T22:45:34.251Z"
   },
   {
    "duration": 18,
    "start_time": "2021-09-06T22:45:34.289Z"
   },
   {
    "duration": 19,
    "start_time": "2021-09-06T22:45:34.309Z"
   },
   {
    "duration": 18,
    "start_time": "2021-09-06T22:45:34.330Z"
   },
   {
    "duration": 171,
    "start_time": "2021-09-06T22:45:34.349Z"
   },
   {
    "duration": 3,
    "start_time": "2021-09-06T22:45:34.522Z"
   },
   {
    "duration": 36,
    "start_time": "2021-09-06T22:45:34.527Z"
   },
   {
    "duration": 45,
    "start_time": "2021-09-06T22:45:34.564Z"
   },
   {
    "duration": 12,
    "start_time": "2021-09-06T22:45:34.612Z"
   },
   {
    "duration": 27,
    "start_time": "2021-09-06T22:45:34.626Z"
   },
   {
    "duration": 23,
    "start_time": "2021-09-06T22:45:34.655Z"
   },
   {
    "duration": 12,
    "start_time": "2021-09-06T22:45:34.680Z"
   },
   {
    "duration": 17,
    "start_time": "2021-09-06T22:45:34.694Z"
   },
   {
    "duration": 50,
    "start_time": "2021-09-06T22:45:34.713Z"
   },
   {
    "duration": 17,
    "start_time": "2021-09-06T22:45:34.765Z"
   },
   {
    "duration": 26,
    "start_time": "2021-09-06T22:45:34.784Z"
   },
   {
    "duration": 45,
    "start_time": "2021-09-06T22:45:34.812Z"
   },
   {
    "duration": 19,
    "start_time": "2021-09-06T22:45:34.859Z"
   },
   {
    "duration": 15,
    "start_time": "2021-09-06T22:45:34.880Z"
   },
   {
    "duration": 10,
    "start_time": "2021-09-06T22:45:34.897Z"
   },
   {
    "duration": 6,
    "start_time": "2021-09-06T22:45:34.942Z"
   },
   {
    "duration": 154,
    "start_time": "2021-09-06T22:45:34.949Z"
   },
   {
    "duration": 20,
    "start_time": "2021-09-06T22:45:35.105Z"
   },
   {
    "duration": 21,
    "start_time": "2021-09-06T22:45:35.127Z"
   },
   {
    "duration": 815,
    "start_time": "2021-09-06T22:45:35.149Z"
   },
   {
    "duration": 356,
    "start_time": "2021-09-06T22:45:35.965Z"
   },
   {
    "duration": 17,
    "start_time": "2021-09-06T22:45:36.323Z"
   },
   {
    "duration": 840,
    "start_time": "2021-09-06T22:45:36.342Z"
   },
   {
    "duration": 339,
    "start_time": "2021-09-06T22:45:37.183Z"
   },
   {
    "duration": 18,
    "start_time": "2021-09-06T22:45:37.523Z"
   },
   {
    "duration": 901,
    "start_time": "2021-09-06T22:45:37.543Z"
   },
   {
    "duration": 352,
    "start_time": "2021-09-06T22:45:38.445Z"
   },
   {
    "duration": 10,
    "start_time": "2021-09-06T22:45:38.799Z"
   },
   {
    "duration": 802,
    "start_time": "2021-09-06T22:45:38.810Z"
   },
   {
    "duration": 8,
    "start_time": "2021-09-06T22:45:39.614Z"
   },
   {
    "duration": 22,
    "start_time": "2021-09-06T22:45:39.624Z"
   },
   {
    "duration": 8,
    "start_time": "2021-09-06T22:45:39.648Z"
   },
   {
    "duration": 8,
    "start_time": "2021-09-06T22:45:39.658Z"
   },
   {
    "duration": 7,
    "start_time": "2021-09-06T22:45:39.668Z"
   },
   {
    "duration": 16,
    "start_time": "2021-09-06T22:46:00.815Z"
   },
   {
    "duration": 12,
    "start_time": "2021-09-06T22:52:51.779Z"
   },
   {
    "duration": 934,
    "start_time": "2021-09-06T22:56:16.924Z"
   },
   {
    "duration": 1511,
    "start_time": "2021-09-07T18:12:46.608Z"
   },
   {
    "duration": 40,
    "start_time": "2021-09-07T18:12:48.121Z"
   },
   {
    "duration": 199,
    "start_time": "2021-09-07T18:12:48.164Z"
   },
   {
    "duration": 116,
    "start_time": "2021-09-07T18:12:48.366Z"
   },
   {
    "duration": 174,
    "start_time": "2021-09-07T18:12:48.485Z"
   },
   {
    "duration": 19,
    "start_time": "2021-09-07T18:12:48.661Z"
   },
   {
    "duration": 10,
    "start_time": "2021-09-07T18:12:48.682Z"
   },
   {
    "duration": 40,
    "start_time": "2021-09-07T18:12:48.695Z"
   },
   {
    "duration": 79,
    "start_time": "2021-09-07T18:12:48.738Z"
   },
   {
    "duration": 44,
    "start_time": "2021-09-07T18:12:48.820Z"
   },
   {
    "duration": 79,
    "start_time": "2021-09-07T18:12:48.866Z"
   },
   {
    "duration": 16,
    "start_time": "2021-09-07T18:12:48.947Z"
   },
   {
    "duration": 12,
    "start_time": "2021-09-07T18:12:48.965Z"
   },
   {
    "duration": 39,
    "start_time": "2021-09-07T18:12:48.980Z"
   },
   {
    "duration": 51,
    "start_time": "2021-09-07T18:12:49.021Z"
   },
   {
    "duration": 28,
    "start_time": "2021-09-07T18:12:51.776Z"
   },
   {
    "duration": 32,
    "start_time": "2021-09-07T18:12:51.806Z"
   },
   {
    "duration": 12,
    "start_time": "2021-09-07T18:12:51.842Z"
   },
   {
    "duration": 240,
    "start_time": "2021-09-07T18:12:51.857Z"
   },
   {
    "duration": 18,
    "start_time": "2021-09-07T18:12:52.100Z"
   },
   {
    "duration": 35,
    "start_time": "2021-09-07T18:12:52.121Z"
   },
   {
    "duration": 84,
    "start_time": "2021-09-07T18:12:52.158Z"
   },
   {
    "duration": 21,
    "start_time": "2021-09-07T18:12:52.244Z"
   },
   {
    "duration": 21,
    "start_time": "2021-09-07T18:12:52.554Z"
   },
   {
    "duration": 33,
    "start_time": "2021-09-07T18:12:52.578Z"
   },
   {
    "duration": 19,
    "start_time": "2021-09-07T18:12:52.614Z"
   },
   {
    "duration": 44,
    "start_time": "2021-09-07T18:12:52.636Z"
   },
   {
    "duration": 46,
    "start_time": "2021-09-07T18:12:52.682Z"
   },
   {
    "duration": 37,
    "start_time": "2021-09-07T18:12:52.731Z"
   },
   {
    "duration": 41,
    "start_time": "2021-09-07T18:12:53.164Z"
   },
   {
    "duration": 41,
    "start_time": "2021-09-07T18:12:53.208Z"
   },
   {
    "duration": 30,
    "start_time": "2021-09-07T18:12:53.252Z"
   },
   {
    "duration": 40,
    "start_time": "2021-09-07T18:12:53.285Z"
   },
   {
    "duration": 16,
    "start_time": "2021-09-07T18:12:57.722Z"
   },
   {
    "duration": 28,
    "start_time": "2021-09-07T18:12:57.740Z"
   },
   {
    "duration": 279,
    "start_time": "2021-09-07T18:12:57.771Z"
   },
   {
    "duration": 36,
    "start_time": "2021-09-07T18:12:58.053Z"
   },
   {
    "duration": 15,
    "start_time": "2021-09-07T18:13:02.040Z"
   },
   {
    "duration": 1497,
    "start_time": "2021-09-07T18:13:02.057Z"
   },
   {
    "duration": 632,
    "start_time": "2021-09-07T18:13:03.557Z"
   },
   {
    "duration": 26,
    "start_time": "2021-09-07T18:13:04.192Z"
   },
   {
    "duration": 711,
    "start_time": "2021-09-07T18:13:04.220Z"
   },
   {
    "duration": 1518,
    "start_time": "2021-09-07T18:13:04.934Z"
   },
   {
    "duration": 610,
    "start_time": "2021-09-07T18:13:06.455Z"
   },
   {
    "duration": 15,
    "start_time": "2021-09-07T18:13:07.068Z"
   },
   {
    "duration": 1234,
    "start_time": "2021-09-07T18:13:07.087Z"
   },
   {
    "duration": 731,
    "start_time": "2021-09-07T18:13:08.324Z"
   },
   {
    "duration": 15,
    "start_time": "2021-09-07T18:13:09.057Z"
   },
   {
    "duration": 1473,
    "start_time": "2021-09-07T18:13:09.075Z"
   },
   {
    "duration": 11,
    "start_time": "2021-09-07T18:13:10.551Z"
   },
   {
    "duration": 12,
    "start_time": "2021-09-07T18:13:10.565Z"
   },
   {
    "duration": 40,
    "start_time": "2021-09-07T18:13:10.579Z"
   },
   {
    "duration": 11,
    "start_time": "2021-09-07T18:13:10.622Z"
   },
   {
    "duration": 11,
    "start_time": "2021-09-07T18:13:10.635Z"
   },
   {
    "duration": 5,
    "start_time": "2021-09-07T18:39:36.274Z"
   },
   {
    "duration": 8,
    "start_time": "2021-09-07T18:40:04.845Z"
   },
   {
    "duration": 6,
    "start_time": "2021-09-07T18:40:24.469Z"
   },
   {
    "duration": 6,
    "start_time": "2021-09-07T18:40:28.465Z"
   },
   {
    "duration": 7,
    "start_time": "2021-09-07T18:41:42.757Z"
   },
   {
    "duration": 8,
    "start_time": "2021-09-07T18:42:29.562Z"
   },
   {
    "duration": 1476,
    "start_time": "2021-09-07T18:42:53.223Z"
   },
   {
    "duration": 61,
    "start_time": "2021-09-07T18:42:54.701Z"
   },
   {
    "duration": 216,
    "start_time": "2021-09-07T18:42:54.765Z"
   },
   {
    "duration": 123,
    "start_time": "2021-09-07T18:42:54.985Z"
   },
   {
    "duration": 184,
    "start_time": "2021-09-07T18:42:55.111Z"
   },
   {
    "duration": 19,
    "start_time": "2021-09-07T18:42:55.297Z"
   },
   {
    "duration": 14,
    "start_time": "2021-09-07T18:42:55.318Z"
   },
   {
    "duration": 30,
    "start_time": "2021-09-07T18:42:55.336Z"
   },
   {
    "duration": 79,
    "start_time": "2021-09-07T18:42:55.369Z"
   },
   {
    "duration": 71,
    "start_time": "2021-09-07T18:42:55.452Z"
   },
   {
    "duration": 58,
    "start_time": "2021-09-07T18:42:55.526Z"
   },
   {
    "duration": 40,
    "start_time": "2021-09-07T18:42:55.586Z"
   },
   {
    "duration": 6,
    "start_time": "2021-09-07T18:42:55.629Z"
   },
   {
    "duration": 10,
    "start_time": "2021-09-07T18:42:55.638Z"
   },
   {
    "duration": 73,
    "start_time": "2021-09-07T18:42:55.650Z"
   },
   {
    "duration": 28,
    "start_time": "2021-09-07T18:42:55.726Z"
   },
   {
    "duration": 33,
    "start_time": "2021-09-07T18:42:55.756Z"
   },
   {
    "duration": 33,
    "start_time": "2021-09-07T18:42:55.792Z"
   },
   {
    "duration": 248,
    "start_time": "2021-09-07T18:42:55.828Z"
   },
   {
    "duration": 5,
    "start_time": "2021-09-07T18:42:56.078Z"
   },
   {
    "duration": 53,
    "start_time": "2021-09-07T18:42:56.085Z"
   },
   {
    "duration": 82,
    "start_time": "2021-09-07T18:42:56.141Z"
   },
   {
    "duration": 22,
    "start_time": "2021-09-07T18:42:56.230Z"
   },
   {
    "duration": 22,
    "start_time": "2021-09-07T18:42:56.256Z"
   },
   {
    "duration": 65,
    "start_time": "2021-09-07T18:42:56.281Z"
   },
   {
    "duration": 18,
    "start_time": "2021-09-07T18:42:56.348Z"
   },
   {
    "duration": 48,
    "start_time": "2021-09-07T18:42:56.368Z"
   },
   {
    "duration": 44,
    "start_time": "2021-09-07T18:42:56.419Z"
   },
   {
    "duration": 27,
    "start_time": "2021-09-07T18:42:56.466Z"
   },
   {
    "duration": 59,
    "start_time": "2021-09-07T18:42:56.495Z"
   },
   {
    "duration": 60,
    "start_time": "2021-09-07T18:42:56.557Z"
   },
   {
    "duration": 31,
    "start_time": "2021-09-07T18:42:56.619Z"
   },
   {
    "duration": 22,
    "start_time": "2021-09-07T18:42:56.653Z"
   },
   {
    "duration": 47,
    "start_time": "2021-09-07T18:42:56.678Z"
   },
   {
    "duration": 20,
    "start_time": "2021-09-07T18:42:56.727Z"
   },
   {
    "duration": 272,
    "start_time": "2021-09-07T18:42:56.750Z"
   },
   {
    "duration": 37,
    "start_time": "2021-09-07T18:42:57.025Z"
   },
   {
    "duration": 14,
    "start_time": "2021-09-07T18:42:57.064Z"
   },
   {
    "duration": 40,
    "start_time": "2021-09-07T18:42:57.080Z"
   },
   {
    "duration": 1444,
    "start_time": "2021-09-07T18:42:57.122Z"
   },
   {
    "duration": 666,
    "start_time": "2021-09-07T18:42:58.569Z"
   },
   {
    "duration": 15,
    "start_time": "2021-09-07T18:42:59.238Z"
   },
   {
    "duration": 737,
    "start_time": "2021-09-07T18:42:59.256Z"
   },
   {
    "duration": 1557,
    "start_time": "2021-09-07T18:42:59.996Z"
   },
   {
    "duration": 1089,
    "start_time": "2021-09-07T18:43:01.556Z"
   },
   {
    "duration": 15,
    "start_time": "2021-09-07T18:43:02.648Z"
   },
   {
    "duration": 1282,
    "start_time": "2021-09-07T18:43:02.665Z"
   },
   {
    "duration": 637,
    "start_time": "2021-09-07T18:43:03.950Z"
   },
   {
    "duration": 31,
    "start_time": "2021-09-07T18:43:04.590Z"
   },
   {
    "duration": 1416,
    "start_time": "2021-09-07T18:43:04.624Z"
   },
   {
    "duration": 10,
    "start_time": "2021-09-07T18:43:06.042Z"
   },
   {
    "duration": 19,
    "start_time": "2021-09-07T18:43:06.055Z"
   },
   {
    "duration": 18,
    "start_time": "2021-09-07T18:43:06.077Z"
   },
   {
    "duration": 28,
    "start_time": "2021-09-07T18:43:06.097Z"
   },
   {
    "duration": 20,
    "start_time": "2021-09-07T18:43:06.128Z"
   },
   {
    "duration": 8,
    "start_time": "2021-09-07T18:43:45.039Z"
   },
   {
    "duration": 5,
    "start_time": "2021-09-07T18:44:57.475Z"
   },
   {
    "duration": 6,
    "start_time": "2021-09-07T18:45:02.274Z"
   },
   {
    "duration": 1197,
    "start_time": "2021-09-07T18:45:24.042Z"
   },
   {
    "duration": 6,
    "start_time": "2021-09-07T18:46:10.889Z"
   },
   {
    "duration": 6,
    "start_time": "2021-09-07T18:46:16.509Z"
   },
   {
    "duration": 12,
    "start_time": "2021-09-07T18:46:21.272Z"
   },
   {
    "duration": 12,
    "start_time": "2021-09-07T18:46:25.979Z"
   },
   {
    "duration": 82,
    "start_time": "2021-09-07T18:46:30.192Z"
   },
   {
    "duration": 85,
    "start_time": "2021-09-07T18:46:33.977Z"
   },
   {
    "duration": 8,
    "start_time": "2021-09-07T18:47:00.570Z"
   },
   {
    "duration": 6,
    "start_time": "2021-09-07T18:47:21.986Z"
   },
   {
    "duration": 6,
    "start_time": "2021-09-07T18:47:37.495Z"
   },
   {
    "duration": 1567,
    "start_time": "2021-09-07T18:50:54.917Z"
   },
   {
    "duration": 13,
    "start_time": "2021-09-07T18:58:56.900Z"
   },
   {
    "duration": 1689,
    "start_time": "2021-09-07T19:24:59.331Z"
   },
   {
    "duration": 80,
    "start_time": "2021-09-07T19:25:01.022Z"
   },
   {
    "duration": 208,
    "start_time": "2021-09-07T19:25:01.105Z"
   },
   {
    "duration": 121,
    "start_time": "2021-09-07T19:25:01.316Z"
   },
   {
    "duration": 183,
    "start_time": "2021-09-07T19:25:01.439Z"
   },
   {
    "duration": 19,
    "start_time": "2021-09-07T19:25:01.624Z"
   },
   {
    "duration": 27,
    "start_time": "2021-09-07T19:25:01.645Z"
   },
   {
    "duration": 69,
    "start_time": "2021-09-07T19:25:01.676Z"
   },
   {
    "duration": 86,
    "start_time": "2021-09-07T19:25:01.749Z"
   },
   {
    "duration": 47,
    "start_time": "2021-09-07T19:25:01.839Z"
   },
   {
    "duration": 82,
    "start_time": "2021-09-07T19:25:01.888Z"
   },
   {
    "duration": 43,
    "start_time": "2021-09-07T19:25:01.973Z"
   },
   {
    "duration": 39,
    "start_time": "2021-09-07T19:25:02.018Z"
   },
   {
    "duration": 36,
    "start_time": "2021-09-07T19:25:02.059Z"
   },
   {
    "duration": 89,
    "start_time": "2021-09-07T19:25:02.098Z"
   },
   {
    "duration": 27,
    "start_time": "2021-09-07T19:25:02.190Z"
   },
   {
    "duration": 58,
    "start_time": "2021-09-07T19:25:02.220Z"
   },
   {
    "duration": 35,
    "start_time": "2021-09-07T19:25:02.280Z"
   },
   {
    "duration": 251,
    "start_time": "2021-09-07T19:25:02.317Z"
   },
   {
    "duration": 5,
    "start_time": "2021-09-07T19:25:02.571Z"
   },
   {
    "duration": 72,
    "start_time": "2021-09-07T19:25:02.578Z"
   },
   {
    "duration": 75,
    "start_time": "2021-09-07T19:25:02.653Z"
   },
   {
    "duration": 23,
    "start_time": "2021-09-07T19:25:02.733Z"
   },
   {
    "duration": 37,
    "start_time": "2021-09-07T19:25:02.759Z"
   },
   {
    "duration": 43,
    "start_time": "2021-09-07T19:25:02.798Z"
   },
   {
    "duration": 19,
    "start_time": "2021-09-07T19:25:02.844Z"
   },
   {
    "duration": 51,
    "start_time": "2021-09-07T19:25:02.865Z"
   },
   {
    "duration": 44,
    "start_time": "2021-09-07T19:25:02.919Z"
   },
   {
    "duration": 29,
    "start_time": "2021-09-07T19:25:02.965Z"
   },
   {
    "duration": 58,
    "start_time": "2021-09-07T19:25:02.996Z"
   },
   {
    "duration": 62,
    "start_time": "2021-09-07T19:25:03.056Z"
   },
   {
    "duration": 32,
    "start_time": "2021-09-07T19:25:03.120Z"
   },
   {
    "duration": 21,
    "start_time": "2021-09-07T19:25:03.154Z"
   },
   {
    "duration": 46,
    "start_time": "2021-09-07T19:25:03.178Z"
   },
   {
    "duration": 21,
    "start_time": "2021-09-07T19:25:03.227Z"
   },
   {
    "duration": 269,
    "start_time": "2021-09-07T19:25:03.250Z"
   },
   {
    "duration": 36,
    "start_time": "2021-09-07T19:25:03.522Z"
   },
   {
    "duration": 14,
    "start_time": "2021-09-07T19:25:03.560Z"
   },
   {
    "duration": 44,
    "start_time": "2021-09-07T19:25:03.576Z"
   },
   {
    "duration": 1358,
    "start_time": "2021-09-07T19:25:03.622Z"
   },
   {
    "duration": 641,
    "start_time": "2021-09-07T19:25:04.983Z"
   },
   {
    "duration": 13,
    "start_time": "2021-09-07T19:25:05.626Z"
   },
   {
    "duration": 722,
    "start_time": "2021-09-07T19:25:05.641Z"
   },
   {
    "duration": 1472,
    "start_time": "2021-09-07T19:25:06.366Z"
   },
   {
    "duration": 634,
    "start_time": "2021-09-07T19:25:07.841Z"
   },
   {
    "duration": 16,
    "start_time": "2021-09-07T19:25:08.479Z"
   },
   {
    "duration": 1208,
    "start_time": "2021-09-07T19:25:08.518Z"
   },
   {
    "duration": 629,
    "start_time": "2021-09-07T19:25:09.729Z"
   },
   {
    "duration": 13,
    "start_time": "2021-09-07T19:25:10.361Z"
   },
   {
    "duration": 1351,
    "start_time": "2021-09-07T19:25:10.377Z"
   },
   {
    "duration": 10,
    "start_time": "2021-09-07T19:25:11.731Z"
   },
   {
    "duration": 16,
    "start_time": "2021-09-07T19:25:11.744Z"
   },
   {
    "duration": 9,
    "start_time": "2021-09-07T19:25:11.764Z"
   },
   {
    "duration": 44,
    "start_time": "2021-09-07T19:25:11.776Z"
   },
   {
    "duration": 11,
    "start_time": "2021-09-07T19:25:11.823Z"
   },
   {
    "duration": 1561,
    "start_time": "2021-09-08T11:43:51.864Z"
   },
   {
    "duration": 58,
    "start_time": "2021-09-08T11:43:53.428Z"
   },
   {
    "duration": 219,
    "start_time": "2021-09-08T11:43:53.490Z"
   },
   {
    "duration": 123,
    "start_time": "2021-09-08T11:43:53.712Z"
   },
   {
    "duration": 183,
    "start_time": "2021-09-08T11:43:53.837Z"
   },
   {
    "duration": 16,
    "start_time": "2021-09-08T11:43:54.022Z"
   },
   {
    "duration": 7,
    "start_time": "2021-09-08T11:43:54.041Z"
   },
   {
    "duration": 36,
    "start_time": "2021-09-08T11:43:54.051Z"
   },
   {
    "duration": 78,
    "start_time": "2021-09-08T11:43:54.090Z"
   },
   {
    "duration": 43,
    "start_time": "2021-09-08T11:43:54.171Z"
   },
   {
    "duration": 82,
    "start_time": "2021-09-08T11:43:54.216Z"
   },
   {
    "duration": 18,
    "start_time": "2021-09-08T11:43:54.300Z"
   },
   {
    "duration": 10,
    "start_time": "2021-09-08T11:43:54.320Z"
   },
   {
    "duration": 6,
    "start_time": "2021-09-08T11:43:54.362Z"
   },
   {
    "duration": 49,
    "start_time": "2021-09-08T11:43:54.371Z"
   },
   {
    "duration": 48,
    "start_time": "2021-09-08T11:43:54.422Z"
   },
   {
    "duration": 32,
    "start_time": "2021-09-08T11:43:54.473Z"
   },
   {
    "duration": 12,
    "start_time": "2021-09-08T11:43:54.508Z"
   },
   {
    "duration": 255,
    "start_time": "2021-09-08T11:43:54.523Z"
   },
   {
    "duration": 5,
    "start_time": "2021-09-08T11:43:54.781Z"
   },
   {
    "duration": 35,
    "start_time": "2021-09-08T11:43:54.789Z"
   },
   {
    "duration": 86,
    "start_time": "2021-09-08T11:43:54.826Z"
   },
   {
    "duration": 20,
    "start_time": "2021-09-08T11:43:54.918Z"
   },
   {
    "duration": 36,
    "start_time": "2021-09-08T11:43:54.941Z"
   },
   {
    "duration": 32,
    "start_time": "2021-09-08T11:43:54.979Z"
   },
   {
    "duration": 16,
    "start_time": "2021-09-08T11:43:55.014Z"
   },
   {
    "duration": 54,
    "start_time": "2021-09-08T11:43:55.033Z"
   },
   {
    "duration": 41,
    "start_time": "2021-09-08T11:43:55.089Z"
   },
   {
    "duration": 41,
    "start_time": "2021-09-08T11:43:55.132Z"
   },
   {
    "duration": 39,
    "start_time": "2021-09-08T11:43:55.176Z"
   },
   {
    "duration": 63,
    "start_time": "2021-09-08T11:43:55.217Z"
   },
   {
    "duration": 33,
    "start_time": "2021-09-08T11:43:55.283Z"
   },
   {
    "duration": 44,
    "start_time": "2021-09-08T11:43:55.319Z"
   },
   {
    "duration": 15,
    "start_time": "2021-09-08T11:43:55.366Z"
   },
   {
    "duration": 10,
    "start_time": "2021-09-08T11:43:55.383Z"
   },
   {
    "duration": 268,
    "start_time": "2021-09-08T11:43:55.396Z"
   },
   {
    "duration": 36,
    "start_time": "2021-09-08T11:43:55.666Z"
   },
   {
    "duration": 13,
    "start_time": "2021-09-08T11:43:55.704Z"
   },
   {
    "duration": 43,
    "start_time": "2021-09-08T11:43:55.720Z"
   },
   {
    "duration": 1318,
    "start_time": "2021-09-08T11:43:55.765Z"
   },
   {
    "duration": 647,
    "start_time": "2021-09-08T11:43:57.087Z"
   },
   {
    "duration": 25,
    "start_time": "2021-09-08T11:43:57.737Z"
   },
   {
    "duration": 1275,
    "start_time": "2021-09-08T11:43:57.765Z"
   },
   {
    "duration": 1454,
    "start_time": "2021-09-08T11:43:59.043Z"
   },
   {
    "duration": 591,
    "start_time": "2021-09-08T11:44:00.501Z"
   },
   {
    "duration": 14,
    "start_time": "2021-09-08T11:44:01.094Z"
   },
   {
    "duration": 1229,
    "start_time": "2021-09-08T11:44:01.112Z"
   },
   {
    "duration": 618,
    "start_time": "2021-09-08T11:44:02.344Z"
   },
   {
    "duration": 15,
    "start_time": "2021-09-08T11:44:02.965Z"
   },
   {
    "duration": 1356,
    "start_time": "2021-09-08T11:44:02.983Z"
   },
   {
    "duration": 10,
    "start_time": "2021-09-08T11:44:04.341Z"
   },
   {
    "duration": 18,
    "start_time": "2021-09-08T11:44:04.362Z"
   },
   {
    "duration": 27,
    "start_time": "2021-09-08T11:44:04.382Z"
   },
   {
    "duration": 23,
    "start_time": "2021-09-08T11:44:04.411Z"
   },
   {
    "duration": 47,
    "start_time": "2021-09-08T11:44:04.436Z"
   },
   {
    "duration": 7,
    "start_time": "2021-09-08T11:44:27.489Z"
   },
   {
    "duration": 1447,
    "start_time": "2021-10-27T19:27:38.632Z"
   },
   {
    "duration": 30,
    "start_time": "2021-10-27T19:27:40.082Z"
   },
   {
    "duration": 191,
    "start_time": "2021-10-27T19:27:40.115Z"
   },
   {
    "duration": 118,
    "start_time": "2021-10-27T19:27:40.309Z"
   },
   {
    "duration": 169,
    "start_time": "2021-10-27T19:27:40.430Z"
   },
   {
    "duration": 18,
    "start_time": "2021-10-27T19:27:40.601Z"
   },
   {
    "duration": 8,
    "start_time": "2021-10-27T19:27:40.622Z"
   },
   {
    "duration": 34,
    "start_time": "2021-10-27T19:27:40.632Z"
   },
   {
    "duration": 85,
    "start_time": "2021-10-27T19:27:40.670Z"
   },
   {
    "duration": 43,
    "start_time": "2021-10-27T19:27:40.758Z"
   },
   {
    "duration": 53,
    "start_time": "2021-10-27T19:27:40.822Z"
   },
   {
    "duration": 16,
    "start_time": "2021-10-27T19:27:40.878Z"
   },
   {
    "duration": 31,
    "start_time": "2021-10-27T19:27:40.896Z"
   },
   {
    "duration": 10,
    "start_time": "2021-10-27T19:27:40.929Z"
   },
   {
    "duration": 65,
    "start_time": "2021-10-27T19:27:40.941Z"
   },
   {
    "duration": 41,
    "start_time": "2021-10-27T19:27:41.008Z"
   },
   {
    "duration": 31,
    "start_time": "2021-10-27T19:27:41.052Z"
   },
   {
    "duration": 40,
    "start_time": "2021-10-27T19:27:41.085Z"
   },
   {
    "duration": 233,
    "start_time": "2021-10-27T19:27:41.128Z"
   },
   {
    "duration": 5,
    "start_time": "2021-10-27T19:27:41.363Z"
   },
   {
    "duration": 52,
    "start_time": "2021-10-27T19:27:41.370Z"
   },
   {
    "duration": 64,
    "start_time": "2021-10-27T19:27:41.425Z"
   },
   {
    "duration": 34,
    "start_time": "2021-10-27T19:27:41.491Z"
   },
   {
    "duration": 25,
    "start_time": "2021-10-27T19:27:41.528Z"
   },
   {
    "duration": 33,
    "start_time": "2021-10-27T19:27:41.555Z"
   },
   {
    "duration": 43,
    "start_time": "2021-10-27T19:27:41.590Z"
   },
   {
    "duration": 27,
    "start_time": "2021-10-27T19:27:41.639Z"
   },
   {
    "duration": 66,
    "start_time": "2021-10-27T19:27:41.670Z"
   },
   {
    "duration": 25,
    "start_time": "2021-10-27T19:27:41.738Z"
   },
   {
    "duration": 57,
    "start_time": "2021-10-27T19:27:41.765Z"
   },
   {
    "duration": 43,
    "start_time": "2021-10-27T19:27:41.825Z"
   },
   {
    "duration": 59,
    "start_time": "2021-10-27T19:27:41.870Z"
   },
   {
    "duration": 21,
    "start_time": "2021-10-27T19:27:41.932Z"
   },
   {
    "duration": 17,
    "start_time": "2021-10-27T19:27:41.955Z"
   },
   {
    "duration": 10,
    "start_time": "2021-10-27T19:27:41.974Z"
   },
   {
    "duration": 287,
    "start_time": "2021-10-27T19:27:41.986Z"
   },
   {
    "duration": 50,
    "start_time": "2021-10-27T19:27:42.275Z"
   },
   {
    "duration": 16,
    "start_time": "2021-10-27T19:27:42.329Z"
   },
   {
    "duration": 8,
    "start_time": "2021-10-27T19:27:42.348Z"
   },
   {
    "duration": 11,
    "start_time": "2021-10-27T19:27:42.359Z"
   },
   {
    "duration": 1452,
    "start_time": "2021-10-27T19:27:42.373Z"
   },
   {
    "duration": 615,
    "start_time": "2021-10-27T19:27:43.827Z"
   },
   {
    "duration": 15,
    "start_time": "2021-10-27T19:27:44.444Z"
   },
   {
    "duration": 686,
    "start_time": "2021-10-27T19:27:44.462Z"
   },
   {
    "duration": 1499,
    "start_time": "2021-10-27T19:27:45.151Z"
   },
   {
    "duration": 604,
    "start_time": "2021-10-27T19:27:46.653Z"
   },
   {
    "duration": 15,
    "start_time": "2021-10-27T19:27:47.260Z"
   },
   {
    "duration": 1235,
    "start_time": "2021-10-27T19:27:47.278Z"
   },
   {
    "duration": 607,
    "start_time": "2021-10-27T19:27:48.522Z"
   },
   {
    "duration": 15,
    "start_time": "2021-10-27T19:27:49.132Z"
   },
   {
    "duration": 1367,
    "start_time": "2021-10-27T19:27:49.149Z"
   },
   {
    "duration": 11,
    "start_time": "2021-10-27T19:27:50.523Z"
   },
   {
    "duration": 14,
    "start_time": "2021-10-27T19:27:50.536Z"
   },
   {
    "duration": 14,
    "start_time": "2021-10-27T19:27:50.553Z"
   },
   {
    "duration": 53,
    "start_time": "2021-10-27T19:27:50.571Z"
   },
   {
    "duration": 15,
    "start_time": "2021-10-27T19:27:50.627Z"
   }
  ],
  "kernelspec": {
   "display_name": "Python 3",
   "language": "python",
   "name": "python3"
  },
  "language_info": {
   "codemirror_mode": {
    "name": "ipython",
    "version": 3
   },
   "file_extension": ".py",
   "mimetype": "text/x-python",
   "name": "python",
   "nbconvert_exporter": "python",
   "pygments_lexer": "ipython3",
   "version": "3.8.8"
  },
  "toc": {
   "base_numbering": 1,
   "nav_menu": {},
   "number_sections": true,
   "sideBar": true,
   "skip_h1_title": true,
   "title_cell": "Table of Contents",
   "title_sidebar": "Contents",
   "toc_cell": false,
   "toc_position": {
    "height": "calc(100% - 180px)",
    "left": "10px",
    "top": "150px",
    "width": "366.391px"
   },
   "toc_section_display": true,
   "toc_window_display": true
  }
 },
 "nbformat": 4,
 "nbformat_minor": 2
}
