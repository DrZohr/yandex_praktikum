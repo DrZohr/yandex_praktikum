{
 "cells": [
  {
   "cell_type": "markdown",
   "metadata": {},
   "source": [
    "# Описание проекта"
   ]
  },
  {
   "cell_type": "markdown",
   "metadata": {},
   "source": [
    "Вы — аналитик крупного интернет-магазина. Вместе с отделом маркетинга вы подготовили список гипотез для увеличения выручки.\n",
    "Приоритизируйте гипотезы, запустите A/B-тест и проанализируйте результаты.\n",
    "\n",
    "В первой части проекта необходимо провести приоритезацию гипотез по увеличению выручки интернет-магазина, применив фреймфорки `ICE` и `RICE`.\n",
    "\n",
    "Во второй части проекта нужно провести анализ проведенного A/B теста."
   ]
  },
  {
   "cell_type": "markdown",
   "metadata": {},
   "source": [
    "# Описание данных"
   ]
  },
  {
   "cell_type": "markdown",
   "metadata": {},
   "source": [
    "**Данные для первой части.**\n",
    "\n",
    "Файл `/datasets/hypothesis.csv`.\n",
    "\n",
    "* Hypothesis — краткое описание гипотезы;\n",
    "* Reach — охват пользователей по 10-балльной шкале;\n",
    "* Impact — влияние на пользователей по 10-балльной шкале;\n",
    "* Confidence — уверенность в гипотезе по 10-балльной шкале;\n",
    "* Efforts — затраты ресурсов на проверку гипотезы по 10-балльной шкале. Чем больше значение Efforts, тем дороже проверка гипотезы.\n",
    "\n",
    "**Данные для второй части.**\n",
    "\n",
    "Файл `/datasets/orders.csv`.\n",
    "\n",
    "* transactionId — идентификатор заказа;\n",
    "* visitorId — идентификатор пользователя, совершившего заказ;\n",
    "* date — дата, когда был совершён заказ;\n",
    "* revenue — выручка заказа;\n",
    "* group — группа A/B-теста, в которую попал заказ.\n",
    "\n",
    "Файл `/datasets/visitors.csv`.\n",
    "* date — дата;\n",
    "* group — группа A/B-теста;\n",
    "* visitors — количество пользователей в указанную дату в указанной группе A/B-теста."
   ]
  },
  {
   "cell_type": "markdown",
   "metadata": {},
   "source": [
    "## Изучение общей информации"
   ]
  },
  {
   "cell_type": "markdown",
   "metadata": {},
   "source": [
    "Импортируем необходимые библиотеки."
   ]
  },
  {
   "cell_type": "code",
   "execution_count": 1,
   "metadata": {},
   "outputs": [],
   "source": [
    "import pandas as pd\n",
    "import numpy as np\n",
    "import matplotlib.pyplot as plt\n",
    "import seaborn as sns\n",
    "from scipy import stats as st\n",
    "from pandas.plotting import register_matplotlib_converters\n",
    "register_matplotlib_converters()\n",
    "\n",
    "pd.set_option('display.max_colwidth', 1)"
   ]
  },
  {
   "cell_type": "markdown",
   "metadata": {},
   "source": [
    "Прочитаем данные из файла `/datasets/hypothesis.csv`."
   ]
  },
  {
   "cell_type": "code",
   "execution_count": 2,
   "metadata": {
    "scrolled": false
   },
   "outputs": [
    {
     "data": {
      "text/html": [
       "<div>\n",
       "<style scoped>\n",
       "    .dataframe tbody tr th:only-of-type {\n",
       "        vertical-align: middle;\n",
       "    }\n",
       "\n",
       "    .dataframe tbody tr th {\n",
       "        vertical-align: top;\n",
       "    }\n",
       "\n",
       "    .dataframe thead th {\n",
       "        text-align: right;\n",
       "    }\n",
       "</style>\n",
       "<table border=\"1\" class=\"dataframe\">\n",
       "  <thead>\n",
       "    <tr style=\"text-align: right;\">\n",
       "      <th></th>\n",
       "      <th>Hypothesis</th>\n",
       "      <th>Reach</th>\n",
       "      <th>Impact</th>\n",
       "      <th>Confidence</th>\n",
       "      <th>Efforts</th>\n",
       "    </tr>\n",
       "  </thead>\n",
       "  <tbody>\n",
       "    <tr>\n",
       "      <td>0</td>\n",
       "      <td>Добавить два новых канала привлечения трафика, что позволит привлекать на 30% больше пользователей</td>\n",
       "      <td>3</td>\n",
       "      <td>10</td>\n",
       "      <td>8</td>\n",
       "      <td>6</td>\n",
       "    </tr>\n",
       "    <tr>\n",
       "      <td>1</td>\n",
       "      <td>Запустить собственную службу доставки, что сократит срок доставки заказов</td>\n",
       "      <td>2</td>\n",
       "      <td>5</td>\n",
       "      <td>4</td>\n",
       "      <td>10</td>\n",
       "    </tr>\n",
       "    <tr>\n",
       "      <td>2</td>\n",
       "      <td>Добавить блоки рекомендаций товаров на сайт интернет магазина, чтобы повысить конверсию и средний чек заказа</td>\n",
       "      <td>8</td>\n",
       "      <td>3</td>\n",
       "      <td>7</td>\n",
       "      <td>3</td>\n",
       "    </tr>\n",
       "    <tr>\n",
       "      <td>3</td>\n",
       "      <td>Изменить структура категорий, что увеличит конверсию, т.к. пользователи быстрее найдут нужный товар</td>\n",
       "      <td>8</td>\n",
       "      <td>3</td>\n",
       "      <td>3</td>\n",
       "      <td>8</td>\n",
       "    </tr>\n",
       "    <tr>\n",
       "      <td>4</td>\n",
       "      <td>Изменить цвет фона главной страницы, чтобы увеличить вовлеченность пользователей</td>\n",
       "      <td>3</td>\n",
       "      <td>1</td>\n",
       "      <td>1</td>\n",
       "      <td>1</td>\n",
       "    </tr>\n",
       "    <tr>\n",
       "      <td>5</td>\n",
       "      <td>Добавить страницу отзывов клиентов о магазине, что позволит увеличить количество заказов</td>\n",
       "      <td>3</td>\n",
       "      <td>2</td>\n",
       "      <td>2</td>\n",
       "      <td>3</td>\n",
       "    </tr>\n",
       "    <tr>\n",
       "      <td>6</td>\n",
       "      <td>Показать на главной странице баннеры с актуальными акциями и распродажами, чтобы увеличить конверсию</td>\n",
       "      <td>5</td>\n",
       "      <td>3</td>\n",
       "      <td>8</td>\n",
       "      <td>3</td>\n",
       "    </tr>\n",
       "    <tr>\n",
       "      <td>7</td>\n",
       "      <td>Добавить форму подписки на все основные страницы, чтобы собрать базу клиентов для email-рассылок</td>\n",
       "      <td>10</td>\n",
       "      <td>7</td>\n",
       "      <td>8</td>\n",
       "      <td>5</td>\n",
       "    </tr>\n",
       "    <tr>\n",
       "      <td>8</td>\n",
       "      <td>Запустить акцию, дающую скидку на товар в день рождения</td>\n",
       "      <td>1</td>\n",
       "      <td>9</td>\n",
       "      <td>9</td>\n",
       "      <td>5</td>\n",
       "    </tr>\n",
       "  </tbody>\n",
       "</table>\n",
       "</div>"
      ],
      "text/plain": [
       "                                                                                                     Hypothesis  \\\n",
       "0  Добавить два новых канала привлечения трафика, что позволит привлекать на 30% больше пользователей             \n",
       "1  Запустить собственную службу доставки, что сократит срок доставки заказов                                      \n",
       "2  Добавить блоки рекомендаций товаров на сайт интернет магазина, чтобы повысить конверсию и средний чек заказа   \n",
       "3  Изменить структура категорий, что увеличит конверсию, т.к. пользователи быстрее найдут нужный товар            \n",
       "4  Изменить цвет фона главной страницы, чтобы увеличить вовлеченность пользователей                               \n",
       "5  Добавить страницу отзывов клиентов о магазине, что позволит увеличить количество заказов                       \n",
       "6  Показать на главной странице баннеры с актуальными акциями и распродажами, чтобы увеличить конверсию           \n",
       "7  Добавить форму подписки на все основные страницы, чтобы собрать базу клиентов для email-рассылок               \n",
       "8  Запустить акцию, дающую скидку на товар в день рождения                                                        \n",
       "\n",
       "   Reach  Impact  Confidence  Efforts  \n",
       "0  3      10      8           6        \n",
       "1  2      5       4           10       \n",
       "2  8      3       7           3        \n",
       "3  8      3       3           8        \n",
       "4  3      1       1           1        \n",
       "5  3      2       2           3        \n",
       "6  5      3       8           3        \n",
       "7  10     7       8           5        \n",
       "8  1      9       9           5        "
      ]
     },
     "execution_count": 2,
     "metadata": {},
     "output_type": "execute_result"
    }
   ],
   "source": [
    "df_hypothesis = pd.read_csv('/datasets/hypothesis.csv')\n",
    "df_hypothesis"
   ]
  },
  {
   "cell_type": "markdown",
   "metadata": {},
   "source": [
    "Изучим инофрмацию этой таблицы."
   ]
  },
  {
   "cell_type": "code",
   "execution_count": 3,
   "metadata": {
    "scrolled": true
   },
   "outputs": [
    {
     "name": "stdout",
     "output_type": "stream",
     "text": [
      "<class 'pandas.core.frame.DataFrame'>\n",
      "RangeIndex: 9 entries, 0 to 8\n",
      "Data columns (total 5 columns):\n",
      "Hypothesis    9 non-null object\n",
      "Reach         9 non-null int64\n",
      "Impact        9 non-null int64\n",
      "Confidence    9 non-null int64\n",
      "Efforts       9 non-null int64\n",
      "dtypes: int64(4), object(1)\n",
      "memory usage: 488.0+ bytes\n"
     ]
    }
   ],
   "source": [
    "df_hypothesis.info()"
   ]
  },
  {
   "cell_type": "markdown",
   "metadata": {},
   "source": [
    "С данными все в порядке. Каждой переменной соответствует ее тип данных. Для удобства работы приведем названия столбцов к нижнему регистру."
   ]
  },
  {
   "cell_type": "code",
   "execution_count": 4,
   "metadata": {},
   "outputs": [],
   "source": [
    "df_hypothesis.columns = df_hypothesis.columns.str.lower()"
   ]
  },
  {
   "cell_type": "markdown",
   "metadata": {},
   "source": [
    "Прочитаем данные из файла `/datasets/orders.csv`."
   ]
  },
  {
   "cell_type": "code",
   "execution_count": 5,
   "metadata": {},
   "outputs": [],
   "source": [
    "df_orders = pd.read_csv('/datasets/orders.csv')"
   ]
  },
  {
   "cell_type": "markdown",
   "metadata": {},
   "source": [
    "Напишем фукнцию `def` для быстрого вывода определенной информации таблицы."
   ]
  },
  {
   "cell_type": "code",
   "execution_count": 6,
   "metadata": {},
   "outputs": [],
   "source": [
    "def inf(data: 'DataFrame'):\n",
    "    print()\n",
    "    print('Описание данных таблицы')\n",
    "    print(data.info())\n",
    "    print('====================================================================')\n",
    "    print('Процент пропусков в таблице')\n",
    "    print(data.isna().mean())\n",
    "    print('====================================================================')\n",
    "    print('Проверка на дубликаты')\n",
    "    print(data.duplicated().sum())\n",
    "    print('====================================================================')\n",
    "    print('Визуальный осмотр данных таблицы')\n",
    "    display(data.sample(5))"
   ]
  },
  {
   "cell_type": "markdown",
   "metadata": {},
   "source": [
    "Применим функцию `def` к таблице `df_orders`."
   ]
  },
  {
   "cell_type": "code",
   "execution_count": 7,
   "metadata": {},
   "outputs": [
    {
     "name": "stdout",
     "output_type": "stream",
     "text": [
      "\n",
      "Описание данных таблицы\n",
      "<class 'pandas.core.frame.DataFrame'>\n",
      "RangeIndex: 1197 entries, 0 to 1196\n",
      "Data columns (total 5 columns):\n",
      "transactionId    1197 non-null int64\n",
      "visitorId        1197 non-null int64\n",
      "date             1197 non-null object\n",
      "revenue          1197 non-null int64\n",
      "group            1197 non-null object\n",
      "dtypes: int64(3), object(2)\n",
      "memory usage: 46.9+ KB\n",
      "None\n",
      "====================================================================\n",
      "Процент пропусков в таблице\n",
      "transactionId    0.0\n",
      "visitorId        0.0\n",
      "date             0.0\n",
      "revenue          0.0\n",
      "group            0.0\n",
      "dtype: float64\n",
      "====================================================================\n",
      "Проверка на дубликаты\n",
      "0\n",
      "====================================================================\n",
      "Визуальный осмотр данных таблицы\n"
     ]
    },
    {
     "data": {
      "text/html": [
       "<div>\n",
       "<style scoped>\n",
       "    .dataframe tbody tr th:only-of-type {\n",
       "        vertical-align: middle;\n",
       "    }\n",
       "\n",
       "    .dataframe tbody tr th {\n",
       "        vertical-align: top;\n",
       "    }\n",
       "\n",
       "    .dataframe thead th {\n",
       "        text-align: right;\n",
       "    }\n",
       "</style>\n",
       "<table border=\"1\" class=\"dataframe\">\n",
       "  <thead>\n",
       "    <tr style=\"text-align: right;\">\n",
       "      <th></th>\n",
       "      <th>transactionId</th>\n",
       "      <th>visitorId</th>\n",
       "      <th>date</th>\n",
       "      <th>revenue</th>\n",
       "      <th>group</th>\n",
       "    </tr>\n",
       "  </thead>\n",
       "  <tbody>\n",
       "    <tr>\n",
       "      <td>1013</td>\n",
       "      <td>83566152</td>\n",
       "      <td>232979603</td>\n",
       "      <td>2019-08-31</td>\n",
       "      <td>60</td>\n",
       "      <td>A</td>\n",
       "    </tr>\n",
       "    <tr>\n",
       "      <td>686</td>\n",
       "      <td>1573514293</td>\n",
       "      <td>3148168974</td>\n",
       "      <td>2019-08-29</td>\n",
       "      <td>5150</td>\n",
       "      <td>B</td>\n",
       "    </tr>\n",
       "    <tr>\n",
       "      <td>651</td>\n",
       "      <td>2782494067</td>\n",
       "      <td>4166660304</td>\n",
       "      <td>2019-08-07</td>\n",
       "      <td>90</td>\n",
       "      <td>B</td>\n",
       "    </tr>\n",
       "    <tr>\n",
       "      <td>441</td>\n",
       "      <td>2396420873</td>\n",
       "      <td>2171487014</td>\n",
       "      <td>2019-08-03</td>\n",
       "      <td>2955</td>\n",
       "      <td>B</td>\n",
       "    </tr>\n",
       "    <tr>\n",
       "      <td>1063</td>\n",
       "      <td>842507644</td>\n",
       "      <td>3170292896</td>\n",
       "      <td>2019-08-11</td>\n",
       "      <td>1190</td>\n",
       "      <td>B</td>\n",
       "    </tr>\n",
       "  </tbody>\n",
       "</table>\n",
       "</div>"
      ],
      "text/plain": [
       "      transactionId   visitorId        date  revenue group\n",
       "1013  83566152       232979603   2019-08-31  60       A   \n",
       "686   1573514293     3148168974  2019-08-29  5150     B   \n",
       "651   2782494067     4166660304  2019-08-07  90       B   \n",
       "441   2396420873     2171487014  2019-08-03  2955     B   \n",
       "1063  842507644      3170292896  2019-08-11  1190     B   "
      ]
     },
     "metadata": {},
     "output_type": "display_data"
    }
   ],
   "source": [
    "inf(df_orders)"
   ]
  },
  {
   "cell_type": "markdown",
   "metadata": {},
   "source": [
    "Пропуски и дубликаты не найдены.\n",
    "\n",
    "Для дальнейшей работы с этой таблицы необходимо изменить тип данных переменной `date` на `datetime64` и изменить названия первых двух переменных на более удобные.\n",
    "\n",
    "Сначала изменим тип данных переменной `date`."
   ]
  },
  {
   "cell_type": "code",
   "execution_count": 8,
   "metadata": {},
   "outputs": [],
   "source": [
    "df_orders['date'] = pd.to_datetime(df_orders['date'])"
   ]
  },
  {
   "cell_type": "markdown",
   "metadata": {},
   "source": [
    "Изменим названия первых двух столбцов."
   ]
  },
  {
   "cell_type": "code",
   "execution_count": 9,
   "metadata": {},
   "outputs": [],
   "source": [
    "df_orders = df_orders.rename(columns = {'transactionId' : 'transaction_id', 'visitorId' : 'visitor_id'})"
   ]
  },
  {
   "cell_type": "markdown",
   "metadata": {},
   "source": [
    "Прочиатем данные из файла `/datasets/visitors.csv`."
   ]
  },
  {
   "cell_type": "code",
   "execution_count": 10,
   "metadata": {
    "scrolled": true
   },
   "outputs": [],
   "source": [
    "df_visitors = pd.read_csv('/datasets/visitors.csv')"
   ]
  },
  {
   "cell_type": "markdown",
   "metadata": {},
   "source": [
    "Применим функцию `def` к таблице `df_visitors`."
   ]
  },
  {
   "cell_type": "code",
   "execution_count": 11,
   "metadata": {},
   "outputs": [
    {
     "name": "stdout",
     "output_type": "stream",
     "text": [
      "\n",
      "Описание данных таблицы\n",
      "<class 'pandas.core.frame.DataFrame'>\n",
      "RangeIndex: 62 entries, 0 to 61\n",
      "Data columns (total 3 columns):\n",
      "date        62 non-null object\n",
      "group       62 non-null object\n",
      "visitors    62 non-null int64\n",
      "dtypes: int64(1), object(2)\n",
      "memory usage: 1.6+ KB\n",
      "None\n",
      "====================================================================\n",
      "Процент пропусков в таблице\n",
      "date        0.0\n",
      "group       0.0\n",
      "visitors    0.0\n",
      "dtype: float64\n",
      "====================================================================\n",
      "Проверка на дубликаты\n",
      "0\n",
      "====================================================================\n",
      "Визуальный осмотр данных таблицы\n"
     ]
    },
    {
     "data": {
      "text/html": [
       "<div>\n",
       "<style scoped>\n",
       "    .dataframe tbody tr th:only-of-type {\n",
       "        vertical-align: middle;\n",
       "    }\n",
       "\n",
       "    .dataframe tbody tr th {\n",
       "        vertical-align: top;\n",
       "    }\n",
       "\n",
       "    .dataframe thead th {\n",
       "        text-align: right;\n",
       "    }\n",
       "</style>\n",
       "<table border=\"1\" class=\"dataframe\">\n",
       "  <thead>\n",
       "    <tr style=\"text-align: right;\">\n",
       "      <th></th>\n",
       "      <th>date</th>\n",
       "      <th>group</th>\n",
       "      <th>visitors</th>\n",
       "    </tr>\n",
       "  </thead>\n",
       "  <tbody>\n",
       "    <tr>\n",
       "      <td>24</td>\n",
       "      <td>2019-08-25</td>\n",
       "      <td>A</td>\n",
       "      <td>621</td>\n",
       "    </tr>\n",
       "    <tr>\n",
       "      <td>53</td>\n",
       "      <td>2019-08-23</td>\n",
       "      <td>B</td>\n",
       "      <td>546</td>\n",
       "    </tr>\n",
       "    <tr>\n",
       "      <td>20</td>\n",
       "      <td>2019-08-21</td>\n",
       "      <td>A</td>\n",
       "      <td>646</td>\n",
       "    </tr>\n",
       "    <tr>\n",
       "      <td>28</td>\n",
       "      <td>2019-08-29</td>\n",
       "      <td>A</td>\n",
       "      <td>577</td>\n",
       "    </tr>\n",
       "    <tr>\n",
       "      <td>61</td>\n",
       "      <td>2019-08-31</td>\n",
       "      <td>B</td>\n",
       "      <td>718</td>\n",
       "    </tr>\n",
       "  </tbody>\n",
       "</table>\n",
       "</div>"
      ],
      "text/plain": [
       "          date group  visitors\n",
       "24  2019-08-25  A     621     \n",
       "53  2019-08-23  B     546     \n",
       "20  2019-08-21  A     646     \n",
       "28  2019-08-29  A     577     \n",
       "61  2019-08-31  B     718     "
      ]
     },
     "metadata": {},
     "output_type": "display_data"
    }
   ],
   "source": [
    "inf(df_visitors)"
   ]
  },
  {
   "cell_type": "markdown",
   "metadata": {},
   "source": [
    "Пропуски и дубликаты не найдены. Необходимо поменять тип данных переменной `date` на `datetime64`."
   ]
  },
  {
   "cell_type": "code",
   "execution_count": 12,
   "metadata": {},
   "outputs": [],
   "source": [
    "df_visitors['date'] = pd.to_datetime(df_visitors['date'])"
   ]
  },
  {
   "cell_type": "markdown",
   "metadata": {},
   "source": [
    "### Вывод"
   ]
  },
  {
   "cell_type": "markdown",
   "metadata": {},
   "source": [
    "В этом пункте проекта была произведена предобработка данных из трех предоставленных файлов, а именно:\n",
    "* проверка на отсутствие пропусков и дубликатов;\n",
    "* изменение типов данных на `datetime64` у перменных с датами;\n",
    "* названия столбцов были изменены на более корректные."
   ]
  },
  {
   "cell_type": "markdown",
   "metadata": {},
   "source": [
    "## Приоритизация гипотез"
   ]
  },
  {
   "cell_type": "markdown",
   "metadata": {},
   "source": [
    "### ICE"
   ]
  },
  {
   "cell_type": "markdown",
   "metadata": {},
   "source": [
    "Применим фреймворк `ICE` для приоритизации гипотез.\n",
    "\n",
    "Воспользуемся формулой:\n",
    "\n",
    "$ICE = (Impact * Confidence) / Efforts$."
   ]
  },
  {
   "cell_type": "code",
   "execution_count": 13,
   "metadata": {},
   "outputs": [],
   "source": [
    "df_hypothesis['ice'] = df_hypothesis['impact'] * df_hypothesis['confidence'] / df_hypothesis['efforts']\n",
    "df_hypothesis['ice'] = df_hypothesis['ice'].round(2)"
   ]
  },
  {
   "cell_type": "markdown",
   "metadata": {},
   "source": [
    "Отсортируем значения `ICE` по убыванию и запищем результат в новую переменную. "
   ]
  },
  {
   "cell_type": "code",
   "execution_count": 14,
   "metadata": {},
   "outputs": [
    {
     "data": {
      "text/html": [
       "<div>\n",
       "<style scoped>\n",
       "    .dataframe tbody tr th:only-of-type {\n",
       "        vertical-align: middle;\n",
       "    }\n",
       "\n",
       "    .dataframe tbody tr th {\n",
       "        vertical-align: top;\n",
       "    }\n",
       "\n",
       "    .dataframe thead th {\n",
       "        text-align: right;\n",
       "    }\n",
       "</style>\n",
       "<table border=\"1\" class=\"dataframe\">\n",
       "  <thead>\n",
       "    <tr style=\"text-align: right;\">\n",
       "      <th></th>\n",
       "      <th>hypothesis</th>\n",
       "      <th>ice</th>\n",
       "    </tr>\n",
       "  </thead>\n",
       "  <tbody>\n",
       "    <tr>\n",
       "      <td>8</td>\n",
       "      <td>Запустить акцию, дающую скидку на товар в день рождения</td>\n",
       "      <td>16.20</td>\n",
       "    </tr>\n",
       "    <tr>\n",
       "      <td>0</td>\n",
       "      <td>Добавить два новых канала привлечения трафика, что позволит привлекать на 30% больше пользователей</td>\n",
       "      <td>13.33</td>\n",
       "    </tr>\n",
       "    <tr>\n",
       "      <td>7</td>\n",
       "      <td>Добавить форму подписки на все основные страницы, чтобы собрать базу клиентов для email-рассылок</td>\n",
       "      <td>11.20</td>\n",
       "    </tr>\n",
       "    <tr>\n",
       "      <td>6</td>\n",
       "      <td>Показать на главной странице баннеры с актуальными акциями и распродажами, чтобы увеличить конверсию</td>\n",
       "      <td>8.00</td>\n",
       "    </tr>\n",
       "    <tr>\n",
       "      <td>2</td>\n",
       "      <td>Добавить блоки рекомендаций товаров на сайт интернет магазина, чтобы повысить конверсию и средний чек заказа</td>\n",
       "      <td>7.00</td>\n",
       "    </tr>\n",
       "    <tr>\n",
       "      <td>1</td>\n",
       "      <td>Запустить собственную службу доставки, что сократит срок доставки заказов</td>\n",
       "      <td>2.00</td>\n",
       "    </tr>\n",
       "    <tr>\n",
       "      <td>5</td>\n",
       "      <td>Добавить страницу отзывов клиентов о магазине, что позволит увеличить количество заказов</td>\n",
       "      <td>1.33</td>\n",
       "    </tr>\n",
       "    <tr>\n",
       "      <td>3</td>\n",
       "      <td>Изменить структура категорий, что увеличит конверсию, т.к. пользователи быстрее найдут нужный товар</td>\n",
       "      <td>1.12</td>\n",
       "    </tr>\n",
       "    <tr>\n",
       "      <td>4</td>\n",
       "      <td>Изменить цвет фона главной страницы, чтобы увеличить вовлеченность пользователей</td>\n",
       "      <td>1.00</td>\n",
       "    </tr>\n",
       "  </tbody>\n",
       "</table>\n",
       "</div>"
      ],
      "text/plain": [
       "                                                                                                     hypothesis  \\\n",
       "8  Запустить акцию, дающую скидку на товар в день рождения                                                        \n",
       "0  Добавить два новых канала привлечения трафика, что позволит привлекать на 30% больше пользователей             \n",
       "7  Добавить форму подписки на все основные страницы, чтобы собрать базу клиентов для email-рассылок               \n",
       "6  Показать на главной странице баннеры с актуальными акциями и распродажами, чтобы увеличить конверсию           \n",
       "2  Добавить блоки рекомендаций товаров на сайт интернет магазина, чтобы повысить конверсию и средний чек заказа   \n",
       "1  Запустить собственную службу доставки, что сократит срок доставки заказов                                      \n",
       "5  Добавить страницу отзывов клиентов о магазине, что позволит увеличить количество заказов                       \n",
       "3  Изменить структура категорий, что увеличит конверсию, т.к. пользователи быстрее найдут нужный товар            \n",
       "4  Изменить цвет фона главной страницы, чтобы увеличить вовлеченность пользователей                               \n",
       "\n",
       "     ice  \n",
       "8  16.20  \n",
       "0  13.33  \n",
       "7  11.20  \n",
       "6  8.00   \n",
       "2  7.00   \n",
       "1  2.00   \n",
       "5  1.33   \n",
       "3  1.12   \n",
       "4  1.00   "
      ]
     },
     "execution_count": 14,
     "metadata": {},
     "output_type": "execute_result"
    }
   ],
   "source": [
    "ice = df_hypothesis[['hypothesis', 'ice']].sort_values(by = 'ice', ascending = False)\n",
    "ice"
   ]
  },
  {
   "cell_type": "markdown",
   "metadata": {},
   "source": [
    "Применив `ICE` выяснили, что гипотезы 8, 0 и 7 являются наиболее приоритетными."
   ]
  },
  {
   "cell_type": "markdown",
   "metadata": {},
   "source": [
    "### RICE"
   ]
  },
  {
   "cell_type": "markdown",
   "metadata": {},
   "source": [
    "Теперь применим фреймворк `RICE`.\n",
    "Воспользуемся формулой:\n",
    "\n",
    "$ICE = (Reach * Impact * Confidence) / Efforts$."
   ]
  },
  {
   "cell_type": "code",
   "execution_count": 15,
   "metadata": {},
   "outputs": [],
   "source": [
    "df_hypothesis['rice'] = df_hypothesis['reach'] * df_hypothesis['ice']\n",
    "df_hypothesis['rice'] = df_hypothesis['rice'].round(2)"
   ]
  },
  {
   "cell_type": "markdown",
   "metadata": {},
   "source": [
    "Отсортируем значения `RICE` по убыванию и запищем результат в новую переменную. "
   ]
  },
  {
   "cell_type": "code",
   "execution_count": 16,
   "metadata": {},
   "outputs": [
    {
     "data": {
      "text/html": [
       "<div>\n",
       "<style scoped>\n",
       "    .dataframe tbody tr th:only-of-type {\n",
       "        vertical-align: middle;\n",
       "    }\n",
       "\n",
       "    .dataframe tbody tr th {\n",
       "        vertical-align: top;\n",
       "    }\n",
       "\n",
       "    .dataframe thead th {\n",
       "        text-align: right;\n",
       "    }\n",
       "</style>\n",
       "<table border=\"1\" class=\"dataframe\">\n",
       "  <thead>\n",
       "    <tr style=\"text-align: right;\">\n",
       "      <th></th>\n",
       "      <th>hypothesis</th>\n",
       "      <th>rice</th>\n",
       "    </tr>\n",
       "  </thead>\n",
       "  <tbody>\n",
       "    <tr>\n",
       "      <td>7</td>\n",
       "      <td>Добавить форму подписки на все основные страницы, чтобы собрать базу клиентов для email-рассылок</td>\n",
       "      <td>112.00</td>\n",
       "    </tr>\n",
       "    <tr>\n",
       "      <td>2</td>\n",
       "      <td>Добавить блоки рекомендаций товаров на сайт интернет магазина, чтобы повысить конверсию и средний чек заказа</td>\n",
       "      <td>56.00</td>\n",
       "    </tr>\n",
       "    <tr>\n",
       "      <td>6</td>\n",
       "      <td>Показать на главной странице баннеры с актуальными акциями и распродажами, чтобы увеличить конверсию</td>\n",
       "      <td>40.00</td>\n",
       "    </tr>\n",
       "    <tr>\n",
       "      <td>0</td>\n",
       "      <td>Добавить два новых канала привлечения трафика, что позволит привлекать на 30% больше пользователей</td>\n",
       "      <td>39.99</td>\n",
       "    </tr>\n",
       "    <tr>\n",
       "      <td>8</td>\n",
       "      <td>Запустить акцию, дающую скидку на товар в день рождения</td>\n",
       "      <td>16.20</td>\n",
       "    </tr>\n",
       "    <tr>\n",
       "      <td>3</td>\n",
       "      <td>Изменить структура категорий, что увеличит конверсию, т.к. пользователи быстрее найдут нужный товар</td>\n",
       "      <td>8.96</td>\n",
       "    </tr>\n",
       "    <tr>\n",
       "      <td>1</td>\n",
       "      <td>Запустить собственную службу доставки, что сократит срок доставки заказов</td>\n",
       "      <td>4.00</td>\n",
       "    </tr>\n",
       "    <tr>\n",
       "      <td>5</td>\n",
       "      <td>Добавить страницу отзывов клиентов о магазине, что позволит увеличить количество заказов</td>\n",
       "      <td>3.99</td>\n",
       "    </tr>\n",
       "    <tr>\n",
       "      <td>4</td>\n",
       "      <td>Изменить цвет фона главной страницы, чтобы увеличить вовлеченность пользователей</td>\n",
       "      <td>3.00</td>\n",
       "    </tr>\n",
       "  </tbody>\n",
       "</table>\n",
       "</div>"
      ],
      "text/plain": [
       "                                                                                                     hypothesis  \\\n",
       "7  Добавить форму подписки на все основные страницы, чтобы собрать базу клиентов для email-рассылок               \n",
       "2  Добавить блоки рекомендаций товаров на сайт интернет магазина, чтобы повысить конверсию и средний чек заказа   \n",
       "6  Показать на главной странице баннеры с актуальными акциями и распродажами, чтобы увеличить конверсию           \n",
       "0  Добавить два новых канала привлечения трафика, что позволит привлекать на 30% больше пользователей             \n",
       "8  Запустить акцию, дающую скидку на товар в день рождения                                                        \n",
       "3  Изменить структура категорий, что увеличит конверсию, т.к. пользователи быстрее найдут нужный товар            \n",
       "1  Запустить собственную службу доставки, что сократит срок доставки заказов                                      \n",
       "5  Добавить страницу отзывов клиентов о магазине, что позволит увеличить количество заказов                       \n",
       "4  Изменить цвет фона главной страницы, чтобы увеличить вовлеченность пользователей                               \n",
       "\n",
       "     rice  \n",
       "7  112.00  \n",
       "2  56.00   \n",
       "6  40.00   \n",
       "0  39.99   \n",
       "8  16.20   \n",
       "3  8.96    \n",
       "1  4.00    \n",
       "5  3.99    \n",
       "4  3.00    "
      ]
     },
     "execution_count": 16,
     "metadata": {},
     "output_type": "execute_result"
    }
   ],
   "source": [
    "rice = df_hypothesis[['hypothesis', 'rice']].sort_values(by = 'rice', ascending = False)\n",
    "rice"
   ]
  },
  {
   "cell_type": "markdown",
   "metadata": {},
   "source": [
    "Добавив в учет охват пользователей ситуация изменилась."
   ]
  },
  {
   "cell_type": "markdown",
   "metadata": {},
   "source": [
    "### Вывод"
   ]
  },
  {
   "cell_type": "markdown",
   "metadata": {},
   "source": [
    "Составим таблицу `ice_rice` для удобства сравнения методов приоретизации."
   ]
  },
  {
   "cell_type": "code",
   "execution_count": 17,
   "metadata": {},
   "outputs": [
    {
     "data": {
      "text/html": [
       "<div>\n",
       "<style scoped>\n",
       "    .dataframe tbody tr th:only-of-type {\n",
       "        vertical-align: middle;\n",
       "    }\n",
       "\n",
       "    .dataframe tbody tr th {\n",
       "        vertical-align: top;\n",
       "    }\n",
       "\n",
       "    .dataframe thead th {\n",
       "        text-align: right;\n",
       "    }\n",
       "</style>\n",
       "<table border=\"1\" class=\"dataframe\">\n",
       "  <thead>\n",
       "    <tr style=\"text-align: right;\">\n",
       "      <th></th>\n",
       "      <th>hypothesis</th>\n",
       "      <th>rice</th>\n",
       "      <th>ice</th>\n",
       "    </tr>\n",
       "  </thead>\n",
       "  <tbody>\n",
       "    <tr>\n",
       "      <td>7</td>\n",
       "      <td>Добавить форму подписки на все основные страницы, чтобы собрать базу клиентов для email-рассылок</td>\n",
       "      <td>112.00</td>\n",
       "      <td>11.20</td>\n",
       "    </tr>\n",
       "    <tr>\n",
       "      <td>2</td>\n",
       "      <td>Добавить блоки рекомендаций товаров на сайт интернет магазина, чтобы повысить конверсию и средний чек заказа</td>\n",
       "      <td>56.00</td>\n",
       "      <td>7.00</td>\n",
       "    </tr>\n",
       "    <tr>\n",
       "      <td>6</td>\n",
       "      <td>Показать на главной странице баннеры с актуальными акциями и распродажами, чтобы увеличить конверсию</td>\n",
       "      <td>40.00</td>\n",
       "      <td>8.00</td>\n",
       "    </tr>\n",
       "    <tr>\n",
       "      <td>0</td>\n",
       "      <td>Добавить два новых канала привлечения трафика, что позволит привлекать на 30% больше пользователей</td>\n",
       "      <td>39.99</td>\n",
       "      <td>13.33</td>\n",
       "    </tr>\n",
       "    <tr>\n",
       "      <td>8</td>\n",
       "      <td>Запустить акцию, дающую скидку на товар в день рождения</td>\n",
       "      <td>16.20</td>\n",
       "      <td>16.20</td>\n",
       "    </tr>\n",
       "    <tr>\n",
       "      <td>3</td>\n",
       "      <td>Изменить структура категорий, что увеличит конверсию, т.к. пользователи быстрее найдут нужный товар</td>\n",
       "      <td>8.96</td>\n",
       "      <td>1.12</td>\n",
       "    </tr>\n",
       "    <tr>\n",
       "      <td>1</td>\n",
       "      <td>Запустить собственную службу доставки, что сократит срок доставки заказов</td>\n",
       "      <td>4.00</td>\n",
       "      <td>2.00</td>\n",
       "    </tr>\n",
       "    <tr>\n",
       "      <td>5</td>\n",
       "      <td>Добавить страницу отзывов клиентов о магазине, что позволит увеличить количество заказов</td>\n",
       "      <td>3.99</td>\n",
       "      <td>1.33</td>\n",
       "    </tr>\n",
       "    <tr>\n",
       "      <td>4</td>\n",
       "      <td>Изменить цвет фона главной страницы, чтобы увеличить вовлеченность пользователей</td>\n",
       "      <td>3.00</td>\n",
       "      <td>1.00</td>\n",
       "    </tr>\n",
       "  </tbody>\n",
       "</table>\n",
       "</div>"
      ],
      "text/plain": [
       "                                                                                                     hypothesis  \\\n",
       "7  Добавить форму подписки на все основные страницы, чтобы собрать базу клиентов для email-рассылок               \n",
       "2  Добавить блоки рекомендаций товаров на сайт интернет магазина, чтобы повысить конверсию и средний чек заказа   \n",
       "6  Показать на главной странице баннеры с актуальными акциями и распродажами, чтобы увеличить конверсию           \n",
       "0  Добавить два новых канала привлечения трафика, что позволит привлекать на 30% больше пользователей             \n",
       "8  Запустить акцию, дающую скидку на товар в день рождения                                                        \n",
       "3  Изменить структура категорий, что увеличит конверсию, т.к. пользователи быстрее найдут нужный товар            \n",
       "1  Запустить собственную службу доставки, что сократит срок доставки заказов                                      \n",
       "5  Добавить страницу отзывов клиентов о магазине, что позволит увеличить количество заказов                       \n",
       "4  Изменить цвет фона главной страницы, чтобы увеличить вовлеченность пользователей                               \n",
       "\n",
       "     rice    ice  \n",
       "7  112.00  11.20  \n",
       "2  56.00   7.00   \n",
       "6  40.00   8.00   \n",
       "0  39.99   13.33  \n",
       "8  16.20   16.20  \n",
       "3  8.96    1.12   \n",
       "1  4.00    2.00   \n",
       "5  3.99    1.33   \n",
       "4  3.00    1.00   "
      ]
     },
     "execution_count": 17,
     "metadata": {},
     "output_type": "execute_result"
    }
   ],
   "source": [
    "ice_rice = df_hypothesis[['hypothesis', 'rice', 'ice']].sort_values(by = 'rice', ascending = False)\n",
    "ice_rice"
   ]
  },
  {
   "cell_type": "markdown",
   "metadata": {},
   "source": [
    "Гипотеза 7 имеет максимальный рейтинг по Reach и поэтому по RICE она стала наиболее приоритетной гипотезой с большим отрывом по сравнению с остальными, хотя по ICE она была только на третьем месте по приоритетности, а гипотеза 8 имеет наименьший рейтинг по охвату пользователей, что поставило ее в середину списка приоритета."
   ]
  },
  {
   "cell_type": "code",
   "execution_count": 18,
   "metadata": {},
   "outputs": [
    {
     "data": {
      "text/plain": [
       "Text(0.5, 0, 'RICE')"
      ]
     },
     "execution_count": 18,
     "metadata": {},
     "output_type": "execute_result"
    },
    {
     "data": {
      "image/png": "[encoded data removed]",
      "text/plain": [
       "<Figure size 432x288 with 1 Axes>"
      ]
     },
     "metadata": {
      "needs_background": "light"
     },
     "output_type": "display_data"
    }
   ],
   "source": [
    "y = ice_rice['ice'].to_list()\n",
    "z = ice_rice['rice'].to_list()\n",
    "n = ice_rice.index.to_list()\n",
    "\n",
    "fig, ax = plt.subplots()\n",
    "ax.scatter(z, y)\n",
    "\n",
    "for i, txt in enumerate(n):\n",
    "    ax.annotate(txt, (z[i], y[i]))\n",
    "\n",
    "plt.title('Точечный график ICE/RICE')\n",
    "plt.ylabel('ICE')\n",
    "plt.xlabel('RICE')"
   ]
  },
  {
   "cell_type": "markdown",
   "metadata": {},
   "source": [
    "## Анализ A/B-теста"
   ]
  },
  {
   "cell_type": "markdown",
   "metadata": {},
   "source": [
    "### Кумулятивная выручка по группам"
   ]
  },
  {
   "cell_type": "markdown",
   "metadata": {},
   "source": [
    "Для подсчета кумулятивной выручки по группам проделаем необходимые операции.\n",
    "\n",
    "Сначала создадим массив уникальных пар значений дат и групп тестов."
   ]
  },
  {
   "cell_type": "code",
   "execution_count": 19,
   "metadata": {},
   "outputs": [
    {
     "data": {
      "text/html": [
       "<div>\n",
       "<style scoped>\n",
       "    .dataframe tbody tr th:only-of-type {\n",
       "        vertical-align: middle;\n",
       "    }\n",
       "\n",
       "    .dataframe tbody tr th {\n",
       "        vertical-align: top;\n",
       "    }\n",
       "\n",
       "    .dataframe thead th {\n",
       "        text-align: right;\n",
       "    }\n",
       "</style>\n",
       "<table border=\"1\" class=\"dataframe\">\n",
       "  <thead>\n",
       "    <tr style=\"text-align: right;\">\n",
       "      <th></th>\n",
       "      <th>date</th>\n",
       "      <th>group</th>\n",
       "    </tr>\n",
       "  </thead>\n",
       "  <tbody>\n",
       "    <tr>\n",
       "      <td>0</td>\n",
       "      <td>2019-08-15</td>\n",
       "      <td>B</td>\n",
       "    </tr>\n",
       "    <tr>\n",
       "      <td>2</td>\n",
       "      <td>2019-08-15</td>\n",
       "      <td>A</td>\n",
       "    </tr>\n",
       "    <tr>\n",
       "      <td>45</td>\n",
       "      <td>2019-08-16</td>\n",
       "      <td>A</td>\n",
       "    </tr>\n",
       "    <tr>\n",
       "      <td>47</td>\n",
       "      <td>2019-08-16</td>\n",
       "      <td>B</td>\n",
       "    </tr>\n",
       "    <tr>\n",
       "      <td>55</td>\n",
       "      <td>2019-08-01</td>\n",
       "      <td>A</td>\n",
       "    </tr>\n",
       "  </tbody>\n",
       "</table>\n",
       "</div>"
      ],
      "text/plain": [
       "         date group\n",
       "0  2019-08-15  B   \n",
       "2  2019-08-15  A   \n",
       "45 2019-08-16  A   \n",
       "47 2019-08-16  B   \n",
       "55 2019-08-01  A   "
      ]
     },
     "execution_count": 19,
     "metadata": {},
     "output_type": "execute_result"
    }
   ],
   "source": [
    "dates_groups = df_orders[['date', 'group']].drop_duplicates()\n",
    "dates_groups.head()"
   ]
  },
  {
   "cell_type": "markdown",
   "metadata": {},
   "source": [
    "Затем получим строки таблицы `df_orders`, где дата меньше или равна дате из таблицы `dates_groups` с помощью функции `np.logical_and`, а группа теста равна группе из `dates_groups`. Рассчитаем максимум для группы. Посчитаем количество уникальных заказов и пользователей. Осторстируем строки по дате и группе тестирования."
   ]
  },
  {
   "cell_type": "code",
   "execution_count": 20,
   "metadata": {},
   "outputs": [
    {
     "data": {
      "text/html": [
       "<div>\n",
       "<style scoped>\n",
       "    .dataframe tbody tr th:only-of-type {\n",
       "        vertical-align: middle;\n",
       "    }\n",
       "\n",
       "    .dataframe tbody tr th {\n",
       "        vertical-align: top;\n",
       "    }\n",
       "\n",
       "    .dataframe thead th {\n",
       "        text-align: right;\n",
       "    }\n",
       "</style>\n",
       "<table border=\"1\" class=\"dataframe\">\n",
       "  <thead>\n",
       "    <tr style=\"text-align: right;\">\n",
       "      <th></th>\n",
       "      <th>date</th>\n",
       "      <th>group</th>\n",
       "      <th>transaction_id</th>\n",
       "      <th>visitor_id</th>\n",
       "      <th>revenue</th>\n",
       "    </tr>\n",
       "  </thead>\n",
       "  <tbody>\n",
       "    <tr>\n",
       "      <td>0</td>\n",
       "      <td>2019-08-01</td>\n",
       "      <td>A</td>\n",
       "      <td>24</td>\n",
       "      <td>20</td>\n",
       "      <td>148579</td>\n",
       "    </tr>\n",
       "    <tr>\n",
       "      <td>1</td>\n",
       "      <td>2019-08-01</td>\n",
       "      <td>B</td>\n",
       "      <td>21</td>\n",
       "      <td>20</td>\n",
       "      <td>101217</td>\n",
       "    </tr>\n",
       "    <tr>\n",
       "      <td>2</td>\n",
       "      <td>2019-08-02</td>\n",
       "      <td>A</td>\n",
       "      <td>44</td>\n",
       "      <td>38</td>\n",
       "      <td>242401</td>\n",
       "    </tr>\n",
       "    <tr>\n",
       "      <td>3</td>\n",
       "      <td>2019-08-02</td>\n",
       "      <td>B</td>\n",
       "      <td>45</td>\n",
       "      <td>43</td>\n",
       "      <td>266748</td>\n",
       "    </tr>\n",
       "    <tr>\n",
       "      <td>4</td>\n",
       "      <td>2019-08-03</td>\n",
       "      <td>A</td>\n",
       "      <td>68</td>\n",
       "      <td>62</td>\n",
       "      <td>354874</td>\n",
       "    </tr>\n",
       "  </tbody>\n",
       "</table>\n",
       "</div>"
      ],
      "text/plain": [
       "        date group  transaction_id  visitor_id  revenue\n",
       "0 2019-08-01  A     24              20          148579 \n",
       "1 2019-08-01  B     21              20          101217 \n",
       "2 2019-08-02  A     44              38          242401 \n",
       "3 2019-08-02  B     45              43          266748 \n",
       "4 2019-08-03  A     68              62          354874 "
      ]
     },
     "execution_count": 20,
     "metadata": {},
     "output_type": "execute_result"
    }
   ],
   "source": [
    "orders_aggregated = dates_groups.\\\n",
    "apply(lambda x: df_orders[np.logical_and(df_orders['date'] <= x['date'],\n",
    "                                        df_orders['group'] == x['group'])].agg({'date' : 'max', \n",
    "                                                                                'group' : 'max', \n",
    "                                                                                'transaction_id' : pd.Series.nunique, \n",
    "                                                                                'visitor_id' : pd.Series.nunique, \n",
    "                                                                                'revenue' : 'sum'}), axis=1).\\\n",
    "sort_values(by=['date','group']).reset_index(drop = True)\n",
    "\n",
    "orders_aggregated.head()"
   ]
  },
  {
   "cell_type": "markdown",
   "metadata": {},
   "source": [
    "После того, как получили агрегированные кумулятивные по дням данные по выручке, найдем агрегированные кумулятивные данные по дням о пользователях."
   ]
  },
  {
   "cell_type": "code",
   "execution_count": 21,
   "metadata": {},
   "outputs": [
    {
     "data": {
      "text/html": [
       "<div>\n",
       "<style scoped>\n",
       "    .dataframe tbody tr th:only-of-type {\n",
       "        vertical-align: middle;\n",
       "    }\n",
       "\n",
       "    .dataframe tbody tr th {\n",
       "        vertical-align: top;\n",
       "    }\n",
       "\n",
       "    .dataframe thead th {\n",
       "        text-align: right;\n",
       "    }\n",
       "</style>\n",
       "<table border=\"1\" class=\"dataframe\">\n",
       "  <thead>\n",
       "    <tr style=\"text-align: right;\">\n",
       "      <th></th>\n",
       "      <th>date</th>\n",
       "      <th>group</th>\n",
       "      <th>visitors</th>\n",
       "    </tr>\n",
       "  </thead>\n",
       "  <tbody>\n",
       "    <tr>\n",
       "      <td>0</td>\n",
       "      <td>2019-08-01</td>\n",
       "      <td>A</td>\n",
       "      <td>719</td>\n",
       "    </tr>\n",
       "    <tr>\n",
       "      <td>1</td>\n",
       "      <td>2019-08-01</td>\n",
       "      <td>B</td>\n",
       "      <td>713</td>\n",
       "    </tr>\n",
       "    <tr>\n",
       "      <td>2</td>\n",
       "      <td>2019-08-02</td>\n",
       "      <td>A</td>\n",
       "      <td>1338</td>\n",
       "    </tr>\n",
       "    <tr>\n",
       "      <td>3</td>\n",
       "      <td>2019-08-02</td>\n",
       "      <td>B</td>\n",
       "      <td>1294</td>\n",
       "    </tr>\n",
       "    <tr>\n",
       "      <td>4</td>\n",
       "      <td>2019-08-03</td>\n",
       "      <td>A</td>\n",
       "      <td>1845</td>\n",
       "    </tr>\n",
       "  </tbody>\n",
       "</table>\n",
       "</div>"
      ],
      "text/plain": [
       "        date group  visitors\n",
       "0 2019-08-01  A     719     \n",
       "1 2019-08-01  B     713     \n",
       "2 2019-08-02  A     1338    \n",
       "3 2019-08-02  B     1294    \n",
       "4 2019-08-03  A     1845    "
      ]
     },
     "execution_count": 21,
     "metadata": {},
     "output_type": "execute_result"
    }
   ],
   "source": [
    "visitors_aggregated = dates_groups.\\\n",
    "apply(lambda x: df_visitors[np.logical_and(df_visitors['date'] <= x['date'], \n",
    "                                           df_visitors['group'] == x['group'])].agg({'date' : 'max', \n",
    "                                                                                     'group' : 'max', \n",
    "                                                                                    'visitors' : 'sum'}), axis=1).\\\n",
    "sort_values(by=['date','group']).reset_index(drop = True)\n",
    "\n",
    "visitors_aggregated.head()"
   ]
  },
  {
   "cell_type": "markdown",
   "metadata": {},
   "source": [
    "Объеденим полученные таблицы по дате и группе тестирования и переименуем столбцы на более соответствующие."
   ]
  },
  {
   "cell_type": "code",
   "execution_count": 22,
   "metadata": {},
   "outputs": [
    {
     "data": {
      "text/html": [
       "<div>\n",
       "<style scoped>\n",
       "    .dataframe tbody tr th:only-of-type {\n",
       "        vertical-align: middle;\n",
       "    }\n",
       "\n",
       "    .dataframe tbody tr th {\n",
       "        vertical-align: top;\n",
       "    }\n",
       "\n",
       "    .dataframe thead th {\n",
       "        text-align: right;\n",
       "    }\n",
       "</style>\n",
       "<table border=\"1\" class=\"dataframe\">\n",
       "  <thead>\n",
       "    <tr style=\"text-align: right;\">\n",
       "      <th></th>\n",
       "      <th>date</th>\n",
       "      <th>group</th>\n",
       "      <th>orders</th>\n",
       "      <th>buyers</th>\n",
       "      <th>revenue</th>\n",
       "      <th>visitors</th>\n",
       "    </tr>\n",
       "  </thead>\n",
       "  <tbody>\n",
       "    <tr>\n",
       "      <td>0</td>\n",
       "      <td>2019-08-01</td>\n",
       "      <td>A</td>\n",
       "      <td>24</td>\n",
       "      <td>20</td>\n",
       "      <td>148579</td>\n",
       "      <td>719</td>\n",
       "    </tr>\n",
       "    <tr>\n",
       "      <td>1</td>\n",
       "      <td>2019-08-01</td>\n",
       "      <td>B</td>\n",
       "      <td>21</td>\n",
       "      <td>20</td>\n",
       "      <td>101217</td>\n",
       "      <td>713</td>\n",
       "    </tr>\n",
       "    <tr>\n",
       "      <td>2</td>\n",
       "      <td>2019-08-02</td>\n",
       "      <td>A</td>\n",
       "      <td>44</td>\n",
       "      <td>38</td>\n",
       "      <td>242401</td>\n",
       "      <td>1338</td>\n",
       "    </tr>\n",
       "    <tr>\n",
       "      <td>3</td>\n",
       "      <td>2019-08-02</td>\n",
       "      <td>B</td>\n",
       "      <td>45</td>\n",
       "      <td>43</td>\n",
       "      <td>266748</td>\n",
       "      <td>1294</td>\n",
       "    </tr>\n",
       "    <tr>\n",
       "      <td>4</td>\n",
       "      <td>2019-08-03</td>\n",
       "      <td>A</td>\n",
       "      <td>68</td>\n",
       "      <td>62</td>\n",
       "      <td>354874</td>\n",
       "      <td>1845</td>\n",
       "    </tr>\n",
       "  </tbody>\n",
       "</table>\n",
       "</div>"
      ],
      "text/plain": [
       "        date group  orders  buyers  revenue  visitors\n",
       "0 2019-08-01  A     24      20      148579   719     \n",
       "1 2019-08-01  B     21      20      101217   713     \n",
       "2 2019-08-02  A     44      38      242401   1338    \n",
       "3 2019-08-02  B     45      43      266748   1294    \n",
       "4 2019-08-03  A     68      62      354874   1845    "
      ]
     },
     "execution_count": 22,
     "metadata": {},
     "output_type": "execute_result"
    }
   ],
   "source": [
    "cumulative_data = orders_aggregated.merge(visitors_aggregated, left_on=['date', 'group'], right_on=['date', 'group'])\n",
    "cumulative_data.columns = ['date', 'group', 'orders', 'buyers', 'revenue', 'visitors']\n",
    "\n",
    "cumulative_data.head()"
   ]
  },
  {
   "cell_type": "markdown",
   "metadata": {},
   "source": [
    "Разделим полученну таблицу на две для каждой из групп."
   ]
  },
  {
   "cell_type": "code",
   "execution_count": 23,
   "metadata": {},
   "outputs": [],
   "source": [
    "cumulative_revenue_a = cumulative_data[cumulative_data['group'] == 'A'][['date', 'revenue', 'orders']]\n",
    "cumulative_revenue_b = cumulative_data[cumulative_data['group'] == 'B'][['date', 'revenue', 'orders']]"
   ]
  },
  {
   "cell_type": "markdown",
   "metadata": {},
   "source": [
    "Построим график кумулятивной выручки по дням и группам тестирования."
   ]
  },
  {
   "cell_type": "code",
   "execution_count": 24,
   "metadata": {},
   "outputs": [
    {
     "data": {
      "image/png": "[encoded data removed]",
      "text/plain": [
       "<Figure size 1080x432 with 1 Axes>"
      ]
     },
     "metadata": {
      "needs_background": "light"
     },
     "output_type": "display_data"
    }
   ],
   "source": [
    "plt.figure(figsize=[15,6])\n",
    "\n",
    "sns.lineplot(x = cumulative_revenue_a['date'], y = cumulative_revenue_a['revenue'], label = 'A')\n",
    "sns.lineplot(x = cumulative_revenue_b['date'], y = cumulative_revenue_b['revenue'], label = 'B')\n",
    "plt.title('График кумулятивной выручки по группам')\n",
    "plt.ylabel('Выручка')\n",
    "plt.xlabel('Дата')\n",
    "\n",
    "plt.show()"
   ]
  },
  {
   "cell_type": "markdown",
   "metadata": {},
   "source": [
    "Выручка каждой из групп стабильно растет вверх. Разве что график группы B в одной точке резко вырос вверх, что говорит об резком росте количестве заказов или появлении очень дорогих заказов в этом интервале времени."
   ]
  },
  {
   "cell_type": "markdown",
   "metadata": {},
   "source": [
    "### Кумулятивный средний чек по группам"
   ]
  },
  {
   "cell_type": "markdown",
   "metadata": {},
   "source": [
    "Посмотрим на график среднего чека по группам. Чтобы найти средний чек нужно разделить кумулятивную выручку на кумулятивое количество пользователей."
   ]
  },
  {
   "cell_type": "code",
   "execution_count": 25,
   "metadata": {},
   "outputs": [
    {
     "data": {
      "image/png": "[encoded data removed]",
      "text/plain": [
       "<Figure size 1080x432 with 1 Axes>"
      ]
     },
     "metadata": {
      "needs_background": "light"
     },
     "output_type": "display_data"
    }
   ],
   "source": [
    "plt.figure(figsize=[15,6])\n",
    "\n",
    "sns.lineplot(x = cumulative_revenue_a['date'], y = cumulative_revenue_a['revenue'] / cumulative_revenue_a['orders'], label = 'A')\n",
    "sns.lineplot(x = cumulative_revenue_b['date'], y = cumulative_revenue_b['revenue'] / cumulative_revenue_b['orders'], label = 'B')\n",
    "plt.title('График кумулятивного среднего чека по группам')\n",
    "plt.ylabel('Средний чек')\n",
    "plt.xlabel('Дата')\n",
    "\n",
    "plt.show()\n"
   ]
  },
  {
   "cell_type": "markdown",
   "metadata": {},
   "source": [
    "Ближе к концу теста средний чек группы А стабилизировался примерно на 7000, а средний чек группы В после резкого скачка постепенно идет на спад. Вероятно, что в середине теста в группе В были совершены дорогие заказы."
   ]
  },
  {
   "cell_type": "markdown",
   "metadata": {},
   "source": [
    "### Относительное изменения кумулятивного среднего чека группы B к группе A"
   ]
  },
  {
   "cell_type": "markdown",
   "metadata": {},
   "source": [
    "Посмотрим на разницу в группах по среднему чеку более наглядней. Для этого построим график относительного различия между группами по среднему чеку."
   ]
  },
  {
   "cell_type": "markdown",
   "metadata": {},
   "source": [
    "Объеденим данные по группам в одной таблице."
   ]
  },
  {
   "cell_type": "code",
   "execution_count": 26,
   "metadata": {},
   "outputs": [
    {
     "data": {
      "text/html": [
       "<div>\n",
       "<style scoped>\n",
       "    .dataframe tbody tr th:only-of-type {\n",
       "        vertical-align: middle;\n",
       "    }\n",
       "\n",
       "    .dataframe tbody tr th {\n",
       "        vertical-align: top;\n",
       "    }\n",
       "\n",
       "    .dataframe thead th {\n",
       "        text-align: right;\n",
       "    }\n",
       "</style>\n",
       "<table border=\"1\" class=\"dataframe\">\n",
       "  <thead>\n",
       "    <tr style=\"text-align: right;\">\n",
       "      <th></th>\n",
       "      <th>date</th>\n",
       "      <th>revenueA</th>\n",
       "      <th>ordersA</th>\n",
       "      <th>revenueB</th>\n",
       "      <th>ordersB</th>\n",
       "    </tr>\n",
       "  </thead>\n",
       "  <tbody>\n",
       "    <tr>\n",
       "      <td>0</td>\n",
       "      <td>2019-08-01</td>\n",
       "      <td>148579</td>\n",
       "      <td>24</td>\n",
       "      <td>101217</td>\n",
       "      <td>21</td>\n",
       "    </tr>\n",
       "    <tr>\n",
       "      <td>1</td>\n",
       "      <td>2019-08-02</td>\n",
       "      <td>242401</td>\n",
       "      <td>44</td>\n",
       "      <td>266748</td>\n",
       "      <td>45</td>\n",
       "    </tr>\n",
       "    <tr>\n",
       "      <td>2</td>\n",
       "      <td>2019-08-03</td>\n",
       "      <td>354874</td>\n",
       "      <td>68</td>\n",
       "      <td>380996</td>\n",
       "      <td>61</td>\n",
       "    </tr>\n",
       "    <tr>\n",
       "      <td>3</td>\n",
       "      <td>2019-08-04</td>\n",
       "      <td>425699</td>\n",
       "      <td>84</td>\n",
       "      <td>489567</td>\n",
       "      <td>78</td>\n",
       "    </tr>\n",
       "    <tr>\n",
       "      <td>4</td>\n",
       "      <td>2019-08-05</td>\n",
       "      <td>549917</td>\n",
       "      <td>109</td>\n",
       "      <td>581995</td>\n",
       "      <td>101</td>\n",
       "    </tr>\n",
       "  </tbody>\n",
       "</table>\n",
       "</div>"
      ],
      "text/plain": [
       "        date  revenueA  ordersA  revenueB  ordersB\n",
       "0 2019-08-01  148579    24       101217    21     \n",
       "1 2019-08-02  242401    44       266748    45     \n",
       "2 2019-08-03  354874    68       380996    61     \n",
       "3 2019-08-04  425699    84       489567    78     \n",
       "4 2019-08-05  549917    109      581995    101    "
      ]
     },
     "execution_count": 26,
     "metadata": {},
     "output_type": "execute_result"
    }
   ],
   "source": [
    "merged_cumulative_revenue = cumulative_revenue_a.merge(cumulative_revenue_b,\n",
    "                                                           left_on='date', \n",
    "                                                           right_on='date', \n",
    "                                                           how='left', \n",
    "                                                           suffixes=['A', 'B'])\n",
    "merged_cumulative_revenue.head()"
   ]
  },
  {
   "cell_type": "markdown",
   "metadata": {},
   "source": [
    "Построим график относительного различия."
   ]
  },
  {
   "cell_type": "code",
   "execution_count": 27,
   "metadata": {
    "scrolled": false
   },
   "outputs": [
    {
     "data": {
      "image/png": "[encoded data removed]",
      "text/plain": [
       "<Figure size 1080x432 with 1 Axes>"
      ]
     },
     "metadata": {
      "needs_background": "light"
     },
     "output_type": "display_data"
    }
   ],
   "source": [
    "plt.figure(figsize=[15,6])\n",
    "\n",
    "plt.plot(merged_cumulative_revenue['date'], \n",
    "        (merged_cumulative_revenue['revenueB']/merged_cumulative_revenue['ordersB'])/(merged_cumulative_revenue['revenueA']/merged_cumulative_revenue['ordersA'])-1)\n",
    "\n",
    "plt.title('График относительного изменения кумулятивного среднего чека группы B к группе A')\n",
    "\n",
    "plt.xlabel('Дата')\n",
    "plt.ylabel('Относительный средний чек')\n",
    "\n",
    "plt.axhline(y=0, color='black', linestyle='--')\n",
    "\n",
    "plt.show()"
   ]
  },
  {
   "cell_type": "markdown",
   "metadata": {},
   "source": [
    "График характеризуется резкими скачками. На данном временном интервале большую часть времени лидирует группа В."
   ]
  },
  {
   "cell_type": "markdown",
   "metadata": {},
   "source": [
    "### Кумулятивная конверсия по группам"
   ]
  },
  {
   "cell_type": "markdown",
   "metadata": {},
   "source": [
    "Посчитаем конверсию, разделим количество заказов на количество посетителей. Затем разделим таблицу на две по группам."
   ]
  },
  {
   "cell_type": "code",
   "execution_count": 28,
   "metadata": {},
   "outputs": [],
   "source": [
    "cumulative_data['conversion'] = cumulative_data['orders'] / cumulative_data['visitors']\n",
    "\n",
    "cumulative_data_a = cumulative_data[cumulative_data['group'] == 'A']\n",
    "\n",
    "cumulative_data_b = cumulative_data[cumulative_data['group'] == 'B']"
   ]
  },
  {
   "cell_type": "markdown",
   "metadata": {},
   "source": [
    "Построим график кумулятивной конверсии по группам."
   ]
  },
  {
   "cell_type": "code",
   "execution_count": 29,
   "metadata": {},
   "outputs": [
    {
     "data": {
      "image/png": "[encoded data removed]",
      "text/plain": [
       "<Figure size 1080x432 with 1 Axes>"
      ]
     },
     "metadata": {
      "needs_background": "light"
     },
     "output_type": "display_data"
    }
   ],
   "source": [
    "plt.figure(figsize=[15,6])\n",
    "\n",
    "sns.lineplot(x = cumulative_data_a['date'], y = cumulative_data_a['conversion'], label = 'A')\n",
    "sns.lineplot(x = cumulative_data_b['date'], y = cumulative_data_b['conversion'], label = 'B')\n",
    "plt.title('График кумулятивной конверсии по группам')\n",
    "plt.ylabel('Конверсия')\n",
    "plt.xlabel('Дата')\n",
    "\n",
    "plt.show()"
   ]
  },
  {
   "cell_type": "markdown",
   "metadata": {},
   "source": [
    "После резких колебаний в обоих группах графики постепенно стабилизировались в значениях 0,034(B) и 0,030(А). Группа В опять показала себя лучше."
   ]
  },
  {
   "cell_type": "markdown",
   "metadata": {},
   "source": [
    "### Относительное изменение кумулятивной конверсии по группам"
   ]
  },
  {
   "cell_type": "markdown",
   "metadata": {},
   "source": [
    "Объеденим таблицы с кумулятивными конверсиями."
   ]
  },
  {
   "cell_type": "code",
   "execution_count": 30,
   "metadata": {},
   "outputs": [
    {
     "data": {
      "text/html": [
       "<div>\n",
       "<style scoped>\n",
       "    .dataframe tbody tr th:only-of-type {\n",
       "        vertical-align: middle;\n",
       "    }\n",
       "\n",
       "    .dataframe tbody tr th {\n",
       "        vertical-align: top;\n",
       "    }\n",
       "\n",
       "    .dataframe thead th {\n",
       "        text-align: right;\n",
       "    }\n",
       "</style>\n",
       "<table border=\"1\" class=\"dataframe\">\n",
       "  <thead>\n",
       "    <tr style=\"text-align: right;\">\n",
       "      <th></th>\n",
       "      <th>date</th>\n",
       "      <th>conversionA</th>\n",
       "      <th>conversionB</th>\n",
       "    </tr>\n",
       "  </thead>\n",
       "  <tbody>\n",
       "    <tr>\n",
       "      <td>0</td>\n",
       "      <td>2019-08-01</td>\n",
       "      <td>0.033380</td>\n",
       "      <td>0.029453</td>\n",
       "    </tr>\n",
       "    <tr>\n",
       "      <td>1</td>\n",
       "      <td>2019-08-02</td>\n",
       "      <td>0.032885</td>\n",
       "      <td>0.034776</td>\n",
       "    </tr>\n",
       "    <tr>\n",
       "      <td>2</td>\n",
       "      <td>2019-08-03</td>\n",
       "      <td>0.036856</td>\n",
       "      <td>0.033833</td>\n",
       "    </tr>\n",
       "    <tr>\n",
       "      <td>3</td>\n",
       "      <td>2019-08-04</td>\n",
       "      <td>0.032787</td>\n",
       "      <td>0.030315</td>\n",
       "    </tr>\n",
       "    <tr>\n",
       "      <td>4</td>\n",
       "      <td>2019-08-05</td>\n",
       "      <td>0.032851</td>\n",
       "      <td>0.030793</td>\n",
       "    </tr>\n",
       "  </tbody>\n",
       "</table>\n",
       "</div>"
      ],
      "text/plain": [
       "        date  conversionA  conversionB\n",
       "0 2019-08-01  0.033380     0.029453   \n",
       "1 2019-08-02  0.032885     0.034776   \n",
       "2 2019-08-03  0.036856     0.033833   \n",
       "3 2019-08-04  0.032787     0.030315   \n",
       "4 2019-08-05  0.032851     0.030793   "
      ]
     },
     "execution_count": 30,
     "metadata": {},
     "output_type": "execute_result"
    }
   ],
   "source": [
    "merged_сummulative_сonversions = cumulative_data_a[['date','conversion']].merge(cumulative_data_b[['date','conversion']], \n",
    "                                                                                left_on='date', \n",
    "                                                                                right_on='date', \n",
    "                                                                                how='left', \n",
    "                                                                                suffixes=['A', 'B'])\n",
    "merged_сummulative_сonversions.head()"
   ]
  },
  {
   "cell_type": "markdown",
   "metadata": {},
   "source": [
    "Построим график относительного изменения кумулятивной конверсии."
   ]
  },
  {
   "cell_type": "code",
   "execution_count": 31,
   "metadata": {},
   "outputs": [
    {
     "data": {
      "image/png": "[encoded data removed]",
      "text/plain": [
       "<Figure size 1080x432 with 1 Axes>"
      ]
     },
     "metadata": {
      "needs_background": "light"
     },
     "output_type": "display_data"
    }
   ],
   "source": [
    "plt.figure(figsize=[15,6])\n",
    "\n",
    "plt.plot(merged_сummulative_сonversions['date'], \n",
    "        (merged_сummulative_сonversions['conversionB']/merged_сummulative_сonversions['conversionA'])-1)\n",
    "\n",
    "plt.title('График относительного изменения кумулятивной конверсии группы B к группе A')\n",
    "\n",
    "plt.xlabel('Дата')\n",
    "plt.ylabel('Относительная конверсия')\n",
    "\n",
    "plt.axhline(y=0, color='black', linestyle='--')\n",
    "plt.axhline(y=0.14, color='grey', linestyle='--')\n",
    "\n",
    "plt.show()"
   ]
  },
  {
   "cell_type": "markdown",
   "metadata": {},
   "source": [
    "Практически с самого начала лидирует группа В по конверсии. В конце теста значение конверсии группы В лучше на 14%, чем значение конверсии группы А."
   ]
  },
  {
   "cell_type": "markdown",
   "metadata": {},
   "source": [
    "### Анализ аномальных значений количества заказов по пользователям"
   ]
  },
  {
   "cell_type": "markdown",
   "metadata": {},
   "source": [
    "Найдем число заказов по пользователям."
   ]
  },
  {
   "cell_type": "code",
   "execution_count": 32,
   "metadata": {},
   "outputs": [
    {
     "data": {
      "text/html": [
       "<div>\n",
       "<style scoped>\n",
       "    .dataframe tbody tr th:only-of-type {\n",
       "        vertical-align: middle;\n",
       "    }\n",
       "\n",
       "    .dataframe tbody tr th {\n",
       "        vertical-align: top;\n",
       "    }\n",
       "\n",
       "    .dataframe thead th {\n",
       "        text-align: right;\n",
       "    }\n",
       "</style>\n",
       "<table border=\"1\" class=\"dataframe\">\n",
       "  <thead>\n",
       "    <tr style=\"text-align: right;\">\n",
       "      <th></th>\n",
       "      <th>visitor_id</th>\n",
       "      <th>orders</th>\n",
       "    </tr>\n",
       "  </thead>\n",
       "  <tbody>\n",
       "    <tr>\n",
       "      <td>1023</td>\n",
       "      <td>4256040402</td>\n",
       "      <td>11</td>\n",
       "    </tr>\n",
       "    <tr>\n",
       "      <td>591</td>\n",
       "      <td>2458001652</td>\n",
       "      <td>11</td>\n",
       "    </tr>\n",
       "    <tr>\n",
       "      <td>569</td>\n",
       "      <td>2378935119</td>\n",
       "      <td>9</td>\n",
       "    </tr>\n",
       "    <tr>\n",
       "      <td>487</td>\n",
       "      <td>2038680547</td>\n",
       "      <td>8</td>\n",
       "    </tr>\n",
       "    <tr>\n",
       "      <td>44</td>\n",
       "      <td>199603092</td>\n",
       "      <td>5</td>\n",
       "    </tr>\n",
       "  </tbody>\n",
       "</table>\n",
       "</div>"
      ],
      "text/plain": [
       "      visitor_id  orders\n",
       "1023  4256040402  11    \n",
       "591   2458001652  11    \n",
       "569   2378935119  9     \n",
       "487   2038680547  8     \n",
       "44    199603092   5     "
      ]
     },
     "execution_count": 32,
     "metadata": {},
     "output_type": "execute_result"
    }
   ],
   "source": [
    "orders_by_users = (\n",
    "    df_orders.drop(['group', 'revenue', 'date'], axis=1)\n",
    "    .groupby('visitor_id', as_index=False)\n",
    "    .agg({'transaction_id': pd.Series.nunique})\n",
    ")\n",
    "\n",
    "orders_by_users.columns = ['visitor_id', 'orders']\n",
    "\n",
    "orders_by_users.sort_values(by='orders',ascending=False).head(5)"
   ]
  },
  {
   "cell_type": "markdown",
   "metadata": {},
   "source": [
    "Построим точечный график количества заказов по пользователям."
   ]
  },
  {
   "cell_type": "code",
   "execution_count": 33,
   "metadata": {},
   "outputs": [
    {
     "data": {
      "image/png": "[encoded data removed]",
      "text/plain": [
       "<Figure size 432x288 with 1 Axes>"
      ]
     },
     "metadata": {
      "needs_background": "light"
     },
     "output_type": "display_data"
    }
   ],
   "source": [
    "x_values = pd.Series(range(0, len(orders_by_users)))\n",
    "\n",
    "plt.scatter(x_values, orders_by_users['orders'])\n",
    "\n",
    "plt.title('Точечный график количества заказов по пользователям')\n",
    "plt.ylabel('Число заказов на одного пользователя')\n",
    "plt.xlabel('Индекс пользователя')\n",
    "\n",
    "plt.show()"
   ]
  },
  {
   "cell_type": "code",
   "execution_count": 34,
   "metadata": {},
   "outputs": [],
   "source": [
    "orders_by_users_ad = (\n",
    "    df_orders.drop(['revenue', 'date'], axis=1)\n",
    "    .groupby(['visitor_id', 'group'], as_index=False)\n",
    "    .agg({'transaction_id': pd.Series.nunique})\n",
    ")\n",
    "\n",
    "\n",
    "orders_by_users_ad_a = orders_by_users_ad[orders_by_users_ad['group'] == 'A'].drop('group', axis = 1)\n",
    "orders_by_users_ad_b = orders_by_users_ad[orders_by_users_ad['group'] == 'B'].drop('group', axis = 1)\n",
    "\n",
    "orders_by_users_ad_a.columns = ['visitor_id', 'orders']\n",
    "orders_by_users_ad_b.columns = ['visitor_id', 'orders']"
   ]
  },
  {
   "cell_type": "code",
   "execution_count": 35,
   "metadata": {},
   "outputs": [
    {
     "data": {
      "image/png": "[encoded data removed]",
      "text/plain": [
       "<Figure size 432x288 with 1 Axes>"
      ]
     },
     "metadata": {
      "needs_background": "light"
     },
     "output_type": "display_data"
    }
   ],
   "source": [
    "x_values_a = pd.Series(range(0, len(orders_by_users_ad_a)))\n",
    "\n",
    "plt.scatter(x_values_a, orders_by_users_ad_a['orders'], c = 'coral', label = 'A')\n",
    "\n",
    "x_values_b = pd.Series(range(0, len(orders_by_users_ad_b)))\n",
    "\n",
    "plt.scatter(x_values_b, orders_by_users_ad_b['orders'], c = 'lightblue', label = 'B')\n",
    "\n",
    "plt.legend()\n",
    "\n",
    "plt.title('Точечный график количества заказов по пользователям')\n",
    "plt.ylabel('Число заказов на одного пользователя')\n",
    "plt.xlabel('Индекс пользователя')\n",
    "\n",
    "plt.show()"
   ]
  },
  {
   "cell_type": "markdown",
   "metadata": {},
   "source": [
    "Пользователей, заказавших более двух раз не так много. Чтобы узнать точно аномальные значения посчитаем перцентили."
   ]
  },
  {
   "cell_type": "code",
   "execution_count": 36,
   "metadata": {},
   "outputs": [
    {
     "data": {
      "text/plain": [
       "array([2., 4.])"
      ]
     },
     "execution_count": 36,
     "metadata": {},
     "output_type": "execute_result"
    }
   ],
   "source": [
    "np.percentile(orders_by_users['orders'], [95, 99])"
   ]
  },
  {
   "cell_type": "markdown",
   "metadata": {},
   "source": [
    "Только 1% процент пользователей совершали более 4-х заказов и 5% процентов пользователей заказывали больше 2-х заказов. Определим 2 заказа на одного пользователя за нижнюю границу числа заказов."
   ]
  },
  {
   "cell_type": "markdown",
   "metadata": {},
   "source": [
    "### Анализ аномальных значений стоимостей заказов"
   ]
  },
  {
   "cell_type": "markdown",
   "metadata": {},
   "source": [
    "Построим точечный график стоимостей заказов."
   ]
  },
  {
   "cell_type": "code",
   "execution_count": 37,
   "metadata": {},
   "outputs": [
    {
     "data": {
      "image/png": "[encoded data removed]",
      "text/plain": [
       "<Figure size 432x288 with 1 Axes>"
      ]
     },
     "metadata": {
      "needs_background": "light"
     },
     "output_type": "display_data"
    }
   ],
   "source": [
    "x_values = pd.Series(range(0, len(df_orders['revenue'])))\n",
    "\n",
    "plt.scatter(x_values, df_orders['revenue'])\n",
    "\n",
    "plt.title('Точечный график стоимостей заказов')\n",
    "plt.ylabel('Стоимость заказа')\n",
    "plt.xlabel('Индекс заказа')\n",
    "\n",
    "plt.show()"
   ]
  },
  {
   "cell_type": "code",
   "execution_count": 38,
   "metadata": {},
   "outputs": [
    {
     "data": {
      "text/plain": [
       "<Figure size 432x360 with 0 Axes>"
      ]
     },
     "metadata": {},
     "output_type": "display_data"
    },
    {
     "data": {
      "image/png": "[encoded data removed]",
      "text/plain": [
       "<Figure size 1080x288 with 2 Axes>"
      ]
     },
     "metadata": {
      "needs_background": "light"
     },
     "output_type": "display_data"
    }
   ],
   "source": [
    "x_values = pd.Series(range(0, len(df_orders['revenue'])))\n",
    "\n",
    "plt.figure().set_figheight(5)\n",
    "plt.figure().set_figwidth(15)\n",
    "\n",
    "plt.subplot(1, 2, 1)\n",
    "plt.scatter(x_values, df_orders['revenue'])\n",
    "plt.title('Без ограничений по оси Y')\n",
    "plt.ylabel('Стоимость заказа')\n",
    "plt.xlabel('Индекс заказа')\n",
    "\n",
    "plt.subplot(1, 2, 2)\n",
    "plt.scatter(x_values, df_orders['revenue'])\n",
    "plt.ylim([0, 210000])\n",
    "plt.title('С ограничением по оси Y')\n",
    "plt.ylabel('Стоимость заказа')\n",
    "plt.xlabel('Индекс заказа')\n",
    "\n",
    "plt.suptitle('Точечный график стоимостей заказов')\n",
    "plt.show()"
   ]
  },
  {
   "cell_type": "markdown",
   "metadata": {},
   "source": [
    "Все заказы в пределах стоимости около 100000 кроме одного, стоимость которого более 1200000. Именно этот заказ создавал резкие скачки на предыдущих графиках. \n",
    "\n",
    "Посчитаем перцентили."
   ]
  },
  {
   "cell_type": "code",
   "execution_count": 39,
   "metadata": {},
   "outputs": [
    {
     "data": {
      "text/plain": [
       "array([28000. , 58233.2])"
      ]
     },
     "execution_count": 39,
     "metadata": {},
     "output_type": "execute_result"
    }
   ],
   "source": [
    "np.percentile(df_orders['revenue'], [95, 99])"
   ]
  },
  {
   "cell_type": "markdown",
   "metadata": {},
   "source": [
    "Только 5% процетнов пользователей совершали заказ на более 28000. Примем этот показатель за нижнюю границу стоимости заказа."
   ]
  },
  {
   "cell_type": "markdown",
   "metadata": {},
   "source": [
    "### Cтатистическая значимость различий в конверсии и в среднем чеке заказа между группами по «сырым» данным"
   ]
  },
  {
   "cell_type": "markdown",
   "metadata": {},
   "source": [
    "Посчитаем количество пользователей в выбранную дату `visitors_per_date` и количество пользователей до выбранной даты включительно `visitors_cummulative` для каждой из групп."
   ]
  },
  {
   "cell_type": "code",
   "execution_count": 40,
   "metadata": {},
   "outputs": [],
   "source": [
    "visitors_a_daily = df_visitors[df_visitors['group']=='A'][['date', 'visitors']]\n",
    "visitors_a_daily.columns = ['date', 'visitors_per_date_a']\n",
    "\n",
    "visitors_a_cummulative = visitors_a_daily.apply(lambda x: visitors_a_daily[visitors_a_daily['date'] <= x['date']]\\\n",
    "                                                .agg({'date' : 'max', 'visitors_per_date_a' : 'sum'}), axis=1)\n",
    "visitors_a_cummulative.columns = ['date', 'visitors_cummulative_a']\n",
    "\n",
    "visitors_b_daily = df_visitors[df_visitors['group']=='B'][['date', 'visitors']]\n",
    "visitors_b_daily.columns = ['date', 'visitors_per_date_b']\n",
    "\n",
    "visitors_b_cummulative = visitors_b_daily.apply(lambda x: visitors_b_daily[visitors_b_daily['date'] <= x['date']]\\\n",
    "                                                .agg({'date' : 'max', 'visitors_per_date_b' : 'sum'}), axis=1)\n",
    "visitors_b_cummulative.columns = ['date', 'visitors_cummulative_b']"
   ]
  },
  {
   "cell_type": "markdown",
   "metadata": {},
   "source": [
    "Посчитаем количество заказов в выбранную дату `orders_per_date` и суммарное количество заказов до выбранной даты включительно `orders_cummulative`, суммарную выручку в выбранную дату `revenue_per_date` и суммарную выручку до выбранной даты включительно `revenue_cummulative` для каждой из групп."
   ]
  },
  {
   "cell_type": "code",
   "execution_count": 41,
   "metadata": {},
   "outputs": [],
   "source": [
    "orders_a_daily = (\n",
    "    df_orders[df_orders['group'] == 'A'][['date', 'transaction_id', 'visitor_id', 'revenue']]\n",
    "    .groupby('date', as_index=False)\n",
    "    .agg({'transaction_id': pd.Series.nunique, 'revenue': 'sum'})\n",
    ")\n",
    "orders_a_daily.columns = ['date', 'orders_per_date_a', 'revenue_per_date_a']\n",
    "\n",
    "orders_a_cummulative = orders_a_daily.apply(\n",
    "    lambda x: orders_a_daily[orders_a_daily['date'] <= x['date']].agg(\n",
    "        {'date': 'max', 'orders_per_date_a': 'sum', 'revenue_per_date_a': 'sum'}\n",
    "    ),\n",
    "    axis=1,\n",
    ").sort_values(by=['date'])\n",
    "orders_a_cummulative.columns = ['date', 'orders_cummulative_a', 'revenue_cummulative_a']\n",
    "\n",
    "orders_b_daily = (\n",
    "    df_orders[df_orders['group'] == 'B'][['date', 'transaction_id', 'visitor_id', 'revenue']]\n",
    "    .groupby('date', as_index=False)\n",
    "    .agg({'transaction_id': pd.Series.nunique, 'revenue': 'sum'})\n",
    ")\n",
    "orders_b_daily.columns = ['date', 'orders_per_date_b', 'revenue_per_date_b']\n",
    "\n",
    "orders_b_cummulative = orders_b_daily.apply(\n",
    "    lambda x: orders_b_daily[orders_b_daily['date'] <= x['date']].agg(\n",
    "        {'date': 'max', 'orders_per_date_b': 'sum', 'revenue_per_date_b': 'sum'}\n",
    "    ),\n",
    "    axis=1,\n",
    ").sort_values(by=['date'])\n",
    "orders_b_cummulative.columns = ['date', 'orders_cummulative_b', 'revenue_cummulative_b']"
   ]
  },
  {
   "cell_type": "markdown",
   "metadata": {},
   "source": [
    "Объеденим все полученные значения в одну таблицу `data`."
   ]
  },
  {
   "cell_type": "code",
   "execution_count": 42,
   "metadata": {},
   "outputs": [
    {
     "data": {
      "text/html": [
       "<div>\n",
       "<style scoped>\n",
       "    .dataframe tbody tr th:only-of-type {\n",
       "        vertical-align: middle;\n",
       "    }\n",
       "\n",
       "    .dataframe tbody tr th {\n",
       "        vertical-align: top;\n",
       "    }\n",
       "\n",
       "    .dataframe thead th {\n",
       "        text-align: right;\n",
       "    }\n",
       "</style>\n",
       "<table border=\"1\" class=\"dataframe\">\n",
       "  <thead>\n",
       "    <tr style=\"text-align: right;\">\n",
       "      <th></th>\n",
       "      <th>date</th>\n",
       "      <th>orders_per_date_a</th>\n",
       "      <th>revenue_per_date_a</th>\n",
       "      <th>orders_per_date_b</th>\n",
       "      <th>revenue_per_date_b</th>\n",
       "      <th>orders_cummulative_a</th>\n",
       "      <th>revenue_cummulative_a</th>\n",
       "      <th>orders_cummulative_b</th>\n",
       "      <th>revenue_cummulative_b</th>\n",
       "      <th>visitors_per_date_a</th>\n",
       "      <th>visitors_per_date_b</th>\n",
       "      <th>visitors_cummulative_a</th>\n",
       "      <th>visitors_cummulative_b</th>\n",
       "    </tr>\n",
       "  </thead>\n",
       "  <tbody>\n",
       "    <tr>\n",
       "      <td>0</td>\n",
       "      <td>2019-08-01</td>\n",
       "      <td>24</td>\n",
       "      <td>148579</td>\n",
       "      <td>21</td>\n",
       "      <td>101217</td>\n",
       "      <td>24</td>\n",
       "      <td>148579</td>\n",
       "      <td>21</td>\n",
       "      <td>101217</td>\n",
       "      <td>719</td>\n",
       "      <td>713</td>\n",
       "      <td>719</td>\n",
       "      <td>713</td>\n",
       "    </tr>\n",
       "    <tr>\n",
       "      <td>1</td>\n",
       "      <td>2019-08-02</td>\n",
       "      <td>20</td>\n",
       "      <td>93822</td>\n",
       "      <td>24</td>\n",
       "      <td>165531</td>\n",
       "      <td>44</td>\n",
       "      <td>242401</td>\n",
       "      <td>45</td>\n",
       "      <td>266748</td>\n",
       "      <td>619</td>\n",
       "      <td>581</td>\n",
       "      <td>1338</td>\n",
       "      <td>1294</td>\n",
       "    </tr>\n",
       "    <tr>\n",
       "      <td>2</td>\n",
       "      <td>2019-08-03</td>\n",
       "      <td>24</td>\n",
       "      <td>112473</td>\n",
       "      <td>16</td>\n",
       "      <td>114248</td>\n",
       "      <td>68</td>\n",
       "      <td>354874</td>\n",
       "      <td>61</td>\n",
       "      <td>380996</td>\n",
       "      <td>507</td>\n",
       "      <td>509</td>\n",
       "      <td>1845</td>\n",
       "      <td>1803</td>\n",
       "    </tr>\n",
       "    <tr>\n",
       "      <td>3</td>\n",
       "      <td>2019-08-04</td>\n",
       "      <td>16</td>\n",
       "      <td>70825</td>\n",
       "      <td>17</td>\n",
       "      <td>108571</td>\n",
       "      <td>84</td>\n",
       "      <td>425699</td>\n",
       "      <td>78</td>\n",
       "      <td>489567</td>\n",
       "      <td>717</td>\n",
       "      <td>770</td>\n",
       "      <td>2562</td>\n",
       "      <td>2573</td>\n",
       "    </tr>\n",
       "    <tr>\n",
       "      <td>4</td>\n",
       "      <td>2019-08-05</td>\n",
       "      <td>25</td>\n",
       "      <td>124218</td>\n",
       "      <td>23</td>\n",
       "      <td>92428</td>\n",
       "      <td>109</td>\n",
       "      <td>549917</td>\n",
       "      <td>101</td>\n",
       "      <td>581995</td>\n",
       "      <td>756</td>\n",
       "      <td>707</td>\n",
       "      <td>3318</td>\n",
       "      <td>3280</td>\n",
       "    </tr>\n",
       "  </tbody>\n",
       "</table>\n",
       "</div>"
      ],
      "text/plain": [
       "        date  orders_per_date_a  revenue_per_date_a  orders_per_date_b  \\\n",
       "0 2019-08-01  24                 148579              21                  \n",
       "1 2019-08-02  20                 93822               24                  \n",
       "2 2019-08-03  24                 112473              16                  \n",
       "3 2019-08-04  16                 70825               17                  \n",
       "4 2019-08-05  25                 124218              23                  \n",
       "\n",
       "   revenue_per_date_b  orders_cummulative_a  revenue_cummulative_a  \\\n",
       "0  101217              24                    148579                  \n",
       "1  165531              44                    242401                  \n",
       "2  114248              68                    354874                  \n",
       "3  108571              84                    425699                  \n",
       "4  92428               109                   549917                  \n",
       "\n",
       "   orders_cummulative_b  revenue_cummulative_b  visitors_per_date_a  \\\n",
       "0  21                    101217                 719                   \n",
       "1  45                    266748                 619                   \n",
       "2  61                    380996                 507                   \n",
       "3  78                    489567                 717                   \n",
       "4  101                   581995                 756                   \n",
       "\n",
       "   visitors_per_date_b  visitors_cummulative_a  visitors_cummulative_b  \n",
       "0  713                  719                     713                     \n",
       "1  581                  1338                    1294                    \n",
       "2  509                  1845                    1803                    \n",
       "3  770                  2562                    2573                    \n",
       "4  707                  3318                    3280                    "
      ]
     },
     "execution_count": 42,
     "metadata": {},
     "output_type": "execute_result"
    }
   ],
   "source": [
    "data = (\n",
    "    orders_a_daily.merge(\n",
    "        orders_b_daily, left_on='date', right_on='date', how='left'\n",
    "    )\n",
    "    .merge(orders_a_cummulative, left_on='date', right_on='date', how='left')\n",
    "    .merge(orders_b_cummulative, left_on='date', right_on='date', how='left')\n",
    "    .merge(visitors_a_daily, left_on='date', right_on='date', how='left')\n",
    "    .merge(visitors_b_daily, left_on='date', right_on='date', how='left')\n",
    "    .merge(visitors_a_cummulative, left_on='date', right_on='date', how='left')\n",
    "    .merge(visitors_b_cummulative, left_on='date', right_on='date', how='left')\n",
    ")\n",
    "\n",
    "data.head()"
   ]
  },
  {
   "cell_type": "markdown",
   "metadata": {},
   "source": [
    "Создадим таблицы, где для пользователей, совершивших хотя бы один заказ, будет указано число заказов."
   ]
  },
  {
   "cell_type": "code",
   "execution_count": 43,
   "metadata": {},
   "outputs": [],
   "source": [
    "orders_by_users_a = (\n",
    "    df_orders[df_orders['group'] == 'A']\n",
    "    .groupby('visitor_id', as_index=False)\n",
    "    .agg({'transaction_id': pd.Series.nunique})\n",
    ")\n",
    "orders_by_users_a.columns = ['visitor_id', 'orders']\n",
    "\n",
    "orders_by_users_b = (\n",
    "    df_orders[df_orders['group'] == 'B']\n",
    "    .groupby('visitor_id', as_index=False)\n",
    "    .agg({'transaction_id': pd.Series.nunique})\n",
    ")\n",
    "orders_by_users_b.columns = ['visitor_id', 'orders']"
   ]
  },
  {
   "cell_type": "markdown",
   "metadata": {},
   "source": [
    "Создадим переменные `sample_a` и `sample_b`, в которых пользователям с заказами будет соответствовать число заказов пользователя, а пользователям без заказов — нули."
   ]
  },
  {
   "cell_type": "code",
   "execution_count": 44,
   "metadata": {},
   "outputs": [],
   "source": [
    "sample_a = pd.concat([orders_by_users_a['orders'], \n",
    "                      pd.Series(0, \n",
    "                                index=np.arange(data['visitors_per_date_a'].sum() - len(orders_by_users_a['orders'])), \n",
    "                                name='orders')], axis=0)\n",
    "\n",
    "sample_b = pd.concat([orders_by_users_b['orders'], \n",
    "                      pd.Series(0, \n",
    "                                index=np.arange(data['visitors_per_date_b'].sum() - len(orders_by_users_b['orders'])), \n",
    "                                name='orders')], axis=0)"
   ]
  },
  {
   "cell_type": "markdown",
   "metadata": {},
   "source": [
    "С помощью теста Манна-Уитни посчитаем статистическую значимость различия конверсии.\n",
    "\n",
    "**Нулевая гипотеза:** конверсии в группах А и В по \"сырым\" данным не отличаются.\n",
    "    \n",
    "**Альтернативная гипотеза:** конверсии в группах А и В по \"сырым\" данным отличаются.\n",
    "    \n",
    "**Уровень статистической зачимости:** 5%.\n"
   ]
  },
  {
   "cell_type": "code",
   "execution_count": 45,
   "metadata": {},
   "outputs": [
    {
     "name": "stdout",
     "output_type": "stream",
     "text": [
      "p-value: 0.017\n",
      "Относительное различие в конверсии между группами: 0.138\n"
     ]
    }
   ],
   "source": [
    "print('p-value: {0:.3f}'.format(st.mannwhitneyu(sample_a, sample_b, alternative = 'two-sided')[1]))\n",
    "print('Относительное различие в конверсии между группами: {0:.3f}'.format(sample_b.mean()/sample_a.mean()-1))"
   ]
  },
  {
   "cell_type": "markdown",
   "metadata": {},
   "source": [
    "Значение p-value значительно меньше 0.05, поэтому отвергаем нулевую гипотезу. Значит статистических значимых различия в конверсии между группами присутствуют. Относительный выйгрыш группы В равен 13.8%."
   ]
  },
  {
   "cell_type": "markdown",
   "metadata": {},
   "source": [
    "Посчитаем статистическую значимость различия средних чеков между группами.\n",
    "\n",
    "**Нулевая гипотеза:** средний чек в группах А и В по \"сырым\" данным не отличается.\n",
    "    \n",
    "**Альтернативная гипотеза:** средний чек в группах А и В по \"сырым\" данным отличается.\n",
    "    \n",
    "**Уровень статистической зачимости:** 5%."
   ]
  },
  {
   "cell_type": "code",
   "execution_count": 46,
   "metadata": {},
   "outputs": [
    {
     "name": "stdout",
     "output_type": "stream",
     "text": [
      "p-value: 0.729\n",
      "Относительное различие в среднем чеке между группами: 0.259\n"
     ]
    }
   ],
   "source": [
    "print('p-value: {0:.3f}'.format(st.mannwhitneyu(df_orders[df_orders['group']=='A']['revenue'], df_orders[df_orders['group']=='B']['revenue'], alternative = 'two-sided')[1]))\n",
    "print('Относительное различие в среднем чеке между группами: {0:.3f}'.format(df_orders[df_orders['group']=='B']['revenue'].mean()/df_orders[df_orders['group']=='A']['revenue'].mean()-1)) "
   ]
  },
  {
   "cell_type": "markdown",
   "metadata": {},
   "source": [
    "Значение p-value значительно больше 0.05, поэтому мы не можем отвергнуть нулевую гипотезу, хотя средний чек группы В больше на 25.9%."
   ]
  },
  {
   "cell_type": "markdown",
   "metadata": {},
   "source": [
    "### Cтатистическая значимость различий в конверсии и в среднем чеке заказа между группами по «очищенным» данным"
   ]
  },
  {
   "cell_type": "markdown",
   "metadata": {},
   "source": [
    "Для начала сделаем срезы по выбранным границам. Мы приняли, что аномальное количество заказов начинается от 2, а стоимость от 28000. Найдем всех пользователей с аномальными значениями."
   ]
  },
  {
   "cell_type": "code",
   "execution_count": 47,
   "metadata": {},
   "outputs": [
    {
     "data": {
      "text/plain": [
       "1099    148427295 \n",
       "18      199603092 \n",
       "928     204675465 \n",
       "23      237748145 \n",
       "37      249864742 \n",
       "          ...     \n",
       "723     4009017467\n",
       "627     4120364173\n",
       "743     4133034833\n",
       "499     4256040402\n",
       "662     4266935830\n",
       "Name: visitor_id, Length: 74, dtype: int64"
      ]
     },
     "execution_count": 47,
     "metadata": {},
     "output_type": "execute_result"
    }
   ],
   "source": [
    "users_wth_many_orders = pd.concat(\n",
    "    [orders_by_users_a[orders_by_users_a['orders'] > 2]['visitor_id'], \n",
    "     orders_by_users_b[orders_by_users_b['orders'] > 2]['visitor_id']], axis=0)\n",
    "\n",
    "users_with_expensive_orders = df_orders[df_orders['revenue'] > 28000]['visitor_id']\n",
    "\n",
    "abnormal_users = pd.concat([users_wth_many_orders, users_with_expensive_orders], axis=0).drop_duplicates().sort_values()\n",
    "\n",
    "abnormal_users"
   ]
  },
  {
   "cell_type": "markdown",
   "metadata": {},
   "source": [
    "Таких пользователей оказалось 74."
   ]
  },
  {
   "cell_type": "markdown",
   "metadata": {},
   "source": [
    "Создадим переменные `sample_a_filtered` и `sample_b_filtered`, в которых сохраним очищенные данные о заказах — не включая аномальных пользователей."
   ]
  },
  {
   "cell_type": "code",
   "execution_count": 48,
   "metadata": {},
   "outputs": [],
   "source": [
    "sample_a_filtered = pd.concat([orders_by_users_a[np.logical_not(orders_by_users_a['visitor_id'].isin(abnormal_users))]['orders'],\n",
    "                             pd.Series(0, index=np.arange(data['visitors_per_date_a'].sum() - len(orders_by_users_a['orders'])),\n",
    "                                       name='orders')],axis=0)\n",
    "\n",
    "sample_b_filtered = pd.concat([orders_by_users_b[np.logical_not(orders_by_users_b['visitor_id'].isin(abnormal_users))]['orders'],\n",
    "                             pd.Series(0, index=np.arange(data['visitors_per_date_b'].sum() - len(orders_by_users_b['orders'])),\n",
    "                                       name='orders')],axis=0)"
   ]
  },
  {
   "cell_type": "markdown",
   "metadata": {},
   "source": [
    "С помощью теста Манна-Уитни посчитаем статистическую значимость различия конверсии.\n",
    "\n",
    "**Нулевая гипотеза:** конверсии в группах А и В по \"очищенным\" данным не отличаются.\n",
    "    \n",
    "**Альтернативная гипотеза:** конверсии в группах А и В по \"очищенным\" данным отличаются.\n",
    "    \n",
    "**Уровень статистической зачимости:** 5%."
   ]
  },
  {
   "cell_type": "code",
   "execution_count": 49,
   "metadata": {},
   "outputs": [
    {
     "name": "stdout",
     "output_type": "stream",
     "text": [
      "p-value: 0.013\n",
      "Относительное различие в конверсии между группами: 0.173\n"
     ]
    }
   ],
   "source": [
    "print('p-value: {0:.3f}'.format(st.mannwhitneyu(sample_a_filtered, sample_b_filtered, alternative = 'two-sided')[1]))\n",
    "print('Относительное различие в конверсии между группами: {0:.3f}'.format(sample_b_filtered.mean()/sample_a_filtered.mean()-1)) "
   ]
  },
  {
   "cell_type": "markdown",
   "metadata": {},
   "source": [
    "Значение p-value значительно меньше 0.05, поэтому отвергаем нулевую гипотезу. Значит статистических значимых различия в конверсии между группами присутствуют. Относительный выйгрыш группы В увеличился с 13.8% до 17.3%."
   ]
  },
  {
   "cell_type": "markdown",
   "metadata": {},
   "source": [
    "Посчитаем статистическую значимость различия средних чеков между группами.\n",
    "\n",
    "**Нулевая гипотеза:** средний чек в группах А и В по \"очищенным\" данным не отличается.\n",
    "    \n",
    "**Альтернативная гипотеза:** средний чек в группах А и В по \"очищенным\" данным отличается.\n",
    "    \n",
    "**Уровень статистической зачимости:** 5%."
   ]
  },
  {
   "cell_type": "code",
   "execution_count": 50,
   "metadata": {},
   "outputs": [
    {
     "name": "stdout",
     "output_type": "stream",
     "text": [
      "p-value: 0.738\n",
      "Относительное различие в среднем чеке между группами: -0.020\n"
     ]
    }
   ],
   "source": [
    "print('p-value: {0:.3f}'.format(st.mannwhitneyu(df_orders[np.logical_and(df_orders['group'] == 'A',\n",
    "                                                                np.logical_not(df_orders['visitor_id'].isin(abnormal_users)))]\\\n",
    "                                                ['revenue'], df_orders[np.logical_and(df_orders['group'] == 'B',\n",
    "                                                                np.logical_not(df_orders['visitor_id'].isin(abnormal_users)))]\\\n",
    "                                                ['revenue'], alternative = 'two-sided')[1]))\n",
    "\n",
    "print('Относительное различие в среднем чеке между группами: {0:.3f}'.format(df_orders[np.logical_and(df_orders['group'] == 'B',\n",
    "                np.logical_not(df_orders['visitor_id'].isin(abnormal_users)))]['revenue'].mean() / df_orders[np.logical_and(\n",
    "                df_orders['group'] == 'A',\n",
    "                np.logical_not(df_orders['visitor_id'].isin(abnormal_users)))]['revenue'].mean() - 1))"
   ]
  },
  {
   "cell_type": "markdown",
   "metadata": {},
   "source": [
    "Значение p-value значительно больше 0.05, поэтому мы не можем отвергнуть нулевую гипотезу. Средний чек группы В стал меньше, чем средний чек в группе А на 2%."
   ]
  },
  {
   "cell_type": "markdown",
   "metadata": {},
   "source": [
    "### Вывод"
   ]
  },
  {
   "cell_type": "markdown",
   "metadata": {},
   "source": [
    "* Есть статистически значимое различие по конверсии между группами как по сырым данным, так и после фильтрации аномалий.\n",
    "* Нет статистически значимых различий по среднему чеку между группами как по сырым данным, так и после фильтрации аномалий.\n",
    "* График различия конверсии между группами сообщает, что результаты группы B лучше группы A: имеют тенденцию к росту, либо зафиксировались около среднего значения равное около 0.14.\n",
    "* График различия среднего чека колеблется. Сделать из этого графика определённые выводы нельзя.\n",
    "\n",
    "\n",
    "Исходя из этого можно принять решение об остановке теста и объявить его успешным. Анализ теста показал, что группа В является более успешной. Конверсия в группе В больше на 17%, чем в группе А."
   ]
  },
  {
   "cell_type": "code",
   "execution_count": null,
   "metadata": {},
   "outputs": [],
   "source": []
  }
 ],
 "metadata": {
  "ExecuteTimeLog": [
   {
    "duration": 1527,
    "start_time": "2021-10-27T18:20:56.391Z"
   },
   {
    "duration": 30,
    "start_time": "2021-10-27T18:22:29.357Z"
   },
   {
    "duration": 7087,
    "start_time": "2021-10-27T18:23:02.028Z"
   },
   {
    "duration": 34,
    "start_time": "2021-10-27T18:23:12.508Z"
   },
   {
    "duration": 7355,
    "start_time": "2021-10-27T18:23:25.298Z"
   },
   {
    "duration": 10,
    "start_time": "2021-10-27T18:23:36.406Z"
   },
   {
    "duration": 113,
    "start_time": "2021-10-27T18:24:13.102Z"
   },
   {
    "duration": 11,
    "start_time": "2021-10-27T18:24:17.897Z"
   },
   {
    "duration": -294,
    "start_time": "2021-10-27T18:24:46.452Z"
   },
   {
    "duration": 6729,
    "start_time": "2021-10-27T18:24:56.797Z"
   },
   {
    "duration": 344,
    "start_time": "2021-10-27T18:25:27.565Z"
   },
   {
    "duration": 1430,
    "start_time": "2021-10-27T18:25:34.276Z"
   },
   {
    "duration": 39,
    "start_time": "2021-10-27T18:25:35.710Z"
   },
   {
    "duration": 6,
    "start_time": "2021-10-27T18:25:35.752Z"
   },
   {
    "duration": 424,
    "start_time": "2021-10-27T18:26:20.968Z"
   },
   {
    "duration": 6,
    "start_time": "2021-10-27T18:26:25.584Z"
   },
   {
    "duration": 10,
    "start_time": "2021-10-27T18:26:35.920Z"
   },
   {
    "duration": 11,
    "start_time": "2021-10-27T18:26:44.967Z"
   },
   {
    "duration": 4,
    "start_time": "2021-10-27T18:26:59.448Z"
   },
   {
    "duration": 11,
    "start_time": "2021-10-27T18:27:01.197Z"
   },
   {
    "duration": 8,
    "start_time": "2021-10-27T18:28:19.491Z"
   },
   {
    "duration": 1534,
    "start_time": "2021-10-27T18:31:04.591Z"
   },
   {
    "duration": 36,
    "start_time": "2021-10-27T18:31:06.127Z"
   },
   {
    "duration": 14,
    "start_time": "2021-10-27T18:31:06.166Z"
   },
   {
    "duration": 13,
    "start_time": "2021-10-27T18:31:06.183Z"
   },
   {
    "duration": 1608,
    "start_time": "2021-10-27T18:32:05.586Z"
   },
   {
    "duration": 52,
    "start_time": "2021-10-27T18:36:24.263Z"
   },
   {
    "duration": 6,
    "start_time": "2021-10-27T18:36:45.402Z"
   },
   {
    "duration": 43,
    "start_time": "2021-10-27T18:36:51.663Z"
   },
   {
    "duration": 5,
    "start_time": "2021-10-27T18:37:52.955Z"
   },
   {
    "duration": 25,
    "start_time": "2021-10-27T18:37:54.362Z"
   },
   {
    "duration": 70,
    "start_time": "2021-10-27T18:38:07.811Z"
   },
   {
    "duration": 9,
    "start_time": "2021-10-27T18:39:05.550Z"
   },
   {
    "duration": 6,
    "start_time": "2021-10-27T18:40:30.314Z"
   },
   {
    "duration": 309,
    "start_time": "2021-10-27T18:40:49.190Z"
   },
   {
    "duration": 652,
    "start_time": "2021-10-27T18:41:03.025Z"
   },
   {
    "duration": 17,
    "start_time": "2021-10-27T18:41:45.523Z"
   },
   {
    "duration": 13,
    "start_time": "2021-10-27T18:42:18.076Z"
   },
   {
    "duration": 13,
    "start_time": "2021-10-27T18:42:26.263Z"
   },
   {
    "duration": 19,
    "start_time": "2021-10-27T18:42:31.125Z"
   },
   {
    "duration": 14,
    "start_time": "2021-10-27T18:42:50.713Z"
   },
   {
    "duration": 13,
    "start_time": "2021-10-27T18:43:00.295Z"
   },
   {
    "duration": 15,
    "start_time": "2021-10-27T18:43:09.166Z"
   },
   {
    "duration": 294,
    "start_time": "2021-10-27T18:48:21.456Z"
   },
   {
    "duration": 320,
    "start_time": "2021-10-27T18:48:36.827Z"
   },
   {
    "duration": 12,
    "start_time": "2021-10-27T18:50:30.587Z"
   },
   {
    "duration": 7,
    "start_time": "2021-10-27T18:50:48.257Z"
   },
   {
    "duration": 24,
    "start_time": "2021-10-27T18:52:44.383Z"
   },
   {
    "duration": 287,
    "start_time": "2021-10-27T18:52:57.260Z"
   },
   {
    "duration": 325,
    "start_time": "2021-10-27T18:53:18.750Z"
   },
   {
    "duration": 469,
    "start_time": "2021-10-27T18:53:27.280Z"
   },
   {
    "duration": 22,
    "start_time": "2021-10-27T18:55:34.082Z"
   },
   {
    "duration": 5,
    "start_time": "2021-10-27T18:55:53.560Z"
   },
   {
    "duration": 10,
    "start_time": "2021-10-27T18:56:14.421Z"
   },
   {
    "duration": 1487,
    "start_time": "2021-10-27T18:56:22.429Z"
   },
   {
    "duration": 34,
    "start_time": "2021-10-27T18:56:23.919Z"
   },
   {
    "duration": 9,
    "start_time": "2021-10-27T18:56:23.956Z"
   },
   {
    "duration": 12,
    "start_time": "2021-10-27T18:56:23.967Z"
   },
   {
    "duration": 60,
    "start_time": "2021-10-27T18:56:23.981Z"
   },
   {
    "duration": 6,
    "start_time": "2021-10-27T18:56:24.043Z"
   },
   {
    "duration": 28,
    "start_time": "2021-10-27T18:56:24.051Z"
   },
   {
    "duration": 9,
    "start_time": "2021-10-27T18:56:24.082Z"
   },
   {
    "duration": 31,
    "start_time": "2021-10-27T18:56:24.093Z"
   },
   {
    "duration": 33,
    "start_time": "2021-10-27T18:56:24.127Z"
   },
   {
    "duration": 27,
    "start_time": "2021-10-27T18:56:24.163Z"
   },
   {
    "duration": 34,
    "start_time": "2021-10-27T18:58:33.565Z"
   },
   {
    "duration": 30,
    "start_time": "2021-10-27T18:58:51.109Z"
   },
   {
    "duration": 18,
    "start_time": "2021-10-27T18:59:11.101Z"
   },
   {
    "duration": 25,
    "start_time": "2021-10-27T19:00:44.361Z"
   },
   {
    "duration": 6,
    "start_time": "2021-10-27T19:01:20.654Z"
   },
   {
    "duration": 6,
    "start_time": "2021-10-27T19:06:25.675Z"
   },
   {
    "duration": 8,
    "start_time": "2021-10-27T19:06:34.082Z"
   },
   {
    "duration": 406,
    "start_time": "2021-10-27T19:09:28.988Z"
   },
   {
    "duration": 10,
    "start_time": "2021-10-27T19:09:48.678Z"
   },
   {
    "duration": 1441,
    "start_time": "2021-10-27T19:13:14.753Z"
   },
   {
    "duration": 32,
    "start_time": "2021-10-27T19:13:16.196Z"
   },
   {
    "duration": 10,
    "start_time": "2021-10-27T19:13:16.231Z"
   },
   {
    "duration": 9,
    "start_time": "2021-10-27T19:13:16.243Z"
   },
   {
    "duration": 41,
    "start_time": "2021-10-27T19:13:16.254Z"
   },
   {
    "duration": 5,
    "start_time": "2021-10-27T19:13:16.297Z"
   },
   {
    "duration": 27,
    "start_time": "2021-10-27T19:13:16.304Z"
   },
   {
    "duration": 6,
    "start_time": "2021-10-27T19:13:16.335Z"
   },
   {
    "duration": 9,
    "start_time": "2021-10-27T19:13:16.344Z"
   },
   {
    "duration": 21,
    "start_time": "2021-10-27T19:13:16.355Z"
   },
   {
    "duration": 22,
    "start_time": "2021-10-27T19:13:16.378Z"
   },
   {
    "duration": 7,
    "start_time": "2021-10-27T19:13:16.422Z"
   },
   {
    "duration": 16,
    "start_time": "2021-10-27T19:13:16.431Z"
   },
   {
    "duration": 16,
    "start_time": "2021-10-27T19:13:16.450Z"
   },
   {
    "duration": 1464,
    "start_time": "2021-10-27T19:13:30.027Z"
   },
   {
    "duration": 33,
    "start_time": "2021-10-27T19:13:31.494Z"
   },
   {
    "duration": 8,
    "start_time": "2021-10-27T19:13:31.530Z"
   },
   {
    "duration": 8,
    "start_time": "2021-10-27T19:13:31.541Z"
   },
   {
    "duration": 41,
    "start_time": "2021-10-27T19:13:31.551Z"
   },
   {
    "duration": 6,
    "start_time": "2021-10-27T19:13:31.595Z"
   },
   {
    "duration": 32,
    "start_time": "2021-10-27T19:13:31.603Z"
   },
   {
    "duration": 7,
    "start_time": "2021-10-27T19:13:31.639Z"
   },
   {
    "duration": 11,
    "start_time": "2021-10-27T19:13:31.648Z"
   },
   {
    "duration": 31,
    "start_time": "2021-10-27T19:13:31.661Z"
   },
   {
    "duration": 30,
    "start_time": "2021-10-27T19:13:31.695Z"
   },
   {
    "duration": 6,
    "start_time": "2021-10-27T19:13:31.727Z"
   },
   {
    "duration": 10,
    "start_time": "2021-10-27T19:13:31.735Z"
   },
   {
    "duration": 15,
    "start_time": "2021-10-27T19:13:31.747Z"
   },
   {
    "duration": 12,
    "start_time": "2021-10-27T19:31:09.662Z"
   },
   {
    "duration": 20,
    "start_time": "2021-10-27T19:32:07.868Z"
   },
   {
    "duration": 5,
    "start_time": "2021-10-27T19:32:35.804Z"
   },
   {
    "duration": 14,
    "start_time": "2021-10-27T19:33:17.782Z"
   },
   {
    "duration": 13,
    "start_time": "2021-10-27T19:33:38.101Z"
   },
   {
    "duration": 16,
    "start_time": "2021-10-27T19:34:00.131Z"
   },
   {
    "duration": 400,
    "start_time": "2021-10-27T19:34:56.223Z"
   },
   {
    "duration": 281,
    "start_time": "2021-10-27T19:35:33.174Z"
   },
   {
    "duration": 13,
    "start_time": "2021-10-27T19:37:42.228Z"
   },
   {
    "duration": 5,
    "start_time": "2021-10-27T19:37:52.138Z"
   },
   {
    "duration": 14,
    "start_time": "2021-10-27T19:37:56.629Z"
   },
   {
    "duration": 7,
    "start_time": "2021-10-27T19:38:44.489Z"
   },
   {
    "duration": 12,
    "start_time": "2021-10-27T19:38:47.149Z"
   },
   {
    "duration": 7,
    "start_time": "2021-10-27T19:39:20.810Z"
   },
   {
    "duration": 16,
    "start_time": "2021-10-27T19:39:25.950Z"
   },
   {
    "duration": 402,
    "start_time": "2021-10-27T19:39:35.798Z"
   },
   {
    "duration": 14,
    "start_time": "2021-10-27T19:39:47.410Z"
   },
   {
    "duration": 13,
    "start_time": "2021-10-27T19:40:10.516Z"
   },
   {
    "duration": 15,
    "start_time": "2021-10-27T19:42:23.354Z"
   },
   {
    "duration": 6,
    "start_time": "2021-10-27T19:45:14.756Z"
   },
   {
    "duration": 15,
    "start_time": "2021-10-27T19:46:08.126Z"
   },
   {
    "duration": 1487,
    "start_time": "2021-10-27T19:46:58.108Z"
   },
   {
    "duration": 31,
    "start_time": "2021-10-27T19:46:59.597Z"
   },
   {
    "duration": 13,
    "start_time": "2021-10-27T19:46:59.632Z"
   },
   {
    "duration": 5,
    "start_time": "2021-10-27T19:46:59.648Z"
   },
   {
    "duration": 41,
    "start_time": "2021-10-27T19:46:59.656Z"
   },
   {
    "duration": 5,
    "start_time": "2021-10-27T19:46:59.700Z"
   },
   {
    "duration": 28,
    "start_time": "2021-10-27T19:46:59.707Z"
   },
   {
    "duration": 8,
    "start_time": "2021-10-27T19:46:59.737Z"
   },
   {
    "duration": 9,
    "start_time": "2021-10-27T19:46:59.749Z"
   },
   {
    "duration": 18,
    "start_time": "2021-10-27T19:46:59.761Z"
   },
   {
    "duration": 43,
    "start_time": "2021-10-27T19:46:59.782Z"
   },
   {
    "duration": 6,
    "start_time": "2021-10-27T19:46:59.828Z"
   },
   {
    "duration": 14,
    "start_time": "2021-10-27T19:46:59.836Z"
   },
   {
    "duration": 15,
    "start_time": "2021-10-27T19:46:59.852Z"
   },
   {
    "duration": 7,
    "start_time": "2021-10-27T19:46:59.870Z"
   },
   {
    "duration": 51,
    "start_time": "2021-10-27T19:46:59.879Z"
   },
   {
    "duration": 1405,
    "start_time": "2021-10-27T19:48:30.678Z"
   },
   {
    "duration": 31,
    "start_time": "2021-10-27T19:48:32.085Z"
   },
   {
    "duration": 9,
    "start_time": "2021-10-27T19:48:32.124Z"
   },
   {
    "duration": 6,
    "start_time": "2021-10-27T19:48:32.135Z"
   },
   {
    "duration": 43,
    "start_time": "2021-10-27T19:48:32.143Z"
   },
   {
    "duration": 5,
    "start_time": "2021-10-27T19:48:32.189Z"
   },
   {
    "duration": 27,
    "start_time": "2021-10-27T19:48:32.197Z"
   },
   {
    "duration": 7,
    "start_time": "2021-10-27T19:48:32.226Z"
   },
   {
    "duration": 5,
    "start_time": "2021-10-27T19:48:32.236Z"
   },
   {
    "duration": 24,
    "start_time": "2021-10-27T19:48:32.244Z"
   },
   {
    "duration": 21,
    "start_time": "2021-10-27T19:48:32.270Z"
   },
   {
    "duration": 30,
    "start_time": "2021-10-27T19:48:32.294Z"
   },
   {
    "duration": 12,
    "start_time": "2021-10-27T19:48:32.326Z"
   },
   {
    "duration": 16,
    "start_time": "2021-10-27T19:48:32.340Z"
   },
   {
    "duration": 6,
    "start_time": "2021-10-27T19:48:32.359Z"
   },
   {
    "duration": 14,
    "start_time": "2021-10-27T19:48:32.367Z"
   },
   {
    "duration": 15,
    "start_time": "2021-10-27T19:51:12.579Z"
   },
   {
    "duration": 1498,
    "start_time": "2021-10-27T19:55:21.695Z"
   },
   {
    "duration": 31,
    "start_time": "2021-10-27T19:55:23.195Z"
   },
   {
    "duration": 15,
    "start_time": "2021-10-27T19:55:23.229Z"
   },
   {
    "duration": 23,
    "start_time": "2021-10-27T19:55:23.247Z"
   },
   {
    "duration": 54,
    "start_time": "2021-10-27T19:55:23.273Z"
   },
   {
    "duration": 5,
    "start_time": "2021-10-27T19:55:23.330Z"
   },
   {
    "duration": 30,
    "start_time": "2021-10-27T19:55:23.338Z"
   },
   {
    "duration": 7,
    "start_time": "2021-10-27T19:55:23.372Z"
   },
   {
    "duration": 9,
    "start_time": "2021-10-27T19:55:23.381Z"
   },
   {
    "duration": 18,
    "start_time": "2021-10-27T19:55:23.421Z"
   },
   {
    "duration": 38,
    "start_time": "2021-10-27T19:55:23.441Z"
   },
   {
    "duration": 6,
    "start_time": "2021-10-27T19:55:23.481Z"
   },
   {
    "duration": 14,
    "start_time": "2021-10-27T19:55:23.489Z"
   },
   {
    "duration": 20,
    "start_time": "2021-10-27T19:55:23.505Z"
   },
   {
    "duration": 17,
    "start_time": "2021-10-27T19:55:23.528Z"
   },
   {
    "duration": 26,
    "start_time": "2021-10-27T19:55:23.548Z"
   },
   {
    "duration": 23,
    "start_time": "2021-10-27T19:55:23.576Z"
   },
   {
    "duration": 1500,
    "start_time": "2021-10-27T19:56:03.987Z"
   },
   {
    "duration": 33,
    "start_time": "2021-10-27T19:56:05.490Z"
   },
   {
    "duration": 9,
    "start_time": "2021-10-27T19:56:05.526Z"
   },
   {
    "duration": 6,
    "start_time": "2021-10-27T19:56:05.538Z"
   },
   {
    "duration": 44,
    "start_time": "2021-10-27T19:56:05.546Z"
   },
   {
    "duration": 5,
    "start_time": "2021-10-27T19:56:05.593Z"
   },
   {
    "duration": 34,
    "start_time": "2021-10-27T19:56:05.601Z"
   },
   {
    "duration": 8,
    "start_time": "2021-10-27T19:56:05.638Z"
   },
   {
    "duration": 8,
    "start_time": "2021-10-27T19:56:05.649Z"
   },
   {
    "duration": 21,
    "start_time": "2021-10-27T19:56:05.660Z"
   },
   {
    "duration": 41,
    "start_time": "2021-10-27T19:56:05.684Z"
   },
   {
    "duration": 6,
    "start_time": "2021-10-27T19:56:05.728Z"
   },
   {
    "duration": 10,
    "start_time": "2021-10-27T19:56:05.736Z"
   },
   {
    "duration": 14,
    "start_time": "2021-10-27T19:56:05.749Z"
   },
   {
    "duration": 10,
    "start_time": "2021-10-27T19:56:05.765Z"
   },
   {
    "duration": 54,
    "start_time": "2021-10-27T19:56:05.778Z"
   },
   {
    "duration": 16,
    "start_time": "2021-10-27T19:56:05.835Z"
   },
   {
    "duration": 33,
    "start_time": "2021-10-27T20:10:23.524Z"
   },
   {
    "duration": 881,
    "start_time": "2021-10-27T20:11:15.204Z"
   },
   {
    "duration": 379,
    "start_time": "2021-10-27T20:11:32.345Z"
   },
   {
    "duration": 277,
    "start_time": "2021-10-27T20:11:43.584Z"
   },
   {
    "duration": 5,
    "start_time": "2021-10-27T20:12:28.323Z"
   },
   {
    "duration": 6,
    "start_time": "2021-10-27T20:12:31.634Z"
   },
   {
    "duration": 589,
    "start_time": "2021-10-27T20:13:02.094Z"
   },
   {
    "duration": 6,
    "start_time": "2021-10-27T20:13:14.587Z"
   },
   {
    "duration": 6,
    "start_time": "2021-10-27T20:25:24.104Z"
   },
   {
    "duration": 7,
    "start_time": "2021-10-27T20:25:29.735Z"
   },
   {
    "duration": 9,
    "start_time": "2021-10-27T20:25:42.763Z"
   },
   {
    "duration": 15,
    "start_time": "2021-10-27T20:26:24.679Z"
   },
   {
    "duration": 13,
    "start_time": "2021-10-27T20:26:52.001Z"
   },
   {
    "duration": 270,
    "start_time": "2021-10-27T20:27:24.038Z"
   },
   {
    "duration": 279,
    "start_time": "2021-10-27T20:27:36.856Z"
   },
   {
    "duration": 279,
    "start_time": "2021-10-27T20:27:43.278Z"
   },
   {
    "duration": 273,
    "start_time": "2021-10-27T20:27:54.855Z"
   },
   {
    "duration": 276,
    "start_time": "2021-10-27T20:28:04.277Z"
   },
   {
    "duration": 14,
    "start_time": "2021-10-27T20:28:07.007Z"
   },
   {
    "duration": 358,
    "start_time": "2021-10-27T20:28:42.815Z"
   },
   {
    "duration": 13,
    "start_time": "2021-10-27T20:28:58.146Z"
   },
   {
    "duration": 23,
    "start_time": "2021-10-27T20:29:55.675Z"
   },
   {
    "duration": 21,
    "start_time": "2021-10-27T20:30:26.386Z"
   },
   {
    "duration": 24,
    "start_time": "2021-10-27T20:30:37.888Z"
   },
   {
    "duration": 23,
    "start_time": "2021-10-27T20:30:51.054Z"
   },
   {
    "duration": 21,
    "start_time": "2021-10-27T20:31:03.186Z"
   },
   {
    "duration": 1486,
    "start_time": "2021-10-28T19:34:42.357Z"
   },
   {
    "duration": 30,
    "start_time": "2021-10-28T19:34:43.846Z"
   },
   {
    "duration": 9,
    "start_time": "2021-10-28T19:34:43.882Z"
   },
   {
    "duration": 5,
    "start_time": "2021-10-28T19:34:43.894Z"
   },
   {
    "duration": 39,
    "start_time": "2021-10-28T19:34:43.901Z"
   },
   {
    "duration": 6,
    "start_time": "2021-10-28T19:34:43.942Z"
   },
   {
    "duration": 43,
    "start_time": "2021-10-28T19:34:43.951Z"
   },
   {
    "duration": 6,
    "start_time": "2021-10-28T19:34:43.997Z"
   },
   {
    "duration": 6,
    "start_time": "2021-10-28T19:34:44.007Z"
   },
   {
    "duration": 19,
    "start_time": "2021-10-28T19:34:44.015Z"
   },
   {
    "duration": 46,
    "start_time": "2021-10-28T19:34:44.036Z"
   },
   {
    "duration": 5,
    "start_time": "2021-10-28T19:34:44.085Z"
   },
   {
    "duration": 10,
    "start_time": "2021-10-28T19:34:44.092Z"
   },
   {
    "duration": 12,
    "start_time": "2021-10-28T19:34:44.105Z"
   },
   {
    "duration": 6,
    "start_time": "2021-10-28T19:34:44.119Z"
   },
   {
    "duration": 17,
    "start_time": "2021-10-28T19:34:44.127Z"
   },
   {
    "duration": 49,
    "start_time": "2021-10-28T19:34:44.146Z"
   },
   {
    "duration": 17,
    "start_time": "2021-10-28T19:37:35.703Z"
   },
   {
    "duration": 16,
    "start_time": "2021-10-28T19:40:51.828Z"
   },
   {
    "duration": 26,
    "start_time": "2021-10-28T19:47:01.192Z"
   },
   {
    "duration": 27,
    "start_time": "2021-10-28T19:47:59.978Z"
   },
   {
    "duration": 20,
    "start_time": "2021-10-28T19:52:12.862Z"
   },
   {
    "duration": 25,
    "start_time": "2021-10-28T19:52:29.595Z"
   },
   {
    "duration": 18,
    "start_time": "2021-10-28T19:53:26.642Z"
   },
   {
    "duration": 33,
    "start_time": "2021-10-28T19:53:47.827Z"
   },
   {
    "duration": 361,
    "start_time": "2021-10-28T20:00:01.688Z"
   },
   {
    "duration": 341,
    "start_time": "2021-10-28T20:01:14.003Z"
   },
   {
    "duration": 340,
    "start_time": "2021-10-28T20:01:26.590Z"
   },
   {
    "duration": 339,
    "start_time": "2021-10-28T20:01:44.545Z"
   },
   {
    "duration": 360,
    "start_time": "2021-10-28T20:02:31.383Z"
   },
   {
    "duration": 341,
    "start_time": "2021-10-28T20:03:41.955Z"
   },
   {
    "duration": 293,
    "start_time": "2021-10-28T20:06:03.453Z"
   },
   {
    "duration": 25,
    "start_time": "2021-10-28T20:07:58.049Z"
   },
   {
    "duration": 25,
    "start_time": "2021-10-28T20:08:39.587Z"
   },
   {
    "duration": 1481,
    "start_time": "2021-10-28T20:13:16.673Z"
   },
   {
    "duration": 30,
    "start_time": "2021-10-28T20:13:18.158Z"
   },
   {
    "duration": 11,
    "start_time": "2021-10-28T20:13:18.191Z"
   },
   {
    "duration": 10,
    "start_time": "2021-10-28T20:13:18.204Z"
   },
   {
    "duration": 40,
    "start_time": "2021-10-28T20:13:18.216Z"
   },
   {
    "duration": 5,
    "start_time": "2021-10-28T20:13:18.259Z"
   },
   {
    "duration": 29,
    "start_time": "2021-10-28T20:13:18.266Z"
   },
   {
    "duration": 7,
    "start_time": "2021-10-28T20:13:18.299Z"
   },
   {
    "duration": 16,
    "start_time": "2021-10-28T20:13:18.309Z"
   },
   {
    "duration": 26,
    "start_time": "2021-10-28T20:13:18.327Z"
   },
   {
    "duration": 27,
    "start_time": "2021-10-28T20:13:18.356Z"
   },
   {
    "duration": 9,
    "start_time": "2021-10-28T20:13:18.386Z"
   },
   {
    "duration": 16,
    "start_time": "2021-10-28T20:13:18.397Z"
   },
   {
    "duration": 34,
    "start_time": "2021-10-28T20:13:18.416Z"
   },
   {
    "duration": 13,
    "start_time": "2021-10-28T20:13:18.453Z"
   },
   {
    "duration": 16,
    "start_time": "2021-10-28T20:13:18.483Z"
   },
   {
    "duration": 20,
    "start_time": "2021-10-28T20:13:18.502Z"
   },
   {
    "duration": 22,
    "start_time": "2021-10-28T20:13:18.525Z"
   },
   {
    "duration": 382,
    "start_time": "2021-10-28T20:13:18.551Z"
   },
   {
    "duration": 291,
    "start_time": "2021-10-28T20:13:18.936Z"
   },
   {
    "duration": 19,
    "start_time": "2021-10-28T20:13:19.230Z"
   },
   {
    "duration": 44,
    "start_time": "2021-10-28T20:13:19.252Z"
   },
   {
    "duration": 348,
    "start_time": "2021-10-28T20:22:29.057Z"
   },
   {
    "duration": 260,
    "start_time": "2021-10-28T20:24:11.800Z"
   },
   {
    "duration": 421,
    "start_time": "2021-10-28T20:29:17.539Z"
   },
   {
    "duration": 1431,
    "start_time": "2021-10-28T20:29:28.604Z"
   },
   {
    "duration": 29,
    "start_time": "2021-10-28T20:29:30.037Z"
   },
   {
    "duration": 16,
    "start_time": "2021-10-28T20:29:30.069Z"
   },
   {
    "duration": 10,
    "start_time": "2021-10-28T20:29:30.088Z"
   },
   {
    "duration": 53,
    "start_time": "2021-10-28T20:29:30.100Z"
   },
   {
    "duration": 6,
    "start_time": "2021-10-28T20:29:30.156Z"
   },
   {
    "duration": 32,
    "start_time": "2021-10-28T20:29:30.164Z"
   },
   {
    "duration": 7,
    "start_time": "2021-10-28T20:29:30.200Z"
   },
   {
    "duration": 16,
    "start_time": "2021-10-28T20:29:30.210Z"
   },
   {
    "duration": 28,
    "start_time": "2021-10-28T20:29:30.229Z"
   },
   {
    "duration": 31,
    "start_time": "2021-10-28T20:29:30.259Z"
   },
   {
    "duration": 8,
    "start_time": "2021-10-28T20:29:30.293Z"
   },
   {
    "duration": 25,
    "start_time": "2021-10-28T20:29:30.303Z"
   },
   {
    "duration": 27,
    "start_time": "2021-10-28T20:29:30.330Z"
   },
   {
    "duration": 22,
    "start_time": "2021-10-28T20:29:30.359Z"
   },
   {
    "duration": 37,
    "start_time": "2021-10-28T20:29:30.383Z"
   },
   {
    "duration": 35,
    "start_time": "2021-10-28T20:29:30.423Z"
   },
   {
    "duration": 21,
    "start_time": "2021-10-28T20:29:30.460Z"
   },
   {
    "duration": 350,
    "start_time": "2021-10-28T20:29:30.483Z"
   },
   {
    "duration": 287,
    "start_time": "2021-10-28T20:29:30.835Z"
   },
   {
    "duration": 403,
    "start_time": "2021-10-28T20:29:31.125Z"
   },
   {
    "duration": -214,
    "start_time": "2021-10-28T20:29:31.745Z"
   },
   {
    "duration": 1493,
    "start_time": "2021-10-28T20:29:56.964Z"
   },
   {
    "duration": 28,
    "start_time": "2021-10-28T20:29:58.460Z"
   },
   {
    "duration": 10,
    "start_time": "2021-10-28T20:29:58.491Z"
   },
   {
    "duration": 9,
    "start_time": "2021-10-28T20:29:58.503Z"
   },
   {
    "duration": 37,
    "start_time": "2021-10-28T20:29:58.514Z"
   },
   {
    "duration": 6,
    "start_time": "2021-10-28T20:29:58.554Z"
   },
   {
    "duration": 38,
    "start_time": "2021-10-28T20:29:58.562Z"
   },
   {
    "duration": 9,
    "start_time": "2021-10-28T20:29:58.605Z"
   },
   {
    "duration": 7,
    "start_time": "2021-10-28T20:29:58.617Z"
   },
   {
    "duration": 19,
    "start_time": "2021-10-28T20:29:58.626Z"
   },
   {
    "duration": 45,
    "start_time": "2021-10-28T20:29:58.647Z"
   },
   {
    "duration": 5,
    "start_time": "2021-10-28T20:29:58.695Z"
   },
   {
    "duration": 10,
    "start_time": "2021-10-28T20:29:58.702Z"
   },
   {
    "duration": 24,
    "start_time": "2021-10-28T20:29:58.715Z"
   },
   {
    "duration": 8,
    "start_time": "2021-10-28T20:29:58.742Z"
   },
   {
    "duration": 50,
    "start_time": "2021-10-28T20:29:58.752Z"
   },
   {
    "duration": 15,
    "start_time": "2021-10-28T20:29:58.805Z"
   },
   {
    "duration": 20,
    "start_time": "2021-10-28T20:29:58.823Z"
   },
   {
    "duration": 375,
    "start_time": "2021-10-28T20:29:58.846Z"
   },
   {
    "duration": 294,
    "start_time": "2021-10-28T20:29:59.224Z"
   },
   {
    "duration": 431,
    "start_time": "2021-10-28T20:29:59.520Z"
   },
   {
    "duration": -194,
    "start_time": "2021-10-28T20:30:00.148Z"
   },
   {
    "duration": 1489,
    "start_time": "2021-10-28T20:30:35.152Z"
   },
   {
    "duration": 31,
    "start_time": "2021-10-28T20:30:36.643Z"
   },
   {
    "duration": 11,
    "start_time": "2021-10-28T20:30:36.678Z"
   },
   {
    "duration": 4,
    "start_time": "2021-10-28T20:30:36.692Z"
   },
   {
    "duration": 37,
    "start_time": "2021-10-28T20:30:36.699Z"
   },
   {
    "duration": 6,
    "start_time": "2021-10-28T20:30:36.738Z"
   },
   {
    "duration": 36,
    "start_time": "2021-10-28T20:30:36.746Z"
   },
   {
    "duration": 6,
    "start_time": "2021-10-28T20:30:36.784Z"
   },
   {
    "duration": 5,
    "start_time": "2021-10-28T20:30:36.794Z"
   },
   {
    "duration": 22,
    "start_time": "2021-10-28T20:30:36.802Z"
   },
   {
    "duration": 23,
    "start_time": "2021-10-28T20:30:36.827Z"
   },
   {
    "duration": 6,
    "start_time": "2021-10-28T20:30:36.852Z"
   },
   {
    "duration": 7,
    "start_time": "2021-10-28T20:30:36.883Z"
   },
   {
    "duration": 13,
    "start_time": "2021-10-28T20:30:36.893Z"
   },
   {
    "duration": 6,
    "start_time": "2021-10-28T20:30:36.908Z"
   },
   {
    "duration": 15,
    "start_time": "2021-10-28T20:30:36.916Z"
   },
   {
    "duration": 56,
    "start_time": "2021-10-28T20:30:36.933Z"
   },
   {
    "duration": 16,
    "start_time": "2021-10-28T20:30:36.992Z"
   },
   {
    "duration": 352,
    "start_time": "2021-10-28T20:30:37.011Z"
   },
   {
    "duration": 256,
    "start_time": "2021-10-28T20:30:37.365Z"
   },
   {
    "duration": 19,
    "start_time": "2021-10-28T20:30:37.623Z"
   },
   {
    "duration": 45,
    "start_time": "2021-10-28T20:30:37.645Z"
   },
   {
    "duration": 18,
    "start_time": "2021-10-28T20:35:06.305Z"
   },
   {
    "duration": 10,
    "start_time": "2021-10-28T20:35:57.074Z"
   },
   {
    "duration": 352,
    "start_time": "2021-10-28T20:40:11.013Z"
   },
   {
    "duration": 438,
    "start_time": "2021-10-28T20:42:02.653Z"
   },
   {
    "duration": 497,
    "start_time": "2021-10-28T20:42:24.653Z"
   },
   {
    "duration": 457,
    "start_time": "2021-10-28T20:42:32.961Z"
   },
   {
    "duration": 511,
    "start_time": "2021-10-28T20:42:38.973Z"
   },
   {
    "duration": 653,
    "start_time": "2021-10-28T20:42:57.190Z"
   },
   {
    "duration": 548,
    "start_time": "2021-10-28T20:43:09.909Z"
   },
   {
    "duration": 509,
    "start_time": "2021-10-28T20:46:44.098Z"
   },
   {
    "duration": 947,
    "start_time": "2021-10-28T20:47:31.339Z"
   },
   {
    "duration": 797,
    "start_time": "2021-10-28T20:47:37.449Z"
   },
   {
    "duration": 488,
    "start_time": "2021-10-28T20:48:12.087Z"
   },
   {
    "duration": 506,
    "start_time": "2021-10-28T20:48:49.210Z"
   },
   {
    "duration": 492,
    "start_time": "2021-10-28T20:49:49.793Z"
   },
   {
    "duration": 490,
    "start_time": "2021-10-28T20:49:58.919Z"
   },
   {
    "duration": 507,
    "start_time": "2021-10-28T20:50:04.542Z"
   },
   {
    "duration": 505,
    "start_time": "2021-10-28T20:51:49.092Z"
   },
   {
    "duration": 533,
    "start_time": "2021-10-28T20:51:54.002Z"
   },
   {
    "duration": 287,
    "start_time": "2021-10-28T20:52:13.496Z"
   },
   {
    "duration": 316,
    "start_time": "2021-10-28T20:52:18.237Z"
   },
   {
    "duration": 608,
    "start_time": "2021-10-28T20:52:37.662Z"
   },
   {
    "duration": 519,
    "start_time": "2021-10-28T20:53:57.583Z"
   },
   {
    "duration": 441,
    "start_time": "2021-10-28T21:01:08.066Z"
   },
   {
    "duration": 463,
    "start_time": "2021-10-28T21:01:28.503Z"
   },
   {
    "duration": 477,
    "start_time": "2021-10-28T21:02:19.467Z"
   },
   {
    "duration": 1572,
    "start_time": "2021-11-02T16:20:58.813Z"
   },
   {
    "duration": 32,
    "start_time": "2021-11-02T16:21:00.387Z"
   },
   {
    "duration": 17,
    "start_time": "2021-11-02T16:21:00.422Z"
   },
   {
    "duration": 17,
    "start_time": "2021-11-02T16:21:00.443Z"
   },
   {
    "duration": 54,
    "start_time": "2021-11-02T16:21:00.463Z"
   },
   {
    "duration": 9,
    "start_time": "2021-11-02T16:21:00.520Z"
   },
   {
    "duration": 40,
    "start_time": "2021-11-02T16:21:00.531Z"
   },
   {
    "duration": 27,
    "start_time": "2021-11-02T16:21:00.573Z"
   },
   {
    "duration": 34,
    "start_time": "2021-11-02T16:21:00.603Z"
   },
   {
    "duration": 23,
    "start_time": "2021-11-02T16:21:00.640Z"
   },
   {
    "duration": 41,
    "start_time": "2021-11-02T16:21:00.665Z"
   },
   {
    "duration": 17,
    "start_time": "2021-11-02T16:21:00.708Z"
   },
   {
    "duration": 26,
    "start_time": "2021-11-02T16:21:00.728Z"
   },
   {
    "duration": 15,
    "start_time": "2021-11-02T16:21:00.757Z"
   },
   {
    "duration": 13,
    "start_time": "2021-11-02T16:21:00.775Z"
   },
   {
    "duration": 23,
    "start_time": "2021-11-02T16:21:00.790Z"
   },
   {
    "duration": 23,
    "start_time": "2021-11-02T16:21:00.816Z"
   },
   {
    "duration": 21,
    "start_time": "2021-11-02T16:21:00.842Z"
   },
   {
    "duration": 373,
    "start_time": "2021-11-02T16:21:00.865Z"
   },
   {
    "duration": 296,
    "start_time": "2021-11-02T16:21:01.240Z"
   },
   {
    "duration": 19,
    "start_time": "2021-11-02T16:21:01.538Z"
   },
   {
    "duration": 28,
    "start_time": "2021-11-02T16:21:01.559Z"
   },
   {
    "duration": 547,
    "start_time": "2021-11-02T16:21:01.589Z"
   },
   {
    "duration": 510,
    "start_time": "2021-11-02T16:21:02.138Z"
   },
   {
    "duration": 18,
    "start_time": "2021-11-02T16:21:02.650Z"
   },
   {
    "duration": 515,
    "start_time": "2021-11-02T16:23:39.813Z"
   },
   {
    "duration": 1493,
    "start_time": "2021-11-02T16:23:47.680Z"
   },
   {
    "duration": 32,
    "start_time": "2021-11-02T16:23:49.176Z"
   },
   {
    "duration": 9,
    "start_time": "2021-11-02T16:23:49.210Z"
   },
   {
    "duration": 6,
    "start_time": "2021-11-02T16:23:49.222Z"
   },
   {
    "duration": 44,
    "start_time": "2021-11-02T16:23:49.230Z"
   },
   {
    "duration": 5,
    "start_time": "2021-11-02T16:23:49.277Z"
   },
   {
    "duration": 31,
    "start_time": "2021-11-02T16:23:49.284Z"
   },
   {
    "duration": 7,
    "start_time": "2021-11-02T16:23:49.317Z"
   },
   {
    "duration": 11,
    "start_time": "2021-11-02T16:23:49.328Z"
   },
   {
    "duration": 20,
    "start_time": "2021-11-02T16:23:49.342Z"
   },
   {
    "duration": 38,
    "start_time": "2021-11-02T16:23:49.364Z"
   },
   {
    "duration": 6,
    "start_time": "2021-11-02T16:23:49.406Z"
   },
   {
    "duration": 8,
    "start_time": "2021-11-02T16:23:49.415Z"
   },
   {
    "duration": 14,
    "start_time": "2021-11-02T16:23:49.426Z"
   },
   {
    "duration": 6,
    "start_time": "2021-11-02T16:23:49.442Z"
   },
   {
    "duration": 60,
    "start_time": "2021-11-02T16:23:49.450Z"
   },
   {
    "duration": 16,
    "start_time": "2021-11-02T16:23:49.513Z"
   },
   {
    "duration": 14,
    "start_time": "2021-11-02T16:23:49.531Z"
   },
   {
    "duration": 383,
    "start_time": "2021-11-02T16:23:49.547Z"
   },
   {
    "duration": 291,
    "start_time": "2021-11-02T16:23:49.933Z"
   },
   {
    "duration": 20,
    "start_time": "2021-11-02T16:23:50.227Z"
   },
   {
    "duration": 12,
    "start_time": "2021-11-02T16:23:50.249Z"
   },
   {
    "duration": 570,
    "start_time": "2021-11-02T16:23:50.263Z"
   },
   {
    "duration": 510,
    "start_time": "2021-11-02T16:23:50.835Z"
   },
   {
    "duration": 19,
    "start_time": "2021-11-02T16:23:51.347Z"
   },
   {
    "duration": 21,
    "start_time": "2021-11-02T16:27:41.815Z"
   },
   {
    "duration": 18,
    "start_time": "2021-11-02T16:29:25.122Z"
   },
   {
    "duration": 512,
    "start_time": "2021-11-02T16:41:23.529Z"
   },
   {
    "duration": 398,
    "start_time": "2021-11-02T16:41:28.713Z"
   },
   {
    "duration": 482,
    "start_time": "2021-11-02T16:41:34.364Z"
   },
   {
    "duration": 665,
    "start_time": "2021-11-02T16:42:12.633Z"
   },
   {
    "duration": 492,
    "start_time": "2021-11-02T16:42:40.223Z"
   },
   {
    "duration": 617,
    "start_time": "2021-11-02T16:42:49.724Z"
   },
   {
    "duration": 531,
    "start_time": "2021-11-02T16:43:02.143Z"
   },
   {
    "duration": 549,
    "start_time": "2021-11-02T16:43:39.751Z"
   },
   {
    "duration": 1597,
    "start_time": "2021-11-02T16:45:19.385Z"
   },
   {
    "duration": 34,
    "start_time": "2021-11-02T16:45:20.985Z"
   },
   {
    "duration": 27,
    "start_time": "2021-11-02T16:45:21.023Z"
   },
   {
    "duration": 20,
    "start_time": "2021-11-02T16:45:21.053Z"
   },
   {
    "duration": 49,
    "start_time": "2021-11-02T16:45:21.076Z"
   },
   {
    "duration": 20,
    "start_time": "2021-11-02T16:45:21.127Z"
   },
   {
    "duration": 46,
    "start_time": "2021-11-02T16:45:21.150Z"
   },
   {
    "duration": 7,
    "start_time": "2021-11-02T16:45:21.200Z"
   },
   {
    "duration": 21,
    "start_time": "2021-11-02T16:45:21.210Z"
   },
   {
    "duration": 31,
    "start_time": "2021-11-02T16:45:21.233Z"
   },
   {
    "duration": 23,
    "start_time": "2021-11-02T16:45:21.266Z"
   },
   {
    "duration": 10,
    "start_time": "2021-11-02T16:45:21.292Z"
   },
   {
    "duration": 23,
    "start_time": "2021-11-02T16:45:21.304Z"
   },
   {
    "duration": 18,
    "start_time": "2021-11-02T16:45:21.329Z"
   },
   {
    "duration": 8,
    "start_time": "2021-11-02T16:45:21.349Z"
   },
   {
    "duration": 16,
    "start_time": "2021-11-02T16:45:21.360Z"
   },
   {
    "duration": 30,
    "start_time": "2021-11-02T16:45:21.379Z"
   },
   {
    "duration": 20,
    "start_time": "2021-11-02T16:45:21.411Z"
   },
   {
    "duration": 389,
    "start_time": "2021-11-02T16:45:21.434Z"
   },
   {
    "duration": 296,
    "start_time": "2021-11-02T16:45:21.825Z"
   },
   {
    "duration": 18,
    "start_time": "2021-11-02T16:45:22.123Z"
   },
   {
    "duration": 12,
    "start_time": "2021-11-02T16:45:22.143Z"
   },
   {
    "duration": 659,
    "start_time": "2021-11-02T16:45:22.161Z"
   },
   {
    "duration": 529,
    "start_time": "2021-11-02T16:45:22.823Z"
   },
   {
    "duration": 19,
    "start_time": "2021-11-02T16:45:23.355Z"
   },
   {
    "duration": 593,
    "start_time": "2021-11-02T16:45:23.377Z"
   },
   {
    "duration": 31,
    "start_time": "2021-11-02T16:45:23.972Z"
   },
   {
    "duration": 560,
    "start_time": "2021-11-02T16:47:21.478Z"
   },
   {
    "duration": 521,
    "start_time": "2021-11-02T16:49:00.724Z"
   },
   {
    "duration": 19,
    "start_time": "2021-11-02T16:55:20.862Z"
   },
   {
    "duration": 21,
    "start_time": "2021-11-02T16:57:25.715Z"
   },
   {
    "duration": 8,
    "start_time": "2021-11-02T16:59:48.267Z"
   },
   {
    "duration": 532,
    "start_time": "2021-11-02T17:03:30.207Z"
   },
   {
    "duration": 597,
    "start_time": "2021-11-02T17:03:43.046Z"
   },
   {
    "duration": 13,
    "start_time": "2021-11-02T17:11:33.236Z"
   },
   {
    "duration": 23,
    "start_time": "2021-11-02T17:13:20.352Z"
   },
   {
    "duration": 20,
    "start_time": "2021-11-02T17:13:29.654Z"
   },
   {
    "duration": 539,
    "start_time": "2021-11-02T17:14:32.940Z"
   },
   {
    "duration": 523,
    "start_time": "2021-11-02T17:15:51.029Z"
   },
   {
    "duration": 572,
    "start_time": "2021-11-02T17:16:16.258Z"
   },
   {
    "duration": 528,
    "start_time": "2021-11-02T17:16:38.728Z"
   },
   {
    "duration": 554,
    "start_time": "2021-11-02T17:17:51.459Z"
   },
   {
    "duration": 19,
    "start_time": "2021-11-02T17:22:56.127Z"
   },
   {
    "duration": 201,
    "start_time": "2021-11-02T17:23:34.037Z"
   },
   {
    "duration": 212,
    "start_time": "2021-11-02T17:24:29.838Z"
   },
   {
    "duration": 196,
    "start_time": "2021-11-02T17:25:40.794Z"
   },
   {
    "duration": 294,
    "start_time": "2021-11-02T17:26:36.245Z"
   },
   {
    "duration": 267,
    "start_time": "2021-11-02T17:26:55.936Z"
   },
   {
    "duration": 292,
    "start_time": "2021-11-02T17:28:28.359Z"
   },
   {
    "duration": 364,
    "start_time": "2021-11-02T17:32:08.817Z"
   },
   {
    "duration": 283,
    "start_time": "2021-11-02T17:33:40.698Z"
   },
   {
    "duration": 384,
    "start_time": "2021-11-02T17:33:46.844Z"
   },
   {
    "duration": 409,
    "start_time": "2021-11-02T17:34:28.864Z"
   },
   {
    "duration": 140,
    "start_time": "2021-11-02T17:37:57.018Z"
   },
   {
    "duration": 7,
    "start_time": "2021-11-02T17:38:32.585Z"
   },
   {
    "duration": 8,
    "start_time": "2021-11-02T17:39:33.475Z"
   },
   {
    "duration": 292,
    "start_time": "2021-11-02T17:46:12.512Z"
   },
   {
    "duration": 459,
    "start_time": "2021-11-02T17:47:06.112Z"
   },
   {
    "duration": 126,
    "start_time": "2021-11-02T17:53:01.530Z"
   },
   {
    "duration": 454,
    "start_time": "2021-11-02T17:53:54.697Z"
   },
   {
    "duration": 417,
    "start_time": "2021-11-02T17:55:58.806Z"
   },
   {
    "duration": 538,
    "start_time": "2021-11-02T17:57:20.409Z"
   },
   {
    "duration": 7,
    "start_time": "2021-11-02T18:00:58.197Z"
   },
   {
    "duration": 192,
    "start_time": "2021-11-02T18:15:23.438Z"
   },
   {
    "duration": 1545,
    "start_time": "2021-11-02T18:19:31.516Z"
   },
   {
    "duration": 30,
    "start_time": "2021-11-02T18:19:33.063Z"
   },
   {
    "duration": 10,
    "start_time": "2021-11-02T18:19:33.096Z"
   },
   {
    "duration": 9,
    "start_time": "2021-11-02T18:19:33.109Z"
   },
   {
    "duration": 46,
    "start_time": "2021-11-02T18:19:33.122Z"
   },
   {
    "duration": 6,
    "start_time": "2021-11-02T18:19:33.170Z"
   },
   {
    "duration": 35,
    "start_time": "2021-11-02T18:19:33.178Z"
   },
   {
    "duration": 7,
    "start_time": "2021-11-02T18:19:33.217Z"
   },
   {
    "duration": 17,
    "start_time": "2021-11-02T18:19:33.227Z"
   },
   {
    "duration": 28,
    "start_time": "2021-11-02T18:19:33.247Z"
   },
   {
    "duration": 27,
    "start_time": "2021-11-02T18:19:33.277Z"
   },
   {
    "duration": 8,
    "start_time": "2021-11-02T18:19:33.306Z"
   },
   {
    "duration": 9,
    "start_time": "2021-11-02T18:19:33.316Z"
   },
   {
    "duration": 14,
    "start_time": "2021-11-02T18:19:33.328Z"
   },
   {
    "duration": 7,
    "start_time": "2021-11-02T18:19:33.344Z"
   },
   {
    "duration": 50,
    "start_time": "2021-11-02T18:19:33.353Z"
   },
   {
    "duration": 16,
    "start_time": "2021-11-02T18:19:33.406Z"
   },
   {
    "duration": 18,
    "start_time": "2021-11-02T18:19:33.424Z"
   },
   {
    "duration": 382,
    "start_time": "2021-11-02T18:19:33.444Z"
   },
   {
    "duration": 297,
    "start_time": "2021-11-02T18:19:33.828Z"
   },
   {
    "duration": 19,
    "start_time": "2021-11-02T18:19:34.128Z"
   },
   {
    "duration": 11,
    "start_time": "2021-11-02T18:19:34.150Z"
   },
   {
    "duration": 577,
    "start_time": "2021-11-02T18:19:34.166Z"
   },
   {
    "duration": 523,
    "start_time": "2021-11-02T18:19:34.746Z"
   },
   {
    "duration": 30,
    "start_time": "2021-11-02T18:19:35.272Z"
   },
   {
    "duration": 538,
    "start_time": "2021-11-02T18:19:35.305Z"
   },
   {
    "duration": 10,
    "start_time": "2021-11-02T18:19:35.845Z"
   },
   {
    "duration": 537,
    "start_time": "2021-11-02T18:19:35.857Z"
   },
   {
    "duration": 22,
    "start_time": "2021-11-02T18:19:36.396Z"
   },
   {
    "duration": 525,
    "start_time": "2021-11-02T18:19:36.421Z"
   },
   {
    "duration": 210,
    "start_time": "2021-11-02T18:19:36.949Z"
   },
   {
    "duration": 423,
    "start_time": "2021-11-02T18:19:37.161Z"
   },
   {
    "duration": 18,
    "start_time": "2021-11-02T18:19:37.587Z"
   },
   {
    "duration": 499,
    "start_time": "2021-11-02T18:19:37.608Z"
   },
   {
    "duration": 8,
    "start_time": "2021-11-02T18:19:38.111Z"
   },
   {
    "duration": 227,
    "start_time": "2021-11-02T18:19:38.122Z"
   },
   {
    "duration": 232,
    "start_time": "2021-11-02T18:32:20.734Z"
   },
   {
    "duration": 655,
    "start_time": "2021-11-02T18:34:24.941Z"
   },
   {
    "duration": 49,
    "start_time": "2021-11-02T18:34:34.173Z"
   },
   {
    "duration": 211,
    "start_time": "2021-11-02T18:41:16.613Z"
   },
   {
    "duration": 12,
    "start_time": "2021-11-02T18:41:22.531Z"
   },
   {
    "duration": 9,
    "start_time": "2021-11-02T18:44:05.993Z"
   },
   {
    "duration": 1488,
    "start_time": "2021-11-02T18:47:20.931Z"
   },
   {
    "duration": 31,
    "start_time": "2021-11-02T18:47:22.422Z"
   },
   {
    "duration": 14,
    "start_time": "2021-11-02T18:47:22.456Z"
   },
   {
    "duration": 5,
    "start_time": "2021-11-02T18:47:22.473Z"
   },
   {
    "duration": 48,
    "start_time": "2021-11-02T18:47:22.481Z"
   },
   {
    "duration": 9,
    "start_time": "2021-11-02T18:47:22.532Z"
   },
   {
    "duration": 43,
    "start_time": "2021-11-02T18:47:22.544Z"
   },
   {
    "duration": 8,
    "start_time": "2021-11-02T18:47:22.590Z"
   },
   {
    "duration": 11,
    "start_time": "2021-11-02T18:47:22.602Z"
   },
   {
    "duration": 33,
    "start_time": "2021-11-02T18:47:22.616Z"
   },
   {
    "duration": 31,
    "start_time": "2021-11-02T18:47:22.652Z"
   },
   {
    "duration": 13,
    "start_time": "2021-11-02T18:47:22.685Z"
   },
   {
    "duration": 23,
    "start_time": "2021-11-02T18:47:22.700Z"
   },
   {
    "duration": 25,
    "start_time": "2021-11-02T18:47:22.726Z"
   },
   {
    "duration": 21,
    "start_time": "2021-11-02T18:47:22.754Z"
   },
   {
    "duration": 30,
    "start_time": "2021-11-02T18:47:22.778Z"
   },
   {
    "duration": 35,
    "start_time": "2021-11-02T18:47:22.811Z"
   },
   {
    "duration": 19,
    "start_time": "2021-11-02T18:47:22.849Z"
   },
   {
    "duration": 368,
    "start_time": "2021-11-02T18:47:22.870Z"
   },
   {
    "duration": 297,
    "start_time": "2021-11-02T18:47:23.241Z"
   },
   {
    "duration": 18,
    "start_time": "2021-11-02T18:47:23.540Z"
   },
   {
    "duration": 39,
    "start_time": "2021-11-02T18:47:23.561Z"
   },
   {
    "duration": 538,
    "start_time": "2021-11-02T18:47:23.602Z"
   },
   {
    "duration": 534,
    "start_time": "2021-11-02T18:47:24.143Z"
   },
   {
    "duration": 26,
    "start_time": "2021-11-02T18:47:24.680Z"
   },
   {
    "duration": 545,
    "start_time": "2021-11-02T18:47:24.708Z"
   },
   {
    "duration": 9,
    "start_time": "2021-11-02T18:47:25.258Z"
   },
   {
    "duration": 547,
    "start_time": "2021-11-02T18:47:25.269Z"
   },
   {
    "duration": 21,
    "start_time": "2021-11-02T18:47:25.819Z"
   },
   {
    "duration": 573,
    "start_time": "2021-11-02T18:47:25.843Z"
   },
   {
    "duration": 207,
    "start_time": "2021-11-02T18:47:26.419Z"
   },
   {
    "duration": 391,
    "start_time": "2021-11-02T18:47:26.629Z"
   },
   {
    "duration": 8,
    "start_time": "2021-11-02T18:47:27.022Z"
   },
   {
    "duration": 483,
    "start_time": "2021-11-02T18:47:27.032Z"
   },
   {
    "duration": 6,
    "start_time": "2021-11-02T18:47:27.518Z"
   },
   {
    "duration": 211,
    "start_time": "2021-11-02T18:47:27.527Z"
   },
   {
    "duration": 255,
    "start_time": "2021-11-02T18:47:27.741Z"
   },
   {
    "duration": 50,
    "start_time": "2021-11-02T18:47:28.000Z"
   },
   {
    "duration": 225,
    "start_time": "2021-11-02T18:47:28.052Z"
   },
   {
    "duration": 8,
    "start_time": "2021-11-02T18:47:28.280Z"
   },
   {
    "duration": 488,
    "start_time": "2021-11-02T18:51:12.259Z"
   },
   {
    "duration": 13,
    "start_time": "2021-11-02T18:51:57.846Z"
   },
   {
    "duration": 11,
    "start_time": "2021-11-02T18:52:20.245Z"
   },
   {
    "duration": 13,
    "start_time": "2021-11-02T18:54:34.229Z"
   },
   {
    "duration": 1727,
    "start_time": "2021-11-02T18:54:54.114Z"
   },
   {
    "duration": 30,
    "start_time": "2021-11-02T18:54:55.844Z"
   },
   {
    "duration": 15,
    "start_time": "2021-11-02T18:54:55.878Z"
   },
   {
    "duration": 11,
    "start_time": "2021-11-02T18:54:55.901Z"
   },
   {
    "duration": 59,
    "start_time": "2021-11-02T18:54:55.915Z"
   },
   {
    "duration": 8,
    "start_time": "2021-11-02T18:54:55.976Z"
   },
   {
    "duration": 31,
    "start_time": "2021-11-02T18:54:55.987Z"
   },
   {
    "duration": 7,
    "start_time": "2021-11-02T18:54:56.022Z"
   },
   {
    "duration": 8,
    "start_time": "2021-11-02T18:54:56.032Z"
   },
   {
    "duration": 19,
    "start_time": "2021-11-02T18:54:56.042Z"
   },
   {
    "duration": 40,
    "start_time": "2021-11-02T18:54:56.063Z"
   },
   {
    "duration": 6,
    "start_time": "2021-11-02T18:54:56.105Z"
   },
   {
    "duration": 14,
    "start_time": "2021-11-02T18:54:56.113Z"
   },
   {
    "duration": 16,
    "start_time": "2021-11-02T18:54:56.129Z"
   },
   {
    "duration": 10,
    "start_time": "2021-11-02T18:54:56.147Z"
   },
   {
    "duration": 47,
    "start_time": "2021-11-02T18:54:56.159Z"
   },
   {
    "duration": 15,
    "start_time": "2021-11-02T18:54:56.208Z"
   },
   {
    "duration": 15,
    "start_time": "2021-11-02T18:54:56.225Z"
   },
   {
    "duration": 398,
    "start_time": "2021-11-02T18:54:56.242Z"
   },
   {
    "duration": 282,
    "start_time": "2021-11-02T18:54:56.642Z"
   },
   {
    "duration": 19,
    "start_time": "2021-11-02T18:54:56.926Z"
   },
   {
    "duration": 13,
    "start_time": "2021-11-02T18:54:56.948Z"
   },
   {
    "duration": 593,
    "start_time": "2021-11-02T18:54:56.967Z"
   },
   {
    "duration": 503,
    "start_time": "2021-11-02T18:54:57.563Z"
   },
   {
    "duration": 18,
    "start_time": "2021-11-02T18:54:58.068Z"
   },
   {
    "duration": 534,
    "start_time": "2021-11-02T18:54:58.100Z"
   },
   {
    "duration": 9,
    "start_time": "2021-11-02T18:54:58.636Z"
   },
   {
    "duration": 539,
    "start_time": "2021-11-02T18:54:58.647Z"
   },
   {
    "duration": 25,
    "start_time": "2021-11-02T18:54:59.188Z"
   },
   {
    "duration": 530,
    "start_time": "2021-11-02T18:54:59.216Z"
   },
   {
    "duration": 210,
    "start_time": "2021-11-02T18:54:59.749Z"
   },
   {
    "duration": 433,
    "start_time": "2021-11-02T18:54:59.962Z"
   },
   {
    "duration": 6,
    "start_time": "2021-11-02T18:55:00.398Z"
   },
   {
    "duration": 502,
    "start_time": "2021-11-02T18:55:00.407Z"
   },
   {
    "duration": 7,
    "start_time": "2021-11-02T18:55:00.912Z"
   },
   {
    "duration": 212,
    "start_time": "2021-11-02T18:55:00.921Z"
   },
   {
    "duration": 251,
    "start_time": "2021-11-02T18:55:01.135Z"
   },
   {
    "duration": 54,
    "start_time": "2021-11-02T18:55:01.388Z"
   },
   {
    "duration": 228,
    "start_time": "2021-11-02T18:55:01.445Z"
   },
   {
    "duration": 8,
    "start_time": "2021-11-02T18:55:01.676Z"
   },
   {
    "duration": 35,
    "start_time": "2021-11-02T18:55:01.686Z"
   },
   {
    "duration": 11,
    "start_time": "2021-11-02T18:55:29.455Z"
   },
   {
    "duration": 13,
    "start_time": "2021-11-02T18:58:37.915Z"
   },
   {
    "duration": 11,
    "start_time": "2021-11-02T18:58:43.674Z"
   },
   {
    "duration": 15,
    "start_time": "2021-11-02T19:11:25.030Z"
   },
   {
    "duration": 1578,
    "start_time": "2021-11-02T19:13:00.176Z"
   },
   {
    "duration": 30,
    "start_time": "2021-11-02T19:13:01.757Z"
   },
   {
    "duration": 31,
    "start_time": "2021-11-02T19:13:01.790Z"
   },
   {
    "duration": 39,
    "start_time": "2021-11-02T19:13:01.824Z"
   },
   {
    "duration": 68,
    "start_time": "2021-11-02T19:13:01.865Z"
   },
   {
    "duration": 56,
    "start_time": "2021-11-02T19:13:01.935Z"
   },
   {
    "duration": 64,
    "start_time": "2021-11-02T19:13:01.993Z"
   },
   {
    "duration": 21,
    "start_time": "2021-11-02T19:13:02.059Z"
   },
   {
    "duration": 25,
    "start_time": "2021-11-02T19:13:02.083Z"
   },
   {
    "duration": 44,
    "start_time": "2021-11-02T19:13:02.111Z"
   },
   {
    "duration": 41,
    "start_time": "2021-11-02T19:13:02.158Z"
   },
   {
    "duration": 30,
    "start_time": "2021-11-02T19:13:02.201Z"
   },
   {
    "duration": 20,
    "start_time": "2021-11-02T19:13:02.233Z"
   },
   {
    "duration": 24,
    "start_time": "2021-11-02T19:13:02.255Z"
   },
   {
    "duration": 16,
    "start_time": "2021-11-02T19:13:02.282Z"
   },
   {
    "duration": 22,
    "start_time": "2021-11-02T19:13:02.301Z"
   },
   {
    "duration": 19,
    "start_time": "2021-11-02T19:13:02.326Z"
   },
   {
    "duration": 17,
    "start_time": "2021-11-02T19:13:02.348Z"
   },
   {
    "duration": 392,
    "start_time": "2021-11-02T19:13:02.368Z"
   },
   {
    "duration": 290,
    "start_time": "2021-11-02T19:13:02.763Z"
   },
   {
    "duration": 20,
    "start_time": "2021-11-02T19:13:03.056Z"
   },
   {
    "duration": 12,
    "start_time": "2021-11-02T19:13:03.101Z"
   },
   {
    "duration": 558,
    "start_time": "2021-11-02T19:13:03.116Z"
   },
   {
    "duration": 509,
    "start_time": "2021-11-02T19:13:03.676Z"
   },
   {
    "duration": 33,
    "start_time": "2021-11-02T19:13:04.188Z"
   },
   {
    "duration": 615,
    "start_time": "2021-11-02T19:13:04.224Z"
   },
   {
    "duration": 9,
    "start_time": "2021-11-02T19:13:04.844Z"
   },
   {
    "duration": 539,
    "start_time": "2021-11-02T19:13:04.856Z"
   },
   {
    "duration": 20,
    "start_time": "2021-11-02T19:13:05.401Z"
   },
   {
    "duration": 521,
    "start_time": "2021-11-02T19:13:05.423Z"
   },
   {
    "duration": 217,
    "start_time": "2021-11-02T19:13:05.946Z"
   },
   {
    "duration": 418,
    "start_time": "2021-11-02T19:13:06.165Z"
   },
   {
    "duration": 6,
    "start_time": "2021-11-02T19:13:06.585Z"
   },
   {
    "duration": 502,
    "start_time": "2021-11-02T19:13:06.601Z"
   },
   {
    "duration": 6,
    "start_time": "2021-11-02T19:13:07.105Z"
   },
   {
    "duration": 213,
    "start_time": "2021-11-02T19:13:07.114Z"
   },
   {
    "duration": 240,
    "start_time": "2021-11-02T19:13:07.329Z"
   },
   {
    "duration": 58,
    "start_time": "2021-11-02T19:13:07.571Z"
   },
   {
    "duration": 259,
    "start_time": "2021-11-02T19:13:07.631Z"
   },
   {
    "duration": 10,
    "start_time": "2021-11-02T19:13:07.893Z"
   },
   {
    "duration": 10,
    "start_time": "2021-11-02T19:13:07.906Z"
   },
   {
    "duration": 16,
    "start_time": "2021-11-02T19:13:07.918Z"
   },
   {
    "duration": 17,
    "start_time": "2021-11-02T19:22:37.038Z"
   },
   {
    "duration": 16,
    "start_time": "2021-11-02T19:22:43.023Z"
   },
   {
    "duration": 16,
    "start_time": "2021-11-02T19:23:33.395Z"
   },
   {
    "duration": 11,
    "start_time": "2021-11-02T19:29:32.840Z"
   },
   {
    "duration": 10,
    "start_time": "2021-11-02T19:30:11.916Z"
   },
   {
    "duration": 9,
    "start_time": "2021-11-02T19:30:20.276Z"
   },
   {
    "duration": 13,
    "start_time": "2021-11-02T19:32:37.644Z"
   },
   {
    "duration": 9,
    "start_time": "2021-11-02T19:34:14.887Z"
   },
   {
    "duration": 21,
    "start_time": "2021-11-02T19:41:16.160Z"
   },
   {
    "duration": 973,
    "start_time": "2021-11-02T19:50:48.776Z"
   },
   {
    "duration": 1716,
    "start_time": "2021-11-02T20:08:52.173Z"
   },
   {
    "duration": 30,
    "start_time": "2021-11-02T20:08:53.892Z"
   },
   {
    "duration": 13,
    "start_time": "2021-11-02T20:08:53.925Z"
   },
   {
    "duration": 9,
    "start_time": "2021-11-02T20:08:53.942Z"
   },
   {
    "duration": 37,
    "start_time": "2021-11-02T20:08:53.955Z"
   },
   {
    "duration": 6,
    "start_time": "2021-11-02T20:08:53.995Z"
   },
   {
    "duration": 28,
    "start_time": "2021-11-02T20:08:54.012Z"
   },
   {
    "duration": 7,
    "start_time": "2021-11-02T20:08:54.043Z"
   },
   {
    "duration": 9,
    "start_time": "2021-11-02T20:08:54.056Z"
   },
   {
    "duration": 48,
    "start_time": "2021-11-02T20:08:54.068Z"
   },
   {
    "duration": 36,
    "start_time": "2021-11-02T20:08:54.119Z"
   },
   {
    "duration": 12,
    "start_time": "2021-11-02T20:08:54.158Z"
   },
   {
    "duration": 27,
    "start_time": "2021-11-02T20:08:54.173Z"
   },
   {
    "duration": 15,
    "start_time": "2021-11-02T20:08:54.203Z"
   },
   {
    "duration": 21,
    "start_time": "2021-11-02T20:08:54.220Z"
   },
   {
    "duration": 24,
    "start_time": "2021-11-02T20:08:54.244Z"
   },
   {
    "duration": 38,
    "start_time": "2021-11-02T20:08:54.271Z"
   },
   {
    "duration": 25,
    "start_time": "2021-11-02T20:08:54.312Z"
   },
   {
    "duration": 514,
    "start_time": "2021-11-02T20:08:54.340Z"
   },
   {
    "duration": 296,
    "start_time": "2021-11-02T20:08:54.857Z"
   },
   {
    "duration": 20,
    "start_time": "2021-11-02T20:08:55.156Z"
   },
   {
    "duration": 12,
    "start_time": "2021-11-02T20:08:55.202Z"
   },
   {
    "duration": 576,
    "start_time": "2021-11-02T20:08:55.217Z"
   },
   {
    "duration": 520,
    "start_time": "2021-11-02T20:08:55.795Z"
   },
   {
    "duration": 17,
    "start_time": "2021-11-02T20:08:56.318Z"
   },
   {
    "duration": 606,
    "start_time": "2021-11-02T20:08:56.337Z"
   },
   {
    "duration": 9,
    "start_time": "2021-11-02T20:08:56.948Z"
   },
   {
    "duration": 541,
    "start_time": "2021-11-02T20:08:56.960Z"
   },
   {
    "duration": 21,
    "start_time": "2021-11-02T20:08:57.503Z"
   },
   {
    "duration": 523,
    "start_time": "2021-11-02T20:08:57.527Z"
   },
   {
    "duration": 236,
    "start_time": "2021-11-02T20:08:58.053Z"
   },
   {
    "duration": 392,
    "start_time": "2021-11-02T20:08:58.301Z"
   },
   {
    "duration": 7,
    "start_time": "2021-11-02T20:08:58.696Z"
   },
   {
    "duration": 493,
    "start_time": "2021-11-02T20:08:58.705Z"
   },
   {
    "duration": 8,
    "start_time": "2021-11-02T20:08:59.201Z"
   },
   {
    "duration": 239,
    "start_time": "2021-11-02T20:08:59.212Z"
   },
   {
    "duration": 233,
    "start_time": "2021-11-02T20:08:59.454Z"
   },
   {
    "duration": 58,
    "start_time": "2021-11-02T20:08:59.690Z"
   },
   {
    "duration": 219,
    "start_time": "2021-11-02T20:08:59.750Z"
   },
   {
    "duration": 8,
    "start_time": "2021-11-02T20:08:59.971Z"
   },
   {
    "duration": 21,
    "start_time": "2021-11-02T20:08:59.982Z"
   },
   {
    "duration": 16,
    "start_time": "2021-11-02T20:09:00.006Z"
   },
   {
    "duration": 17,
    "start_time": "2021-11-02T20:09:00.024Z"
   },
   {
    "duration": 16,
    "start_time": "2021-11-02T20:09:00.044Z"
   },
   {
    "duration": 11,
    "start_time": "2021-11-02T20:09:00.100Z"
   },
   {
    "duration": 23,
    "start_time": "2021-11-02T20:09:00.114Z"
   },
   {
    "duration": 1194,
    "start_time": "2021-11-03T00:23:27.677Z"
   },
   {
    "duration": 25,
    "start_time": "2021-11-03T00:23:28.873Z"
   },
   {
    "duration": 9,
    "start_time": "2021-11-03T00:23:28.900Z"
   },
   {
    "duration": 5,
    "start_time": "2021-11-03T00:23:28.911Z"
   },
   {
    "duration": 40,
    "start_time": "2021-11-03T00:23:28.918Z"
   },
   {
    "duration": 4,
    "start_time": "2021-11-03T00:23:28.960Z"
   },
   {
    "duration": 18,
    "start_time": "2021-11-03T00:23:28.966Z"
   },
   {
    "duration": 5,
    "start_time": "2021-11-03T00:23:28.987Z"
   },
   {
    "duration": 6,
    "start_time": "2021-11-03T00:23:28.994Z"
   },
   {
    "duration": 21,
    "start_time": "2021-11-03T00:23:29.002Z"
   },
   {
    "duration": 16,
    "start_time": "2021-11-03T00:23:29.025Z"
   },
   {
    "duration": 7,
    "start_time": "2021-11-03T00:23:29.043Z"
   },
   {
    "duration": 15,
    "start_time": "2021-11-03T00:23:29.052Z"
   },
   {
    "duration": 15,
    "start_time": "2021-11-03T00:23:29.068Z"
   },
   {
    "duration": 8,
    "start_time": "2021-11-03T00:23:29.085Z"
   },
   {
    "duration": 15,
    "start_time": "2021-11-03T00:23:29.094Z"
   },
   {
    "duration": 9,
    "start_time": "2021-11-03T00:23:29.111Z"
   },
   {
    "duration": 14,
    "start_time": "2021-11-03T00:23:29.121Z"
   },
   {
    "duration": 227,
    "start_time": "2021-11-03T00:23:29.137Z"
   },
   {
    "duration": 160,
    "start_time": "2021-11-03T00:23:29.365Z"
   },
   {
    "duration": 13,
    "start_time": "2021-11-03T00:23:29.526Z"
   },
   {
    "duration": 22,
    "start_time": "2021-11-03T00:23:29.541Z"
   },
   {
    "duration": 330,
    "start_time": "2021-11-03T00:23:29.567Z"
   },
   {
    "duration": 313,
    "start_time": "2021-11-03T00:23:29.899Z"
   },
   {
    "duration": 14,
    "start_time": "2021-11-03T00:23:30.214Z"
   },
   {
    "duration": 400,
    "start_time": "2021-11-03T00:23:30.229Z"
   },
   {
    "duration": 7,
    "start_time": "2021-11-03T00:23:30.631Z"
   },
   {
    "duration": 323,
    "start_time": "2021-11-03T00:23:30.640Z"
   },
   {
    "duration": 13,
    "start_time": "2021-11-03T00:23:30.965Z"
   },
   {
    "duration": 362,
    "start_time": "2021-11-03T00:23:30.980Z"
   },
   {
    "duration": 127,
    "start_time": "2021-11-03T00:23:31.344Z"
   },
   {
    "duration": 305,
    "start_time": "2021-11-03T00:23:31.473Z"
   },
   {
    "duration": 5,
    "start_time": "2021-11-03T00:23:31.780Z"
   },
   {
    "duration": 400,
    "start_time": "2021-11-03T00:23:31.786Z"
   },
   {
    "duration": 4,
    "start_time": "2021-11-03T00:23:32.188Z"
   },
   {
    "duration": 121,
    "start_time": "2021-11-03T00:23:32.194Z"
   },
   {
    "duration": 137,
    "start_time": "2021-11-03T00:23:32.317Z"
   },
   {
    "duration": 37,
    "start_time": "2021-11-03T00:23:32.456Z"
   },
   {
    "duration": 123,
    "start_time": "2021-11-03T00:23:32.495Z"
   },
   {
    "duration": 6,
    "start_time": "2021-11-03T00:23:32.620Z"
   },
   {
    "duration": 10,
    "start_time": "2021-11-03T00:23:32.628Z"
   },
   {
    "duration": 28,
    "start_time": "2021-11-03T00:23:32.640Z"
   },
   {
    "duration": 10,
    "start_time": "2021-11-03T00:23:32.670Z"
   },
   {
    "duration": 8,
    "start_time": "2021-11-03T00:23:32.681Z"
   },
   {
    "duration": 12,
    "start_time": "2021-11-03T00:23:32.691Z"
   },
   {
    "duration": 13,
    "start_time": "2021-11-03T00:23:32.705Z"
   },
   {
    "duration": 1082,
    "start_time": "2021-11-03T09:13:32.246Z"
   },
   {
    "duration": 44,
    "start_time": "2021-11-03T09:13:33.330Z"
   },
   {
    "duration": 6,
    "start_time": "2021-11-03T09:13:33.376Z"
   },
   {
    "duration": 13,
    "start_time": "2021-11-03T09:13:33.383Z"
   },
   {
    "duration": 77,
    "start_time": "2021-11-03T09:13:33.398Z"
   },
   {
    "duration": 4,
    "start_time": "2021-11-03T09:13:33.477Z"
   },
   {
    "duration": 19,
    "start_time": "2021-11-03T09:13:33.483Z"
   },
   {
    "duration": 7,
    "start_time": "2021-11-03T09:13:33.504Z"
   },
   {
    "duration": 9,
    "start_time": "2021-11-03T09:13:33.513Z"
   },
   {
    "duration": 43,
    "start_time": "2021-11-03T09:13:33.524Z"
   },
   {
    "duration": 13,
    "start_time": "2021-11-03T09:13:33.569Z"
   },
   {
    "duration": 4,
    "start_time": "2021-11-03T09:13:33.584Z"
   },
   {
    "duration": 7,
    "start_time": "2021-11-03T09:13:33.590Z"
   },
   {
    "duration": 8,
    "start_time": "2021-11-03T09:13:33.599Z"
   },
   {
    "duration": 7,
    "start_time": "2021-11-03T09:13:33.609Z"
   },
   {
    "duration": 11,
    "start_time": "2021-11-03T09:13:33.618Z"
   },
   {
    "duration": 10,
    "start_time": "2021-11-03T09:13:33.630Z"
   },
   {
    "duration": 11,
    "start_time": "2021-11-03T09:13:33.641Z"
   },
   {
    "duration": 240,
    "start_time": "2021-11-03T09:13:33.654Z"
   },
   {
    "duration": 159,
    "start_time": "2021-11-03T09:13:33.896Z"
   },
   {
    "duration": 11,
    "start_time": "2021-11-03T09:13:34.057Z"
   },
   {
    "duration": 8,
    "start_time": "2021-11-03T09:13:34.070Z"
   },
   {
    "duration": 328,
    "start_time": "2021-11-03T09:13:34.091Z"
   },
   {
    "duration": 297,
    "start_time": "2021-11-03T09:13:34.421Z"
   },
   {
    "duration": 11,
    "start_time": "2021-11-03T09:13:34.719Z"
   },
   {
    "duration": 366,
    "start_time": "2021-11-03T09:13:34.732Z"
   },
   {
    "duration": 7,
    "start_time": "2021-11-03T09:13:35.102Z"
   },
   {
    "duration": 356,
    "start_time": "2021-11-03T09:13:35.112Z"
   },
   {
    "duration": 22,
    "start_time": "2021-11-03T09:13:35.470Z"
   },
   {
    "duration": 400,
    "start_time": "2021-11-03T09:13:35.494Z"
   },
   {
    "duration": 125,
    "start_time": "2021-11-03T09:13:35.896Z"
   },
   {
    "duration": 284,
    "start_time": "2021-11-03T09:13:36.023Z"
   },
   {
    "duration": 6,
    "start_time": "2021-11-03T09:13:36.309Z"
   },
   {
    "duration": 379,
    "start_time": "2021-11-03T09:13:36.316Z"
   },
   {
    "duration": 4,
    "start_time": "2021-11-03T09:13:36.697Z"
   },
   {
    "duration": 122,
    "start_time": "2021-11-03T09:13:36.702Z"
   },
   {
    "duration": 135,
    "start_time": "2021-11-03T09:13:36.826Z"
   },
   {
    "duration": 35,
    "start_time": "2021-11-03T09:13:36.963Z"
   },
   {
    "duration": 151,
    "start_time": "2021-11-03T09:13:37.000Z"
   },
   {
    "duration": 6,
    "start_time": "2021-11-03T09:13:37.153Z"
   },
   {
    "duration": 32,
    "start_time": "2021-11-03T09:13:37.161Z"
   },
   {
    "duration": 10,
    "start_time": "2021-11-03T09:13:37.194Z"
   },
   {
    "duration": 10,
    "start_time": "2021-11-03T09:13:37.205Z"
   },
   {
    "duration": 8,
    "start_time": "2021-11-03T09:13:37.216Z"
   },
   {
    "duration": 9,
    "start_time": "2021-11-03T09:13:37.225Z"
   },
   {
    "duration": 12,
    "start_time": "2021-11-03T09:13:37.236Z"
   },
   {
    "duration": 4,
    "start_time": "2021-11-03T09:20:56.009Z"
   },
   {
    "duration": 217,
    "start_time": "2021-11-03T09:21:25.782Z"
   },
   {
    "duration": 5,
    "start_time": "2021-11-03T09:22:27.207Z"
   },
   {
    "duration": 4,
    "start_time": "2021-11-03T09:22:36.016Z"
   },
   {
    "duration": 8,
    "start_time": "2021-11-03T09:23:27.139Z"
   },
   {
    "duration": 145,
    "start_time": "2021-11-03T09:23:52.846Z"
   },
   {
    "duration": 269,
    "start_time": "2021-11-03T09:25:33.138Z"
   },
   {
    "duration": 298,
    "start_time": "2021-11-03T09:26:22.967Z"
   },
   {
    "duration": 293,
    "start_time": "2021-11-03T09:27:23.818Z"
   },
   {
    "duration": 137,
    "start_time": "2021-11-03T09:28:59.959Z"
   },
   {
    "duration": 301,
    "start_time": "2021-11-03T09:31:07.419Z"
   },
   {
    "duration": 55,
    "start_time": "2021-11-03T09:32:43.724Z"
   },
   {
    "duration": 1044,
    "start_time": "2021-11-03T09:34:15.133Z"
   },
   {
    "duration": 24,
    "start_time": "2021-11-03T09:34:16.179Z"
   },
   {
    "duration": 22,
    "start_time": "2021-11-03T09:34:16.205Z"
   },
   {
    "duration": 18,
    "start_time": "2021-11-03T09:34:16.228Z"
   },
   {
    "duration": 56,
    "start_time": "2021-11-03T09:34:16.247Z"
   },
   {
    "duration": 7,
    "start_time": "2021-11-03T09:34:16.305Z"
   },
   {
    "duration": 39,
    "start_time": "2021-11-03T09:34:16.314Z"
   },
   {
    "duration": 4,
    "start_time": "2021-11-03T09:34:16.356Z"
   },
   {
    "duration": 17,
    "start_time": "2021-11-03T09:34:16.362Z"
   },
   {
    "duration": 25,
    "start_time": "2021-11-03T09:34:16.380Z"
   },
   {
    "duration": 34,
    "start_time": "2021-11-03T09:34:16.406Z"
   },
   {
    "duration": 4,
    "start_time": "2021-11-03T09:34:16.441Z"
   },
   {
    "duration": 24,
    "start_time": "2021-11-03T09:34:16.446Z"
   },
   {
    "duration": 19,
    "start_time": "2021-11-03T09:34:16.471Z"
   },
   {
    "duration": 14,
    "start_time": "2021-11-03T09:34:16.492Z"
   },
   {
    "duration": 29,
    "start_time": "2021-11-03T09:34:16.507Z"
   },
   {
    "duration": 23,
    "start_time": "2021-11-03T09:34:16.538Z"
   },
   {
    "duration": 294,
    "start_time": "2021-11-03T09:34:16.563Z"
   },
   {
    "duration": 10,
    "start_time": "2021-11-03T09:34:16.859Z"
   },
   {
    "duration": 220,
    "start_time": "2021-11-03T09:34:16.871Z"
   },
   {
    "duration": 156,
    "start_time": "2021-11-03T09:34:17.093Z"
   },
   {
    "duration": 12,
    "start_time": "2021-11-03T09:34:17.251Z"
   },
   {
    "duration": 28,
    "start_time": "2021-11-03T09:34:17.266Z"
   },
   {
    "duration": 308,
    "start_time": "2021-11-03T09:34:17.296Z"
   },
   {
    "duration": 305,
    "start_time": "2021-11-03T09:34:17.606Z"
   },
   {
    "duration": 13,
    "start_time": "2021-11-03T09:34:17.913Z"
   },
   {
    "duration": 378,
    "start_time": "2021-11-03T09:34:17.928Z"
   },
   {
    "duration": 6,
    "start_time": "2021-11-03T09:34:18.307Z"
   },
   {
    "duration": 491,
    "start_time": "2021-11-03T09:34:18.314Z"
   },
   {
    "duration": 13,
    "start_time": "2021-11-03T09:34:18.807Z"
   },
   {
    "duration": 447,
    "start_time": "2021-11-03T09:34:18.821Z"
   },
   {
    "duration": 126,
    "start_time": "2021-11-03T09:34:19.270Z"
   },
   {
    "duration": 376,
    "start_time": "2021-11-03T09:34:19.398Z"
   },
   {
    "duration": 15,
    "start_time": "2021-11-03T09:34:19.776Z"
   },
   {
    "duration": 355,
    "start_time": "2021-11-03T09:34:19.792Z"
   },
   {
    "duration": 5,
    "start_time": "2021-11-03T09:34:20.149Z"
   },
   {
    "duration": 135,
    "start_time": "2021-11-03T09:34:20.157Z"
   },
   {
    "duration": 141,
    "start_time": "2021-11-03T09:34:20.294Z"
   },
   {
    "duration": 28,
    "start_time": "2021-11-03T09:34:20.437Z"
   },
   {
    "duration": 113,
    "start_time": "2021-11-03T09:34:20.467Z"
   },
   {
    "duration": 14,
    "start_time": "2021-11-03T09:34:20.581Z"
   },
   {
    "duration": 9,
    "start_time": "2021-11-03T09:34:20.596Z"
   },
   {
    "duration": 10,
    "start_time": "2021-11-03T09:34:20.607Z"
   },
   {
    "duration": 10,
    "start_time": "2021-11-03T09:34:20.618Z"
   },
   {
    "duration": 8,
    "start_time": "2021-11-03T09:34:20.630Z"
   },
   {
    "duration": 12,
    "start_time": "2021-11-03T09:34:20.640Z"
   },
   {
    "duration": 43,
    "start_time": "2021-11-03T09:34:20.654Z"
   },
   {
    "duration": 358,
    "start_time": "2021-11-03T09:42:42.064Z"
   },
   {
    "duration": 341,
    "start_time": "2021-11-03T09:43:54.127Z"
   },
   {
    "duration": 270,
    "start_time": "2021-11-03T09:50:46.508Z"
   },
   {
    "duration": 174,
    "start_time": "2021-11-03T09:51:08.117Z"
   },
   {
    "duration": 323,
    "start_time": "2021-11-03T09:51:47.787Z"
   },
   {
    "duration": 115,
    "start_time": "2021-11-03T09:52:31.537Z"
   },
   {
    "duration": 122,
    "start_time": "2021-11-03T09:53:44.909Z"
   },
   {
    "duration": 145,
    "start_time": "2021-11-03T09:53:57.967Z"
   },
   {
    "duration": 131,
    "start_time": "2021-11-03T09:54:44.006Z"
   },
   {
    "duration": 147,
    "start_time": "2021-11-03T09:55:08.270Z"
   },
   {
    "duration": 121,
    "start_time": "2021-11-03T09:56:10.871Z"
   },
   {
    "duration": 125,
    "start_time": "2021-11-03T09:56:40.193Z"
   },
   {
    "duration": 109,
    "start_time": "2021-11-03T09:58:38.736Z"
   },
   {
    "duration": 308,
    "start_time": "2021-11-03T10:01:41.574Z"
   },
   {
    "duration": 324,
    "start_time": "2021-11-03T10:09:58.070Z"
   },
   {
    "duration": 320,
    "start_time": "2021-11-03T10:10:11.147Z"
   },
   {
    "duration": 281,
    "start_time": "2021-11-03T10:11:14.730Z"
   },
   {
    "duration": 338,
    "start_time": "2021-11-03T10:11:35.567Z"
   },
   {
    "duration": 325,
    "start_time": "2021-11-03T10:12:07.585Z"
   },
   {
    "duration": 470,
    "start_time": "2021-11-03T10:15:13.954Z"
   },
   {
    "duration": 420,
    "start_time": "2021-11-03T10:16:11.988Z"
   },
   {
    "duration": 392,
    "start_time": "2021-11-03T10:16:23.825Z"
   },
   {
    "duration": 428,
    "start_time": "2021-11-03T10:16:28.771Z"
   },
   {
    "duration": 374,
    "start_time": "2021-11-03T10:16:40.385Z"
   },
   {
    "duration": 338,
    "start_time": "2021-11-03T10:16:48.719Z"
   },
   {
    "duration": 265,
    "start_time": "2021-11-03T10:16:57.289Z"
   },
   {
    "duration": 405,
    "start_time": "2021-11-03T10:17:05.708Z"
   },
   {
    "duration": 259,
    "start_time": "2021-11-03T10:17:09.635Z"
   },
   {
    "duration": 420,
    "start_time": "2021-11-03T10:17:14.883Z"
   },
   {
    "duration": 383,
    "start_time": "2021-11-03T10:17:26.226Z"
   },
   {
    "duration": 488,
    "start_time": "2021-11-03T10:17:39.820Z"
   },
   {
    "duration": 312,
    "start_time": "2021-11-03T10:17:54.586Z"
   },
   {
    "duration": 422,
    "start_time": "2021-11-03T10:17:59.053Z"
   },
   {
    "duration": 403,
    "start_time": "2021-11-03T10:18:06.911Z"
   },
   {
    "duration": 175,
    "start_time": "2021-11-03T10:18:14.355Z"
   },
   {
    "duration": 441,
    "start_time": "2021-11-03T10:18:19.380Z"
   },
   {
    "duration": 513,
    "start_time": "2021-11-03T10:22:07.362Z"
   },
   {
    "duration": 756,
    "start_time": "2021-11-03T10:22:21.319Z"
   },
   {
    "duration": 436,
    "start_time": "2021-11-03T10:22:39.851Z"
   },
   {
    "duration": 506,
    "start_time": "2021-11-03T10:24:11.903Z"
   },
   {
    "duration": 467,
    "start_time": "2021-11-03T10:24:16.454Z"
   },
   {
    "duration": 426,
    "start_time": "2021-11-03T10:24:21.054Z"
   },
   {
    "duration": 403,
    "start_time": "2021-11-03T10:24:26.828Z"
   },
   {
    "duration": 394,
    "start_time": "2021-11-03T10:24:31.427Z"
   },
   {
    "duration": 426,
    "start_time": "2021-11-03T10:24:37.251Z"
   },
   {
    "duration": 407,
    "start_time": "2021-11-03T10:24:40.448Z"
   },
   {
    "duration": 392,
    "start_time": "2021-11-03T10:24:49.120Z"
   },
   {
    "duration": 291,
    "start_time": "2021-11-03T10:24:56.711Z"
   },
   {
    "duration": 366,
    "start_time": "2021-11-03T10:25:02.965Z"
   },
   {
    "duration": 490,
    "start_time": "2021-11-03T10:25:08.224Z"
   },
   {
    "duration": 553,
    "start_time": "2021-11-03T10:25:11.551Z"
   },
   {
    "duration": 428,
    "start_time": "2021-11-03T10:25:23.470Z"
   },
   {
    "duration": 376,
    "start_time": "2021-11-03T10:25:40.020Z"
   },
   {
    "duration": 394,
    "start_time": "2021-11-03T10:25:44.122Z"
   },
   {
    "duration": 336,
    "start_time": "2021-11-03T10:25:49.959Z"
   },
   {
    "duration": 278,
    "start_time": "2021-11-03T10:25:53.643Z"
   },
   {
    "duration": 300,
    "start_time": "2021-11-03T10:25:56.491Z"
   },
   {
    "duration": 395,
    "start_time": "2021-11-03T10:26:01.010Z"
   },
   {
    "duration": 180,
    "start_time": "2021-11-03T10:26:51.726Z"
   },
   {
    "duration": 396,
    "start_time": "2021-11-03T10:27:03.279Z"
   },
   {
    "duration": 420,
    "start_time": "2021-11-03T10:27:15.202Z"
   },
   {
    "duration": 365,
    "start_time": "2021-11-03T10:27:51.140Z"
   },
   {
    "duration": 406,
    "start_time": "2021-11-03T10:28:02.312Z"
   },
   {
    "duration": 421,
    "start_time": "2021-11-03T10:30:28.781Z"
   },
   {
    "duration": 420,
    "start_time": "2021-11-03T10:30:38.061Z"
   },
   {
    "duration": 378,
    "start_time": "2021-11-03T10:31:03.211Z"
   },
   {
    "duration": 396,
    "start_time": "2021-11-03T10:31:45.664Z"
   },
   {
    "duration": 358,
    "start_time": "2021-11-03T10:31:50.017Z"
   },
   {
    "duration": 390,
    "start_time": "2021-11-03T10:31:53.814Z"
   },
   {
    "duration": 459,
    "start_time": "2021-11-03T10:33:41.481Z"
   },
   {
    "duration": 380,
    "start_time": "2021-11-03T10:33:50.932Z"
   },
   {
    "duration": 413,
    "start_time": "2021-11-03T10:34:00.602Z"
   },
   {
    "duration": 446,
    "start_time": "2021-11-03T10:34:12.773Z"
   },
   {
    "duration": 314,
    "start_time": "2021-11-03T10:34:27.332Z"
   },
   {
    "duration": 476,
    "start_time": "2021-11-03T10:34:38.368Z"
   },
   {
    "duration": 464,
    "start_time": "2021-11-03T10:34:47.540Z"
   },
   {
    "duration": 516,
    "start_time": "2021-11-03T10:36:16.571Z"
   },
   {
    "duration": 7,
    "start_time": "2021-11-03T10:51:16.081Z"
   },
   {
    "duration": 10,
    "start_time": "2021-11-03T10:56:00.746Z"
   },
   {
    "duration": 7,
    "start_time": "2021-11-03T10:56:41.093Z"
   },
   {
    "duration": 15,
    "start_time": "2021-11-03T10:57:04.911Z"
   },
   {
    "duration": 1129,
    "start_time": "2021-11-03T10:59:18.103Z"
   },
   {
    "duration": 23,
    "start_time": "2021-11-03T10:59:19.234Z"
   },
   {
    "duration": 8,
    "start_time": "2021-11-03T10:59:19.259Z"
   },
   {
    "duration": 5,
    "start_time": "2021-11-03T10:59:19.269Z"
   },
   {
    "duration": 39,
    "start_time": "2021-11-03T10:59:19.275Z"
   },
   {
    "duration": 3,
    "start_time": "2021-11-03T10:59:19.316Z"
   },
   {
    "duration": 19,
    "start_time": "2021-11-03T10:59:19.321Z"
   },
   {
    "duration": 4,
    "start_time": "2021-11-03T10:59:19.342Z"
   },
   {
    "duration": 5,
    "start_time": "2021-11-03T10:59:19.349Z"
   },
   {
    "duration": 18,
    "start_time": "2021-11-03T10:59:19.355Z"
   },
   {
    "duration": 17,
    "start_time": "2021-11-03T10:59:19.374Z"
   },
   {
    "duration": 3,
    "start_time": "2021-11-03T10:59:19.393Z"
   },
   {
    "duration": 8,
    "start_time": "2021-11-03T10:59:19.398Z"
   },
   {
    "duration": 11,
    "start_time": "2021-11-03T10:59:19.407Z"
   },
   {
    "duration": 11,
    "start_time": "2021-11-03T10:59:19.419Z"
   },
   {
    "duration": 11,
    "start_time": "2021-11-03T10:59:19.432Z"
   },
   {
    "duration": 13,
    "start_time": "2021-11-03T10:59:19.444Z"
   },
   {
    "duration": 290,
    "start_time": "2021-11-03T10:59:19.458Z"
   },
   {
    "duration": 9,
    "start_time": "2021-11-03T10:59:19.750Z"
   },
   {
    "duration": 216,
    "start_time": "2021-11-03T10:59:19.761Z"
   },
   {
    "duration": 198,
    "start_time": "2021-11-03T10:59:19.978Z"
   },
   {
    "duration": 16,
    "start_time": "2021-11-03T10:59:20.177Z"
   },
   {
    "duration": 13,
    "start_time": "2021-11-03T10:59:20.195Z"
   },
   {
    "duration": 328,
    "start_time": "2021-11-03T10:59:20.210Z"
   },
   {
    "duration": 322,
    "start_time": "2021-11-03T10:59:20.540Z"
   },
   {
    "duration": 37,
    "start_time": "2021-11-03T10:59:20.863Z"
   },
   {
    "duration": 382,
    "start_time": "2021-11-03T10:59:20.903Z"
   },
   {
    "duration": 7,
    "start_time": "2021-11-03T10:59:21.287Z"
   },
   {
    "duration": 445,
    "start_time": "2021-11-03T10:59:21.296Z"
   },
   {
    "duration": 14,
    "start_time": "2021-11-03T10:59:21.743Z"
   },
   {
    "duration": 408,
    "start_time": "2021-11-03T10:59:21.758Z"
   },
   {
    "duration": 100,
    "start_time": "2021-11-03T10:59:22.167Z"
   },
   {
    "duration": 346,
    "start_time": "2021-11-03T10:59:22.268Z"
   },
   {
    "duration": 115,
    "start_time": "2021-11-03T10:59:22.615Z"
   },
   {
    "duration": 288,
    "start_time": "2021-11-03T10:59:22.731Z"
   },
   {
    "duration": 4,
    "start_time": "2021-11-03T10:59:23.021Z"
   },
   {
    "duration": 296,
    "start_time": "2021-11-03T10:59:23.027Z"
   },
   {
    "duration": 541,
    "start_time": "2021-11-03T10:59:23.325Z"
   },
   {
    "duration": 5,
    "start_time": "2021-11-03T10:59:23.868Z"
   },
   {
    "duration": 122,
    "start_time": "2021-11-03T10:59:23.874Z"
   },
   {
    "duration": 133,
    "start_time": "2021-11-03T10:59:23.997Z"
   },
   {
    "duration": 27,
    "start_time": "2021-11-03T10:59:24.132Z"
   },
   {
    "duration": 115,
    "start_time": "2021-11-03T10:59:24.161Z"
   },
   {
    "duration": 6,
    "start_time": "2021-11-03T10:59:24.277Z"
   },
   {
    "duration": 12,
    "start_time": "2021-11-03T10:59:24.292Z"
   },
   {
    "duration": 11,
    "start_time": "2021-11-03T10:59:24.305Z"
   },
   {
    "duration": 10,
    "start_time": "2021-11-03T10:59:24.318Z"
   },
   {
    "duration": 11,
    "start_time": "2021-11-03T10:59:24.329Z"
   },
   {
    "duration": 7,
    "start_time": "2021-11-03T10:59:24.341Z"
   },
   {
    "duration": 42,
    "start_time": "2021-11-03T10:59:24.349Z"
   },
   {
    "duration": 8,
    "start_time": "2021-11-03T11:01:30.905Z"
   },
   {
    "duration": 273,
    "start_time": "2021-11-03T11:02:38.044Z"
   },
   {
    "duration": 290,
    "start_time": "2021-11-03T11:03:23.529Z"
   },
   {
    "duration": 476,
    "start_time": "2021-11-03T11:03:40.310Z"
   },
   {
    "duration": 264,
    "start_time": "2021-11-03T11:05:57.438Z"
   },
   {
    "duration": 279,
    "start_time": "2021-11-03T11:06:22.324Z"
   },
   {
    "duration": 302,
    "start_time": "2021-11-03T11:06:43.559Z"
   },
   {
    "duration": 354,
    "start_time": "2021-11-03T11:06:49.778Z"
   },
   {
    "duration": 271,
    "start_time": "2021-11-03T11:06:54.733Z"
   },
   {
    "duration": 295,
    "start_time": "2021-11-03T11:07:17.434Z"
   },
   {
    "duration": 313,
    "start_time": "2021-11-03T11:08:38.000Z"
   },
   {
    "duration": 260,
    "start_time": "2021-11-03T11:09:04.546Z"
   },
   {
    "duration": 1140,
    "start_time": "2021-11-03T11:10:04.682Z"
   },
   {
    "duration": 23,
    "start_time": "2021-11-03T11:10:05.823Z"
   },
   {
    "duration": 38,
    "start_time": "2021-11-03T11:10:05.847Z"
   },
   {
    "duration": 9,
    "start_time": "2021-11-03T11:10:05.887Z"
   },
   {
    "duration": 43,
    "start_time": "2021-11-03T11:10:05.897Z"
   },
   {
    "duration": 4,
    "start_time": "2021-11-03T11:10:05.942Z"
   },
   {
    "duration": 21,
    "start_time": "2021-11-03T11:10:05.947Z"
   },
   {
    "duration": 5,
    "start_time": "2021-11-03T11:10:05.970Z"
   },
   {
    "duration": 17,
    "start_time": "2021-11-03T11:10:05.977Z"
   },
   {
    "duration": 25,
    "start_time": "2021-11-03T11:10:05.996Z"
   },
   {
    "duration": 15,
    "start_time": "2021-11-03T11:10:06.023Z"
   },
   {
    "duration": 6,
    "start_time": "2021-11-03T11:10:06.040Z"
   },
   {
    "duration": 10,
    "start_time": "2021-11-03T11:10:06.047Z"
   },
   {
    "duration": 9,
    "start_time": "2021-11-03T11:10:06.058Z"
   },
   {
    "duration": 9,
    "start_time": "2021-11-03T11:10:06.068Z"
   },
   {
    "duration": 13,
    "start_time": "2021-11-03T11:10:06.078Z"
   },
   {
    "duration": 10,
    "start_time": "2021-11-03T11:10:06.093Z"
   },
   {
    "duration": 304,
    "start_time": "2021-11-03T11:10:06.104Z"
   },
   {
    "duration": 9,
    "start_time": "2021-11-03T11:10:06.410Z"
   },
   {
    "duration": 212,
    "start_time": "2021-11-03T11:10:06.421Z"
   },
   {
    "duration": 167,
    "start_time": "2021-11-03T11:10:06.634Z"
   },
   {
    "duration": 11,
    "start_time": "2021-11-03T11:10:06.802Z"
   },
   {
    "duration": 22,
    "start_time": "2021-11-03T11:10:06.817Z"
   },
   {
    "duration": 313,
    "start_time": "2021-11-03T11:10:06.841Z"
   },
   {
    "duration": 302,
    "start_time": "2021-11-03T11:10:07.156Z"
   },
   {
    "duration": 11,
    "start_time": "2021-11-03T11:10:07.460Z"
   },
   {
    "duration": 395,
    "start_time": "2021-11-03T11:10:07.473Z"
   },
   {
    "duration": 6,
    "start_time": "2021-11-03T11:10:07.869Z"
   },
   {
    "duration": 332,
    "start_time": "2021-11-03T11:10:07.877Z"
   },
   {
    "duration": 14,
    "start_time": "2021-11-03T11:10:08.211Z"
   },
   {
    "duration": 366,
    "start_time": "2021-11-03T11:10:08.227Z"
   },
   {
    "duration": 112,
    "start_time": "2021-11-03T11:10:08.595Z"
   },
   {
    "duration": 361,
    "start_time": "2021-11-03T11:10:08.708Z"
   },
   {
    "duration": 120,
    "start_time": "2021-11-03T11:10:09.071Z"
   },
   {
    "duration": 336,
    "start_time": "2021-11-03T11:10:09.193Z"
   },
   {
    "duration": 5,
    "start_time": "2021-11-03T11:10:09.531Z"
   },
   {
    "duration": 275,
    "start_time": "2021-11-03T11:10:09.537Z"
   },
   {
    "duration": 485,
    "start_time": "2021-11-03T11:10:09.814Z"
   },
   {
    "duration": 4,
    "start_time": "2021-11-03T11:10:10.301Z"
   },
   {
    "duration": 126,
    "start_time": "2021-11-03T11:10:10.307Z"
   },
   {
    "duration": 134,
    "start_time": "2021-11-03T11:10:10.434Z"
   },
   {
    "duration": 37,
    "start_time": "2021-11-03T11:10:10.570Z"
   },
   {
    "duration": 115,
    "start_time": "2021-11-03T11:10:10.609Z"
   },
   {
    "duration": 7,
    "start_time": "2021-11-03T11:10:10.725Z"
   },
   {
    "duration": 11,
    "start_time": "2021-11-03T11:10:10.733Z"
   },
   {
    "duration": 10,
    "start_time": "2021-11-03T11:10:10.746Z"
   },
   {
    "duration": 16,
    "start_time": "2021-11-03T11:10:10.758Z"
   },
   {
    "duration": 22,
    "start_time": "2021-11-03T11:10:10.776Z"
   },
   {
    "duration": 9,
    "start_time": "2021-11-03T11:10:10.799Z"
   },
   {
    "duration": 15,
    "start_time": "2021-11-03T11:10:10.809Z"
   },
   {
    "duration": 168,
    "start_time": "2021-11-03T11:12:58.144Z"
   },
   {
    "duration": 14,
    "start_time": "2021-11-03T11:27:34.971Z"
   },
   {
    "duration": 15,
    "start_time": "2021-11-03T11:27:46.481Z"
   },
   {
    "duration": 18,
    "start_time": "2021-11-03T11:29:59.462Z"
   },
   {
    "duration": 17,
    "start_time": "2021-11-03T11:31:02.111Z"
   },
   {
    "duration": 18,
    "start_time": "2021-11-03T11:31:14.012Z"
   },
   {
    "duration": 18,
    "start_time": "2021-11-03T11:37:27.286Z"
   },
   {
    "duration": 4455,
    "start_time": "2021-11-03T11:38:58.039Z"
   },
   {
    "duration": 5101,
    "start_time": "2021-11-03T11:39:02.883Z"
   },
   {
    "duration": 18,
    "start_time": "2021-11-03T11:39:25.655Z"
   },
   {
    "duration": 174,
    "start_time": "2021-11-03T11:39:33.912Z"
   },
   {
    "duration": 14,
    "start_time": "2021-11-03T11:44:55.295Z"
   },
   {
    "duration": 3266,
    "start_time": "2021-11-03T11:45:41.410Z"
   },
   {
    "duration": 3378,
    "start_time": "2021-11-03T11:45:58.753Z"
   },
   {
    "duration": 12,
    "start_time": "2021-11-03T11:46:22.532Z"
   },
   {
    "duration": 4408,
    "start_time": "2021-11-03T11:46:58.772Z"
   },
   {
    "duration": 9,
    "start_time": "2021-11-03T11:47:20.204Z"
   },
   {
    "duration": 9,
    "start_time": "2021-11-03T11:48:38.793Z"
   },
   {
    "duration": 171,
    "start_time": "2021-11-03T11:50:38.373Z"
   },
   {
    "duration": 6,
    "start_time": "2021-11-03T11:50:44.676Z"
   },
   {
    "duration": 13,
    "start_time": "2021-11-03T11:50:46.691Z"
   },
   {
    "duration": 14,
    "start_time": "2021-11-03T11:52:44.402Z"
   },
   {
    "duration": 1041,
    "start_time": "2021-11-03T11:52:51.928Z"
   },
   {
    "duration": 24,
    "start_time": "2021-11-03T11:52:52.970Z"
   },
   {
    "duration": 7,
    "start_time": "2021-11-03T11:52:52.996Z"
   },
   {
    "duration": 5,
    "start_time": "2021-11-03T11:52:53.005Z"
   },
   {
    "duration": 38,
    "start_time": "2021-11-03T11:52:53.011Z"
   },
   {
    "duration": 4,
    "start_time": "2021-11-03T11:52:53.050Z"
   },
   {
    "duration": 24,
    "start_time": "2021-11-03T11:52:53.055Z"
   },
   {
    "duration": 4,
    "start_time": "2021-11-03T11:52:53.081Z"
   },
   {
    "duration": 9,
    "start_time": "2021-11-03T11:52:53.087Z"
   },
   {
    "duration": 256,
    "start_time": "2021-11-03T11:52:53.098Z"
   },
   {
    "duration": -291,
    "start_time": "2021-11-03T11:52:53.648Z"
   },
   {
    "duration": -293,
    "start_time": "2021-11-03T11:52:53.651Z"
   },
   {
    "duration": -295,
    "start_time": "2021-11-03T11:52:53.654Z"
   },
   {
    "duration": -298,
    "start_time": "2021-11-03T11:52:53.658Z"
   },
   {
    "duration": -301,
    "start_time": "2021-11-03T11:52:53.662Z"
   },
   {
    "duration": -303,
    "start_time": "2021-11-03T11:52:53.665Z"
   },
   {
    "duration": -305,
    "start_time": "2021-11-03T11:52:53.668Z"
   },
   {
    "duration": -305,
    "start_time": "2021-11-03T11:52:53.671Z"
   },
   {
    "duration": -306,
    "start_time": "2021-11-03T11:52:53.673Z"
   },
   {
    "duration": -309,
    "start_time": "2021-11-03T11:52:53.677Z"
   },
   {
    "duration": -311,
    "start_time": "2021-11-03T11:52:53.680Z"
   },
   {
    "duration": -314,
    "start_time": "2021-11-03T11:52:53.684Z"
   },
   {
    "duration": -314,
    "start_time": "2021-11-03T11:52:53.686Z"
   },
   {
    "duration": -316,
    "start_time": "2021-11-03T11:52:53.689Z"
   },
   {
    "duration": -319,
    "start_time": "2021-11-03T11:52:53.693Z"
   },
   {
    "duration": -322,
    "start_time": "2021-11-03T11:52:53.697Z"
   },
   {
    "duration": -324,
    "start_time": "2021-11-03T11:52:53.700Z"
   },
   {
    "duration": -331,
    "start_time": "2021-11-03T11:52:53.708Z"
   },
   {
    "duration": -333,
    "start_time": "2021-11-03T11:52:53.711Z"
   },
   {
    "duration": -336,
    "start_time": "2021-11-03T11:52:53.715Z"
   },
   {
    "duration": -338,
    "start_time": "2021-11-03T11:52:53.718Z"
   },
   {
    "duration": -340,
    "start_time": "2021-11-03T11:52:53.721Z"
   },
   {
    "duration": -342,
    "start_time": "2021-11-03T11:52:53.724Z"
   },
   {
    "duration": -344,
    "start_time": "2021-11-03T11:52:53.727Z"
   },
   {
    "duration": -346,
    "start_time": "2021-11-03T11:52:53.730Z"
   },
   {
    "duration": -348,
    "start_time": "2021-11-03T11:52:53.733Z"
   },
   {
    "duration": -350,
    "start_time": "2021-11-03T11:52:53.736Z"
   },
   {
    "duration": -352,
    "start_time": "2021-11-03T11:52:53.739Z"
   },
   {
    "duration": -354,
    "start_time": "2021-11-03T11:52:53.742Z"
   },
   {
    "duration": -357,
    "start_time": "2021-11-03T11:52:53.746Z"
   },
   {
    "duration": -359,
    "start_time": "2021-11-03T11:52:53.749Z"
   },
   {
    "duration": -361,
    "start_time": "2021-11-03T11:52:53.752Z"
   },
   {
    "duration": -363,
    "start_time": "2021-11-03T11:52:53.755Z"
   },
   {
    "duration": -364,
    "start_time": "2021-11-03T11:52:53.758Z"
   },
   {
    "duration": -366,
    "start_time": "2021-11-03T11:52:53.761Z"
   },
   {
    "duration": -368,
    "start_time": "2021-11-03T11:52:53.764Z"
   },
   {
    "duration": -370,
    "start_time": "2021-11-03T11:52:53.767Z"
   },
   {
    "duration": -372,
    "start_time": "2021-11-03T11:52:53.770Z"
   },
   {
    "duration": -374,
    "start_time": "2021-11-03T11:52:53.773Z"
   },
   {
    "duration": -377,
    "start_time": "2021-11-03T11:52:53.777Z"
   },
   {
    "duration": -379,
    "start_time": "2021-11-03T11:52:53.780Z"
   },
   {
    "duration": -381,
    "start_time": "2021-11-03T11:52:53.783Z"
   },
   {
    "duration": 6,
    "start_time": "2021-11-03T11:53:23.742Z"
   },
   {
    "duration": 15,
    "start_time": "2021-11-03T11:53:27.822Z"
   },
   {
    "duration": 1314,
    "start_time": "2021-11-03T20:23:35.801Z"
   },
   {
    "duration": 25,
    "start_time": "2021-11-03T20:23:37.117Z"
   },
   {
    "duration": 10,
    "start_time": "2021-11-03T20:23:37.144Z"
   },
   {
    "duration": 5,
    "start_time": "2021-11-03T20:23:37.157Z"
   },
   {
    "duration": 44,
    "start_time": "2021-11-03T20:23:37.164Z"
   },
   {
    "duration": 4,
    "start_time": "2021-11-03T20:23:37.211Z"
   },
   {
    "duration": 19,
    "start_time": "2021-11-03T20:23:37.216Z"
   },
   {
    "duration": 5,
    "start_time": "2021-11-03T20:23:37.238Z"
   },
   {
    "duration": 25,
    "start_time": "2021-11-03T20:23:37.247Z"
   },
   {
    "duration": 19,
    "start_time": "2021-11-03T20:23:37.274Z"
   },
   {
    "duration": 19,
    "start_time": "2021-11-03T20:23:37.295Z"
   },
   {
    "duration": 4,
    "start_time": "2021-11-03T20:23:37.316Z"
   },
   {
    "duration": 8,
    "start_time": "2021-11-03T20:23:37.322Z"
   },
   {
    "duration": 10,
    "start_time": "2021-11-03T20:23:37.332Z"
   },
   {
    "duration": 11,
    "start_time": "2021-11-03T20:23:37.344Z"
   },
   {
    "duration": 16,
    "start_time": "2021-11-03T20:23:37.358Z"
   },
   {
    "duration": 12,
    "start_time": "2021-11-03T20:23:37.376Z"
   },
   {
    "duration": 327,
    "start_time": "2021-11-03T20:23:37.390Z"
   },
   {
    "duration": 12,
    "start_time": "2021-11-03T20:23:37.719Z"
   },
   {
    "duration": 276,
    "start_time": "2021-11-03T20:23:37.733Z"
   },
   {
    "duration": 200,
    "start_time": "2021-11-03T20:23:38.011Z"
   },
   {
    "duration": 15,
    "start_time": "2021-11-03T20:23:38.213Z"
   },
   {
    "duration": 26,
    "start_time": "2021-11-03T20:23:38.231Z"
   },
   {
    "duration": 360,
    "start_time": "2021-11-03T20:23:38.261Z"
   },
   {
    "duration": 340,
    "start_time": "2021-11-03T20:23:38.622Z"
   },
   {
    "duration": 13,
    "start_time": "2021-11-03T20:23:38.964Z"
   },
   {
    "duration": 417,
    "start_time": "2021-11-03T20:23:38.979Z"
   },
   {
    "duration": 8,
    "start_time": "2021-11-03T20:23:39.398Z"
   },
   {
    "duration": 478,
    "start_time": "2021-11-03T20:23:39.408Z"
   },
   {
    "duration": 20,
    "start_time": "2021-11-03T20:23:39.888Z"
   },
   {
    "duration": 476,
    "start_time": "2021-11-03T20:23:39.910Z"
   },
   {
    "duration": 123,
    "start_time": "2021-11-03T20:23:40.388Z"
   },
   {
    "duration": 393,
    "start_time": "2021-11-03T20:23:40.513Z"
   },
   {
    "duration": 144,
    "start_time": "2021-11-03T20:23:40.908Z"
   },
   {
    "duration": 376,
    "start_time": "2021-11-03T20:23:41.053Z"
   },
   {
    "duration": 5,
    "start_time": "2021-11-03T20:23:41.431Z"
   },
   {
    "duration": 390,
    "start_time": "2021-11-03T20:23:41.446Z"
   },
   {
    "duration": 701,
    "start_time": "2021-11-03T20:23:41.838Z"
   },
   {
    "duration": 8,
    "start_time": "2021-11-03T20:23:42.545Z"
   },
   {
    "duration": 140,
    "start_time": "2021-11-03T20:23:42.555Z"
   },
   {
    "duration": 222,
    "start_time": "2021-11-03T20:23:42.697Z"
   },
   {
    "duration": 54,
    "start_time": "2021-11-03T20:23:42.922Z"
   },
   {
    "duration": 137,
    "start_time": "2021-11-03T20:23:42.978Z"
   },
   {
    "duration": 7,
    "start_time": "2021-11-03T20:23:43.117Z"
   },
   {
    "duration": 22,
    "start_time": "2021-11-03T20:23:43.126Z"
   },
   {
    "duration": 17,
    "start_time": "2021-11-03T20:23:43.150Z"
   },
   {
    "duration": 15,
    "start_time": "2021-11-03T20:23:43.169Z"
   },
   {
    "duration": 11,
    "start_time": "2021-11-03T20:23:43.186Z"
   },
   {
    "duration": 10,
    "start_time": "2021-11-03T20:23:43.199Z"
   },
   {
    "duration": 54,
    "start_time": "2021-11-03T20:23:43.211Z"
   }
  ],
  "kernelspec": {
   "display_name": "Python 3",
   "language": "python",
   "name": "python3"
  },
  "language_info": {
   "codemirror_mode": {
    "name": "ipython",
    "version": 3
   },
   "file_extension": ".py",
   "mimetype": "text/x-python",
   "name": "python",
   "nbconvert_exporter": "python",
   "pygments_lexer": "ipython3",
   "version": "3.8.8"
  },
  "toc": {
   "base_numbering": 1,
   "nav_menu": {},
   "number_sections": true,
   "sideBar": true,
   "skip_h1_title": true,
   "title_cell": "Table of Contents",
   "title_sidebar": "Contents",
   "toc_cell": false,
   "toc_position": {},
   "toc_section_display": true,
   "toc_window_display": true
  }
 },
 "nbformat": 4,
 "nbformat_minor": 2
}
