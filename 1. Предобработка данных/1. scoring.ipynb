{
 "cells": [
  {
   "cell_type": "markdown",
   "metadata": {},
   "source": [
    "# Исследование надёжности заёмщиков\n",
    "\n",
    "Заказчик — кредитный отдел банка. Нужно разобраться, влияет ли семейное положение и количество детей клиента на факт погашения кредита в срок. Входные данные от банка — статистика о платёжеспособности клиентов.\n",
    "\n",
    "Результаты исследования будут учтены при построении модели **кредитного скоринга** — специальной системы, которая оценивает способность потенциального заёмщика вернуть кредит банку."
   ]
  },
  {
   "cell_type": "markdown",
   "metadata": {},
   "source": [
    "## Шаг 1. Откройте файл с данными и изучите общую информацию"
   ]
  },
  {
   "cell_type": "code",
   "execution_count": 1,
   "metadata": {},
   "outputs": [],
   "source": [
    "import pandas as pd"
   ]
  },
  {
   "cell_type": "markdown",
   "metadata": {},
   "source": [
    "Прочитаем файл и сохраним его в переменной *df*."
   ]
  },
  {
   "cell_type": "code",
   "execution_count": 2,
   "metadata": {},
   "outputs": [],
   "source": [
    "df = pd.read_csv('/datasets/data.csv')"
   ]
  },
  {
   "cell_type": "markdown",
   "metadata": {},
   "source": [
    "Выведем первые 10 строк таблицы."
   ]
  },
  {
   "cell_type": "code",
   "execution_count": 3,
   "metadata": {},
   "outputs": [
    {
     "data": {
      "text/html": [
       "<div>\n",
       "<style scoped>\n",
       "    .dataframe tbody tr th:only-of-type {\n",
       "        vertical-align: middle;\n",
       "    }\n",
       "\n",
       "    .dataframe tbody tr th {\n",
       "        vertical-align: top;\n",
       "    }\n",
       "\n",
       "    .dataframe thead th {\n",
       "        text-align: right;\n",
       "    }\n",
       "</style>\n",
       "<table border=\"1\" class=\"dataframe\">\n",
       "  <thead>\n",
       "    <tr style=\"text-align: right;\">\n",
       "      <th></th>\n",
       "      <th>children</th>\n",
       "      <th>days_employed</th>\n",
       "      <th>dob_years</th>\n",
       "      <th>education</th>\n",
       "      <th>education_id</th>\n",
       "      <th>family_status</th>\n",
       "      <th>family_status_id</th>\n",
       "      <th>gender</th>\n",
       "      <th>income_type</th>\n",
       "      <th>debt</th>\n",
       "      <th>total_income</th>\n",
       "      <th>purpose</th>\n",
       "    </tr>\n",
       "  </thead>\n",
       "  <tbody>\n",
       "    <tr>\n",
       "      <td>0</td>\n",
       "      <td>1</td>\n",
       "      <td>-8437.673028</td>\n",
       "      <td>42</td>\n",
       "      <td>высшее</td>\n",
       "      <td>0</td>\n",
       "      <td>женат / замужем</td>\n",
       "      <td>0</td>\n",
       "      <td>F</td>\n",
       "      <td>сотрудник</td>\n",
       "      <td>0</td>\n",
       "      <td>253875.639453</td>\n",
       "      <td>покупка жилья</td>\n",
       "    </tr>\n",
       "    <tr>\n",
       "      <td>1</td>\n",
       "      <td>1</td>\n",
       "      <td>-4024.803754</td>\n",
       "      <td>36</td>\n",
       "      <td>среднее</td>\n",
       "      <td>1</td>\n",
       "      <td>женат / замужем</td>\n",
       "      <td>0</td>\n",
       "      <td>F</td>\n",
       "      <td>сотрудник</td>\n",
       "      <td>0</td>\n",
       "      <td>112080.014102</td>\n",
       "      <td>приобретение автомобиля</td>\n",
       "    </tr>\n",
       "    <tr>\n",
       "      <td>2</td>\n",
       "      <td>0</td>\n",
       "      <td>-5623.422610</td>\n",
       "      <td>33</td>\n",
       "      <td>Среднее</td>\n",
       "      <td>1</td>\n",
       "      <td>женат / замужем</td>\n",
       "      <td>0</td>\n",
       "      <td>M</td>\n",
       "      <td>сотрудник</td>\n",
       "      <td>0</td>\n",
       "      <td>145885.952297</td>\n",
       "      <td>покупка жилья</td>\n",
       "    </tr>\n",
       "    <tr>\n",
       "      <td>3</td>\n",
       "      <td>3</td>\n",
       "      <td>-4124.747207</td>\n",
       "      <td>32</td>\n",
       "      <td>среднее</td>\n",
       "      <td>1</td>\n",
       "      <td>женат / замужем</td>\n",
       "      <td>0</td>\n",
       "      <td>M</td>\n",
       "      <td>сотрудник</td>\n",
       "      <td>0</td>\n",
       "      <td>267628.550329</td>\n",
       "      <td>дополнительное образование</td>\n",
       "    </tr>\n",
       "    <tr>\n",
       "      <td>4</td>\n",
       "      <td>0</td>\n",
       "      <td>340266.072047</td>\n",
       "      <td>53</td>\n",
       "      <td>среднее</td>\n",
       "      <td>1</td>\n",
       "      <td>гражданский брак</td>\n",
       "      <td>1</td>\n",
       "      <td>F</td>\n",
       "      <td>пенсионер</td>\n",
       "      <td>0</td>\n",
       "      <td>158616.077870</td>\n",
       "      <td>сыграть свадьбу</td>\n",
       "    </tr>\n",
       "    <tr>\n",
       "      <td>5</td>\n",
       "      <td>0</td>\n",
       "      <td>-926.185831</td>\n",
       "      <td>27</td>\n",
       "      <td>высшее</td>\n",
       "      <td>0</td>\n",
       "      <td>гражданский брак</td>\n",
       "      <td>1</td>\n",
       "      <td>M</td>\n",
       "      <td>компаньон</td>\n",
       "      <td>0</td>\n",
       "      <td>255763.565419</td>\n",
       "      <td>покупка жилья</td>\n",
       "    </tr>\n",
       "    <tr>\n",
       "      <td>6</td>\n",
       "      <td>0</td>\n",
       "      <td>-2879.202052</td>\n",
       "      <td>43</td>\n",
       "      <td>высшее</td>\n",
       "      <td>0</td>\n",
       "      <td>женат / замужем</td>\n",
       "      <td>0</td>\n",
       "      <td>F</td>\n",
       "      <td>компаньон</td>\n",
       "      <td>0</td>\n",
       "      <td>240525.971920</td>\n",
       "      <td>операции с жильем</td>\n",
       "    </tr>\n",
       "    <tr>\n",
       "      <td>7</td>\n",
       "      <td>0</td>\n",
       "      <td>-152.779569</td>\n",
       "      <td>50</td>\n",
       "      <td>СРЕДНЕЕ</td>\n",
       "      <td>1</td>\n",
       "      <td>женат / замужем</td>\n",
       "      <td>0</td>\n",
       "      <td>M</td>\n",
       "      <td>сотрудник</td>\n",
       "      <td>0</td>\n",
       "      <td>135823.934197</td>\n",
       "      <td>образование</td>\n",
       "    </tr>\n",
       "    <tr>\n",
       "      <td>8</td>\n",
       "      <td>2</td>\n",
       "      <td>-6929.865299</td>\n",
       "      <td>35</td>\n",
       "      <td>ВЫСШЕЕ</td>\n",
       "      <td>0</td>\n",
       "      <td>гражданский брак</td>\n",
       "      <td>1</td>\n",
       "      <td>F</td>\n",
       "      <td>сотрудник</td>\n",
       "      <td>0</td>\n",
       "      <td>95856.832424</td>\n",
       "      <td>на проведение свадьбы</td>\n",
       "    </tr>\n",
       "    <tr>\n",
       "      <td>9</td>\n",
       "      <td>0</td>\n",
       "      <td>-2188.756445</td>\n",
       "      <td>41</td>\n",
       "      <td>среднее</td>\n",
       "      <td>1</td>\n",
       "      <td>женат / замужем</td>\n",
       "      <td>0</td>\n",
       "      <td>M</td>\n",
       "      <td>сотрудник</td>\n",
       "      <td>0</td>\n",
       "      <td>144425.938277</td>\n",
       "      <td>покупка жилья для семьи</td>\n",
       "    </tr>\n",
       "  </tbody>\n",
       "</table>\n",
       "</div>"
      ],
      "text/plain": [
       "   children  days_employed  dob_years education  education_id  \\\n",
       "0         1   -8437.673028         42    высшее             0   \n",
       "1         1   -4024.803754         36   среднее             1   \n",
       "2         0   -5623.422610         33   Среднее             1   \n",
       "3         3   -4124.747207         32   среднее             1   \n",
       "4         0  340266.072047         53   среднее             1   \n",
       "5         0    -926.185831         27    высшее             0   \n",
       "6         0   -2879.202052         43    высшее             0   \n",
       "7         0    -152.779569         50   СРЕДНЕЕ             1   \n",
       "8         2   -6929.865299         35    ВЫСШЕЕ             0   \n",
       "9         0   -2188.756445         41   среднее             1   \n",
       "\n",
       "      family_status  family_status_id gender income_type  debt   total_income  \\\n",
       "0   женат / замужем                 0      F   сотрудник     0  253875.639453   \n",
       "1   женат / замужем                 0      F   сотрудник     0  112080.014102   \n",
       "2   женат / замужем                 0      M   сотрудник     0  145885.952297   \n",
       "3   женат / замужем                 0      M   сотрудник     0  267628.550329   \n",
       "4  гражданский брак                 1      F   пенсионер     0  158616.077870   \n",
       "5  гражданский брак                 1      M   компаньон     0  255763.565419   \n",
       "6   женат / замужем                 0      F   компаньон     0  240525.971920   \n",
       "7   женат / замужем                 0      M   сотрудник     0  135823.934197   \n",
       "8  гражданский брак                 1      F   сотрудник     0   95856.832424   \n",
       "9   женат / замужем                 0      M   сотрудник     0  144425.938277   \n",
       "\n",
       "                      purpose  \n",
       "0               покупка жилья  \n",
       "1     приобретение автомобиля  \n",
       "2               покупка жилья  \n",
       "3  дополнительное образование  \n",
       "4             сыграть свадьбу  \n",
       "5               покупка жилья  \n",
       "6           операции с жильем  \n",
       "7                 образование  \n",
       "8       на проведение свадьбы  \n",
       "9     покупка жилья для семьи  "
      ]
     },
     "execution_count": 3,
     "metadata": {},
     "output_type": "execute_result"
    }
   ],
   "source": [
    "df.head(10)"
   ]
  },
  {
   "cell_type": "markdown",
   "metadata": {},
   "source": [
    "Получим общую информацию о данных таблицы *df*."
   ]
  },
  {
   "cell_type": "code",
   "execution_count": 4,
   "metadata": {},
   "outputs": [
    {
     "name": "stdout",
     "output_type": "stream",
     "text": [
      "<class 'pandas.core.frame.DataFrame'>\n",
      "RangeIndex: 21525 entries, 0 to 21524\n",
      "Data columns (total 12 columns):\n",
      "children            21525 non-null int64\n",
      "days_employed       19351 non-null float64\n",
      "dob_years           21525 non-null int64\n",
      "education           21525 non-null object\n",
      "education_id        21525 non-null int64\n",
      "family_status       21525 non-null object\n",
      "family_status_id    21525 non-null int64\n",
      "gender              21525 non-null object\n",
      "income_type         21525 non-null object\n",
      "debt                21525 non-null int64\n",
      "total_income        19351 non-null float64\n",
      "purpose             21525 non-null object\n",
      "dtypes: float64(2), int64(5), object(5)\n",
      "memory usage: 2.0+ MB\n"
     ]
    }
   ],
   "source": [
    "df.info()"
   ]
  },
  {
   "cell_type": "markdown",
   "metadata": {},
   "source": [
    "Всего в таблице 12 столбцов, с разными типами данных. По 5 столбцов имеют типы данных *int64* и *object*, оставшиеся 2 столбца - *float64*.\n",
    "\n",
    "Столбцы в таблице *df* и какую информацию они содержат:\n",
    "* children — количество детей в семье;\n",
    "* days_employed — общий трудовой стаж в днях;\n",
    "* dob_years — возраст клиента в годах;\n",
    "* education — уровень образования клиента;\n",
    "* education_id — идентификатор уровня образования;\n",
    "* family_status — семейное положение;\n",
    "* family_status_id — идентификатор семейного положения;\n",
    "* gender — пол клиента;\n",
    "* income_type — тип занятости;\n",
    "* debt — имел ли задолженность по возврату кредитов;\n",
    "* total_income — ежемесячный доход;\n",
    "* purpose — цель получения кредита."
   ]
  },
  {
   "cell_type": "markdown",
   "metadata": {},
   "source": [
    "**Вывод**"
   ]
  },
  {
   "cell_type": "markdown",
   "metadata": {},
   "source": [
    "Каждая строка в данной таблице содержит определенную информацию о клиенте, а именно: его количество детей, общий трудовой стаж, возраст, уровень образования, семейное положение, пол, тип занятости, информацию о задолжностях по возврату кредитов, ежемесячный доход и цель получения кредита. \n",
    "\n",
    "Количество значений в столбцах *days_employed* и *total_income* отличаются от остальных. К тому же эти 2 столбца имеют одинаковое количество значений.\n",
    "\n",
    "На данном этапе анализа можно выделить несколько проблем, которые нужно решить:\n",
    "* пропуски в столбцах *days_employed* и *total_income*;\n",
    "* отрицательные значения в столбце *days_employed*;\n",
    "* преобразование типа *float64* в тип *int64* и его последующее округление в столбцах *total_income* и *days_employed* для удобства работы с информацией;\n",
    "* значения с символами верхнего регистра в столбце *education*. \n",
    "\n",
    "В пропусках наблюдается некая закономерность, так как пропущенные значения в столбцах *days_employed* и *total_income* присутсвуют в одних и тех же строках, что, возможно, обусловлено технической ошибкой.\n",
    "\n",
    "Возможно, в ходе дальнейшего анализа выявятся и другие проблемы.\n",
    "\n",
    "Для исследования заданного вопроса нас интересуют столбцы *children*, *family_status*, *family_status_id* и *debt*."
   ]
  },
  {
   "cell_type": "markdown",
   "metadata": {},
   "source": [
    "## Шаг 2. Предобработка данных"
   ]
  },
  {
   "cell_type": "markdown",
   "metadata": {},
   "source": [
    "### Обработка пропусков"
   ]
  },
  {
   "cell_type": "markdown",
   "metadata": {},
   "source": [
    "Проверим данные на наличие пропусков вызовом набора методов для суммирования пропущенных значений."
   ]
  },
  {
   "cell_type": "code",
   "execution_count": 5,
   "metadata": {},
   "outputs": [
    {
     "data": {
      "text/plain": [
       "children               0\n",
       "days_employed       2174\n",
       "dob_years              0\n",
       "education              0\n",
       "education_id           0\n",
       "family_status          0\n",
       "family_status_id       0\n",
       "gender                 0\n",
       "income_type            0\n",
       "debt                   0\n",
       "total_income        2174\n",
       "purpose                0\n",
       "dtype: int64"
      ]
     },
     "execution_count": 5,
     "metadata": {},
     "output_type": "execute_result"
    }
   ],
   "source": [
    "df.isnull().sum()"
   ]
  },
  {
   "cell_type": "markdown",
   "metadata": {},
   "source": [
    "Пропуски выявились в столбцах *days_employed* и *total_income*. Оба столбца отображают количественные переменные, поэтому их пропуски мы будем заполнять характерными значениями. Для этого нам пригодятся среднее арифметическое и медиана."
   ]
  },
  {
   "cell_type": "markdown",
   "metadata": {},
   "source": [
    "Заполнять пропуски начнем со столбца *total_income*. Для начала проверим есть ли там отрицательные значения, как в столбце *days_employed*."
   ]
  },
  {
   "cell_type": "code",
   "execution_count": 6,
   "metadata": {},
   "outputs": [
    {
     "data": {
      "text/plain": [
       "0"
      ]
     },
     "execution_count": 6,
     "metadata": {},
     "output_type": "execute_result"
    }
   ],
   "source": [
    "df['total_income'][df['total_income'] < 0].count()"
   ]
  },
  {
   "cell_type": "markdown",
   "metadata": {},
   "source": [
    "Количество отрицательных равно 0. Значит можно смело искать среднее арифметическое и медиану значений. Чтобы все было по-честному сгруппируем полученные значения по типу занятости. "
   ]
  },
  {
   "cell_type": "code",
   "execution_count": 7,
   "metadata": {},
   "outputs": [
    {
     "data": {
      "text/plain": [
       "income_type\n",
       "безработный        131339.751676\n",
       "в декрете           53829.130729\n",
       "госслужащий        170898.309923\n",
       "компаньон          202417.461462\n",
       "пенсионер          137127.465690\n",
       "предприниматель    499163.144947\n",
       "сотрудник          161380.260488\n",
       "студент             98201.625314\n",
       "Name: total_income, dtype: float64"
      ]
     },
     "metadata": {},
     "output_type": "display_data"
    },
    {
     "name": "stdout",
     "output_type": "stream",
     "text": [
      "income_type\n",
      "безработный        131339.751676\n",
      "в декрете           53829.130729\n",
      "госслужащий        150447.935283\n",
      "компаньон          172357.950966\n",
      "пенсионер          118514.486412\n",
      "предприниматель    499163.144947\n",
      "сотрудник          142594.396847\n",
      "студент             98201.625314\n",
      "Name: total_income, dtype: float64\n"
     ]
    }
   ],
   "source": [
    "total_income_grouped_mean = df.groupby('income_type')['total_income'].mean() \n",
    "display(total_income_grouped_mean)\n",
    "\n",
    "total_income_grouped_median = df.groupby('income_type')['total_income'].median() \n",
    "print(total_income_grouped_median)"
   ]
  },
  {
   "cell_type": "markdown",
   "metadata": {},
   "source": [
    "Значения, посчитанные через среднее арифметическое и медиану, отличаются некритично, поэтому при заполнении пропусков будем использовать среднее арифметическое."
   ]
  },
  {
   "cell_type": "markdown",
   "metadata": {},
   "source": [
    "Заполним пропуски в столбце *total_income* с группировкой по переменной *income_type*."
   ]
  },
  {
   "cell_type": "code",
   "execution_count": 8,
   "metadata": {},
   "outputs": [],
   "source": [
    "for type in df['income_type'].unique():\n",
    "    mean_income = df.loc[df['income_type'] == type, 'total_income'].mean()\n",
    "    df.loc[(df['total_income'].isna()) & (df['income_type'] == type), 'total_income'] = mean_income"
   ]
  },
  {
   "cell_type": "markdown",
   "metadata": {},
   "source": [
    "Аналогичным способом заполним пропуски в столбце *days_employed*, но до этого мы должны проделать необходимые операции со значениями в этом столбце. Некоторые значения в столбце имеют отрицательное значение. Проверим есть ли какая-то зависимость от знака перед значением."
   ]
  },
  {
   "cell_type": "code",
   "execution_count": 9,
   "metadata": {},
   "outputs": [
    {
     "name": "stdout",
     "output_type": "stream",
     "text": [
      "15906\n"
     ]
    },
    {
     "data": {
      "text/plain": [
       "0     -8437.673028\n",
       "1     -4024.803754\n",
       "2     -5623.422610\n",
       "3     -4124.747207\n",
       "5      -926.185831\n",
       "6     -2879.202052\n",
       "7      -152.779569\n",
       "8     -6929.865299\n",
       "9     -2188.756445\n",
       "10    -4171.483647\n",
       "11     -792.701887\n",
       "13    -1846.641941\n",
       "14    -1844.956182\n",
       "15     -972.364419\n",
       "16    -1719.934226\n",
       "17    -2369.999720\n",
       "19   -10038.818549\n",
       "20    -1311.604166\n",
       "21     -253.685166\n",
       "22    -1766.644138\n",
       "Name: days_employed, dtype: float64"
      ]
     },
     "execution_count": 9,
     "metadata": {},
     "output_type": "execute_result"
    }
   ],
   "source": [
    "print(df['days_employed'][df['days_employed'] < 0].count())\n",
    "df['days_employed'][df['days_employed'] < 0].head(20)"
   ]
  },
  {
   "cell_type": "code",
   "execution_count": 10,
   "metadata": {},
   "outputs": [
    {
     "name": "stdout",
     "output_type": "stream",
     "text": [
      "3445\n"
     ]
    },
    {
     "data": {
      "text/plain": [
       "4      340266.072047\n",
       "18     400281.136913\n",
       "24     338551.952911\n",
       "25     363548.489348\n",
       "30     335581.668515\n",
       "35     394021.072184\n",
       "50     353731.432338\n",
       "56     370145.087237\n",
       "71     338113.529892\n",
       "78     359722.945074\n",
       "86     383933.549664\n",
       "87     337659.535004\n",
       "88     373129.789654\n",
       "98     364906.205736\n",
       "99     346541.618895\n",
       "101    391558.961849\n",
       "104    366323.649429\n",
       "119    382189.129056\n",
       "128    379035.920619\n",
       "129    361010.321350\n",
       "Name: days_employed, dtype: float64"
      ]
     },
     "execution_count": 10,
     "metadata": {},
     "output_type": "execute_result"
    }
   ],
   "source": [
    "print(df['days_employed'][df['days_employed'] > 0].count())\n",
    "df['days_employed'][df['days_employed'] > 0].head(20)"
   ]
  },
  {
   "cell_type": "markdown",
   "metadata": {},
   "source": [
    "Положительные значения в столбце *days_employed* имеют неоправданно большие значения и к тому же составляют 16% от всех значений, значит просто удалить их нельзя.\n",
    "Скорее всего значения со положительным знаком отображают общий трудовой стаж не в днях, а в часах.\n",
    "Отобразим все положительные значения в днях. Для этого поделим каждое из них на 24, с помощью функции *hours_to_days*. После этого проверим результат."
   ]
  },
  {
   "cell_type": "code",
   "execution_count": 11,
   "metadata": {},
   "outputs": [
    {
     "data": {
      "text/plain": [
       "4      14177.753002\n",
       "18     16678.380705\n",
       "24     14106.331371\n",
       "25     15147.853723\n",
       "30     13982.569521\n",
       "35     16417.544674\n",
       "50     14738.809681\n",
       "56     15422.711968\n",
       "71     14088.063746\n",
       "78     14988.456045\n",
       "86     15997.231236\n",
       "87     14069.147292\n",
       "88     15547.074569\n",
       "98     15204.425239\n",
       "99     14439.234121\n",
       "101    16314.956744\n",
       "104    15263.485393\n",
       "119    15924.547044\n",
       "128    15793.163359\n",
       "129    15042.096723\n",
       "Name: days_employed, dtype: float64"
      ]
     },
     "execution_count": 11,
     "metadata": {},
     "output_type": "execute_result"
    }
   ],
   "source": [
    "def hours_to_days(data):\n",
    "    if data['days_employed'] > 0:\n",
    "        return (data['days_employed'] / 24)\n",
    "    else:\n",
    "        return data['days_employed']\n",
    "df['days_employed'] = df.apply(hours_to_days, axis = 1)\n",
    "df['days_employed'][df['days_employed'] > 0].head(20)"
   ]
  },
  {
   "cell_type": "markdown",
   "metadata": {},
   "source": [
    "Теперь все значения в столбце *days_employed* представлены в днях. Пришло время разобраться с отрицательными значениями. Отрицательными они получились скорее всего из-за того, что в таблицу вносили разность между временем вношения данных в таблицу и временем начала отстчета трудового стажа относительно UTC."
   ]
  },
  {
   "cell_type": "markdown",
   "metadata": {},
   "source": [
    "Теперь пришло время разобраться с отрицательными значениями."
   ]
  },
  {
   "cell_type": "code",
   "execution_count": 12,
   "metadata": {},
   "outputs": [
    {
     "data": {
      "text/plain": [
       "0"
      ]
     },
     "execution_count": 12,
     "metadata": {},
     "output_type": "execute_result"
    }
   ],
   "source": [
    "df['days_employed'] = df['days_employed'].apply(abs)\n",
    "df['days_employed'][df['days_employed'] < 0].count()"
   ]
  },
  {
   "cell_type": "markdown",
   "metadata": {},
   "source": [
    "После успешной проверки на наличие отрицательных значений в столбце, наконец-то можно приступить к заполнению пропусков с группировкой по переменной *income_type*."
   ]
  },
  {
   "cell_type": "code",
   "execution_count": 13,
   "metadata": {},
   "outputs": [],
   "source": [
    "for type in df['income_type'].unique():\n",
    "    mean_days = df.loc[df['income_type'] == type, 'days_employed'].mean()\n",
    "    df.loc[(df['days_employed'].isna()) & (df['income_type'] == type), 'days_employed'] = mean_days"
   ]
  },
  {
   "cell_type": "markdown",
   "metadata": {},
   "source": [
    "Проверим наличие пропусков в таблице."
   ]
  },
  {
   "cell_type": "code",
   "execution_count": 14,
   "metadata": {},
   "outputs": [
    {
     "data": {
      "text/plain": [
       "children            0\n",
       "days_employed       0\n",
       "dob_years           0\n",
       "education           0\n",
       "education_id        0\n",
       "family_status       0\n",
       "family_status_id    0\n",
       "gender              0\n",
       "income_type         0\n",
       "debt                0\n",
       "total_income        0\n",
       "purpose             0\n",
       "dtype: int64"
      ]
     },
     "execution_count": 14,
     "metadata": {},
     "output_type": "execute_result"
    }
   ],
   "source": [
    "df.isnull().sum()"
   ]
  },
  {
   "cell_type": "markdown",
   "metadata": {},
   "source": [
    "Мы окончательно избавились от пропусков."
   ]
  },
  {
   "cell_type": "markdown",
   "metadata": {},
   "source": [
    "**Вывод**"
   ]
  },
  {
   "cell_type": "markdown",
   "metadata": {},
   "source": [
    "Пропуски в столбцах *days_employed* и *total_income* выявлялись в одинаковых строках, что говорит о системной ошибке при введении значений в таблицу. Столбец *days_employed* можно было просто удалить без обработки значений, так как информация из него не нужна для ответов на поставленные вопросы. "
   ]
  },
  {
   "cell_type": "markdown",
   "metadata": {},
   "source": [
    "### Замена типа данных"
   ]
  },
  {
   "cell_type": "markdown",
   "metadata": {},
   "source": [
    "Значения в столбцах *days_employed* и *total_income* имеют тип *float64*. В данном случае этот тип выглядит непрезентабельно, поэтому придется заменить тип данных в этих столбцах на *int* с помощью метода *astype*."
   ]
  },
  {
   "cell_type": "code",
   "execution_count": 15,
   "metadata": {},
   "outputs": [
    {
     "name": "stdout",
     "output_type": "stream",
     "text": [
      "<class 'pandas.core.frame.DataFrame'>\n",
      "RangeIndex: 21525 entries, 0 to 21524\n",
      "Data columns (total 12 columns):\n",
      "children            21525 non-null int64\n",
      "days_employed       21525 non-null int64\n",
      "dob_years           21525 non-null int64\n",
      "education           21525 non-null object\n",
      "education_id        21525 non-null int64\n",
      "family_status       21525 non-null object\n",
      "family_status_id    21525 non-null int64\n",
      "gender              21525 non-null object\n",
      "income_type         21525 non-null object\n",
      "debt                21525 non-null int64\n",
      "total_income        21525 non-null int64\n",
      "purpose             21525 non-null object\n",
      "dtypes: int64(7), object(5)\n",
      "memory usage: 2.0+ MB\n"
     ]
    }
   ],
   "source": [
    "df['days_employed'] = df['days_employed'].astype(int)\n",
    "df['total_income'] = df['total_income'].astype(int)\n",
    "df.info()"
   ]
  },
  {
   "cell_type": "markdown",
   "metadata": {},
   "source": [
    "**Вывод**"
   ]
  },
  {
   "cell_type": "markdown",
   "metadata": {},
   "source": [
    "Со значениями в вышеописанных столбцах неудобно работать с изначальным типом *float64* и, так как в нашем случае этот тип не подходит данным значениям, мы перевели их в целое число."
   ]
  },
  {
   "cell_type": "markdown",
   "metadata": {},
   "source": [
    "### Обработка дубликатов"
   ]
  },
  {
   "cell_type": "markdown",
   "metadata": {},
   "source": [
    "Для действенного поиска и дальнейшего удаления дубликатов необходимо привести все символы в столбцах с типом *object*, если это необходимо, к нижнему регистру. Проверим каждый такой столбец на количесвто уникальных значений."
   ]
  },
  {
   "cell_type": "code",
   "execution_count": 16,
   "metadata": {
    "scrolled": false
   },
   "outputs": [
    {
     "data": {
      "text/plain": [
       "среднее                13750\n",
       "высшее                  4718\n",
       "СРЕДНЕЕ                  772\n",
       "Среднее                  711\n",
       "неоконченное высшее      668\n",
       "ВЫСШЕЕ                   274\n",
       "Высшее                   268\n",
       "начальное                250\n",
       "Неоконченное высшее       47\n",
       "НЕОКОНЧЕННОЕ ВЫСШЕЕ       29\n",
       "НАЧАЛЬНОЕ                 17\n",
       "Начальное                 15\n",
       "ученая степень             4\n",
       "УЧЕНАЯ СТЕПЕНЬ             1\n",
       "Ученая степень             1\n",
       "Name: education, dtype: int64"
      ]
     },
     "metadata": {},
     "output_type": "display_data"
    },
    {
     "data": {
      "text/plain": [
       "женат / замужем          12380\n",
       "гражданский брак          4177\n",
       "Не женат / не замужем     2813\n",
       "в разводе                 1195\n",
       "вдовец / вдова             960\n",
       "Name: family_status, dtype: int64"
      ]
     },
     "metadata": {},
     "output_type": "display_data"
    },
    {
     "data": {
      "text/plain": [
       "F      14236\n",
       "M       7288\n",
       "XNA        1\n",
       "Name: gender, dtype: int64"
      ]
     },
     "metadata": {},
     "output_type": "display_data"
    },
    {
     "data": {
      "text/plain": [
       "сотрудник          11119\n",
       "компаньон           5085\n",
       "пенсионер           3856\n",
       "госслужащий         1459\n",
       "предприниматель        2\n",
       "безработный            2\n",
       "в декрете              1\n",
       "студент                1\n",
       "Name: income_type, dtype: int64"
      ]
     },
     "metadata": {},
     "output_type": "display_data"
    },
    {
     "data": {
      "text/plain": [
       "свадьба                                   797\n",
       "на проведение свадьбы                     777\n",
       "сыграть свадьбу                           774\n",
       "операции с недвижимостью                  676\n",
       "покупка коммерческой недвижимости         664\n",
       "покупка жилья для сдачи                   653\n",
       "операции с жильем                         653\n",
       "операции с коммерческой недвижимостью     651\n",
       "покупка жилья                             647\n",
       "жилье                                     647\n",
       "покупка жилья для семьи                   641\n",
       "строительство собственной недвижимости    635\n",
       "недвижимость                              634\n",
       "операции со своей недвижимостью           630\n",
       "строительство жилой недвижимости          626\n",
       "покупка недвижимости                      624\n",
       "покупка своего жилья                      620\n",
       "строительство недвижимости                620\n",
       "ремонт жилью                              612\n",
       "покупка жилой недвижимости                607\n",
       "на покупку своего автомобиля              505\n",
       "заняться высшим образованием              496\n",
       "автомобиль                                495\n",
       "сделка с подержанным автомобилем          489\n",
       "свой автомобиль                           480\n",
       "на покупку подержанного автомобиля        479\n",
       "автомобили                                478\n",
       "на покупку автомобиля                     472\n",
       "приобретение автомобиля                   462\n",
       "дополнительное образование                462\n",
       "сделка с автомобилем                      455\n",
       "высшее образование                        453\n",
       "получение дополнительного образования     447\n",
       "образование                               447\n",
       "получение образования                     443\n",
       "профильное образование                    436\n",
       "получение высшего образования             426\n",
       "заняться образованием                     412\n",
       "Name: purpose, dtype: int64"
      ]
     },
     "metadata": {},
     "output_type": "display_data"
    }
   ],
   "source": [
    "display(df['education'].value_counts())\n",
    "display(df['family_status'].value_counts())\n",
    "display(df['gender'].value_counts())\n",
    "display(df['income_type'].value_counts())\n",
    "display(df['purpose'].value_counts())"
   ]
  },
  {
   "cell_type": "markdown",
   "metadata": {},
   "source": [
    "Видно, что в столбце *education* необходимо применить понижение регистра символов."
   ]
  },
  {
   "cell_type": "code",
   "execution_count": 17,
   "metadata": {},
   "outputs": [
    {
     "data": {
      "text/plain": [
       "среднее                15233\n",
       "высшее                  5260\n",
       "неоконченное высшее      744\n",
       "начальное                282\n",
       "ученая степень             6\n",
       "Name: education, dtype: int64"
      ]
     },
     "execution_count": 17,
     "metadata": {},
     "output_type": "execute_result"
    }
   ],
   "source": [
    "df['education'] = df['education'].str.lower()\n",
    "df['education'].value_counts()"
   ]
  },
  {
   "cell_type": "markdown",
   "metadata": {},
   "source": [
    "В столбце *family_status* присутствует один вид значения *Не женат / не замужем* с символом верхнего регистра, но понижение регистра этого символа ничего кардинально не изменит, так как он по своему смыслу уникален, поэтому оставляем этот столбец без изменений.\n",
    "Значения в столбце *income_type* при поиске дубликатов проблем не принесут. Аналогичная ситуация со столбцами *purpose* и *gender*, но в столбце *gender* выделяется значение *XNA*, которое встречается всего в одной строке. Мы можем либо удалить эту строку, так как это никак не отобразится на результате исследования, либо заменить его на более часто встречающееся *F*. Выберем второй вариант."
   ]
  },
  {
   "cell_type": "code",
   "execution_count": 18,
   "metadata": {},
   "outputs": [
    {
     "data": {
      "text/plain": [
       "F    14237\n",
       "M     7288\n",
       "Name: gender, dtype: int64"
      ]
     },
     "metadata": {},
     "output_type": "display_data"
    }
   ],
   "source": [
    "df['gender'] = df['gender'].replace('XNA', 'F')\n",
    "display(df['gender'].value_counts())"
   ]
  },
  {
   "cell_type": "markdown",
   "metadata": {},
   "source": [
    "Теперь можно приступить к поиску дубликатов."
   ]
  },
  {
   "cell_type": "code",
   "execution_count": 19,
   "metadata": {},
   "outputs": [
    {
     "data": {
      "text/plain": [
       "71"
      ]
     },
     "execution_count": 19,
     "metadata": {},
     "output_type": "execute_result"
    }
   ],
   "source": [
    "df.duplicated().sum()"
   ]
  },
  {
   "cell_type": "markdown",
   "metadata": {},
   "source": [
    "Найден 71 дубликат. Удаляем их, без создавания столбцов со старыми значениями индексов."
   ]
  },
  {
   "cell_type": "code",
   "execution_count": 20,
   "metadata": {},
   "outputs": [
    {
     "data": {
      "text/plain": [
       "0"
      ]
     },
     "execution_count": 20,
     "metadata": {},
     "output_type": "execute_result"
    }
   ],
   "source": [
    "df = df.drop_duplicates().reset_index(drop = True)\n",
    "df.duplicated().sum()"
   ]
  },
  {
   "cell_type": "markdown",
   "metadata": {},
   "source": [
    "**Вывод**"
   ]
  },
  {
   "cell_type": "markdown",
   "metadata": {},
   "source": [
    "Дубликаты удалены. Возможно, появление дубликатов обусловлено тем, что данные собирались из разобщенных источников организации и в последствии были объеденены в одну базу данных. Также имеет место быть, что в этих источниках по разному велась информация, например, об образовании. К примеру: *среднее* или *СРЕДНЕЕ*. "
   ]
  },
  {
   "cell_type": "markdown",
   "metadata": {},
   "source": [
    "### Лемматизация"
   ]
  },
  {
   "cell_type": "markdown",
   "metadata": {},
   "source": [
    "По столбцу *purpose* заметно, что клиенты по-разному описывают цели для получения кредита, но в общем итоге имеют ввиду похожие категории. Напрмер, *свадьба*, *на проведение свадьбы*, *сыграть свадьбу*. Эти значения можно привести к одной категории - *свадьба*. Для этого нужно провести лемматизацию всего столбца *purpose*."
   ]
  },
  {
   "cell_type": "markdown",
   "metadata": {},
   "source": [
    "Найдем наиболее встречающиеся ключевые слова в столбце. Для этого создадим новый столбец *key_purpose*, где будет находится лемма соответствующей строки, c помощью функции *lem_purpose* и посчитаем количество каждого из встречающихся слов в столбце, вызвав *Counter*."
   ]
  },
  {
   "cell_type": "code",
   "execution_count": 21,
   "metadata": {},
   "outputs": [
    {
     "name": "stdout",
     "output_type": "stream",
     "text": [
      "0                             [покупка,  , жилье, \\n]\n",
      "1                   [приобретение,  , автомобиль, \\n]\n",
      "2                             [покупка,  , жилье, \\n]\n",
      "3                [дополнительный,  , образование, \\n]\n",
      "4                           [сыграть,  , свадьба, \\n]\n",
      "                             ...                     \n",
      "21449                  [операция,  , с,  , жилье, \\n]\n",
      "21450               [сделка,  , с,  , автомобиль, \\n]\n",
      "21451                              [недвижимость, \\n]\n",
      "21452    [на,  , покупка,  , свой,  , автомобиль, \\n]\n",
      "21453             [на,  , покупка,  , автомобиль, \\n]\n",
      "Name: key_purpose, Length: 21454, dtype: object\n"
     ]
    },
    {
     "data": {
      "text/plain": [
       "Counter({'покупка': 5897,\n",
       "         ' ': 33570,\n",
       "         'жилье': 4460,\n",
       "         '\\n': 21454,\n",
       "         'приобретение': 461,\n",
       "         'автомобиль': 4306,\n",
       "         'дополнительный': 906,\n",
       "         'образование': 4013,\n",
       "         'сыграть': 765,\n",
       "         'свадьба': 2324,\n",
       "         'операция': 2604,\n",
       "         'с': 2918,\n",
       "         'на': 2222,\n",
       "         'проведение': 768,\n",
       "         'для': 1289,\n",
       "         'семья': 638,\n",
       "         'недвижимость': 6351,\n",
       "         'коммерческий': 1311,\n",
       "         'жилой': 1230,\n",
       "         'строительство': 1878,\n",
       "         'собственный': 635,\n",
       "         'подержать': 478,\n",
       "         'свой': 2230,\n",
       "         'со': 627,\n",
       "         'заниматься': 904,\n",
       "         'сделка': 941,\n",
       "         'подержанный': 486,\n",
       "         'получение': 1314,\n",
       "         'высокий': 1374,\n",
       "         'профильный': 436,\n",
       "         'сдача': 651,\n",
       "         'ремонт': 607})"
      ]
     },
     "execution_count": 21,
     "metadata": {},
     "output_type": "execute_result"
    }
   ],
   "source": [
    "from pymystem3 import Mystem\n",
    "from collections import Counter\n",
    "m = Mystem()\n",
    "\n",
    "def lem_purpose(purpose):\n",
    "    lem = m.lemmatize(purpose)\n",
    "    return lem\n",
    "\n",
    "df['key_purpose'] = df['purpose'].apply(lem_purpose)\n",
    "print(df['key_purpose'])\n",
    "\n",
    "Counter(df['key_purpose'].sum())"
   ]
  },
  {
   "cell_type": "markdown",
   "metadata": {},
   "source": [
    "Из полученных результатов можно выделить следующие категории:\n",
    "* автомобиль;\n",
    "* образование;\n",
    "* свадьба;\n",
    "* недвижимость(жилье).\n",
    "\n",
    "За дальнейшей ненадобностью удалим столбец *key_purpose*."
   ]
  },
  {
   "cell_type": "code",
   "execution_count": 22,
   "metadata": {},
   "outputs": [],
   "source": [
    "df = df.drop('key_purpose', axis =1)"
   ]
  },
  {
   "cell_type": "markdown",
   "metadata": {},
   "source": [
    "Применив функцию *main_to_common* добавим в таблицу новый столбец *common_purpose*, в котором все цели кредита заменены на их обобщенное описание."
   ]
  },
  {
   "cell_type": "code",
   "execution_count": 23,
   "metadata": {},
   "outputs": [
    {
     "data": {
      "text/html": [
       "<div>\n",
       "<style scoped>\n",
       "    .dataframe tbody tr th:only-of-type {\n",
       "        vertical-align: middle;\n",
       "    }\n",
       "\n",
       "    .dataframe tbody tr th {\n",
       "        vertical-align: top;\n",
       "    }\n",
       "\n",
       "    .dataframe thead th {\n",
       "        text-align: right;\n",
       "    }\n",
       "</style>\n",
       "<table border=\"1\" class=\"dataframe\">\n",
       "  <thead>\n",
       "    <tr style=\"text-align: right;\">\n",
       "      <th></th>\n",
       "      <th>children</th>\n",
       "      <th>days_employed</th>\n",
       "      <th>dob_years</th>\n",
       "      <th>education</th>\n",
       "      <th>education_id</th>\n",
       "      <th>family_status</th>\n",
       "      <th>family_status_id</th>\n",
       "      <th>gender</th>\n",
       "      <th>income_type</th>\n",
       "      <th>debt</th>\n",
       "      <th>total_income</th>\n",
       "      <th>purpose</th>\n",
       "      <th>common_purpose</th>\n",
       "    </tr>\n",
       "  </thead>\n",
       "  <tbody>\n",
       "    <tr>\n",
       "      <td>0</td>\n",
       "      <td>1</td>\n",
       "      <td>8437</td>\n",
       "      <td>42</td>\n",
       "      <td>высшее</td>\n",
       "      <td>0</td>\n",
       "      <td>женат / замужем</td>\n",
       "      <td>0</td>\n",
       "      <td>F</td>\n",
       "      <td>сотрудник</td>\n",
       "      <td>0</td>\n",
       "      <td>253875</td>\n",
       "      <td>покупка жилья</td>\n",
       "      <td>недвижимость</td>\n",
       "    </tr>\n",
       "    <tr>\n",
       "      <td>1</td>\n",
       "      <td>1</td>\n",
       "      <td>4024</td>\n",
       "      <td>36</td>\n",
       "      <td>среднее</td>\n",
       "      <td>1</td>\n",
       "      <td>женат / замужем</td>\n",
       "      <td>0</td>\n",
       "      <td>F</td>\n",
       "      <td>сотрудник</td>\n",
       "      <td>0</td>\n",
       "      <td>112080</td>\n",
       "      <td>приобретение автомобиля</td>\n",
       "      <td>автомобиль</td>\n",
       "    </tr>\n",
       "    <tr>\n",
       "      <td>2</td>\n",
       "      <td>0</td>\n",
       "      <td>5623</td>\n",
       "      <td>33</td>\n",
       "      <td>среднее</td>\n",
       "      <td>1</td>\n",
       "      <td>женат / замужем</td>\n",
       "      <td>0</td>\n",
       "      <td>M</td>\n",
       "      <td>сотрудник</td>\n",
       "      <td>0</td>\n",
       "      <td>145885</td>\n",
       "      <td>покупка жилья</td>\n",
       "      <td>недвижимость</td>\n",
       "    </tr>\n",
       "    <tr>\n",
       "      <td>3</td>\n",
       "      <td>3</td>\n",
       "      <td>4124</td>\n",
       "      <td>32</td>\n",
       "      <td>среднее</td>\n",
       "      <td>1</td>\n",
       "      <td>женат / замужем</td>\n",
       "      <td>0</td>\n",
       "      <td>M</td>\n",
       "      <td>сотрудник</td>\n",
       "      <td>0</td>\n",
       "      <td>267628</td>\n",
       "      <td>дополнительное образование</td>\n",
       "      <td>образование</td>\n",
       "    </tr>\n",
       "    <tr>\n",
       "      <td>4</td>\n",
       "      <td>0</td>\n",
       "      <td>14177</td>\n",
       "      <td>53</td>\n",
       "      <td>среднее</td>\n",
       "      <td>1</td>\n",
       "      <td>гражданский брак</td>\n",
       "      <td>1</td>\n",
       "      <td>F</td>\n",
       "      <td>пенсионер</td>\n",
       "      <td>0</td>\n",
       "      <td>158616</td>\n",
       "      <td>сыграть свадьбу</td>\n",
       "      <td>свадьба</td>\n",
       "    </tr>\n",
       "    <tr>\n",
       "      <td>5</td>\n",
       "      <td>0</td>\n",
       "      <td>926</td>\n",
       "      <td>27</td>\n",
       "      <td>высшее</td>\n",
       "      <td>0</td>\n",
       "      <td>гражданский брак</td>\n",
       "      <td>1</td>\n",
       "      <td>M</td>\n",
       "      <td>компаньон</td>\n",
       "      <td>0</td>\n",
       "      <td>255763</td>\n",
       "      <td>покупка жилья</td>\n",
       "      <td>недвижимость</td>\n",
       "    </tr>\n",
       "    <tr>\n",
       "      <td>6</td>\n",
       "      <td>0</td>\n",
       "      <td>2879</td>\n",
       "      <td>43</td>\n",
       "      <td>высшее</td>\n",
       "      <td>0</td>\n",
       "      <td>женат / замужем</td>\n",
       "      <td>0</td>\n",
       "      <td>F</td>\n",
       "      <td>компаньон</td>\n",
       "      <td>0</td>\n",
       "      <td>240525</td>\n",
       "      <td>операции с жильем</td>\n",
       "      <td>недвижимость</td>\n",
       "    </tr>\n",
       "    <tr>\n",
       "      <td>7</td>\n",
       "      <td>0</td>\n",
       "      <td>152</td>\n",
       "      <td>50</td>\n",
       "      <td>среднее</td>\n",
       "      <td>1</td>\n",
       "      <td>женат / замужем</td>\n",
       "      <td>0</td>\n",
       "      <td>M</td>\n",
       "      <td>сотрудник</td>\n",
       "      <td>0</td>\n",
       "      <td>135823</td>\n",
       "      <td>образование</td>\n",
       "      <td>образование</td>\n",
       "    </tr>\n",
       "    <tr>\n",
       "      <td>8</td>\n",
       "      <td>2</td>\n",
       "      <td>6929</td>\n",
       "      <td>35</td>\n",
       "      <td>высшее</td>\n",
       "      <td>0</td>\n",
       "      <td>гражданский брак</td>\n",
       "      <td>1</td>\n",
       "      <td>F</td>\n",
       "      <td>сотрудник</td>\n",
       "      <td>0</td>\n",
       "      <td>95856</td>\n",
       "      <td>на проведение свадьбы</td>\n",
       "      <td>свадьба</td>\n",
       "    </tr>\n",
       "    <tr>\n",
       "      <td>9</td>\n",
       "      <td>0</td>\n",
       "      <td>2188</td>\n",
       "      <td>41</td>\n",
       "      <td>среднее</td>\n",
       "      <td>1</td>\n",
       "      <td>женат / замужем</td>\n",
       "      <td>0</td>\n",
       "      <td>M</td>\n",
       "      <td>сотрудник</td>\n",
       "      <td>0</td>\n",
       "      <td>144425</td>\n",
       "      <td>покупка жилья для семьи</td>\n",
       "      <td>недвижимость</td>\n",
       "    </tr>\n",
       "  </tbody>\n",
       "</table>\n",
       "</div>"
      ],
      "text/plain": [
       "   children  days_employed  dob_years education  education_id  \\\n",
       "0         1           8437         42    высшее             0   \n",
       "1         1           4024         36   среднее             1   \n",
       "2         0           5623         33   среднее             1   \n",
       "3         3           4124         32   среднее             1   \n",
       "4         0          14177         53   среднее             1   \n",
       "5         0            926         27    высшее             0   \n",
       "6         0           2879         43    высшее             0   \n",
       "7         0            152         50   среднее             1   \n",
       "8         2           6929         35    высшее             0   \n",
       "9         0           2188         41   среднее             1   \n",
       "\n",
       "      family_status  family_status_id gender income_type  debt  total_income  \\\n",
       "0   женат / замужем                 0      F   сотрудник     0        253875   \n",
       "1   женат / замужем                 0      F   сотрудник     0        112080   \n",
       "2   женат / замужем                 0      M   сотрудник     0        145885   \n",
       "3   женат / замужем                 0      M   сотрудник     0        267628   \n",
       "4  гражданский брак                 1      F   пенсионер     0        158616   \n",
       "5  гражданский брак                 1      M   компаньон     0        255763   \n",
       "6   женат / замужем                 0      F   компаньон     0        240525   \n",
       "7   женат / замужем                 0      M   сотрудник     0        135823   \n",
       "8  гражданский брак                 1      F   сотрудник     0         95856   \n",
       "9   женат / замужем                 0      M   сотрудник     0        144425   \n",
       "\n",
       "                      purpose common_purpose  \n",
       "0               покупка жилья   недвижимость  \n",
       "1     приобретение автомобиля     автомобиль  \n",
       "2               покупка жилья   недвижимость  \n",
       "3  дополнительное образование    образование  \n",
       "4             сыграть свадьбу        свадьба  \n",
       "5               покупка жилья   недвижимость  \n",
       "6           операции с жильем   недвижимость  \n",
       "7                 образование    образование  \n",
       "8       на проведение свадьбы        свадьба  \n",
       "9     покупка жилья для семьи   недвижимость  "
      ]
     },
     "execution_count": 23,
     "metadata": {},
     "output_type": "execute_result"
    }
   ],
   "source": [
    "from pymystem3 import Mystem\n",
    "m = Mystem()\n",
    "df['common_purpose'] = 0\n",
    "def main_to_common(data):\n",
    "    for i in range(0, len(data['common_purpose'])):\n",
    "        lemma = m.lemmatize(data.loc[i, 'purpose'])\n",
    "        if 'автомобиль' in lemma:\n",
    "            data.loc[i, 'common_purpose'] = 'автомобиль'\n",
    "        if 'образование' in lemma:\n",
    "            data.loc[i, 'common_purpose'] = 'образование'\n",
    "        if 'свадьба' in lemma:\n",
    "            data.loc[i, 'common_purpose'] = 'свадьба'\n",
    "        if 'недвижимость' in lemma or 'жилье' in lemma:\n",
    "            data.loc[i, 'common_purpose'] = 'недвижимость'\n",
    "    return data\n",
    "\n",
    "df = main_to_common(df)\n",
    "df.head(10)"
   ]
  },
  {
   "cell_type": "markdown",
   "metadata": {},
   "source": [
    "**Вывод**"
   ]
  },
  {
   "cell_type": "markdown",
   "metadata": {},
   "source": [
    "С помощью лемматизации мы упростили себе путь к категоризации данных."
   ]
  },
  {
   "cell_type": "markdown",
   "metadata": {},
   "source": [
    "### Категоризация данных"
   ]
  },
  {
   "cell_type": "markdown",
   "metadata": {},
   "source": [
    "Для того, чтобы проще было ориентироваться в таблице создадим несколько \"словарей\". Сначала, создадим \"словарь\" *meaning_of_purpose*, где будут присутствовать столбцы *purpose* и *common_purpose*.\n",
    "Удалим дубликаты сразу после создания таблицы *meaning_of_purpose*, чтобы привести ее к \"словарному\" виду."
   ]
  },
  {
   "cell_type": "code",
   "execution_count": 24,
   "metadata": {},
   "outputs": [
    {
     "data": {
      "text/html": [
       "<div>\n",
       "<style scoped>\n",
       "    .dataframe tbody tr th:only-of-type {\n",
       "        vertical-align: middle;\n",
       "    }\n",
       "\n",
       "    .dataframe tbody tr th {\n",
       "        vertical-align: top;\n",
       "    }\n",
       "\n",
       "    .dataframe thead th {\n",
       "        text-align: right;\n",
       "    }\n",
       "</style>\n",
       "<table border=\"1\" class=\"dataframe\">\n",
       "  <thead>\n",
       "    <tr style=\"text-align: right;\">\n",
       "      <th></th>\n",
       "      <th>purpose</th>\n",
       "      <th>common_purpose</th>\n",
       "    </tr>\n",
       "  </thead>\n",
       "  <tbody>\n",
       "    <tr>\n",
       "      <td>0</td>\n",
       "      <td>покупка жилья</td>\n",
       "      <td>недвижимость</td>\n",
       "    </tr>\n",
       "    <tr>\n",
       "      <td>1</td>\n",
       "      <td>приобретение автомобиля</td>\n",
       "      <td>автомобиль</td>\n",
       "    </tr>\n",
       "    <tr>\n",
       "      <td>2</td>\n",
       "      <td>дополнительное образование</td>\n",
       "      <td>образование</td>\n",
       "    </tr>\n",
       "    <tr>\n",
       "      <td>3</td>\n",
       "      <td>сыграть свадьбу</td>\n",
       "      <td>свадьба</td>\n",
       "    </tr>\n",
       "    <tr>\n",
       "      <td>4</td>\n",
       "      <td>операции с жильем</td>\n",
       "      <td>недвижимость</td>\n",
       "    </tr>\n",
       "    <tr>\n",
       "      <td>5</td>\n",
       "      <td>образование</td>\n",
       "      <td>образование</td>\n",
       "    </tr>\n",
       "    <tr>\n",
       "      <td>6</td>\n",
       "      <td>на проведение свадьбы</td>\n",
       "      <td>свадьба</td>\n",
       "    </tr>\n",
       "    <tr>\n",
       "      <td>7</td>\n",
       "      <td>покупка жилья для семьи</td>\n",
       "      <td>недвижимость</td>\n",
       "    </tr>\n",
       "    <tr>\n",
       "      <td>8</td>\n",
       "      <td>покупка недвижимости</td>\n",
       "      <td>недвижимость</td>\n",
       "    </tr>\n",
       "    <tr>\n",
       "      <td>9</td>\n",
       "      <td>покупка коммерческой недвижимости</td>\n",
       "      <td>недвижимость</td>\n",
       "    </tr>\n",
       "    <tr>\n",
       "      <td>10</td>\n",
       "      <td>покупка жилой недвижимости</td>\n",
       "      <td>недвижимость</td>\n",
       "    </tr>\n",
       "    <tr>\n",
       "      <td>11</td>\n",
       "      <td>строительство собственной недвижимости</td>\n",
       "      <td>недвижимость</td>\n",
       "    </tr>\n",
       "    <tr>\n",
       "      <td>12</td>\n",
       "      <td>недвижимость</td>\n",
       "      <td>недвижимость</td>\n",
       "    </tr>\n",
       "    <tr>\n",
       "      <td>13</td>\n",
       "      <td>строительство недвижимости</td>\n",
       "      <td>недвижимость</td>\n",
       "    </tr>\n",
       "    <tr>\n",
       "      <td>14</td>\n",
       "      <td>на покупку подержанного автомобиля</td>\n",
       "      <td>автомобиль</td>\n",
       "    </tr>\n",
       "    <tr>\n",
       "      <td>15</td>\n",
       "      <td>на покупку своего автомобиля</td>\n",
       "      <td>автомобиль</td>\n",
       "    </tr>\n",
       "    <tr>\n",
       "      <td>16</td>\n",
       "      <td>операции с коммерческой недвижимостью</td>\n",
       "      <td>недвижимость</td>\n",
       "    </tr>\n",
       "    <tr>\n",
       "      <td>17</td>\n",
       "      <td>строительство жилой недвижимости</td>\n",
       "      <td>недвижимость</td>\n",
       "    </tr>\n",
       "    <tr>\n",
       "      <td>18</td>\n",
       "      <td>жилье</td>\n",
       "      <td>недвижимость</td>\n",
       "    </tr>\n",
       "    <tr>\n",
       "      <td>19</td>\n",
       "      <td>операции со своей недвижимостью</td>\n",
       "      <td>недвижимость</td>\n",
       "    </tr>\n",
       "    <tr>\n",
       "      <td>20</td>\n",
       "      <td>автомобили</td>\n",
       "      <td>автомобиль</td>\n",
       "    </tr>\n",
       "    <tr>\n",
       "      <td>21</td>\n",
       "      <td>заняться образованием</td>\n",
       "      <td>образование</td>\n",
       "    </tr>\n",
       "    <tr>\n",
       "      <td>22</td>\n",
       "      <td>сделка с подержанным автомобилем</td>\n",
       "      <td>автомобиль</td>\n",
       "    </tr>\n",
       "    <tr>\n",
       "      <td>23</td>\n",
       "      <td>получение образования</td>\n",
       "      <td>образование</td>\n",
       "    </tr>\n",
       "    <tr>\n",
       "      <td>24</td>\n",
       "      <td>автомобиль</td>\n",
       "      <td>автомобиль</td>\n",
       "    </tr>\n",
       "    <tr>\n",
       "      <td>25</td>\n",
       "      <td>свадьба</td>\n",
       "      <td>свадьба</td>\n",
       "    </tr>\n",
       "    <tr>\n",
       "      <td>26</td>\n",
       "      <td>получение дополнительного образования</td>\n",
       "      <td>образование</td>\n",
       "    </tr>\n",
       "    <tr>\n",
       "      <td>27</td>\n",
       "      <td>покупка своего жилья</td>\n",
       "      <td>недвижимость</td>\n",
       "    </tr>\n",
       "    <tr>\n",
       "      <td>28</td>\n",
       "      <td>операции с недвижимостью</td>\n",
       "      <td>недвижимость</td>\n",
       "    </tr>\n",
       "    <tr>\n",
       "      <td>29</td>\n",
       "      <td>получение высшего образования</td>\n",
       "      <td>образование</td>\n",
       "    </tr>\n",
       "    <tr>\n",
       "      <td>30</td>\n",
       "      <td>свой автомобиль</td>\n",
       "      <td>автомобиль</td>\n",
       "    </tr>\n",
       "    <tr>\n",
       "      <td>31</td>\n",
       "      <td>сделка с автомобилем</td>\n",
       "      <td>автомобиль</td>\n",
       "    </tr>\n",
       "    <tr>\n",
       "      <td>32</td>\n",
       "      <td>профильное образование</td>\n",
       "      <td>образование</td>\n",
       "    </tr>\n",
       "    <tr>\n",
       "      <td>33</td>\n",
       "      <td>высшее образование</td>\n",
       "      <td>образование</td>\n",
       "    </tr>\n",
       "    <tr>\n",
       "      <td>34</td>\n",
       "      <td>покупка жилья для сдачи</td>\n",
       "      <td>недвижимость</td>\n",
       "    </tr>\n",
       "    <tr>\n",
       "      <td>35</td>\n",
       "      <td>на покупку автомобиля</td>\n",
       "      <td>автомобиль</td>\n",
       "    </tr>\n",
       "    <tr>\n",
       "      <td>36</td>\n",
       "      <td>ремонт жилью</td>\n",
       "      <td>недвижимость</td>\n",
       "    </tr>\n",
       "    <tr>\n",
       "      <td>37</td>\n",
       "      <td>заняться высшим образованием</td>\n",
       "      <td>образование</td>\n",
       "    </tr>\n",
       "  </tbody>\n",
       "</table>\n",
       "</div>"
      ],
      "text/plain": [
       "                                   purpose common_purpose\n",
       "0                            покупка жилья   недвижимость\n",
       "1                  приобретение автомобиля     автомобиль\n",
       "2               дополнительное образование    образование\n",
       "3                          сыграть свадьбу        свадьба\n",
       "4                        операции с жильем   недвижимость\n",
       "5                              образование    образование\n",
       "6                    на проведение свадьбы        свадьба\n",
       "7                  покупка жилья для семьи   недвижимость\n",
       "8                     покупка недвижимости   недвижимость\n",
       "9        покупка коммерческой недвижимости   недвижимость\n",
       "10              покупка жилой недвижимости   недвижимость\n",
       "11  строительство собственной недвижимости   недвижимость\n",
       "12                            недвижимость   недвижимость\n",
       "13              строительство недвижимости   недвижимость\n",
       "14      на покупку подержанного автомобиля     автомобиль\n",
       "15            на покупку своего автомобиля     автомобиль\n",
       "16   операции с коммерческой недвижимостью   недвижимость\n",
       "17        строительство жилой недвижимости   недвижимость\n",
       "18                                   жилье   недвижимость\n",
       "19         операции со своей недвижимостью   недвижимость\n",
       "20                              автомобили     автомобиль\n",
       "21                   заняться образованием    образование\n",
       "22        сделка с подержанным автомобилем     автомобиль\n",
       "23                   получение образования    образование\n",
       "24                              автомобиль     автомобиль\n",
       "25                                 свадьба        свадьба\n",
       "26   получение дополнительного образования    образование\n",
       "27                    покупка своего жилья   недвижимость\n",
       "28                операции с недвижимостью   недвижимость\n",
       "29           получение высшего образования    образование\n",
       "30                         свой автомобиль     автомобиль\n",
       "31                    сделка с автомобилем     автомобиль\n",
       "32                  профильное образование    образование\n",
       "33                      высшее образование    образование\n",
       "34                 покупка жилья для сдачи   недвижимость\n",
       "35                   на покупку автомобиля     автомобиль\n",
       "36                            ремонт жилью   недвижимость\n",
       "37            заняться высшим образованием    образование"
      ]
     },
     "execution_count": 24,
     "metadata": {},
     "output_type": "execute_result"
    }
   ],
   "source": [
    "meaning_of_purpose = df[['purpose', 'common_purpose']]\n",
    "meaning_of_purpose = meaning_of_purpose.drop_duplicates().reset_index(drop = True)\n",
    "meaning_of_purpose"
   ]
  },
  {
   "cell_type": "markdown",
   "metadata": {},
   "source": [
    "В следующем \"словаре\" *family_statuses* покажем какому семейнему статусу соответствует его *id*. Для этого объеденим столбцы *family_status* и *family_statuses_id*, и удалим дубликаты из них."
   ]
  },
  {
   "cell_type": "code",
   "execution_count": 25,
   "metadata": {},
   "outputs": [
    {
     "data": {
      "text/html": [
       "<div>\n",
       "<style scoped>\n",
       "    .dataframe tbody tr th:only-of-type {\n",
       "        vertical-align: middle;\n",
       "    }\n",
       "\n",
       "    .dataframe tbody tr th {\n",
       "        vertical-align: top;\n",
       "    }\n",
       "\n",
       "    .dataframe thead th {\n",
       "        text-align: right;\n",
       "    }\n",
       "</style>\n",
       "<table border=\"1\" class=\"dataframe\">\n",
       "  <thead>\n",
       "    <tr style=\"text-align: right;\">\n",
       "      <th></th>\n",
       "      <th>family_status</th>\n",
       "      <th>family_status_id</th>\n",
       "    </tr>\n",
       "  </thead>\n",
       "  <tbody>\n",
       "    <tr>\n",
       "      <td>0</td>\n",
       "      <td>женат / замужем</td>\n",
       "      <td>0</td>\n",
       "    </tr>\n",
       "    <tr>\n",
       "      <td>1</td>\n",
       "      <td>гражданский брак</td>\n",
       "      <td>1</td>\n",
       "    </tr>\n",
       "    <tr>\n",
       "      <td>2</td>\n",
       "      <td>вдовец / вдова</td>\n",
       "      <td>2</td>\n",
       "    </tr>\n",
       "    <tr>\n",
       "      <td>3</td>\n",
       "      <td>в разводе</td>\n",
       "      <td>3</td>\n",
       "    </tr>\n",
       "    <tr>\n",
       "      <td>4</td>\n",
       "      <td>Не женат / не замужем</td>\n",
       "      <td>4</td>\n",
       "    </tr>\n",
       "  </tbody>\n",
       "</table>\n",
       "</div>"
      ],
      "text/plain": [
       "           family_status  family_status_id\n",
       "0        женат / замужем                 0\n",
       "1       гражданский брак                 1\n",
       "2         вдовец / вдова                 2\n",
       "3              в разводе                 3\n",
       "4  Не женат / не замужем                 4"
      ]
     },
     "execution_count": 25,
     "metadata": {},
     "output_type": "execute_result"
    }
   ],
   "source": [
    "family_statuses = df[['family_status', 'family_status_id']]\n",
    "family_statuses = family_statuses.drop_duplicates().reset_index(drop = True)\n",
    "family_statuses"
   ]
  },
  {
   "cell_type": "markdown",
   "metadata": {},
   "source": [
    "Следующий \"словарь\" *education_type* будет похож на предыдущий, только уже с видом образования клиента и его *id*. Объединяем столбцы *education* и *education_id*."
   ]
  },
  {
   "cell_type": "code",
   "execution_count": 26,
   "metadata": {},
   "outputs": [
    {
     "data": {
      "text/html": [
       "<div>\n",
       "<style scoped>\n",
       "    .dataframe tbody tr th:only-of-type {\n",
       "        vertical-align: middle;\n",
       "    }\n",
       "\n",
       "    .dataframe tbody tr th {\n",
       "        vertical-align: top;\n",
       "    }\n",
       "\n",
       "    .dataframe thead th {\n",
       "        text-align: right;\n",
       "    }\n",
       "</style>\n",
       "<table border=\"1\" class=\"dataframe\">\n",
       "  <thead>\n",
       "    <tr style=\"text-align: right;\">\n",
       "      <th></th>\n",
       "      <th>education</th>\n",
       "      <th>education_id</th>\n",
       "    </tr>\n",
       "  </thead>\n",
       "  <tbody>\n",
       "    <tr>\n",
       "      <td>0</td>\n",
       "      <td>высшее</td>\n",
       "      <td>0</td>\n",
       "    </tr>\n",
       "    <tr>\n",
       "      <td>1</td>\n",
       "      <td>среднее</td>\n",
       "      <td>1</td>\n",
       "    </tr>\n",
       "    <tr>\n",
       "      <td>2</td>\n",
       "      <td>неоконченное высшее</td>\n",
       "      <td>2</td>\n",
       "    </tr>\n",
       "    <tr>\n",
       "      <td>3</td>\n",
       "      <td>начальное</td>\n",
       "      <td>3</td>\n",
       "    </tr>\n",
       "    <tr>\n",
       "      <td>4</td>\n",
       "      <td>ученая степень</td>\n",
       "      <td>4</td>\n",
       "    </tr>\n",
       "  </tbody>\n",
       "</table>\n",
       "</div>"
      ],
      "text/plain": [
       "             education  education_id\n",
       "0               высшее             0\n",
       "1              среднее             1\n",
       "2  неоконченное высшее             2\n",
       "3            начальное             3\n",
       "4       ученая степень             4"
      ]
     },
     "execution_count": 26,
     "metadata": {},
     "output_type": "execute_result"
    }
   ],
   "source": [
    "education_type = df[['education', 'education_id']]\n",
    "education_type = education_type.drop_duplicates().reset_index(drop = True)\n",
    "education_type"
   ]
  },
  {
   "cell_type": "markdown",
   "metadata": {},
   "source": [
    "Так как нам надо будет ответить на вопрос о зависимости возврата кредита в срок от наличия детей, то классифицируем количество детей на группы.\n",
    "Узнаем какие количества детей присутсвтуют в таблице."
   ]
  },
  {
   "cell_type": "code",
   "execution_count": 27,
   "metadata": {},
   "outputs": [
    {
     "data": {
      "text/plain": [
       " 0     14091\n",
       " 1      4808\n",
       " 2      2052\n",
       " 3       330\n",
       " 20       76\n",
       "-1        47\n",
       " 4        41\n",
       " 5         9\n",
       "Name: children, dtype: int64"
      ]
     },
     "execution_count": 27,
     "metadata": {},
     "output_type": "execute_result"
    }
   ],
   "source": [
    "df['children'].value_counts()"
   ]
  },
  {
   "cell_type": "markdown",
   "metadata": {},
   "source": [
    "В данных появились значения *-1* и *20*, которые мы пропустили при обработке пропусков и дубликатов. В будущем надо быть внимательнее. Заменим *-1* на *1*. Значение *20*, скорее всего, появилось из-за опечатки клиента при вводе данных, так как числа *2* и *0* близко находятся на *Numpad-e*. Мы не знаем сколько хотел ввести клиент (*2* или *0*), поэтому заменим *20* на медиану."
   ]
  },
  {
   "cell_type": "code",
   "execution_count": 28,
   "metadata": {},
   "outputs": [
    {
     "data": {
      "text/plain": [
       "0     14091\n",
       "1      4855\n",
       "2      2052\n",
       "3       330\n",
       "20       76\n",
       "4        41\n",
       "5         9\n",
       "Name: children, dtype: int64"
      ]
     },
     "execution_count": 28,
     "metadata": {},
     "output_type": "execute_result"
    }
   ],
   "source": [
    "df['children'] = df['children'].replace(-1, 1)\n",
    "df['children'].value_counts()"
   ]
  },
  {
   "cell_type": "code",
   "execution_count": 29,
   "metadata": {},
   "outputs": [
    {
     "data": {
      "text/plain": [
       "0    14167\n",
       "1     4855\n",
       "2     2052\n",
       "3      330\n",
       "4       41\n",
       "5        9\n",
       "Name: children, dtype: int64"
      ]
     },
     "execution_count": 29,
     "metadata": {},
     "output_type": "execute_result"
    }
   ],
   "source": [
    "median_children = df['children'].median()\n",
    "df['children'] = df['children'].replace(20, median_children)\n",
    "df['children'].value_counts()"
   ]
  },
  {
   "cell_type": "markdown",
   "metadata": {},
   "source": [
    "Пришло время категоризировать данные по зарплате клиентов. Для этого разделим доходы клиентов на 4 равные в процентном соотношении группы. Для применим метод *qcut()*."
   ]
  },
  {
   "cell_type": "code",
   "execution_count": 30,
   "metadata": {},
   "outputs": [
    {
     "data": {
      "text/plain": [
       "0    очень высокий доход\n",
       "1          средний доход\n",
       "2          средний доход\n",
       "3    очень высокий доход\n",
       "4          высокий доход\n",
       "5    очень высокий доход\n",
       "6    очень высокий доход\n",
       "7          средний доход\n",
       "8           низкий доход\n",
       "9          средний доход\n",
       "Name: income_group, dtype: category\n",
       "Categories (4, object): [низкий доход < средний доход < высокий доход < очень высокий доход]"
      ]
     },
     "execution_count": 30,
     "metadata": {},
     "output_type": "execute_result"
    }
   ],
   "source": [
    "df['income_group'] = pd.qcut(df['total_income'], q = [0, 0.25, 0.5, 0.75, 1], \n",
    "                             labels = ['низкий доход', 'средний доход', 'высокий доход', 'очень высокий доход'])\n",
    "df['income_group'].head(10)"
   ]
  },
  {
   "cell_type": "markdown",
   "metadata": {},
   "source": [
    "**Вывод**"
   ]
  },
  {
   "cell_type": "markdown",
   "metadata": {},
   "source": [
    "Были созданы \"словари\", с помощью которых будет проще ответить на заданные вопросы. Также,\"словари\" помогают ориентироваться по таблице."
   ]
  },
  {
   "cell_type": "markdown",
   "metadata": {},
   "source": [
    "## Шаг 3. Ответьте на вопросы"
   ]
  },
  {
   "cell_type": "markdown",
   "metadata": {},
   "source": [
    "- Есть ли зависимость между наличием детей и возвратом кредита в срок?"
   ]
  },
  {
   "cell_type": "markdown",
   "metadata": {},
   "source": [
    "Для ответа на этот вопрос нужно посчитать конверсию для каждой группы количества детей. В столбце *debt* значение *0* показывает, что у этого клиента не было задолжностей по кредиту, а значение *1*, что задолжность была. Чтобы посчитать конверсию надо в каждой группе поделить сумму *0* и *1* в столбце *debt* на их количество. Чем меньше будет конверсия, тем ответственнее клиенты в соответственной группе относятся к кредиту. "
   ]
  },
  {
   "cell_type": "code",
   "execution_count": 35,
   "metadata": {},
   "outputs": [
    {
     "data": {
      "text/html": [
       "<div>\n",
       "<style scoped>\n",
       "    .dataframe tbody tr th:only-of-type {\n",
       "        vertical-align: middle;\n",
       "    }\n",
       "\n",
       "    .dataframe tbody tr th {\n",
       "        vertical-align: top;\n",
       "    }\n",
       "\n",
       "    .dataframe thead th {\n",
       "        text-align: right;\n",
       "    }\n",
       "</style>\n",
       "<table border=\"1\" class=\"dataframe\">\n",
       "  <thead>\n",
       "    <tr style=\"text-align: right;\">\n",
       "      <th></th>\n",
       "      <th>sum</th>\n",
       "      <th>count</th>\n",
       "      <th>conversion_in_percent</th>\n",
       "    </tr>\n",
       "    <tr>\n",
       "      <th>children</th>\n",
       "      <th></th>\n",
       "      <th></th>\n",
       "      <th></th>\n",
       "    </tr>\n",
       "  </thead>\n",
       "  <tbody>\n",
       "    <tr>\n",
       "      <td>5</td>\n",
       "      <td>0</td>\n",
       "      <td>9</td>\n",
       "      <td>0.000000</td>\n",
       "    </tr>\n",
       "    <tr>\n",
       "      <td>0</td>\n",
       "      <td>1071</td>\n",
       "      <td>14167</td>\n",
       "      <td>7.559822</td>\n",
       "    </tr>\n",
       "    <tr>\n",
       "      <td>3</td>\n",
       "      <td>27</td>\n",
       "      <td>330</td>\n",
       "      <td>8.181818</td>\n",
       "    </tr>\n",
       "    <tr>\n",
       "      <td>1</td>\n",
       "      <td>445</td>\n",
       "      <td>4855</td>\n",
       "      <td>9.165808</td>\n",
       "    </tr>\n",
       "    <tr>\n",
       "      <td>2</td>\n",
       "      <td>194</td>\n",
       "      <td>2052</td>\n",
       "      <td>9.454191</td>\n",
       "    </tr>\n",
       "    <tr>\n",
       "      <td>4</td>\n",
       "      <td>4</td>\n",
       "      <td>41</td>\n",
       "      <td>9.756098</td>\n",
       "    </tr>\n",
       "  </tbody>\n",
       "</table>\n",
       "</div>"
      ],
      "text/plain": [
       "           sum  count  conversion_in_percent\n",
       "children                                    \n",
       "5            0      9               0.000000\n",
       "0         1071  14167               7.559822\n",
       "3           27    330               8.181818\n",
       "1          445   4855               9.165808\n",
       "2          194   2052               9.454191\n",
       "4            4     41               9.756098"
      ]
     },
     "metadata": {},
     "output_type": "display_data"
    },
    {
     "data": {
      "text/html": [
       "<div>\n",
       "<style scoped>\n",
       "    .dataframe tbody tr th:only-of-type {\n",
       "        vertical-align: middle;\n",
       "    }\n",
       "\n",
       "    .dataframe tbody tr th {\n",
       "        vertical-align: top;\n",
       "    }\n",
       "\n",
       "    .dataframe thead tr th {\n",
       "        text-align: left;\n",
       "    }\n",
       "\n",
       "    .dataframe thead tr:last-of-type th {\n",
       "        text-align: right;\n",
       "    }\n",
       "</style>\n",
       "<table border=\"1\" class=\"dataframe\">\n",
       "  <thead>\n",
       "    <tr>\n",
       "      <th></th>\n",
       "      <th>mean</th>\n",
       "    </tr>\n",
       "    <tr>\n",
       "      <th></th>\n",
       "      <th>debt</th>\n",
       "    </tr>\n",
       "    <tr>\n",
       "      <th>children</th>\n",
       "      <th></th>\n",
       "    </tr>\n",
       "  </thead>\n",
       "  <tbody>\n",
       "    <tr>\n",
       "      <td>0</td>\n",
       "      <td>0.075598</td>\n",
       "    </tr>\n",
       "    <tr>\n",
       "      <td>1</td>\n",
       "      <td>0.091658</td>\n",
       "    </tr>\n",
       "    <tr>\n",
       "      <td>2</td>\n",
       "      <td>0.094542</td>\n",
       "    </tr>\n",
       "    <tr>\n",
       "      <td>3</td>\n",
       "      <td>0.081818</td>\n",
       "    </tr>\n",
       "    <tr>\n",
       "      <td>4</td>\n",
       "      <td>0.097561</td>\n",
       "    </tr>\n",
       "    <tr>\n",
       "      <td>5</td>\n",
       "      <td>0.000000</td>\n",
       "    </tr>\n",
       "  </tbody>\n",
       "</table>\n",
       "</div>"
      ],
      "text/plain": [
       "              mean\n",
       "              debt\n",
       "children          \n",
       "0         0.075598\n",
       "1         0.091658\n",
       "2         0.094542\n",
       "3         0.081818\n",
       "4         0.097561\n",
       "5         0.000000"
      ]
     },
     "execution_count": 35,
     "metadata": {},
     "output_type": "execute_result"
    }
   ],
   "source": [
    "debt_children = pd.DataFrame()\n",
    "\n",
    "debt_children['sum'] = df.groupby('children')['debt'].sum()\n",
    "debt_children['count'] = df.groupby('children')['debt'].count()\n",
    "debt_children['conversion_in_percent'] = (debt_children['sum'] / debt_children['count']) * 100\n",
    "debt_children = debt_children.sort_values(by = 'conversion_in_percent')\n",
    "\n",
    "display(debt_children)\n",
    "\n",
    "children_pivot = df.pivot_table(index = 'children',values = 'debt', aggfunc = ['mean'])\n",
    "children_pivot"
   ]
  },
  {
   "cell_type": "markdown",
   "metadata": {},
   "source": [
    "**Вывод**"
   ]
  },
  {
   "cell_type": "markdown",
   "metadata": {},
   "source": [
    "После группировки по количеству детей образовалась уже иная картина. Все также видна зависимость \"больше детей - больше задолжностей\", но из нее выпадают клиенты с тремя и пятью детьми. Вероятно, так получилось из-за сравнительного малого количества клиентов с такими показателями. Еще именно по этой причине клиенты с четырмя детьми стали \"рекордсменами\" по проценту задолжностей."
   ]
  },
  {
   "cell_type": "markdown",
   "metadata": {},
   "source": [
    "- Есть ли зависимость между семейным положением и возвратом кредита в срок?"
   ]
  },
  {
   "cell_type": "markdown",
   "metadata": {},
   "source": [
    "Чтобы ответить на этот вопрос проделаем то же самое, что и в предыдущем вопросе, только подсчет конверсии будет по группам семейного положения."
   ]
  },
  {
   "cell_type": "code",
   "execution_count": 32,
   "metadata": {},
   "outputs": [
    {
     "name": "stdout",
     "output_type": "stream",
     "text": [
      "                       sum  count  conversion_in_percent\n",
      "family_status                                           \n",
      "вдовец / вдова          63    959               6.569343\n",
      "в разводе               85   1195               7.112971\n",
      "женат / замужем        931  12339               7.545182\n",
      "гражданский брак       388   4151               9.347145\n",
      "Не женат / не замужем  274   2810               9.750890\n"
     ]
    },
    {
     "data": {
      "text/html": [
       "<div>\n",
       "<style scoped>\n",
       "    .dataframe tbody tr th:only-of-type {\n",
       "        vertical-align: middle;\n",
       "    }\n",
       "\n",
       "    .dataframe tbody tr th {\n",
       "        vertical-align: top;\n",
       "    }\n",
       "\n",
       "    .dataframe thead tr th {\n",
       "        text-align: left;\n",
       "    }\n",
       "\n",
       "    .dataframe thead tr:last-of-type th {\n",
       "        text-align: right;\n",
       "    }\n",
       "</style>\n",
       "<table border=\"1\" class=\"dataframe\">\n",
       "  <thead>\n",
       "    <tr>\n",
       "      <th></th>\n",
       "      <th>mean</th>\n",
       "    </tr>\n",
       "    <tr>\n",
       "      <th></th>\n",
       "      <th>debt</th>\n",
       "    </tr>\n",
       "    <tr>\n",
       "      <th>family_status</th>\n",
       "      <th></th>\n",
       "    </tr>\n",
       "  </thead>\n",
       "  <tbody>\n",
       "    <tr>\n",
       "      <td>Не женат / не замужем</td>\n",
       "      <td>0.097509</td>\n",
       "    </tr>\n",
       "    <tr>\n",
       "      <td>в разводе</td>\n",
       "      <td>0.071130</td>\n",
       "    </tr>\n",
       "    <tr>\n",
       "      <td>вдовец / вдова</td>\n",
       "      <td>0.065693</td>\n",
       "    </tr>\n",
       "    <tr>\n",
       "      <td>гражданский брак</td>\n",
       "      <td>0.093471</td>\n",
       "    </tr>\n",
       "    <tr>\n",
       "      <td>женат / замужем</td>\n",
       "      <td>0.075452</td>\n",
       "    </tr>\n",
       "  </tbody>\n",
       "</table>\n",
       "</div>"
      ],
      "text/plain": [
       "                           mean\n",
       "                           debt\n",
       "family_status                  \n",
       "Не женат / не замужем  0.097509\n",
       "в разводе              0.071130\n",
       "вдовец / вдова         0.065693\n",
       "гражданский брак       0.093471\n",
       "женат / замужем        0.075452"
      ]
     },
     "metadata": {},
     "output_type": "display_data"
    }
   ],
   "source": [
    "debt_family = pd.DataFrame()\n",
    "\n",
    "debt_family['sum'] = df.groupby('family_status')['debt'].sum()\n",
    "debt_family['count'] = df.groupby('family_status')['debt'].count()\n",
    "debt_family['conversion_in_percent'] = (debt_family['sum'] / debt_family['count']) * 100\n",
    "debt_family = debt_family.sort_values(by = 'conversion_in_percent')\n",
    "\n",
    "print(debt_family)\n",
    "\n",
    "family_pivot = df.pivot_table(index = 'family_status',values = 'debt', aggfunc = ['mean'])\n",
    "display(family_pivot)"
   ]
  },
  {
   "cell_type": "markdown",
   "metadata": {},
   "source": [
    "**Вывод**"
   ]
  },
  {
   "cell_type": "markdown",
   "metadata": {},
   "source": [
    "Самыми ответственными плательщиками оказались овдовевшие клиенты, недалеко ушли клиенты пережившие развод и официально зарегистрировавшие свой брак клиенты. Клиенты живущие в гражданском браке и неженатые/незамужние клиенты имеют значительный отрыв от других категорий в плане возврата кредита, что показывает их малый опыт не только в семейной жизни, но и в обращении с деньгами. "
   ]
  },
  {
   "cell_type": "markdown",
   "metadata": {},
   "source": [
    "- Есть ли зависимость между уровнем дохода и возвратом кредита в срок?"
   ]
  },
  {
   "cell_type": "markdown",
   "metadata": {},
   "source": [
    "Аналогичным способом посчитаем конверсию для каждого типа дохода."
   ]
  },
  {
   "cell_type": "code",
   "execution_count": 33,
   "metadata": {},
   "outputs": [
    {
     "name": "stdout",
     "output_type": "stream",
     "text": [
      "                     sum  count  conversion_in_percent\n",
      "income_group                                          \n",
      "очень высокий доход  345   4909               7.027908\n",
      "низкий доход         427   5364               7.960477\n",
      "высокий доход        494   5818               8.490890\n",
      "средний доход        475   5363               8.856983\n"
     ]
    },
    {
     "data": {
      "text/html": [
       "<div>\n",
       "<style scoped>\n",
       "    .dataframe tbody tr th:only-of-type {\n",
       "        vertical-align: middle;\n",
       "    }\n",
       "\n",
       "    .dataframe tbody tr th {\n",
       "        vertical-align: top;\n",
       "    }\n",
       "\n",
       "    .dataframe thead tr th {\n",
       "        text-align: left;\n",
       "    }\n",
       "\n",
       "    .dataframe thead tr:last-of-type th {\n",
       "        text-align: right;\n",
       "    }\n",
       "</style>\n",
       "<table border=\"1\" class=\"dataframe\">\n",
       "  <thead>\n",
       "    <tr>\n",
       "      <th></th>\n",
       "      <th>mean</th>\n",
       "    </tr>\n",
       "    <tr>\n",
       "      <th></th>\n",
       "      <th>debt</th>\n",
       "    </tr>\n",
       "    <tr>\n",
       "      <th>income_group</th>\n",
       "      <th></th>\n",
       "    </tr>\n",
       "  </thead>\n",
       "  <tbody>\n",
       "    <tr>\n",
       "      <td>низкий доход</td>\n",
       "      <td>0.079605</td>\n",
       "    </tr>\n",
       "    <tr>\n",
       "      <td>средний доход</td>\n",
       "      <td>0.088570</td>\n",
       "    </tr>\n",
       "    <tr>\n",
       "      <td>высокий доход</td>\n",
       "      <td>0.084909</td>\n",
       "    </tr>\n",
       "    <tr>\n",
       "      <td>очень высокий доход</td>\n",
       "      <td>0.070279</td>\n",
       "    </tr>\n",
       "  </tbody>\n",
       "</table>\n",
       "</div>"
      ],
      "text/plain": [
       "                         mean\n",
       "                         debt\n",
       "income_group                 \n",
       "низкий доход         0.079605\n",
       "средний доход        0.088570\n",
       "высокий доход        0.084909\n",
       "очень высокий доход  0.070279"
      ]
     },
     "execution_count": 33,
     "metadata": {},
     "output_type": "execute_result"
    }
   ],
   "source": [
    "debt_income = pd.DataFrame()\n",
    "\n",
    "debt_income['sum'] = df.groupby('income_group')['debt'].sum()\n",
    "debt_income['count'] = df.groupby('income_group')['debt'].count()\n",
    "debt_income['conversion_in_percent'] = (debt_income['sum'] / debt_income['count']) * 100\n",
    "debt_income = debt_income.sort_values(by = 'conversion_in_percent')\n",
    "\n",
    "print(debt_income)\n",
    "\n",
    "income_pivot = df.pivot_table(index = 'income_group',values = 'debt', aggfunc = ['mean'])\n",
    "income_pivot"
   ]
  },
  {
   "cell_type": "markdown",
   "metadata": {},
   "source": [
    "**Вывод**"
   ]
  },
  {
   "cell_type": "markdown",
   "metadata": {},
   "source": [
    "Клиенты с очень высоким доходом относятся к кредитам более ответственно, чем остальные клиенты в остальных группах. Примечательно, что на втором месте расположились клиенты с низким доходом, что показывает их более надежными плательщиками в сравнении с клиентами с высокими и средними доходами."
   ]
  },
  {
   "cell_type": "markdown",
   "metadata": {},
   "source": [
    "- Как разные цели кредита влияют на его возврат в срок?"
   ]
  },
  {
   "cell_type": "markdown",
   "metadata": {},
   "source": [
    "В этом вопросе сгруппируем конверсию по обощенным целям кредита."
   ]
  },
  {
   "cell_type": "code",
   "execution_count": 34,
   "metadata": {},
   "outputs": [
    {
     "name": "stdout",
     "output_type": "stream",
     "text": [
      "                sum  count  conversion_in_percent\n",
      "common_purpose                                   \n",
      "недвижимость    782  10811               7.233373\n",
      "свадьба         186   2324               8.003442\n",
      "образование     370   4013               9.220035\n",
      "автомобиль      403   4306               9.359034\n"
     ]
    },
    {
     "data": {
      "text/html": [
       "<div>\n",
       "<style scoped>\n",
       "    .dataframe tbody tr th:only-of-type {\n",
       "        vertical-align: middle;\n",
       "    }\n",
       "\n",
       "    .dataframe tbody tr th {\n",
       "        vertical-align: top;\n",
       "    }\n",
       "\n",
       "    .dataframe thead tr th {\n",
       "        text-align: left;\n",
       "    }\n",
       "\n",
       "    .dataframe thead tr:last-of-type th {\n",
       "        text-align: right;\n",
       "    }\n",
       "</style>\n",
       "<table border=\"1\" class=\"dataframe\">\n",
       "  <thead>\n",
       "    <tr>\n",
       "      <th></th>\n",
       "      <th>mean</th>\n",
       "    </tr>\n",
       "    <tr>\n",
       "      <th></th>\n",
       "      <th>debt</th>\n",
       "    </tr>\n",
       "    <tr>\n",
       "      <th>common_purpose</th>\n",
       "      <th></th>\n",
       "    </tr>\n",
       "  </thead>\n",
       "  <tbody>\n",
       "    <tr>\n",
       "      <td>автомобиль</td>\n",
       "      <td>0.093590</td>\n",
       "    </tr>\n",
       "    <tr>\n",
       "      <td>недвижимость</td>\n",
       "      <td>0.072334</td>\n",
       "    </tr>\n",
       "    <tr>\n",
       "      <td>образование</td>\n",
       "      <td>0.092200</td>\n",
       "    </tr>\n",
       "    <tr>\n",
       "      <td>свадьба</td>\n",
       "      <td>0.080034</td>\n",
       "    </tr>\n",
       "  </tbody>\n",
       "</table>\n",
       "</div>"
      ],
      "text/plain": [
       "                    mean\n",
       "                    debt\n",
       "common_purpose          \n",
       "автомобиль      0.093590\n",
       "недвижимость    0.072334\n",
       "образование     0.092200\n",
       "свадьба         0.080034"
      ]
     },
     "execution_count": 34,
     "metadata": {},
     "output_type": "execute_result"
    }
   ],
   "source": [
    "debt_purpose = pd.DataFrame()\n",
    "\n",
    "debt_purpose['sum'] = df.groupby('common_purpose')['debt'].sum()\n",
    "debt_purpose['count'] = df.groupby('common_purpose')['debt'].count()\n",
    "debt_purpose['conversion_in_percent'] = (debt_purpose['sum'] / debt_purpose['count']) * 100\n",
    "debt_purpose = debt_purpose.sort_values(by = 'conversion_in_percent')\n",
    "\n",
    "print(debt_purpose)\n",
    "\n",
    "purpose_pivot = df.pivot_table(index = 'common_purpose',values = 'debt', aggfunc = ['mean'])\n",
    "purpose_pivot"
   ]
  },
  {
   "cell_type": "markdown",
   "metadata": {},
   "source": [
    "**Вывод**"
   ]
  },
  {
   "cell_type": "markdown",
   "metadata": {},
   "source": [
    "Самой приоритетной целью для закрытия кредита оказалась недвижимость и все, что с ней связано. На втором месте, как ни странно, оказалась свадьба. Видимо денежные подарки на свадьбу все же сыграли свою роль. На последних местах, с небольшим отрывом, оказались цели, связанные с образованием и авто."
   ]
  },
  {
   "cell_type": "markdown",
   "metadata": {},
   "source": [
    "## Шаг 4. Общий вывод"
   ]
  },
  {
   "cell_type": "markdown",
   "metadata": {},
   "source": [
    "В ходе выполнения проекта данные были очищены от пропусков и дубликатов для их подготовке к анализу. Была найдена причина в отрицательных и слишком больших положительных значениях трудового стажа. Проведена лемматизация столбца с целью кредита для более обобщенной категоризации данных. Были составлены \"словари\" для более эффективного ориентирования по таблице. "
   ]
  },
  {
   "cell_type": "markdown",
   "metadata": {},
   "source": [
    "Каждый вопрос нашел свой ответ с показательной зависимостью. Чем больше детей у клиентов, тем больше они не выплачивают кредиты в срок. Клиенты, состоющие в браке или имевшие опыт семейной жизни, более ответственно относятся к выплате кредита. Клиенты с очень высоким и низким доходами более рационально подходят к выбору суммы кредита, которая им по силе. Клиенты быстрее всего пытаются рассчитаться с кредитами, взятыми на недвижимость и свадьбу."
   ]
  }
 ],
 "metadata": {
  "ExecuteTimeLog": [
   {
    "duration": 880,
    "start_time": "2021-08-01T18:28:08.166Z"
   },
   {
    "duration": 77,
    "start_time": "2021-08-01T18:30:21.495Z"
   },
   {
    "duration": 820,
    "start_time": "2021-08-01T18:30:35.105Z"
   },
   {
    "duration": 826,
    "start_time": "2021-08-01T18:32:25.969Z"
   },
   {
    "duration": 870,
    "start_time": "2021-08-01T18:37:17.837Z"
   },
   {
    "duration": 507,
    "start_time": "2021-08-01T18:38:00.126Z"
   },
   {
    "duration": 141,
    "start_time": "2021-08-01T18:38:37.580Z"
   },
   {
    "duration": 154,
    "start_time": "2021-08-01T18:38:56.521Z"
   },
   {
    "duration": 137,
    "start_time": "2021-08-01T18:39:13.366Z"
   },
   {
    "duration": 84,
    "start_time": "2021-08-01T18:44:27.124Z"
   },
   {
    "duration": 826,
    "start_time": "2021-08-01T18:44:38.520Z"
   },
   {
    "duration": 811,
    "start_time": "2021-08-01T18:50:44.056Z"
   },
   {
    "duration": 68,
    "start_time": "2021-08-01T18:50:44.875Z"
   },
   {
    "duration": 48,
    "start_time": "2021-08-01T18:50:44.945Z"
   },
   {
    "duration": 16,
    "start_time": "2021-08-01T18:50:44.996Z"
   },
   {
    "duration": 732,
    "start_time": "2021-08-01T18:58:57.124Z"
   },
   {
    "duration": 71,
    "start_time": "2021-08-01T18:58:57.859Z"
   },
   {
    "duration": 37,
    "start_time": "2021-08-01T18:58:57.933Z"
   },
   {
    "duration": 19,
    "start_time": "2021-08-01T18:58:57.973Z"
   },
   {
    "duration": 815,
    "start_time": "2021-08-01T19:08:09.688Z"
   },
   {
    "duration": 67,
    "start_time": "2021-08-01T19:08:10.506Z"
   },
   {
    "duration": 33,
    "start_time": "2021-08-01T19:08:10.577Z"
   },
   {
    "duration": 15,
    "start_time": "2021-08-01T19:08:10.612Z"
   },
   {
    "duration": 1097,
    "start_time": "2021-08-01T19:09:32.105Z"
   },
   {
    "duration": 65,
    "start_time": "2021-08-01T19:09:33.205Z"
   },
   {
    "duration": 31,
    "start_time": "2021-08-01T19:09:33.274Z"
   },
   {
    "duration": 14,
    "start_time": "2021-08-01T19:09:33.308Z"
   },
   {
    "duration": 764,
    "start_time": "2021-08-01T19:10:38.600Z"
   },
   {
    "duration": 65,
    "start_time": "2021-08-01T19:10:39.369Z"
   },
   {
    "duration": 43,
    "start_time": "2021-08-01T19:10:39.437Z"
   },
   {
    "duration": 18,
    "start_time": "2021-08-01T19:10:39.484Z"
   },
   {
    "duration": 855,
    "start_time": "2021-08-01T19:22:46.256Z"
   },
   {
    "duration": 62,
    "start_time": "2021-08-01T19:22:47.114Z"
   },
   {
    "duration": 29,
    "start_time": "2021-08-01T19:22:47.178Z"
   },
   {
    "duration": 16,
    "start_time": "2021-08-01T19:22:47.209Z"
   },
   {
    "duration": 766,
    "start_time": "2021-08-01T19:47:18.188Z"
   },
   {
    "duration": 66,
    "start_time": "2021-08-01T19:47:18.957Z"
   },
   {
    "duration": 29,
    "start_time": "2021-08-01T19:47:19.026Z"
   },
   {
    "duration": 23,
    "start_time": "2021-08-01T19:47:19.057Z"
   },
   {
    "duration": 6,
    "start_time": "2021-08-01T19:56:27.047Z"
   },
   {
    "duration": 35,
    "start_time": "2021-08-01T19:58:35.278Z"
   },
   {
    "duration": 34,
    "start_time": "2021-08-01T20:01:03.059Z"
   },
   {
    "duration": 821,
    "start_time": "2021-08-01T20:12:00.061Z"
   },
   {
    "duration": 68,
    "start_time": "2021-08-01T20:12:00.884Z"
   },
   {
    "duration": 40,
    "start_time": "2021-08-01T20:12:00.955Z"
   },
   {
    "duration": 37,
    "start_time": "2021-08-01T20:12:00.997Z"
   },
   {
    "duration": 38,
    "start_time": "2021-08-01T20:12:01.036Z"
   },
   {
    "duration": 1026,
    "start_time": "2021-08-01T20:12:48.541Z"
   },
   {
    "duration": 65,
    "start_time": "2021-08-01T20:12:49.569Z"
   },
   {
    "duration": 33,
    "start_time": "2021-08-01T20:12:49.637Z"
   },
   {
    "duration": 23,
    "start_time": "2021-08-01T20:12:49.672Z"
   },
   {
    "duration": 38,
    "start_time": "2021-08-01T20:12:49.698Z"
   },
   {
    "duration": 744,
    "start_time": "2021-08-01T20:15:04.086Z"
   },
   {
    "duration": 65,
    "start_time": "2021-08-01T20:15:04.833Z"
   },
   {
    "duration": 30,
    "start_time": "2021-08-01T20:15:04.901Z"
   },
   {
    "duration": 34,
    "start_time": "2021-08-01T20:15:04.933Z"
   },
   {
    "duration": 34,
    "start_time": "2021-08-01T20:15:04.970Z"
   },
   {
    "duration": 9,
    "start_time": "2021-08-01T20:18:28.226Z"
   },
   {
    "duration": 13,
    "start_time": "2021-08-01T20:24:32.046Z"
   },
   {
    "duration": 423,
    "start_time": "2021-08-01T20:32:21.886Z"
   },
   {
    "duration": 7,
    "start_time": "2021-08-01T20:32:31.174Z"
   },
   {
    "duration": 10,
    "start_time": "2021-08-01T20:32:44.327Z"
   },
   {
    "duration": 344,
    "start_time": "2021-08-01T20:57:15.399Z"
   },
   {
    "duration": 8,
    "start_time": "2021-08-01T20:58:03.719Z"
   },
   {
    "duration": 8,
    "start_time": "2021-08-01T20:58:28.699Z"
   },
   {
    "duration": 8,
    "start_time": "2021-08-01T20:58:43.759Z"
   },
   {
    "duration": 139,
    "start_time": "2021-08-01T20:58:50.099Z"
   },
   {
    "duration": 8,
    "start_time": "2021-08-01T20:58:55.139Z"
   },
   {
    "duration": 7,
    "start_time": "2021-08-01T20:59:24.039Z"
   },
   {
    "duration": 7,
    "start_time": "2021-08-01T20:59:34.699Z"
   },
   {
    "duration": 7,
    "start_time": "2021-08-01T21:00:15.399Z"
   },
   {
    "duration": 7,
    "start_time": "2021-08-01T21:00:51.799Z"
   },
   {
    "duration": 8,
    "start_time": "2021-08-01T21:00:59.046Z"
   },
   {
    "duration": 7,
    "start_time": "2021-08-01T21:02:35.187Z"
   },
   {
    "duration": 20,
    "start_time": "2021-08-01T21:08:33.558Z"
   },
   {
    "duration": 17,
    "start_time": "2021-08-01T21:09:36.079Z"
   },
   {
    "duration": 17,
    "start_time": "2021-08-01T21:09:48.838Z"
   },
   {
    "duration": 14,
    "start_time": "2021-08-01T21:09:57.839Z"
   },
   {
    "duration": 16,
    "start_time": "2021-08-01T21:10:06.339Z"
   },
   {
    "duration": 22,
    "start_time": "2021-08-01T21:17:31.739Z"
   },
   {
    "duration": 820,
    "start_time": "2021-08-01T21:22:46.734Z"
   },
   {
    "duration": 68,
    "start_time": "2021-08-01T21:22:47.557Z"
   },
   {
    "duration": 41,
    "start_time": "2021-08-01T21:22:47.629Z"
   },
   {
    "duration": 20,
    "start_time": "2021-08-01T21:22:47.674Z"
   },
   {
    "duration": 14,
    "start_time": "2021-08-01T21:22:47.697Z"
   },
   {
    "duration": 16,
    "start_time": "2021-08-01T21:22:47.713Z"
   },
   {
    "duration": 129,
    "start_time": "2021-08-01T21:22:47.731Z"
   },
   {
    "duration": 48,
    "start_time": "2021-08-01T21:22:47.815Z"
   },
   {
    "duration": 435,
    "start_time": "2021-08-01T21:25:38.259Z"
   },
   {
    "duration": 9,
    "start_time": "2021-08-01T21:25:49.318Z"
   },
   {
    "duration": 325,
    "start_time": "2021-08-01T21:26:49.819Z"
   },
   {
    "duration": 9,
    "start_time": "2021-08-01T21:27:00.218Z"
   },
   {
    "duration": 9,
    "start_time": "2021-08-01T21:27:10.619Z"
   },
   {
    "duration": 7,
    "start_time": "2021-08-01T21:27:18.939Z"
   },
   {
    "duration": 9,
    "start_time": "2021-08-01T21:31:16.938Z"
   },
   {
    "duration": 344,
    "start_time": "2021-08-01T21:32:10.399Z"
   },
   {
    "duration": 9,
    "start_time": "2021-08-01T21:32:38.239Z"
   },
   {
    "duration": 761,
    "start_time": "2021-08-01T21:51:25.816Z"
   },
   {
    "duration": 64,
    "start_time": "2021-08-01T21:51:26.580Z"
   },
   {
    "duration": 41,
    "start_time": "2021-08-01T21:51:26.647Z"
   },
   {
    "duration": 15,
    "start_time": "2021-08-01T21:51:26.690Z"
   },
   {
    "duration": 12,
    "start_time": "2021-08-01T21:51:26.708Z"
   },
   {
    "duration": 47,
    "start_time": "2021-08-01T21:51:26.722Z"
   },
   {
    "duration": 23,
    "start_time": "2021-08-01T21:51:26.772Z"
   },
   {
    "duration": 457,
    "start_time": "2021-08-01T21:51:26.798Z"
   },
   {
    "duration": 58,
    "start_time": "2021-08-01T21:51:27.200Z"
   },
   {
    "duration": 56,
    "start_time": "2021-08-01T21:51:27.203Z"
   },
   {
    "duration": 758,
    "start_time": "2021-08-01T21:51:51.009Z"
   },
   {
    "duration": 64,
    "start_time": "2021-08-01T21:51:51.771Z"
   },
   {
    "duration": 51,
    "start_time": "2021-08-01T21:51:51.838Z"
   },
   {
    "duration": 16,
    "start_time": "2021-08-01T21:51:51.892Z"
   },
   {
    "duration": 13,
    "start_time": "2021-08-01T21:51:51.910Z"
   },
   {
    "duration": 6,
    "start_time": "2021-08-01T21:51:51.926Z"
   },
   {
    "duration": 46,
    "start_time": "2021-08-01T21:51:51.935Z"
   },
   {
    "duration": 8,
    "start_time": "2021-08-01T21:51:51.987Z"
   },
   {
    "duration": 144,
    "start_time": "2021-08-01T21:51:51.999Z"
   },
   {
    "duration": 111,
    "start_time": "2021-08-01T21:52:04.799Z"
   },
   {
    "duration": 1080,
    "start_time": "2021-08-01T21:55:02.085Z"
   },
   {
    "duration": 66,
    "start_time": "2021-08-01T21:55:03.168Z"
   },
   {
    "duration": 29,
    "start_time": "2021-08-01T21:55:03.237Z"
   },
   {
    "duration": 23,
    "start_time": "2021-08-01T21:55:03.270Z"
   },
   {
    "duration": 12,
    "start_time": "2021-08-01T21:55:03.296Z"
   },
   {
    "duration": 7,
    "start_time": "2021-08-01T21:55:03.310Z"
   },
   {
    "duration": 63,
    "start_time": "2021-08-01T21:55:03.320Z"
   },
   {
    "duration": 5,
    "start_time": "2021-08-01T21:55:03.386Z"
   },
   {
    "duration": 129,
    "start_time": "2021-08-01T21:55:03.394Z"
   },
   {
    "duration": 770,
    "start_time": "2021-08-01T22:03:59.117Z"
   },
   {
    "duration": 64,
    "start_time": "2021-08-01T22:03:59.890Z"
   },
   {
    "duration": 37,
    "start_time": "2021-08-01T22:03:59.957Z"
   },
   {
    "duration": 14,
    "start_time": "2021-08-01T22:03:59.998Z"
   },
   {
    "duration": 12,
    "start_time": "2021-08-01T22:04:00.015Z"
   },
   {
    "duration": 47,
    "start_time": "2021-08-01T22:04:00.029Z"
   },
   {
    "duration": 24,
    "start_time": "2021-08-01T22:04:00.079Z"
   },
   {
    "duration": 130,
    "start_time": "2021-08-01T22:04:00.107Z"
   },
   {
    "duration": 17,
    "start_time": "2021-08-01T22:04:00.240Z"
   },
   {
    "duration": 10,
    "start_time": "2021-08-01T22:06:02.647Z"
   },
   {
    "duration": 13,
    "start_time": "2021-08-01T22:07:12.878Z"
   },
   {
    "duration": 32,
    "start_time": "2021-08-01T22:08:09.199Z"
   },
   {
    "duration": 7,
    "start_time": "2021-08-01T22:09:29.706Z"
   },
   {
    "duration": 6,
    "start_time": "2021-08-01T22:09:41.438Z"
   },
   {
    "duration": 9,
    "start_time": "2021-08-01T22:09:50.418Z"
   },
   {
    "duration": 7,
    "start_time": "2021-08-01T22:10:05.138Z"
   },
   {
    "duration": 8,
    "start_time": "2021-08-01T22:10:30.078Z"
   },
   {
    "duration": 1444,
    "start_time": "2021-08-01T22:12:36.958Z"
   },
   {
    "duration": 350,
    "start_time": "2021-08-01T22:12:45.838Z"
   },
   {
    "duration": 123,
    "start_time": "2021-08-01T22:13:14.046Z"
   },
   {
    "duration": 316,
    "start_time": "2021-08-01T22:13:41.358Z"
   },
   {
    "duration": 334,
    "start_time": "2021-08-01T22:13:47.657Z"
   },
   {
    "duration": 583,
    "start_time": "2021-08-02T15:02:19.585Z"
   },
   {
    "duration": 52,
    "start_time": "2021-08-02T15:02:20.169Z"
   },
   {
    "duration": 17,
    "start_time": "2021-08-02T15:02:20.223Z"
   },
   {
    "duration": 10,
    "start_time": "2021-08-02T15:02:20.242Z"
   },
   {
    "duration": 7,
    "start_time": "2021-08-02T15:02:20.254Z"
   },
   {
    "duration": 4,
    "start_time": "2021-08-02T15:02:20.285Z"
   },
   {
    "duration": 17,
    "start_time": "2021-08-02T15:02:20.291Z"
   },
   {
    "duration": 243,
    "start_time": "2021-08-02T15:02:20.309Z"
   },
   {
    "duration": 281,
    "start_time": "2021-08-02T15:02:20.273Z"
   },
   {
    "duration": 580,
    "start_time": "2021-08-02T15:02:34.663Z"
   },
   {
    "duration": 51,
    "start_time": "2021-08-02T15:02:35.245Z"
   },
   {
    "duration": 18,
    "start_time": "2021-08-02T15:02:35.298Z"
   },
   {
    "duration": 10,
    "start_time": "2021-08-02T15:02:35.318Z"
   },
   {
    "duration": 9,
    "start_time": "2021-08-02T15:02:35.330Z"
   },
   {
    "duration": 5,
    "start_time": "2021-08-02T15:02:35.340Z"
   },
   {
    "duration": 42,
    "start_time": "2021-08-02T15:02:35.347Z"
   },
   {
    "duration": 39,
    "start_time": "2021-08-02T15:02:35.391Z"
   },
   {
    "duration": 10,
    "start_time": "2021-08-02T15:02:35.432Z"
   },
   {
    "duration": 5,
    "start_time": "2021-08-02T15:08:44.452Z"
   },
   {
    "duration": 4,
    "start_time": "2021-08-02T15:09:17.403Z"
   },
   {
    "duration": 5,
    "start_time": "2021-08-02T15:11:39.282Z"
   },
   {
    "duration": 4,
    "start_time": "2021-08-02T15:11:51.162Z"
   },
   {
    "duration": 4,
    "start_time": "2021-08-02T15:12:01.641Z"
   },
   {
    "duration": 4231,
    "start_time": "2021-08-02T15:12:46.471Z"
   },
   {
    "duration": 6,
    "start_time": "2021-08-02T15:13:15.711Z"
   },
   {
    "duration": 2313,
    "start_time": "2021-08-02T15:13:30.021Z"
   },
   {
    "duration": 6,
    "start_time": "2021-08-02T15:13:37.689Z"
   },
   {
    "duration": 12,
    "start_time": "2021-08-02T15:14:50.932Z"
   },
   {
    "duration": 8,
    "start_time": "2021-08-02T15:15:26.721Z"
   },
   {
    "duration": 6,
    "start_time": "2021-08-02T15:16:05.641Z"
   },
   {
    "duration": 7,
    "start_time": "2021-08-02T15:16:20.721Z"
   },
   {
    "duration": 10,
    "start_time": "2021-08-02T15:16:39.862Z"
   },
   {
    "duration": 18,
    "start_time": "2021-08-02T15:16:57.902Z"
   },
   {
    "duration": 10,
    "start_time": "2021-08-02T15:17:17.012Z"
   },
   {
    "duration": 11,
    "start_time": "2021-08-02T15:17:27.022Z"
   },
   {
    "duration": 560,
    "start_time": "2021-08-02T15:17:37.097Z"
   },
   {
    "duration": 51,
    "start_time": "2021-08-02T15:17:37.659Z"
   },
   {
    "duration": 20,
    "start_time": "2021-08-02T15:17:37.712Z"
   },
   {
    "duration": 10,
    "start_time": "2021-08-02T15:17:37.734Z"
   },
   {
    "duration": 8,
    "start_time": "2021-08-02T15:17:37.746Z"
   },
   {
    "duration": 38,
    "start_time": "2021-08-02T15:17:37.755Z"
   },
   {
    "duration": 12,
    "start_time": "2021-08-02T15:17:37.794Z"
   },
   {
    "duration": 48,
    "start_time": "2021-08-02T15:17:37.808Z"
   },
   {
    "duration": 5,
    "start_time": "2021-08-02T15:17:37.858Z"
   },
   {
    "duration": 9,
    "start_time": "2021-08-02T15:17:37.885Z"
   },
   {
    "duration": 4369,
    "start_time": "2021-08-02T15:23:32.552Z"
   },
   {
    "duration": 5,
    "start_time": "2021-08-02T15:23:42.202Z"
   },
   {
    "duration": 4,
    "start_time": "2021-08-02T15:24:04.271Z"
   },
   {
    "duration": 194,
    "start_time": "2021-08-02T15:24:10.742Z"
   },
   {
    "duration": 4,
    "start_time": "2021-08-02T15:24:24.138Z"
   },
   {
    "duration": 5,
    "start_time": "2021-08-02T15:25:52.552Z"
   },
   {
    "duration": 6,
    "start_time": "2021-08-02T15:26:22.312Z"
   },
   {
    "duration": 7,
    "start_time": "2021-08-02T15:35:03.155Z"
   },
   {
    "duration": 6,
    "start_time": "2021-08-02T15:36:46.595Z"
   },
   {
    "duration": 560,
    "start_time": "2021-08-02T15:37:12.281Z"
   },
   {
    "duration": 50,
    "start_time": "2021-08-02T15:37:12.843Z"
   },
   {
    "duration": 20,
    "start_time": "2021-08-02T15:37:12.895Z"
   },
   {
    "duration": 11,
    "start_time": "2021-08-02T15:37:12.917Z"
   },
   {
    "duration": 9,
    "start_time": "2021-08-02T15:37:12.930Z"
   },
   {
    "duration": 6,
    "start_time": "2021-08-02T15:37:12.941Z"
   },
   {
    "duration": 45,
    "start_time": "2021-08-02T15:37:12.949Z"
   },
   {
    "duration": 40,
    "start_time": "2021-08-02T15:37:12.995Z"
   },
   {
    "duration": 4,
    "start_time": "2021-08-02T15:37:13.038Z"
   },
   {
    "duration": 6,
    "start_time": "2021-08-02T15:37:13.044Z"
   },
   {
    "duration": 39,
    "start_time": "2021-08-02T15:37:13.052Z"
   },
   {
    "duration": 6,
    "start_time": "2021-08-02T15:37:19.965Z"
   },
   {
    "duration": 6,
    "start_time": "2021-08-02T15:45:21.855Z"
   },
   {
    "duration": 6,
    "start_time": "2021-08-02T15:48:09.783Z"
   },
   {
    "duration": 5,
    "start_time": "2021-08-02T15:48:24.135Z"
   },
   {
    "duration": 5,
    "start_time": "2021-08-02T15:48:29.776Z"
   },
   {
    "duration": 4275,
    "start_time": "2021-08-02T15:49:21.339Z"
   },
   {
    "duration": 5,
    "start_time": "2021-08-02T15:49:28.454Z"
   },
   {
    "duration": 6,
    "start_time": "2021-08-02T15:49:49.947Z"
   },
   {
    "duration": 4,
    "start_time": "2021-08-02T15:51:10.997Z"
   },
   {
    "duration": 11,
    "start_time": "2021-08-02T15:56:30.357Z"
   },
   {
    "duration": 9,
    "start_time": "2021-08-02T16:57:37.377Z"
   },
   {
    "duration": 6,
    "start_time": "2021-08-02T16:57:53.206Z"
   },
   {
    "duration": 5,
    "start_time": "2021-08-02T16:58:09.316Z"
   },
   {
    "duration": 543,
    "start_time": "2021-08-02T16:59:05.819Z"
   },
   {
    "duration": 51,
    "start_time": "2021-08-02T16:59:06.364Z"
   },
   {
    "duration": 17,
    "start_time": "2021-08-02T16:59:06.417Z"
   },
   {
    "duration": 12,
    "start_time": "2021-08-02T16:59:06.435Z"
   },
   {
    "duration": 9,
    "start_time": "2021-08-02T16:59:06.448Z"
   },
   {
    "duration": 5,
    "start_time": "2021-08-02T16:59:06.459Z"
   },
   {
    "duration": 10,
    "start_time": "2021-08-02T16:59:06.485Z"
   },
   {
    "duration": 36,
    "start_time": "2021-08-02T16:59:06.496Z"
   },
   {
    "duration": 5,
    "start_time": "2021-08-02T16:59:06.534Z"
   },
   {
    "duration": 6,
    "start_time": "2021-08-02T16:59:06.541Z"
   },
   {
    "duration": 36,
    "start_time": "2021-08-02T16:59:06.549Z"
   },
   {
    "duration": 57,
    "start_time": "2021-08-02T16:59:06.587Z"
   },
   {
    "duration": 297,
    "start_time": "2021-08-02T16:59:06.349Z"
   },
   {
    "duration": 6,
    "start_time": "2021-08-02T16:59:17.717Z"
   },
   {
    "duration": 7,
    "start_time": "2021-08-02T17:00:23.240Z"
   },
   {
    "duration": 6,
    "start_time": "2021-08-02T17:00:39.287Z"
   },
   {
    "duration": 5,
    "start_time": "2021-08-02T17:00:55.403Z"
   },
   {
    "duration": 7,
    "start_time": "2021-08-02T17:01:54.600Z"
   },
   {
    "duration": 7,
    "start_time": "2021-08-02T17:05:13.921Z"
   },
   {
    "duration": 8,
    "start_time": "2021-08-02T17:05:23.401Z"
   },
   {
    "duration": 9,
    "start_time": "2021-08-02T17:05:48.849Z"
   },
   {
    "duration": 9,
    "start_time": "2021-08-02T17:05:58.622Z"
   },
   {
    "duration": 246,
    "start_time": "2021-08-02T17:11:43.821Z"
   },
   {
    "duration": 179,
    "start_time": "2021-08-02T17:12:16.736Z"
   },
   {
    "duration": 180,
    "start_time": "2021-08-02T17:12:20.646Z"
   },
   {
    "duration": 288,
    "start_time": "2021-08-02T17:17:35.671Z"
   },
   {
    "duration": 287,
    "start_time": "2021-08-02T17:18:41.969Z"
   },
   {
    "duration": 58,
    "start_time": "2021-08-02T17:20:29.712Z"
   },
   {
    "duration": 280,
    "start_time": "2021-08-02T17:20:57.601Z"
   },
   {
    "duration": 283,
    "start_time": "2021-08-02T17:21:12.922Z"
   },
   {
    "duration": 3,
    "start_time": "2021-08-02T17:21:26.320Z"
   },
   {
    "duration": 290,
    "start_time": "2021-08-02T17:21:57.450Z"
   },
   {
    "duration": 297,
    "start_time": "2021-08-02T17:24:58.302Z"
   },
   {
    "duration": 167,
    "start_time": "2021-08-02T17:29:35.969Z"
   },
   {
    "duration": 23,
    "start_time": "2021-08-02T17:29:41.182Z"
   },
   {
    "duration": 23,
    "start_time": "2021-08-02T17:32:33.193Z"
   },
   {
    "duration": 7,
    "start_time": "2021-08-02T17:32:46.730Z"
   },
   {
    "duration": 9,
    "start_time": "2021-08-02T17:33:17.470Z"
   },
   {
    "duration": 8,
    "start_time": "2021-08-02T17:34:04.402Z"
   },
   {
    "duration": 6,
    "start_time": "2021-08-02T17:35:42.281Z"
   },
   {
    "duration": 62,
    "start_time": "2021-08-02T17:35:55.604Z"
   },
   {
    "duration": 1001,
    "start_time": "2021-08-02T17:36:13.641Z"
   },
   {
    "duration": 6,
    "start_time": "2021-08-02T17:36:31.241Z"
   },
   {
    "duration": 6,
    "start_time": "2021-08-02T17:37:16.812Z"
   },
   {
    "duration": 6,
    "start_time": "2021-08-02T17:37:24.361Z"
   },
   {
    "duration": 6,
    "start_time": "2021-08-02T17:37:46.441Z"
   },
   {
    "duration": 7,
    "start_time": "2021-08-02T17:38:10.151Z"
   },
   {
    "duration": 546,
    "start_time": "2021-08-02T17:38:21.901Z"
   },
   {
    "duration": 53,
    "start_time": "2021-08-02T17:38:22.449Z"
   },
   {
    "duration": 19,
    "start_time": "2021-08-02T17:38:22.503Z"
   },
   {
    "duration": 10,
    "start_time": "2021-08-02T17:38:22.524Z"
   },
   {
    "duration": 8,
    "start_time": "2021-08-02T17:38:22.536Z"
   },
   {
    "duration": 5,
    "start_time": "2021-08-02T17:38:22.546Z"
   },
   {
    "duration": 38,
    "start_time": "2021-08-02T17:38:22.552Z"
   },
   {
    "duration": 37,
    "start_time": "2021-08-02T17:38:22.591Z"
   },
   {
    "duration": 8,
    "start_time": "2021-08-02T17:38:22.630Z"
   },
   {
    "duration": 8,
    "start_time": "2021-08-02T17:38:22.640Z"
   },
   {
    "duration": 37,
    "start_time": "2021-08-02T17:38:22.649Z"
   },
   {
    "duration": 358,
    "start_time": "2021-08-02T17:38:22.687Z"
   },
   {
    "duration": 357,
    "start_time": "2021-08-02T17:38:22.690Z"
   },
   {
    "duration": 8,
    "start_time": "2021-08-02T17:38:40.099Z"
   },
   {
    "duration": 511,
    "start_time": "2021-08-02T17:38:57.022Z"
   },
   {
    "duration": 52,
    "start_time": "2021-08-02T17:38:57.535Z"
   },
   {
    "duration": 18,
    "start_time": "2021-08-02T17:38:57.591Z"
   },
   {
    "duration": 14,
    "start_time": "2021-08-02T17:38:57.611Z"
   },
   {
    "duration": 9,
    "start_time": "2021-08-02T17:38:57.626Z"
   },
   {
    "duration": 5,
    "start_time": "2021-08-02T17:38:57.636Z"
   },
   {
    "duration": 43,
    "start_time": "2021-08-02T17:38:57.643Z"
   },
   {
    "duration": 36,
    "start_time": "2021-08-02T17:38:57.688Z"
   },
   {
    "duration": 7,
    "start_time": "2021-08-02T17:38:57.726Z"
   },
   {
    "duration": 7,
    "start_time": "2021-08-02T17:38:57.735Z"
   },
   {
    "duration": 6,
    "start_time": "2021-08-02T17:38:57.743Z"
   },
   {
    "duration": 37,
    "start_time": "2021-08-02T17:38:57.750Z"
   },
   {
    "duration": 7,
    "start_time": "2021-08-02T17:39:36.879Z"
   },
   {
    "duration": 5,
    "start_time": "2021-08-02T17:39:59.076Z"
   },
   {
    "duration": 10,
    "start_time": "2021-08-02T17:40:17.400Z"
   },
   {
    "duration": 11,
    "start_time": "2021-08-02T17:42:03.791Z"
   },
   {
    "duration": 541,
    "start_time": "2021-08-02T17:42:17.294Z"
   },
   {
    "duration": 53,
    "start_time": "2021-08-02T17:42:17.836Z"
   },
   {
    "duration": 17,
    "start_time": "2021-08-02T17:42:17.893Z"
   },
   {
    "duration": 9,
    "start_time": "2021-08-02T17:42:17.912Z"
   },
   {
    "duration": 8,
    "start_time": "2021-08-02T17:42:17.923Z"
   },
   {
    "duration": 4,
    "start_time": "2021-08-02T17:42:17.933Z"
   },
   {
    "duration": 47,
    "start_time": "2021-08-02T17:42:17.939Z"
   },
   {
    "duration": 37,
    "start_time": "2021-08-02T17:42:17.988Z"
   },
   {
    "duration": 7,
    "start_time": "2021-08-02T17:42:18.027Z"
   },
   {
    "duration": 12,
    "start_time": "2021-08-02T17:42:18.036Z"
   },
   {
    "duration": 35,
    "start_time": "2021-08-02T17:42:18.049Z"
   },
   {
    "duration": 10,
    "start_time": "2021-08-02T17:42:18.086Z"
   },
   {
    "duration": 555,
    "start_time": "2021-08-02T17:42:40.057Z"
   },
   {
    "duration": 52,
    "start_time": "2021-08-02T17:42:40.614Z"
   },
   {
    "duration": 18,
    "start_time": "2021-08-02T17:42:40.668Z"
   },
   {
    "duration": 10,
    "start_time": "2021-08-02T17:42:40.688Z"
   },
   {
    "duration": 8,
    "start_time": "2021-08-02T17:42:40.700Z"
   },
   {
    "duration": 5,
    "start_time": "2021-08-02T17:42:40.710Z"
   },
   {
    "duration": 12,
    "start_time": "2021-08-02T17:42:40.716Z"
   },
   {
    "duration": 63,
    "start_time": "2021-08-02T17:42:40.729Z"
   },
   {
    "duration": 7,
    "start_time": "2021-08-02T17:42:40.794Z"
   },
   {
    "duration": 6,
    "start_time": "2021-08-02T17:42:40.803Z"
   },
   {
    "duration": 10,
    "start_time": "2021-08-02T17:42:40.811Z"
   },
   {
    "duration": 9,
    "start_time": "2021-08-02T17:42:40.822Z"
   },
   {
    "duration": 531,
    "start_time": "2021-08-02T17:42:54.449Z"
   },
   {
    "duration": 54,
    "start_time": "2021-08-02T17:42:54.982Z"
   },
   {
    "duration": 20,
    "start_time": "2021-08-02T17:42:55.039Z"
   },
   {
    "duration": 13,
    "start_time": "2021-08-02T17:42:55.061Z"
   },
   {
    "duration": 12,
    "start_time": "2021-08-02T17:42:55.076Z"
   },
   {
    "duration": 5,
    "start_time": "2021-08-02T17:42:55.090Z"
   },
   {
    "duration": 11,
    "start_time": "2021-08-02T17:42:55.097Z"
   },
   {
    "duration": 38,
    "start_time": "2021-08-02T17:42:55.110Z"
   },
   {
    "duration": 36,
    "start_time": "2021-08-02T17:42:55.150Z"
   },
   {
    "duration": 10,
    "start_time": "2021-08-02T17:42:55.187Z"
   },
   {
    "duration": 10,
    "start_time": "2021-08-02T17:42:55.199Z"
   },
   {
    "duration": 10,
    "start_time": "2021-08-02T17:42:55.210Z"
   },
   {
    "duration": 9,
    "start_time": "2021-08-02T17:44:01.270Z"
   },
   {
    "duration": 11,
    "start_time": "2021-08-02T17:44:16.931Z"
   },
   {
    "duration": 508,
    "start_time": "2021-08-02T17:44:31.547Z"
   },
   {
    "duration": 49,
    "start_time": "2021-08-02T17:44:32.057Z"
   },
   {
    "duration": 18,
    "start_time": "2021-08-02T17:44:32.108Z"
   },
   {
    "duration": 12,
    "start_time": "2021-08-02T17:44:32.127Z"
   },
   {
    "duration": 8,
    "start_time": "2021-08-02T17:44:32.141Z"
   },
   {
    "duration": 5,
    "start_time": "2021-08-02T17:44:32.151Z"
   },
   {
    "duration": 35,
    "start_time": "2021-08-02T17:44:32.157Z"
   },
   {
    "duration": 37,
    "start_time": "2021-08-02T17:44:32.193Z"
   },
   {
    "duration": 7,
    "start_time": "2021-08-02T17:44:32.232Z"
   },
   {
    "duration": 7,
    "start_time": "2021-08-02T17:44:32.240Z"
   },
   {
    "duration": 40,
    "start_time": "2021-08-02T17:44:32.249Z"
   },
   {
    "duration": 9,
    "start_time": "2021-08-02T17:44:32.290Z"
   },
   {
    "duration": 4,
    "start_time": "2021-08-02T17:48:28.187Z"
   },
   {
    "duration": 508,
    "start_time": "2021-08-02T17:48:36.631Z"
   },
   {
    "duration": 51,
    "start_time": "2021-08-02T17:48:37.141Z"
   },
   {
    "duration": 19,
    "start_time": "2021-08-02T17:48:37.194Z"
   },
   {
    "duration": 10,
    "start_time": "2021-08-02T17:48:37.215Z"
   },
   {
    "duration": 12,
    "start_time": "2021-08-02T17:48:37.226Z"
   },
   {
    "duration": 8,
    "start_time": "2021-08-02T17:48:37.239Z"
   },
   {
    "duration": 18,
    "start_time": "2021-08-02T17:48:37.249Z"
   },
   {
    "duration": 38,
    "start_time": "2021-08-02T17:48:37.284Z"
   },
   {
    "duration": 8,
    "start_time": "2021-08-02T17:48:37.324Z"
   },
   {
    "duration": 8,
    "start_time": "2021-08-02T17:48:37.334Z"
   },
   {
    "duration": 536,
    "start_time": "2021-08-02T17:48:52.453Z"
   },
   {
    "duration": 51,
    "start_time": "2021-08-02T17:48:52.991Z"
   },
   {
    "duration": 17,
    "start_time": "2021-08-02T17:48:53.044Z"
   },
   {
    "duration": 11,
    "start_time": "2021-08-02T17:48:53.063Z"
   },
   {
    "duration": 16,
    "start_time": "2021-08-02T17:48:53.076Z"
   },
   {
    "duration": 5,
    "start_time": "2021-08-02T17:48:53.094Z"
   },
   {
    "duration": 12,
    "start_time": "2021-08-02T17:48:53.100Z"
   },
   {
    "duration": 35,
    "start_time": "2021-08-02T17:48:53.113Z"
   },
   {
    "duration": 35,
    "start_time": "2021-08-02T17:48:53.150Z"
   },
   {
    "duration": 7,
    "start_time": "2021-08-02T17:48:53.186Z"
   },
   {
    "duration": 24968,
    "start_time": "2021-08-02T17:48:53.194Z"
   },
   {
    "duration": 8,
    "start_time": "2021-08-02T17:49:18.163Z"
   },
   {
    "duration": 237,
    "start_time": "2021-08-02T17:53:03.333Z"
   },
   {
    "duration": 56,
    "start_time": "2021-08-02T17:54:34.473Z"
   },
   {
    "duration": 60,
    "start_time": "2021-08-02T17:54:51.403Z"
   },
   {
    "duration": 54,
    "start_time": "2021-08-02T17:55:34.003Z"
   },
   {
    "duration": 563,
    "start_time": "2021-08-02T17:55:40.580Z"
   },
   {
    "duration": 51,
    "start_time": "2021-08-02T17:55:41.145Z"
   },
   {
    "duration": 19,
    "start_time": "2021-08-02T17:55:41.198Z"
   },
   {
    "duration": 10,
    "start_time": "2021-08-02T17:55:41.219Z"
   },
   {
    "duration": 8,
    "start_time": "2021-08-02T17:55:41.231Z"
   },
   {
    "duration": 5,
    "start_time": "2021-08-02T17:55:41.240Z"
   },
   {
    "duration": 43,
    "start_time": "2021-08-02T17:55:41.247Z"
   },
   {
    "duration": 37,
    "start_time": "2021-08-02T17:55:41.291Z"
   },
   {
    "duration": 8,
    "start_time": "2021-08-02T17:55:41.330Z"
   },
   {
    "duration": 6,
    "start_time": "2021-08-02T17:55:41.340Z"
   },
   {
    "duration": 53,
    "start_time": "2021-08-02T17:55:41.348Z"
   },
   {
    "duration": 446,
    "start_time": "2021-08-02T17:55:40.956Z"
   },
   {
    "duration": 8,
    "start_time": "2021-08-02T17:55:50.380Z"
   },
   {
    "duration": 514,
    "start_time": "2021-08-02T17:56:05.551Z"
   },
   {
    "duration": 52,
    "start_time": "2021-08-02T17:56:06.067Z"
   },
   {
    "duration": 19,
    "start_time": "2021-08-02T17:56:06.121Z"
   },
   {
    "duration": 13,
    "start_time": "2021-08-02T17:56:06.142Z"
   },
   {
    "duration": 27,
    "start_time": "2021-08-02T17:56:06.157Z"
   },
   {
    "duration": 5,
    "start_time": "2021-08-02T17:56:06.186Z"
   },
   {
    "duration": 14,
    "start_time": "2021-08-02T17:56:06.193Z"
   },
   {
    "duration": 36,
    "start_time": "2021-08-02T17:56:06.209Z"
   },
   {
    "duration": 7,
    "start_time": "2021-08-02T17:56:06.247Z"
   },
   {
    "duration": 34,
    "start_time": "2021-08-02T17:56:06.256Z"
   },
   {
    "duration": 10,
    "start_time": "2021-08-02T17:56:06.291Z"
   },
   {
    "duration": 14,
    "start_time": "2021-08-02T17:56:06.303Z"
   },
   {
    "duration": 567,
    "start_time": "2021-08-02T17:56:15.585Z"
   },
   {
    "duration": 53,
    "start_time": "2021-08-02T17:56:16.154Z"
   },
   {
    "duration": 20,
    "start_time": "2021-08-02T17:56:16.212Z"
   },
   {
    "duration": 10,
    "start_time": "2021-08-02T17:56:16.234Z"
   },
   {
    "duration": 9,
    "start_time": "2021-08-02T17:56:16.246Z"
   },
   {
    "duration": 31,
    "start_time": "2021-08-02T17:56:16.257Z"
   },
   {
    "duration": 11,
    "start_time": "2021-08-02T17:56:16.290Z"
   },
   {
    "duration": 36,
    "start_time": "2021-08-02T17:56:16.303Z"
   },
   {
    "duration": 7,
    "start_time": "2021-08-02T17:56:16.342Z"
   },
   {
    "duration": 37,
    "start_time": "2021-08-02T17:56:16.351Z"
   },
   {
    "duration": 7,
    "start_time": "2021-08-02T17:56:16.389Z"
   },
   {
    "duration": 13,
    "start_time": "2021-08-02T17:56:16.398Z"
   },
   {
    "duration": 7,
    "start_time": "2021-08-02T17:56:33.537Z"
   },
   {
    "duration": 7,
    "start_time": "2021-08-02T17:56:38.866Z"
   },
   {
    "duration": 7,
    "start_time": "2021-08-02T17:56:41.404Z"
   },
   {
    "duration": 263,
    "start_time": "2021-08-02T17:56:50.459Z"
   },
   {
    "duration": 571,
    "start_time": "2021-08-02T17:57:06.216Z"
   },
   {
    "duration": 51,
    "start_time": "2021-08-02T17:57:06.788Z"
   },
   {
    "duration": 19,
    "start_time": "2021-08-02T17:57:06.841Z"
   },
   {
    "duration": 11,
    "start_time": "2021-08-02T17:57:06.862Z"
   },
   {
    "duration": 9,
    "start_time": "2021-08-02T17:57:06.884Z"
   },
   {
    "duration": 5,
    "start_time": "2021-08-02T17:57:06.895Z"
   },
   {
    "duration": 12,
    "start_time": "2021-08-02T17:57:06.901Z"
   },
   {
    "duration": 38,
    "start_time": "2021-08-02T17:57:06.916Z"
   },
   {
    "duration": 35,
    "start_time": "2021-08-02T17:57:06.956Z"
   },
   {
    "duration": 9,
    "start_time": "2021-08-02T17:57:06.993Z"
   },
   {
    "duration": 264,
    "start_time": "2021-08-02T17:57:07.004Z"
   },
   {
    "duration": 273,
    "start_time": "2021-08-02T17:57:06.997Z"
   },
   {
    "duration": 55,
    "start_time": "2021-08-02T17:57:55.886Z"
   },
   {
    "duration": 194,
    "start_time": "2021-08-02T17:58:23.764Z"
   },
   {
    "duration": 8,
    "start_time": "2021-08-02T18:00:30.664Z"
   },
   {
    "duration": 508,
    "start_time": "2021-08-02T18:02:09.827Z"
   },
   {
    "duration": 53,
    "start_time": "2021-08-02T18:02:10.337Z"
   },
   {
    "duration": 17,
    "start_time": "2021-08-02T18:02:10.392Z"
   },
   {
    "duration": 10,
    "start_time": "2021-08-02T18:02:10.411Z"
   },
   {
    "duration": 7,
    "start_time": "2021-08-02T18:02:10.422Z"
   },
   {
    "duration": 8,
    "start_time": "2021-08-02T18:02:10.431Z"
   },
   {
    "duration": 9,
    "start_time": "2021-08-02T18:02:10.441Z"
   },
   {
    "duration": 63,
    "start_time": "2021-08-02T18:02:10.452Z"
   },
   {
    "duration": 8,
    "start_time": "2021-08-02T18:02:10.517Z"
   },
   {
    "duration": 7,
    "start_time": "2021-08-02T18:02:10.526Z"
   },
   {
    "duration": 225,
    "start_time": "2021-08-02T18:02:10.535Z"
   },
   {
    "duration": 440,
    "start_time": "2021-08-02T18:02:10.322Z"
   },
   {
    "duration": 175,
    "start_time": "2021-08-02T18:03:04.518Z"
   },
   {
    "duration": 550,
    "start_time": "2021-08-02T18:03:15.090Z"
   },
   {
    "duration": 51,
    "start_time": "2021-08-02T18:03:15.642Z"
   },
   {
    "duration": 18,
    "start_time": "2021-08-02T18:03:15.695Z"
   },
   {
    "duration": 9,
    "start_time": "2021-08-02T18:03:15.715Z"
   },
   {
    "duration": 8,
    "start_time": "2021-08-02T18:03:15.726Z"
   },
   {
    "duration": 4,
    "start_time": "2021-08-02T18:03:15.736Z"
   },
   {
    "duration": 11,
    "start_time": "2021-08-02T18:03:15.742Z"
   },
   {
    "duration": 65,
    "start_time": "2021-08-02T18:03:15.754Z"
   },
   {
    "duration": 8,
    "start_time": "2021-08-02T18:03:15.821Z"
   },
   {
    "duration": 6,
    "start_time": "2021-08-02T18:03:15.831Z"
   },
   {
    "duration": 220,
    "start_time": "2021-08-02T18:03:15.839Z"
   },
   {
    "duration": 463,
    "start_time": "2021-08-02T18:03:15.598Z"
   },
   {
    "duration": 8,
    "start_time": "2021-08-02T18:09:19.837Z"
   },
   {
    "duration": 5,
    "start_time": "2021-08-02T18:10:09.224Z"
   },
   {
    "duration": 562,
    "start_time": "2021-08-02T18:10:20.988Z"
   },
   {
    "duration": 53,
    "start_time": "2021-08-02T18:10:21.552Z"
   },
   {
    "duration": 18,
    "start_time": "2021-08-02T18:10:21.607Z"
   },
   {
    "duration": 13,
    "start_time": "2021-08-02T18:10:21.626Z"
   },
   {
    "duration": 8,
    "start_time": "2021-08-02T18:10:21.641Z"
   },
   {
    "duration": 35,
    "start_time": "2021-08-02T18:10:21.650Z"
   },
   {
    "duration": 11,
    "start_time": "2021-08-02T18:10:21.687Z"
   },
   {
    "duration": 38,
    "start_time": "2021-08-02T18:10:21.700Z"
   },
   {
    "duration": 8,
    "start_time": "2021-08-02T18:10:21.740Z"
   },
   {
    "duration": 36,
    "start_time": "2021-08-02T18:10:21.750Z"
   },
   {
    "duration": 6,
    "start_time": "2021-08-02T18:10:21.788Z"
   },
   {
    "duration": 10,
    "start_time": "2021-08-02T18:10:21.795Z"
   },
   {
    "duration": 8,
    "start_time": "2021-08-02T18:10:38.098Z"
   },
   {
    "duration": 548,
    "start_time": "2021-08-02T18:11:48.498Z"
   },
   {
    "duration": 51,
    "start_time": "2021-08-02T18:11:49.048Z"
   },
   {
    "duration": 18,
    "start_time": "2021-08-02T18:11:49.101Z"
   },
   {
    "duration": 9,
    "start_time": "2021-08-02T18:11:49.121Z"
   },
   {
    "duration": 8,
    "start_time": "2021-08-02T18:11:49.131Z"
   },
   {
    "duration": 5,
    "start_time": "2021-08-02T18:11:49.141Z"
   },
   {
    "duration": 39,
    "start_time": "2021-08-02T18:11:49.147Z"
   },
   {
    "duration": 37,
    "start_time": "2021-08-02T18:11:49.187Z"
   },
   {
    "duration": 7,
    "start_time": "2021-08-02T18:11:49.226Z"
   },
   {
    "duration": 8,
    "start_time": "2021-08-02T18:11:49.234Z"
   },
   {
    "duration": 250,
    "start_time": "2021-08-02T18:11:49.243Z"
   },
   {
    "duration": 466,
    "start_time": "2021-08-02T18:11:49.029Z"
   },
   {
    "duration": 13,
    "start_time": "2021-08-02T18:12:13.637Z"
   },
   {
    "duration": 548,
    "start_time": "2021-08-02T18:12:34.606Z"
   },
   {
    "duration": 53,
    "start_time": "2021-08-02T18:12:35.155Z"
   },
   {
    "duration": 19,
    "start_time": "2021-08-02T18:12:35.210Z"
   },
   {
    "duration": 11,
    "start_time": "2021-08-02T18:12:35.231Z"
   },
   {
    "duration": 12,
    "start_time": "2021-08-02T18:12:35.244Z"
   },
   {
    "duration": 5,
    "start_time": "2021-08-02T18:12:35.257Z"
   },
   {
    "duration": 29,
    "start_time": "2021-08-02T18:12:35.264Z"
   },
   {
    "duration": 37,
    "start_time": "2021-08-02T18:12:35.294Z"
   },
   {
    "duration": 8,
    "start_time": "2021-08-02T18:12:35.333Z"
   },
   {
    "duration": 11,
    "start_time": "2021-08-02T18:12:35.342Z"
   },
   {
    "duration": 36,
    "start_time": "2021-08-02T18:12:35.355Z"
   },
   {
    "duration": 13,
    "start_time": "2021-08-02T18:12:35.393Z"
   },
   {
    "duration": 292,
    "start_time": "2021-08-02T18:12:55.716Z"
   },
   {
    "duration": 274,
    "start_time": "2021-08-02T18:13:05.594Z"
   },
   {
    "duration": 278,
    "start_time": "2021-08-02T18:13:12.620Z"
   },
   {
    "duration": 275,
    "start_time": "2021-08-02T18:13:24.619Z"
   },
   {
    "duration": 9,
    "start_time": "2021-08-02T18:13:38.075Z"
   },
   {
    "duration": 9,
    "start_time": "2021-08-02T18:13:41.871Z"
   },
   {
    "duration": 57,
    "start_time": "2021-08-02T18:15:24.846Z"
   },
   {
    "duration": 59,
    "start_time": "2021-08-02T18:15:37.154Z"
   },
   {
    "duration": 67,
    "start_time": "2021-08-02T18:15:59.719Z"
   },
   {
    "duration": 55,
    "start_time": "2021-08-02T18:16:49.915Z"
   },
   {
    "duration": 6,
    "start_time": "2021-08-02T18:17:31.135Z"
   },
   {
    "duration": 9,
    "start_time": "2021-08-02T18:17:41.954Z"
   },
   {
    "duration": 574,
    "start_time": "2021-08-02T18:17:55.858Z"
   },
   {
    "duration": 51,
    "start_time": "2021-08-02T18:17:56.434Z"
   },
   {
    "duration": 17,
    "start_time": "2021-08-02T18:17:56.487Z"
   },
   {
    "duration": 12,
    "start_time": "2021-08-02T18:17:56.505Z"
   },
   {
    "duration": 9,
    "start_time": "2021-08-02T18:17:56.518Z"
   },
   {
    "duration": 4,
    "start_time": "2021-08-02T18:17:56.528Z"
   },
   {
    "duration": 11,
    "start_time": "2021-08-02T18:17:56.534Z"
   },
   {
    "duration": 67,
    "start_time": "2021-08-02T18:17:56.546Z"
   },
   {
    "duration": 7,
    "start_time": "2021-08-02T18:17:56.615Z"
   },
   {
    "duration": 17,
    "start_time": "2021-08-02T18:17:56.624Z"
   },
   {
    "duration": 7,
    "start_time": "2021-08-02T18:17:56.643Z"
   },
   {
    "duration": 9,
    "start_time": "2021-08-02T18:17:56.651Z"
   },
   {
    "duration": 352,
    "start_time": "2021-08-02T18:18:34.796Z"
   },
   {
    "duration": 9,
    "start_time": "2021-08-02T18:18:57.364Z"
   },
   {
    "duration": 9,
    "start_time": "2021-08-02T18:19:01.676Z"
   },
   {
    "duration": 2310,
    "start_time": "2021-08-02T18:19:59.736Z"
   },
   {
    "duration": 2660,
    "start_time": "2021-08-02T18:20:13.515Z"
   },
   {
    "duration": 2172,
    "start_time": "2021-08-02T18:20:57.127Z"
   },
   {
    "duration": 2144,
    "start_time": "2021-08-02T18:21:22.956Z"
   },
   {
    "duration": 285,
    "start_time": "2021-08-02T18:21:41.134Z"
   },
   {
    "duration": 2336,
    "start_time": "2021-08-02T18:21:44.796Z"
   },
   {
    "duration": 2285,
    "start_time": "2021-08-02T18:23:08.537Z"
   },
   {
    "duration": 607,
    "start_time": "2021-08-02T18:23:14.271Z"
   },
   {
    "duration": 53,
    "start_time": "2021-08-02T18:23:14.880Z"
   },
   {
    "duration": 19,
    "start_time": "2021-08-02T18:23:14.935Z"
   },
   {
    "duration": 10,
    "start_time": "2021-08-02T18:23:14.956Z"
   },
   {
    "duration": 21,
    "start_time": "2021-08-02T18:23:14.968Z"
   },
   {
    "duration": 4,
    "start_time": "2021-08-02T18:23:14.991Z"
   },
   {
    "duration": 27,
    "start_time": "2021-08-02T18:23:14.997Z"
   },
   {
    "duration": 66,
    "start_time": "2021-08-02T18:23:15.026Z"
   },
   {
    "duration": 9,
    "start_time": "2021-08-02T18:23:15.094Z"
   },
   {
    "duration": 7,
    "start_time": "2021-08-02T18:23:15.105Z"
   },
   {
    "duration": 23,
    "start_time": "2021-08-02T18:23:15.114Z"
   },
   {
    "duration": 46,
    "start_time": "2021-08-02T18:23:15.139Z"
   },
   {
    "duration": 22,
    "start_time": "2021-08-02T18:23:23.109Z"
   },
   {
    "duration": 2355,
    "start_time": "2021-08-02T18:24:35.096Z"
   },
   {
    "duration": 2263,
    "start_time": "2021-08-02T18:25:29.149Z"
   },
   {
    "duration": 2206,
    "start_time": "2021-08-02T18:25:36.356Z"
   },
   {
    "duration": 2267,
    "start_time": "2021-08-02T18:25:44.476Z"
   },
   {
    "duration": 2236,
    "start_time": "2021-08-02T18:26:48.896Z"
   },
   {
    "duration": 24,
    "start_time": "2021-08-02T18:27:04.268Z"
   },
   {
    "duration": 307,
    "start_time": "2021-08-02T18:27:24.616Z"
   },
   {
    "duration": 274,
    "start_time": "2021-08-02T18:27:56.884Z"
   },
   {
    "duration": 21,
    "start_time": "2021-08-02T18:28:34.217Z"
   },
   {
    "duration": 23,
    "start_time": "2021-08-02T18:28:44.466Z"
   },
   {
    "duration": 545,
    "start_time": "2021-08-02T18:28:57.179Z"
   },
   {
    "duration": 51,
    "start_time": "2021-08-02T18:28:57.726Z"
   },
   {
    "duration": 19,
    "start_time": "2021-08-02T18:28:57.780Z"
   },
   {
    "duration": 11,
    "start_time": "2021-08-02T18:28:57.801Z"
   },
   {
    "duration": 9,
    "start_time": "2021-08-02T18:28:57.813Z"
   },
   {
    "duration": 5,
    "start_time": "2021-08-02T18:28:57.824Z"
   },
   {
    "duration": 13,
    "start_time": "2021-08-02T18:28:57.831Z"
   },
   {
    "duration": 70,
    "start_time": "2021-08-02T18:28:57.846Z"
   },
   {
    "duration": 8,
    "start_time": "2021-08-02T18:28:57.918Z"
   },
   {
    "duration": 6,
    "start_time": "2021-08-02T18:28:57.927Z"
   },
   {
    "duration": 23,
    "start_time": "2021-08-02T18:28:57.935Z"
   },
   {
    "duration": 10,
    "start_time": "2021-08-02T18:28:57.985Z"
   },
   {
    "duration": 373,
    "start_time": "2021-08-02T18:37:31.150Z"
   },
   {
    "duration": 8,
    "start_time": "2021-08-02T18:38:46.429Z"
   },
   {
    "duration": 9,
    "start_time": "2021-08-02T18:39:13.728Z"
   },
   {
    "duration": 10,
    "start_time": "2021-08-02T18:40:43.191Z"
   },
   {
    "duration": 286,
    "start_time": "2021-08-02T18:41:07.511Z"
   },
   {
    "duration": 303,
    "start_time": "2021-08-02T18:41:19.120Z"
   },
   {
    "duration": 318,
    "start_time": "2021-08-02T18:41:37.695Z"
   },
   {
    "duration": 291,
    "start_time": "2021-08-02T18:41:54.801Z"
   },
   {
    "duration": 285,
    "start_time": "2021-08-02T18:42:03.101Z"
   },
   {
    "duration": 546,
    "start_time": "2021-08-02T18:42:07.296Z"
   },
   {
    "duration": 53,
    "start_time": "2021-08-02T18:42:07.844Z"
   },
   {
    "duration": 19,
    "start_time": "2021-08-02T18:42:07.899Z"
   },
   {
    "duration": 18,
    "start_time": "2021-08-02T18:42:07.919Z"
   },
   {
    "duration": 17,
    "start_time": "2021-08-02T18:42:07.938Z"
   },
   {
    "duration": 21,
    "start_time": "2021-08-02T18:42:07.956Z"
   },
   {
    "duration": 17,
    "start_time": "2021-08-02T18:42:07.979Z"
   },
   {
    "duration": 48,
    "start_time": "2021-08-02T18:42:07.998Z"
   },
   {
    "duration": 8,
    "start_time": "2021-08-02T18:42:08.049Z"
   },
   {
    "duration": 11,
    "start_time": "2021-08-02T18:42:08.059Z"
   },
   {
    "duration": 15,
    "start_time": "2021-08-02T18:42:08.072Z"
   },
   {
    "duration": 16,
    "start_time": "2021-08-02T18:42:08.089Z"
   },
   {
    "duration": 9,
    "start_time": "2021-08-02T18:42:47.815Z"
   },
   {
    "duration": 507,
    "start_time": "2021-08-02T18:42:52.135Z"
   },
   {
    "duration": 52,
    "start_time": "2021-08-02T18:42:52.644Z"
   },
   {
    "duration": 17,
    "start_time": "2021-08-02T18:42:52.698Z"
   },
   {
    "duration": 11,
    "start_time": "2021-08-02T18:42:52.717Z"
   },
   {
    "duration": 8,
    "start_time": "2021-08-02T18:42:52.730Z"
   },
   {
    "duration": 4,
    "start_time": "2021-08-02T18:42:52.740Z"
   },
   {
    "duration": 42,
    "start_time": "2021-08-02T18:42:52.746Z"
   },
   {
    "duration": 36,
    "start_time": "2021-08-02T18:42:52.790Z"
   },
   {
    "duration": 7,
    "start_time": "2021-08-02T18:42:52.828Z"
   },
   {
    "duration": 7,
    "start_time": "2021-08-02T18:42:52.837Z"
   },
   {
    "duration": 40,
    "start_time": "2021-08-02T18:42:52.845Z"
   },
   {
    "duration": 9,
    "start_time": "2021-08-02T18:42:52.887Z"
   },
   {
    "duration": 10,
    "start_time": "2021-08-02T18:47:48.374Z"
   },
   {
    "duration": 569,
    "start_time": "2021-08-02T18:47:53.964Z"
   },
   {
    "duration": 52,
    "start_time": "2021-08-02T18:47:54.535Z"
   },
   {
    "duration": 18,
    "start_time": "2021-08-02T18:47:54.589Z"
   },
   {
    "duration": 11,
    "start_time": "2021-08-02T18:47:54.609Z"
   },
   {
    "duration": 8,
    "start_time": "2021-08-02T18:47:54.622Z"
   },
   {
    "duration": 5,
    "start_time": "2021-08-02T18:47:54.632Z"
   },
   {
    "duration": 12,
    "start_time": "2021-08-02T18:47:54.639Z"
   },
   {
    "duration": 64,
    "start_time": "2021-08-02T18:47:54.652Z"
   },
   {
    "duration": 8,
    "start_time": "2021-08-02T18:47:54.719Z"
   },
   {
    "duration": 8,
    "start_time": "2021-08-02T18:47:54.729Z"
   },
   {
    "duration": 46,
    "start_time": "2021-08-02T18:47:54.739Z"
   },
   {
    "duration": 10,
    "start_time": "2021-08-02T18:47:54.787Z"
   },
   {
    "duration": 530,
    "start_time": "2021-08-02T18:49:41.417Z"
   },
   {
    "duration": 53,
    "start_time": "2021-08-02T18:49:41.949Z"
   },
   {
    "duration": 18,
    "start_time": "2021-08-02T18:49:42.004Z"
   },
   {
    "duration": 16,
    "start_time": "2021-08-02T18:49:42.024Z"
   },
   {
    "duration": 12,
    "start_time": "2021-08-02T18:49:42.042Z"
   },
   {
    "duration": 8,
    "start_time": "2021-08-02T18:49:42.055Z"
   },
   {
    "duration": 27,
    "start_time": "2021-08-02T18:49:42.064Z"
   },
   {
    "duration": 38,
    "start_time": "2021-08-02T18:49:42.094Z"
   },
   {
    "duration": 8,
    "start_time": "2021-08-02T18:49:42.134Z"
   },
   {
    "duration": 14,
    "start_time": "2021-08-02T18:49:42.143Z"
   },
   {
    "duration": 34,
    "start_time": "2021-08-02T18:49:42.159Z"
   },
   {
    "duration": 9,
    "start_time": "2021-08-02T18:49:42.195Z"
   },
   {
    "duration": 2391,
    "start_time": "2021-08-02T19:09:30.872Z"
   },
   {
    "duration": 740,
    "start_time": "2021-08-03T16:43:38.801Z"
   },
   {
    "duration": 66,
    "start_time": "2021-08-03T16:43:39.544Z"
   },
   {
    "duration": 29,
    "start_time": "2021-08-03T16:43:39.612Z"
   },
   {
    "duration": 29,
    "start_time": "2021-08-03T16:43:39.643Z"
   },
   {
    "duration": 11,
    "start_time": "2021-08-03T16:43:39.675Z"
   },
   {
    "duration": 7,
    "start_time": "2021-08-03T16:43:39.690Z"
   },
   {
    "duration": 16,
    "start_time": "2021-08-03T16:43:39.699Z"
   },
   {
    "duration": 59,
    "start_time": "2021-08-03T16:43:39.762Z"
   },
   {
    "duration": 11,
    "start_time": "2021-08-03T16:43:39.824Z"
   },
   {
    "duration": 34,
    "start_time": "2021-08-03T16:43:39.837Z"
   },
   {
    "duration": 654,
    "start_time": "2021-08-03T16:43:39.874Z"
   },
   {
    "duration": 15,
    "start_time": "2021-08-03T16:43:40.530Z"
   },
   {
    "duration": 792,
    "start_time": "2021-08-03T16:44:44.822Z"
   },
   {
    "duration": 65,
    "start_time": "2021-08-03T16:44:45.616Z"
   },
   {
    "duration": 29,
    "start_time": "2021-08-03T16:44:45.684Z"
   },
   {
    "duration": 18,
    "start_time": "2021-08-03T16:44:45.716Z"
   },
   {
    "duration": 34,
    "start_time": "2021-08-03T16:44:45.736Z"
   },
   {
    "duration": 10,
    "start_time": "2021-08-03T16:44:45.772Z"
   },
   {
    "duration": 18,
    "start_time": "2021-08-03T16:44:45.784Z"
   },
   {
    "duration": 89,
    "start_time": "2021-08-03T16:44:45.806Z"
   },
   {
    "duration": 11,
    "start_time": "2021-08-03T16:44:45.898Z"
   },
   {
    "duration": 11,
    "start_time": "2021-08-03T16:44:45.911Z"
   },
   {
    "duration": 631,
    "start_time": "2021-08-03T16:44:45.925Z"
   },
   {
    "duration": 10,
    "start_time": "2021-08-03T16:50:47.420Z"
   },
   {
    "duration": 13,
    "start_time": "2021-08-03T16:51:26.268Z"
   },
   {
    "duration": 15,
    "start_time": "2021-08-03T16:51:52.772Z"
   },
   {
    "duration": 719,
    "start_time": "2021-08-03T16:52:17.816Z"
   },
   {
    "duration": 64,
    "start_time": "2021-08-03T16:52:18.538Z"
   },
   {
    "duration": 31,
    "start_time": "2021-08-03T16:52:18.605Z"
   },
   {
    "duration": 34,
    "start_time": "2021-08-03T16:52:18.639Z"
   },
   {
    "duration": 12,
    "start_time": "2021-08-03T16:52:18.676Z"
   },
   {
    "duration": 8,
    "start_time": "2021-08-03T16:52:18.690Z"
   },
   {
    "duration": 16,
    "start_time": "2021-08-03T16:52:18.700Z"
   },
   {
    "duration": 57,
    "start_time": "2021-08-03T16:52:18.762Z"
   },
   {
    "duration": 11,
    "start_time": "2021-08-03T16:52:18.822Z"
   },
   {
    "duration": 33,
    "start_time": "2021-08-03T16:52:18.836Z"
   },
   {
    "duration": 604,
    "start_time": "2021-08-03T16:52:18.872Z"
   },
   {
    "duration": 12,
    "start_time": "2021-08-03T16:52:19.478Z"
   },
   {
    "duration": 763,
    "start_time": "2021-08-03T16:55:33.515Z"
   },
   {
    "duration": 65,
    "start_time": "2021-08-03T16:55:34.282Z"
   },
   {
    "duration": 35,
    "start_time": "2021-08-03T16:55:34.350Z"
   },
   {
    "duration": 16,
    "start_time": "2021-08-03T16:55:34.388Z"
   },
   {
    "duration": 13,
    "start_time": "2021-08-03T16:55:34.406Z"
   },
   {
    "duration": 45,
    "start_time": "2021-08-03T16:55:34.421Z"
   },
   {
    "duration": 16,
    "start_time": "2021-08-03T16:55:34.468Z"
   },
   {
    "duration": 86,
    "start_time": "2021-08-03T16:55:34.487Z"
   },
   {
    "duration": 10,
    "start_time": "2021-08-03T16:55:34.576Z"
   },
   {
    "duration": 10,
    "start_time": "2021-08-03T16:55:34.589Z"
   },
   {
    "duration": 1229,
    "start_time": "2021-08-03T16:55:34.602Z"
   },
   {
    "duration": 28,
    "start_time": "2021-08-03T16:55:35.835Z"
   },
   {
    "duration": 101,
    "start_time": "2021-08-03T16:55:35.867Z"
   },
   {
    "duration": 963,
    "start_time": "2021-08-03T16:55:35.008Z"
   },
   {
    "duration": 1037,
    "start_time": "2021-08-03T16:55:50.442Z"
   },
   {
    "duration": 91,
    "start_time": "2021-08-03T16:55:51.482Z"
   },
   {
    "duration": 43,
    "start_time": "2021-08-03T16:55:51.577Z"
   },
   {
    "duration": 47,
    "start_time": "2021-08-03T16:55:51.624Z"
   },
   {
    "duration": 18,
    "start_time": "2021-08-03T16:55:51.674Z"
   },
   {
    "duration": 10,
    "start_time": "2021-08-03T16:55:51.695Z"
   },
   {
    "duration": 24,
    "start_time": "2021-08-03T16:55:51.708Z"
   },
   {
    "duration": 106,
    "start_time": "2021-08-03T16:55:51.765Z"
   },
   {
    "duration": 15,
    "start_time": "2021-08-03T16:55:51.874Z"
   },
   {
    "duration": 15,
    "start_time": "2021-08-03T16:55:51.892Z"
   },
   {
    "duration": 1080,
    "start_time": "2021-08-03T16:55:51.910Z"
   },
   {
    "duration": 19,
    "start_time": "2021-08-03T16:55:52.993Z"
   },
   {
    "duration": 111,
    "start_time": "2021-08-03T16:55:53.015Z"
   },
   {
    "duration": 18,
    "start_time": "2021-08-03T16:58:45.686Z"
   },
   {
    "duration": 24,
    "start_time": "2021-08-03T17:00:18.023Z"
   },
   {
    "duration": 977,
    "start_time": "2021-08-03T17:00:41.182Z"
   },
   {
    "duration": 68,
    "start_time": "2021-08-03T17:00:42.163Z"
   },
   {
    "duration": 31,
    "start_time": "2021-08-03T17:00:42.234Z"
   },
   {
    "duration": 35,
    "start_time": "2021-08-03T17:00:42.268Z"
   },
   {
    "duration": 18,
    "start_time": "2021-08-03T17:00:42.307Z"
   },
   {
    "duration": 9,
    "start_time": "2021-08-03T17:00:42.328Z"
   },
   {
    "duration": 41,
    "start_time": "2021-08-03T17:00:42.340Z"
   },
   {
    "duration": 93,
    "start_time": "2021-08-03T17:00:42.384Z"
   },
   {
    "duration": 13,
    "start_time": "2021-08-03T17:00:42.482Z"
   },
   {
    "duration": 23,
    "start_time": "2021-08-03T17:00:42.498Z"
   },
   {
    "duration": 1078,
    "start_time": "2021-08-03T17:00:42.524Z"
   },
   {
    "duration": 12,
    "start_time": "2021-08-03T17:00:43.604Z"
   },
   {
    "duration": 90,
    "start_time": "2021-08-03T17:00:43.633Z"
   },
   {
    "duration": 12,
    "start_time": "2021-08-03T17:00:43.725Z"
   },
   {
    "duration": 1012,
    "start_time": "2021-08-03T17:14:41.442Z"
   },
   {
    "duration": 70,
    "start_time": "2021-08-03T17:14:42.959Z"
   },
   {
    "duration": 32,
    "start_time": "2021-08-03T17:14:43.032Z"
   },
   {
    "duration": 24,
    "start_time": "2021-08-03T17:14:43.069Z"
   },
   {
    "duration": 19,
    "start_time": "2021-08-03T17:14:43.097Z"
   },
   {
    "duration": 45,
    "start_time": "2021-08-03T17:14:43.119Z"
   },
   {
    "duration": 24,
    "start_time": "2021-08-03T17:14:43.167Z"
   },
   {
    "duration": 122,
    "start_time": "2021-08-03T17:14:43.193Z"
   },
   {
    "duration": 13,
    "start_time": "2021-08-03T17:14:43.320Z"
   },
   {
    "duration": 45,
    "start_time": "2021-08-03T17:14:43.337Z"
   },
   {
    "duration": 935,
    "start_time": "2021-08-03T17:14:43.385Z"
   },
   {
    "duration": 17,
    "start_time": "2021-08-03T17:14:44.323Z"
   },
   {
    "duration": 120,
    "start_time": "2021-08-03T17:14:44.342Z"
   },
   {
    "duration": 18,
    "start_time": "2021-08-03T17:14:44.465Z"
   },
   {
    "duration": 736,
    "start_time": "2021-08-03T17:15:04.522Z"
   },
   {
    "duration": 68,
    "start_time": "2021-08-03T17:15:05.261Z"
   },
   {
    "duration": 46,
    "start_time": "2021-08-03T17:15:05.331Z"
   },
   {
    "duration": 26,
    "start_time": "2021-08-03T17:15:05.381Z"
   },
   {
    "duration": 14,
    "start_time": "2021-08-03T17:15:05.410Z"
   },
   {
    "duration": 14,
    "start_time": "2021-08-03T17:15:05.426Z"
   },
   {
    "duration": 44,
    "start_time": "2021-08-03T17:15:05.442Z"
   },
   {
    "duration": 71,
    "start_time": "2021-08-03T17:15:05.490Z"
   },
   {
    "duration": 11,
    "start_time": "2021-08-03T17:15:05.564Z"
   },
   {
    "duration": 29,
    "start_time": "2021-08-03T17:15:05.577Z"
   },
   {
    "duration": 1086,
    "start_time": "2021-08-03T17:15:05.609Z"
   },
   {
    "duration": 19,
    "start_time": "2021-08-03T17:15:06.699Z"
   },
   {
    "duration": 116,
    "start_time": "2021-08-03T17:15:06.721Z"
   },
   {
    "duration": 35,
    "start_time": "2021-08-03T17:15:06.840Z"
   },
   {
    "duration": 24,
    "start_time": "2021-08-03T17:22:55.897Z"
   },
   {
    "duration": 858,
    "start_time": "2021-08-03T17:27:42.290Z"
   },
   {
    "duration": 84,
    "start_time": "2021-08-03T17:27:43.151Z"
   },
   {
    "duration": 53,
    "start_time": "2021-08-03T17:27:43.238Z"
   },
   {
    "duration": 22,
    "start_time": "2021-08-03T17:27:43.294Z"
   },
   {
    "duration": 41,
    "start_time": "2021-08-03T17:27:43.320Z"
   },
   {
    "duration": 16,
    "start_time": "2021-08-03T17:27:43.365Z"
   },
   {
    "duration": 16,
    "start_time": "2021-08-03T17:27:43.383Z"
   },
   {
    "duration": 99,
    "start_time": "2021-08-03T17:27:43.403Z"
   },
   {
    "duration": 12,
    "start_time": "2021-08-03T17:27:43.506Z"
   },
   {
    "duration": 13,
    "start_time": "2021-08-03T17:27:43.520Z"
   },
   {
    "duration": 607,
    "start_time": "2021-08-03T17:27:43.536Z"
   },
   {
    "duration": 19,
    "start_time": "2021-08-03T17:27:44.145Z"
   },
   {
    "duration": 59,
    "start_time": "2021-08-03T17:27:44.167Z"
   },
   {
    "duration": 38,
    "start_time": "2021-08-03T17:27:44.228Z"
   },
   {
    "duration": 6,
    "start_time": "2021-08-03T17:35:11.102Z"
   },
   {
    "duration": 27,
    "start_time": "2021-08-03T17:35:21.644Z"
   },
   {
    "duration": 21,
    "start_time": "2021-08-03T17:35:31.737Z"
   },
   {
    "duration": 15,
    "start_time": "2021-08-03T17:37:46.778Z"
   },
   {
    "duration": 812,
    "start_time": "2021-08-03T17:38:22.426Z"
   },
   {
    "duration": 66,
    "start_time": "2021-08-03T17:38:23.241Z"
   },
   {
    "duration": 29,
    "start_time": "2021-08-03T17:38:23.310Z"
   },
   {
    "duration": 29,
    "start_time": "2021-08-03T17:38:23.342Z"
   },
   {
    "duration": 14,
    "start_time": "2021-08-03T17:38:23.373Z"
   },
   {
    "duration": 8,
    "start_time": "2021-08-03T17:38:23.390Z"
   },
   {
    "duration": 18,
    "start_time": "2021-08-03T17:38:23.400Z"
   },
   {
    "duration": 94,
    "start_time": "2021-08-03T17:38:23.422Z"
   },
   {
    "duration": 12,
    "start_time": "2021-08-03T17:38:23.519Z"
   },
   {
    "duration": 36,
    "start_time": "2021-08-03T17:38:23.533Z"
   },
   {
    "duration": 622,
    "start_time": "2021-08-03T17:38:23.571Z"
   },
   {
    "duration": 13,
    "start_time": "2021-08-03T17:38:24.195Z"
   },
   {
    "duration": 84,
    "start_time": "2021-08-03T17:38:24.211Z"
   },
   {
    "duration": 13,
    "start_time": "2021-08-03T17:38:24.298Z"
   },
   {
    "duration": 20,
    "start_time": "2021-08-03T17:38:24.314Z"
   },
   {
    "duration": 744,
    "start_time": "2021-08-03T18:01:10.561Z"
   },
   {
    "duration": 77,
    "start_time": "2021-08-03T18:01:11.308Z"
   },
   {
    "duration": 29,
    "start_time": "2021-08-03T18:01:11.388Z"
   },
   {
    "duration": 17,
    "start_time": "2021-08-03T18:01:11.420Z"
   },
   {
    "duration": 15,
    "start_time": "2021-08-03T18:01:11.462Z"
   },
   {
    "duration": 8,
    "start_time": "2021-08-03T18:01:11.480Z"
   },
   {
    "duration": 25,
    "start_time": "2021-08-03T18:01:11.490Z"
   },
   {
    "duration": 99,
    "start_time": "2021-08-03T18:01:11.518Z"
   },
   {
    "duration": 13,
    "start_time": "2021-08-03T18:01:11.620Z"
   },
   {
    "duration": 34,
    "start_time": "2021-08-03T18:01:11.635Z"
   },
   {
    "duration": 678,
    "start_time": "2021-08-03T18:01:11.671Z"
   },
   {
    "duration": 24,
    "start_time": "2021-08-03T18:01:12.352Z"
   },
   {
    "duration": 98,
    "start_time": "2021-08-03T18:01:12.380Z"
   },
   {
    "duration": 19,
    "start_time": "2021-08-03T18:01:12.482Z"
   },
   {
    "duration": 22,
    "start_time": "2021-08-03T18:01:12.503Z"
   },
   {
    "duration": 8,
    "start_time": "2021-08-03T18:41:15.633Z"
   },
   {
    "duration": -25,
    "start_time": "2021-08-03T18:43:43.223Z"
   },
   {
    "duration": 7,
    "start_time": "2021-08-03T18:43:43.600Z"
   },
   {
    "duration": 8,
    "start_time": "2021-08-03T18:48:36.467Z"
   },
   {
    "duration": 315,
    "start_time": "2021-08-03T18:48:56.210Z"
   },
   {
    "duration": 11,
    "start_time": "2021-08-03T18:49:07.906Z"
   },
   {
    "duration": 30,
    "start_time": "2021-08-03T18:53:51.992Z"
   },
   {
    "duration": 23,
    "start_time": "2021-08-03T18:56:56.611Z"
   },
   {
    "duration": 34,
    "start_time": "2021-08-03T18:57:12.911Z"
   },
   {
    "duration": 1003,
    "start_time": "2021-08-03T18:57:38.180Z"
   },
   {
    "duration": 88,
    "start_time": "2021-08-03T18:57:39.187Z"
   },
   {
    "duration": 44,
    "start_time": "2021-08-03T18:57:39.279Z"
   },
   {
    "duration": 35,
    "start_time": "2021-08-03T18:57:39.327Z"
   },
   {
    "duration": 14,
    "start_time": "2021-08-03T18:57:39.364Z"
   },
   {
    "duration": 8,
    "start_time": "2021-08-03T18:57:39.380Z"
   },
   {
    "duration": 17,
    "start_time": "2021-08-03T18:57:39.390Z"
   },
   {
    "duration": 98,
    "start_time": "2021-08-03T18:57:39.409Z"
   },
   {
    "duration": 18,
    "start_time": "2021-08-03T18:57:39.513Z"
   },
   {
    "duration": 37,
    "start_time": "2021-08-03T18:57:39.535Z"
   },
   {
    "duration": 673,
    "start_time": "2021-08-03T18:57:39.575Z"
   },
   {
    "duration": 16,
    "start_time": "2021-08-03T18:57:40.251Z"
   },
   {
    "duration": 66,
    "start_time": "2021-08-03T18:57:40.269Z"
   },
   {
    "duration": 33,
    "start_time": "2021-08-03T18:57:40.337Z"
   },
   {
    "duration": 21,
    "start_time": "2021-08-03T18:57:40.373Z"
   },
   {
    "duration": 29,
    "start_time": "2021-08-03T18:57:40.396Z"
   },
   {
    "duration": 25,
    "start_time": "2021-08-03T18:57:40.463Z"
   },
   {
    "duration": 800,
    "start_time": "2021-08-03T18:58:38.543Z"
   },
   {
    "duration": 65,
    "start_time": "2021-08-03T18:58:39.346Z"
   },
   {
    "duration": 61,
    "start_time": "2021-08-03T18:58:39.414Z"
   },
   {
    "duration": 21,
    "start_time": "2021-08-03T18:58:39.478Z"
   },
   {
    "duration": 14,
    "start_time": "2021-08-03T18:58:39.502Z"
   },
   {
    "duration": 48,
    "start_time": "2021-08-03T18:58:39.519Z"
   },
   {
    "duration": 32,
    "start_time": "2021-08-03T18:58:39.570Z"
   },
   {
    "duration": 90,
    "start_time": "2021-08-03T18:58:39.605Z"
   },
   {
    "duration": 12,
    "start_time": "2021-08-03T18:58:39.699Z"
   },
   {
    "duration": 10,
    "start_time": "2021-08-03T18:58:39.714Z"
   },
   {
    "duration": 651,
    "start_time": "2021-08-03T18:58:39.727Z"
   },
   {
    "duration": 13,
    "start_time": "2021-08-03T18:58:40.380Z"
   },
   {
    "duration": 78,
    "start_time": "2021-08-03T18:58:40.396Z"
   },
   {
    "duration": 13,
    "start_time": "2021-08-03T18:58:40.476Z"
   },
   {
    "duration": 20,
    "start_time": "2021-08-03T18:58:40.491Z"
   },
   {
    "duration": 65,
    "start_time": "2021-08-03T18:58:40.514Z"
   },
   {
    "duration": 24,
    "start_time": "2021-08-03T18:58:40.581Z"
   },
   {
    "duration": 991,
    "start_time": "2021-08-03T19:15:31.117Z"
   },
   {
    "duration": 88,
    "start_time": "2021-08-03T19:15:32.112Z"
   },
   {
    "duration": 43,
    "start_time": "2021-08-03T19:15:32.204Z"
   },
   {
    "duration": 22,
    "start_time": "2021-08-03T19:15:32.264Z"
   },
   {
    "duration": 26,
    "start_time": "2021-08-03T19:15:32.289Z"
   },
   {
    "duration": 9,
    "start_time": "2021-08-03T19:15:32.318Z"
   },
   {
    "duration": 46,
    "start_time": "2021-08-03T19:15:32.329Z"
   },
   {
    "duration": 60,
    "start_time": "2021-08-03T19:15:32.377Z"
   },
   {
    "duration": 29,
    "start_time": "2021-08-03T19:15:32.441Z"
   },
   {
    "duration": 19,
    "start_time": "2021-08-03T19:15:32.473Z"
   },
   {
    "duration": 772,
    "start_time": "2021-08-03T19:15:32.495Z"
   },
   {
    "duration": 18,
    "start_time": "2021-08-03T19:15:33.270Z"
   },
   {
    "duration": 80,
    "start_time": "2021-08-03T19:15:33.291Z"
   },
   {
    "duration": 12,
    "start_time": "2021-08-03T19:15:33.374Z"
   },
   {
    "duration": 19,
    "start_time": "2021-08-03T19:15:33.389Z"
   },
   {
    "duration": 70,
    "start_time": "2021-08-03T19:15:33.410Z"
   },
   {
    "duration": 23,
    "start_time": "2021-08-03T19:15:33.483Z"
   },
   {
    "duration": 15,
    "start_time": "2021-08-03T19:18:16.522Z"
   },
   {
    "duration": 15,
    "start_time": "2021-08-03T19:18:45.906Z"
   },
   {
    "duration": 733,
    "start_time": "2021-08-03T19:23:11.062Z"
   },
   {
    "duration": 14,
    "start_time": "2021-08-03T19:25:10.725Z"
   },
   {
    "duration": 9,
    "start_time": "2021-08-03T19:27:03.666Z"
   },
   {
    "duration": 813,
    "start_time": "2021-08-03T19:27:09.604Z"
   },
   {
    "duration": 67,
    "start_time": "2021-08-03T19:27:10.420Z"
   },
   {
    "duration": 34,
    "start_time": "2021-08-03T19:27:10.490Z"
   },
   {
    "duration": 37,
    "start_time": "2021-08-03T19:27:10.527Z"
   },
   {
    "duration": 13,
    "start_time": "2021-08-03T19:27:10.566Z"
   },
   {
    "duration": 14,
    "start_time": "2021-08-03T19:27:10.582Z"
   },
   {
    "duration": 25,
    "start_time": "2021-08-03T19:27:10.599Z"
   },
   {
    "duration": 83,
    "start_time": "2021-08-03T19:27:10.628Z"
   },
   {
    "duration": 11,
    "start_time": "2021-08-03T19:27:10.713Z"
   },
   {
    "duration": 41,
    "start_time": "2021-08-03T19:27:10.726Z"
   },
   {
    "duration": 640,
    "start_time": "2021-08-03T19:27:10.770Z"
   },
   {
    "duration": 13,
    "start_time": "2021-08-03T19:27:11.412Z"
   },
   {
    "duration": 87,
    "start_time": "2021-08-03T19:27:11.427Z"
   },
   {
    "duration": 12,
    "start_time": "2021-08-03T19:27:11.516Z"
   },
   {
    "duration": 42,
    "start_time": "2021-08-03T19:27:11.531Z"
   },
   {
    "duration": 33,
    "start_time": "2021-08-03T19:27:11.575Z"
   },
   {
    "duration": 55,
    "start_time": "2021-08-03T19:27:11.611Z"
   },
   {
    "duration": 9,
    "start_time": "2021-08-03T19:27:11.669Z"
   },
   {
    "duration": 16,
    "start_time": "2021-08-03T19:27:53.303Z"
   },
   {
    "duration": 10,
    "start_time": "2021-08-03T19:28:42.796Z"
   },
   {
    "duration": 8,
    "start_time": "2021-08-03T19:29:42.992Z"
   },
   {
    "duration": 7,
    "start_time": "2021-08-03T19:29:51.665Z"
   },
   {
    "duration": 792,
    "start_time": "2021-08-03T19:30:16.050Z"
   },
   {
    "duration": 72,
    "start_time": "2021-08-03T19:30:16.846Z"
   },
   {
    "duration": 51,
    "start_time": "2021-08-03T19:30:16.921Z"
   },
   {
    "duration": 17,
    "start_time": "2021-08-03T19:30:16.976Z"
   },
   {
    "duration": 17,
    "start_time": "2021-08-03T19:30:16.996Z"
   },
   {
    "duration": 15,
    "start_time": "2021-08-03T19:30:17.016Z"
   },
   {
    "duration": 19,
    "start_time": "2021-08-03T19:30:17.063Z"
   },
   {
    "duration": 87,
    "start_time": "2021-08-03T19:30:17.084Z"
   },
   {
    "duration": 12,
    "start_time": "2021-08-03T19:30:17.175Z"
   },
   {
    "duration": 11,
    "start_time": "2021-08-03T19:30:17.189Z"
   },
   {
    "duration": 620,
    "start_time": "2021-08-03T19:30:17.202Z"
   },
   {
    "duration": 12,
    "start_time": "2021-08-03T19:30:17.825Z"
   },
   {
    "duration": 74,
    "start_time": "2021-08-03T19:30:17.840Z"
   },
   {
    "duration": 13,
    "start_time": "2021-08-03T19:30:17.917Z"
   },
   {
    "duration": 41,
    "start_time": "2021-08-03T19:30:17.933Z"
   },
   {
    "duration": 35,
    "start_time": "2021-08-03T19:30:17.977Z"
   },
   {
    "duration": 58,
    "start_time": "2021-08-03T19:30:18.015Z"
   },
   {
    "duration": 21,
    "start_time": "2021-08-03T19:30:18.076Z"
   },
   {
    "duration": 20,
    "start_time": "2021-08-03T19:30:18.100Z"
   },
   {
    "duration": 37,
    "start_time": "2021-08-03T19:33:13.024Z"
   },
   {
    "duration": 780,
    "start_time": "2021-08-03T19:34:20.420Z"
   },
   {
    "duration": 65,
    "start_time": "2021-08-03T19:34:21.203Z"
   },
   {
    "duration": 29,
    "start_time": "2021-08-03T19:34:21.270Z"
   },
   {
    "duration": 19,
    "start_time": "2021-08-03T19:34:21.302Z"
   },
   {
    "duration": 13,
    "start_time": "2021-08-03T19:34:21.324Z"
   },
   {
    "duration": 7,
    "start_time": "2021-08-03T19:34:21.365Z"
   },
   {
    "duration": 19,
    "start_time": "2021-08-03T19:34:21.374Z"
   },
   {
    "duration": 86,
    "start_time": "2021-08-03T19:34:21.396Z"
   },
   {
    "duration": 10,
    "start_time": "2021-08-03T19:34:21.486Z"
   },
   {
    "duration": 11,
    "start_time": "2021-08-03T19:34:21.499Z"
   },
   {
    "duration": 694,
    "start_time": "2021-08-03T19:34:21.512Z"
   },
   {
    "duration": 12,
    "start_time": "2021-08-03T19:34:22.209Z"
   },
   {
    "duration": 84,
    "start_time": "2021-08-03T19:34:22.223Z"
   },
   {
    "duration": 12,
    "start_time": "2021-08-03T19:34:22.309Z"
   },
   {
    "duration": 38,
    "start_time": "2021-08-03T19:34:22.324Z"
   },
   {
    "duration": 41,
    "start_time": "2021-08-03T19:34:22.364Z"
   },
   {
    "duration": 64,
    "start_time": "2021-08-03T19:34:22.409Z"
   },
   {
    "duration": 13,
    "start_time": "2021-08-03T19:34:22.476Z"
   },
   {
    "duration": 13,
    "start_time": "2021-08-03T19:34:22.492Z"
   },
   {
    "duration": 127,
    "start_time": "2021-08-03T19:34:22.507Z"
   },
   {
    "duration": 2,
    "start_time": "2021-08-03T19:34:22.634Z"
   },
   {
    "duration": 714,
    "start_time": "2021-08-03T19:34:36.300Z"
   },
   {
    "duration": 70,
    "start_time": "2021-08-03T19:34:37.016Z"
   },
   {
    "duration": 29,
    "start_time": "2021-08-03T19:34:37.089Z"
   },
   {
    "duration": 42,
    "start_time": "2021-08-03T19:34:37.121Z"
   },
   {
    "duration": 13,
    "start_time": "2021-08-03T19:34:37.165Z"
   },
   {
    "duration": 9,
    "start_time": "2021-08-03T19:34:37.180Z"
   },
   {
    "duration": 20,
    "start_time": "2021-08-03T19:34:37.191Z"
   },
   {
    "duration": 96,
    "start_time": "2021-08-03T19:34:37.216Z"
   },
   {
    "duration": 13,
    "start_time": "2021-08-03T19:34:37.315Z"
   },
   {
    "duration": 14,
    "start_time": "2021-08-03T19:34:37.363Z"
   },
   {
    "duration": 637,
    "start_time": "2021-08-03T19:34:37.379Z"
   },
   {
    "duration": 12,
    "start_time": "2021-08-03T19:34:38.018Z"
   },
   {
    "duration": 79,
    "start_time": "2021-08-03T19:34:38.033Z"
   },
   {
    "duration": 12,
    "start_time": "2021-08-03T19:34:38.115Z"
   },
   {
    "duration": 37,
    "start_time": "2021-08-03T19:34:38.130Z"
   },
   {
    "duration": 37,
    "start_time": "2021-08-03T19:34:38.170Z"
   },
   {
    "duration": 63,
    "start_time": "2021-08-03T19:34:38.210Z"
   },
   {
    "duration": 10,
    "start_time": "2021-08-03T19:34:38.276Z"
   },
   {
    "duration": 14,
    "start_time": "2021-08-03T19:34:38.288Z"
   },
   {
    "duration": 26,
    "start_time": "2021-08-03T19:34:38.305Z"
   },
   {
    "duration": 936,
    "start_time": "2021-08-03T19:38:27.840Z"
   },
   {
    "duration": 67,
    "start_time": "2021-08-03T19:38:28.780Z"
   },
   {
    "duration": 47,
    "start_time": "2021-08-03T19:38:28.851Z"
   },
   {
    "duration": 17,
    "start_time": "2021-08-03T19:38:28.902Z"
   },
   {
    "duration": 42,
    "start_time": "2021-08-03T19:38:28.921Z"
   },
   {
    "duration": 7,
    "start_time": "2021-08-03T19:38:28.965Z"
   },
   {
    "duration": 28,
    "start_time": "2021-08-03T19:38:28.975Z"
   },
   {
    "duration": 95,
    "start_time": "2021-08-03T19:38:29.007Z"
   },
   {
    "duration": 11,
    "start_time": "2021-08-03T19:38:29.104Z"
   },
   {
    "duration": 14,
    "start_time": "2021-08-03T19:38:29.117Z"
   },
   {
    "duration": 668,
    "start_time": "2021-08-03T19:38:29.134Z"
   },
   {
    "duration": 12,
    "start_time": "2021-08-03T19:38:29.804Z"
   },
   {
    "duration": 87,
    "start_time": "2021-08-03T19:38:29.819Z"
   },
   {
    "duration": 12,
    "start_time": "2021-08-03T19:38:29.909Z"
   },
   {
    "duration": 38,
    "start_time": "2021-08-03T19:38:29.924Z"
   },
   {
    "duration": 35,
    "start_time": "2021-08-03T19:38:29.965Z"
   },
   {
    "duration": 24,
    "start_time": "2021-08-03T19:38:30.002Z"
   },
   {
    "duration": 24,
    "start_time": "2021-08-03T19:38:30.063Z"
   },
   {
    "duration": 35,
    "start_time": "2021-08-03T19:38:30.089Z"
   },
   {
    "duration": 37,
    "start_time": "2021-08-03T19:38:30.127Z"
   },
   {
    "duration": 619,
    "start_time": "2021-08-03T19:38:30.166Z"
   },
   {
    "duration": 763,
    "start_time": "2021-08-03T19:38:45.281Z"
   },
   {
    "duration": 65,
    "start_time": "2021-08-03T19:38:46.048Z"
   },
   {
    "duration": 47,
    "start_time": "2021-08-03T19:38:46.117Z"
   },
   {
    "duration": 17,
    "start_time": "2021-08-03T19:38:46.168Z"
   },
   {
    "duration": 26,
    "start_time": "2021-08-03T19:38:46.188Z"
   },
   {
    "duration": 8,
    "start_time": "2021-08-03T19:38:46.217Z"
   },
   {
    "duration": 16,
    "start_time": "2021-08-03T19:38:46.263Z"
   },
   {
    "duration": 82,
    "start_time": "2021-08-03T19:38:46.282Z"
   },
   {
    "duration": 12,
    "start_time": "2021-08-03T19:38:46.368Z"
   },
   {
    "duration": 12,
    "start_time": "2021-08-03T19:38:46.383Z"
   },
   {
    "duration": 657,
    "start_time": "2021-08-03T19:38:46.397Z"
   },
   {
    "duration": 13,
    "start_time": "2021-08-03T19:38:47.061Z"
   },
   {
    "duration": 60,
    "start_time": "2021-08-03T19:38:47.076Z"
   },
   {
    "duration": 28,
    "start_time": "2021-08-03T19:38:47.139Z"
   },
   {
    "duration": 21,
    "start_time": "2021-08-03T19:38:47.170Z"
   },
   {
    "duration": 72,
    "start_time": "2021-08-03T19:38:47.193Z"
   },
   {
    "duration": 24,
    "start_time": "2021-08-03T19:38:47.267Z"
   },
   {
    "duration": 10,
    "start_time": "2021-08-03T19:38:47.293Z"
   },
   {
    "duration": 15,
    "start_time": "2021-08-03T19:38:47.305Z"
   },
   {
    "duration": 58,
    "start_time": "2021-08-03T19:38:47.323Z"
   },
   {
    "duration": 43,
    "start_time": "2021-08-03T19:38:47.383Z"
   },
   {
    "duration": 786,
    "start_time": "2021-08-03T19:39:03.921Z"
   },
   {
    "duration": 68,
    "start_time": "2021-08-03T19:39:04.711Z"
   },
   {
    "duration": 31,
    "start_time": "2021-08-03T19:39:04.782Z"
   },
   {
    "duration": 18,
    "start_time": "2021-08-03T19:39:04.816Z"
   },
   {
    "duration": 35,
    "start_time": "2021-08-03T19:39:04.838Z"
   },
   {
    "duration": 10,
    "start_time": "2021-08-03T19:39:04.876Z"
   },
   {
    "duration": 33,
    "start_time": "2021-08-03T19:39:04.889Z"
   },
   {
    "duration": 85,
    "start_time": "2021-08-03T19:39:04.925Z"
   },
   {
    "duration": 13,
    "start_time": "2021-08-03T19:39:05.016Z"
   },
   {
    "duration": 40,
    "start_time": "2021-08-03T19:39:05.033Z"
   },
   {
    "duration": 642,
    "start_time": "2021-08-03T19:39:05.075Z"
   },
   {
    "duration": 13,
    "start_time": "2021-08-03T19:39:05.720Z"
   },
   {
    "duration": 79,
    "start_time": "2021-08-03T19:39:05.735Z"
   },
   {
    "duration": 12,
    "start_time": "2021-08-03T19:39:05.816Z"
   },
   {
    "duration": 40,
    "start_time": "2021-08-03T19:39:05.830Z"
   },
   {
    "duration": 33,
    "start_time": "2021-08-03T19:39:05.873Z"
   },
   {
    "duration": 23,
    "start_time": "2021-08-03T19:39:05.908Z"
   },
   {
    "duration": 12,
    "start_time": "2021-08-03T19:39:05.963Z"
   },
   {
    "duration": 21,
    "start_time": "2021-08-03T19:39:05.978Z"
   },
   {
    "duration": 30,
    "start_time": "2021-08-03T19:39:06.002Z"
   },
   {
    "duration": 48,
    "start_time": "2021-08-03T19:39:06.063Z"
   },
   {
    "duration": 777,
    "start_time": "2021-08-03T19:43:05.992Z"
   },
   {
    "duration": 66,
    "start_time": "2021-08-03T19:43:06.771Z"
   },
   {
    "duration": 38,
    "start_time": "2021-08-03T19:43:06.842Z"
   },
   {
    "duration": 16,
    "start_time": "2021-08-03T19:43:06.883Z"
   },
   {
    "duration": 44,
    "start_time": "2021-08-03T19:43:06.904Z"
   },
   {
    "duration": 16,
    "start_time": "2021-08-03T19:43:06.951Z"
   },
   {
    "duration": 19,
    "start_time": "2021-08-03T19:43:06.970Z"
   },
   {
    "duration": 94,
    "start_time": "2021-08-03T19:43:06.995Z"
   },
   {
    "duration": 12,
    "start_time": "2021-08-03T19:43:07.092Z"
   },
   {
    "duration": 13,
    "start_time": "2021-08-03T19:43:07.107Z"
   },
   {
    "duration": 648,
    "start_time": "2021-08-03T19:43:07.123Z"
   },
   {
    "duration": 15,
    "start_time": "2021-08-03T19:43:07.774Z"
   },
   {
    "duration": 86,
    "start_time": "2021-08-03T19:43:07.791Z"
   },
   {
    "duration": 13,
    "start_time": "2021-08-03T19:43:07.879Z"
   },
   {
    "duration": 20,
    "start_time": "2021-08-03T19:43:07.895Z"
   },
   {
    "duration": 69,
    "start_time": "2021-08-03T19:43:07.918Z"
   },
   {
    "duration": 26,
    "start_time": "2021-08-03T19:43:07.989Z"
   },
   {
    "duration": 50,
    "start_time": "2021-08-03T19:43:08.017Z"
   },
   {
    "duration": 24,
    "start_time": "2021-08-03T19:43:08.069Z"
   },
   {
    "duration": 43,
    "start_time": "2021-08-03T19:43:08.096Z"
   },
   {
    "duration": 67,
    "start_time": "2021-08-03T19:43:08.142Z"
   },
   {
    "duration": 442,
    "start_time": "2021-08-03T20:09:36.999Z"
   },
   {
    "duration": 344,
    "start_time": "2021-08-03T20:10:06.796Z"
   },
   {
    "duration": 953,
    "start_time": "2021-08-03T20:11:59.511Z"
   },
   {
    "duration": 981,
    "start_time": "2021-08-03T20:12:11.381Z"
   },
   {
    "duration": 662,
    "start_time": "2021-08-03T20:19:37.533Z"
   },
   {
    "duration": 644,
    "start_time": "2021-08-03T20:21:00.839Z"
   },
   {
    "duration": 579,
    "start_time": "2021-08-03T20:22:51.730Z"
   },
   {
    "duration": 619,
    "start_time": "2021-08-03T20:23:37.377Z"
   },
   {
    "duration": 616,
    "start_time": "2021-08-03T20:24:25.377Z"
   },
   {
    "duration": 803,
    "start_time": "2021-08-03T20:24:47.237Z"
   },
   {
    "duration": 69,
    "start_time": "2021-08-03T20:24:48.043Z"
   },
   {
    "duration": 31,
    "start_time": "2021-08-03T20:24:48.115Z"
   },
   {
    "duration": 26,
    "start_time": "2021-08-03T20:24:48.149Z"
   },
   {
    "duration": 13,
    "start_time": "2021-08-03T20:24:48.177Z"
   },
   {
    "duration": 8,
    "start_time": "2021-08-03T20:24:48.193Z"
   },
   {
    "duration": 17,
    "start_time": "2021-08-03T20:24:48.204Z"
   },
   {
    "duration": 60,
    "start_time": "2021-08-03T20:24:48.264Z"
   },
   {
    "duration": 34,
    "start_time": "2021-08-03T20:24:48.328Z"
   },
   {
    "duration": 12,
    "start_time": "2021-08-03T20:24:48.364Z"
   },
   {
    "duration": 637,
    "start_time": "2021-08-03T20:24:48.378Z"
   },
   {
    "duration": 17,
    "start_time": "2021-08-03T20:24:49.018Z"
   },
   {
    "duration": 74,
    "start_time": "2021-08-03T20:24:49.038Z"
   },
   {
    "duration": 13,
    "start_time": "2021-08-03T20:24:49.115Z"
   },
   {
    "duration": 44,
    "start_time": "2021-08-03T20:24:49.131Z"
   },
   {
    "duration": 47,
    "start_time": "2021-08-03T20:24:49.178Z"
   },
   {
    "duration": 71,
    "start_time": "2021-08-03T20:24:49.228Z"
   },
   {
    "duration": 13,
    "start_time": "2021-08-03T20:24:49.302Z"
   },
   {
    "duration": 46,
    "start_time": "2021-08-03T20:24:49.318Z"
   },
   {
    "duration": 25,
    "start_time": "2021-08-03T20:24:49.366Z"
   },
   {
    "duration": 77,
    "start_time": "2021-08-03T20:24:49.394Z"
   },
   {
    "duration": 667,
    "start_time": "2021-08-03T20:24:49.473Z"
   },
   {
    "duration": 302,
    "start_time": "2021-08-03T20:25:22.855Z"
   },
   {
    "duration": 926,
    "start_time": "2021-08-03T20:25:28.915Z"
   },
   {
    "duration": 5226,
    "start_time": "2021-08-03T20:30:34.561Z"
   },
   {
    "duration": 737,
    "start_time": "2021-08-03T20:35:53.216Z"
   },
   {
    "duration": 70,
    "start_time": "2021-08-03T20:35:53.956Z"
   },
   {
    "duration": 34,
    "start_time": "2021-08-03T20:35:54.029Z"
   },
   {
    "duration": 16,
    "start_time": "2021-08-03T20:35:54.066Z"
   },
   {
    "duration": 13,
    "start_time": "2021-08-03T20:35:54.084Z"
   },
   {
    "duration": 8,
    "start_time": "2021-08-03T20:35:54.100Z"
   },
   {
    "duration": 61,
    "start_time": "2021-08-03T20:35:54.111Z"
   },
   {
    "duration": 56,
    "start_time": "2021-08-03T20:35:54.175Z"
   },
   {
    "duration": 31,
    "start_time": "2021-08-03T20:35:54.234Z"
   },
   {
    "duration": 11,
    "start_time": "2021-08-03T20:35:54.267Z"
   },
   {
    "duration": 607,
    "start_time": "2021-08-03T20:35:54.280Z"
   },
   {
    "duration": 13,
    "start_time": "2021-08-03T20:35:54.889Z"
   },
   {
    "duration": 79,
    "start_time": "2021-08-03T20:35:54.904Z"
   },
   {
    "duration": 12,
    "start_time": "2021-08-03T20:35:54.985Z"
   },
   {
    "duration": 20,
    "start_time": "2021-08-03T20:35:55.000Z"
   },
   {
    "duration": 59,
    "start_time": "2021-08-03T20:35:55.022Z"
   },
   {
    "duration": 24,
    "start_time": "2021-08-03T20:35:55.083Z"
   },
   {
    "duration": 52,
    "start_time": "2021-08-03T20:35:55.110Z"
   },
   {
    "duration": 12,
    "start_time": "2021-08-03T20:35:55.165Z"
   },
   {
    "duration": 33,
    "start_time": "2021-08-03T20:35:55.179Z"
   },
   {
    "duration": 72,
    "start_time": "2021-08-03T20:35:55.214Z"
   },
   {
    "duration": 4974,
    "start_time": "2021-08-03T20:35:55.288Z"
   },
   {
    "duration": 13757,
    "start_time": "2021-08-03T20:42:03.190Z"
   },
   {
    "duration": 5721,
    "start_time": "2021-08-03T20:46:14.377Z"
   },
   {
    "duration": 797,
    "start_time": "2021-08-03T20:46:33.425Z"
   },
   {
    "duration": 68,
    "start_time": "2021-08-03T20:46:34.226Z"
   },
   {
    "duration": 32,
    "start_time": "2021-08-03T20:46:34.298Z"
   },
   {
    "duration": 36,
    "start_time": "2021-08-03T20:46:34.334Z"
   },
   {
    "duration": 22,
    "start_time": "2021-08-03T20:46:34.372Z"
   },
   {
    "duration": 10,
    "start_time": "2021-08-03T20:46:34.397Z"
   },
   {
    "duration": 19,
    "start_time": "2021-08-03T20:46:34.409Z"
   },
   {
    "duration": 85,
    "start_time": "2021-08-03T20:46:34.430Z"
   },
   {
    "duration": 10,
    "start_time": "2021-08-03T20:46:34.519Z"
   },
   {
    "duration": 35,
    "start_time": "2021-08-03T20:46:34.532Z"
   },
   {
    "duration": 626,
    "start_time": "2021-08-03T20:46:34.570Z"
   },
   {
    "duration": 13,
    "start_time": "2021-08-03T20:46:35.198Z"
   },
   {
    "duration": 79,
    "start_time": "2021-08-03T20:46:35.214Z"
   },
   {
    "duration": 14,
    "start_time": "2021-08-03T20:46:35.296Z"
   },
   {
    "duration": 30,
    "start_time": "2021-08-03T20:46:35.313Z"
   },
   {
    "duration": 48,
    "start_time": "2021-08-03T20:46:35.363Z"
   },
   {
    "duration": 71,
    "start_time": "2021-08-03T20:46:35.414Z"
   },
   {
    "duration": 13,
    "start_time": "2021-08-03T20:46:35.488Z"
   },
   {
    "duration": 25,
    "start_time": "2021-08-03T20:46:35.504Z"
   },
   {
    "duration": 51,
    "start_time": "2021-08-03T20:46:35.532Z"
   },
   {
    "duration": 44,
    "start_time": "2021-08-03T20:46:35.585Z"
   },
   {
    "duration": 13557,
    "start_time": "2021-08-03T20:46:35.632Z"
   },
   {
    "duration": 9,
    "start_time": "2021-08-03T20:51:16.936Z"
   },
   {
    "duration": 12,
    "start_time": "2021-08-03T20:51:42.713Z"
   },
   {
    "duration": 770,
    "start_time": "2021-08-03T20:52:24.480Z"
   },
   {
    "duration": 71,
    "start_time": "2021-08-03T20:52:25.252Z"
   },
   {
    "duration": 41,
    "start_time": "2021-08-03T20:52:25.327Z"
   },
   {
    "duration": 15,
    "start_time": "2021-08-03T20:52:25.370Z"
   },
   {
    "duration": 18,
    "start_time": "2021-08-03T20:52:25.389Z"
   },
   {
    "duration": 9,
    "start_time": "2021-08-03T20:52:25.410Z"
   },
   {
    "duration": 21,
    "start_time": "2021-08-03T20:52:25.463Z"
   },
   {
    "duration": 88,
    "start_time": "2021-08-03T20:52:25.487Z"
   },
   {
    "duration": 11,
    "start_time": "2021-08-03T20:52:25.580Z"
   },
   {
    "duration": 12,
    "start_time": "2021-08-03T20:52:25.594Z"
   },
   {
    "duration": 629,
    "start_time": "2021-08-03T20:52:25.608Z"
   },
   {
    "duration": 23,
    "start_time": "2021-08-03T20:52:26.239Z"
   },
   {
    "duration": 61,
    "start_time": "2021-08-03T20:52:26.264Z"
   },
   {
    "duration": 40,
    "start_time": "2021-08-03T20:52:26.328Z"
   },
   {
    "duration": 40,
    "start_time": "2021-08-03T20:52:26.371Z"
   },
   {
    "duration": 52,
    "start_time": "2021-08-03T20:52:26.414Z"
   },
   {
    "duration": 24,
    "start_time": "2021-08-03T20:52:26.468Z"
   },
   {
    "duration": 33,
    "start_time": "2021-08-03T20:52:26.494Z"
   },
   {
    "duration": 59,
    "start_time": "2021-08-03T20:52:26.530Z"
   },
   {
    "duration": 43,
    "start_time": "2021-08-03T20:52:26.592Z"
   },
   {
    "duration": 13836,
    "start_time": "2021-08-03T20:52:26.638Z"
   },
   {
    "duration": 37,
    "start_time": "2021-08-03T20:53:47.824Z"
   },
   {
    "duration": 773,
    "start_time": "2021-08-03T20:54:36.662Z"
   },
   {
    "duration": 66,
    "start_time": "2021-08-03T20:54:37.438Z"
   },
   {
    "duration": 29,
    "start_time": "2021-08-03T20:54:37.507Z"
   },
   {
    "duration": 33,
    "start_time": "2021-08-03T20:54:37.539Z"
   },
   {
    "duration": 12,
    "start_time": "2021-08-03T20:54:37.574Z"
   },
   {
    "duration": 9,
    "start_time": "2021-08-03T20:54:37.589Z"
   },
   {
    "duration": 17,
    "start_time": "2021-08-03T20:54:37.600Z"
   },
   {
    "duration": 99,
    "start_time": "2021-08-03T20:54:37.620Z"
   },
   {
    "duration": 12,
    "start_time": "2021-08-03T20:54:37.724Z"
   },
   {
    "duration": 33,
    "start_time": "2021-08-03T20:54:37.739Z"
   },
   {
    "duration": 651,
    "start_time": "2021-08-03T20:54:37.775Z"
   },
   {
    "duration": 13,
    "start_time": "2021-08-03T20:54:38.429Z"
   },
   {
    "duration": 69,
    "start_time": "2021-08-03T20:54:38.444Z"
   },
   {
    "duration": 13,
    "start_time": "2021-08-03T20:54:38.515Z"
   },
   {
    "duration": 50,
    "start_time": "2021-08-03T20:54:38.530Z"
   },
   {
    "duration": 35,
    "start_time": "2021-08-03T20:54:38.582Z"
   },
   {
    "duration": 26,
    "start_time": "2021-08-03T20:54:38.663Z"
   },
   {
    "duration": 13,
    "start_time": "2021-08-03T20:54:38.692Z"
   },
   {
    "duration": 65,
    "start_time": "2021-08-03T20:54:38.708Z"
   },
   {
    "duration": 46,
    "start_time": "2021-08-03T20:54:38.776Z"
   },
   {
    "duration": 14124,
    "start_time": "2021-08-03T20:54:38.825Z"
   },
   {
    "duration": 49,
    "start_time": "2021-08-03T20:54:52.951Z"
   },
   {
    "duration": 33,
    "start_time": "2021-08-03T20:55:05.517Z"
   },
   {
    "duration": 754,
    "start_time": "2021-08-03T21:13:07.518Z"
   },
   {
    "duration": 67,
    "start_time": "2021-08-03T21:13:08.275Z"
   },
   {
    "duration": 28,
    "start_time": "2021-08-03T21:13:08.345Z"
   },
   {
    "duration": 20,
    "start_time": "2021-08-03T21:13:08.376Z"
   },
   {
    "duration": 12,
    "start_time": "2021-08-03T21:13:08.399Z"
   },
   {
    "duration": 8,
    "start_time": "2021-08-03T21:13:08.413Z"
   },
   {
    "duration": 54,
    "start_time": "2021-08-03T21:13:08.424Z"
   },
   {
    "duration": 89,
    "start_time": "2021-08-03T21:13:08.481Z"
   },
   {
    "duration": 13,
    "start_time": "2021-08-03T21:13:08.576Z"
   },
   {
    "duration": 12,
    "start_time": "2021-08-03T21:13:08.593Z"
   },
   {
    "duration": 647,
    "start_time": "2021-08-03T21:13:08.608Z"
   },
   {
    "duration": 13,
    "start_time": "2021-08-03T21:13:09.257Z"
   },
   {
    "duration": 60,
    "start_time": "2021-08-03T21:13:09.272Z"
   },
   {
    "duration": 32,
    "start_time": "2021-08-03T21:13:09.334Z"
   },
   {
    "duration": 25,
    "start_time": "2021-08-03T21:13:09.369Z"
   },
   {
    "duration": 68,
    "start_time": "2021-08-03T21:13:09.396Z"
   },
   {
    "duration": 26,
    "start_time": "2021-08-03T21:13:09.467Z"
   },
   {
    "duration": 24,
    "start_time": "2021-08-03T21:13:09.496Z"
   },
   {
    "duration": 63,
    "start_time": "2021-08-03T21:13:09.523Z"
   },
   {
    "duration": 75,
    "start_time": "2021-08-03T21:13:09.589Z"
   },
   {
    "duration": 13167,
    "start_time": "2021-08-03T21:13:09.666Z"
   },
   {
    "duration": 32,
    "start_time": "2021-08-03T21:13:22.836Z"
   },
   {
    "duration": 4629,
    "start_time": "2021-08-03T21:17:00.707Z"
   },
   {
    "duration": 731,
    "start_time": "2021-08-03T21:17:37.099Z"
   },
   {
    "duration": 67,
    "start_time": "2021-08-03T21:17:37.832Z"
   },
   {
    "duration": 32,
    "start_time": "2021-08-03T21:17:37.902Z"
   },
   {
    "duration": 38,
    "start_time": "2021-08-03T21:17:37.938Z"
   },
   {
    "duration": 14,
    "start_time": "2021-08-03T21:17:37.979Z"
   },
   {
    "duration": 7,
    "start_time": "2021-08-03T21:17:37.997Z"
   },
   {
    "duration": 56,
    "start_time": "2021-08-03T21:17:38.006Z"
   },
   {
    "duration": 58,
    "start_time": "2021-08-03T21:17:38.066Z"
   },
   {
    "duration": 11,
    "start_time": "2021-08-03T21:17:38.127Z"
   },
   {
    "duration": 11,
    "start_time": "2021-08-03T21:17:38.161Z"
   },
   {
    "duration": 622,
    "start_time": "2021-08-03T21:17:38.174Z"
   },
   {
    "duration": 13,
    "start_time": "2021-08-03T21:17:38.799Z"
   },
   {
    "duration": 77,
    "start_time": "2021-08-03T21:17:38.815Z"
   },
   {
    "duration": 12,
    "start_time": "2021-08-03T21:17:38.895Z"
   },
   {
    "duration": 40,
    "start_time": "2021-08-03T21:17:38.909Z"
   },
   {
    "duration": 36,
    "start_time": "2021-08-03T21:17:38.951Z"
   },
   {
    "duration": 22,
    "start_time": "2021-08-03T21:17:38.989Z"
   },
   {
    "duration": 47,
    "start_time": "2021-08-03T21:17:39.014Z"
   },
   {
    "duration": 24,
    "start_time": "2021-08-03T21:17:39.064Z"
   },
   {
    "duration": 81,
    "start_time": "2021-08-03T21:17:39.091Z"
   },
   {
    "duration": 13521,
    "start_time": "2021-08-03T21:17:39.174Z"
   },
   {
    "duration": 15,
    "start_time": "2021-08-03T21:17:52.697Z"
   },
   {
    "duration": 4598,
    "start_time": "2021-08-03T21:17:52.717Z"
   },
   {
    "duration": 612,
    "start_time": "2021-08-03T21:18:46.988Z"
   },
   {
    "duration": 630,
    "start_time": "2021-08-03T21:20:38.381Z"
   },
   {
    "duration": 40957,
    "start_time": "2021-08-03T21:21:29.169Z"
   },
   {
    "duration": 29,
    "start_time": "2021-08-03T21:22:20.737Z"
   },
   {
    "duration": 757,
    "start_time": "2021-08-03T21:26:54.695Z"
   },
   {
    "duration": 68,
    "start_time": "2021-08-03T21:26:55.454Z"
   },
   {
    "duration": 38,
    "start_time": "2021-08-03T21:26:55.524Z"
   },
   {
    "duration": 19,
    "start_time": "2021-08-03T21:26:55.565Z"
   },
   {
    "duration": 14,
    "start_time": "2021-08-03T21:26:55.587Z"
   },
   {
    "duration": 8,
    "start_time": "2021-08-03T21:26:55.604Z"
   },
   {
    "duration": 59,
    "start_time": "2021-08-03T21:26:55.614Z"
   },
   {
    "duration": 58,
    "start_time": "2021-08-03T21:26:55.677Z"
   },
   {
    "duration": 31,
    "start_time": "2021-08-03T21:26:55.738Z"
   },
   {
    "duration": 11,
    "start_time": "2021-08-03T21:26:55.772Z"
   },
   {
    "duration": 644,
    "start_time": "2021-08-03T21:26:55.786Z"
   },
   {
    "duration": 13,
    "start_time": "2021-08-03T21:26:56.432Z"
   },
   {
    "duration": 60,
    "start_time": "2021-08-03T21:26:56.462Z"
   },
   {
    "duration": 13,
    "start_time": "2021-08-03T21:26:56.524Z"
   },
   {
    "duration": 40,
    "start_time": "2021-08-03T21:26:56.540Z"
   },
   {
    "duration": 34,
    "start_time": "2021-08-03T21:26:56.582Z"
   },
   {
    "duration": 53,
    "start_time": "2021-08-03T21:26:56.618Z"
   },
   {
    "duration": 31,
    "start_time": "2021-08-03T21:26:56.674Z"
   },
   {
    "duration": 37,
    "start_time": "2021-08-03T21:26:56.708Z"
   },
   {
    "duration": 67,
    "start_time": "2021-08-03T21:26:56.760Z"
   },
   {
    "duration": 13264,
    "start_time": "2021-08-03T21:26:56.831Z"
   },
   {
    "duration": 23,
    "start_time": "2021-08-03T21:27:10.098Z"
   },
   {
    "duration": 41848,
    "start_time": "2021-08-03T21:27:10.127Z"
   },
   {
    "duration": 30,
    "start_time": "2021-08-03T21:27:51.978Z"
   },
   {
    "duration": 798,
    "start_time": "2021-08-03T21:33:42.305Z"
   },
   {
    "duration": 69,
    "start_time": "2021-08-03T21:33:43.106Z"
   },
   {
    "duration": 35,
    "start_time": "2021-08-03T21:33:43.179Z"
   },
   {
    "duration": 19,
    "start_time": "2021-08-03T21:33:43.217Z"
   },
   {
    "duration": 39,
    "start_time": "2021-08-03T21:33:43.239Z"
   },
   {
    "duration": 7,
    "start_time": "2021-08-03T21:33:43.281Z"
   },
   {
    "duration": 20,
    "start_time": "2021-08-03T21:33:43.290Z"
   },
   {
    "duration": 118,
    "start_time": "2021-08-03T21:33:43.313Z"
   },
   {
    "duration": 26,
    "start_time": "2021-08-03T21:33:43.436Z"
   },
   {
    "duration": 14,
    "start_time": "2021-08-03T21:33:43.466Z"
   },
   {
    "duration": 671,
    "start_time": "2021-08-03T21:33:43.483Z"
   },
   {
    "duration": 19,
    "start_time": "2021-08-03T21:33:44.161Z"
   },
   {
    "duration": 110,
    "start_time": "2021-08-03T21:33:44.183Z"
   },
   {
    "duration": 12,
    "start_time": "2021-08-03T21:33:44.295Z"
   },
   {
    "duration": 20,
    "start_time": "2021-08-03T21:33:44.310Z"
   },
   {
    "duration": 57,
    "start_time": "2021-08-03T21:33:44.332Z"
   },
   {
    "duration": 32,
    "start_time": "2021-08-03T21:33:44.392Z"
   },
   {
    "duration": 47,
    "start_time": "2021-08-03T21:33:44.426Z"
   },
   {
    "duration": 36,
    "start_time": "2021-08-03T21:33:44.477Z"
   },
   {
    "duration": 98,
    "start_time": "2021-08-03T21:33:44.516Z"
   },
   {
    "duration": 14193,
    "start_time": "2021-08-03T21:33:44.617Z"
   },
   {
    "duration": 19,
    "start_time": "2021-08-03T21:33:58.814Z"
   },
   {
    "duration": 42889,
    "start_time": "2021-08-03T21:33:58.836Z"
   },
   {
    "duration": 779,
    "start_time": "2021-08-03T21:45:55.465Z"
   },
   {
    "duration": 66,
    "start_time": "2021-08-03T21:45:56.246Z"
   },
   {
    "duration": 29,
    "start_time": "2021-08-03T21:45:56.315Z"
   },
   {
    "duration": 16,
    "start_time": "2021-08-03T21:45:56.363Z"
   },
   {
    "duration": 27,
    "start_time": "2021-08-03T21:45:56.382Z"
   },
   {
    "duration": 9,
    "start_time": "2021-08-03T21:45:56.412Z"
   },
   {
    "duration": 45,
    "start_time": "2021-08-03T21:45:56.423Z"
   },
   {
    "duration": 59,
    "start_time": "2021-08-03T21:45:56.471Z"
   },
   {
    "duration": 32,
    "start_time": "2021-08-03T21:45:56.533Z"
   },
   {
    "duration": 12,
    "start_time": "2021-08-03T21:45:56.567Z"
   },
   {
    "duration": 659,
    "start_time": "2021-08-03T21:45:56.582Z"
   },
   {
    "duration": 20,
    "start_time": "2021-08-03T21:45:57.243Z"
   },
   {
    "duration": 59,
    "start_time": "2021-08-03T21:45:57.266Z"
   },
   {
    "duration": 13,
    "start_time": "2021-08-03T21:45:57.327Z"
   },
   {
    "duration": 19,
    "start_time": "2021-08-03T21:45:57.363Z"
   },
   {
    "duration": 37,
    "start_time": "2021-08-03T21:45:57.384Z"
   },
   {
    "duration": 24,
    "start_time": "2021-08-03T21:45:57.462Z"
   },
   {
    "duration": 17,
    "start_time": "2021-08-03T21:45:57.488Z"
   },
   {
    "duration": 55,
    "start_time": "2021-08-03T21:45:57.507Z"
   },
   {
    "duration": 46,
    "start_time": "2021-08-03T21:45:57.564Z"
   },
   {
    "duration": 13324,
    "start_time": "2021-08-03T21:45:57.612Z"
   },
   {
    "duration": 28,
    "start_time": "2021-08-03T21:46:10.939Z"
   },
   {
    "duration": 39824,
    "start_time": "2021-08-03T21:46:10.971Z"
   },
   {
    "duration": 303,
    "start_time": "2021-08-04T17:11:15.820Z"
   },
   {
    "duration": 565,
    "start_time": "2021-08-04T17:11:26.646Z"
   },
   {
    "duration": 48,
    "start_time": "2021-08-04T17:11:27.213Z"
   },
   {
    "duration": 17,
    "start_time": "2021-08-04T17:11:27.263Z"
   },
   {
    "duration": 12,
    "start_time": "2021-08-04T17:11:27.282Z"
   },
   {
    "duration": 8,
    "start_time": "2021-08-04T17:11:27.296Z"
   },
   {
    "duration": 4,
    "start_time": "2021-08-04T17:11:27.306Z"
   },
   {
    "duration": 36,
    "start_time": "2021-08-04T17:11:27.312Z"
   },
   {
    "duration": 38,
    "start_time": "2021-08-04T17:11:27.350Z"
   },
   {
    "duration": 9,
    "start_time": "2021-08-04T17:11:27.391Z"
   },
   {
    "duration": 8,
    "start_time": "2021-08-04T17:11:27.402Z"
   },
   {
    "duration": 360,
    "start_time": "2021-08-04T17:11:27.411Z"
   },
   {
    "duration": 10,
    "start_time": "2021-08-04T17:11:27.773Z"
   },
   {
    "duration": 38,
    "start_time": "2021-08-04T17:11:27.785Z"
   },
   {
    "duration": 24,
    "start_time": "2021-08-04T17:11:27.824Z"
   },
   {
    "duration": 14,
    "start_time": "2021-08-04T17:11:27.850Z"
   },
   {
    "duration": 25,
    "start_time": "2021-08-04T17:11:27.866Z"
   },
   {
    "duration": 49,
    "start_time": "2021-08-04T17:11:27.893Z"
   },
   {
    "duration": 9,
    "start_time": "2021-08-04T17:11:27.944Z"
   },
   {
    "duration": 17,
    "start_time": "2021-08-04T17:11:27.954Z"
   },
   {
    "duration": 27,
    "start_time": "2021-08-04T17:11:27.972Z"
   },
   {
    "duration": 8421,
    "start_time": "2021-08-04T17:11:28.000Z"
   },
   {
    "duration": 18,
    "start_time": "2021-08-04T17:11:36.422Z"
   },
   {
    "duration": 24656,
    "start_time": "2021-08-04T17:11:36.442Z"
   },
   {
    "duration": 5,
    "start_time": "2021-08-04T17:12:01.100Z"
   },
   {
    "duration": 294,
    "start_time": "2021-08-04T17:12:29.426Z"
   },
   {
    "duration": 7,
    "start_time": "2021-08-04T17:14:19.627Z"
   },
   {
    "duration": 530,
    "start_time": "2021-08-04T17:33:45.592Z"
   },
   {
    "duration": 49,
    "start_time": "2021-08-04T17:33:46.124Z"
   },
   {
    "duration": 17,
    "start_time": "2021-08-04T17:33:46.175Z"
   },
   {
    "duration": 12,
    "start_time": "2021-08-04T17:33:46.194Z"
   },
   {
    "duration": 12,
    "start_time": "2021-08-04T17:33:46.208Z"
   },
   {
    "duration": 14,
    "start_time": "2021-08-04T17:33:46.221Z"
   },
   {
    "duration": 14,
    "start_time": "2021-08-04T17:33:46.237Z"
   },
   {
    "duration": 35,
    "start_time": "2021-08-04T17:33:46.253Z"
   },
   {
    "duration": 7,
    "start_time": "2021-08-04T17:33:46.291Z"
   },
   {
    "duration": 13,
    "start_time": "2021-08-04T17:33:46.300Z"
   },
   {
    "duration": 353,
    "start_time": "2021-08-04T17:33:46.315Z"
   },
   {
    "duration": 8,
    "start_time": "2021-08-04T17:33:46.670Z"
   },
   {
    "duration": 41,
    "start_time": "2021-08-04T17:33:46.680Z"
   },
   {
    "duration": 20,
    "start_time": "2021-08-04T17:33:46.722Z"
   },
   {
    "duration": 14,
    "start_time": "2021-08-04T17:33:46.743Z"
   },
   {
    "duration": 23,
    "start_time": "2021-08-04T17:33:46.758Z"
   },
   {
    "duration": 16,
    "start_time": "2021-08-04T17:33:46.782Z"
   },
   {
    "duration": 42,
    "start_time": "2021-08-04T17:33:46.799Z"
   },
   {
    "duration": 16,
    "start_time": "2021-08-04T17:33:46.843Z"
   },
   {
    "duration": 28,
    "start_time": "2021-08-04T17:33:46.860Z"
   },
   {
    "duration": 8966,
    "start_time": "2021-08-04T17:33:46.889Z"
   },
   {
    "duration": 13,
    "start_time": "2021-08-04T17:33:55.857Z"
   },
   {
    "duration": 33283,
    "start_time": "2021-08-04T17:33:55.872Z"
   },
   {
    "duration": -45,
    "start_time": "2021-08-04T17:34:29.202Z"
   },
   {
    "duration": 513,
    "start_time": "2021-08-04T17:38:29.190Z"
   },
   {
    "duration": 49,
    "start_time": "2021-08-04T17:38:29.705Z"
   },
   {
    "duration": 17,
    "start_time": "2021-08-04T17:38:29.756Z"
   },
   {
    "duration": 19,
    "start_time": "2021-08-04T17:38:29.775Z"
   },
   {
    "duration": 8,
    "start_time": "2021-08-04T17:38:29.796Z"
   },
   {
    "duration": 5,
    "start_time": "2021-08-04T17:38:29.806Z"
   },
   {
    "duration": 31,
    "start_time": "2021-08-04T17:38:29.812Z"
   },
   {
    "duration": 36,
    "start_time": "2021-08-04T17:38:29.844Z"
   },
   {
    "duration": 7,
    "start_time": "2021-08-04T17:38:29.883Z"
   },
   {
    "duration": 11,
    "start_time": "2021-08-04T17:38:29.892Z"
   },
   {
    "duration": 355,
    "start_time": "2021-08-04T17:38:29.904Z"
   },
   {
    "duration": 9,
    "start_time": "2021-08-04T17:38:30.261Z"
   },
   {
    "duration": 49,
    "start_time": "2021-08-04T17:38:30.271Z"
   },
   {
    "duration": 21,
    "start_time": "2021-08-04T17:38:30.321Z"
   },
   {
    "duration": 15,
    "start_time": "2021-08-04T17:38:30.345Z"
   },
   {
    "duration": 32,
    "start_time": "2021-08-04T17:38:30.362Z"
   },
   {
    "duration": 53,
    "start_time": "2021-08-04T17:38:30.396Z"
   },
   {
    "duration": 28,
    "start_time": "2021-08-04T17:38:30.451Z"
   },
   {
    "duration": 31,
    "start_time": "2021-08-04T17:38:30.481Z"
   },
   {
    "duration": 29,
    "start_time": "2021-08-04T17:38:30.514Z"
   },
   {
    "duration": 8886,
    "start_time": "2021-08-04T17:38:30.544Z"
   },
   {
    "duration": 11,
    "start_time": "2021-08-04T17:38:39.431Z"
   },
   {
    "duration": 27251,
    "start_time": "2021-08-04T17:38:39.444Z"
   },
   {
    "duration": 5,
    "start_time": "2021-08-04T17:39:06.696Z"
   },
   {
    "duration": 541,
    "start_time": "2021-08-04T17:40:16.077Z"
   },
   {
    "duration": 594,
    "start_time": "2021-08-04T17:40:22.395Z"
   },
   {
    "duration": 50,
    "start_time": "2021-08-04T17:40:22.991Z"
   },
   {
    "duration": 18,
    "start_time": "2021-08-04T17:40:23.043Z"
   },
   {
    "duration": 14,
    "start_time": "2021-08-04T17:40:23.062Z"
   },
   {
    "duration": 20,
    "start_time": "2021-08-04T17:40:23.078Z"
   },
   {
    "duration": 11,
    "start_time": "2021-08-04T17:40:23.100Z"
   },
   {
    "duration": 14,
    "start_time": "2021-08-04T17:40:23.112Z"
   },
   {
    "duration": 51,
    "start_time": "2021-08-04T17:40:23.128Z"
   },
   {
    "duration": 7,
    "start_time": "2021-08-04T17:40:23.181Z"
   },
   {
    "duration": 7,
    "start_time": "2021-08-04T17:40:23.190Z"
   },
   {
    "duration": 365,
    "start_time": "2021-08-04T17:40:23.199Z"
   },
   {
    "duration": 8,
    "start_time": "2021-08-04T17:40:23.565Z"
   },
   {
    "duration": 40,
    "start_time": "2021-08-04T17:40:23.575Z"
   },
   {
    "duration": 25,
    "start_time": "2021-08-04T17:40:23.617Z"
   },
   {
    "duration": 13,
    "start_time": "2021-08-04T17:40:23.643Z"
   },
   {
    "duration": 21,
    "start_time": "2021-08-04T17:40:23.658Z"
   },
   {
    "duration": 15,
    "start_time": "2021-08-04T17:40:23.680Z"
   },
   {
    "duration": 9,
    "start_time": "2021-08-04T17:40:23.697Z"
   },
   {
    "duration": 45,
    "start_time": "2021-08-04T17:40:23.707Z"
   },
   {
    "duration": 28,
    "start_time": "2021-08-04T17:40:23.753Z"
   },
   {
    "duration": 8639,
    "start_time": "2021-08-04T17:40:23.783Z"
   },
   {
    "duration": 19,
    "start_time": "2021-08-04T17:40:32.424Z"
   },
   {
    "duration": 492,
    "start_time": "2021-08-04T17:40:32.446Z"
   },
   {
    "duration": 122,
    "start_time": "2021-08-04T17:40:32.819Z"
   },
   {
    "duration": 243,
    "start_time": "2021-08-04T17:41:27.172Z"
   },
   {
    "duration": 6157,
    "start_time": "2021-08-04T17:41:33.271Z"
   },
   {
    "duration": 595,
    "start_time": "2021-08-04T17:41:46.159Z"
   },
   {
    "duration": 43,
    "start_time": "2021-08-04T17:41:46.756Z"
   },
   {
    "duration": 20,
    "start_time": "2021-08-04T17:41:46.802Z"
   },
   {
    "duration": 25,
    "start_time": "2021-08-04T17:41:46.824Z"
   },
   {
    "duration": 10,
    "start_time": "2021-08-04T17:41:46.851Z"
   },
   {
    "duration": 6,
    "start_time": "2021-08-04T17:41:46.862Z"
   },
   {
    "duration": 13,
    "start_time": "2021-08-04T17:41:46.870Z"
   },
   {
    "duration": 70,
    "start_time": "2021-08-04T17:41:46.886Z"
   },
   {
    "duration": 8,
    "start_time": "2021-08-04T17:41:46.959Z"
   },
   {
    "duration": 13,
    "start_time": "2021-08-04T17:41:46.969Z"
   },
   {
    "duration": 341,
    "start_time": "2021-08-04T17:41:46.983Z"
   },
   {
    "duration": 18,
    "start_time": "2021-08-04T17:41:47.325Z"
   },
   {
    "duration": 38,
    "start_time": "2021-08-04T17:41:47.345Z"
   },
   {
    "duration": 9,
    "start_time": "2021-08-04T17:41:47.384Z"
   },
   {
    "duration": 15,
    "start_time": "2021-08-04T17:41:47.394Z"
   },
   {
    "duration": 46,
    "start_time": "2021-08-04T17:41:47.411Z"
   },
   {
    "duration": 16,
    "start_time": "2021-08-04T17:41:47.458Z"
   },
   {
    "duration": 19,
    "start_time": "2021-08-04T17:41:47.476Z"
   },
   {
    "duration": 26,
    "start_time": "2021-08-04T17:41:47.496Z"
   },
   {
    "duration": 42,
    "start_time": "2021-08-04T17:41:47.524Z"
   },
   {
    "duration": 8684,
    "start_time": "2021-08-04T17:41:47.568Z"
   },
   {
    "duration": 11,
    "start_time": "2021-08-04T17:41:56.254Z"
   },
   {
    "duration": 6427,
    "start_time": "2021-08-04T17:41:56.268Z"
   },
   {
    "duration": 287,
    "start_time": "2021-08-04T17:42:02.410Z"
   },
   {
    "duration": 1408,
    "start_time": "2021-08-04T17:43:43.517Z"
   },
   {
    "duration": 1091,
    "start_time": "2021-08-04T17:43:54.454Z"
   },
   {
    "duration": 609,
    "start_time": "2021-08-04T17:44:01.027Z"
   },
   {
    "duration": 54,
    "start_time": "2021-08-04T17:44:01.637Z"
   },
   {
    "duration": 20,
    "start_time": "2021-08-04T17:44:01.693Z"
   },
   {
    "duration": 12,
    "start_time": "2021-08-04T17:44:01.715Z"
   },
   {
    "duration": 18,
    "start_time": "2021-08-04T17:44:01.729Z"
   },
   {
    "duration": 6,
    "start_time": "2021-08-04T17:44:01.748Z"
   },
   {
    "duration": 13,
    "start_time": "2021-08-04T17:44:01.756Z"
   },
   {
    "duration": 90,
    "start_time": "2021-08-04T17:44:01.771Z"
   },
   {
    "duration": 9,
    "start_time": "2021-08-04T17:44:01.865Z"
   },
   {
    "duration": 8,
    "start_time": "2021-08-04T17:44:01.877Z"
   },
   {
    "duration": 603,
    "start_time": "2021-08-04T17:44:01.888Z"
   },
   {
    "duration": 12,
    "start_time": "2021-08-04T17:44:02.493Z"
   },
   {
    "duration": 70,
    "start_time": "2021-08-04T17:44:02.506Z"
   },
   {
    "duration": 13,
    "start_time": "2021-08-04T17:44:02.578Z"
   },
   {
    "duration": 19,
    "start_time": "2021-08-04T17:44:02.593Z"
   },
   {
    "duration": 40,
    "start_time": "2021-08-04T17:44:02.614Z"
   },
   {
    "duration": 17,
    "start_time": "2021-08-04T17:44:02.656Z"
   },
   {
    "duration": 8,
    "start_time": "2021-08-04T17:44:02.675Z"
   },
   {
    "duration": 19,
    "start_time": "2021-08-04T17:44:02.685Z"
   },
   {
    "duration": 60,
    "start_time": "2021-08-04T17:44:02.705Z"
   },
   {
    "duration": 10196,
    "start_time": "2021-08-04T17:44:02.766Z"
   },
   {
    "duration": 11,
    "start_time": "2021-08-04T17:44:12.964Z"
   },
   {
    "duration": 1444,
    "start_time": "2021-08-04T17:44:12.977Z"
   },
   {
    "duration": 275,
    "start_time": "2021-08-04T17:44:14.148Z"
   },
   {
    "duration": 7237,
    "start_time": "2021-08-04T17:44:28.010Z"
   },
   {
    "duration": 1023,
    "start_time": "2021-08-04T17:46:09.821Z"
   },
   {
    "duration": 968,
    "start_time": "2021-08-04T17:46:54.210Z"
   },
   {
    "duration": 998,
    "start_time": "2021-08-04T17:49:22.915Z"
   },
   {
    "duration": 242,
    "start_time": "2021-08-04T17:51:55.906Z"
   },
   {
    "duration": 252,
    "start_time": "2021-08-04T17:52:21.704Z"
   },
   {
    "duration": 555,
    "start_time": "2021-08-04T17:52:26.754Z"
   },
   {
    "duration": 49,
    "start_time": "2021-08-04T17:52:27.310Z"
   },
   {
    "duration": 17,
    "start_time": "2021-08-04T17:52:27.361Z"
   },
   {
    "duration": 16,
    "start_time": "2021-08-04T17:52:27.380Z"
   },
   {
    "duration": 10,
    "start_time": "2021-08-04T17:52:27.398Z"
   },
   {
    "duration": 9,
    "start_time": "2021-08-04T17:52:27.409Z"
   },
   {
    "duration": 15,
    "start_time": "2021-08-04T17:52:27.419Z"
   },
   {
    "duration": 36,
    "start_time": "2021-08-04T17:52:27.436Z"
   },
   {
    "duration": 6,
    "start_time": "2021-08-04T17:52:27.474Z"
   },
   {
    "duration": 17,
    "start_time": "2021-08-04T17:52:27.482Z"
   },
   {
    "duration": 343,
    "start_time": "2021-08-04T17:52:27.501Z"
   },
   {
    "duration": 8,
    "start_time": "2021-08-04T17:52:27.845Z"
   },
   {
    "duration": 39,
    "start_time": "2021-08-04T17:52:27.855Z"
   },
   {
    "duration": 8,
    "start_time": "2021-08-04T17:52:27.896Z"
   },
   {
    "duration": 20,
    "start_time": "2021-08-04T17:52:27.906Z"
   },
   {
    "duration": 33,
    "start_time": "2021-08-04T17:52:27.928Z"
   },
   {
    "duration": 15,
    "start_time": "2021-08-04T17:52:27.963Z"
   },
   {
    "duration": 15,
    "start_time": "2021-08-04T17:52:27.979Z"
   },
   {
    "duration": 20,
    "start_time": "2021-08-04T17:52:27.996Z"
   },
   {
    "duration": 48,
    "start_time": "2021-08-04T17:52:28.018Z"
   },
   {
    "duration": 8429,
    "start_time": "2021-08-04T17:52:28.067Z"
   },
   {
    "duration": 9,
    "start_time": "2021-08-04T17:52:36.498Z"
   },
   {
    "duration": 332,
    "start_time": "2021-08-04T17:52:36.510Z"
   },
   {
    "duration": 232,
    "start_time": "2021-08-04T17:52:36.612Z"
   },
   {
    "duration": 584,
    "start_time": "2021-08-04T17:56:45.332Z"
   },
   {
    "duration": 49,
    "start_time": "2021-08-04T17:56:45.917Z"
   },
   {
    "duration": 17,
    "start_time": "2021-08-04T17:56:45.968Z"
   },
   {
    "duration": 10,
    "start_time": "2021-08-04T17:56:45.987Z"
   },
   {
    "duration": 9,
    "start_time": "2021-08-04T17:56:45.998Z"
   },
   {
    "duration": 9,
    "start_time": "2021-08-04T17:56:46.008Z"
   },
   {
    "duration": 29,
    "start_time": "2021-08-04T17:56:46.018Z"
   },
   {
    "duration": 36,
    "start_time": "2021-08-04T17:56:46.049Z"
   },
   {
    "duration": 7,
    "start_time": "2021-08-04T17:56:46.088Z"
   },
   {
    "duration": 8,
    "start_time": "2021-08-04T17:56:46.097Z"
   },
   {
    "duration": 344,
    "start_time": "2021-08-04T17:56:46.107Z"
   },
   {
    "duration": 9,
    "start_time": "2021-08-04T17:56:46.453Z"
   },
   {
    "duration": 39,
    "start_time": "2021-08-04T17:56:46.463Z"
   },
   {
    "duration": 8,
    "start_time": "2021-08-04T17:56:46.504Z"
   },
   {
    "duration": 34,
    "start_time": "2021-08-04T17:56:46.514Z"
   },
   {
    "duration": 21,
    "start_time": "2021-08-04T17:56:46.549Z"
   },
   {
    "duration": 15,
    "start_time": "2021-08-04T17:56:46.571Z"
   },
   {
    "duration": 7,
    "start_time": "2021-08-04T17:56:46.588Z"
   },
   {
    "duration": 46,
    "start_time": "2021-08-04T17:56:46.596Z"
   },
   {
    "duration": 28,
    "start_time": "2021-08-04T17:56:46.643Z"
   },
   {
    "duration": 8371,
    "start_time": "2021-08-04T17:56:46.673Z"
   },
   {
    "duration": 11,
    "start_time": "2021-08-04T17:56:55.046Z"
   },
   {
    "duration": 495,
    "start_time": "2021-08-04T17:56:55.058Z"
   },
   {
    "duration": 273,
    "start_time": "2021-08-04T17:56:55.282Z"
   },
   {
    "duration": 578,
    "start_time": "2021-08-04T17:57:04.592Z"
   },
   {
    "duration": 50,
    "start_time": "2021-08-04T17:57:05.171Z"
   },
   {
    "duration": 22,
    "start_time": "2021-08-04T17:57:05.223Z"
   },
   {
    "duration": 23,
    "start_time": "2021-08-04T17:57:05.247Z"
   },
   {
    "duration": 26,
    "start_time": "2021-08-04T17:57:05.272Z"
   },
   {
    "duration": 22,
    "start_time": "2021-08-04T17:57:05.299Z"
   },
   {
    "duration": 23,
    "start_time": "2021-08-04T17:57:05.322Z"
   },
   {
    "duration": 36,
    "start_time": "2021-08-04T17:57:05.348Z"
   },
   {
    "duration": 7,
    "start_time": "2021-08-04T17:57:05.386Z"
   },
   {
    "duration": 17,
    "start_time": "2021-08-04T17:57:05.395Z"
   },
   {
    "duration": 353,
    "start_time": "2021-08-04T17:57:05.413Z"
   },
   {
    "duration": 9,
    "start_time": "2021-08-04T17:57:05.768Z"
   },
   {
    "duration": 52,
    "start_time": "2021-08-04T17:57:05.778Z"
   },
   {
    "duration": 9,
    "start_time": "2021-08-04T17:57:05.832Z"
   },
   {
    "duration": 25,
    "start_time": "2021-08-04T17:57:05.843Z"
   },
   {
    "duration": 25,
    "start_time": "2021-08-04T17:57:05.870Z"
   },
   {
    "duration": 14,
    "start_time": "2021-08-04T17:57:05.897Z"
   },
   {
    "duration": 34,
    "start_time": "2021-08-04T17:57:05.913Z"
   },
   {
    "duration": 16,
    "start_time": "2021-08-04T17:57:05.948Z"
   },
   {
    "duration": 45,
    "start_time": "2021-08-04T17:57:05.965Z"
   },
   {
    "duration": 8571,
    "start_time": "2021-08-04T17:57:06.011Z"
   },
   {
    "duration": 11,
    "start_time": "2021-08-04T17:57:14.583Z"
   },
   {
    "duration": 25445,
    "start_time": "2021-08-04T17:57:14.597Z"
   },
   {
    "duration": 6,
    "start_time": "2021-08-04T17:57:40.044Z"
   },
   {
    "duration": 25783,
    "start_time": "2021-08-04T17:59:03.009Z"
   },
   {
    "duration": 26773,
    "start_time": "2021-08-04T18:00:04.298Z"
   },
   {
    "duration": 604,
    "start_time": "2021-08-04T18:00:42.254Z"
   },
   {
    "duration": 49,
    "start_time": "2021-08-04T18:00:42.860Z"
   },
   {
    "duration": 18,
    "start_time": "2021-08-04T18:00:42.911Z"
   },
   {
    "duration": 17,
    "start_time": "2021-08-04T18:00:42.931Z"
   },
   {
    "duration": 11,
    "start_time": "2021-08-04T18:00:42.950Z"
   },
   {
    "duration": 7,
    "start_time": "2021-08-04T18:00:42.964Z"
   },
   {
    "duration": 11,
    "start_time": "2021-08-04T18:00:42.973Z"
   },
   {
    "duration": 73,
    "start_time": "2021-08-04T18:00:42.986Z"
   },
   {
    "duration": 8,
    "start_time": "2021-08-04T18:00:43.062Z"
   },
   {
    "duration": 7,
    "start_time": "2021-08-04T18:00:43.071Z"
   },
   {
    "duration": 369,
    "start_time": "2021-08-04T18:00:43.080Z"
   },
   {
    "duration": 10,
    "start_time": "2021-08-04T18:00:43.451Z"
   },
   {
    "duration": 39,
    "start_time": "2021-08-04T18:00:43.462Z"
   },
   {
    "duration": 8,
    "start_time": "2021-08-04T18:00:43.503Z"
   },
   {
    "duration": 29,
    "start_time": "2021-08-04T18:00:43.513Z"
   },
   {
    "duration": 27,
    "start_time": "2021-08-04T18:00:43.544Z"
   },
   {
    "duration": 16,
    "start_time": "2021-08-04T18:00:43.572Z"
   },
   {
    "duration": 10,
    "start_time": "2021-08-04T18:00:43.589Z"
   },
   {
    "duration": 58,
    "start_time": "2021-08-04T18:00:43.600Z"
   },
   {
    "duration": 26,
    "start_time": "2021-08-04T18:00:43.660Z"
   },
   {
    "duration": 8982,
    "start_time": "2021-08-04T18:00:43.688Z"
   },
   {
    "duration": 10,
    "start_time": "2021-08-04T18:00:52.672Z"
   },
   {
    "duration": 28205,
    "start_time": "2021-08-04T18:00:52.684Z"
   },
   {
    "duration": 6,
    "start_time": "2021-08-04T18:01:20.891Z"
   },
   {
    "duration": 569,
    "start_time": "2021-08-04T18:06:43.248Z"
   },
   {
    "duration": 50,
    "start_time": "2021-08-04T18:06:43.819Z"
   },
   {
    "duration": 19,
    "start_time": "2021-08-04T18:06:43.871Z"
   },
   {
    "duration": 10,
    "start_time": "2021-08-04T18:06:43.892Z"
   },
   {
    "duration": 20,
    "start_time": "2021-08-04T18:06:43.903Z"
   },
   {
    "duration": 5,
    "start_time": "2021-08-04T18:06:43.941Z"
   },
   {
    "duration": 31,
    "start_time": "2021-08-04T18:06:43.948Z"
   },
   {
    "duration": 46,
    "start_time": "2021-08-04T18:06:43.980Z"
   },
   {
    "duration": 7,
    "start_time": "2021-08-04T18:06:44.029Z"
   },
   {
    "duration": 17,
    "start_time": "2021-08-04T18:06:44.038Z"
   },
   {
    "duration": 341,
    "start_time": "2021-08-04T18:06:44.057Z"
   },
   {
    "duration": 9,
    "start_time": "2021-08-04T18:06:44.400Z"
   },
   {
    "duration": 50,
    "start_time": "2021-08-04T18:06:44.411Z"
   },
   {
    "duration": 10,
    "start_time": "2021-08-04T18:06:44.462Z"
   },
   {
    "duration": 26,
    "start_time": "2021-08-04T18:06:44.473Z"
   },
   {
    "duration": 24,
    "start_time": "2021-08-04T18:06:44.502Z"
   },
   {
    "duration": 16,
    "start_time": "2021-08-04T18:06:44.541Z"
   },
   {
    "duration": 17,
    "start_time": "2021-08-04T18:06:44.559Z"
   },
   {
    "duration": 29,
    "start_time": "2021-08-04T18:06:44.578Z"
   },
   {
    "duration": 39,
    "start_time": "2021-08-04T18:06:44.609Z"
   },
   {
    "duration": 8536,
    "start_time": "2021-08-04T18:06:44.649Z"
   },
   {
    "duration": 10,
    "start_time": "2021-08-04T18:06:53.187Z"
   },
   {
    "duration": 28309,
    "start_time": "2021-08-04T18:06:53.199Z"
   },
   {
    "duration": 5,
    "start_time": "2021-08-04T18:07:21.510Z"
   },
   {
    "duration": 4,
    "start_time": "2021-08-04T18:16:05.153Z"
   },
   {
    "duration": 15,
    "start_time": "2021-08-04T18:17:42.619Z"
   },
   {
    "duration": 387,
    "start_time": "2021-08-04T18:39:45.132Z"
   },
   {
    "duration": 12,
    "start_time": "2021-08-04T18:40:06.908Z"
   },
   {
    "duration": 296,
    "start_time": "2021-08-04T18:51:22.109Z"
   },
   {
    "duration": 12,
    "start_time": "2021-08-04T18:51:31.290Z"
   },
   {
    "duration": 531,
    "start_time": "2021-08-04T18:52:32.196Z"
   },
   {
    "duration": 53,
    "start_time": "2021-08-04T18:52:32.729Z"
   },
   {
    "duration": 18,
    "start_time": "2021-08-04T18:52:32.785Z"
   },
   {
    "duration": 11,
    "start_time": "2021-08-04T18:52:32.805Z"
   },
   {
    "duration": 29,
    "start_time": "2021-08-04T18:52:32.817Z"
   },
   {
    "duration": 9,
    "start_time": "2021-08-04T18:52:32.848Z"
   },
   {
    "duration": 13,
    "start_time": "2021-08-04T18:52:32.859Z"
   },
   {
    "duration": 36,
    "start_time": "2021-08-04T18:52:32.874Z"
   },
   {
    "duration": 30,
    "start_time": "2021-08-04T18:52:32.912Z"
   },
   {
    "duration": 9,
    "start_time": "2021-08-04T18:52:32.944Z"
   },
   {
    "duration": 359,
    "start_time": "2021-08-04T18:52:32.954Z"
   },
   {
    "duration": 8,
    "start_time": "2021-08-04T18:52:33.314Z"
   },
   {
    "duration": 50,
    "start_time": "2021-08-04T18:52:33.324Z"
   },
   {
    "duration": 9,
    "start_time": "2021-08-04T18:52:33.375Z"
   },
   {
    "duration": 24,
    "start_time": "2021-08-04T18:52:33.385Z"
   },
   {
    "duration": 37,
    "start_time": "2021-08-04T18:52:33.411Z"
   },
   {
    "duration": 19,
    "start_time": "2021-08-04T18:52:33.449Z"
   },
   {
    "duration": 9,
    "start_time": "2021-08-04T18:52:33.470Z"
   },
   {
    "duration": 20,
    "start_time": "2021-08-04T18:52:33.481Z"
   },
   {
    "duration": 54,
    "start_time": "2021-08-04T18:52:33.502Z"
   },
   {
    "duration": 9333,
    "start_time": "2021-08-04T18:52:33.558Z"
   },
   {
    "duration": 11,
    "start_time": "2021-08-04T18:52:42.893Z"
   },
   {
    "duration": 27781,
    "start_time": "2021-08-04T18:52:42.906Z"
   },
   {
    "duration": 18,
    "start_time": "2021-08-04T18:53:10.689Z"
   },
   {
    "duration": 12,
    "start_time": "2021-08-04T18:53:10.709Z"
   },
   {
    "duration": 26,
    "start_time": "2021-08-04T18:53:10.723Z"
   },
   {
    "duration": 6,
    "start_time": "2021-08-04T19:12:02.534Z"
   },
   {
    "duration": 320,
    "start_time": "2021-08-04T19:14:31.044Z"
   },
   {
    "duration": 6,
    "start_time": "2021-08-04T19:14:44.582Z"
   },
   {
    "duration": 23,
    "start_time": "2021-08-04T19:26:04.765Z"
   },
   {
    "duration": 16,
    "start_time": "2021-08-04T19:26:24.206Z"
   },
   {
    "duration": 22,
    "start_time": "2021-08-04T19:27:13.912Z"
   },
   {
    "duration": 13,
    "start_time": "2021-08-04T19:27:35.503Z"
   },
   {
    "duration": 15,
    "start_time": "2021-08-04T19:29:40.203Z"
   },
   {
    "duration": 695,
    "start_time": "2021-08-04T19:29:53.758Z"
   },
   {
    "duration": 68,
    "start_time": "2021-08-04T19:29:54.456Z"
   },
   {
    "duration": 28,
    "start_time": "2021-08-04T19:29:54.526Z"
   },
   {
    "duration": 14,
    "start_time": "2021-08-04T19:29:54.556Z"
   },
   {
    "duration": 26,
    "start_time": "2021-08-04T19:29:54.572Z"
   },
   {
    "duration": 17,
    "start_time": "2021-08-04T19:29:54.599Z"
   },
   {
    "duration": 29,
    "start_time": "2021-08-04T19:29:54.617Z"
   },
   {
    "duration": 43,
    "start_time": "2021-08-04T19:29:54.649Z"
   },
   {
    "duration": 7,
    "start_time": "2021-08-04T19:29:54.695Z"
   },
   {
    "duration": 14,
    "start_time": "2021-08-04T19:29:54.704Z"
   },
   {
    "duration": 480,
    "start_time": "2021-08-04T19:29:54.720Z"
   },
   {
    "duration": 11,
    "start_time": "2021-08-04T19:29:55.202Z"
   },
   {
    "duration": 70,
    "start_time": "2021-08-04T19:29:55.215Z"
   },
   {
    "duration": 11,
    "start_time": "2021-08-04T19:29:55.287Z"
   },
   {
    "duration": 19,
    "start_time": "2021-08-04T19:29:55.300Z"
   },
   {
    "duration": 47,
    "start_time": "2021-08-04T19:29:55.321Z"
   },
   {
    "duration": 15,
    "start_time": "2021-08-04T19:29:55.370Z"
   },
   {
    "duration": 28,
    "start_time": "2021-08-04T19:29:55.386Z"
   },
   {
    "duration": 32,
    "start_time": "2021-08-04T19:29:55.415Z"
   },
   {
    "duration": 33,
    "start_time": "2021-08-04T19:29:55.451Z"
   },
   {
    "duration": 10648,
    "start_time": "2021-08-04T19:29:55.485Z"
   },
   {
    "duration": 18,
    "start_time": "2021-08-04T19:30:06.135Z"
   },
   {
    "duration": 30443,
    "start_time": "2021-08-04T19:30:06.159Z"
   },
   {
    "duration": 15,
    "start_time": "2021-08-04T19:30:36.605Z"
   },
   {
    "duration": 29,
    "start_time": "2021-08-04T19:30:36.622Z"
   },
   {
    "duration": 15,
    "start_time": "2021-08-04T19:30:36.653Z"
   },
   {
    "duration": 7,
    "start_time": "2021-08-04T19:30:36.670Z"
   },
   {
    "duration": 23,
    "start_time": "2021-08-04T19:30:36.678Z"
   },
   {
    "duration": 14,
    "start_time": "2021-08-04T19:36:54.148Z"
   },
   {
    "duration": 600,
    "start_time": "2021-08-04T19:39:07.031Z"
   },
   {
    "duration": 67,
    "start_time": "2021-08-04T19:39:07.633Z"
   },
   {
    "duration": 25,
    "start_time": "2021-08-04T19:39:07.703Z"
   },
   {
    "duration": 25,
    "start_time": "2021-08-04T19:39:07.730Z"
   },
   {
    "duration": 22,
    "start_time": "2021-08-04T19:39:07.757Z"
   },
   {
    "duration": 28,
    "start_time": "2021-08-04T19:39:07.781Z"
   },
   {
    "duration": 22,
    "start_time": "2021-08-04T19:39:07.811Z"
   },
   {
    "duration": 62,
    "start_time": "2021-08-04T19:39:07.835Z"
   },
   {
    "duration": 9,
    "start_time": "2021-08-04T19:39:07.900Z"
   },
   {
    "duration": 24,
    "start_time": "2021-08-04T19:39:07.911Z"
   },
   {
    "duration": 536,
    "start_time": "2021-08-04T19:39:07.937Z"
   },
   {
    "duration": 11,
    "start_time": "2021-08-04T19:39:08.475Z"
   },
   {
    "duration": 68,
    "start_time": "2021-08-04T19:39:08.488Z"
   },
   {
    "duration": 10,
    "start_time": "2021-08-04T19:39:08.558Z"
   },
   {
    "duration": 13,
    "start_time": "2021-08-04T19:39:08.570Z"
   },
   {
    "duration": 59,
    "start_time": "2021-08-04T19:39:08.585Z"
   },
   {
    "duration": 22,
    "start_time": "2021-08-04T19:39:08.646Z"
   },
   {
    "duration": 10,
    "start_time": "2021-08-04T19:39:08.670Z"
   },
   {
    "duration": 18,
    "start_time": "2021-08-04T19:39:08.682Z"
   },
   {
    "duration": 58,
    "start_time": "2021-08-04T19:39:08.702Z"
   },
   {
    "duration": 9283,
    "start_time": "2021-08-04T19:39:08.761Z"
   },
   {
    "duration": 11,
    "start_time": "2021-08-04T19:39:18.046Z"
   },
   {
    "duration": 28653,
    "start_time": "2021-08-04T19:39:18.059Z"
   },
   {
    "duration": 15,
    "start_time": "2021-08-04T19:39:46.715Z"
   },
   {
    "duration": 13,
    "start_time": "2021-08-04T19:39:46.740Z"
   },
   {
    "duration": 11,
    "start_time": "2021-08-04T19:39:46.755Z"
   },
   {
    "duration": 9,
    "start_time": "2021-08-04T19:39:46.770Z"
   },
   {
    "duration": 14,
    "start_time": "2021-08-04T19:39:46.780Z"
   },
   {
    "duration": 12,
    "start_time": "2021-08-04T19:40:42.558Z"
   },
   {
    "duration": 584,
    "start_time": "2021-08-04T19:42:21.053Z"
   },
   {
    "duration": 52,
    "start_time": "2021-08-04T19:42:21.645Z"
   },
   {
    "duration": 17,
    "start_time": "2021-08-04T19:42:21.698Z"
   },
   {
    "duration": 10,
    "start_time": "2021-08-04T19:42:21.717Z"
   },
   {
    "duration": 20,
    "start_time": "2021-08-04T19:42:21.729Z"
   },
   {
    "duration": 5,
    "start_time": "2021-08-04T19:42:21.751Z"
   },
   {
    "duration": 11,
    "start_time": "2021-08-04T19:42:21.758Z"
   },
   {
    "duration": 38,
    "start_time": "2021-08-04T19:42:21.771Z"
   },
   {
    "duration": 32,
    "start_time": "2021-08-04T19:42:21.811Z"
   },
   {
    "duration": 19,
    "start_time": "2021-08-04T19:42:21.844Z"
   },
   {
    "duration": 358,
    "start_time": "2021-08-04T19:42:21.865Z"
   },
   {
    "duration": 8,
    "start_time": "2021-08-04T19:42:22.225Z"
   },
   {
    "duration": 45,
    "start_time": "2021-08-04T19:42:22.234Z"
   },
   {
    "duration": 8,
    "start_time": "2021-08-04T19:42:22.280Z"
   },
   {
    "duration": 12,
    "start_time": "2021-08-04T19:42:22.290Z"
   },
   {
    "duration": 53,
    "start_time": "2021-08-04T19:42:22.304Z"
   },
   {
    "duration": 16,
    "start_time": "2021-08-04T19:42:22.358Z"
   },
   {
    "duration": 10,
    "start_time": "2021-08-04T19:42:22.376Z"
   },
   {
    "duration": 15,
    "start_time": "2021-08-04T19:42:22.387Z"
   },
   {
    "duration": 58,
    "start_time": "2021-08-04T19:42:22.404Z"
   },
   {
    "duration": 8974,
    "start_time": "2021-08-04T19:42:22.463Z"
   },
   {
    "duration": 22,
    "start_time": "2021-08-04T19:42:31.440Z"
   },
   {
    "duration": 28291,
    "start_time": "2021-08-04T19:42:31.465Z"
   },
   {
    "duration": 14,
    "start_time": "2021-08-04T19:42:59.758Z"
   },
   {
    "duration": 10,
    "start_time": "2021-08-04T19:42:59.774Z"
   },
   {
    "duration": 10,
    "start_time": "2021-08-04T19:42:59.785Z"
   },
   {
    "duration": 5,
    "start_time": "2021-08-04T19:42:59.797Z"
   },
   {
    "duration": 7,
    "start_time": "2021-08-04T19:42:59.803Z"
   },
   {
    "duration": 16,
    "start_time": "2021-08-04T19:42:59.845Z"
   },
   {
    "duration": 7,
    "start_time": "2021-08-04T19:44:43.407Z"
   },
   {
    "duration": 584,
    "start_time": "2021-08-04T19:45:07.548Z"
   },
   {
    "duration": 51,
    "start_time": "2021-08-04T19:45:08.134Z"
   },
   {
    "duration": 20,
    "start_time": "2021-08-04T19:45:08.187Z"
   },
   {
    "duration": 25,
    "start_time": "2021-08-04T19:45:08.209Z"
   },
   {
    "duration": 24,
    "start_time": "2021-08-04T19:45:08.235Z"
   },
   {
    "duration": 15,
    "start_time": "2021-08-04T19:45:08.262Z"
   },
   {
    "duration": 28,
    "start_time": "2021-08-04T19:45:08.279Z"
   },
   {
    "duration": 38,
    "start_time": "2021-08-04T19:45:08.310Z"
   },
   {
    "duration": 8,
    "start_time": "2021-08-04T19:45:08.350Z"
   },
   {
    "duration": 18,
    "start_time": "2021-08-04T19:45:08.360Z"
   },
   {
    "duration": 345,
    "start_time": "2021-08-04T19:45:08.380Z"
   },
   {
    "duration": 15,
    "start_time": "2021-08-04T19:45:08.727Z"
   },
   {
    "duration": 55,
    "start_time": "2021-08-04T19:45:08.743Z"
   },
   {
    "duration": 9,
    "start_time": "2021-08-04T19:45:08.799Z"
   },
   {
    "duration": 25,
    "start_time": "2021-08-04T19:45:08.810Z"
   },
   {
    "duration": 34,
    "start_time": "2021-08-04T19:45:08.837Z"
   },
   {
    "duration": 15,
    "start_time": "2021-08-04T19:45:08.873Z"
   },
   {
    "duration": 23,
    "start_time": "2021-08-04T19:45:08.889Z"
   },
   {
    "duration": 31,
    "start_time": "2021-08-04T19:45:08.913Z"
   },
   {
    "duration": 38,
    "start_time": "2021-08-04T19:45:08.947Z"
   },
   {
    "duration": 9231,
    "start_time": "2021-08-04T19:45:08.987Z"
   },
   {
    "duration": 21,
    "start_time": "2021-08-04T19:45:18.220Z"
   },
   {
    "duration": 28140,
    "start_time": "2021-08-04T19:45:18.251Z"
   },
   {
    "duration": 15,
    "start_time": "2021-08-04T19:45:46.393Z"
   },
   {
    "duration": 10,
    "start_time": "2021-08-04T19:45:46.409Z"
   },
   {
    "duration": 22,
    "start_time": "2021-08-04T19:45:46.421Z"
   },
   {
    "duration": 6,
    "start_time": "2021-08-04T19:45:46.448Z"
   },
   {
    "duration": 7,
    "start_time": "2021-08-04T19:45:46.456Z"
   },
   {
    "duration": 6,
    "start_time": "2021-08-04T19:45:46.465Z"
   },
   {
    "duration": 8,
    "start_time": "2021-08-04T19:46:14.033Z"
   },
   {
    "duration": 5,
    "start_time": "2021-08-04T20:11:07.525Z"
   },
   {
    "duration": 5,
    "start_time": "2021-08-04T20:11:13.926Z"
   },
   {
    "duration": 5,
    "start_time": "2021-08-04T20:11:24.028Z"
   },
   {
    "duration": 4,
    "start_time": "2021-08-04T20:11:28.579Z"
   },
   {
    "duration": 4,
    "start_time": "2021-08-04T20:11:33.678Z"
   },
   {
    "duration": 26,
    "start_time": "2021-08-04T20:14:07.148Z"
   },
   {
    "duration": 18,
    "start_time": "2021-08-04T20:19:47.796Z"
   },
   {
    "duration": 13,
    "start_time": "2021-08-04T20:22:19.189Z"
   },
   {
    "duration": 18,
    "start_time": "2021-08-04T20:22:30.026Z"
   },
   {
    "duration": 15,
    "start_time": "2021-08-04T20:22:46.405Z"
   },
   {
    "duration": 17,
    "start_time": "2021-08-04T20:23:14.903Z"
   },
   {
    "duration": 16,
    "start_time": "2021-08-04T20:25:44.472Z"
   },
   {
    "duration": 596,
    "start_time": "2021-08-04T20:26:06.012Z"
   },
   {
    "duration": 53,
    "start_time": "2021-08-04T20:26:06.609Z"
   },
   {
    "duration": 17,
    "start_time": "2021-08-04T20:26:06.664Z"
   },
   {
    "duration": 19,
    "start_time": "2021-08-04T20:26:06.683Z"
   },
   {
    "duration": 18,
    "start_time": "2021-08-04T20:26:06.703Z"
   },
   {
    "duration": 13,
    "start_time": "2021-08-04T20:26:06.723Z"
   },
   {
    "duration": 20,
    "start_time": "2021-08-04T20:26:06.737Z"
   },
   {
    "duration": 41,
    "start_time": "2021-08-04T20:26:06.760Z"
   },
   {
    "duration": 7,
    "start_time": "2021-08-04T20:26:06.803Z"
   },
   {
    "duration": 9,
    "start_time": "2021-08-04T20:26:06.812Z"
   },
   {
    "duration": 377,
    "start_time": "2021-08-04T20:26:06.823Z"
   },
   {
    "duration": 8,
    "start_time": "2021-08-04T20:26:07.201Z"
   },
   {
    "duration": 56,
    "start_time": "2021-08-04T20:26:07.211Z"
   },
   {
    "duration": 9,
    "start_time": "2021-08-04T20:26:07.269Z"
   },
   {
    "duration": 15,
    "start_time": "2021-08-04T20:26:07.279Z"
   },
   {
    "duration": 27,
    "start_time": "2021-08-04T20:26:07.295Z"
   },
   {
    "duration": 21,
    "start_time": "2021-08-04T20:26:07.341Z"
   },
   {
    "duration": 8,
    "start_time": "2021-08-04T20:26:07.364Z"
   },
   {
    "duration": 15,
    "start_time": "2021-08-04T20:26:07.374Z"
   },
   {
    "duration": 55,
    "start_time": "2021-08-04T20:26:07.391Z"
   },
   {
    "duration": 9050,
    "start_time": "2021-08-04T20:26:07.448Z"
   },
   {
    "duration": 10,
    "start_time": "2021-08-04T20:26:16.500Z"
   },
   {
    "duration": 27609,
    "start_time": "2021-08-04T20:26:16.512Z"
   },
   {
    "duration": 23,
    "start_time": "2021-08-04T20:26:44.123Z"
   },
   {
    "duration": 12,
    "start_time": "2021-08-04T20:26:44.148Z"
   },
   {
    "duration": 11,
    "start_time": "2021-08-04T20:26:44.162Z"
   },
   {
    "duration": 5,
    "start_time": "2021-08-04T20:26:44.174Z"
   },
   {
    "duration": 8,
    "start_time": "2021-08-04T20:26:44.180Z"
   },
   {
    "duration": 6,
    "start_time": "2021-08-04T20:26:44.189Z"
   },
   {
    "duration": 46,
    "start_time": "2021-08-04T20:26:44.197Z"
   },
   {
    "duration": 18,
    "start_time": "2021-08-04T20:53:26.559Z"
   },
   {
    "duration": 10,
    "start_time": "2021-08-04T20:56:51.419Z"
   },
   {
    "duration": 17,
    "start_time": "2021-08-04T20:57:04.741Z"
   },
   {
    "duration": 313,
    "start_time": "2021-08-04T20:58:39.280Z"
   },
   {
    "duration": 19,
    "start_time": "2021-08-04T20:59:19.229Z"
   },
   {
    "duration": 14,
    "start_time": "2021-08-04T20:59:59.008Z"
   },
   {
    "duration": 18,
    "start_time": "2021-08-04T21:00:05.639Z"
   },
   {
    "duration": 614,
    "start_time": "2021-08-04T21:05:41.275Z"
   },
   {
    "duration": 90,
    "start_time": "2021-08-04T21:05:59.250Z"
   },
   {
    "duration": 16,
    "start_time": "2021-08-04T21:06:26.706Z"
   },
   {
    "duration": 433,
    "start_time": "2021-08-04T21:09:14.158Z"
   },
   {
    "duration": 268,
    "start_time": "2021-08-04T21:10:33.188Z"
   },
   {
    "duration": 257,
    "start_time": "2021-08-04T21:10:56.969Z"
   },
   {
    "duration": 348,
    "start_time": "2021-08-04T21:11:24.357Z"
   },
   {
    "duration": 12,
    "start_time": "2021-08-04T21:11:56.297Z"
   },
   {
    "duration": 291,
    "start_time": "2021-08-04T21:12:08.899Z"
   },
   {
    "duration": -130,
    "start_time": "2021-08-04T21:12:25.866Z"
   },
   {
    "duration": 259,
    "start_time": "2021-08-04T21:12:32.837Z"
   },
   {
    "duration": 100,
    "start_time": "2021-08-04T21:13:07.349Z"
   },
   {
    "duration": 13,
    "start_time": "2021-08-04T21:13:18.767Z"
   },
   {
    "duration": 1342,
    "start_time": "2021-08-04T21:15:10.160Z"
   },
   {
    "duration": 11,
    "start_time": "2021-08-04T21:16:10.351Z"
   },
   {
    "duration": 593,
    "start_time": "2021-08-04T21:20:21.429Z"
   },
   {
    "duration": 56,
    "start_time": "2021-08-04T21:20:22.024Z"
   },
   {
    "duration": 17,
    "start_time": "2021-08-04T21:20:22.082Z"
   },
   {
    "duration": 12,
    "start_time": "2021-08-04T21:20:22.101Z"
   },
   {
    "duration": 28,
    "start_time": "2021-08-04T21:20:22.114Z"
   },
   {
    "duration": 7,
    "start_time": "2021-08-04T21:20:22.143Z"
   },
   {
    "duration": 12,
    "start_time": "2021-08-04T21:20:22.152Z"
   },
   {
    "duration": 38,
    "start_time": "2021-08-04T21:20:22.166Z"
   },
   {
    "duration": 35,
    "start_time": "2021-08-04T21:20:22.206Z"
   },
   {
    "duration": 8,
    "start_time": "2021-08-04T21:20:22.244Z"
   },
   {
    "duration": 358,
    "start_time": "2021-08-04T21:20:22.255Z"
   },
   {
    "duration": 9,
    "start_time": "2021-08-04T21:20:22.615Z"
   },
   {
    "duration": 54,
    "start_time": "2021-08-04T21:20:22.626Z"
   },
   {
    "duration": 10,
    "start_time": "2021-08-04T21:20:22.682Z"
   },
   {
    "duration": 13,
    "start_time": "2021-08-04T21:20:22.694Z"
   },
   {
    "duration": 49,
    "start_time": "2021-08-04T21:20:22.709Z"
   },
   {
    "duration": 15,
    "start_time": "2021-08-04T21:20:22.762Z"
   },
   {
    "duration": 13,
    "start_time": "2021-08-04T21:20:22.779Z"
   },
   {
    "duration": 18,
    "start_time": "2021-08-04T21:20:22.793Z"
   },
   {
    "duration": 52,
    "start_time": "2021-08-04T21:20:22.812Z"
   },
   {
    "duration": 8730,
    "start_time": "2021-08-04T21:20:22.865Z"
   },
   {
    "duration": 10,
    "start_time": "2021-08-04T21:20:31.596Z"
   },
   {
    "duration": 27726,
    "start_time": "2021-08-04T21:20:31.609Z"
   },
   {
    "duration": 17,
    "start_time": "2021-08-04T21:20:59.337Z"
   },
   {
    "duration": 10,
    "start_time": "2021-08-04T21:20:59.356Z"
   },
   {
    "duration": 10,
    "start_time": "2021-08-04T21:20:59.367Z"
   },
   {
    "duration": 5,
    "start_time": "2021-08-04T21:20:59.378Z"
   },
   {
    "duration": 6,
    "start_time": "2021-08-04T21:20:59.385Z"
   },
   {
    "duration": 7,
    "start_time": "2021-08-04T21:20:59.392Z"
   },
   {
    "duration": 65,
    "start_time": "2021-08-04T21:20:59.401Z"
   },
   {
    "duration": 21,
    "start_time": "2021-08-04T21:20:59.467Z"
   },
   {
    "duration": 569,
    "start_time": "2021-08-04T21:28:44.693Z"
   },
   {
    "duration": 48,
    "start_time": "2021-08-04T21:28:45.263Z"
   },
   {
    "duration": 16,
    "start_time": "2021-08-04T21:28:45.313Z"
   },
   {
    "duration": 13,
    "start_time": "2021-08-04T21:28:45.331Z"
   },
   {
    "duration": 10,
    "start_time": "2021-08-04T21:28:45.346Z"
   },
   {
    "duration": 5,
    "start_time": "2021-08-04T21:28:45.358Z"
   },
   {
    "duration": 16,
    "start_time": "2021-08-04T21:28:45.365Z"
   },
   {
    "duration": 69,
    "start_time": "2021-08-04T21:28:45.382Z"
   },
   {
    "duration": 7,
    "start_time": "2021-08-04T21:28:45.455Z"
   },
   {
    "duration": 7,
    "start_time": "2021-08-04T21:28:45.464Z"
   },
   {
    "duration": 348,
    "start_time": "2021-08-04T21:28:45.472Z"
   },
   {
    "duration": 8,
    "start_time": "2021-08-04T21:28:45.822Z"
   },
   {
    "duration": 44,
    "start_time": "2021-08-04T21:28:45.832Z"
   },
   {
    "duration": 9,
    "start_time": "2021-08-04T21:28:45.877Z"
   },
   {
    "duration": 14,
    "start_time": "2021-08-04T21:28:45.887Z"
   },
   {
    "duration": 47,
    "start_time": "2021-08-04T21:28:45.903Z"
   },
   {
    "duration": 15,
    "start_time": "2021-08-04T21:28:45.952Z"
   },
   {
    "duration": 10,
    "start_time": "2021-08-04T21:28:45.968Z"
   },
   {
    "duration": 17,
    "start_time": "2021-08-04T21:28:45.980Z"
   },
   {
    "duration": 53,
    "start_time": "2021-08-04T21:28:45.998Z"
   },
   {
    "duration": 8490,
    "start_time": "2021-08-04T21:28:46.052Z"
   },
   {
    "duration": 10,
    "start_time": "2021-08-04T21:28:54.543Z"
   },
   {
    "duration": 26818,
    "start_time": "2021-08-04T21:28:54.555Z"
   },
   {
    "duration": 13,
    "start_time": "2021-08-04T21:29:21.375Z"
   },
   {
    "duration": 9,
    "start_time": "2021-08-04T21:29:21.390Z"
   },
   {
    "duration": 15,
    "start_time": "2021-08-04T21:29:21.400Z"
   },
   {
    "duration": 25,
    "start_time": "2021-08-04T21:29:21.418Z"
   },
   {
    "duration": 12,
    "start_time": "2021-08-04T21:29:21.445Z"
   },
   {
    "duration": 13,
    "start_time": "2021-08-04T21:29:21.459Z"
   },
   {
    "duration": 17,
    "start_time": "2021-08-04T21:29:21.474Z"
   },
   {
    "duration": 84,
    "start_time": "2021-08-04T21:29:21.493Z"
   },
   {
    "duration": 576,
    "start_time": "2021-08-04T21:29:37.730Z"
   },
   {
    "duration": 50,
    "start_time": "2021-08-04T21:29:38.307Z"
   },
   {
    "duration": 17,
    "start_time": "2021-08-04T21:29:38.359Z"
   },
   {
    "duration": 15,
    "start_time": "2021-08-04T21:29:38.377Z"
   },
   {
    "duration": 14,
    "start_time": "2021-08-04T21:29:38.394Z"
   },
   {
    "duration": 4,
    "start_time": "2021-08-04T21:29:38.410Z"
   },
   {
    "duration": 29,
    "start_time": "2021-08-04T21:29:38.416Z"
   },
   {
    "duration": 37,
    "start_time": "2021-08-04T21:29:38.447Z"
   },
   {
    "duration": 8,
    "start_time": "2021-08-04T21:29:38.486Z"
   },
   {
    "duration": 7,
    "start_time": "2021-08-04T21:29:38.496Z"
   },
   {
    "duration": 362,
    "start_time": "2021-08-04T21:29:38.504Z"
   },
   {
    "duration": 7,
    "start_time": "2021-08-04T21:29:38.868Z"
   },
   {
    "duration": 38,
    "start_time": "2021-08-04T21:29:38.877Z"
   },
   {
    "duration": 24,
    "start_time": "2021-08-04T21:29:38.917Z"
   },
   {
    "duration": 12,
    "start_time": "2021-08-04T21:29:38.943Z"
   },
   {
    "duration": 21,
    "start_time": "2021-08-04T21:29:38.956Z"
   },
   {
    "duration": 15,
    "start_time": "2021-08-04T21:29:38.978Z"
   },
   {
    "duration": 8,
    "start_time": "2021-08-04T21:29:38.994Z"
   },
   {
    "duration": 47,
    "start_time": "2021-08-04T21:29:39.004Z"
   },
   {
    "duration": 26,
    "start_time": "2021-08-04T21:29:39.053Z"
   },
   {
    "duration": 8506,
    "start_time": "2021-08-04T21:29:39.081Z"
   },
   {
    "duration": 10,
    "start_time": "2021-08-04T21:29:47.589Z"
   },
   {
    "duration": 26749,
    "start_time": "2021-08-04T21:29:47.602Z"
   },
   {
    "duration": 16,
    "start_time": "2021-08-04T21:30:14.353Z"
   },
   {
    "duration": 11,
    "start_time": "2021-08-04T21:30:14.370Z"
   },
   {
    "duration": 11,
    "start_time": "2021-08-04T21:30:14.382Z"
   },
   {
    "duration": 5,
    "start_time": "2021-08-04T21:30:14.395Z"
   },
   {
    "duration": 41,
    "start_time": "2021-08-04T21:30:14.402Z"
   },
   {
    "duration": 8,
    "start_time": "2021-08-04T21:30:14.445Z"
   },
   {
    "duration": 21,
    "start_time": "2021-08-04T21:30:14.455Z"
   },
   {
    "duration": 28,
    "start_time": "2021-08-04T21:30:14.477Z"
   },
   {
    "duration": 556,
    "start_time": "2021-08-04T21:36:02.950Z"
   },
   {
    "duration": 50,
    "start_time": "2021-08-04T21:36:03.508Z"
   },
   {
    "duration": 19,
    "start_time": "2021-08-04T21:36:03.560Z"
   },
   {
    "duration": 11,
    "start_time": "2021-08-04T21:36:03.580Z"
   },
   {
    "duration": 9,
    "start_time": "2021-08-04T21:36:03.592Z"
   },
   {
    "duration": 5,
    "start_time": "2021-08-04T21:36:03.603Z"
   },
   {
    "duration": 36,
    "start_time": "2021-08-04T21:36:03.610Z"
   },
   {
    "duration": 35,
    "start_time": "2021-08-04T21:36:03.648Z"
   },
   {
    "duration": 7,
    "start_time": "2021-08-04T21:36:03.684Z"
   },
   {
    "duration": 6,
    "start_time": "2021-08-04T21:36:03.693Z"
   },
   {
    "duration": 352,
    "start_time": "2021-08-04T21:36:03.701Z"
   },
   {
    "duration": 9,
    "start_time": "2021-08-04T21:36:04.055Z"
   },
   {
    "duration": 36,
    "start_time": "2021-08-04T21:36:04.066Z"
   },
   {
    "duration": 10,
    "start_time": "2021-08-04T21:36:04.104Z"
   },
   {
    "duration": 14,
    "start_time": "2021-08-04T21:36:04.140Z"
   },
   {
    "duration": 21,
    "start_time": "2021-08-04T21:36:04.156Z"
   },
   {
    "duration": 15,
    "start_time": "2021-08-04T21:36:04.178Z"
   },
   {
    "duration": 7,
    "start_time": "2021-08-04T21:36:04.196Z"
   },
   {
    "duration": 45,
    "start_time": "2021-08-04T21:36:04.205Z"
   },
   {
    "duration": 26,
    "start_time": "2021-08-04T21:36:04.252Z"
   },
   {
    "duration": 8508,
    "start_time": "2021-08-04T21:36:04.279Z"
   },
   {
    "duration": 12,
    "start_time": "2021-08-04T21:36:12.789Z"
   },
   {
    "duration": 26956,
    "start_time": "2021-08-04T21:36:12.803Z"
   },
   {
    "duration": 15,
    "start_time": "2021-08-04T21:36:39.761Z"
   },
   {
    "duration": 9,
    "start_time": "2021-08-04T21:36:39.778Z"
   },
   {
    "duration": 10,
    "start_time": "2021-08-04T21:36:39.789Z"
   },
   {
    "duration": 5,
    "start_time": "2021-08-04T21:36:39.800Z"
   },
   {
    "duration": 36,
    "start_time": "2021-08-04T21:36:39.806Z"
   },
   {
    "duration": 8,
    "start_time": "2021-08-04T21:36:39.843Z"
   },
   {
    "duration": 18,
    "start_time": "2021-08-04T21:36:39.853Z"
   },
   {
    "duration": 21,
    "start_time": "2021-08-04T21:36:39.872Z"
   },
   {
    "duration": 596,
    "start_time": "2021-08-05T17:43:19.115Z"
   },
   {
    "duration": 968,
    "start_time": "2021-08-05T17:43:26.385Z"
   },
   {
    "duration": 76,
    "start_time": "2021-08-05T17:43:27.356Z"
   },
   {
    "duration": 40,
    "start_time": "2021-08-05T17:43:27.435Z"
   },
   {
    "duration": 21,
    "start_time": "2021-08-05T17:43:27.478Z"
   },
   {
    "duration": 22,
    "start_time": "2021-08-05T17:43:27.502Z"
   },
   {
    "duration": 10,
    "start_time": "2021-08-05T17:43:27.527Z"
   },
   {
    "duration": 48,
    "start_time": "2021-08-05T17:43:27.540Z"
   },
   {
    "duration": 102,
    "start_time": "2021-08-05T17:43:27.592Z"
   },
   {
    "duration": 11,
    "start_time": "2021-08-05T17:43:27.698Z"
   },
   {
    "duration": 14,
    "start_time": "2021-08-05T17:43:27.711Z"
   },
   {
    "duration": 785,
    "start_time": "2021-08-05T17:43:27.728Z"
   },
   {
    "duration": 13,
    "start_time": "2021-08-05T17:43:28.515Z"
   },
   {
    "duration": 81,
    "start_time": "2021-08-05T17:43:28.531Z"
   },
   {
    "duration": 12,
    "start_time": "2021-08-05T17:43:28.614Z"
   },
   {
    "duration": 37,
    "start_time": "2021-08-05T17:43:28.628Z"
   },
   {
    "duration": 46,
    "start_time": "2021-08-05T17:43:28.667Z"
   },
   {
    "duration": 56,
    "start_time": "2021-08-05T17:43:28.715Z"
   },
   {
    "duration": 15,
    "start_time": "2021-08-05T17:43:28.773Z"
   },
   {
    "duration": 36,
    "start_time": "2021-08-05T17:43:28.791Z"
   },
   {
    "duration": 70,
    "start_time": "2021-08-05T17:43:28.830Z"
   },
   {
    "duration": 14232,
    "start_time": "2021-08-05T17:43:28.903Z"
   },
   {
    "duration": 31,
    "start_time": "2021-08-05T17:43:43.138Z"
   },
   {
    "duration": 45984,
    "start_time": "2021-08-05T17:43:43.174Z"
   },
   {
    "duration": 28,
    "start_time": "2021-08-05T17:44:29.167Z"
   },
   {
    "duration": 17,
    "start_time": "2021-08-05T17:44:29.198Z"
   },
   {
    "duration": 52,
    "start_time": "2021-08-05T17:44:29.218Z"
   },
   {
    "duration": 9,
    "start_time": "2021-08-05T17:44:29.272Z"
   },
   {
    "duration": 10,
    "start_time": "2021-08-05T17:44:29.284Z"
   },
   {
    "duration": 15,
    "start_time": "2021-08-05T17:44:29.296Z"
   },
   {
    "duration": 74,
    "start_time": "2021-08-05T17:44:29.314Z"
   },
   {
    "duration": 747,
    "start_time": "2021-08-05T17:44:29.391Z"
   },
   {
    "duration": 23,
    "start_time": "2021-08-05T17:44:48.711Z"
   },
   {
    "duration": 978,
    "start_time": "2021-08-05T17:45:43.246Z"
   },
   {
    "duration": 77,
    "start_time": "2021-08-05T17:45:44.227Z"
   },
   {
    "duration": 29,
    "start_time": "2021-08-05T17:45:44.308Z"
   },
   {
    "duration": 35,
    "start_time": "2021-08-05T17:45:44.341Z"
   },
   {
    "duration": 17,
    "start_time": "2021-08-05T17:45:44.378Z"
   },
   {
    "duration": 8,
    "start_time": "2021-08-05T17:45:44.399Z"
   },
   {
    "duration": 52,
    "start_time": "2021-08-05T17:45:44.410Z"
   },
   {
    "duration": 100,
    "start_time": "2021-08-05T17:45:44.465Z"
   },
   {
    "duration": 15,
    "start_time": "2021-08-05T17:45:44.570Z"
   },
   {
    "duration": 14,
    "start_time": "2021-08-05T17:45:44.589Z"
   },
   {
    "duration": 692,
    "start_time": "2021-08-05T17:45:44.606Z"
   },
   {
    "duration": 12,
    "start_time": "2021-08-05T17:45:45.300Z"
   },
   {
    "duration": 91,
    "start_time": "2021-08-05T17:45:45.314Z"
   },
   {
    "duration": 11,
    "start_time": "2021-08-05T17:45:45.408Z"
   },
   {
    "duration": 40,
    "start_time": "2021-08-05T17:45:45.422Z"
   },
   {
    "duration": 40,
    "start_time": "2021-08-05T17:45:45.464Z"
   },
   {
    "duration": 25,
    "start_time": "2021-08-05T17:45:45.506Z"
   },
   {
    "duration": 47,
    "start_time": "2021-08-05T17:45:45.533Z"
   },
   {
    "duration": 30,
    "start_time": "2021-08-05T17:45:45.584Z"
   },
   {
    "duration": 82,
    "start_time": "2021-08-05T17:45:45.616Z"
   },
   {
    "duration": 14010,
    "start_time": "2021-08-05T17:45:45.701Z"
   },
   {
    "duration": 15,
    "start_time": "2021-08-05T17:45:59.714Z"
   },
   {
    "duration": 45824,
    "start_time": "2021-08-05T17:45:59.734Z"
   },
   {
    "duration": 27,
    "start_time": "2021-08-05T17:46:45.563Z"
   },
   {
    "duration": 25,
    "start_time": "2021-08-05T17:46:45.593Z"
   },
   {
    "duration": 57,
    "start_time": "2021-08-05T17:46:45.622Z"
   },
   {
    "duration": 8,
    "start_time": "2021-08-05T17:46:45.681Z"
   },
   {
    "duration": 16,
    "start_time": "2021-08-05T17:46:45.691Z"
   },
   {
    "duration": 10,
    "start_time": "2021-08-05T17:46:45.710Z"
   },
   {
    "duration": 66,
    "start_time": "2021-08-05T17:46:45.723Z"
   },
   {
    "duration": 27,
    "start_time": "2021-08-05T17:46:45.791Z"
   },
   {
    "duration": 19,
    "start_time": "2021-08-05T17:50:07.472Z"
   },
   {
    "duration": 24,
    "start_time": "2021-08-05T17:50:15.993Z"
   },
   {
    "duration": 842,
    "start_time": "2021-08-05T18:02:47.406Z"
   },
   {
    "duration": 73,
    "start_time": "2021-08-05T18:02:48.251Z"
   },
   {
    "duration": 37,
    "start_time": "2021-08-05T18:02:48.328Z"
   },
   {
    "duration": 17,
    "start_time": "2021-08-05T18:02:48.368Z"
   },
   {
    "duration": 15,
    "start_time": "2021-08-05T18:02:48.388Z"
   },
   {
    "duration": 15,
    "start_time": "2021-08-05T18:02:48.407Z"
   },
   {
    "duration": 58,
    "start_time": "2021-08-05T18:02:48.424Z"
   },
   {
    "duration": 59,
    "start_time": "2021-08-05T18:02:48.485Z"
   },
   {
    "duration": 28,
    "start_time": "2021-08-05T18:02:48.547Z"
   },
   {
    "duration": 10,
    "start_time": "2021-08-05T18:02:48.577Z"
   },
   {
    "duration": 1053,
    "start_time": "2021-08-05T18:02:48.590Z"
   },
   {
    "duration": 23,
    "start_time": "2021-08-05T18:02:49.646Z"
   },
   {
    "duration": 59,
    "start_time": "2021-08-05T18:02:49.675Z"
   },
   {
    "duration": 33,
    "start_time": "2021-08-05T18:02:49.736Z"
   },
   {
    "duration": 21,
    "start_time": "2021-08-05T18:02:49.772Z"
   },
   {
    "duration": 35,
    "start_time": "2021-08-05T18:02:49.796Z"
   },
   {
    "duration": 37,
    "start_time": "2021-08-05T18:02:49.862Z"
   },
   {
    "duration": 12,
    "start_time": "2021-08-05T18:02:49.901Z"
   },
   {
    "duration": 54,
    "start_time": "2021-08-05T18:02:49.915Z"
   },
   {
    "duration": 51,
    "start_time": "2021-08-05T18:02:49.974Z"
   },
   {
    "duration": 14183,
    "start_time": "2021-08-05T18:02:50.028Z"
   },
   {
    "duration": 16,
    "start_time": "2021-08-05T18:03:04.213Z"
   },
   {
    "duration": 44864,
    "start_time": "2021-08-05T18:03:04.233Z"
   },
   {
    "duration": 21,
    "start_time": "2021-08-05T18:03:49.100Z"
   },
   {
    "duration": 28,
    "start_time": "2021-08-05T18:03:49.124Z"
   },
   {
    "duration": 20,
    "start_time": "2021-08-05T18:03:49.164Z"
   },
   {
    "duration": 9,
    "start_time": "2021-08-05T18:03:49.187Z"
   },
   {
    "duration": 11,
    "start_time": "2021-08-05T18:03:49.199Z"
   },
   {
    "duration": 58,
    "start_time": "2021-08-05T18:03:49.213Z"
   },
   {
    "duration": 28,
    "start_time": "2021-08-05T18:03:49.274Z"
   },
   {
    "duration": 29,
    "start_time": "2021-08-05T18:03:49.304Z"
   },
   {
    "duration": 52,
    "start_time": "2021-08-05T18:03:49.335Z"
   },
   {
    "duration": 10,
    "start_time": "2021-08-05T18:06:48.790Z"
   },
   {
    "duration": 11,
    "start_time": "2021-08-05T18:08:32.122Z"
   },
   {
    "duration": 6,
    "start_time": "2021-08-05T18:09:16.253Z"
   },
   {
    "duration": 789,
    "start_time": "2021-08-05T18:22:52.303Z"
   },
   {
    "duration": 90,
    "start_time": "2021-08-05T18:22:53.096Z"
   },
   {
    "duration": 34,
    "start_time": "2021-08-05T18:22:53.189Z"
   },
   {
    "duration": 20,
    "start_time": "2021-08-05T18:22:53.226Z"
   },
   {
    "duration": 20,
    "start_time": "2021-08-05T18:22:53.249Z"
   },
   {
    "duration": 9,
    "start_time": "2021-08-05T18:22:53.274Z"
   },
   {
    "duration": 27,
    "start_time": "2021-08-05T18:22:53.288Z"
   },
   {
    "duration": 72,
    "start_time": "2021-08-05T18:22:53.319Z"
   },
   {
    "duration": 12,
    "start_time": "2021-08-05T18:22:53.394Z"
   },
   {
    "duration": 11,
    "start_time": "2021-08-05T18:22:53.409Z"
   },
   {
    "duration": 683,
    "start_time": "2021-08-05T18:22:53.423Z"
   },
   {
    "duration": 13,
    "start_time": "2021-08-05T18:22:54.109Z"
   },
   {
    "duration": 76,
    "start_time": "2021-08-05T18:22:54.125Z"
   },
   {
    "duration": 13,
    "start_time": "2021-08-05T18:22:54.203Z"
   },
   {
    "duration": 20,
    "start_time": "2021-08-05T18:22:54.219Z"
   },
   {
    "duration": 57,
    "start_time": "2021-08-05T18:22:54.242Z"
   },
   {
    "duration": 70,
    "start_time": "2021-08-05T18:22:54.302Z"
   },
   {
    "duration": 28,
    "start_time": "2021-08-05T18:22:54.381Z"
   },
   {
    "duration": 83,
    "start_time": "2021-08-05T18:22:54.412Z"
   },
   {
    "duration": 50,
    "start_time": "2021-08-05T18:22:54.497Z"
   },
   {
    "duration": 14183,
    "start_time": "2021-08-05T18:22:54.549Z"
   },
   {
    "duration": 36,
    "start_time": "2021-08-05T18:23:08.734Z"
   },
   {
    "duration": 45901,
    "start_time": "2021-08-05T18:23:08.776Z"
   },
   {
    "duration": 27,
    "start_time": "2021-08-05T18:23:54.682Z"
   },
   {
    "duration": 21,
    "start_time": "2021-08-05T18:23:54.711Z"
   },
   {
    "duration": 30,
    "start_time": "2021-08-05T18:23:54.734Z"
   },
   {
    "duration": 16,
    "start_time": "2021-08-05T18:23:54.769Z"
   },
   {
    "duration": 10,
    "start_time": "2021-08-05T18:23:54.790Z"
   },
   {
    "duration": 15,
    "start_time": "2021-08-05T18:23:54.803Z"
   },
   {
    "duration": 64,
    "start_time": "2021-08-05T18:23:54.820Z"
   },
   {
    "duration": 560,
    "start_time": "2021-08-05T18:23:54.890Z"
   },
   {
    "duration": -452,
    "start_time": "2021-08-05T18:23:55.906Z"
   },
   {
    "duration": -452,
    "start_time": "2021-08-05T18:23:55.908Z"
   },
   {
    "duration": 29,
    "start_time": "2021-08-05T18:24:36.272Z"
   },
   {
    "duration": 771,
    "start_time": "2021-08-05T18:28:49.883Z"
   },
   {
    "duration": 71,
    "start_time": "2021-08-05T18:28:50.661Z"
   },
   {
    "duration": 32,
    "start_time": "2021-08-05T18:28:50.735Z"
   },
   {
    "duration": 29,
    "start_time": "2021-08-05T18:28:50.770Z"
   },
   {
    "duration": 33,
    "start_time": "2021-08-05T18:28:50.801Z"
   },
   {
    "duration": 15,
    "start_time": "2021-08-05T18:28:50.836Z"
   },
   {
    "duration": 39,
    "start_time": "2021-08-05T18:28:50.853Z"
   },
   {
    "duration": 56,
    "start_time": "2021-08-05T18:28:50.899Z"
   },
   {
    "duration": 15,
    "start_time": "2021-08-05T18:28:50.958Z"
   },
   {
    "duration": 20,
    "start_time": "2021-08-05T18:28:50.975Z"
   },
   {
    "duration": 675,
    "start_time": "2021-08-05T18:28:50.998Z"
   },
   {
    "duration": 15,
    "start_time": "2021-08-05T18:28:51.675Z"
   },
   {
    "duration": 96,
    "start_time": "2021-08-05T18:28:51.692Z"
   },
   {
    "duration": 14,
    "start_time": "2021-08-05T18:28:51.791Z"
   },
   {
    "duration": 29,
    "start_time": "2021-08-05T18:28:51.808Z"
   },
   {
    "duration": 49,
    "start_time": "2021-08-05T18:28:51.840Z"
   },
   {
    "duration": 24,
    "start_time": "2021-08-05T18:28:51.892Z"
   },
   {
    "duration": 23,
    "start_time": "2021-08-05T18:28:51.918Z"
   },
   {
    "duration": 63,
    "start_time": "2021-08-05T18:28:51.944Z"
   },
   {
    "duration": 46,
    "start_time": "2021-08-05T18:28:52.010Z"
   },
   {
    "duration": 14421,
    "start_time": "2021-08-05T18:28:52.058Z"
   },
   {
    "duration": 21,
    "start_time": "2021-08-05T18:29:06.482Z"
   },
   {
    "duration": 44488,
    "start_time": "2021-08-05T18:29:06.508Z"
   },
   {
    "duration": 22,
    "start_time": "2021-08-05T18:29:50.999Z"
   },
   {
    "duration": 15,
    "start_time": "2021-08-05T18:29:51.023Z"
   },
   {
    "duration": 25,
    "start_time": "2021-08-05T18:29:51.062Z"
   },
   {
    "duration": 9,
    "start_time": "2021-08-05T18:29:51.089Z"
   },
   {
    "duration": 11,
    "start_time": "2021-08-05T18:29:51.101Z"
   },
   {
    "duration": 51,
    "start_time": "2021-08-05T18:29:51.115Z"
   },
   {
    "duration": 39,
    "start_time": "2021-08-05T18:29:51.168Z"
   },
   {
    "duration": 16,
    "start_time": "2021-08-05T18:29:51.210Z"
   },
   {
    "duration": 66,
    "start_time": "2021-08-05T18:29:51.229Z"
   },
   {
    "duration": 33,
    "start_time": "2021-08-05T18:29:51.298Z"
   },
   {
    "duration": 49,
    "start_time": "2021-08-05T18:29:51.334Z"
   },
   {
    "duration": 25,
    "start_time": "2021-08-05T18:30:48.780Z"
   },
   {
    "duration": 26,
    "start_time": "2021-08-05T18:41:43.246Z"
   },
   {
    "duration": 23,
    "start_time": "2021-08-05T18:42:09.580Z"
   },
   {
    "duration": 842,
    "start_time": "2021-08-05T19:00:19.844Z"
   },
   {
    "duration": 68,
    "start_time": "2021-08-05T19:00:20.690Z"
   },
   {
    "duration": 35,
    "start_time": "2021-08-05T19:00:20.762Z"
   },
   {
    "duration": 27,
    "start_time": "2021-08-05T19:00:20.799Z"
   },
   {
    "duration": 12,
    "start_time": "2021-08-05T19:00:20.830Z"
   },
   {
    "duration": 9,
    "start_time": "2021-08-05T19:00:20.863Z"
   },
   {
    "duration": 44,
    "start_time": "2021-08-05T19:00:20.874Z"
   },
   {
    "duration": 66,
    "start_time": "2021-08-05T19:00:20.922Z"
   },
   {
    "duration": 11,
    "start_time": "2021-08-05T19:00:20.991Z"
   },
   {
    "duration": 17,
    "start_time": "2021-08-05T19:00:21.004Z"
   },
   {
    "duration": 650,
    "start_time": "2021-08-05T19:00:21.023Z"
   },
   {
    "duration": 14,
    "start_time": "2021-08-05T19:00:21.675Z"
   },
   {
    "duration": 86,
    "start_time": "2021-08-05T19:00:21.691Z"
   },
   {
    "duration": 12,
    "start_time": "2021-08-05T19:00:21.779Z"
   },
   {
    "duration": 24,
    "start_time": "2021-08-05T19:00:21.794Z"
   },
   {
    "duration": 62,
    "start_time": "2021-08-05T19:00:21.821Z"
   },
   {
    "duration": 23,
    "start_time": "2021-08-05T19:00:21.885Z"
   },
   {
    "duration": 50,
    "start_time": "2021-08-05T19:00:21.911Z"
   },
   {
    "duration": 26,
    "start_time": "2021-08-05T19:00:21.964Z"
   },
   {
    "duration": 75,
    "start_time": "2021-08-05T19:00:21.993Z"
   },
   {
    "duration": 13292,
    "start_time": "2021-08-05T19:00:22.070Z"
   },
   {
    "duration": 15,
    "start_time": "2021-08-05T19:00:35.364Z"
   },
   {
    "duration": 43737,
    "start_time": "2021-08-05T19:00:35.384Z"
   },
   {
    "duration": 38,
    "start_time": "2021-08-05T19:01:19.125Z"
   },
   {
    "duration": 15,
    "start_time": "2021-08-05T19:01:19.165Z"
   },
   {
    "duration": 15,
    "start_time": "2021-08-05T19:01:19.182Z"
   },
   {
    "duration": 7,
    "start_time": "2021-08-05T19:01:19.199Z"
   },
   {
    "duration": 56,
    "start_time": "2021-08-05T19:01:19.209Z"
   },
   {
    "duration": 11,
    "start_time": "2021-08-05T19:01:19.267Z"
   },
   {
    "duration": 27,
    "start_time": "2021-08-05T19:01:19.281Z"
   },
   {
    "duration": 52,
    "start_time": "2021-08-05T19:01:19.311Z"
   },
   {
    "duration": 28,
    "start_time": "2021-08-05T19:01:19.365Z"
   },
   {
    "duration": 22,
    "start_time": "2021-08-05T19:01:19.395Z"
   },
   {
    "duration": 56,
    "start_time": "2021-08-05T19:01:19.420Z"
   },
   {
    "duration": 23,
    "start_time": "2021-08-05T19:01:19.478Z"
   },
   {
    "duration": 547,
    "start_time": "2021-08-06T06:18:45.016Z"
   },
   {
    "duration": 55,
    "start_time": "2021-08-06T06:18:45.565Z"
   },
   {
    "duration": 18,
    "start_time": "2021-08-06T06:18:45.622Z"
   },
   {
    "duration": 12,
    "start_time": "2021-08-06T06:18:45.641Z"
   },
   {
    "duration": 10,
    "start_time": "2021-08-06T06:18:45.654Z"
   },
   {
    "duration": 6,
    "start_time": "2021-08-06T06:18:45.686Z"
   },
   {
    "duration": 13,
    "start_time": "2021-08-06T06:18:45.694Z"
   },
   {
    "duration": 38,
    "start_time": "2021-08-06T06:18:45.709Z"
   },
   {
    "duration": 8,
    "start_time": "2021-08-06T06:18:45.749Z"
   },
   {
    "duration": 33,
    "start_time": "2021-08-06T06:18:45.759Z"
   },
   {
    "duration": 350,
    "start_time": "2021-08-06T06:18:45.793Z"
   },
   {
    "duration": 10,
    "start_time": "2021-08-06T06:18:46.144Z"
   },
   {
    "duration": 52,
    "start_time": "2021-08-06T06:18:46.156Z"
   },
   {
    "duration": 10,
    "start_time": "2021-08-06T06:18:46.209Z"
   },
   {
    "duration": 14,
    "start_time": "2021-08-06T06:18:46.220Z"
   },
   {
    "duration": 54,
    "start_time": "2021-08-06T06:18:46.236Z"
   },
   {
    "duration": 17,
    "start_time": "2021-08-06T06:18:46.292Z"
   },
   {
    "duration": 10,
    "start_time": "2021-08-06T06:18:46.310Z"
   },
   {
    "duration": 17,
    "start_time": "2021-08-06T06:18:46.321Z"
   },
   {
    "duration": 58,
    "start_time": "2021-08-06T06:18:46.339Z"
   },
   {
    "duration": 8653,
    "start_time": "2021-08-06T06:18:46.399Z"
   },
   {
    "duration": 11,
    "start_time": "2021-08-06T06:18:55.054Z"
   },
   {
    "duration": 27568,
    "start_time": "2021-08-06T06:18:55.068Z"
   },
   {
    "duration": 15,
    "start_time": "2021-08-06T06:19:22.638Z"
   },
   {
    "duration": 11,
    "start_time": "2021-08-06T06:19:22.655Z"
   },
   {
    "duration": 17,
    "start_time": "2021-08-06T06:19:22.686Z"
   },
   {
    "duration": 6,
    "start_time": "2021-08-06T06:19:22.705Z"
   },
   {
    "duration": 7,
    "start_time": "2021-08-06T06:19:22.713Z"
   },
   {
    "duration": 7,
    "start_time": "2021-08-06T06:19:22.722Z"
   },
   {
    "duration": 56,
    "start_time": "2021-08-06T06:19:22.731Z"
   },
   {
    "duration": 15,
    "start_time": "2021-08-06T06:19:22.791Z"
   },
   {
    "duration": 16,
    "start_time": "2021-08-06T06:19:22.808Z"
   },
   {
    "duration": 15,
    "start_time": "2021-08-06T06:19:22.825Z"
   },
   {
    "duration": 44,
    "start_time": "2021-08-06T06:19:22.842Z"
   },
   {
    "duration": 19,
    "start_time": "2021-08-06T06:19:22.889Z"
   },
   {
    "duration": 766,
    "start_time": "2021-08-06T17:55:30.372Z"
   },
   {
    "duration": 64,
    "start_time": "2021-08-06T17:55:31.141Z"
   },
   {
    "duration": 29,
    "start_time": "2021-08-06T17:55:31.208Z"
   },
   {
    "duration": 35,
    "start_time": "2021-08-06T17:55:31.239Z"
   },
   {
    "duration": 12,
    "start_time": "2021-08-06T17:55:31.276Z"
   },
   {
    "duration": 17,
    "start_time": "2021-08-06T17:55:31.291Z"
   },
   {
    "duration": 48,
    "start_time": "2021-08-06T17:55:31.310Z"
   },
   {
    "duration": 60,
    "start_time": "2021-08-06T17:55:31.362Z"
   },
   {
    "duration": 11,
    "start_time": "2021-08-06T17:55:31.426Z"
   },
   {
    "duration": 64,
    "start_time": "2021-08-06T17:55:31.440Z"
   },
   {
    "duration": 593,
    "start_time": "2021-08-06T17:55:31.506Z"
   },
   {
    "duration": 13,
    "start_time": "2021-08-06T17:55:32.101Z"
   },
   {
    "duration": 76,
    "start_time": "2021-08-06T17:55:32.116Z"
   },
   {
    "duration": 13,
    "start_time": "2021-08-06T17:55:32.194Z"
   },
   {
    "duration": 32,
    "start_time": "2021-08-06T17:55:32.210Z"
   },
   {
    "duration": 37,
    "start_time": "2021-08-06T17:55:32.257Z"
   },
   {
    "duration": 25,
    "start_time": "2021-08-06T17:55:32.297Z"
   },
   {
    "duration": 14,
    "start_time": "2021-08-06T17:55:32.357Z"
   },
   {
    "duration": 39,
    "start_time": "2021-08-06T17:55:32.374Z"
   },
   {
    "duration": 58,
    "start_time": "2021-08-06T17:55:32.415Z"
   },
   {
    "duration": 12947,
    "start_time": "2021-08-06T17:55:32.476Z"
   },
   {
    "duration": 36,
    "start_time": "2021-08-06T17:55:45.426Z"
   },
   {
    "duration": 40804,
    "start_time": "2021-08-06T17:55:45.469Z"
   },
   {
    "duration": 23,
    "start_time": "2021-08-06T17:56:26.276Z"
   },
   {
    "duration": 14,
    "start_time": "2021-08-06T17:56:26.302Z"
   },
   {
    "duration": 15,
    "start_time": "2021-08-06T17:56:26.318Z"
   },
   {
    "duration": 8,
    "start_time": "2021-08-06T17:56:26.335Z"
   },
   {
    "duration": 10,
    "start_time": "2021-08-06T17:56:26.355Z"
   },
   {
    "duration": 11,
    "start_time": "2021-08-06T17:56:26.367Z"
   },
   {
    "duration": 28,
    "start_time": "2021-08-06T17:56:26.381Z"
   },
   {
    "duration": 18,
    "start_time": "2021-08-06T17:56:26.411Z"
   },
   {
    "duration": 50,
    "start_time": "2021-08-06T17:56:26.432Z"
   },
   {
    "duration": 21,
    "start_time": "2021-08-06T17:56:26.485Z"
   },
   {
    "duration": 22,
    "start_time": "2021-08-06T17:56:26.509Z"
   },
   {
    "duration": 22,
    "start_time": "2021-08-06T17:56:26.534Z"
   },
   {
    "duration": 21,
    "start_time": "2021-08-06T18:27:25.997Z"
   },
   {
    "duration": 25,
    "start_time": "2021-08-06T18:40:06.964Z"
   },
   {
    "duration": 49,
    "start_time": "2021-08-06T18:40:16.427Z"
   },
   {
    "duration": 34,
    "start_time": "2021-08-06T18:42:17.384Z"
   },
   {
    "duration": 16,
    "start_time": "2021-08-06T18:47:43.687Z"
   },
   {
    "duration": 23,
    "start_time": "2021-08-06T18:47:55.969Z"
   },
   {
    "duration": 384,
    "start_time": "2021-08-06T18:49:53.795Z"
   },
   {
    "duration": 39,
    "start_time": "2021-08-06T18:54:09.126Z"
   },
   {
    "duration": 34,
    "start_time": "2021-08-06T18:56:13.762Z"
   },
   {
    "duration": 42,
    "start_time": "2021-08-06T18:56:30.577Z"
   },
   {
    "duration": 37,
    "start_time": "2021-08-06T19:09:55.574Z"
   },
   {
    "duration": 732,
    "start_time": "2021-08-06T19:21:26.320Z"
   },
   {
    "duration": 67,
    "start_time": "2021-08-06T19:21:27.054Z"
   },
   {
    "duration": 32,
    "start_time": "2021-08-06T19:21:27.124Z"
   },
   {
    "duration": 17,
    "start_time": "2021-08-06T19:21:27.159Z"
   },
   {
    "duration": 14,
    "start_time": "2021-08-06T19:21:27.178Z"
   },
   {
    "duration": 8,
    "start_time": "2021-08-06T19:21:27.194Z"
   },
   {
    "duration": 60,
    "start_time": "2021-08-06T19:21:27.204Z"
   },
   {
    "duration": 67,
    "start_time": "2021-08-06T19:21:27.267Z"
   },
   {
    "duration": 24,
    "start_time": "2021-08-06T19:21:27.337Z"
   },
   {
    "duration": 11,
    "start_time": "2021-08-06T19:21:27.363Z"
   },
   {
    "duration": 601,
    "start_time": "2021-08-06T19:21:27.376Z"
   },
   {
    "duration": 12,
    "start_time": "2021-08-06T19:21:27.980Z"
   },
   {
    "duration": 87,
    "start_time": "2021-08-06T19:21:27.994Z"
   },
   {
    "duration": 12,
    "start_time": "2021-08-06T19:21:28.083Z"
   },
   {
    "duration": 18,
    "start_time": "2021-08-06T19:21:28.097Z"
   },
   {
    "duration": 56,
    "start_time": "2021-08-06T19:21:28.117Z"
   },
   {
    "duration": 23,
    "start_time": "2021-08-06T19:21:28.175Z"
   },
   {
    "duration": 19,
    "start_time": "2021-08-06T19:21:28.200Z"
   },
   {
    "duration": 57,
    "start_time": "2021-08-06T19:21:28.221Z"
   },
   {
    "duration": 42,
    "start_time": "2021-08-06T19:21:28.280Z"
   },
   {
    "duration": 12822,
    "start_time": "2021-08-06T19:21:28.324Z"
   },
   {
    "duration": 19,
    "start_time": "2021-08-06T19:21:41.157Z"
   },
   {
    "duration": 40319,
    "start_time": "2021-08-06T19:21:41.184Z"
   },
   {
    "duration": 22,
    "start_time": "2021-08-06T19:22:21.506Z"
   },
   {
    "duration": 31,
    "start_time": "2021-08-06T19:22:21.531Z"
   },
   {
    "duration": 35,
    "start_time": "2021-08-06T19:22:21.564Z"
   },
   {
    "duration": 21,
    "start_time": "2021-08-06T19:22:21.601Z"
   },
   {
    "duration": 15,
    "start_time": "2021-08-06T19:22:21.624Z"
   },
   {
    "duration": 18,
    "start_time": "2021-08-06T19:22:21.642Z"
   },
   {
    "duration": 15,
    "start_time": "2021-08-06T19:22:21.663Z"
   },
   {
    "duration": 39,
    "start_time": "2021-08-06T19:22:21.681Z"
   },
   {
    "duration": 64,
    "start_time": "2021-08-06T19:22:21.722Z"
   },
   {
    "duration": 36,
    "start_time": "2021-08-06T19:22:21.789Z"
   },
   {
    "duration": 37,
    "start_time": "2021-08-06T19:22:21.855Z"
   },
   {
    "duration": 392,
    "start_time": "2021-08-07T09:55:53.049Z"
   },
   {
    "duration": 750,
    "start_time": "2021-08-07T09:55:59.972Z"
   },
   {
    "duration": 68,
    "start_time": "2021-08-07T09:56:00.724Z"
   },
   {
    "duration": 28,
    "start_time": "2021-08-07T09:56:00.795Z"
   },
   {
    "duration": 23,
    "start_time": "2021-08-07T09:56:00.826Z"
   },
   {
    "duration": 19,
    "start_time": "2021-08-07T09:56:00.856Z"
   },
   {
    "duration": 9,
    "start_time": "2021-08-07T09:56:00.878Z"
   },
   {
    "duration": 25,
    "start_time": "2021-08-07T09:56:00.890Z"
   },
   {
    "duration": 97,
    "start_time": "2021-08-07T09:56:00.919Z"
   },
   {
    "duration": 11,
    "start_time": "2021-08-07T09:56:01.019Z"
   },
   {
    "duration": 31,
    "start_time": "2021-08-07T09:56:01.033Z"
   },
   {
    "duration": 646,
    "start_time": "2021-08-07T09:56:01.068Z"
   },
   {
    "duration": 12,
    "start_time": "2021-08-07T09:56:01.717Z"
   },
   {
    "duration": 83,
    "start_time": "2021-08-07T09:56:01.732Z"
   },
   {
    "duration": 12,
    "start_time": "2021-08-07T09:56:01.817Z"
   },
   {
    "duration": 48,
    "start_time": "2021-08-07T09:56:01.831Z"
   },
   {
    "duration": 52,
    "start_time": "2021-08-07T09:56:01.882Z"
   },
   {
    "duration": 36,
    "start_time": "2021-08-07T09:56:01.937Z"
   },
   {
    "duration": 11,
    "start_time": "2021-08-07T09:56:01.975Z"
   },
   {
    "duration": 50,
    "start_time": "2021-08-07T09:56:01.989Z"
   },
   {
    "duration": 61,
    "start_time": "2021-08-07T09:56:02.042Z"
   },
   {
    "duration": 13023,
    "start_time": "2021-08-07T09:56:02.106Z"
   },
   {
    "duration": 32,
    "start_time": "2021-08-07T09:56:15.133Z"
   },
   {
    "duration": 42812,
    "start_time": "2021-08-07T09:56:15.170Z"
   },
   {
    "duration": 22,
    "start_time": "2021-08-07T09:56:57.985Z"
   },
   {
    "duration": 16,
    "start_time": "2021-08-07T09:56:58.009Z"
   },
   {
    "duration": 49,
    "start_time": "2021-08-07T09:56:58.028Z"
   },
   {
    "duration": 10,
    "start_time": "2021-08-07T09:56:58.080Z"
   },
   {
    "duration": 11,
    "start_time": "2021-08-07T09:56:58.093Z"
   },
   {
    "duration": 12,
    "start_time": "2021-08-07T09:56:58.107Z"
   },
   {
    "duration": 19,
    "start_time": "2021-08-07T09:56:58.161Z"
   },
   {
    "duration": 39,
    "start_time": "2021-08-07T09:56:58.183Z"
   },
   {
    "duration": 61,
    "start_time": "2021-08-07T09:56:58.224Z"
   },
   {
    "duration": 41,
    "start_time": "2021-08-07T09:56:58.288Z"
   },
   {
    "duration": 61,
    "start_time": "2021-08-07T09:56:58.331Z"
   },
   {
    "duration": 35,
    "start_time": "2021-08-07T09:58:14.279Z"
   }
  ],
  "kernelspec": {
   "display_name": "Python 3",
   "language": "python",
   "name": "python3"
  },
  "language_info": {
   "codemirror_mode": {
    "name": "ipython",
    "version": 3
   },
   "file_extension": ".py",
   "mimetype": "text/x-python",
   "name": "python",
   "nbconvert_exporter": "python",
   "pygments_lexer": "ipython3",
   "version": "3.8.8"
  },
  "toc": {
   "base_numbering": 1,
   "nav_menu": {},
   "number_sections": true,
   "sideBar": true,
   "skip_h1_title": true,
   "title_cell": "Table of Contents",
   "title_sidebar": "Contents",
   "toc_cell": false,
   "toc_position": {},
   "toc_section_display": true,
   "toc_window_display": true
  }
 },
 "nbformat": 4,
 "nbformat_minor": 2
}
